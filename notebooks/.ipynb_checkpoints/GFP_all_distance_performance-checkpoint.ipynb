{
 "cells": [
  {
   "cell_type": "code",
   "execution_count": 39,
   "id": "42df98a6-aa6a-406b-9581-44a17bd58570",
   "metadata": {
    "tags": []
   },
   "outputs": [],
   "source": [
    "# results_path = \"/blue/juannanzhou/palash.sethi/Projects/ProteinLLE_v2/output/240319_Somermeyer2022_cgreGFP_20.0%_rep_0/\"\n",
    "# results_path = \"/blue/juannanzhou/ProteinLLE/output/hd_Sinai2021_80.0%_rep_1/\"\n",
    "# results_path = \"/blue/juannanzhou/palash.sethi/Projects/ProteinLLE_v2/output/240315_Faure2023_1_lenient_20.0%_rep_1/\"\n",
    "# results_path = \"/blue/juannanzhou/palash.sethi/Projects/ProteinLLE_v2/output/test_GFP_Somermeyer2022_amacGFP_20.0%_rep_0/\"\n",
    "results_path = \"../output/GFP20k_Somermeyer2022_4GFP_80.0%_rep_1/\"\n",
    "\n",
    "source_path = \"../\"\n",
    "data_path = \"../Data/Data_prepared/\"\n",
    "\n",
    "# data_name = \"Somermeyer2022_cgreGFP\"\n",
    "# data_name = \"Sinai2021\"\n",
    "# data_name = \"Faure2023_1_lenient\"\n",
    "\n",
    "data_name = \"Somermeyer2022_4GFP\"\n",
    "\n",
    "device = 'cuda:0'"
   ]
  },
  {
   "cell_type": "code",
   "execution_count": 29,
   "id": "0eb2eaf7-a834-4be4-a675-0d0c97af1e28",
   "metadata": {
    "tags": []
   },
   "outputs": [],
   "source": [
    "import os\n",
    "import sys\n",
    "import shutil\n",
    "import csv\n",
    "import numpy as np\n",
    "import math\n",
    "import json\n",
    "import pickle\n",
    "from functools import partial\n",
    "import random as rd\n",
    "import pandas as pd\n",
    "import matplotlib.pyplot as plt\n",
    "# import GPUtil\n",
    "from scipy.stats import pearsonr\n",
    "import optuna\n",
    "import torch\n",
    "import torch.nn as nn\n",
    "import torch.optim as optim\n",
    "import torch.utils.data as data\n",
    "import gc\n",
    "import random\n",
    "sys.path.append(source_path + 'model')\n",
    "from utils import amino_acid_to_number, tokenize, Tee\n",
    "from functions import get_A2N_list, tokenize, make_train_val_test_lists_rand, prepare_data\n",
    "from models import make_predictions, ProtDataset, Transformer_2k, LinearModel"
   ]
  },
  {
   "cell_type": "code",
   "execution_count": 30,
   "id": "35c4a806-05d4-44e5-be7e-70fed750aa0c",
   "metadata": {
    "tags": []
   },
   "outputs": [],
   "source": [
    "in_path = data_path + data_name + \".csv\"\n",
    "datafile = pd.read_csv(in_path, index_col=None)\n",
    "phenotypes, seqs, seqs1h = prepare_data(datafile)\n",
    "n, L, AA_size = seqs1h.shape"
   ]
  },
  {
   "cell_type": "code",
   "execution_count": 31,
   "id": "ea63a110-a167-4987-81cd-784f5590febe",
   "metadata": {
    "tags": []
   },
   "outputs": [],
   "source": [
    "seqs_ex = seqs + AA_size*torch.tensor(range(L))\n",
    "X = seqs_ex.to(device)\n",
    "y = phenotypes.to(device)"
   ]
  },
  {
   "cell_type": "code",
   "execution_count": 40,
   "id": "5cb3dfc6-d76c-4be8-8946-af0a711daf65",
   "metadata": {
    "tags": []
   },
   "outputs": [],
   "source": [
    "# with open(results_path + \"test_list.pkl\", 'rb') as file:\n",
    "#     test_list = pickle.load(file)\n",
    "\n",
    "with open(results_path + \"train_list.pkl\", 'rb') as file:\n",
    "    train_list = pickle.load(file)"
   ]
  },
  {
   "cell_type": "code",
   "execution_count": 72,
   "id": "fe35c541-0910-4b79-8de2-8fdb763171bd",
   "metadata": {
    "tags": []
   },
   "outputs": [],
   "source": [
    "comp_list = np.where(np.array(datafile.hd == 4))[0]"
   ]
  },
  {
   "cell_type": "code",
   "execution_count": 73,
   "id": "93844f13-0e4f-4223-aee8-ba1d3b2e9a9a",
   "metadata": {
    "tags": []
   },
   "outputs": [
    {
     "name": "stdout",
     "output_type": "stream",
     "text": [
      "23222\n"
     ]
    }
   ],
   "source": [
    "print(len(comp_list))"
   ]
  },
  {
   "cell_type": "code",
   "execution_count": 74,
   "id": "af9e5d01-2d43-403b-af1f-a54adadd89f8",
   "metadata": {
    "tags": []
   },
   "outputs": [],
   "source": [
    "test_list = random.sample(list(comp_list), 5000)"
   ]
  },
  {
   "cell_type": "code",
   "execution_count": 75,
   "id": "ecb1024d-aaf3-49dc-adbd-c46667f336a6",
   "metadata": {
    "tags": []
   },
   "outputs": [],
   "source": [
    "X_test, y_test = X[test_list], y[test_list]\n",
    "test_dataset = ProtDataset(X_test, y_test)\n",
    "test_loader = data.DataLoader(test_dataset,\n",
    "                            batch_size=500,\n",
    "                            shuffle=False,\n",
    "                            drop_last=False)"
   ]
  },
  {
   "cell_type": "code",
   "execution_count": 79,
   "id": "b467ec10-b759-4464-aaa9-908cd8cb94ea",
   "metadata": {
    "tags": []
   },
   "outputs": [],
   "source": [
    "model_best = torch.load(results_path + \"TF_2_BestModel\")"
   ]
  },
  {
   "cell_type": "code",
   "execution_count": 82,
   "id": "3bdcb2ed-2efe-4c32-a221-a70e0934e8db",
   "metadata": {
    "tags": []
   },
   "outputs": [],
   "source": [
    "# pred = []\n",
    "# with torch.no_grad():\n",
    "\n",
    "#     for batch_input in test_loader:\n",
    "#         y_hat = model_best(batch_input[0])\n",
    "#         y_hat = y_hat.cpu().numpy().flatten()\n",
    "#         pred.append(y_hat)"
   ]
  },
  {
   "cell_type": "code",
   "execution_count": 81,
   "id": "f164fc70-d6c8-4de8-aa8b-fd360757730d",
   "metadata": {
    "tags": []
   },
   "outputs": [
    {
     "data": {
      "text/plain": [
       "0.749811456702151"
      ]
     },
     "execution_count": 81,
     "metadata": {},
     "output_type": "execute_result"
    }
   ],
   "source": [
    "model_best.eval()\n",
    "\n",
    "pred, true = make_predictions(model_best, test_loader)\n",
    "\n",
    "pearsonr(pred, true)[0]**2"
   ]
  },
  {
   "cell_type": "code",
   "execution_count": 87,
   "id": "9cf12875-8e07-4f6c-a9d6-c02a5fd251ee",
   "metadata": {
    "tags": []
   },
   "outputs": [],
   "source": [
    "r_results = {}\n",
    "for d in [3, 4, 5, 6]:\n",
    "    r_list = {}\n",
    "    comp_list = np.where(np.array(datafile.hd == d))[0]\n",
    "\n",
    "    test_list = random.sample(list(comp_list), 5000)\n",
    "\n",
    "    X_test, y_test = X[test_list], y[test_list]\n",
    "    test_dataset = ProtDataset(X_test, y_test)\n",
    "    test_loader = data.DataLoader(test_dataset,\n",
    "                                batch_size=500,\n",
    "                                shuffle=False,\n",
    "                                drop_last=False)\n",
    "\n",
    "    for model_name  in [\"TF_1_BestModel\", \"TF_2_BestModel\", \"TF_3_BestModel\"]:\n",
    "        model_best = torch.load(results_path + model_name)\n",
    "\n",
    "        pred = []\n",
    "        pred, true = make_predictions(model_best, test_loader)\n",
    "        r = pearsonr(pred, true)[0]**2\n",
    "        r_list[model_name] = r\n",
    "    r_results[d] = r_list"
   ]
  },
  {
   "cell_type": "code",
   "execution_count": 88,
   "id": "a6bff79e-738b-4929-a41a-99c28a389b32",
   "metadata": {
    "tags": []
   },
   "outputs": [
    {
     "data": {
      "text/html": [
       "<div>\n",
       "<style scoped>\n",
       "    .dataframe tbody tr th:only-of-type {\n",
       "        vertical-align: middle;\n",
       "    }\n",
       "\n",
       "    .dataframe tbody tr th {\n",
       "        vertical-align: top;\n",
       "    }\n",
       "\n",
       "    .dataframe thead th {\n",
       "        text-align: right;\n",
       "    }\n",
       "</style>\n",
       "<table border=\"1\" class=\"dataframe\">\n",
       "  <thead>\n",
       "    <tr style=\"text-align: right;\">\n",
       "      <th></th>\n",
       "      <th>3</th>\n",
       "      <th>4</th>\n",
       "      <th>5</th>\n",
       "      <th>6</th>\n",
       "    </tr>\n",
       "  </thead>\n",
       "  <tbody>\n",
       "    <tr>\n",
       "      <th>TF_1_BestModel</th>\n",
       "      <td>0.788087</td>\n",
       "      <td>0.715547</td>\n",
       "      <td>0.590521</td>\n",
       "      <td>0.441647</td>\n",
       "    </tr>\n",
       "    <tr>\n",
       "      <th>TF_2_BestModel</th>\n",
       "      <td>0.798248</td>\n",
       "      <td>0.731710</td>\n",
       "      <td>0.614655</td>\n",
       "      <td>0.470878</td>\n",
       "    </tr>\n",
       "    <tr>\n",
       "      <th>TF_3_BestModel</th>\n",
       "      <td>0.782518</td>\n",
       "      <td>0.715995</td>\n",
       "      <td>0.601967</td>\n",
       "      <td>0.452276</td>\n",
       "    </tr>\n",
       "  </tbody>\n",
       "</table>\n",
       "</div>"
      ],
      "text/plain": [
       "                       3         4         5         6\n",
       "TF_1_BestModel  0.788087  0.715547  0.590521  0.441647\n",
       "TF_2_BestModel  0.798248  0.731710  0.614655  0.470878\n",
       "TF_3_BestModel  0.782518  0.715995  0.601967  0.452276"
      ]
     },
     "execution_count": 88,
     "metadata": {},
     "output_type": "execute_result"
    }
   ],
   "source": [
    "pd.DataFrame(r_results)"
   ]
  },
  {
   "cell_type": "code",
   "execution_count": null,
   "id": "c816e454-f6ca-4e15-a828-3e7a91cdf802",
   "metadata": {},
   "outputs": [],
   "source": []
  },
  {
   "cell_type": "code",
   "execution_count": null,
   "id": "a642d2c3-a178-459a-ac98-71eb0dbe840d",
   "metadata": {},
   "outputs": [],
   "source": []
  },
  {
   "cell_type": "code",
   "execution_count": null,
   "id": "1e07bfe9-3c90-4836-9da4-7d50260145e7",
   "metadata": {},
   "outputs": [],
   "source": []
  },
  {
   "cell_type": "code",
   "execution_count": null,
   "id": "3778207f-ff20-4bdd-8515-df093ee3227e",
   "metadata": {},
   "outputs": [],
   "source": []
  },
  {
   "cell_type": "code",
   "execution_count": null,
   "id": "3affcc4e-612e-40c4-ae4e-736c15e53a64",
   "metadata": {},
   "outputs": [],
   "source": []
  },
  {
   "cell_type": "markdown",
   "id": "d1115bcc-8790-484c-98fc-8fa50b658030",
   "metadata": {},
   "source": [
    "#### avGFP"
   ]
  },
  {
   "cell_type": "code",
   "execution_count": 16,
   "id": "edd60e4b-0ebe-4eaa-a92b-bbc82502c10e",
   "metadata": {
    "tags": []
   },
   "outputs": [],
   "source": [
    "in_path = data_path + data_name + \".csv\"\n",
    "datafile_ = pd.read_csv(in_path, index_col=None)"
   ]
  },
  {
   "cell_type": "code",
   "execution_count": 17,
   "id": "9345b1b6-bf6d-4cee-9800-dc293ddb4f0e",
   "metadata": {
    "tags": []
   },
   "outputs": [],
   "source": [
    "in_path = data_path + \"Somermeyer2022_amacGFP\" + \".csv\"\n",
    "datafile = pd.read_csv(in_path, index_col=None)"
   ]
  },
  {
   "cell_type": "code",
   "execution_count": 20,
   "id": "127eab42-17a8-477f-a8b8-e305a7f84d9b",
   "metadata": {
    "tags": []
   },
   "outputs": [],
   "source": [
    "datafile = pd.concat([datafile_, datafile], axis=0)"
   ]
  },
  {
   "cell_type": "code",
   "execution_count": 21,
   "id": "741af2c7-a6a2-4dcb-8700-04e782bcecec",
   "metadata": {
    "tags": []
   },
   "outputs": [],
   "source": [
    "phenotypes, seqs, seqs1h = prepare_data(datafile)\n",
    "n, L, AA_size = seqs1h.shape"
   ]
  },
  {
   "cell_type": "code",
   "execution_count": 13,
   "id": "07e93b6c-db1e-42e4-a57c-b41af7ae183c",
   "metadata": {
    "tags": []
   },
   "outputs": [],
   "source": [
    "seqs_ex = seqs + AA_size*torch.tensor(range(L))\n",
    "X = seqs_ex.to(device)\n",
    "y = phenotypes.to(device)"
   ]
  },
  {
   "cell_type": "code",
   "execution_count": 8,
   "id": "8a402ef5-b873-473e-902c-39890f655c09",
   "metadata": {
    "tags": []
   },
   "outputs": [],
   "source": [
    "with open(results_path + \"test_list.pkl\", 'rb') as file:\n",
    "    test_list = pickle.load(file)"
   ]
  },
  {
   "cell_type": "code",
   "execution_count": 9,
   "id": "4154de51-bf40-455e-b2f4-0208eb0a5a6c",
   "metadata": {
    "tags": []
   },
   "outputs": [],
   "source": [
    "model_best = torch.load(results_path + \"TF_2_BestModel\")"
   ]
  },
  {
   "cell_type": "code",
   "execution_count": 24,
   "id": "a81fe689-5e07-4bcd-aec6-a22202e4b45a",
   "metadata": {
    "tags": []
   },
   "outputs": [],
   "source": [
    "# X_test, y_test = X[test_list], y[test_list]\n",
    "# test_dataset = ProtDataset(X_test, y_test)\n",
    "# test_loader = data.DataLoader(test_dataset,\n",
    "#                             batch_size=500,\n",
    "#                             shuffle=False,\n",
    "#                             drop_last=False)"
   ]
  },
  {
   "cell_type": "code",
   "execution_count": 25,
   "id": "45dc6ba6-28d1-4b3b-a12e-db80658b282b",
   "metadata": {
    "tags": []
   },
   "outputs": [],
   "source": [
    "# pred = []\n",
    "# with torch.no_grad():\n",
    "\n",
    "#     for batch_input in test_loader:\n",
    "#         y_hat = model_best(batch_input[0])\n",
    "#         y_hat = y_hat.cpu().numpy().flatten()\n",
    "#         pred.append(y_hat)"
   ]
  },
  {
   "cell_type": "code",
   "execution_count": 9,
   "id": "867b822e-2f89-4cfc-95a7-6fde1d4649a0",
   "metadata": {
    "tags": []
   },
   "outputs": [
    {
     "data": {
      "text/plain": [
       "0.7589819574776017"
      ]
     },
     "execution_count": 9,
     "metadata": {},
     "output_type": "execute_result"
    }
   ],
   "source": [
    "model_best.eval()\n",
    "\n",
    "pred, true = make_predictions(model_best, test_loader)\n",
    "\n",
    "pearsonr(pred, true)[0]**2"
   ]
  }
 ],
 "metadata": {
  "kernelspec": {
   "display_name": "PyTorch-2.2.0",
   "language": "python",
   "name": "pytorch-2.2.0"
  },
  "language_info": {
   "codemirror_mode": {
    "name": "ipython",
    "version": 3
   },
   "file_extension": ".py",
   "mimetype": "text/x-python",
   "name": "python",
   "nbconvert_exporter": "python",
   "pygments_lexer": "ipython3",
   "version": "3.10.13"
  }
 },
 "nbformat": 4,
 "nbformat_minor": 5
}
