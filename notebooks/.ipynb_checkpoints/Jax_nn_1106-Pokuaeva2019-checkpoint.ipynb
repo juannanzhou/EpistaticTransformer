{
 "cells": [
  {
   "cell_type": "code",
   "execution_count": 1,
   "id": "69e1e56b-c4f1-431f-857b-fdecf5db77e8",
   "metadata": {
    "tags": []
   },
   "outputs": [
    {
     "name": "stderr",
     "output_type": "stream",
     "text": [
      "2023-12-08 07:58:27.567224: W external/xla/xla/service/gpu/nvptx_compiler.cc:673] The NVIDIA driver's CUDA version is 12.2 which is older than the ptxas CUDA version (12.3.52). Because the driver is older than the ptxas version, XLA is disabling parallel compilation, which may slow down compilation. You should update your NVIDIA driver or use the NVIDIA-provided CUDA forward compatibility packages.\n",
      "2023-12-08 07:58:46.597612: W tensorflow/compiler/tf2tensorrt/utils/py_utils.cc:38] TF-TRT Warning: Could not find TensorRT\n"
     ]
    },
    {
     "name": "stdout",
     "output_type": "stream",
     "text": [
      "Device: cuda:0\n"
     ]
    }
   ],
   "source": [
    "## Standard libraries\n",
    "import os\n",
    "import numpy as np\n",
    "import math\n",
    "import json\n",
    "from functools import partial\n",
    "\n",
    "\n",
    "## JAX\n",
    "import jax\n",
    "import jax.numpy as jnp\n",
    "from jax import random\n",
    "# Seeding for random operations\n",
    "main_rng = random.PRNGKey(42)\n",
    "\n",
    "## Flax (NN in JAX)\n",
    "import flax\n",
    "from flax import linen as nn\n",
    "from flax.training import train_state, checkpoints\n",
    "\n",
    "## Optax (Optimizers in JAX)\n",
    "import optax\n",
    "\n",
    "print(\"Device:\", jax.devices()[0])"
   ]
  },
  {
   "cell_type": "code",
   "execution_count": 2,
   "id": "593094d4-c911-4539-abe2-5847af52c103",
   "metadata": {
    "tags": []
   },
   "outputs": [],
   "source": [
    "import pandas as pd\n",
    "import numpy as np\n",
    "import matplotlib.pyplot as plt\n",
    "import torch\n",
    "import GPUtil\n",
    "import torch\n",
    "\n",
    "# gpus = GPUtil.getGPUs() \n",
    "\n",
    "# torch.cuda.is_available()\n",
    "# num_cuda_devices = torch.cuda.device_count()\n",
    "\n",
    "# for i in range(num_cuda_devices):\n",
    "#     print(f\"CUDA Device {i}: {torch.cuda.get_device_name(i)}\")\n",
    "    \n",
    "# devices = [i for i in range(num_cuda_devices)]\n",
    "# device = devices[0]\n",
    "\n",
    "# import os\n",
    "# import GPUtil\n",
    "# import importlib\n",
    "\n",
    "# def sgpu():\n",
    "#     GPUtil.showUtilization()\n",
    "\n",
    "# sgpu()"
   ]
  },
  {
   "cell_type": "code",
   "execution_count": 3,
   "id": "a335027c-6a3f-4862-9479-f670bedfcc92",
   "metadata": {
    "tags": []
   },
   "outputs": [],
   "source": [
    "amino_acid_to_number = {'A': 0,\n",
    "     'R': 1,\n",
    "     'N': 2,\n",
    "     'D': 3,\n",
    "     'C': 4,\n",
    "     'E': 5,\n",
    "     'Q': 6,\n",
    "     'G': 7,\n",
    "     'H': 8,\n",
    "     'I': 9,\n",
    "     'L': 10,\n",
    "     'K': 11,\n",
    "     'M': 12,\n",
    "     'F': 13,\n",
    "     'P': 14,\n",
    "     'S': 15,\n",
    "     'T': 16,\n",
    "     'W': 17,\n",
    "     'Y': 18,\n",
    "     'V': 19, \n",
    "     '_': 20                  \n",
    "       }\n",
    "\n",
    "def tokenize(seq):\n",
    "    numeric_sequence = [amino_acid_to_number[aa] for aa in seq]\n",
    "    return numeric_sequence"
   ]
  },
  {
   "cell_type": "code",
   "execution_count": 4,
   "id": "4462e1d6-7fe8-44cb-bf4c-9813dc834843",
   "metadata": {
    "tags": []
   },
   "outputs": [],
   "source": [
    "summary_files = pd.read_csv(\"ProteinGym_reference_file_substitutions.csv\")\n",
    "\n",
    "summary_files = summary_files.set_index(\"DMS_id\")\n",
    "\n",
    "study_ids = [\"CAPSD_AAV2S_Sinai_substitutions_2021\", \"F7YBW8_MESOW_Aakre_2015\", \n",
    " \"GCN4_YEAST_Staller_induction_2018\", \"GFP_AEQVI_Sarkisyan_2016\", \"HIS7_YEAST_Pokusaeva_2019\"]\n",
    "\n",
    "ID = \"HIS7_YEAST_Pokusaeva_2019\"\n",
    "\n",
    "filename = summary_files.loc[ID].DMS_filename\n",
    "\n",
    "datafile = pd.read_csv(\"ProteinGym_substitutions/\" + filename)"
   ]
  },
  {
   "cell_type": "code",
   "execution_count": 5,
   "id": "c2a1e303-671f-4fe7-9416-45d141ae9eb7",
   "metadata": {
    "tags": []
   },
   "outputs": [],
   "source": [
    "# Pokusaeva 2019\n",
    "path = \"Data/HIS3InterspeciesEpistasis/Data/S5_scaled_info_v2.csv\"\n",
    "datafile = pd.read_csv(path, sep='\\t')\n",
    "new_column_names = {'aa_seq': 'mutated_sequence', 's_original': 'DMS_score'}\n",
    "datafile.rename(columns=new_column_names, inplace=True)"
   ]
  },
  {
   "cell_type": "code",
   "execution_count": 7,
   "id": "462da0b3-6c72-43c3-810b-4ae401e457f7",
   "metadata": {
    "tags": []
   },
   "outputs": [
    {
     "data": {
      "text/plain": [
       "31    92408\n",
       "32     6444\n",
       "30      751\n",
       "29      145\n",
       "28       69\n",
       "33       43\n",
       "27       17\n",
       "34        3\n",
       "36        3\n",
       "25        2\n",
       "26        2\n",
       "24        2\n",
       "17        1\n",
       "23        1\n",
       "Name: length, dtype: int64"
      ]
     },
     "execution_count": 7,
     "metadata": {},
     "output_type": "execute_result"
    }
   ],
   "source": [
    "lens = np.array([len(seq) for seq in datafile.mutated_sequence])\n",
    "datafile['length'] = [len(seq) for seq in datafile.mutated_sequence]\n",
    "datafile.length.value_counts()"
   ]
  },
  {
   "cell_type": "code",
   "execution_count": 8,
   "id": "762399f9-2035-4383-b137-5839bbfaf841",
   "metadata": {
    "tags": []
   },
   "outputs": [],
   "source": [
    "datafile = datafile[datafile.length == 31]"
   ]
  },
  {
   "cell_type": "code",
   "execution_count": 10,
   "id": "6bd8ac8b-123f-49a7-ac75-dc9d6d2768c8",
   "metadata": {
    "tags": []
   },
   "outputs": [
    {
     "data": {
      "image/png": "[encoded data removed]",
      "text/plain": [
       "<Figure size 432x288 with 1 Axes>"
      ]
     },
     "metadata": {
      "needs_background": "light"
     },
     "output_type": "display_data"
    }
   ],
   "source": [
    "# n_mutants = np.array([mutant.count(\":\") for mutant in datafile.mutant]) + 1\n",
    "# datafile['hd'] = n_mutants\n",
    "# plt.hist(n_mutants, bins=20)\n",
    "# plt.show()\n",
    "# print(f\"number of mutants HD>5 = {np.sum(n_mutants > 5)}\")\n",
    "\n",
    "# # Fitness vs. Hamming distance\n",
    "\n",
    "# plt.scatter(datafile['hd'], datafile['DMS_score'])\n",
    "# plt.show()\n",
    "\n",
    "plt.hist(datafile.DMS_score, bins=20)\n",
    "plt.show()"
   ]
  },
  {
   "cell_type": "code",
   "execution_count": 15,
   "id": "76dc829e-cb7b-4124-98c0-98a8c5c081d6",
   "metadata": {
    "tags": []
   },
   "outputs": [],
   "source": [
    "seqs_tokenized = [tokenize(seq) for seq in datafile.mutated_sequence]\n",
    "seqs = torch.tensor(seqs_tokenized)\n",
    "\n",
    "L = len(seqs[0])\n",
    "AA_size = 21\n",
    "\n",
    "phenotypes = torch.tensor(list(datafile.DMS_score)).float()"
   ]
  },
  {
   "cell_type": "code",
   "execution_count": 16,
   "id": "6aedc8c4-5165-4460-9d8c-6e874cb5d360",
   "metadata": {
    "tags": []
   },
   "outputs": [],
   "source": [
    "seqs_df = pd.DataFrame(seqs.cpu().numpy())"
   ]
  },
  {
   "cell_type": "code",
   "execution_count": 18,
   "id": "5e385654-d460-49d2-99dd-433f74b11d1e",
   "metadata": {
    "tags": []
   },
   "outputs": [
    {
     "data": {
      "image/png": "[encoded data removed]",
      "text/plain": [
       "<Figure size 432x288 with 1 Axes>"
      ]
     },
     "metadata": {
      "needs_background": "light"
     },
     "output_type": "display_data"
    }
   ],
   "source": [
    "# Find variable sites\n",
    "\n",
    "counts = {i: seqs_df[i].value_counts() for i in range(seqs_df.shape[1])}\n",
    "\n",
    "n_aas = [len(counts[i]) for i in range(len(counts))]\n",
    "sites_var = np.where(np.array(n_aas) != 1)\n",
    "\n",
    "plt.plot(n_aas)\n",
    "plt.show()"
   ]
  },
  {
   "cell_type": "code",
   "execution_count": 20,
   "id": "b49a85f7-54ae-41ed-9a6f-c3cdc031fc89",
   "metadata": {
    "tags": []
   },
   "outputs": [],
   "source": [
    "seqs = seqs.cpu()\n",
    "seqs = seqs[:, sites_var].squeeze(1)\n",
    "L = seqs.shape[1]"
   ]
  },
  {
   "cell_type": "code",
   "execution_count": 21,
   "id": "57aa384f-e7dd-4712-835d-14033a71b7bf",
   "metadata": {
    "tags": []
   },
   "outputs": [
    {
     "name": "stdout",
     "output_type": "stream",
     "text": [
      "torch.Size([92408, 31, 21])\n",
      "torch.Size([92408, 651])\n"
     ]
    }
   ],
   "source": [
    "from torch.nn.functional import one_hot\n",
    "\n",
    "seqs1h = one_hot(seqs)\n",
    "\n",
    "print(seqs1h.shape)\n",
    "\n",
    "seqs1hf = seqs1h.view(-1, L*21)\n",
    "\n",
    "print(seqs1hf.shape)"
   ]
  },
  {
   "cell_type": "markdown",
   "id": "a14a519c-7bcb-4e25-89c3-b9f1dae19e41",
   "metadata": {
    "tags": []
   },
   "source": [
    "### Jax Linear Model"
   ]
  },
  {
   "cell_type": "code",
   "execution_count": 25,
   "id": "eb432afa-702d-45a2-8312-6c578916ae73",
   "metadata": {
    "tags": []
   },
   "outputs": [
    {
     "name": "stdout",
     "output_type": "stream",
     "text": [
      "Device: cuda:0\n"
     ]
    }
   ],
   "source": [
    "from scipy.stats import pearsonr\n",
    "print(\"Device:\", jax.devices()[0])"
   ]
  },
  {
   "cell_type": "code",
   "execution_count": 26,
   "id": "703c3011-2f87-4773-a2f3-da3c3a656859",
   "metadata": {
    "tags": []
   },
   "outputs": [],
   "source": [
    "X = seqs1h.cpu().numpy().astype(np.float32)\n",
    "y = phenotypes.cpu().numpy()\n",
    "\n",
    "num_train = int(.1*len(X))\n",
    "train_list = np.random.choice(len(X), num_train)\n",
    "comp_list = list(set(range(len(X))).difference(train_list))\n",
    "test_list = np.random.choice(comp_list, 1000)\n",
    "\n",
    "X_train, y_train = X[train_list], y[train_list]\n",
    "X_test, y_test = X[test_list], y[test_list]\n",
    "\n",
    "train_dataset = ProtDataset(X_train, y_train)\n",
    "train_loader = data.DataLoader(train_dataset,\n",
    "                               batch_size=2000,\n",
    "                               shuffle=True,\n",
    "                               drop_last=False)"
   ]
  },
  {
   "cell_type": "code",
   "execution_count": 27,
   "id": "0b38966e-2b08-4480-b590-174b2564e7b9",
   "metadata": {
    "tags": []
   },
   "outputs": [],
   "source": [
    "import jax\n",
    "import jax.numpy as jnp\n",
    "from flax import linen as nn\n",
    "import optax\n",
    "\n",
    "# Define the linear regression model as provided\n",
    "class LinearRegressionModel(nn.Module):\n",
    "    @nn.compact\n",
    "    def __call__(self, x, train:bool):\n",
    "        batch_size = x.shape[0]        \n",
    "        x = x.reshape(batch_size, -1)\n",
    "        weights = self.param('weights', lambda key, shape: jax.random.normal(key, shape=shape), (L*AA_size,))\n",
    "        bias = self.param('bias', lambda key, shape: jax.random.normal(key, shape=shape), ())\n",
    "        scale = self.param('scale', lambda key, shape: jax.random.normal(key, shape=shape), ())\n",
    "        x = jnp.dot(x, weights)\n",
    "        x = x.reshape(-1, 1)\n",
    "        x = nn.BatchNorm(use_running_average=not train)(x)\n",
    "        x = x.reshape(-1)        \n",
    "\n",
    "        # return linear_output\n",
    "        return scale*nn.sigmoid(x) + bias\n",
    "\n",
    "# Define a custom loss function (mean squared error)\n",
    "def mse_loss(params, x, y):\n",
    "    predictions, _ = model.apply(params, x, train=True, mutable=['batch_stats'])\n",
    "    loss = jnp.mean((predictions - y) ** 2)\n",
    "    return loss\n",
    "\n",
    "# Create an instance of the model\n",
    "model = LinearRegressionModel()"
   ]
  },
  {
   "cell_type": "code",
   "execution_count": 28,
   "id": "1c55235d-a457-4f9f-98b2-b825840a748a",
   "metadata": {
    "tags": []
   },
   "outputs": [
    {
     "data": {
      "image/png": "[encoded data removed]",
      "text/plain": [
       "<Figure size 432x288 with 1 Axes>"
      ]
     },
     "metadata": {
      "needs_background": "light"
     },
     "output_type": "display_data"
    }
   ],
   "source": [
    "rng = jax.random.PRNGKey(0)  # You can replace 0 with any desired seed\n",
    "\n",
    "# Create an instance of the model\n",
    "model = LinearRegressionModel()\n",
    "\n",
    "x = next(iter(train_loader))[0].numpy()\n",
    "\n",
    "params = model.init(rng, x, train=True)\n",
    "\n",
    "out, updates = model.apply(params, x, train=True, mutable=['batch_stats'])\n",
    "\n",
    "plt.hist(out)\n",
    "plt.show()"
   ]
  },
  {
   "cell_type": "code",
   "execution_count": 31,
   "id": "c825d638-5ece-4e7f-90a2-bd25ffb8d244",
   "metadata": {
    "collapsed": true,
    "jupyter": {
     "outputs_hidden": true
    },
    "tags": []
   },
   "outputs": [
    {
     "name": "stdout",
     "output_type": "stream",
     "text": [
      "Epoch [100/1000], Loss: 0.03736959770321846\n",
      "test Pearson r=0.86\n",
      "Epoch [200/1000], Loss: 0.0355563722550869\n",
      "test Pearson r=0.866\n",
      "Epoch [300/1000], Loss: 0.03448077663779259\n",
      "test Pearson r=0.868\n",
      "Epoch [400/1000], Loss: 0.03478100895881653\n",
      "test Pearson r=0.869\n"
     ]
    },
    {
     "ename": "KeyboardInterrupt",
     "evalue": "",
     "output_type": "error",
     "traceback": [
      "\u001b[0;31m---------------------------------------------------------------------------\u001b[0m",
      "\u001b[0;31mKeyboardInterrupt\u001b[0m                         Traceback (most recent call last)",
      "Input \u001b[0;32mIn [31]\u001b[0m, in \u001b[0;36m<cell line: 7>\u001b[0;34m()\u001b[0m\n\u001b[1;32m     12\u001b[0m y \u001b[38;5;241m=\u001b[39m y\u001b[38;5;241m.\u001b[39mnumpy()\n\u001b[1;32m     13\u001b[0m \u001b[38;5;66;03m# Compute gradients and loss\u001b[39;00m\n\u001b[1;32m     14\u001b[0m \u001b[38;5;66;03m# grads = jax.grad(joint_loss)(params, lda, x, y)\u001b[39;00m\n\u001b[1;32m     15\u001b[0m \u001b[38;5;66;03m# loss = joint_loss(params, lda, x, y)\u001b[39;00m\n\u001b[0;32m---> 17\u001b[0m grads \u001b[38;5;241m=\u001b[39m \u001b[43mjax\u001b[49m\u001b[38;5;241;43m.\u001b[39;49m\u001b[43mgrad\u001b[49m\u001b[43m(\u001b[49m\u001b[43mmse_loss\u001b[49m\u001b[43m)\u001b[49m\u001b[43m(\u001b[49m\u001b[43mparams\u001b[49m\u001b[43m,\u001b[49m\u001b[43m \u001b[49m\u001b[43mx\u001b[49m\u001b[43m,\u001b[49m\u001b[43m \u001b[49m\u001b[43my\u001b[49m\u001b[43m)\u001b[49m\n\u001b[1;32m     18\u001b[0m loss \u001b[38;5;241m=\u001b[39m mse_loss(params, x, y)\n\u001b[1;32m     20\u001b[0m \u001b[38;5;66;03m# Update parameters using the optimizer\u001b[39;00m\n",
      "    \u001b[0;31m[... skipping hidden 1 frame]\u001b[0m\n",
      "File \u001b[0;32m~/.local/lib/python3.10/site-packages/jax/_src/api.py:656\u001b[0m, in \u001b[0;36mgrad.<locals>.grad_f\u001b[0;34m(*args, **kwargs)\u001b[0m\n\u001b[1;32m    653\u001b[0m \u001b[38;5;129m@wraps\u001b[39m(fun, docstr\u001b[38;5;241m=\u001b[39mdocstr, argnums\u001b[38;5;241m=\u001b[39margnums)\n\u001b[1;32m    654\u001b[0m \u001b[38;5;129m@api_boundary\u001b[39m\n\u001b[1;32m    655\u001b[0m \u001b[38;5;28;01mdef\u001b[39;00m \u001b[38;5;21mgrad_f\u001b[39m(\u001b[38;5;241m*\u001b[39margs, \u001b[38;5;241m*\u001b[39m\u001b[38;5;241m*\u001b[39mkwargs):\n\u001b[0;32m--> 656\u001b[0m   _, g \u001b[38;5;241m=\u001b[39m \u001b[43mvalue_and_grad_f\u001b[49m\u001b[43m(\u001b[49m\u001b[38;5;241;43m*\u001b[39;49m\u001b[43margs\u001b[49m\u001b[43m,\u001b[49m\u001b[43m \u001b[49m\u001b[38;5;241;43m*\u001b[39;49m\u001b[38;5;241;43m*\u001b[39;49m\u001b[43mkwargs\u001b[49m\u001b[43m)\u001b[49m\n\u001b[1;32m    657\u001b[0m   \u001b[38;5;28;01mreturn\u001b[39;00m g\n",
      "    \u001b[0;31m[... skipping hidden 1 frame]\u001b[0m\n",
      "File \u001b[0;32m~/.local/lib/python3.10/site-packages/jax/_src/api.py:732\u001b[0m, in \u001b[0;36mvalue_and_grad.<locals>.value_and_grad_f\u001b[0;34m(*args, **kwargs)\u001b[0m\n\u001b[1;32m    730\u001b[0m   _check_input_dtype_grad(holomorphic, allow_int, leaf)\n\u001b[1;32m    731\u001b[0m \u001b[38;5;28;01mif\u001b[39;00m \u001b[38;5;129;01mnot\u001b[39;00m has_aux:\n\u001b[0;32m--> 732\u001b[0m   ans, vjp_py \u001b[38;5;241m=\u001b[39m \u001b[43m_vjp\u001b[49m\u001b[43m(\u001b[49m\u001b[43mf_partial\u001b[49m\u001b[43m,\u001b[49m\u001b[43m \u001b[49m\u001b[38;5;241;43m*\u001b[39;49m\u001b[43mdyn_args\u001b[49m\u001b[43m,\u001b[49m\u001b[43m \u001b[49m\u001b[43mreduce_axes\u001b[49m\u001b[38;5;241;43m=\u001b[39;49m\u001b[43mreduce_axes\u001b[49m\u001b[43m)\u001b[49m\n\u001b[1;32m    733\u001b[0m \u001b[38;5;28;01melse\u001b[39;00m:\n\u001b[1;32m    734\u001b[0m   ans, vjp_py, aux \u001b[38;5;241m=\u001b[39m _vjp(\n\u001b[1;32m    735\u001b[0m       f_partial, \u001b[38;5;241m*\u001b[39mdyn_args, has_aux\u001b[38;5;241m=\u001b[39m\u001b[38;5;28;01mTrue\u001b[39;00m, reduce_axes\u001b[38;5;241m=\u001b[39mreduce_axes)\n",
      "File \u001b[0;32m~/.local/lib/python3.10/site-packages/jax/_src/api.py:2238\u001b[0m, in \u001b[0;36m_vjp\u001b[0;34m(fun, has_aux, reduce_axes, *primals)\u001b[0m\n\u001b[1;32m   2236\u001b[0m \u001b[38;5;28;01mif\u001b[39;00m \u001b[38;5;129;01mnot\u001b[39;00m has_aux:\n\u001b[1;32m   2237\u001b[0m   flat_fun, out_tree \u001b[38;5;241m=\u001b[39m flatten_fun_nokwargs(fun, in_tree)\n\u001b[0;32m-> 2238\u001b[0m   out_primal, out_vjp \u001b[38;5;241m=\u001b[39m \u001b[43mad\u001b[49m\u001b[38;5;241;43m.\u001b[39;49m\u001b[43mvjp\u001b[49m\u001b[43m(\u001b[49m\n\u001b[1;32m   2239\u001b[0m \u001b[43m      \u001b[49m\u001b[43mflat_fun\u001b[49m\u001b[43m,\u001b[49m\u001b[43m \u001b[49m\u001b[43mprimals_flat\u001b[49m\u001b[43m,\u001b[49m\u001b[43m \u001b[49m\u001b[43mreduce_axes\u001b[49m\u001b[38;5;241;43m=\u001b[39;49m\u001b[43mreduce_axes\u001b[49m\u001b[43m)\u001b[49m\n\u001b[1;32m   2240\u001b[0m   out_tree \u001b[38;5;241m=\u001b[39m out_tree()\n\u001b[1;32m   2241\u001b[0m \u001b[38;5;28;01melse\u001b[39;00m:\n",
      "File \u001b[0;32m~/.local/lib/python3.10/site-packages/jax/_src/interpreters/ad.py:140\u001b[0m, in \u001b[0;36mvjp\u001b[0;34m(traceable, primals, has_aux, reduce_axes)\u001b[0m\n\u001b[1;32m    138\u001b[0m \u001b[38;5;28;01mdef\u001b[39;00m \u001b[38;5;21mvjp\u001b[39m(traceable, primals, has_aux\u001b[38;5;241m=\u001b[39m\u001b[38;5;28;01mFalse\u001b[39;00m, reduce_axes\u001b[38;5;241m=\u001b[39m()):\n\u001b[1;32m    139\u001b[0m   \u001b[38;5;28;01mif\u001b[39;00m \u001b[38;5;129;01mnot\u001b[39;00m has_aux:\n\u001b[0;32m--> 140\u001b[0m     out_primals, pvals, jaxpr, consts \u001b[38;5;241m=\u001b[39m \u001b[43mlinearize\u001b[49m\u001b[43m(\u001b[49m\u001b[43mtraceable\u001b[49m\u001b[43m,\u001b[49m\u001b[43m \u001b[49m\u001b[38;5;241;43m*\u001b[39;49m\u001b[43mprimals\u001b[49m\u001b[43m)\u001b[49m\n\u001b[1;32m    141\u001b[0m   \u001b[38;5;28;01melse\u001b[39;00m:\n\u001b[1;32m    142\u001b[0m     out_primals, pvals, jaxpr, consts, aux \u001b[38;5;241m=\u001b[39m linearize(traceable, \u001b[38;5;241m*\u001b[39mprimals, has_aux\u001b[38;5;241m=\u001b[39m\u001b[38;5;28;01mTrue\u001b[39;00m)\n",
      "File \u001b[0;32m~/.local/lib/python3.10/site-packages/jax/_src/interpreters/ad.py:129\u001b[0m, in \u001b[0;36mlinearize\u001b[0;34m(traceable, *primals, **kwargs)\u001b[0m\n\u001b[1;32m    127\u001b[0m _, in_tree \u001b[38;5;241m=\u001b[39m tree_flatten(((primals, primals), {}))\n\u001b[1;32m    128\u001b[0m jvpfun_flat, out_tree \u001b[38;5;241m=\u001b[39m flatten_fun(jvpfun, in_tree)\n\u001b[0;32m--> 129\u001b[0m jaxpr, out_pvals, consts \u001b[38;5;241m=\u001b[39m \u001b[43mpe\u001b[49m\u001b[38;5;241;43m.\u001b[39;49m\u001b[43mtrace_to_jaxpr_nounits\u001b[49m\u001b[43m(\u001b[49m\u001b[43mjvpfun_flat\u001b[49m\u001b[43m,\u001b[49m\u001b[43m \u001b[49m\u001b[43min_pvals\u001b[49m\u001b[43m)\u001b[49m\n\u001b[1;32m    130\u001b[0m out_primals_pvals, out_tangents_pvals \u001b[38;5;241m=\u001b[39m tree_unflatten(out_tree(), out_pvals)\n\u001b[1;32m    131\u001b[0m \u001b[38;5;28;01massert\u001b[39;00m \u001b[38;5;28mall\u001b[39m(out_primal_pval\u001b[38;5;241m.\u001b[39mis_known() \u001b[38;5;28;01mfor\u001b[39;00m out_primal_pval \u001b[38;5;129;01min\u001b[39;00m out_primals_pvals)\n",
      "File \u001b[0;32m~/.local/lib/python3.10/site-packages/jax/_src/profiler.py:340\u001b[0m, in \u001b[0;36mannotate_function.<locals>.wrapper\u001b[0;34m(*args, **kwargs)\u001b[0m\n\u001b[1;32m    337\u001b[0m \u001b[38;5;129m@wraps\u001b[39m(func)\n\u001b[1;32m    338\u001b[0m \u001b[38;5;28;01mdef\u001b[39;00m \u001b[38;5;21mwrapper\u001b[39m(\u001b[38;5;241m*\u001b[39margs, \u001b[38;5;241m*\u001b[39m\u001b[38;5;241m*\u001b[39mkwargs):\n\u001b[1;32m    339\u001b[0m   \u001b[38;5;28;01mwith\u001b[39;00m TraceAnnotation(name, \u001b[38;5;241m*\u001b[39m\u001b[38;5;241m*\u001b[39mdecorator_kwargs):\n\u001b[0;32m--> 340\u001b[0m     \u001b[38;5;28;01mreturn\u001b[39;00m \u001b[43mfunc\u001b[49m\u001b[43m(\u001b[49m\u001b[38;5;241;43m*\u001b[39;49m\u001b[43margs\u001b[49m\u001b[43m,\u001b[49m\u001b[43m \u001b[49m\u001b[38;5;241;43m*\u001b[39;49m\u001b[38;5;241;43m*\u001b[39;49m\u001b[43mkwargs\u001b[49m\u001b[43m)\u001b[49m\n\u001b[1;32m    341\u001b[0m   \u001b[38;5;28;01mreturn\u001b[39;00m wrapper\n",
      "File \u001b[0;32m~/.local/lib/python3.10/site-packages/jax/_src/interpreters/partial_eval.py:777\u001b[0m, in \u001b[0;36mtrace_to_jaxpr_nounits\u001b[0;34m(fun, pvals, instantiate)\u001b[0m\n\u001b[1;32m    775\u001b[0m \u001b[38;5;28;01mwith\u001b[39;00m core\u001b[38;5;241m.\u001b[39mnew_main(JaxprTrace, name_stack\u001b[38;5;241m=\u001b[39mcurrent_name_stack) \u001b[38;5;28;01mas\u001b[39;00m main:\n\u001b[1;32m    776\u001b[0m   fun \u001b[38;5;241m=\u001b[39m trace_to_subjaxpr_nounits(fun, main, instantiate)\n\u001b[0;32m--> 777\u001b[0m   jaxpr, (out_pvals, consts, env) \u001b[38;5;241m=\u001b[39m \u001b[43mfun\u001b[49m\u001b[38;5;241;43m.\u001b[39;49m\u001b[43mcall_wrapped\u001b[49m\u001b[43m(\u001b[49m\u001b[43mpvals\u001b[49m\u001b[43m)\u001b[49m\n\u001b[1;32m    778\u001b[0m   \u001b[38;5;28;01massert\u001b[39;00m \u001b[38;5;129;01mnot\u001b[39;00m env\n\u001b[1;32m    779\u001b[0m   \u001b[38;5;28;01mdel\u001b[39;00m main, fun, env\n",
      "File \u001b[0;32m~/.local/lib/python3.10/site-packages/jax/_src/linear_util.py:191\u001b[0m, in \u001b[0;36mWrappedFun.call_wrapped\u001b[0;34m(self, *args, **kwargs)\u001b[0m\n\u001b[1;32m    188\u001b[0m gen \u001b[38;5;241m=\u001b[39m gen_static_args \u001b[38;5;241m=\u001b[39m out_store \u001b[38;5;241m=\u001b[39m \u001b[38;5;28;01mNone\u001b[39;00m\n\u001b[1;32m    190\u001b[0m \u001b[38;5;28;01mtry\u001b[39;00m:\n\u001b[0;32m--> 191\u001b[0m   ans \u001b[38;5;241m=\u001b[39m \u001b[38;5;28;43mself\u001b[39;49m\u001b[38;5;241;43m.\u001b[39;49m\u001b[43mf\u001b[49m\u001b[43m(\u001b[49m\u001b[38;5;241;43m*\u001b[39;49m\u001b[43margs\u001b[49m\u001b[43m,\u001b[49m\u001b[43m \u001b[49m\u001b[38;5;241;43m*\u001b[39;49m\u001b[38;5;241;43m*\u001b[39;49m\u001b[38;5;28;43mdict\u001b[39;49m\u001b[43m(\u001b[49m\u001b[38;5;28;43mself\u001b[39;49m\u001b[38;5;241;43m.\u001b[39;49m\u001b[43mparams\u001b[49m\u001b[43m,\u001b[49m\u001b[43m \u001b[49m\u001b[38;5;241;43m*\u001b[39;49m\u001b[38;5;241;43m*\u001b[39;49m\u001b[43mkwargs\u001b[49m\u001b[43m)\u001b[49m\u001b[43m)\u001b[49m\n\u001b[1;32m    192\u001b[0m \u001b[38;5;28;01mexcept\u001b[39;00m:\n\u001b[1;32m    193\u001b[0m   \u001b[38;5;66;03m# Some transformations yield from inside context managers, so we have to\u001b[39;00m\n\u001b[1;32m    194\u001b[0m   \u001b[38;5;66;03m# interrupt them before reraising the exception. Otherwise they will only\u001b[39;00m\n\u001b[1;32m    195\u001b[0m   \u001b[38;5;66;03m# get garbage-collected at some later time, running their cleanup tasks\u001b[39;00m\n\u001b[1;32m    196\u001b[0m   \u001b[38;5;66;03m# only after this exception is handled, which can corrupt the global\u001b[39;00m\n\u001b[1;32m    197\u001b[0m   \u001b[38;5;66;03m# state.\u001b[39;00m\n\u001b[1;32m    198\u001b[0m   \u001b[38;5;28;01mwhile\u001b[39;00m stack:\n",
      "Input \u001b[0;32mIn [27]\u001b[0m, in \u001b[0;36mmse_loss\u001b[0;34m(params, x, y)\u001b[0m\n\u001b[1;32m     24\u001b[0m \u001b[38;5;28;01mdef\u001b[39;00m \u001b[38;5;21mmse_loss\u001b[39m(params, x, y):\n\u001b[0;32m---> 25\u001b[0m     predictions, _ \u001b[38;5;241m=\u001b[39m \u001b[43mmodel\u001b[49m\u001b[38;5;241;43m.\u001b[39;49m\u001b[43mapply\u001b[49m\u001b[43m(\u001b[49m\u001b[43mparams\u001b[49m\u001b[43m,\u001b[49m\u001b[43m \u001b[49m\u001b[43mx\u001b[49m\u001b[43m,\u001b[49m\u001b[43m \u001b[49m\u001b[43mtrain\u001b[49m\u001b[38;5;241;43m=\u001b[39;49m\u001b[38;5;28;43;01mTrue\u001b[39;49;00m\u001b[43m,\u001b[49m\u001b[43m \u001b[49m\u001b[43mmutable\u001b[49m\u001b[38;5;241;43m=\u001b[39;49m\u001b[43m[\u001b[49m\u001b[38;5;124;43m'\u001b[39;49m\u001b[38;5;124;43mbatch_stats\u001b[39;49m\u001b[38;5;124;43m'\u001b[39;49m\u001b[43m]\u001b[49m\u001b[43m)\u001b[49m\n\u001b[1;32m     26\u001b[0m     loss \u001b[38;5;241m=\u001b[39m jnp\u001b[38;5;241m.\u001b[39mmean((predictions \u001b[38;5;241m-\u001b[39m y) \u001b[38;5;241m*\u001b[39m\u001b[38;5;241m*\u001b[39m \u001b[38;5;241m2\u001b[39m)\n\u001b[1;32m     27\u001b[0m     \u001b[38;5;28;01mreturn\u001b[39;00m loss\n",
      "    \u001b[0;31m[... skipping hidden 1 frame]\u001b[0m\n",
      "File \u001b[0;32m~/.local/lib/python3.10/site-packages/flax/linen/module.py:1922\u001b[0m, in \u001b[0;36mModule.apply\u001b[0;34m(self, variables, rngs, method, mutable, capture_intermediates, *args, **kwargs)\u001b[0m\n\u001b[1;32m   1920\u001b[0m   method \u001b[38;5;241m=\u001b[39m \u001b[38;5;28mself\u001b[39m\u001b[38;5;241m.\u001b[39m\u001b[38;5;21m__call__\u001b[39m\n\u001b[1;32m   1921\u001b[0m method \u001b[38;5;241m=\u001b[39m _get_unbound_fn(method)\n\u001b[0;32m-> 1922\u001b[0m \u001b[38;5;28;01mreturn\u001b[39;00m \u001b[43mapply\u001b[49m\u001b[43m(\u001b[49m\n\u001b[1;32m   1923\u001b[0m \u001b[43m    \u001b[49m\u001b[43mmethod\u001b[49m\u001b[43m,\u001b[49m\n\u001b[1;32m   1924\u001b[0m \u001b[43m    \u001b[49m\u001b[38;5;28;43mself\u001b[39;49m\u001b[43m,\u001b[49m\n\u001b[1;32m   1925\u001b[0m \u001b[43m    \u001b[49m\u001b[43mmutable\u001b[49m\u001b[38;5;241;43m=\u001b[39;49m\u001b[43mmutable\u001b[49m\u001b[43m,\u001b[49m\n\u001b[1;32m   1926\u001b[0m \u001b[43m    \u001b[49m\u001b[43mcapture_intermediates\u001b[49m\u001b[38;5;241;43m=\u001b[39;49m\u001b[43mcapture_intermediates\u001b[49m\u001b[43m,\u001b[49m\n\u001b[1;32m   1927\u001b[0m \u001b[43m\u001b[49m\u001b[43m)\u001b[49m\u001b[43m(\u001b[49m\u001b[43mvariables\u001b[49m\u001b[43m,\u001b[49m\u001b[43m \u001b[49m\u001b[38;5;241;43m*\u001b[39;49m\u001b[43margs\u001b[49m\u001b[43m,\u001b[49m\u001b[43m \u001b[49m\u001b[38;5;241;43m*\u001b[39;49m\u001b[38;5;241;43m*\u001b[39;49m\u001b[43mkwargs\u001b[49m\u001b[43m,\u001b[49m\u001b[43m \u001b[49m\u001b[43mrngs\u001b[49m\u001b[38;5;241;43m=\u001b[39;49m\u001b[43mrngs\u001b[49m\u001b[43m)\u001b[49m\n",
      "File \u001b[0;32m~/.local/lib/python3.10/site-packages/flax/core/scope.py:1084\u001b[0m, in \u001b[0;36mapply.<locals>.wrapper\u001b[0;34m(variables, rngs, *args, **kwargs)\u001b[0m\n\u001b[1;32m   1079\u001b[0m   \u001b[38;5;28;01mraise\u001b[39;00m errors\u001b[38;5;241m.\u001b[39mApplyScopeInvalidVariablesStructureError(variables)\n\u001b[1;32m   1081\u001b[0m \u001b[38;5;28;01mwith\u001b[39;00m bind(\n\u001b[1;32m   1082\u001b[0m     variables, rngs\u001b[38;5;241m=\u001b[39mrngs, mutable\u001b[38;5;241m=\u001b[39mmutable, flags\u001b[38;5;241m=\u001b[39mflags\n\u001b[1;32m   1083\u001b[0m )\u001b[38;5;241m.\u001b[39mtemporary() \u001b[38;5;28;01mas\u001b[39;00m root:\n\u001b[0;32m-> 1084\u001b[0m   y \u001b[38;5;241m=\u001b[39m \u001b[43mfn\u001b[49m\u001b[43m(\u001b[49m\u001b[43mroot\u001b[49m\u001b[43m,\u001b[49m\u001b[43m \u001b[49m\u001b[38;5;241;43m*\u001b[39;49m\u001b[43margs\u001b[49m\u001b[43m,\u001b[49m\u001b[43m \u001b[49m\u001b[38;5;241;43m*\u001b[39;49m\u001b[38;5;241;43m*\u001b[39;49m\u001b[43mkwargs\u001b[49m\u001b[43m)\u001b[49m\n\u001b[1;32m   1085\u001b[0m \u001b[38;5;28;01mif\u001b[39;00m mutable \u001b[38;5;129;01mis\u001b[39;00m \u001b[38;5;129;01mnot\u001b[39;00m \u001b[38;5;28;01mFalse\u001b[39;00m:\n\u001b[1;32m   1086\u001b[0m   \u001b[38;5;28;01mreturn\u001b[39;00m y, root\u001b[38;5;241m.\u001b[39mmutable_variables()\n",
      "File \u001b[0;32m~/.local/lib/python3.10/site-packages/flax/linen/module.py:2563\u001b[0m, in \u001b[0;36mapply.<locals>.scope_fn\u001b[0;34m(scope, *args, **kwargs)\u001b[0m\n\u001b[1;32m   2561\u001b[0m _context\u001b[38;5;241m.\u001b[39mcapture_stack\u001b[38;5;241m.\u001b[39mappend(capture_intermediates)\n\u001b[1;32m   2562\u001b[0m \u001b[38;5;28;01mtry\u001b[39;00m:\n\u001b[0;32m-> 2563\u001b[0m   \u001b[38;5;28;01mreturn\u001b[39;00m \u001b[43mfn\u001b[49m\u001b[43m(\u001b[49m\u001b[43mmodule\u001b[49m\u001b[38;5;241;43m.\u001b[39;49m\u001b[43mclone\u001b[49m\u001b[43m(\u001b[49m\u001b[43mparent\u001b[49m\u001b[38;5;241;43m=\u001b[39;49m\u001b[43mscope\u001b[49m\u001b[43m,\u001b[49m\u001b[43m \u001b[49m\u001b[43m_deep_clone\u001b[49m\u001b[38;5;241;43m=\u001b[39;49m\u001b[38;5;28;43;01mTrue\u001b[39;49;00m\u001b[43m)\u001b[49m\u001b[43m,\u001b[49m\u001b[43m \u001b[49m\u001b[38;5;241;43m*\u001b[39;49m\u001b[43margs\u001b[49m\u001b[43m,\u001b[49m\u001b[43m \u001b[49m\u001b[38;5;241;43m*\u001b[39;49m\u001b[38;5;241;43m*\u001b[39;49m\u001b[43mkwargs\u001b[49m\u001b[43m)\u001b[49m\n\u001b[1;32m   2564\u001b[0m \u001b[38;5;28;01mfinally\u001b[39;00m:\n\u001b[1;32m   2565\u001b[0m   _context\u001b[38;5;241m.\u001b[39mcapture_stack\u001b[38;5;241m.\u001b[39mpop()\n",
      "File \u001b[0;32m~/.local/lib/python3.10/site-packages/flax/linen/module.py:602\u001b[0m, in \u001b[0;36mwrap_method_once.<locals>.wrapped_module_method\u001b[0;34m(*args, **kwargs)\u001b[0m\n\u001b[1;32m    600\u001b[0m \u001b[38;5;28;01mif\u001b[39;00m args \u001b[38;5;129;01mand\u001b[39;00m \u001b[38;5;28misinstance\u001b[39m(args[\u001b[38;5;241m0\u001b[39m], Module):\n\u001b[1;32m    601\u001b[0m   \u001b[38;5;28mself\u001b[39m, args \u001b[38;5;241m=\u001b[39m args[\u001b[38;5;241m0\u001b[39m], args[\u001b[38;5;241m1\u001b[39m:]\n\u001b[0;32m--> 602\u001b[0m   \u001b[38;5;28;01mreturn\u001b[39;00m \u001b[38;5;28;43mself\u001b[39;49m\u001b[38;5;241;43m.\u001b[39;49m\u001b[43m_call_wrapped_method\u001b[49m\u001b[43m(\u001b[49m\u001b[43mfun\u001b[49m\u001b[43m,\u001b[49m\u001b[43m \u001b[49m\u001b[43margs\u001b[49m\u001b[43m,\u001b[49m\u001b[43m \u001b[49m\u001b[43mkwargs\u001b[49m\u001b[43m)\u001b[49m\n\u001b[1;32m    603\u001b[0m \u001b[38;5;28;01melse\u001b[39;00m:\n\u001b[1;32m    604\u001b[0m   \u001b[38;5;28;01mreturn\u001b[39;00m fun(\u001b[38;5;241m*\u001b[39margs, \u001b[38;5;241m*\u001b[39m\u001b[38;5;241m*\u001b[39mkwargs)\n",
      "File \u001b[0;32m~/.local/lib/python3.10/site-packages/flax/linen/module.py:1119\u001b[0m, in \u001b[0;36mModule._call_wrapped_method\u001b[0;34m(self, fun, args, kwargs)\u001b[0m\n\u001b[1;32m   1117\u001b[0m \u001b[38;5;28;01mif\u001b[39;00m _use_named_call:\n\u001b[1;32m   1118\u001b[0m   \u001b[38;5;28;01mwith\u001b[39;00m jax\u001b[38;5;241m.\u001b[39mnamed_scope(_derive_profiling_name(\u001b[38;5;28mself\u001b[39m, fun)):\n\u001b[0;32m-> 1119\u001b[0m     y \u001b[38;5;241m=\u001b[39m \u001b[43mrun_fun\u001b[49m\u001b[43m(\u001b[49m\u001b[38;5;28;43mself\u001b[39;49m\u001b[43m,\u001b[49m\u001b[43m \u001b[49m\u001b[38;5;241;43m*\u001b[39;49m\u001b[43margs\u001b[49m\u001b[43m,\u001b[49m\u001b[43m \u001b[49m\u001b[38;5;241;43m*\u001b[39;49m\u001b[38;5;241;43m*\u001b[39;49m\u001b[43mkwargs\u001b[49m\u001b[43m)\u001b[49m\n\u001b[1;32m   1120\u001b[0m \u001b[38;5;28;01melse\u001b[39;00m:\n\u001b[1;32m   1121\u001b[0m   y \u001b[38;5;241m=\u001b[39m run_fun(\u001b[38;5;28mself\u001b[39m, \u001b[38;5;241m*\u001b[39margs, \u001b[38;5;241m*\u001b[39m\u001b[38;5;241m*\u001b[39mkwargs)\n",
      "Input \u001b[0;32mIn [27]\u001b[0m, in \u001b[0;36mLinearRegressionModel.__call__\u001b[0;34m(self, x, train)\u001b[0m\n\u001b[1;32m     10\u001b[0m batch_size \u001b[38;5;241m=\u001b[39m x\u001b[38;5;241m.\u001b[39mshape[\u001b[38;5;241m0\u001b[39m]        \n\u001b[1;32m     11\u001b[0m x \u001b[38;5;241m=\u001b[39m x\u001b[38;5;241m.\u001b[39mreshape(batch_size, \u001b[38;5;241m-\u001b[39m\u001b[38;5;241m1\u001b[39m)\n\u001b[0;32m---> 12\u001b[0m weights \u001b[38;5;241m=\u001b[39m \u001b[38;5;28;43mself\u001b[39;49m\u001b[38;5;241;43m.\u001b[39;49m\u001b[43mparam\u001b[49m\u001b[43m(\u001b[49m\u001b[38;5;124;43m'\u001b[39;49m\u001b[38;5;124;43mweights\u001b[39;49m\u001b[38;5;124;43m'\u001b[39;49m\u001b[43m,\u001b[49m\u001b[43m \u001b[49m\u001b[38;5;28;43;01mlambda\u001b[39;49;00m\u001b[43m \u001b[49m\u001b[43mkey\u001b[49m\u001b[43m,\u001b[49m\u001b[43m \u001b[49m\u001b[43mshape\u001b[49m\u001b[43m:\u001b[49m\u001b[43m \u001b[49m\u001b[43mjax\u001b[49m\u001b[38;5;241;43m.\u001b[39;49m\u001b[43mrandom\u001b[49m\u001b[38;5;241;43m.\u001b[39;49m\u001b[43mnormal\u001b[49m\u001b[43m(\u001b[49m\u001b[43mkey\u001b[49m\u001b[43m,\u001b[49m\u001b[43m \u001b[49m\u001b[43mshape\u001b[49m\u001b[38;5;241;43m=\u001b[39;49m\u001b[43mshape\u001b[49m\u001b[43m)\u001b[49m\u001b[43m,\u001b[49m\u001b[43m \u001b[49m\u001b[43m(\u001b[49m\u001b[43mL\u001b[49m\u001b[38;5;241;43m*\u001b[39;49m\u001b[43mAA_size\u001b[49m\u001b[43m,\u001b[49m\u001b[43m)\u001b[49m\u001b[43m)\u001b[49m\n\u001b[1;32m     13\u001b[0m bias \u001b[38;5;241m=\u001b[39m \u001b[38;5;28mself\u001b[39m\u001b[38;5;241m.\u001b[39mparam(\u001b[38;5;124m'\u001b[39m\u001b[38;5;124mbias\u001b[39m\u001b[38;5;124m'\u001b[39m, \u001b[38;5;28;01mlambda\u001b[39;00m key, shape: jax\u001b[38;5;241m.\u001b[39mrandom\u001b[38;5;241m.\u001b[39mnormal(key, shape\u001b[38;5;241m=\u001b[39mshape), ())\n\u001b[1;32m     14\u001b[0m scale \u001b[38;5;241m=\u001b[39m \u001b[38;5;28mself\u001b[39m\u001b[38;5;241m.\u001b[39mparam(\u001b[38;5;124m'\u001b[39m\u001b[38;5;124mscale\u001b[39m\u001b[38;5;124m'\u001b[39m, \u001b[38;5;28;01mlambda\u001b[39;00m key, shape: jax\u001b[38;5;241m.\u001b[39mrandom\u001b[38;5;241m.\u001b[39mnormal(key, shape\u001b[38;5;241m=\u001b[39mshape), ())\n",
      "File \u001b[0;32m~/.local/lib/python3.10/site-packages/flax/linen/module.py:1657\u001b[0m, in \u001b[0;36mModule.param\u001b[0;34m(self, name, init_fn, unbox, *init_args)\u001b[0m\n\u001b[1;32m   1655\u001b[0m   \u001b[38;5;28;01mraise\u001b[39;00m errors\u001b[38;5;241m.\u001b[39mNameInUseError(\u001b[38;5;124m'\u001b[39m\u001b[38;5;124mparam\u001b[39m\u001b[38;5;124m'\u001b[39m, name, \u001b[38;5;28mself\u001b[39m\u001b[38;5;241m.\u001b[39m\u001b[38;5;18m__class__\u001b[39m\u001b[38;5;241m.\u001b[39m\u001b[38;5;18m__name__\u001b[39m)\n\u001b[1;32m   1656\u001b[0m \u001b[38;5;28;01massert\u001b[39;00m \u001b[38;5;28mself\u001b[39m\u001b[38;5;241m.\u001b[39mscope \u001b[38;5;129;01mis\u001b[39;00m \u001b[38;5;129;01mnot\u001b[39;00m \u001b[38;5;28;01mNone\u001b[39;00m\n\u001b[0;32m-> 1657\u001b[0m v \u001b[38;5;241m=\u001b[39m \u001b[38;5;28;43mself\u001b[39;49m\u001b[38;5;241;43m.\u001b[39;49m\u001b[43mscope\u001b[49m\u001b[38;5;241;43m.\u001b[39;49m\u001b[43mparam\u001b[49m\u001b[43m(\u001b[49m\u001b[43mname\u001b[49m\u001b[43m,\u001b[49m\u001b[43m \u001b[49m\u001b[43minit_fn\u001b[49m\u001b[43m,\u001b[49m\u001b[43m \u001b[49m\u001b[38;5;241;43m*\u001b[39;49m\u001b[43minit_args\u001b[49m\u001b[43m,\u001b[49m\u001b[43m \u001b[49m\u001b[43munbox\u001b[49m\u001b[38;5;241;43m=\u001b[39;49m\u001b[43munbox\u001b[49m\u001b[43m)\u001b[49m\n\u001b[1;32m   1658\u001b[0m \u001b[38;5;28mself\u001b[39m\u001b[38;5;241m.\u001b[39m_state\u001b[38;5;241m.\u001b[39mchildren[name] \u001b[38;5;241m=\u001b[39m \u001b[38;5;124m'\u001b[39m\u001b[38;5;124mparams\u001b[39m\u001b[38;5;124m'\u001b[39m\n\u001b[1;32m   1659\u001b[0m \u001b[38;5;28;01mreturn\u001b[39;00m v\n",
      "File \u001b[0;32m~/.local/lib/python3.10/site-packages/flax/core/scope.py:967\u001b[0m, in \u001b[0;36mScope.param\u001b[0;34m(self, name, init_fn, unbox, *init_args)\u001b[0m\n\u001b[1;32m    961\u001b[0m value \u001b[38;5;241m=\u001b[39m \u001b[38;5;28mself\u001b[39m\u001b[38;5;241m.\u001b[39mget_variable(\u001b[38;5;124m'\u001b[39m\u001b[38;5;124mparams\u001b[39m\u001b[38;5;124m'\u001b[39m, name)\n\u001b[1;32m    962\u001b[0m \u001b[38;5;66;03m# Validate that the shape of the init_fn output is the same as the shape\u001b[39;00m\n\u001b[1;32m    963\u001b[0m \u001b[38;5;66;03m# of the existing parameter. This is to make sure that the hparams set up\u001b[39;00m\n\u001b[1;32m    964\u001b[0m \u001b[38;5;66;03m# in a Flax Module match the shapes coming in during apply, and if not,\u001b[39;00m\n\u001b[1;32m    965\u001b[0m \u001b[38;5;66;03m# catch it with an error message.\u001b[39;00m\n\u001b[1;32m    966\u001b[0m \u001b[38;5;66;03m# NOTE: We could consider moving this to `self.`\u001b[39;00m\n\u001b[0;32m--> 967\u001b[0m abs_value \u001b[38;5;241m=\u001b[39m \u001b[43mjax\u001b[49m\u001b[38;5;241;43m.\u001b[39;49m\u001b[43meval_shape\u001b[49m\u001b[43m(\u001b[49m\u001b[38;5;28;43;01mlambda\u001b[39;49;00m\u001b[43m \u001b[49m\u001b[43mrng\u001b[49m\u001b[43m:\u001b[49m\u001b[43m \u001b[49m\u001b[43minit_fn\u001b[49m\u001b[43m(\u001b[49m\u001b[43mrng\u001b[49m\u001b[43m,\u001b[49m\u001b[43m \u001b[49m\u001b[38;5;241;43m*\u001b[39;49m\u001b[43minit_args\u001b[49m\u001b[43m)\u001b[49m\u001b[43m,\u001b[49m\u001b[43m \u001b[49m\u001b[43mabs_rng\u001b[49m\u001b[43m)\u001b[49m\n\u001b[1;32m    968\u001b[0m abs_value_flat \u001b[38;5;241m=\u001b[39m jax\u001b[38;5;241m.\u001b[39mtree_util\u001b[38;5;241m.\u001b[39mtree_leaves(abs_value)\n\u001b[1;32m    969\u001b[0m value_flat \u001b[38;5;241m=\u001b[39m jax\u001b[38;5;241m.\u001b[39mtree_util\u001b[38;5;241m.\u001b[39mtree_leaves(value)\n",
      "    \u001b[0;31m[... skipping hidden 1 frame]\u001b[0m\n",
      "File \u001b[0;32m~/.local/lib/python3.10/site-packages/jax/_src/api.py:2830\u001b[0m, in \u001b[0;36meval_shape\u001b[0;34m(fun, *args, **kwargs)\u001b[0m\n\u001b[1;32m   2828\u001b[0m wrapped_fun, out_tree \u001b[38;5;241m=\u001b[39m flatten_fun(lu\u001b[38;5;241m.\u001b[39mwrap_init(fun), in_tree)\n\u001b[1;32m   2829\u001b[0m debug_info \u001b[38;5;241m=\u001b[39m pe\u001b[38;5;241m.\u001b[39mdebug_info(fun, in_tree, out_tree, \u001b[38;5;28;01mTrue\u001b[39;00m, \u001b[38;5;124m\"\u001b[39m\u001b[38;5;124meval_shape\u001b[39m\u001b[38;5;124m\"\u001b[39m)\n\u001b[0;32m-> 2830\u001b[0m out \u001b[38;5;241m=\u001b[39m \u001b[43mpe\u001b[49m\u001b[38;5;241;43m.\u001b[39;49m\u001b[43mabstract_eval_fun\u001b[49m\u001b[43m(\u001b[49m\u001b[43mwrapped_fun\u001b[49m\u001b[38;5;241;43m.\u001b[39;49m\u001b[43mcall_wrapped\u001b[49m\u001b[43m,\u001b[49m\n\u001b[1;32m   2831\u001b[0m \u001b[43m                           \u001b[49m\u001b[38;5;241;43m*\u001b[39;49m\u001b[38;5;28;43mmap\u001b[39;49m\u001b[43m(\u001b[49m\u001b[43mshaped_abstractify\u001b[49m\u001b[43m,\u001b[49m\u001b[43m \u001b[49m\u001b[43margs_flat\u001b[49m\u001b[43m)\u001b[49m\u001b[43m,\u001b[49m\n\u001b[1;32m   2832\u001b[0m \u001b[43m                           \u001b[49m\u001b[43mdebug_info\u001b[49m\u001b[38;5;241;43m=\u001b[39;49m\u001b[43mdebug_info\u001b[49m\u001b[43m)\u001b[49m\n\u001b[1;32m   2833\u001b[0m out \u001b[38;5;241m=\u001b[39m [ShapeDtypeStruct(x\u001b[38;5;241m.\u001b[39mshape, x\u001b[38;5;241m.\u001b[39mdtype, x\u001b[38;5;241m.\u001b[39mnamed_shape) \u001b[38;5;28;01mfor\u001b[39;00m x \u001b[38;5;129;01min\u001b[39;00m out]\n\u001b[1;32m   2834\u001b[0m \u001b[38;5;28;01mreturn\u001b[39;00m tree_unflatten(out_tree(), out)\n",
      "File \u001b[0;32m~/.local/lib/python3.10/site-packages/jax/_src/interpreters/partial_eval.py:670\u001b[0m, in \u001b[0;36mabstract_eval_fun\u001b[0;34m(fun, debug_info, *avals, **params)\u001b[0m\n\u001b[1;32m    669\u001b[0m \u001b[38;5;28;01mdef\u001b[39;00m \u001b[38;5;21mabstract_eval_fun\u001b[39m(fun, \u001b[38;5;241m*\u001b[39mavals, debug_info\u001b[38;5;241m=\u001b[39m\u001b[38;5;28;01mNone\u001b[39;00m, \u001b[38;5;241m*\u001b[39m\u001b[38;5;241m*\u001b[39mparams):\n\u001b[0;32m--> 670\u001b[0m   _, avals_out, _ \u001b[38;5;241m=\u001b[39m \u001b[43mtrace_to_jaxpr_dynamic\u001b[49m\u001b[43m(\u001b[49m\n\u001b[1;32m    671\u001b[0m \u001b[43m      \u001b[49m\u001b[43mlu\u001b[49m\u001b[38;5;241;43m.\u001b[39;49m\u001b[43mwrap_init\u001b[49m\u001b[43m(\u001b[49m\u001b[43mfun\u001b[49m\u001b[43m,\u001b[49m\u001b[43m \u001b[49m\u001b[43mparams\u001b[49m\u001b[43m)\u001b[49m\u001b[43m,\u001b[49m\u001b[43m \u001b[49m\u001b[43mavals\u001b[49m\u001b[43m,\u001b[49m\u001b[43m \u001b[49m\u001b[43mdebug_info\u001b[49m\u001b[43m)\u001b[49m\n\u001b[1;32m    672\u001b[0m   \u001b[38;5;28;01massert\u001b[39;00m \u001b[38;5;28mall\u001b[39m(\u001b[38;5;28misinstance\u001b[39m(aval, AbstractValue) \u001b[38;5;28;01mfor\u001b[39;00m aval \u001b[38;5;129;01min\u001b[39;00m avals_out)\n\u001b[1;32m    673\u001b[0m   \u001b[38;5;28;01mreturn\u001b[39;00m avals_out\n",
      "File \u001b[0;32m~/.local/lib/python3.10/site-packages/jax/_src/profiler.py:340\u001b[0m, in \u001b[0;36mannotate_function.<locals>.wrapper\u001b[0;34m(*args, **kwargs)\u001b[0m\n\u001b[1;32m    337\u001b[0m \u001b[38;5;129m@wraps\u001b[39m(func)\n\u001b[1;32m    338\u001b[0m \u001b[38;5;28;01mdef\u001b[39;00m \u001b[38;5;21mwrapper\u001b[39m(\u001b[38;5;241m*\u001b[39margs, \u001b[38;5;241m*\u001b[39m\u001b[38;5;241m*\u001b[39mkwargs):\n\u001b[1;32m    339\u001b[0m   \u001b[38;5;28;01mwith\u001b[39;00m TraceAnnotation(name, \u001b[38;5;241m*\u001b[39m\u001b[38;5;241m*\u001b[39mdecorator_kwargs):\n\u001b[0;32m--> 340\u001b[0m     \u001b[38;5;28;01mreturn\u001b[39;00m \u001b[43mfunc\u001b[49m\u001b[43m(\u001b[49m\u001b[38;5;241;43m*\u001b[39;49m\u001b[43margs\u001b[49m\u001b[43m,\u001b[49m\u001b[43m \u001b[49m\u001b[38;5;241;43m*\u001b[39;49m\u001b[38;5;241;43m*\u001b[39;49m\u001b[43mkwargs\u001b[49m\u001b[43m)\u001b[49m\n\u001b[1;32m    341\u001b[0m   \u001b[38;5;28;01mreturn\u001b[39;00m wrapper\n",
      "File \u001b[0;32m~/.local/lib/python3.10/site-packages/jax/_src/interpreters/partial_eval.py:2203\u001b[0m, in \u001b[0;36mtrace_to_jaxpr_dynamic\u001b[0;34m(fun, in_avals, debug_info, keep_inputs)\u001b[0m\n\u001b[1;32m   2201\u001b[0m \u001b[38;5;28;01mwith\u001b[39;00m core\u001b[38;5;241m.\u001b[39mnew_main(DynamicJaxprTrace, dynamic\u001b[38;5;241m=\u001b[39m\u001b[38;5;28;01mTrue\u001b[39;00m) \u001b[38;5;28;01mas\u001b[39;00m main:  \u001b[38;5;66;03m# type: ignore\u001b[39;00m\n\u001b[1;32m   2202\u001b[0m   main\u001b[38;5;241m.\u001b[39mjaxpr_stack \u001b[38;5;241m=\u001b[39m ()  \u001b[38;5;66;03m# type: ignore\u001b[39;00m\n\u001b[0;32m-> 2203\u001b[0m   jaxpr, out_avals, consts \u001b[38;5;241m=\u001b[39m \u001b[43mtrace_to_subjaxpr_dynamic\u001b[49m\u001b[43m(\u001b[49m\n\u001b[1;32m   2204\u001b[0m \u001b[43m    \u001b[49m\u001b[43mfun\u001b[49m\u001b[43m,\u001b[49m\u001b[43m \u001b[49m\u001b[43mmain\u001b[49m\u001b[43m,\u001b[49m\u001b[43m \u001b[49m\u001b[43min_avals\u001b[49m\u001b[43m,\u001b[49m\u001b[43m \u001b[49m\u001b[43mkeep_inputs\u001b[49m\u001b[38;5;241;43m=\u001b[39;49m\u001b[43mkeep_inputs\u001b[49m\u001b[43m,\u001b[49m\u001b[43m \u001b[49m\u001b[43mdebug_info\u001b[49m\u001b[38;5;241;43m=\u001b[39;49m\u001b[43mdebug_info\u001b[49m\u001b[43m)\u001b[49m\n\u001b[1;32m   2205\u001b[0m   \u001b[38;5;28;01mdel\u001b[39;00m main, fun\n\u001b[1;32m   2206\u001b[0m \u001b[38;5;28;01mreturn\u001b[39;00m jaxpr, out_avals, consts\n",
      "File \u001b[0;32m~/.local/lib/python3.10/site-packages/jax/_src/interpreters/partial_eval.py:2225\u001b[0m, in \u001b[0;36mtrace_to_subjaxpr_dynamic\u001b[0;34m(fun, main, in_avals, keep_inputs, debug_info)\u001b[0m\n\u001b[1;32m   2223\u001b[0m in_tracers \u001b[38;5;241m=\u001b[39m _input_type_to_tracers(trace\u001b[38;5;241m.\u001b[39mnew_arg, in_avals)\n\u001b[1;32m   2224\u001b[0m in_tracers_ \u001b[38;5;241m=\u001b[39m [t \u001b[38;5;28;01mfor\u001b[39;00m t, keep \u001b[38;5;129;01min\u001b[39;00m \u001b[38;5;28mzip\u001b[39m(in_tracers, keep_inputs) \u001b[38;5;28;01mif\u001b[39;00m keep]\n\u001b[0;32m-> 2225\u001b[0m ans \u001b[38;5;241m=\u001b[39m \u001b[43mfun\u001b[49m\u001b[38;5;241;43m.\u001b[39;49m\u001b[43mcall_wrapped\u001b[49m\u001b[43m(\u001b[49m\u001b[38;5;241;43m*\u001b[39;49m\u001b[43min_tracers_\u001b[49m\u001b[43m)\u001b[49m\n\u001b[1;32m   2226\u001b[0m out_tracers \u001b[38;5;241m=\u001b[39m \u001b[38;5;28mmap\u001b[39m(trace\u001b[38;5;241m.\u001b[39mfull_raise, ans)\n\u001b[1;32m   2227\u001b[0m jaxpr, consts \u001b[38;5;241m=\u001b[39m frame\u001b[38;5;241m.\u001b[39mto_jaxpr(out_tracers)\n",
      "File \u001b[0;32m~/.local/lib/python3.10/site-packages/jax/_src/linear_util.py:191\u001b[0m, in \u001b[0;36mWrappedFun.call_wrapped\u001b[0;34m(self, *args, **kwargs)\u001b[0m\n\u001b[1;32m    188\u001b[0m gen \u001b[38;5;241m=\u001b[39m gen_static_args \u001b[38;5;241m=\u001b[39m out_store \u001b[38;5;241m=\u001b[39m \u001b[38;5;28;01mNone\u001b[39;00m\n\u001b[1;32m    190\u001b[0m \u001b[38;5;28;01mtry\u001b[39;00m:\n\u001b[0;32m--> 191\u001b[0m   ans \u001b[38;5;241m=\u001b[39m \u001b[38;5;28;43mself\u001b[39;49m\u001b[38;5;241;43m.\u001b[39;49m\u001b[43mf\u001b[49m\u001b[43m(\u001b[49m\u001b[38;5;241;43m*\u001b[39;49m\u001b[43margs\u001b[49m\u001b[43m,\u001b[49m\u001b[43m \u001b[49m\u001b[38;5;241;43m*\u001b[39;49m\u001b[38;5;241;43m*\u001b[39;49m\u001b[38;5;28;43mdict\u001b[39;49m\u001b[43m(\u001b[49m\u001b[38;5;28;43mself\u001b[39;49m\u001b[38;5;241;43m.\u001b[39;49m\u001b[43mparams\u001b[49m\u001b[43m,\u001b[49m\u001b[43m \u001b[49m\u001b[38;5;241;43m*\u001b[39;49m\u001b[38;5;241;43m*\u001b[39;49m\u001b[43mkwargs\u001b[49m\u001b[43m)\u001b[49m\u001b[43m)\u001b[49m\n\u001b[1;32m    192\u001b[0m \u001b[38;5;28;01mexcept\u001b[39;00m:\n\u001b[1;32m    193\u001b[0m   \u001b[38;5;66;03m# Some transformations yield from inside context managers, so we have to\u001b[39;00m\n\u001b[1;32m    194\u001b[0m   \u001b[38;5;66;03m# interrupt them before reraising the exception. Otherwise they will only\u001b[39;00m\n\u001b[1;32m    195\u001b[0m   \u001b[38;5;66;03m# get garbage-collected at some later time, running their cleanup tasks\u001b[39;00m\n\u001b[1;32m    196\u001b[0m   \u001b[38;5;66;03m# only after this exception is handled, which can corrupt the global\u001b[39;00m\n\u001b[1;32m    197\u001b[0m   \u001b[38;5;66;03m# state.\u001b[39;00m\n\u001b[1;32m    198\u001b[0m   \u001b[38;5;28;01mwhile\u001b[39;00m stack:\n",
      "File \u001b[0;32m~/.local/lib/python3.10/site-packages/jax/_src/linear_util.py:191\u001b[0m, in \u001b[0;36mWrappedFun.call_wrapped\u001b[0;34m(self, *args, **kwargs)\u001b[0m\n\u001b[1;32m    188\u001b[0m gen \u001b[38;5;241m=\u001b[39m gen_static_args \u001b[38;5;241m=\u001b[39m out_store \u001b[38;5;241m=\u001b[39m \u001b[38;5;28;01mNone\u001b[39;00m\n\u001b[1;32m    190\u001b[0m \u001b[38;5;28;01mtry\u001b[39;00m:\n\u001b[0;32m--> 191\u001b[0m   ans \u001b[38;5;241m=\u001b[39m \u001b[38;5;28;43mself\u001b[39;49m\u001b[38;5;241;43m.\u001b[39;49m\u001b[43mf\u001b[49m\u001b[43m(\u001b[49m\u001b[38;5;241;43m*\u001b[39;49m\u001b[43margs\u001b[49m\u001b[43m,\u001b[49m\u001b[43m \u001b[49m\u001b[38;5;241;43m*\u001b[39;49m\u001b[38;5;241;43m*\u001b[39;49m\u001b[38;5;28;43mdict\u001b[39;49m\u001b[43m(\u001b[49m\u001b[38;5;28;43mself\u001b[39;49m\u001b[38;5;241;43m.\u001b[39;49m\u001b[43mparams\u001b[49m\u001b[43m,\u001b[49m\u001b[43m \u001b[49m\u001b[38;5;241;43m*\u001b[39;49m\u001b[38;5;241;43m*\u001b[39;49m\u001b[43mkwargs\u001b[49m\u001b[43m)\u001b[49m\u001b[43m)\u001b[49m\n\u001b[1;32m    192\u001b[0m \u001b[38;5;28;01mexcept\u001b[39;00m:\n\u001b[1;32m    193\u001b[0m   \u001b[38;5;66;03m# Some transformations yield from inside context managers, so we have to\u001b[39;00m\n\u001b[1;32m    194\u001b[0m   \u001b[38;5;66;03m# interrupt them before reraising the exception. Otherwise they will only\u001b[39;00m\n\u001b[1;32m    195\u001b[0m   \u001b[38;5;66;03m# get garbage-collected at some later time, running their cleanup tasks\u001b[39;00m\n\u001b[1;32m    196\u001b[0m   \u001b[38;5;66;03m# only after this exception is handled, which can corrupt the global\u001b[39;00m\n\u001b[1;32m    197\u001b[0m   \u001b[38;5;66;03m# state.\u001b[39;00m\n\u001b[1;32m    198\u001b[0m   \u001b[38;5;28;01mwhile\u001b[39;00m stack:\n",
      "File \u001b[0;32m~/.local/lib/python3.10/site-packages/flax/core/scope.py:967\u001b[0m, in \u001b[0;36mScope.param.<locals>.<lambda>\u001b[0;34m(rng)\u001b[0m\n\u001b[1;32m    961\u001b[0m value \u001b[38;5;241m=\u001b[39m \u001b[38;5;28mself\u001b[39m\u001b[38;5;241m.\u001b[39mget_variable(\u001b[38;5;124m'\u001b[39m\u001b[38;5;124mparams\u001b[39m\u001b[38;5;124m'\u001b[39m, name)\n\u001b[1;32m    962\u001b[0m \u001b[38;5;66;03m# Validate that the shape of the init_fn output is the same as the shape\u001b[39;00m\n\u001b[1;32m    963\u001b[0m \u001b[38;5;66;03m# of the existing parameter. This is to make sure that the hparams set up\u001b[39;00m\n\u001b[1;32m    964\u001b[0m \u001b[38;5;66;03m# in a Flax Module match the shapes coming in during apply, and if not,\u001b[39;00m\n\u001b[1;32m    965\u001b[0m \u001b[38;5;66;03m# catch it with an error message.\u001b[39;00m\n\u001b[1;32m    966\u001b[0m \u001b[38;5;66;03m# NOTE: We could consider moving this to `self.`\u001b[39;00m\n\u001b[0;32m--> 967\u001b[0m abs_value \u001b[38;5;241m=\u001b[39m jax\u001b[38;5;241m.\u001b[39meval_shape(\u001b[38;5;28;01mlambda\u001b[39;00m rng: \u001b[43minit_fn\u001b[49m\u001b[43m(\u001b[49m\u001b[43mrng\u001b[49m\u001b[43m,\u001b[49m\u001b[43m \u001b[49m\u001b[38;5;241;43m*\u001b[39;49m\u001b[43minit_args\u001b[49m\u001b[43m)\u001b[49m, abs_rng)\n\u001b[1;32m    968\u001b[0m abs_value_flat \u001b[38;5;241m=\u001b[39m jax\u001b[38;5;241m.\u001b[39mtree_util\u001b[38;5;241m.\u001b[39mtree_leaves(abs_value)\n\u001b[1;32m    969\u001b[0m value_flat \u001b[38;5;241m=\u001b[39m jax\u001b[38;5;241m.\u001b[39mtree_util\u001b[38;5;241m.\u001b[39mtree_leaves(value)\n",
      "Input \u001b[0;32mIn [27]\u001b[0m, in \u001b[0;36mLinearRegressionModel.__call__.<locals>.<lambda>\u001b[0;34m(key, shape)\u001b[0m\n\u001b[1;32m     10\u001b[0m batch_size \u001b[38;5;241m=\u001b[39m x\u001b[38;5;241m.\u001b[39mshape[\u001b[38;5;241m0\u001b[39m]        \n\u001b[1;32m     11\u001b[0m x \u001b[38;5;241m=\u001b[39m x\u001b[38;5;241m.\u001b[39mreshape(batch_size, \u001b[38;5;241m-\u001b[39m\u001b[38;5;241m1\u001b[39m)\n\u001b[0;32m---> 12\u001b[0m weights \u001b[38;5;241m=\u001b[39m \u001b[38;5;28mself\u001b[39m\u001b[38;5;241m.\u001b[39mparam(\u001b[38;5;124m'\u001b[39m\u001b[38;5;124mweights\u001b[39m\u001b[38;5;124m'\u001b[39m, \u001b[38;5;28;01mlambda\u001b[39;00m key, shape: \u001b[43mjax\u001b[49m\u001b[38;5;241;43m.\u001b[39;49m\u001b[43mrandom\u001b[49m\u001b[38;5;241;43m.\u001b[39;49m\u001b[43mnormal\u001b[49m\u001b[43m(\u001b[49m\u001b[43mkey\u001b[49m\u001b[43m,\u001b[49m\u001b[43m \u001b[49m\u001b[43mshape\u001b[49m\u001b[38;5;241;43m=\u001b[39;49m\u001b[43mshape\u001b[49m\u001b[43m)\u001b[49m, (L\u001b[38;5;241m*\u001b[39mAA_size,))\n\u001b[1;32m     13\u001b[0m bias \u001b[38;5;241m=\u001b[39m \u001b[38;5;28mself\u001b[39m\u001b[38;5;241m.\u001b[39mparam(\u001b[38;5;124m'\u001b[39m\u001b[38;5;124mbias\u001b[39m\u001b[38;5;124m'\u001b[39m, \u001b[38;5;28;01mlambda\u001b[39;00m key, shape: jax\u001b[38;5;241m.\u001b[39mrandom\u001b[38;5;241m.\u001b[39mnormal(key, shape\u001b[38;5;241m=\u001b[39mshape), ())\n\u001b[1;32m     14\u001b[0m scale \u001b[38;5;241m=\u001b[39m \u001b[38;5;28mself\u001b[39m\u001b[38;5;241m.\u001b[39mparam(\u001b[38;5;124m'\u001b[39m\u001b[38;5;124mscale\u001b[39m\u001b[38;5;124m'\u001b[39m, \u001b[38;5;28;01mlambda\u001b[39;00m key, shape: jax\u001b[38;5;241m.\u001b[39mrandom\u001b[38;5;241m.\u001b[39mnormal(key, shape\u001b[38;5;241m=\u001b[39mshape), ())\n",
      "File \u001b[0;32m~/.local/lib/python3.10/site-packages/jax/_src/random.py:729\u001b[0m, in \u001b[0;36mnormal\u001b[0;34m(key, shape, dtype)\u001b[0m\n\u001b[1;32m    727\u001b[0m dtype \u001b[38;5;241m=\u001b[39m dtypes\u001b[38;5;241m.\u001b[39mcanonicalize_dtype(dtype)\n\u001b[1;32m    728\u001b[0m shape \u001b[38;5;241m=\u001b[39m core\u001b[38;5;241m.\u001b[39mas_named_shape(shape)\n\u001b[0;32m--> 729\u001b[0m \u001b[38;5;28;01mreturn\u001b[39;00m \u001b[43m_normal\u001b[49m\u001b[43m(\u001b[49m\u001b[43mkey\u001b[49m\u001b[43m,\u001b[49m\u001b[43m \u001b[49m\u001b[43mshape\u001b[49m\u001b[43m,\u001b[49m\u001b[43m \u001b[49m\u001b[43mdtype\u001b[49m\u001b[43m)\u001b[49m\n",
      "    \u001b[0;31m[... skipping hidden 1 frame]\u001b[0m\n",
      "File \u001b[0;32m~/.local/lib/python3.10/site-packages/jax/_src/pjit.py:256\u001b[0m, in \u001b[0;36m_cpp_pjit.<locals>.cache_miss\u001b[0;34m(*args, **kwargs)\u001b[0m\n\u001b[1;32m    254\u001b[0m \u001b[38;5;129m@api_boundary\u001b[39m\n\u001b[1;32m    255\u001b[0m \u001b[38;5;28;01mdef\u001b[39;00m \u001b[38;5;21mcache_miss\u001b[39m(\u001b[38;5;241m*\u001b[39margs, \u001b[38;5;241m*\u001b[39m\u001b[38;5;241m*\u001b[39mkwargs):\n\u001b[0;32m--> 256\u001b[0m   outs, out_flat, out_tree, args_flat, jaxpr \u001b[38;5;241m=\u001b[39m \u001b[43m_python_pjit_helper\u001b[49m\u001b[43m(\u001b[49m\n\u001b[1;32m    257\u001b[0m \u001b[43m      \u001b[49m\u001b[43mfun\u001b[49m\u001b[43m,\u001b[49m\u001b[43m \u001b[49m\u001b[43minfer_params_fn\u001b[49m\u001b[43m,\u001b[49m\u001b[43m \u001b[49m\u001b[38;5;241;43m*\u001b[39;49m\u001b[43margs\u001b[49m\u001b[43m,\u001b[49m\u001b[43m \u001b[49m\u001b[38;5;241;43m*\u001b[39;49m\u001b[38;5;241;43m*\u001b[39;49m\u001b[43mkwargs\u001b[49m\u001b[43m)\u001b[49m\n\u001b[1;32m    258\u001b[0m   executable \u001b[38;5;241m=\u001b[39m _read_most_recent_pjit_call_executable(jaxpr)\n\u001b[1;32m    259\u001b[0m   fastpath_data \u001b[38;5;241m=\u001b[39m _get_fastpath_data(executable, out_tree, args_flat, out_flat)\n",
      "File \u001b[0;32m~/.local/lib/python3.10/site-packages/jax/_src/pjit.py:167\u001b[0m, in \u001b[0;36m_python_pjit_helper\u001b[0;34m(fun, infer_params_fn, *args, **kwargs)\u001b[0m\n\u001b[1;32m    165\u001b[0m   dispatch\u001b[38;5;241m.\u001b[39mcheck_arg(arg)\n\u001b[1;32m    166\u001b[0m \u001b[38;5;28;01mtry\u001b[39;00m:\n\u001b[0;32m--> 167\u001b[0m   out_flat \u001b[38;5;241m=\u001b[39m \u001b[43mpjit_p\u001b[49m\u001b[38;5;241;43m.\u001b[39;49m\u001b[43mbind\u001b[49m\u001b[43m(\u001b[49m\u001b[38;5;241;43m*\u001b[39;49m\u001b[43margs_flat\u001b[49m\u001b[43m,\u001b[49m\u001b[43m \u001b[49m\u001b[38;5;241;43m*\u001b[39;49m\u001b[38;5;241;43m*\u001b[39;49m\u001b[43mparams\u001b[49m\u001b[43m)\u001b[49m\n\u001b[1;32m    168\u001b[0m \u001b[38;5;28;01mexcept\u001b[39;00m pxla\u001b[38;5;241m.\u001b[39mDeviceAssignmentMismatchError \u001b[38;5;28;01mas\u001b[39;00m e:\n\u001b[1;32m    169\u001b[0m   fails, \u001b[38;5;241m=\u001b[39m e\u001b[38;5;241m.\u001b[39margs\n",
      "File \u001b[0;32m~/.local/lib/python3.10/site-packages/jax/_src/core.py:2652\u001b[0m, in \u001b[0;36mAxisPrimitive.bind\u001b[0;34m(self, *args, **params)\u001b[0m\n\u001b[1;32m   2650\u001b[0m \u001b[38;5;28;01mdef\u001b[39;00m \u001b[38;5;21mbind\u001b[39m(\u001b[38;5;28mself\u001b[39m, \u001b[38;5;241m*\u001b[39margs, \u001b[38;5;241m*\u001b[39m\u001b[38;5;241m*\u001b[39mparams):\n\u001b[1;32m   2651\u001b[0m   top_trace \u001b[38;5;241m=\u001b[39m find_top_trace(args)\n\u001b[0;32m-> 2652\u001b[0m   axis_main \u001b[38;5;241m=\u001b[39m \u001b[38;5;28mmax\u001b[39m((axis_frame(a)\u001b[38;5;241m.\u001b[39mmain_trace \u001b[38;5;28;01mfor\u001b[39;00m a \u001b[38;5;129;01min\u001b[39;00m \u001b[43mused_axis_names\u001b[49m\u001b[43m(\u001b[49m\u001b[38;5;28;43mself\u001b[39;49m\u001b[43m,\u001b[49m\u001b[43m \u001b[49m\u001b[43mparams\u001b[49m\u001b[43m)\u001b[49m),\n\u001b[1;32m   2653\u001b[0m                   default\u001b[38;5;241m=\u001b[39m\u001b[38;5;28;01mNone\u001b[39;00m, key\u001b[38;5;241m=\u001b[39m\u001b[38;5;28;01mlambda\u001b[39;00m t: \u001b[38;5;28mgetattr\u001b[39m(t, \u001b[38;5;124m'\u001b[39m\u001b[38;5;124mlevel\u001b[39m\u001b[38;5;124m'\u001b[39m, \u001b[38;5;241m-\u001b[39m\u001b[38;5;241m1\u001b[39m))\n\u001b[1;32m   2654\u001b[0m   top_trace \u001b[38;5;241m=\u001b[39m (top_trace \u001b[38;5;28;01mif\u001b[39;00m \u001b[38;5;129;01mnot\u001b[39;00m axis_main \u001b[38;5;129;01mor\u001b[39;00m axis_main\u001b[38;5;241m.\u001b[39mlevel \u001b[38;5;241m<\u001b[39m top_trace\u001b[38;5;241m.\u001b[39mlevel\n\u001b[1;32m   2655\u001b[0m                \u001b[38;5;28;01melse\u001b[39;00m axis_main\u001b[38;5;241m.\u001b[39mwith_cur_sublevel())\n\u001b[1;32m   2656\u001b[0m   \u001b[38;5;28;01mreturn\u001b[39;00m \u001b[38;5;28mself\u001b[39m\u001b[38;5;241m.\u001b[39mbind_with_trace(top_trace, args, params)\n",
      "File \u001b[0;32m~/.local/lib/python3.10/site-packages/jax/_src/core.py:2556\u001b[0m, in \u001b[0;36mused_axis_names\u001b[0;34m(primitive, params)\u001b[0m\n\u001b[1;32m   2554\u001b[0m \u001b[38;5;28;01mdef\u001b[39;00m \u001b[38;5;21mused_axis_names\u001b[39m(primitive: Primitive, params: ParamDict) \u001b[38;5;241m-\u001b[39m\u001b[38;5;241m>\u001b[39m \u001b[38;5;28mset\u001b[39m[AxisName]:\n\u001b[1;32m   2555\u001b[0m   subst \u001b[38;5;241m=\u001b[39m NameGatheringSubst()\n\u001b[0;32m-> 2556\u001b[0m   \u001b[43msubst_axis_names\u001b[49m\u001b[43m(\u001b[49m\u001b[43mprimitive\u001b[49m\u001b[43m,\u001b[49m\u001b[43m \u001b[49m\u001b[43mparams\u001b[49m\u001b[43m,\u001b[49m\u001b[43m \u001b[49m\u001b[43msubst\u001b[49m\u001b[43m)\u001b[49m\n\u001b[1;32m   2557\u001b[0m   \u001b[38;5;28;01mreturn\u001b[39;00m subst\u001b[38;5;241m.\u001b[39maxis_names\n",
      "File \u001b[0;32m~/.local/lib/python3.10/site-packages/jax/_src/core.py:2575\u001b[0m, in \u001b[0;36msubst_axis_names\u001b[0;34m(primitive, params, subst, traverse)\u001b[0m\n\u001b[1;32m   2573\u001b[0m new_params \u001b[38;5;241m=\u001b[39m \u001b[38;5;28mdict\u001b[39m(params)\n\u001b[1;32m   2574\u001b[0m \u001b[38;5;28;01mfor\u001b[39;00m name, jaxpr \u001b[38;5;129;01min\u001b[39;00m jaxpr_params:\n\u001b[0;32m-> 2575\u001b[0m   new_params[name] \u001b[38;5;241m=\u001b[39m \u001b[43msubst_axis_names_jaxpr\u001b[49m\u001b[43m(\u001b[49m\u001b[43mjaxpr\u001b[49m\u001b[43m,\u001b[49m\u001b[43m \u001b[49m\u001b[43mshadowed_subst\u001b[49m\u001b[43m)\u001b[49m\n\u001b[1;32m   2576\u001b[0m \u001b[38;5;28;01mreturn\u001b[39;00m new_params\n",
      "File \u001b[0;32m~/.local/lib/python3.10/site-packages/jax/_src/core.py:2631\u001b[0m, in \u001b[0;36msubst_axis_names_jaxpr\u001b[0;34m(jaxpr, subst)\u001b[0m\n\u001b[1;32m   2629\u001b[0m \u001b[38;5;28;01mdef\u001b[39;00m \u001b[38;5;21msubst_axis_names_jaxpr\u001b[39m(jaxpr: Jaxpr \u001b[38;5;241m|\u001b[39m ClosedJaxpr, subst: AxisSubst):\n\u001b[1;32m   2630\u001b[0m   \u001b[38;5;28;01mif\u001b[39;00m \u001b[38;5;28misinstance\u001b[39m(subst, NameGatheringSubst):  \u001b[38;5;66;03m# This is a common case, so we optimize it!\u001b[39;00m\n\u001b[0;32m-> 2631\u001b[0m     subst\u001b[38;5;241m.\u001b[39maxis_names \u001b[38;5;241m|\u001b[39m\u001b[38;5;241m=\u001b[39m \u001b[43mused_axis_names_jaxpr\u001b[49m\u001b[43m(\u001b[49m\u001b[43mjaxpr\u001b[49m\u001b[43m)\u001b[49m\n\u001b[1;32m   2632\u001b[0m     \u001b[38;5;28;01mreturn\u001b[39;00m jaxpr\n\u001b[1;32m   2633\u001b[0m   \u001b[38;5;28;01mreturn\u001b[39;00m do_subst_axis_names_jaxpr(jaxpr, subst)\n",
      "File \u001b[0;32m~/.local/lib/python3.10/site-packages/jax/_src/config.py:507\u001b[0m, in \u001b[0;36mConfig._trace_context\u001b[0;34m(self)\u001b[0m\n\u001b[1;32m    503\u001b[0m \u001b[38;5;28;01mif\u001b[39;00m context \u001b[38;5;129;01mand\u001b[39;00m context\u001b[38;5;241m.\u001b[39mmesh_context_manager:\n\u001b[1;32m    504\u001b[0m   mesh_context_manager \u001b[38;5;241m=\u001b[39m context\u001b[38;5;241m.\u001b[39mmesh_context_manager\n\u001b[1;32m    505\u001b[0m \u001b[38;5;28;01mreturn\u001b[39;00m (axis_env_state, mesh_context_manager, \u001b[38;5;28mself\u001b[39m\u001b[38;5;241m.\u001b[39mx64_enabled,\n\u001b[1;32m    506\u001b[0m         \u001b[38;5;28mself\u001b[39m\u001b[38;5;241m.\u001b[39mjax_numpy_rank_promotion, \u001b[38;5;28mself\u001b[39m\u001b[38;5;241m.\u001b[39mjax_default_matmul_precision,\n\u001b[0;32m--> 507\u001b[0m         \u001b[38;5;28mself\u001b[39m\u001b[38;5;241m.\u001b[39mjax_dynamic_shapes, \u001b[38;5;28;43mself\u001b[39;49m\u001b[38;5;241;43m.\u001b[39;49m\u001b[43mjax_numpy_dtype_promotion\u001b[49m,\n\u001b[1;32m    508\u001b[0m         \u001b[38;5;28mself\u001b[39m\u001b[38;5;241m.\u001b[39mjax_default_device,\n\u001b[1;32m    509\u001b[0m         \u001b[38;5;28mself\u001b[39m\u001b[38;5;241m.\u001b[39mjax_threefry_partitionable,\n\u001b[1;32m    510\u001b[0m         \u001b[38;5;28mself\u001b[39m\u001b[38;5;241m.\u001b[39mjax_softmax_custom_jvp,\n\u001b[1;32m    511\u001b[0m         \u001b[38;5;28mself\u001b[39m\u001b[38;5;241m.\u001b[39mjax_enable_memories,\n\u001b[1;32m    512\u001b[0m         \u001b[38;5;28mself\u001b[39m\u001b[38;5;241m.\u001b[39mjax_disable_jit,\n\u001b[1;32m    513\u001b[0m         \u001b[38;5;66;03m# Technically this affects jaxpr->MHLO lowering, not tracing.\u001b[39;00m\n\u001b[1;32m    514\u001b[0m         \u001b[38;5;28mself\u001b[39m\u001b[38;5;241m.\u001b[39mjax_hlo_source_file_canonicalization_regex)\n",
      "File \u001b[0;32m~/.local/lib/python3.10/site-packages/jax/_src/config.py:325\u001b[0m, in \u001b[0;36mConfig.define_enum_state.<locals>.<lambda>\u001b[0;34m(_)\u001b[0m\n\u001b[1;32m    321\u001b[0m     \u001b[38;5;28;01mraise\u001b[39;00m \u001b[38;5;167;01mValueError\u001b[39;00m(\u001b[38;5;124mf\u001b[39m\u001b[38;5;124m\"\u001b[39m\u001b[38;5;124mnew enum value must be None or in \u001b[39m\u001b[38;5;132;01m{\u001b[39;00menum_values\u001b[38;5;132;01m}\u001b[39;00m\u001b[38;5;124m, \u001b[39m\u001b[38;5;124m\"\u001b[39m\n\u001b[1;32m    322\u001b[0m                      \u001b[38;5;124mf\u001b[39m\u001b[38;5;124m\"\u001b[39m\u001b[38;5;124mgot \u001b[39m\u001b[38;5;132;01m{\u001b[39;00mnew_val\u001b[38;5;132;01m}\u001b[39;00m\u001b[38;5;124m of type \u001b[39m\u001b[38;5;132;01m{\u001b[39;00m\u001b[38;5;28mtype\u001b[39m(new_val)\u001b[38;5;132;01m}\u001b[39;00m\u001b[38;5;124m.\u001b[39m\u001b[38;5;124m\"\u001b[39m)\n\u001b[1;32m    324\u001b[0m s \u001b[38;5;241m=\u001b[39m _StateContextManager[\u001b[38;5;28mstr\u001b[39m](name, help, update_thread_local_hook, validate)\n\u001b[0;32m--> 325\u001b[0m \u001b[38;5;28msetattr\u001b[39m(Config, name, \u001b[38;5;28mproperty\u001b[39m(\u001b[38;5;28;01mlambda\u001b[39;00m _: \u001b[43ms\u001b[49m\u001b[38;5;241;43m.\u001b[39;49m\u001b[43mvalue\u001b[49m))\n\u001b[1;32m    326\u001b[0m \u001b[38;5;28;01mreturn\u001b[39;00m s\n",
      "File \u001b[0;32m~/.local/lib/python3.10/site-packages/jax/_src/config.py:540\u001b[0m, in \u001b[0;36m_StateContextManager.value\u001b[0;34m(self)\u001b[0m\n\u001b[1;32m    538\u001b[0m \u001b[38;5;129m@property\u001b[39m\n\u001b[1;32m    539\u001b[0m \u001b[38;5;28;01mdef\u001b[39;00m \u001b[38;5;21mvalue\u001b[39m(\u001b[38;5;28mself\u001b[39m) \u001b[38;5;241m-\u001b[39m\u001b[38;5;241m>\u001b[39m _T:\n\u001b[0;32m--> 540\u001b[0m   val \u001b[38;5;241m=\u001b[39m \u001b[43m_thread_local_state\u001b[49m\u001b[38;5;241;43m.\u001b[39;49m\u001b[38;5;18;43m__dict__\u001b[39;49m\u001b[38;5;241;43m.\u001b[39;49m\u001b[43mget\u001b[49m\u001b[43m(\u001b[49m\u001b[38;5;28;43mself\u001b[39;49m\u001b[38;5;241;43m.\u001b[39;49m\u001b[43m_name\u001b[49m\u001b[43m,\u001b[49m\u001b[43m \u001b[49m\u001b[43munset\u001b[49m\u001b[43m)\u001b[49m\n\u001b[1;32m    541\u001b[0m   \u001b[38;5;28;01mreturn\u001b[39;00m val \u001b[38;5;28;01mif\u001b[39;00m val \u001b[38;5;129;01mis\u001b[39;00m \u001b[38;5;129;01mnot\u001b[39;00m unset \u001b[38;5;28;01melse\u001b[39;00m config\u001b[38;5;241m.\u001b[39m_read(\u001b[38;5;28mself\u001b[39m\u001b[38;5;241m.\u001b[39m_name)\n",
      "\u001b[0;31mKeyboardInterrupt\u001b[0m: "
     ]
    }
   ],
   "source": [
    "# Define an optimizer (e.g., Adam)\n",
    "optimizer = optax.adam(learning_rate=0.01)\n",
    "opt_state = optimizer.init(params)\n",
    "lda = 1e+2\n",
    "\n",
    "num_epochs = 1000\n",
    "for epoch in range(num_epochs):\n",
    "    losses = []\n",
    "    for train_data in train_loader:\n",
    "        x, y = train_data\n",
    "        x = x.numpy()\n",
    "        y = y.numpy()\n",
    "        # Compute gradients and loss\n",
    "        # grads = jax.grad(joint_loss)(params, lda, x, y)\n",
    "        # loss = joint_loss(params, lda, x, y)\n",
    "\n",
    "        grads = jax.grad(mse_loss)(params, x, y)\n",
    "        loss = mse_loss(params, x, y)\n",
    "        \n",
    "        # Update parameters using the optimizer\n",
    "        updates, opt_state = optimizer.update(grads, opt_state)\n",
    "        params = optax.apply_updates(params, updates)\n",
    "        \n",
    "        losses.append(loss)\n",
    "\n",
    "    if (epoch + 1) % 100 == 0:\n",
    "        print(f\"Epoch [{epoch + 1}/{num_epochs}], Loss: {np.mean(np.array(losses))}\")        \n",
    "        pred, _ = model.apply(params, X_test, train=True, mutable=['batch_stats'])\n",
    "        print(f\"test Pearson r={np.round(pearsonr(pred, y_test)[0], 3)}\")"
   ]
  },
  {
   "cell_type": "code",
   "execution_count": 32,
   "id": "33dd7497-1aba-43fc-92dd-e757b058e745",
   "metadata": {
    "tags": []
   },
   "outputs": [],
   "source": [
    "from sklearn.metrics import r2_score"
   ]
  },
  {
   "cell_type": "code",
   "execution_count": 33,
   "id": "a600abf4-3d08-493b-ab1e-a0de63ab6045",
   "metadata": {
    "tags": []
   },
   "outputs": [
    {
     "data": {
      "image/png": "[encoded data removed]",
      "text/plain": [
       "<Figure size 432x288 with 1 Axes>"
      ]
     },
     "metadata": {
      "needs_background": "light"
     },
     "output_type": "display_data"
    },
    {
     "data": {
      "text/plain": [
       "PearsonRResult(statistic=0.925380121098498, pvalue=0.0)"
      ]
     },
     "execution_count": 33,
     "metadata": {},
     "output_type": "execute_result"
    }
   ],
   "source": [
    "pred, _ = model.apply(params, x, train=True, mutable=['batch_stats'])\n",
    "plt.scatter(pred, y, alpha=.1)\n",
    "plt.show()\n",
    "pearsonr(pred, y)\n",
    "# r2_score(y_train, pred)"
   ]
  },
  {
   "cell_type": "code",
   "execution_count": 34,
   "id": "dfa6f26e-da35-4da8-84b7-931a31f8004f",
   "metadata": {
    "tags": []
   },
   "outputs": [
    {
     "data": {
      "image/png": "[encoded data removed]",
      "text/plain": [
       "<Figure size 432x288 with 1 Axes>"
      ]
     },
     "metadata": {
      "needs_background": "light"
     },
     "output_type": "display_data"
    },
    {
     "data": {
      "text/plain": [
       "PearsonRResult(statistic=0.8671411212735404, pvalue=2.2559458162982254e-304)"
      ]
     },
     "execution_count": 34,
     "metadata": {},
     "output_type": "execute_result"
    }
   ],
   "source": [
    "pred, _ = model.apply(params, X_test, train=True, mutable=['batch_stats'])\n",
    "plt.scatter(pred, y_test, alpha=.1)\n",
    "plt.show()\n",
    "pearsonr(pred, y_test)\n",
    "# r2_score(y_train, pred)"
   ]
  },
  {
   "cell_type": "markdown",
   "id": "66a47d46-b7b0-4489-a8e6-062c7f950db3",
   "metadata": {
    "tags": []
   },
   "source": [
    "### Jax transformer model"
   ]
  },
  {
   "cell_type": "markdown",
   "id": "7b65f693-25bb-4646-8580-267d3e5f0bc5",
   "metadata": {
    "tags": []
   },
   "source": [
    "#### Functions"
   ]
  },
  {
   "cell_type": "code",
   "execution_count": 35,
   "id": "2a332a2a-c205-445a-83f4-b23140cdde4d",
   "metadata": {
    "tags": []
   },
   "outputs": [],
   "source": [
    "import torch\n",
    "import torch.utils.data as data\n",
    "\n",
    "class ProtDataset(data.Dataset):\n",
    "    def __init__(self, feats, labels, train=True):    \n",
    "        self.train = train\n",
    "        self.feats = feats\n",
    "        self.labels = labels\n",
    "    \n",
    "    def __len__(self):\n",
    "        return len(self.feats)\n",
    "    \n",
    "    def __getitem__(self, idx):\n",
    "        \n",
    "        X = self.feats[idx]\n",
    "        y = self.labels[idx]\n",
    "\n",
    "        return X, y"
   ]
  },
  {
   "cell_type": "code",
   "execution_count": 36,
   "id": "9a9fdf20-d4bc-487f-8d6f-2a738e46159c",
   "metadata": {
    "tags": []
   },
   "outputs": [],
   "source": [
    "import jax\n",
    "import jax.numpy as jnp\n",
    "from flax import linen as nn\n",
    "import optax\n",
    "\n",
    "\n",
    "# Define a custom loss function (mean squared error)\n",
    "def mse_loss(params, x, y):\n",
    "    predictions, _ = model.apply(params, \n",
    "                              x, rngs={'dropout': dropout_apply_rng}, train=True, mutable=['batch_stats'])    \n",
    "    loss = jnp.mean((predictions - y) ** 2)\n",
    "    return loss\n",
    "\n",
    "def reg(params, scale=1e-4):\n",
    "    return 0.5 * sum(jnp.sum(p ** 2) for p in jax.tree_util.tree_leaves(params)) * scale\n",
    "\n",
    "def attn_map_sqn(params, x):\n",
    "    binded_mod = model.bind(params, rngs={'dropout': dropout_apply_rng})\n",
    "    attn_maps = binded_mod.get_attention_maps(x, train=True)\n",
    "    attn_maps_flat = jnp.concatenate(attn_maps, axis=0).flatten()\n",
    "    return jnp.mean(attn_maps_flat**2)\n",
    "    \n",
    "\n",
    "def joint_loss(params, lda, x, y):\n",
    "    return lda*attn_map_sqn(params, x) + mse_loss(params, x, y)"
   ]
  },
  {
   "cell_type": "code",
   "execution_count": 37,
   "id": "07595716-2f04-4611-b01d-2b726e5b6d8f",
   "metadata": {
    "id": "OtxlM5CEW_2N",
    "tags": []
   },
   "outputs": [
    {
     "name": "stdout",
     "output_type": "stream",
     "text": [
      "[2.191176  2.1911674 2.1911676 2.1911674 2.6845849 2.1911674 2.1911674\n",
      " 2.1917565 2.192269  2.1911798]\n"
     ]
    }
   ],
   "source": [
    "def scaled_dot_product(q, k, v, mask=None):\n",
    "    d_k = q.shape[-1]\n",
    "    attn_logits = jnp.matmul(q, jnp.swapaxes(k, -2, -1))\n",
    "    attn_logits = attn_logits / math.sqrt(d_k)\n",
    "    if mask is not None:\n",
    "        attn_logits = jnp.where(mask == 0, -9e15, attn_logits)\n",
    "    attention = nn.softmax(attn_logits, axis=-1)\n",
    "    attention = attn_logits\n",
    "    values = jnp.matmul(attention, v)\n",
    "    return values, attention\n",
    "\n",
    "# Helper function to support different mask shapes.\n",
    "# Output shape supports (batch_size, number of heads, seq length, seq length)\n",
    "# If 2D: broadcasted over batch size and number of heads\n",
    "# If 3D: broadcasted over number of heads\n",
    "# If 4D: leave as is\n",
    "def expand_mask(mask):\n",
    "    assert mask.ndim > 2, \"Mask must be at least 2-dimensional with seq_length x seq_length\"\n",
    "    if mask.ndim == 3:\n",
    "        mask = mask.unsqueeze(1)\n",
    "    while mask.ndim < 4:\n",
    "        mask = mask.unsqueeze(0)\n",
    "    return mask\n",
    "\n",
    "class MultiheadAttention(nn.Module):\n",
    "    embed_dim : int  # Output dimension\n",
    "    num_heads : int  # Number of parallel heads (h)\n",
    "\n",
    "    def setup(self):\n",
    "        # Stack all weight matrices 1...h and W^Q, W^K, W^V together for efficiency\n",
    "        # Note that in many implementations you see \"bias=False\" which is optional\n",
    "        self.qkv_proj = nn.Dense(3*self.embed_dim,\n",
    "                                 # kernel_init=nn.initializers.xavier_uniform(),  # Weights with Xavier uniform init\n",
    "                                 kernel_init=nn.initializers.zeros,  # Weights with Xavier uniform init                                 \n",
    "                                 bias_init=nn.initializers.zeros  # Bias init with zeros\n",
    "                                )\n",
    "        self.o_proj = nn.Dense(self.embed_dim,\n",
    "                               kernel_init=nn.initializers.xavier_uniform(),\n",
    "                               bias_init=nn.initializers.zeros)\n",
    "\n",
    "    def __call__(self, x, mask=None):\n",
    "        batch_size, seq_length, embed_dim = x.shape\n",
    "        if mask is not None:\n",
    "            mask = expand_mask(mask)\n",
    "        qkv = self.qkv_proj(x)\n",
    "\n",
    "        # Separate Q, K, V from linear output\n",
    "        qkv = qkv.reshape(batch_size, seq_length, self.num_heads, -1)\n",
    "        qkv = qkv.transpose(0, 2, 1, 3) # [Batch, Head, SeqLen, Dims]\n",
    "        q, k, v = jnp.array_split(qkv, 3, axis=-1)\n",
    "\n",
    "        # Determine value outputs\n",
    "        values, attention = scaled_dot_product(q, k, v, mask=mask)\n",
    "        values = values.transpose(0, 2, 1, 3) # [Batch, SeqLen, Head, Dims]\n",
    "        values = values.reshape(batch_size, seq_length, embed_dim)\n",
    "        o = self.o_proj(values)\n",
    "\n",
    "        return o, attention\n",
    "\n",
    "class EncoderBlock(nn.Module):\n",
    "    input_dim : int  # Input dimension is needed here since it is equal to the output dimension (residual connection)\n",
    "    num_heads : int\n",
    "    dim_feedforward : int\n",
    "    dropout_prob : float\n",
    "\n",
    "    def setup(self):\n",
    "        # Attention layer\n",
    "        self.self_attn = MultiheadAttention(embed_dim=self.input_dim,\n",
    "                                            num_heads=self.num_heads)\n",
    "        # Two-layer MLP\n",
    "        self.linear = [\n",
    "            nn.Dense(self.dim_feedforward),\n",
    "            nn.Dropout(self.dropout_prob),\n",
    "            nn.relu,\n",
    "            nn.Dense(self.input_dim)\n",
    "        ]\n",
    "        # Layers to apply in between the main layers\n",
    "        self.norm1 = nn.LayerNorm()\n",
    "        self.norm2 = nn.LayerNorm()\n",
    "        self.dropout = nn.Dropout(self.dropout_prob)\n",
    "\n",
    "    def __call__(self, x, mask=None, train=True):\n",
    "        # Attention part\n",
    "        attn_out, _ = self.self_attn(x, mask=mask)\n",
    "        x = x + self.dropout(attn_out, deterministic=not train)\n",
    "        # x = self.norm1(x)\n",
    "\n",
    "        # MLP part\n",
    "        linear_out = x\n",
    "        # for l in self.linear:\n",
    "        #     linear_out = l(linear_out) if not isinstance(l, nn.Dropout) else l(linear_out, deterministic=not train)\n",
    "        x = x + self.dropout(linear_out, deterministic=not train)\n",
    "        x = self.norm2(x)\n",
    "\n",
    "        return x\n",
    "\n",
    "class TransformerEncoder(nn.Module):\n",
    "    num_layers : int\n",
    "    input_dim : int\n",
    "    num_heads : int\n",
    "    dim_feedforward : int\n",
    "    dropout_prob : float\n",
    "\n",
    "    def setup(self):\n",
    "        self.layers = [EncoderBlock(self.input_dim, self.num_heads, self.dim_feedforward, self.dropout_prob) \n",
    "                       for _ in range(self.num_layers)]\n",
    "\n",
    "    def __call__(self, x, mask=None, train=True):\n",
    "        for l in self.layers:\n",
    "            x = l(x, mask=mask, train=train)\n",
    "        return x\n",
    "\n",
    "    def get_attention_maps(self, x, mask=None, train=True):\n",
    "        # A function to return the attention maps within the model for a single application\n",
    "        # Used for visualization purpose later\n",
    "        attention_maps = []\n",
    "        for l in self.layers:\n",
    "            _, attn_map = l.self_attn(x, mask=mask)\n",
    "            attention_maps.append(attn_map)\n",
    "            x = l(x, mask=mask, train=train)\n",
    "        return attention_maps\n",
    "\n",
    "class PositionalEncoding(nn.Module):\n",
    "    d_model : int         # Hidden dimensionality of the input.\n",
    "    max_len : int = 5000  # Maximum length of a sequence to expect.\n",
    "\n",
    "    def setup(self):\n",
    "        # Create matrix of [SeqLen, HiddenDim] representing the positional encoding for max_len inputs\n",
    "        pe = np.zeros((self.max_len, self.d_model))\n",
    "        position = np.arange(0, self.max_len, dtype=np.float32)[:,None]\n",
    "        div_term = np.exp(np.arange(0, self.d_model, 2) * (-math.log(10000.0) / self.d_model))\n",
    "        pe[:, 0::2] = np.sin(position * div_term)\n",
    "        pe[:, 1::2] = np.cos(position * div_term)\n",
    "        pe = pe[None]\n",
    "        self.pe = jax.device_put(pe)\n",
    "\n",
    "    def __call__(self, x):\n",
    "        x = x + self.pe[:, :x.shape[1]]\n",
    "        return x\n",
    "\n",
    "class TransformerPredictor(nn.Module):\n",
    "    model_dim : int                   # Hidden dimensionality to use inside the Transformer\n",
    "    num_classes : int                 # Number of classes to predict per sequence element\n",
    "    num_heads : int                   # Number of heads to use in the Multi-Head Attention blocks\n",
    "    num_layers : int                  # Number of encoder blocks to use\n",
    "    dropout_prob : float = 0.0        # Dropout to apply inside the model\n",
    "    input_dropout_prob : float = 0.0  # Dropout to apply on the input features\n",
    "\n",
    "    def setup(self):\n",
    "        # Input dim -> Model dim\n",
    "        self.input_dropout = nn.Dropout(self.input_dropout_prob)\n",
    "        self.input_layer = nn.Dense(self.model_dim)\n",
    "        # Positional encoding for sequences\n",
    "        # self.positional_encoding = PositionalEncoding(self.model_dim)\n",
    "        # Transformer\n",
    "        self.transformer = TransformerEncoder(num_layers=self.num_layers,\n",
    "                                              input_dim=self.model_dim,\n",
    "                                              dim_feedforward=2*self.model_dim,\n",
    "                                              num_heads=self.num_heads,\n",
    "                                              dropout_prob=self.dropout_prob)\n",
    "        # Output classifier per sequence lement\n",
    "        self.output_net = [\n",
    "            nn.Dense(self.model_dim),\n",
    "            # nn.LayerNorm(),\n",
    "            nn.relu,\n",
    "            nn.Dropout(self.dropout_prob),\n",
    "            nn.Dense(self.num_classes)\n",
    "        ]\n",
    "        \n",
    "        self.final = nn.Dense(1)\n",
    "        self.weights = self.param('weights', lambda key, shape: jax.random.normal(key, shape=shape), (L*self.model_dim,))\n",
    "        self.bias = self.param('bias', lambda key, shape: jax.random.normal(key, shape=shape), ())\n",
    "        self.scale = self.param('scale', lambda key, shape: jax.random.normal(key, shape=shape), ())\n",
    "        self.bias1 = self.param('bias1', lambda key, shape: jax.random.normal(key, shape=shape), ())\n",
    "        self.scale1 = self.param('scale1', lambda key, shape: jax.random.normal(key, shape=shape), ())\n",
    "\n",
    "    def get_attention_maps(self, x, mask=None, train=True):\n",
    "        \"\"\"\n",
    "        Function for extracting the attention matrices of the whole Transformer for a single batch.\n",
    "        Input arguments same as the forward pass.\n",
    "        \"\"\"\n",
    "        # x = self.input_dropout(x, deterministic=not train)\n",
    "        x = self.input_layer(x)\n",
    "        attention_maps = self.transformer.get_attention_maps(x, mask=mask, train=train)\n",
    "        return attention_maps\n",
    "        \n",
    "    @nn.compact\n",
    "    def __call__(self, x, train:bool, mask=None):\n",
    "        \"\"\"\n",
    "        Inputs:\n",
    "            x - Input features of shape [Batch, SeqLen, input_dim]\n",
    "            mask - Mask to apply on the attention outputs (optional)\n",
    "            add_positional_encoding - If True, we add the positional encoding to the input.\n",
    "                                      Might not be desired for some tasks.\n",
    "            train - If True, dropout is stochastic\n",
    "        \"\"\"\n",
    "        batch_size = x.shape[0]\n",
    "        # x = self.input_dropout(x, deterministic=not train)\n",
    "        x = self.input_layer(x)\n",
    "        x = nn.BatchNorm(use_running_average=not train)(x)\n",
    "        x = self.transformer(x, mask=mask, train=train)\n",
    "        x = nn.BatchNorm(use_running_average=not train)(x)        \n",
    "        x = jnp.dot(x.reshape(batch_size, -1), self.weights)\n",
    "        x = x.reshape(-1, 1)\n",
    "        x = nn.BatchNorm(use_running_average=not train)(x)\n",
    "        x = x.reshape(-1)\n",
    "        # return x\n",
    "        return  self.scale*nn.sigmoid(x) + self.bias \n",
    "    \n",
    "\n",
    "main_rng, x_rng = random.split(main_rng)\n",
    "x = np.random.rand(10, L, 20)\n",
    "\n",
    "transpre = TransformerPredictor(num_layers=2,\n",
    "                                model_dim=20,\n",
    "                                num_classes=1,\n",
    "                                num_heads=1,\n",
    "                                dropout_prob=0.15,\n",
    "                                input_dropout_prob=0.05)\n",
    "main_rng, init_rng, dropout_init_rng = random.split(main_rng, 3)\n",
    "params = transpre.init({'params': init_rng, 'dropout': dropout_init_rng}, x, train=True)\n",
    "\n",
    "main_rng, dropout_apply_rng = random.split(main_rng)\n",
    "\n",
    "out = transpre.apply(params, x, train=False)\n",
    "print(out)"
   ]
  },
  {
   "cell_type": "markdown",
   "id": "ac71d592-e615-467d-96ae-496554d07c8f",
   "metadata": {
    "tags": []
   },
   "source": [
    "#### Train model"
   ]
  },
  {
   "cell_type": "code",
   "execution_count": 39,
   "id": "bdf5d7d9-eb27-4419-8fe5-c52dc2afc620",
   "metadata": {
    "tags": []
   },
   "outputs": [],
   "source": [
    "X = seqs1h.cpu().numpy().astype(np.float32)\n",
    "y = phenotypes.cpu().numpy()\n",
    "\n",
    "num_train = int(.1*len(X))\n",
    "train_list = np.random.choice(len(X), num_train)\n",
    "comp_list = list(set(range(len(X))).difference(train_list))\n",
    "test_list = np.random.choice(comp_list, 1000)\n",
    "\n",
    "X_train, y_train = X[train_list], y[train_list]\n",
    "X_test, y_test = X[test_list], y[test_list]\n",
    "\n",
    "train_dataset = ProtDataset(X_train, y_train)\n",
    "train_loader = data.DataLoader(train_dataset,\n",
    "                               batch_size=4000,\n",
    "                               shuffle=True,\n",
    "                               drop_last=False)"
   ]
  },
  {
   "cell_type": "markdown",
   "id": "759d08b8-7637-4fb2-9407-0c06a4bfef99",
   "metadata": {
    "tags": []
   },
   "source": [
    "#### N_layer = 1"
   ]
  },
  {
   "cell_type": "code",
   "execution_count": 195,
   "id": "298e0c4f-7e9e-4512-b45d-50b40054a316",
   "metadata": {
    "tags": []
   },
   "outputs": [
    {
     "data": {
      "image/png": "[encoded data removed]",
      "text/plain": [
       "<Figure size 432x288 with 1 Axes>"
      ]
     },
     "metadata": {
      "needs_background": "light"
     },
     "output_type": "display_data"
    }
   ],
   "source": [
    "# Create an instance of the model\n",
    "model = TransformerPredictor(num_layers=1,\n",
    "                                model_dim=AA_size*4,\n",
    "                                num_classes=1,\n",
    "                                num_heads=4,\n",
    "                                dropout_prob=0.00,\n",
    "                                input_dropout_prob=0.00)\n",
    "\n",
    "x = next(iter(train_loader))[0].numpy()\n",
    "\n",
    "# Initialize the model and optimizer state\n",
    "main_rng, init_rng, dropout_init_rng = random.split(main_rng, 3)\n",
    "# Since dropout is stochastic, we need to pass a rng to the forward\n",
    "main_rng, dropout_apply_rng = random.split(main_rng)\n",
    "\n",
    "params = model.init({'params': init_rng, 'dropout': dropout_init_rng}, x, train=True)\n",
    "\n",
    "out, updates = model.apply(params, x,\n",
    "                          rngs={'dropout': dropout_apply_rng}, train=True, mutable=['batch_stats'])\n",
    "\n",
    "plt.hist(out)\n",
    "plt.show()"
   ]
  },
  {
   "cell_type": "code",
   "execution_count": 196,
   "id": "090b0359-abbc-48b4-afed-259004ae390b",
   "metadata": {
    "collapsed": true,
    "jupyter": {
     "outputs_hidden": true
    },
    "tags": []
   },
   "outputs": [
    {
     "name": "stdout",
     "output_type": "stream",
     "text": [
      "Epoch [1/1000], Loss: 0.5210259556770325\n",
      "test Pearson r=0.786\n",
      "Epoch [2/1000], Loss: 0.19856974482536316\n",
      "test Pearson r=0.794\n",
      "Epoch [3/1000], Loss: 0.11033245176076889\n",
      "test Pearson r=0.801\n",
      "Epoch [4/1000], Loss: 0.09144588559865952\n",
      "test Pearson r=0.811\n",
      "Epoch [5/1000], Loss: 0.08292051404714584\n",
      "test Pearson r=0.818\n",
      "Epoch [6/1000], Loss: 0.07671497017145157\n",
      "test Pearson r=0.825\n",
      "Epoch [7/1000], Loss: 0.07131250947713852\n",
      "test Pearson r=0.831\n",
      "Epoch [8/1000], Loss: 0.06597568839788437\n",
      "test Pearson r=0.839\n",
      "Epoch [9/1000], Loss: 0.06033223494887352\n",
      "test Pearson r=0.85\n",
      "Epoch [10/1000], Loss: 0.05478331819176674\n",
      "test Pearson r=0.857\n",
      "Epoch [11/1000], Loss: 0.05117220804095268\n",
      "test Pearson r=0.861\n",
      "Epoch [12/1000], Loss: 0.0489717535674572\n",
      "test Pearson r=0.865\n",
      "Epoch [13/1000], Loss: 0.04774511232972145\n",
      "test Pearson r=0.864\n",
      "Epoch [14/1000], Loss: 0.04675063490867615\n",
      "test Pearson r=0.865\n",
      "Epoch [15/1000], Loss: 0.04605169966816902\n",
      "test Pearson r=0.866\n",
      "Epoch [16/1000], Loss: 0.04573993384838104\n",
      "test Pearson r=0.865\n",
      "Epoch [17/1000], Loss: 0.04562530294060707\n",
      "test Pearson r=0.866\n",
      "Epoch [18/1000], Loss: 0.045170728117227554\n",
      "test Pearson r=0.864\n",
      "Epoch [19/1000], Loss: 0.04499203711748123\n",
      "test Pearson r=0.866\n",
      "Epoch [20/1000], Loss: 0.044842541217803955\n",
      "test Pearson r=0.865\n"
     ]
    },
    {
     "ename": "KeyboardInterrupt",
     "evalue": "",
     "output_type": "error",
     "traceback": [
      "\u001b[0;31m---------------------------------------------------------------------------\u001b[0m",
      "\u001b[0;31mKeyboardInterrupt\u001b[0m                         Traceback (most recent call last)",
      "Input \u001b[0;32mIn [196]\u001b[0m, in \u001b[0;36m<cell line: 7>\u001b[0;34m()\u001b[0m\n\u001b[1;32m     12\u001b[0m y \u001b[38;5;241m=\u001b[39m y\u001b[38;5;241m.\u001b[39mnumpy()\n\u001b[1;32m     13\u001b[0m \u001b[38;5;66;03m# Compute gradients and loss\u001b[39;00m\n\u001b[1;32m     14\u001b[0m \u001b[38;5;66;03m# grads = jax.grad(joint_loss)(params, lda, x, y)\u001b[39;00m\n\u001b[1;32m     15\u001b[0m \u001b[38;5;66;03m# loss = joint_loss(params, lda, x, y)\u001b[39;00m\n\u001b[0;32m---> 17\u001b[0m grads \u001b[38;5;241m=\u001b[39m \u001b[43mjax\u001b[49m\u001b[38;5;241;43m.\u001b[39;49m\u001b[43mgrad\u001b[49m\u001b[43m(\u001b[49m\u001b[43mmse_loss\u001b[49m\u001b[43m)\u001b[49m\u001b[43m(\u001b[49m\u001b[43mparams\u001b[49m\u001b[43m,\u001b[49m\u001b[43m \u001b[49m\u001b[43mx\u001b[49m\u001b[43m,\u001b[49m\u001b[43m \u001b[49m\u001b[43my\u001b[49m\u001b[43m)\u001b[49m\n\u001b[1;32m     18\u001b[0m loss \u001b[38;5;241m=\u001b[39m mse_loss(params, x, y)\n\u001b[1;32m     20\u001b[0m \u001b[38;5;66;03m# Update parameters using the optimizer\u001b[39;00m\n",
      "    \u001b[0;31m[... skipping hidden 1 frame]\u001b[0m\n",
      "File \u001b[0;32m~/.local/lib/python3.10/site-packages/jax/_src/api.py:656\u001b[0m, in \u001b[0;36mgrad.<locals>.grad_f\u001b[0;34m(*args, **kwargs)\u001b[0m\n\u001b[1;32m    653\u001b[0m \u001b[38;5;129m@wraps\u001b[39m(fun, docstr\u001b[38;5;241m=\u001b[39mdocstr, argnums\u001b[38;5;241m=\u001b[39margnums)\n\u001b[1;32m    654\u001b[0m \u001b[38;5;129m@api_boundary\u001b[39m\n\u001b[1;32m    655\u001b[0m \u001b[38;5;28;01mdef\u001b[39;00m \u001b[38;5;21mgrad_f\u001b[39m(\u001b[38;5;241m*\u001b[39margs, \u001b[38;5;241m*\u001b[39m\u001b[38;5;241m*\u001b[39mkwargs):\n\u001b[0;32m--> 656\u001b[0m   _, g \u001b[38;5;241m=\u001b[39m \u001b[43mvalue_and_grad_f\u001b[49m\u001b[43m(\u001b[49m\u001b[38;5;241;43m*\u001b[39;49m\u001b[43margs\u001b[49m\u001b[43m,\u001b[49m\u001b[43m \u001b[49m\u001b[38;5;241;43m*\u001b[39;49m\u001b[38;5;241;43m*\u001b[39;49m\u001b[43mkwargs\u001b[49m\u001b[43m)\u001b[49m\n\u001b[1;32m    657\u001b[0m   \u001b[38;5;28;01mreturn\u001b[39;00m g\n",
      "    \u001b[0;31m[... skipping hidden 1 frame]\u001b[0m\n",
      "File \u001b[0;32m~/.local/lib/python3.10/site-packages/jax/_src/api.py:732\u001b[0m, in \u001b[0;36mvalue_and_grad.<locals>.value_and_grad_f\u001b[0;34m(*args, **kwargs)\u001b[0m\n\u001b[1;32m    730\u001b[0m   _check_input_dtype_grad(holomorphic, allow_int, leaf)\n\u001b[1;32m    731\u001b[0m \u001b[38;5;28;01mif\u001b[39;00m \u001b[38;5;129;01mnot\u001b[39;00m has_aux:\n\u001b[0;32m--> 732\u001b[0m   ans, vjp_py \u001b[38;5;241m=\u001b[39m \u001b[43m_vjp\u001b[49m\u001b[43m(\u001b[49m\u001b[43mf_partial\u001b[49m\u001b[43m,\u001b[49m\u001b[43m \u001b[49m\u001b[38;5;241;43m*\u001b[39;49m\u001b[43mdyn_args\u001b[49m\u001b[43m,\u001b[49m\u001b[43m \u001b[49m\u001b[43mreduce_axes\u001b[49m\u001b[38;5;241;43m=\u001b[39;49m\u001b[43mreduce_axes\u001b[49m\u001b[43m)\u001b[49m\n\u001b[1;32m    733\u001b[0m \u001b[38;5;28;01melse\u001b[39;00m:\n\u001b[1;32m    734\u001b[0m   ans, vjp_py, aux \u001b[38;5;241m=\u001b[39m _vjp(\n\u001b[1;32m    735\u001b[0m       f_partial, \u001b[38;5;241m*\u001b[39mdyn_args, has_aux\u001b[38;5;241m=\u001b[39m\u001b[38;5;28;01mTrue\u001b[39;00m, reduce_axes\u001b[38;5;241m=\u001b[39mreduce_axes)\n",
      "File \u001b[0;32m~/.local/lib/python3.10/site-packages/jax/_src/api.py:2238\u001b[0m, in \u001b[0;36m_vjp\u001b[0;34m(fun, has_aux, reduce_axes, *primals)\u001b[0m\n\u001b[1;32m   2236\u001b[0m \u001b[38;5;28;01mif\u001b[39;00m \u001b[38;5;129;01mnot\u001b[39;00m has_aux:\n\u001b[1;32m   2237\u001b[0m   flat_fun, out_tree \u001b[38;5;241m=\u001b[39m flatten_fun_nokwargs(fun, in_tree)\n\u001b[0;32m-> 2238\u001b[0m   out_primal, out_vjp \u001b[38;5;241m=\u001b[39m \u001b[43mad\u001b[49m\u001b[38;5;241;43m.\u001b[39;49m\u001b[43mvjp\u001b[49m\u001b[43m(\u001b[49m\n\u001b[1;32m   2239\u001b[0m \u001b[43m      \u001b[49m\u001b[43mflat_fun\u001b[49m\u001b[43m,\u001b[49m\u001b[43m \u001b[49m\u001b[43mprimals_flat\u001b[49m\u001b[43m,\u001b[49m\u001b[43m \u001b[49m\u001b[43mreduce_axes\u001b[49m\u001b[38;5;241;43m=\u001b[39;49m\u001b[43mreduce_axes\u001b[49m\u001b[43m)\u001b[49m\n\u001b[1;32m   2240\u001b[0m   out_tree \u001b[38;5;241m=\u001b[39m out_tree()\n\u001b[1;32m   2241\u001b[0m \u001b[38;5;28;01melse\u001b[39;00m:\n",
      "File \u001b[0;32m~/.local/lib/python3.10/site-packages/jax/_src/interpreters/ad.py:140\u001b[0m, in \u001b[0;36mvjp\u001b[0;34m(traceable, primals, has_aux, reduce_axes)\u001b[0m\n\u001b[1;32m    138\u001b[0m \u001b[38;5;28;01mdef\u001b[39;00m \u001b[38;5;21mvjp\u001b[39m(traceable, primals, has_aux\u001b[38;5;241m=\u001b[39m\u001b[38;5;28;01mFalse\u001b[39;00m, reduce_axes\u001b[38;5;241m=\u001b[39m()):\n\u001b[1;32m    139\u001b[0m   \u001b[38;5;28;01mif\u001b[39;00m \u001b[38;5;129;01mnot\u001b[39;00m has_aux:\n\u001b[0;32m--> 140\u001b[0m     out_primals, pvals, jaxpr, consts \u001b[38;5;241m=\u001b[39m \u001b[43mlinearize\u001b[49m\u001b[43m(\u001b[49m\u001b[43mtraceable\u001b[49m\u001b[43m,\u001b[49m\u001b[43m \u001b[49m\u001b[38;5;241;43m*\u001b[39;49m\u001b[43mprimals\u001b[49m\u001b[43m)\u001b[49m\n\u001b[1;32m    141\u001b[0m   \u001b[38;5;28;01melse\u001b[39;00m:\n\u001b[1;32m    142\u001b[0m     out_primals, pvals, jaxpr, consts, aux \u001b[38;5;241m=\u001b[39m linearize(traceable, \u001b[38;5;241m*\u001b[39mprimals, has_aux\u001b[38;5;241m=\u001b[39m\u001b[38;5;28;01mTrue\u001b[39;00m)\n",
      "File \u001b[0;32m~/.local/lib/python3.10/site-packages/jax/_src/interpreters/ad.py:129\u001b[0m, in \u001b[0;36mlinearize\u001b[0;34m(traceable, *primals, **kwargs)\u001b[0m\n\u001b[1;32m    127\u001b[0m _, in_tree \u001b[38;5;241m=\u001b[39m tree_flatten(((primals, primals), {}))\n\u001b[1;32m    128\u001b[0m jvpfun_flat, out_tree \u001b[38;5;241m=\u001b[39m flatten_fun(jvpfun, in_tree)\n\u001b[0;32m--> 129\u001b[0m jaxpr, out_pvals, consts \u001b[38;5;241m=\u001b[39m \u001b[43mpe\u001b[49m\u001b[38;5;241;43m.\u001b[39;49m\u001b[43mtrace_to_jaxpr_nounits\u001b[49m\u001b[43m(\u001b[49m\u001b[43mjvpfun_flat\u001b[49m\u001b[43m,\u001b[49m\u001b[43m \u001b[49m\u001b[43min_pvals\u001b[49m\u001b[43m)\u001b[49m\n\u001b[1;32m    130\u001b[0m out_primals_pvals, out_tangents_pvals \u001b[38;5;241m=\u001b[39m tree_unflatten(out_tree(), out_pvals)\n\u001b[1;32m    131\u001b[0m \u001b[38;5;28;01massert\u001b[39;00m \u001b[38;5;28mall\u001b[39m(out_primal_pval\u001b[38;5;241m.\u001b[39mis_known() \u001b[38;5;28;01mfor\u001b[39;00m out_primal_pval \u001b[38;5;129;01min\u001b[39;00m out_primals_pvals)\n",
      "File \u001b[0;32m~/.local/lib/python3.10/site-packages/jax/_src/profiler.py:340\u001b[0m, in \u001b[0;36mannotate_function.<locals>.wrapper\u001b[0;34m(*args, **kwargs)\u001b[0m\n\u001b[1;32m    337\u001b[0m \u001b[38;5;129m@wraps\u001b[39m(func)\n\u001b[1;32m    338\u001b[0m \u001b[38;5;28;01mdef\u001b[39;00m \u001b[38;5;21mwrapper\u001b[39m(\u001b[38;5;241m*\u001b[39margs, \u001b[38;5;241m*\u001b[39m\u001b[38;5;241m*\u001b[39mkwargs):\n\u001b[1;32m    339\u001b[0m   \u001b[38;5;28;01mwith\u001b[39;00m TraceAnnotation(name, \u001b[38;5;241m*\u001b[39m\u001b[38;5;241m*\u001b[39mdecorator_kwargs):\n\u001b[0;32m--> 340\u001b[0m     \u001b[38;5;28;01mreturn\u001b[39;00m \u001b[43mfunc\u001b[49m\u001b[43m(\u001b[49m\u001b[38;5;241;43m*\u001b[39;49m\u001b[43margs\u001b[49m\u001b[43m,\u001b[49m\u001b[43m \u001b[49m\u001b[38;5;241;43m*\u001b[39;49m\u001b[38;5;241;43m*\u001b[39;49m\u001b[43mkwargs\u001b[49m\u001b[43m)\u001b[49m\n\u001b[1;32m    341\u001b[0m   \u001b[38;5;28;01mreturn\u001b[39;00m wrapper\n",
      "File \u001b[0;32m~/.local/lib/python3.10/site-packages/jax/_src/interpreters/partial_eval.py:777\u001b[0m, in \u001b[0;36mtrace_to_jaxpr_nounits\u001b[0;34m(fun, pvals, instantiate)\u001b[0m\n\u001b[1;32m    775\u001b[0m \u001b[38;5;28;01mwith\u001b[39;00m core\u001b[38;5;241m.\u001b[39mnew_main(JaxprTrace, name_stack\u001b[38;5;241m=\u001b[39mcurrent_name_stack) \u001b[38;5;28;01mas\u001b[39;00m main:\n\u001b[1;32m    776\u001b[0m   fun \u001b[38;5;241m=\u001b[39m trace_to_subjaxpr_nounits(fun, main, instantiate)\n\u001b[0;32m--> 777\u001b[0m   jaxpr, (out_pvals, consts, env) \u001b[38;5;241m=\u001b[39m \u001b[43mfun\u001b[49m\u001b[38;5;241;43m.\u001b[39;49m\u001b[43mcall_wrapped\u001b[49m\u001b[43m(\u001b[49m\u001b[43mpvals\u001b[49m\u001b[43m)\u001b[49m\n\u001b[1;32m    778\u001b[0m   \u001b[38;5;28;01massert\u001b[39;00m \u001b[38;5;129;01mnot\u001b[39;00m env\n\u001b[1;32m    779\u001b[0m   \u001b[38;5;28;01mdel\u001b[39;00m main, fun, env\n",
      "File \u001b[0;32m~/.local/lib/python3.10/site-packages/jax/_src/linear_util.py:191\u001b[0m, in \u001b[0;36mWrappedFun.call_wrapped\u001b[0;34m(self, *args, **kwargs)\u001b[0m\n\u001b[1;32m    188\u001b[0m gen \u001b[38;5;241m=\u001b[39m gen_static_args \u001b[38;5;241m=\u001b[39m out_store \u001b[38;5;241m=\u001b[39m \u001b[38;5;28;01mNone\u001b[39;00m\n\u001b[1;32m    190\u001b[0m \u001b[38;5;28;01mtry\u001b[39;00m:\n\u001b[0;32m--> 191\u001b[0m   ans \u001b[38;5;241m=\u001b[39m \u001b[38;5;28;43mself\u001b[39;49m\u001b[38;5;241;43m.\u001b[39;49m\u001b[43mf\u001b[49m\u001b[43m(\u001b[49m\u001b[38;5;241;43m*\u001b[39;49m\u001b[43margs\u001b[49m\u001b[43m,\u001b[49m\u001b[43m \u001b[49m\u001b[38;5;241;43m*\u001b[39;49m\u001b[38;5;241;43m*\u001b[39;49m\u001b[38;5;28;43mdict\u001b[39;49m\u001b[43m(\u001b[49m\u001b[38;5;28;43mself\u001b[39;49m\u001b[38;5;241;43m.\u001b[39;49m\u001b[43mparams\u001b[49m\u001b[43m,\u001b[49m\u001b[43m \u001b[49m\u001b[38;5;241;43m*\u001b[39;49m\u001b[38;5;241;43m*\u001b[39;49m\u001b[43mkwargs\u001b[49m\u001b[43m)\u001b[49m\u001b[43m)\u001b[49m\n\u001b[1;32m    192\u001b[0m \u001b[38;5;28;01mexcept\u001b[39;00m:\n\u001b[1;32m    193\u001b[0m   \u001b[38;5;66;03m# Some transformations yield from inside context managers, so we have to\u001b[39;00m\n\u001b[1;32m    194\u001b[0m   \u001b[38;5;66;03m# interrupt them before reraising the exception. Otherwise they will only\u001b[39;00m\n\u001b[1;32m    195\u001b[0m   \u001b[38;5;66;03m# get garbage-collected at some later time, running their cleanup tasks\u001b[39;00m\n\u001b[1;32m    196\u001b[0m   \u001b[38;5;66;03m# only after this exception is handled, which can corrupt the global\u001b[39;00m\n\u001b[1;32m    197\u001b[0m   \u001b[38;5;66;03m# state.\u001b[39;00m\n\u001b[1;32m    198\u001b[0m   \u001b[38;5;28;01mwhile\u001b[39;00m stack:\n",
      "Input \u001b[0;32mIn [173]\u001b[0m, in \u001b[0;36mmse_loss\u001b[0;34m(params, x, y)\u001b[0m\n\u001b[1;32m     24\u001b[0m \u001b[38;5;28;01mdef\u001b[39;00m \u001b[38;5;21mmse_loss\u001b[39m(params, x, y):\n\u001b[0;32m---> 25\u001b[0m     predictions, _ \u001b[38;5;241m=\u001b[39m \u001b[43mmodel\u001b[49m\u001b[38;5;241;43m.\u001b[39;49m\u001b[43mapply\u001b[49m\u001b[43m(\u001b[49m\u001b[43mparams\u001b[49m\u001b[43m,\u001b[49m\u001b[43m \u001b[49m\u001b[43mx\u001b[49m\u001b[43m,\u001b[49m\u001b[43m \u001b[49m\u001b[43mtrain\u001b[49m\u001b[38;5;241;43m=\u001b[39;49m\u001b[38;5;28;43;01mTrue\u001b[39;49;00m\u001b[43m,\u001b[49m\u001b[43m \u001b[49m\u001b[43mmutable\u001b[49m\u001b[38;5;241;43m=\u001b[39;49m\u001b[43m[\u001b[49m\u001b[38;5;124;43m'\u001b[39;49m\u001b[38;5;124;43mbatch_stats\u001b[39;49m\u001b[38;5;124;43m'\u001b[39;49m\u001b[43m]\u001b[49m\u001b[43m)\u001b[49m\n\u001b[1;32m     26\u001b[0m     loss \u001b[38;5;241m=\u001b[39m jnp\u001b[38;5;241m.\u001b[39mmean((predictions \u001b[38;5;241m-\u001b[39m y) \u001b[38;5;241m*\u001b[39m\u001b[38;5;241m*\u001b[39m \u001b[38;5;241m2\u001b[39m)\n\u001b[1;32m     27\u001b[0m     \u001b[38;5;28;01mreturn\u001b[39;00m loss\n",
      "    \u001b[0;31m[... skipping hidden 1 frame]\u001b[0m\n",
      "File \u001b[0;32m~/.local/lib/python3.10/site-packages/flax/linen/module.py:1922\u001b[0m, in \u001b[0;36mModule.apply\u001b[0;34m(self, variables, rngs, method, mutable, capture_intermediates, *args, **kwargs)\u001b[0m\n\u001b[1;32m   1920\u001b[0m   method \u001b[38;5;241m=\u001b[39m \u001b[38;5;28mself\u001b[39m\u001b[38;5;241m.\u001b[39m\u001b[38;5;21m__call__\u001b[39m\n\u001b[1;32m   1921\u001b[0m method \u001b[38;5;241m=\u001b[39m _get_unbound_fn(method)\n\u001b[0;32m-> 1922\u001b[0m \u001b[38;5;28;01mreturn\u001b[39;00m \u001b[43mapply\u001b[49m\u001b[43m(\u001b[49m\n\u001b[1;32m   1923\u001b[0m \u001b[43m    \u001b[49m\u001b[43mmethod\u001b[49m\u001b[43m,\u001b[49m\n\u001b[1;32m   1924\u001b[0m \u001b[43m    \u001b[49m\u001b[38;5;28;43mself\u001b[39;49m\u001b[43m,\u001b[49m\n\u001b[1;32m   1925\u001b[0m \u001b[43m    \u001b[49m\u001b[43mmutable\u001b[49m\u001b[38;5;241;43m=\u001b[39;49m\u001b[43mmutable\u001b[49m\u001b[43m,\u001b[49m\n\u001b[1;32m   1926\u001b[0m \u001b[43m    \u001b[49m\u001b[43mcapture_intermediates\u001b[49m\u001b[38;5;241;43m=\u001b[39;49m\u001b[43mcapture_intermediates\u001b[49m\u001b[43m,\u001b[49m\n\u001b[1;32m   1927\u001b[0m \u001b[43m\u001b[49m\u001b[43m)\u001b[49m\u001b[43m(\u001b[49m\u001b[43mvariables\u001b[49m\u001b[43m,\u001b[49m\u001b[43m \u001b[49m\u001b[38;5;241;43m*\u001b[39;49m\u001b[43margs\u001b[49m\u001b[43m,\u001b[49m\u001b[43m \u001b[49m\u001b[38;5;241;43m*\u001b[39;49m\u001b[38;5;241;43m*\u001b[39;49m\u001b[43mkwargs\u001b[49m\u001b[43m,\u001b[49m\u001b[43m \u001b[49m\u001b[43mrngs\u001b[49m\u001b[38;5;241;43m=\u001b[39;49m\u001b[43mrngs\u001b[49m\u001b[43m)\u001b[49m\n",
      "File \u001b[0;32m~/.local/lib/python3.10/site-packages/flax/core/scope.py:1084\u001b[0m, in \u001b[0;36mapply.<locals>.wrapper\u001b[0;34m(variables, rngs, *args, **kwargs)\u001b[0m\n\u001b[1;32m   1079\u001b[0m   \u001b[38;5;28;01mraise\u001b[39;00m errors\u001b[38;5;241m.\u001b[39mApplyScopeInvalidVariablesStructureError(variables)\n\u001b[1;32m   1081\u001b[0m \u001b[38;5;28;01mwith\u001b[39;00m bind(\n\u001b[1;32m   1082\u001b[0m     variables, rngs\u001b[38;5;241m=\u001b[39mrngs, mutable\u001b[38;5;241m=\u001b[39mmutable, flags\u001b[38;5;241m=\u001b[39mflags\n\u001b[1;32m   1083\u001b[0m )\u001b[38;5;241m.\u001b[39mtemporary() \u001b[38;5;28;01mas\u001b[39;00m root:\n\u001b[0;32m-> 1084\u001b[0m   y \u001b[38;5;241m=\u001b[39m \u001b[43mfn\u001b[49m\u001b[43m(\u001b[49m\u001b[43mroot\u001b[49m\u001b[43m,\u001b[49m\u001b[43m \u001b[49m\u001b[38;5;241;43m*\u001b[39;49m\u001b[43margs\u001b[49m\u001b[43m,\u001b[49m\u001b[43m \u001b[49m\u001b[38;5;241;43m*\u001b[39;49m\u001b[38;5;241;43m*\u001b[39;49m\u001b[43mkwargs\u001b[49m\u001b[43m)\u001b[49m\n\u001b[1;32m   1085\u001b[0m \u001b[38;5;28;01mif\u001b[39;00m mutable \u001b[38;5;129;01mis\u001b[39;00m \u001b[38;5;129;01mnot\u001b[39;00m \u001b[38;5;28;01mFalse\u001b[39;00m:\n\u001b[1;32m   1086\u001b[0m   \u001b[38;5;28;01mreturn\u001b[39;00m y, root\u001b[38;5;241m.\u001b[39mmutable_variables()\n",
      "File \u001b[0;32m~/.local/lib/python3.10/site-packages/flax/linen/module.py:2563\u001b[0m, in \u001b[0;36mapply.<locals>.scope_fn\u001b[0;34m(scope, *args, **kwargs)\u001b[0m\n\u001b[1;32m   2561\u001b[0m _context\u001b[38;5;241m.\u001b[39mcapture_stack\u001b[38;5;241m.\u001b[39mappend(capture_intermediates)\n\u001b[1;32m   2562\u001b[0m \u001b[38;5;28;01mtry\u001b[39;00m:\n\u001b[0;32m-> 2563\u001b[0m   \u001b[38;5;28;01mreturn\u001b[39;00m \u001b[43mfn\u001b[49m\u001b[43m(\u001b[49m\u001b[43mmodule\u001b[49m\u001b[38;5;241;43m.\u001b[39;49m\u001b[43mclone\u001b[49m\u001b[43m(\u001b[49m\u001b[43mparent\u001b[49m\u001b[38;5;241;43m=\u001b[39;49m\u001b[43mscope\u001b[49m\u001b[43m,\u001b[49m\u001b[43m \u001b[49m\u001b[43m_deep_clone\u001b[49m\u001b[38;5;241;43m=\u001b[39;49m\u001b[38;5;28;43;01mTrue\u001b[39;49;00m\u001b[43m)\u001b[49m\u001b[43m,\u001b[49m\u001b[43m \u001b[49m\u001b[38;5;241;43m*\u001b[39;49m\u001b[43margs\u001b[49m\u001b[43m,\u001b[49m\u001b[43m \u001b[49m\u001b[38;5;241;43m*\u001b[39;49m\u001b[38;5;241;43m*\u001b[39;49m\u001b[43mkwargs\u001b[49m\u001b[43m)\u001b[49m\n\u001b[1;32m   2564\u001b[0m \u001b[38;5;28;01mfinally\u001b[39;00m:\n\u001b[1;32m   2565\u001b[0m   _context\u001b[38;5;241m.\u001b[39mcapture_stack\u001b[38;5;241m.\u001b[39mpop()\n",
      "File \u001b[0;32m~/.local/lib/python3.10/site-packages/flax/linen/module.py:602\u001b[0m, in \u001b[0;36mwrap_method_once.<locals>.wrapped_module_method\u001b[0;34m(*args, **kwargs)\u001b[0m\n\u001b[1;32m    600\u001b[0m \u001b[38;5;28;01mif\u001b[39;00m args \u001b[38;5;129;01mand\u001b[39;00m \u001b[38;5;28misinstance\u001b[39m(args[\u001b[38;5;241m0\u001b[39m], Module):\n\u001b[1;32m    601\u001b[0m   \u001b[38;5;28mself\u001b[39m, args \u001b[38;5;241m=\u001b[39m args[\u001b[38;5;241m0\u001b[39m], args[\u001b[38;5;241m1\u001b[39m:]\n\u001b[0;32m--> 602\u001b[0m   \u001b[38;5;28;01mreturn\u001b[39;00m \u001b[38;5;28;43mself\u001b[39;49m\u001b[38;5;241;43m.\u001b[39;49m\u001b[43m_call_wrapped_method\u001b[49m\u001b[43m(\u001b[49m\u001b[43mfun\u001b[49m\u001b[43m,\u001b[49m\u001b[43m \u001b[49m\u001b[43margs\u001b[49m\u001b[43m,\u001b[49m\u001b[43m \u001b[49m\u001b[43mkwargs\u001b[49m\u001b[43m)\u001b[49m\n\u001b[1;32m    603\u001b[0m \u001b[38;5;28;01melse\u001b[39;00m:\n\u001b[1;32m    604\u001b[0m   \u001b[38;5;28;01mreturn\u001b[39;00m fun(\u001b[38;5;241m*\u001b[39margs, \u001b[38;5;241m*\u001b[39m\u001b[38;5;241m*\u001b[39mkwargs)\n",
      "File \u001b[0;32m~/.local/lib/python3.10/site-packages/flax/linen/module.py:1119\u001b[0m, in \u001b[0;36mModule._call_wrapped_method\u001b[0;34m(self, fun, args, kwargs)\u001b[0m\n\u001b[1;32m   1117\u001b[0m \u001b[38;5;28;01mif\u001b[39;00m _use_named_call:\n\u001b[1;32m   1118\u001b[0m   \u001b[38;5;28;01mwith\u001b[39;00m jax\u001b[38;5;241m.\u001b[39mnamed_scope(_derive_profiling_name(\u001b[38;5;28mself\u001b[39m, fun)):\n\u001b[0;32m-> 1119\u001b[0m     y \u001b[38;5;241m=\u001b[39m \u001b[43mrun_fun\u001b[49m\u001b[43m(\u001b[49m\u001b[38;5;28;43mself\u001b[39;49m\u001b[43m,\u001b[49m\u001b[43m \u001b[49m\u001b[38;5;241;43m*\u001b[39;49m\u001b[43margs\u001b[49m\u001b[43m,\u001b[49m\u001b[43m \u001b[49m\u001b[38;5;241;43m*\u001b[39;49m\u001b[38;5;241;43m*\u001b[39;49m\u001b[43mkwargs\u001b[49m\u001b[43m)\u001b[49m\n\u001b[1;32m   1120\u001b[0m \u001b[38;5;28;01melse\u001b[39;00m:\n\u001b[1;32m   1121\u001b[0m   y \u001b[38;5;241m=\u001b[39m run_fun(\u001b[38;5;28mself\u001b[39m, \u001b[38;5;241m*\u001b[39margs, \u001b[38;5;241m*\u001b[39m\u001b[38;5;241m*\u001b[39mkwargs)\n",
      "Input \u001b[0;32mIn [193]\u001b[0m, in \u001b[0;36mTransformerPredictor.__call__\u001b[0;34m(self, x, train, mask)\u001b[0m\n\u001b[1;32m    199\u001b[0m x \u001b[38;5;241m=\u001b[39m \u001b[38;5;28mself\u001b[39m\u001b[38;5;241m.\u001b[39minput_layer(x)\n\u001b[1;32m    200\u001b[0m x \u001b[38;5;241m=\u001b[39m nn\u001b[38;5;241m.\u001b[39mBatchNorm(use_running_average\u001b[38;5;241m=\u001b[39m\u001b[38;5;129;01mnot\u001b[39;00m train)(x)\n\u001b[0;32m--> 201\u001b[0m x \u001b[38;5;241m=\u001b[39m \u001b[38;5;28;43mself\u001b[39;49m\u001b[38;5;241;43m.\u001b[39;49m\u001b[43mtransformer\u001b[49m\u001b[43m(\u001b[49m\u001b[43mx\u001b[49m\u001b[43m,\u001b[49m\u001b[43m \u001b[49m\u001b[43mmask\u001b[49m\u001b[38;5;241;43m=\u001b[39;49m\u001b[43mmask\u001b[49m\u001b[43m,\u001b[49m\u001b[43m \u001b[49m\u001b[43mtrain\u001b[49m\u001b[38;5;241;43m=\u001b[39;49m\u001b[43mtrain\u001b[49m\u001b[43m)\u001b[49m\n\u001b[1;32m    202\u001b[0m x \u001b[38;5;241m=\u001b[39m nn\u001b[38;5;241m.\u001b[39mBatchNorm(use_running_average\u001b[38;5;241m=\u001b[39m\u001b[38;5;129;01mnot\u001b[39;00m train)(x)        \n\u001b[1;32m    203\u001b[0m x \u001b[38;5;241m=\u001b[39m jnp\u001b[38;5;241m.\u001b[39mdot(x\u001b[38;5;241m.\u001b[39mreshape(batch_size, \u001b[38;5;241m-\u001b[39m\u001b[38;5;241m1\u001b[39m), \u001b[38;5;28mself\u001b[39m\u001b[38;5;241m.\u001b[39mweights)\n",
      "File \u001b[0;32m~/.local/lib/python3.10/site-packages/flax/linen/module.py:602\u001b[0m, in \u001b[0;36mwrap_method_once.<locals>.wrapped_module_method\u001b[0;34m(*args, **kwargs)\u001b[0m\n\u001b[1;32m    600\u001b[0m \u001b[38;5;28;01mif\u001b[39;00m args \u001b[38;5;129;01mand\u001b[39;00m \u001b[38;5;28misinstance\u001b[39m(args[\u001b[38;5;241m0\u001b[39m], Module):\n\u001b[1;32m    601\u001b[0m   \u001b[38;5;28mself\u001b[39m, args \u001b[38;5;241m=\u001b[39m args[\u001b[38;5;241m0\u001b[39m], args[\u001b[38;5;241m1\u001b[39m:]\n\u001b[0;32m--> 602\u001b[0m   \u001b[38;5;28;01mreturn\u001b[39;00m \u001b[38;5;28;43mself\u001b[39;49m\u001b[38;5;241;43m.\u001b[39;49m\u001b[43m_call_wrapped_method\u001b[49m\u001b[43m(\u001b[49m\u001b[43mfun\u001b[49m\u001b[43m,\u001b[49m\u001b[43m \u001b[49m\u001b[43margs\u001b[49m\u001b[43m,\u001b[49m\u001b[43m \u001b[49m\u001b[43mkwargs\u001b[49m\u001b[43m)\u001b[49m\n\u001b[1;32m    603\u001b[0m \u001b[38;5;28;01melse\u001b[39;00m:\n\u001b[1;32m    604\u001b[0m   \u001b[38;5;28;01mreturn\u001b[39;00m fun(\u001b[38;5;241m*\u001b[39margs, \u001b[38;5;241m*\u001b[39m\u001b[38;5;241m*\u001b[39mkwargs)\n",
      "File \u001b[0;32m~/.local/lib/python3.10/site-packages/flax/linen/module.py:1119\u001b[0m, in \u001b[0;36mModule._call_wrapped_method\u001b[0;34m(self, fun, args, kwargs)\u001b[0m\n\u001b[1;32m   1117\u001b[0m \u001b[38;5;28;01mif\u001b[39;00m _use_named_call:\n\u001b[1;32m   1118\u001b[0m   \u001b[38;5;28;01mwith\u001b[39;00m jax\u001b[38;5;241m.\u001b[39mnamed_scope(_derive_profiling_name(\u001b[38;5;28mself\u001b[39m, fun)):\n\u001b[0;32m-> 1119\u001b[0m     y \u001b[38;5;241m=\u001b[39m \u001b[43mrun_fun\u001b[49m\u001b[43m(\u001b[49m\u001b[38;5;28;43mself\u001b[39;49m\u001b[43m,\u001b[49m\u001b[43m \u001b[49m\u001b[38;5;241;43m*\u001b[39;49m\u001b[43margs\u001b[49m\u001b[43m,\u001b[49m\u001b[43m \u001b[49m\u001b[38;5;241;43m*\u001b[39;49m\u001b[38;5;241;43m*\u001b[39;49m\u001b[43mkwargs\u001b[49m\u001b[43m)\u001b[49m\n\u001b[1;32m   1120\u001b[0m \u001b[38;5;28;01melse\u001b[39;00m:\n\u001b[1;32m   1121\u001b[0m   y \u001b[38;5;241m=\u001b[39m run_fun(\u001b[38;5;28mself\u001b[39m, \u001b[38;5;241m*\u001b[39margs, \u001b[38;5;241m*\u001b[39m\u001b[38;5;241m*\u001b[39mkwargs)\n",
      "Input \u001b[0;32mIn [193]\u001b[0m, in \u001b[0;36mTransformerEncoder.__call__\u001b[0;34m(self, x, mask, train)\u001b[0m\n\u001b[1;32m    108\u001b[0m \u001b[38;5;28;01mdef\u001b[39;00m \u001b[38;5;21m__call__\u001b[39m(\u001b[38;5;28mself\u001b[39m, x, mask\u001b[38;5;241m=\u001b[39m\u001b[38;5;28;01mNone\u001b[39;00m, train\u001b[38;5;241m=\u001b[39m\u001b[38;5;28;01mTrue\u001b[39;00m):\n\u001b[1;32m    109\u001b[0m     \u001b[38;5;28;01mfor\u001b[39;00m l \u001b[38;5;129;01min\u001b[39;00m \u001b[38;5;28mself\u001b[39m\u001b[38;5;241m.\u001b[39mlayers:\n\u001b[0;32m--> 110\u001b[0m         x \u001b[38;5;241m=\u001b[39m \u001b[43ml\u001b[49m\u001b[43m(\u001b[49m\u001b[43mx\u001b[49m\u001b[43m,\u001b[49m\u001b[43m \u001b[49m\u001b[43mmask\u001b[49m\u001b[38;5;241;43m=\u001b[39;49m\u001b[43mmask\u001b[49m\u001b[43m,\u001b[49m\u001b[43m \u001b[49m\u001b[43mtrain\u001b[49m\u001b[38;5;241;43m=\u001b[39;49m\u001b[43mtrain\u001b[49m\u001b[43m)\u001b[49m\n\u001b[1;32m    111\u001b[0m     \u001b[38;5;28;01mreturn\u001b[39;00m x\n",
      "File \u001b[0;32m~/.local/lib/python3.10/site-packages/flax/linen/module.py:602\u001b[0m, in \u001b[0;36mwrap_method_once.<locals>.wrapped_module_method\u001b[0;34m(*args, **kwargs)\u001b[0m\n\u001b[1;32m    600\u001b[0m \u001b[38;5;28;01mif\u001b[39;00m args \u001b[38;5;129;01mand\u001b[39;00m \u001b[38;5;28misinstance\u001b[39m(args[\u001b[38;5;241m0\u001b[39m], Module):\n\u001b[1;32m    601\u001b[0m   \u001b[38;5;28mself\u001b[39m, args \u001b[38;5;241m=\u001b[39m args[\u001b[38;5;241m0\u001b[39m], args[\u001b[38;5;241m1\u001b[39m:]\n\u001b[0;32m--> 602\u001b[0m   \u001b[38;5;28;01mreturn\u001b[39;00m \u001b[38;5;28;43mself\u001b[39;49m\u001b[38;5;241;43m.\u001b[39;49m\u001b[43m_call_wrapped_method\u001b[49m\u001b[43m(\u001b[49m\u001b[43mfun\u001b[49m\u001b[43m,\u001b[49m\u001b[43m \u001b[49m\u001b[43margs\u001b[49m\u001b[43m,\u001b[49m\u001b[43m \u001b[49m\u001b[43mkwargs\u001b[49m\u001b[43m)\u001b[49m\n\u001b[1;32m    603\u001b[0m \u001b[38;5;28;01melse\u001b[39;00m:\n\u001b[1;32m    604\u001b[0m   \u001b[38;5;28;01mreturn\u001b[39;00m fun(\u001b[38;5;241m*\u001b[39margs, \u001b[38;5;241m*\u001b[39m\u001b[38;5;241m*\u001b[39mkwargs)\n",
      "File \u001b[0;32m~/.local/lib/python3.10/site-packages/flax/linen/module.py:1119\u001b[0m, in \u001b[0;36mModule._call_wrapped_method\u001b[0;34m(self, fun, args, kwargs)\u001b[0m\n\u001b[1;32m   1117\u001b[0m \u001b[38;5;28;01mif\u001b[39;00m _use_named_call:\n\u001b[1;32m   1118\u001b[0m   \u001b[38;5;28;01mwith\u001b[39;00m jax\u001b[38;5;241m.\u001b[39mnamed_scope(_derive_profiling_name(\u001b[38;5;28mself\u001b[39m, fun)):\n\u001b[0;32m-> 1119\u001b[0m     y \u001b[38;5;241m=\u001b[39m \u001b[43mrun_fun\u001b[49m\u001b[43m(\u001b[49m\u001b[38;5;28;43mself\u001b[39;49m\u001b[43m,\u001b[49m\u001b[43m \u001b[49m\u001b[38;5;241;43m*\u001b[39;49m\u001b[43margs\u001b[49m\u001b[43m,\u001b[49m\u001b[43m \u001b[49m\u001b[38;5;241;43m*\u001b[39;49m\u001b[38;5;241;43m*\u001b[39;49m\u001b[43mkwargs\u001b[49m\u001b[43m)\u001b[49m\n\u001b[1;32m   1120\u001b[0m \u001b[38;5;28;01melse\u001b[39;00m:\n\u001b[1;32m   1121\u001b[0m   y \u001b[38;5;241m=\u001b[39m run_fun(\u001b[38;5;28mself\u001b[39m, \u001b[38;5;241m*\u001b[39margs, \u001b[38;5;241m*\u001b[39m\u001b[38;5;241m*\u001b[39mkwargs)\n",
      "Input \u001b[0;32mIn [193]\u001b[0m, in \u001b[0;36mEncoderBlock.__call__\u001b[0;34m(self, x, mask, train)\u001b[0m\n\u001b[1;32m     82\u001b[0m \u001b[38;5;28;01mdef\u001b[39;00m \u001b[38;5;21m__call__\u001b[39m(\u001b[38;5;28mself\u001b[39m, x, mask\u001b[38;5;241m=\u001b[39m\u001b[38;5;28;01mNone\u001b[39;00m, train\u001b[38;5;241m=\u001b[39m\u001b[38;5;28;01mTrue\u001b[39;00m):\n\u001b[1;32m     83\u001b[0m     \u001b[38;5;66;03m# Attention part\u001b[39;00m\n\u001b[0;32m---> 84\u001b[0m     attn_out, _ \u001b[38;5;241m=\u001b[39m \u001b[38;5;28;43mself\u001b[39;49m\u001b[38;5;241;43m.\u001b[39;49m\u001b[43mself_attn\u001b[49m\u001b[43m(\u001b[49m\u001b[43mx\u001b[49m\u001b[43m,\u001b[49m\u001b[43m \u001b[49m\u001b[43mmask\u001b[49m\u001b[38;5;241;43m=\u001b[39;49m\u001b[43mmask\u001b[49m\u001b[43m)\u001b[49m\n\u001b[1;32m     85\u001b[0m     x \u001b[38;5;241m=\u001b[39m x \u001b[38;5;241m+\u001b[39m \u001b[38;5;28mself\u001b[39m\u001b[38;5;241m.\u001b[39mdropout(attn_out, deterministic\u001b[38;5;241m=\u001b[39m\u001b[38;5;129;01mnot\u001b[39;00m train)\n\u001b[1;32m     86\u001b[0m     \u001b[38;5;66;03m# x = self.norm1(x)\u001b[39;00m\n\u001b[1;32m     87\u001b[0m \n\u001b[1;32m     88\u001b[0m     \u001b[38;5;66;03m# MLP part\u001b[39;00m\n",
      "File \u001b[0;32m~/.local/lib/python3.10/site-packages/flax/linen/module.py:602\u001b[0m, in \u001b[0;36mwrap_method_once.<locals>.wrapped_module_method\u001b[0;34m(*args, **kwargs)\u001b[0m\n\u001b[1;32m    600\u001b[0m \u001b[38;5;28;01mif\u001b[39;00m args \u001b[38;5;129;01mand\u001b[39;00m \u001b[38;5;28misinstance\u001b[39m(args[\u001b[38;5;241m0\u001b[39m], Module):\n\u001b[1;32m    601\u001b[0m   \u001b[38;5;28mself\u001b[39m, args \u001b[38;5;241m=\u001b[39m args[\u001b[38;5;241m0\u001b[39m], args[\u001b[38;5;241m1\u001b[39m:]\n\u001b[0;32m--> 602\u001b[0m   \u001b[38;5;28;01mreturn\u001b[39;00m \u001b[38;5;28;43mself\u001b[39;49m\u001b[38;5;241;43m.\u001b[39;49m\u001b[43m_call_wrapped_method\u001b[49m\u001b[43m(\u001b[49m\u001b[43mfun\u001b[49m\u001b[43m,\u001b[49m\u001b[43m \u001b[49m\u001b[43margs\u001b[49m\u001b[43m,\u001b[49m\u001b[43m \u001b[49m\u001b[43mkwargs\u001b[49m\u001b[43m)\u001b[49m\n\u001b[1;32m    603\u001b[0m \u001b[38;5;28;01melse\u001b[39;00m:\n\u001b[1;32m    604\u001b[0m   \u001b[38;5;28;01mreturn\u001b[39;00m fun(\u001b[38;5;241m*\u001b[39margs, \u001b[38;5;241m*\u001b[39m\u001b[38;5;241m*\u001b[39mkwargs)\n",
      "File \u001b[0;32m~/.local/lib/python3.10/site-packages/flax/linen/module.py:1119\u001b[0m, in \u001b[0;36mModule._call_wrapped_method\u001b[0;34m(self, fun, args, kwargs)\u001b[0m\n\u001b[1;32m   1117\u001b[0m \u001b[38;5;28;01mif\u001b[39;00m _use_named_call:\n\u001b[1;32m   1118\u001b[0m   \u001b[38;5;28;01mwith\u001b[39;00m jax\u001b[38;5;241m.\u001b[39mnamed_scope(_derive_profiling_name(\u001b[38;5;28mself\u001b[39m, fun)):\n\u001b[0;32m-> 1119\u001b[0m     y \u001b[38;5;241m=\u001b[39m \u001b[43mrun_fun\u001b[49m\u001b[43m(\u001b[49m\u001b[38;5;28;43mself\u001b[39;49m\u001b[43m,\u001b[49m\u001b[43m \u001b[49m\u001b[38;5;241;43m*\u001b[39;49m\u001b[43margs\u001b[49m\u001b[43m,\u001b[49m\u001b[43m \u001b[49m\u001b[38;5;241;43m*\u001b[39;49m\u001b[38;5;241;43m*\u001b[39;49m\u001b[43mkwargs\u001b[49m\u001b[43m)\u001b[49m\n\u001b[1;32m   1120\u001b[0m \u001b[38;5;28;01melse\u001b[39;00m:\n\u001b[1;32m   1121\u001b[0m   y \u001b[38;5;241m=\u001b[39m run_fun(\u001b[38;5;28mself\u001b[39m, \u001b[38;5;241m*\u001b[39margs, \u001b[38;5;241m*\u001b[39m\u001b[38;5;241m*\u001b[39mkwargs)\n",
      "Input \u001b[0;32mIn [193]\u001b[0m, in \u001b[0;36mMultiheadAttention.__call__\u001b[0;34m(self, x, mask)\u001b[0m\n\u001b[1;32m     43\u001b[0m \u001b[38;5;28;01mif\u001b[39;00m mask \u001b[38;5;129;01mis\u001b[39;00m \u001b[38;5;129;01mnot\u001b[39;00m \u001b[38;5;28;01mNone\u001b[39;00m:\n\u001b[1;32m     44\u001b[0m     mask \u001b[38;5;241m=\u001b[39m expand_mask(mask)\n\u001b[0;32m---> 45\u001b[0m qkv \u001b[38;5;241m=\u001b[39m \u001b[38;5;28;43mself\u001b[39;49m\u001b[38;5;241;43m.\u001b[39;49m\u001b[43mqkv_proj\u001b[49m\u001b[43m(\u001b[49m\u001b[43mx\u001b[49m\u001b[43m)\u001b[49m\n\u001b[1;32m     47\u001b[0m \u001b[38;5;66;03m# Separate Q, K, V from linear output\u001b[39;00m\n\u001b[1;32m     48\u001b[0m qkv \u001b[38;5;241m=\u001b[39m qkv\u001b[38;5;241m.\u001b[39mreshape(batch_size, seq_length, \u001b[38;5;28mself\u001b[39m\u001b[38;5;241m.\u001b[39mnum_heads, \u001b[38;5;241m-\u001b[39m\u001b[38;5;241m1\u001b[39m)\n",
      "File \u001b[0;32m~/.local/lib/python3.10/site-packages/flax/linen/module.py:602\u001b[0m, in \u001b[0;36mwrap_method_once.<locals>.wrapped_module_method\u001b[0;34m(*args, **kwargs)\u001b[0m\n\u001b[1;32m    600\u001b[0m \u001b[38;5;28;01mif\u001b[39;00m args \u001b[38;5;129;01mand\u001b[39;00m \u001b[38;5;28misinstance\u001b[39m(args[\u001b[38;5;241m0\u001b[39m], Module):\n\u001b[1;32m    601\u001b[0m   \u001b[38;5;28mself\u001b[39m, args \u001b[38;5;241m=\u001b[39m args[\u001b[38;5;241m0\u001b[39m], args[\u001b[38;5;241m1\u001b[39m:]\n\u001b[0;32m--> 602\u001b[0m   \u001b[38;5;28;01mreturn\u001b[39;00m \u001b[38;5;28;43mself\u001b[39;49m\u001b[38;5;241;43m.\u001b[39;49m\u001b[43m_call_wrapped_method\u001b[49m\u001b[43m(\u001b[49m\u001b[43mfun\u001b[49m\u001b[43m,\u001b[49m\u001b[43m \u001b[49m\u001b[43margs\u001b[49m\u001b[43m,\u001b[49m\u001b[43m \u001b[49m\u001b[43mkwargs\u001b[49m\u001b[43m)\u001b[49m\n\u001b[1;32m    603\u001b[0m \u001b[38;5;28;01melse\u001b[39;00m:\n\u001b[1;32m    604\u001b[0m   \u001b[38;5;28;01mreturn\u001b[39;00m fun(\u001b[38;5;241m*\u001b[39margs, \u001b[38;5;241m*\u001b[39m\u001b[38;5;241m*\u001b[39mkwargs)\n",
      "File \u001b[0;32m~/.local/lib/python3.10/site-packages/flax/linen/module.py:1119\u001b[0m, in \u001b[0;36mModule._call_wrapped_method\u001b[0;34m(self, fun, args, kwargs)\u001b[0m\n\u001b[1;32m   1117\u001b[0m \u001b[38;5;28;01mif\u001b[39;00m _use_named_call:\n\u001b[1;32m   1118\u001b[0m   \u001b[38;5;28;01mwith\u001b[39;00m jax\u001b[38;5;241m.\u001b[39mnamed_scope(_derive_profiling_name(\u001b[38;5;28mself\u001b[39m, fun)):\n\u001b[0;32m-> 1119\u001b[0m     y \u001b[38;5;241m=\u001b[39m \u001b[43mrun_fun\u001b[49m\u001b[43m(\u001b[49m\u001b[38;5;28;43mself\u001b[39;49m\u001b[43m,\u001b[49m\u001b[43m \u001b[49m\u001b[38;5;241;43m*\u001b[39;49m\u001b[43margs\u001b[49m\u001b[43m,\u001b[49m\u001b[43m \u001b[49m\u001b[38;5;241;43m*\u001b[39;49m\u001b[38;5;241;43m*\u001b[39;49m\u001b[43mkwargs\u001b[49m\u001b[43m)\u001b[49m\n\u001b[1;32m   1120\u001b[0m \u001b[38;5;28;01melse\u001b[39;00m:\n\u001b[1;32m   1121\u001b[0m   y \u001b[38;5;241m=\u001b[39m run_fun(\u001b[38;5;28mself\u001b[39m, \u001b[38;5;241m*\u001b[39margs, \u001b[38;5;241m*\u001b[39m\u001b[38;5;241m*\u001b[39mkwargs)\n",
      "File \u001b[0;32m~/.local/lib/python3.10/site-packages/flax/linen/linear.py:252\u001b[0m, in \u001b[0;36mDense.__call__\u001b[0;34m(self, inputs)\u001b[0m\n\u001b[1;32m    250\u001b[0m \u001b[38;5;28;01melse\u001b[39;00m:\n\u001b[1;32m    251\u001b[0m   dot_general \u001b[38;5;241m=\u001b[39m \u001b[38;5;28mself\u001b[39m\u001b[38;5;241m.\u001b[39mdot_general\n\u001b[0;32m--> 252\u001b[0m y \u001b[38;5;241m=\u001b[39m \u001b[43mdot_general\u001b[49m\u001b[43m(\u001b[49m\n\u001b[1;32m    253\u001b[0m \u001b[43m    \u001b[49m\u001b[43minputs\u001b[49m\u001b[43m,\u001b[49m\n\u001b[1;32m    254\u001b[0m \u001b[43m    \u001b[49m\u001b[43mkernel\u001b[49m\u001b[43m,\u001b[49m\n\u001b[1;32m    255\u001b[0m \u001b[43m    \u001b[49m\u001b[43m(\u001b[49m\u001b[43m(\u001b[49m\u001b[43m(\u001b[49m\u001b[43minputs\u001b[49m\u001b[38;5;241;43m.\u001b[39;49m\u001b[43mndim\u001b[49m\u001b[43m \u001b[49m\u001b[38;5;241;43m-\u001b[39;49m\u001b[43m \u001b[49m\u001b[38;5;241;43m1\u001b[39;49m\u001b[43m,\u001b[49m\u001b[43m)\u001b[49m\u001b[43m,\u001b[49m\u001b[43m \u001b[49m\u001b[43m(\u001b[49m\u001b[38;5;241;43m0\u001b[39;49m\u001b[43m,\u001b[49m\u001b[43m)\u001b[49m\u001b[43m)\u001b[49m\u001b[43m,\u001b[49m\u001b[43m \u001b[49m\u001b[43m(\u001b[49m\u001b[43m(\u001b[49m\u001b[43m)\u001b[49m\u001b[43m,\u001b[49m\u001b[43m \u001b[49m\u001b[43m(\u001b[49m\u001b[43m)\u001b[49m\u001b[43m)\u001b[49m\u001b[43m)\u001b[49m\u001b[43m,\u001b[49m\n\u001b[1;32m    256\u001b[0m \u001b[43m    \u001b[49m\u001b[43mprecision\u001b[49m\u001b[38;5;241;43m=\u001b[39;49m\u001b[38;5;28;43mself\u001b[39;49m\u001b[38;5;241;43m.\u001b[39;49m\u001b[43mprecision\u001b[49m\u001b[43m,\u001b[49m\n\u001b[1;32m    257\u001b[0m \u001b[43m\u001b[49m\u001b[43m)\u001b[49m\n\u001b[1;32m    258\u001b[0m \u001b[38;5;28;01mif\u001b[39;00m bias \u001b[38;5;129;01mis\u001b[39;00m \u001b[38;5;129;01mnot\u001b[39;00m \u001b[38;5;28;01mNone\u001b[39;00m:\n\u001b[1;32m    259\u001b[0m   y \u001b[38;5;241m+\u001b[39m\u001b[38;5;241m=\u001b[39m jnp\u001b[38;5;241m.\u001b[39mreshape(bias, (\u001b[38;5;241m1\u001b[39m,) \u001b[38;5;241m*\u001b[39m (y\u001b[38;5;241m.\u001b[39mndim \u001b[38;5;241m-\u001b[39m \u001b[38;5;241m1\u001b[39m) \u001b[38;5;241m+\u001b[39m (\u001b[38;5;241m-\u001b[39m\u001b[38;5;241m1\u001b[39m,))\n",
      "File \u001b[0;32m~/.local/lib/python3.10/site-packages/jax/_src/lax/lax.py:754\u001b[0m, in \u001b[0;36mdot_general\u001b[0;34m(lhs, rhs, dimension_numbers, precision, preferred_element_type)\u001b[0m\n\u001b[1;32m    749\u001b[0m bdims \u001b[38;5;241m=\u001b[39m (api_util\u001b[38;5;241m.\u001b[39m_ensure_index_tuple(lhs_batch),\n\u001b[1;32m    750\u001b[0m          api_util\u001b[38;5;241m.\u001b[39m_ensure_index_tuple(rhs_batch))\n\u001b[1;32m    751\u001b[0m preferred_element_type \u001b[38;5;241m=\u001b[39m (\n\u001b[1;32m    752\u001b[0m     \u001b[38;5;28;01mNone\u001b[39;00m \u001b[38;5;28;01mif\u001b[39;00m preferred_element_type \u001b[38;5;129;01mis\u001b[39;00m \u001b[38;5;28;01mNone\u001b[39;00m \u001b[38;5;28;01melse\u001b[39;00m\n\u001b[1;32m    753\u001b[0m     dtypes\u001b[38;5;241m.\u001b[39mcanonicalize_dtype(np\u001b[38;5;241m.\u001b[39mdtype(preferred_element_type)))\n\u001b[0;32m--> 754\u001b[0m \u001b[38;5;28;01mreturn\u001b[39;00m \u001b[43mdot_general_p\u001b[49m\u001b[38;5;241;43m.\u001b[39;49m\u001b[43mbind\u001b[49m\u001b[43m(\u001b[49m\u001b[43mlhs\u001b[49m\u001b[43m,\u001b[49m\u001b[43m \u001b[49m\u001b[43mrhs\u001b[49m\u001b[43m,\u001b[49m\n\u001b[1;32m    755\u001b[0m \u001b[43m                          \u001b[49m\u001b[43mdimension_numbers\u001b[49m\u001b[38;5;241;43m=\u001b[39;49m\u001b[43m(\u001b[49m\u001b[43mcdims\u001b[49m\u001b[43m,\u001b[49m\u001b[43m \u001b[49m\u001b[43mbdims\u001b[49m\u001b[43m)\u001b[49m\u001b[43m,\u001b[49m\n\u001b[1;32m    756\u001b[0m \u001b[43m                          \u001b[49m\u001b[43mprecision\u001b[49m\u001b[38;5;241;43m=\u001b[39;49m\u001b[43mcanonicalize_precision\u001b[49m\u001b[43m(\u001b[49m\u001b[43mprecision\u001b[49m\u001b[43m)\u001b[49m\u001b[43m,\u001b[49m\n\u001b[1;32m    757\u001b[0m \u001b[43m                          \u001b[49m\u001b[43mpreferred_element_type\u001b[49m\u001b[38;5;241;43m=\u001b[39;49m\u001b[43mpreferred_element_type\u001b[49m\u001b[43m)\u001b[49m\n",
      "File \u001b[0;32m~/.local/lib/python3.10/site-packages/jax/_src/core.py:385\u001b[0m, in \u001b[0;36mPrimitive.bind\u001b[0;34m(self, *args, **params)\u001b[0m\n\u001b[1;32m    382\u001b[0m \u001b[38;5;28;01mdef\u001b[39;00m \u001b[38;5;21mbind\u001b[39m(\u001b[38;5;28mself\u001b[39m, \u001b[38;5;241m*\u001b[39margs, \u001b[38;5;241m*\u001b[39m\u001b[38;5;241m*\u001b[39mparams):\n\u001b[1;32m    383\u001b[0m   \u001b[38;5;28;01massert\u001b[39;00m (\u001b[38;5;129;01mnot\u001b[39;00m config\u001b[38;5;241m.\u001b[39menable_checks\u001b[38;5;241m.\u001b[39mvalue \u001b[38;5;129;01mor\u001b[39;00m\n\u001b[1;32m    384\u001b[0m           \u001b[38;5;28mall\u001b[39m(\u001b[38;5;28misinstance\u001b[39m(arg, Tracer) \u001b[38;5;129;01mor\u001b[39;00m valid_jaxtype(arg) \u001b[38;5;28;01mfor\u001b[39;00m arg \u001b[38;5;129;01min\u001b[39;00m args)), args\n\u001b[0;32m--> 385\u001b[0m   \u001b[38;5;28;01mreturn\u001b[39;00m \u001b[38;5;28;43mself\u001b[39;49m\u001b[38;5;241;43m.\u001b[39;49m\u001b[43mbind_with_trace\u001b[49m\u001b[43m(\u001b[49m\u001b[43mfind_top_trace\u001b[49m\u001b[43m(\u001b[49m\u001b[43margs\u001b[49m\u001b[43m)\u001b[49m\u001b[43m,\u001b[49m\u001b[43m \u001b[49m\u001b[43margs\u001b[49m\u001b[43m,\u001b[49m\u001b[43m \u001b[49m\u001b[43mparams\u001b[49m\u001b[43m)\u001b[49m\n",
      "File \u001b[0;32m~/.local/lib/python3.10/site-packages/jax/_src/core.py:388\u001b[0m, in \u001b[0;36mPrimitive.bind_with_trace\u001b[0;34m(self, trace, args, params)\u001b[0m\n\u001b[1;32m    387\u001b[0m \u001b[38;5;28;01mdef\u001b[39;00m \u001b[38;5;21mbind_with_trace\u001b[39m(\u001b[38;5;28mself\u001b[39m, trace, args, params):\n\u001b[0;32m--> 388\u001b[0m   out \u001b[38;5;241m=\u001b[39m \u001b[43mtrace\u001b[49m\u001b[38;5;241;43m.\u001b[39;49m\u001b[43mprocess_primitive\u001b[49m\u001b[43m(\u001b[49m\u001b[38;5;28;43mself\u001b[39;49m\u001b[43m,\u001b[49m\u001b[43m \u001b[49m\u001b[38;5;28;43mmap\u001b[39;49m\u001b[43m(\u001b[49m\u001b[43mtrace\u001b[49m\u001b[38;5;241;43m.\u001b[39;49m\u001b[43mfull_raise\u001b[49m\u001b[43m,\u001b[49m\u001b[43m \u001b[49m\u001b[43margs\u001b[49m\u001b[43m)\u001b[49m\u001b[43m,\u001b[49m\u001b[43m \u001b[49m\u001b[43mparams\u001b[49m\u001b[43m)\u001b[49m\n\u001b[1;32m    389\u001b[0m   \u001b[38;5;28;01mreturn\u001b[39;00m \u001b[38;5;28mmap\u001b[39m(full_lower, out) \u001b[38;5;28;01mif\u001b[39;00m \u001b[38;5;28mself\u001b[39m\u001b[38;5;241m.\u001b[39mmultiple_results \u001b[38;5;28;01melse\u001b[39;00m full_lower(out)\n",
      "File \u001b[0;32m~/.local/lib/python3.10/site-packages/jax/_src/interpreters/ad.py:316\u001b[0m, in \u001b[0;36mJVPTrace.process_primitive\u001b[0;34m(self, primitive, tracers, params)\u001b[0m\n\u001b[1;32m    314\u001b[0m   msg \u001b[38;5;241m=\u001b[39m \u001b[38;5;124mf\u001b[39m\u001b[38;5;124m\"\u001b[39m\u001b[38;5;124mDifferentiation rule for \u001b[39m\u001b[38;5;124m'\u001b[39m\u001b[38;5;132;01m{\u001b[39;00mprimitive\u001b[38;5;132;01m}\u001b[39;00m\u001b[38;5;124m'\u001b[39m\u001b[38;5;124m not implemented\u001b[39m\u001b[38;5;124m\"\u001b[39m\n\u001b[1;32m    315\u001b[0m   \u001b[38;5;28;01mraise\u001b[39;00m \u001b[38;5;167;01mNotImplementedError\u001b[39;00m(msg)\n\u001b[0;32m--> 316\u001b[0m primal_out, tangent_out \u001b[38;5;241m=\u001b[39m \u001b[43mjvp\u001b[49m\u001b[43m(\u001b[49m\u001b[43mprimals_in\u001b[49m\u001b[43m,\u001b[49m\u001b[43m \u001b[49m\u001b[43mtangents_in\u001b[49m\u001b[43m,\u001b[49m\u001b[43m \u001b[49m\u001b[38;5;241;43m*\u001b[39;49m\u001b[38;5;241;43m*\u001b[39;49m\u001b[43mparams\u001b[49m\u001b[43m)\u001b[49m\n\u001b[1;32m    317\u001b[0m \u001b[38;5;28;01mif\u001b[39;00m primitive\u001b[38;5;241m.\u001b[39mmultiple_results:\n\u001b[1;32m    318\u001b[0m   \u001b[38;5;28;01mreturn\u001b[39;00m [JVPTracer(\u001b[38;5;28mself\u001b[39m, x, t) \u001b[38;5;28;01mfor\u001b[39;00m x, t \u001b[38;5;129;01min\u001b[39;00m \u001b[38;5;28mzip\u001b[39m(primal_out, tangent_out)]\n",
      "File \u001b[0;32m~/.local/lib/python3.10/site-packages/jax/_src/interpreters/ad.py:535\u001b[0m, in \u001b[0;36mstandard_jvp\u001b[0;34m(jvprules, primitive, primals, tangents, **params)\u001b[0m\n\u001b[1;32m    532\u001b[0m val_out \u001b[38;5;241m=\u001b[39m primitive\u001b[38;5;241m.\u001b[39mbind(\u001b[38;5;241m*\u001b[39mprimals, \u001b[38;5;241m*\u001b[39m\u001b[38;5;241m*\u001b[39mparams)\n\u001b[1;32m    533\u001b[0m tangents_out \u001b[38;5;241m=\u001b[39m [rule(t, \u001b[38;5;241m*\u001b[39mprimals, \u001b[38;5;241m*\u001b[39m\u001b[38;5;241m*\u001b[39mparams) \u001b[38;5;28;01mfor\u001b[39;00m rule, t \u001b[38;5;129;01min\u001b[39;00m \u001b[38;5;28mzip\u001b[39m(jvprules, tangents)\n\u001b[1;32m    534\u001b[0m                 \u001b[38;5;28;01mif\u001b[39;00m rule \u001b[38;5;129;01mis\u001b[39;00m \u001b[38;5;129;01mnot\u001b[39;00m \u001b[38;5;28;01mNone\u001b[39;00m \u001b[38;5;129;01mand\u001b[39;00m \u001b[38;5;28mtype\u001b[39m(t) \u001b[38;5;129;01mis\u001b[39;00m \u001b[38;5;129;01mnot\u001b[39;00m Zero]\n\u001b[0;32m--> 535\u001b[0m \u001b[38;5;28;01mreturn\u001b[39;00m val_out, \u001b[43mfunctools\u001b[49m\u001b[38;5;241;43m.\u001b[39;49m\u001b[43mreduce\u001b[49m\u001b[43m(\u001b[49m\u001b[43madd_tangents\u001b[49m\u001b[43m,\u001b[49m\u001b[43m \u001b[49m\u001b[43mtangents_out\u001b[49m\u001b[43m,\u001b[49m\u001b[43m \u001b[49m\u001b[43mZero\u001b[49m\u001b[38;5;241;43m.\u001b[39;49m\u001b[43mfrom_value\u001b[49m\u001b[43m(\u001b[49m\u001b[43mval_out\u001b[49m\u001b[43m)\u001b[49m\u001b[43m)\u001b[49m\n",
      "File \u001b[0;32m~/.local/lib/python3.10/site-packages/jax/_src/interpreters/ad.py:555\u001b[0m, in \u001b[0;36madd_tangents\u001b[0;34m(x, y)\u001b[0m\n\u001b[1;32m    553\u001b[0m   \u001b[38;5;28;01mreturn\u001b[39;00m x\n\u001b[1;32m    554\u001b[0m \u001b[38;5;28;01melse\u001b[39;00m:\n\u001b[0;32m--> 555\u001b[0m   \u001b[38;5;28;01mreturn\u001b[39;00m \u001b[43madd_jaxvals\u001b[49m\u001b[43m(\u001b[49m\u001b[43mx\u001b[49m\u001b[43m,\u001b[49m\u001b[43m \u001b[49m\u001b[43my\u001b[49m\u001b[43m)\u001b[49m\n",
      "File \u001b[0;32m~/.local/lib/python3.10/site-packages/jax/_src/ad_util.py:36\u001b[0m, in \u001b[0;36madd_jaxvals\u001b[0;34m(x, y)\u001b[0m\n\u001b[1;32m     35\u001b[0m \u001b[38;5;28;01mdef\u001b[39;00m \u001b[38;5;21madd_jaxvals\u001b[39m(x: ArrayLike, y: ArrayLike) \u001b[38;5;241m-\u001b[39m\u001b[38;5;241m>\u001b[39m Array:\n\u001b[0;32m---> 36\u001b[0m   \u001b[38;5;28;01mreturn\u001b[39;00m \u001b[43madd_jaxvals_p\u001b[49m\u001b[38;5;241;43m.\u001b[39;49m\u001b[43mbind\u001b[49m\u001b[43m(\u001b[49m\u001b[43mx\u001b[49m\u001b[43m,\u001b[49m\u001b[43m \u001b[49m\u001b[43my\u001b[49m\u001b[43m)\u001b[49m\n",
      "File \u001b[0;32m~/.local/lib/python3.10/site-packages/jax/_src/core.py:385\u001b[0m, in \u001b[0;36mPrimitive.bind\u001b[0;34m(self, *args, **params)\u001b[0m\n\u001b[1;32m    382\u001b[0m \u001b[38;5;28;01mdef\u001b[39;00m \u001b[38;5;21mbind\u001b[39m(\u001b[38;5;28mself\u001b[39m, \u001b[38;5;241m*\u001b[39margs, \u001b[38;5;241m*\u001b[39m\u001b[38;5;241m*\u001b[39mparams):\n\u001b[1;32m    383\u001b[0m   \u001b[38;5;28;01massert\u001b[39;00m (\u001b[38;5;129;01mnot\u001b[39;00m config\u001b[38;5;241m.\u001b[39menable_checks\u001b[38;5;241m.\u001b[39mvalue \u001b[38;5;129;01mor\u001b[39;00m\n\u001b[1;32m    384\u001b[0m           \u001b[38;5;28mall\u001b[39m(\u001b[38;5;28misinstance\u001b[39m(arg, Tracer) \u001b[38;5;129;01mor\u001b[39;00m valid_jaxtype(arg) \u001b[38;5;28;01mfor\u001b[39;00m arg \u001b[38;5;129;01min\u001b[39;00m args)), args\n\u001b[0;32m--> 385\u001b[0m   \u001b[38;5;28;01mreturn\u001b[39;00m \u001b[38;5;28;43mself\u001b[39;49m\u001b[38;5;241;43m.\u001b[39;49m\u001b[43mbind_with_trace\u001b[49m\u001b[43m(\u001b[49m\u001b[43mfind_top_trace\u001b[49m\u001b[43m(\u001b[49m\u001b[43margs\u001b[49m\u001b[43m)\u001b[49m\u001b[43m,\u001b[49m\u001b[43m \u001b[49m\u001b[43margs\u001b[49m\u001b[43m,\u001b[49m\u001b[43m \u001b[49m\u001b[43mparams\u001b[49m\u001b[43m)\u001b[49m\n",
      "File \u001b[0;32m~/.local/lib/python3.10/site-packages/jax/_src/core.py:388\u001b[0m, in \u001b[0;36mPrimitive.bind_with_trace\u001b[0;34m(self, trace, args, params)\u001b[0m\n\u001b[1;32m    387\u001b[0m \u001b[38;5;28;01mdef\u001b[39;00m \u001b[38;5;21mbind_with_trace\u001b[39m(\u001b[38;5;28mself\u001b[39m, trace, args, params):\n\u001b[0;32m--> 388\u001b[0m   out \u001b[38;5;241m=\u001b[39m \u001b[43mtrace\u001b[49m\u001b[38;5;241;43m.\u001b[39;49m\u001b[43mprocess_primitive\u001b[49m\u001b[43m(\u001b[49m\u001b[38;5;28;43mself\u001b[39;49m\u001b[43m,\u001b[49m\u001b[43m \u001b[49m\u001b[38;5;28;43mmap\u001b[39;49m\u001b[43m(\u001b[49m\u001b[43mtrace\u001b[49m\u001b[38;5;241;43m.\u001b[39;49m\u001b[43mfull_raise\u001b[49m\u001b[43m,\u001b[49m\u001b[43m \u001b[49m\u001b[43margs\u001b[49m\u001b[43m)\u001b[49m\u001b[43m,\u001b[49m\u001b[43m \u001b[49m\u001b[43mparams\u001b[49m\u001b[43m)\u001b[49m\n\u001b[1;32m    389\u001b[0m   \u001b[38;5;28;01mreturn\u001b[39;00m \u001b[38;5;28mmap\u001b[39m(full_lower, out) \u001b[38;5;28;01mif\u001b[39;00m \u001b[38;5;28mself\u001b[39m\u001b[38;5;241m.\u001b[39mmultiple_results \u001b[38;5;28;01melse\u001b[39;00m full_lower(out)\n",
      "File \u001b[0;32m~/.local/lib/python3.10/site-packages/jax/_src/interpreters/partial_eval.py:215\u001b[0m, in \u001b[0;36mJaxprTrace.process_primitive\u001b[0;34m(self, primitive, tracers, params)\u001b[0m\n\u001b[1;32m    213\u001b[0m   \u001b[38;5;28;01mreturn\u001b[39;00m custom_partial_eval_rules[primitive](\u001b[38;5;28mself\u001b[39m, \u001b[38;5;241m*\u001b[39mtracers, \u001b[38;5;241m*\u001b[39m\u001b[38;5;241m*\u001b[39mparams)\n\u001b[1;32m    214\u001b[0m \u001b[38;5;28;01melse\u001b[39;00m:\n\u001b[0;32m--> 215\u001b[0m   \u001b[38;5;28;01mreturn\u001b[39;00m \u001b[38;5;28;43mself\u001b[39;49m\u001b[38;5;241;43m.\u001b[39;49m\u001b[43mdefault_process_primitive\u001b[49m\u001b[43m(\u001b[49m\u001b[43mprimitive\u001b[49m\u001b[43m,\u001b[49m\u001b[43m \u001b[49m\u001b[43mtracers\u001b[49m\u001b[43m,\u001b[49m\u001b[43m \u001b[49m\u001b[43mparams\u001b[49m\u001b[43m)\u001b[49m\n",
      "File \u001b[0;32m~/.local/lib/python3.10/site-packages/jax/_src/interpreters/partial_eval.py:228\u001b[0m, in \u001b[0;36mJaxprTrace.default_process_primitive\u001b[0;34m(self, primitive, tracers, params)\u001b[0m\n\u001b[1;32m    226\u001b[0m out_aval, effects \u001b[38;5;241m=\u001b[39m primitive\u001b[38;5;241m.\u001b[39mabstract_eval(\u001b[38;5;241m*\u001b[39mavals, \u001b[38;5;241m*\u001b[39m\u001b[38;5;241m*\u001b[39mparams)\n\u001b[1;32m    227\u001b[0m name_stack \u001b[38;5;241m=\u001b[39m \u001b[38;5;28mself\u001b[39m\u001b[38;5;241m.\u001b[39m_current_truncated_name_stack()\n\u001b[0;32m--> 228\u001b[0m source \u001b[38;5;241m=\u001b[39m \u001b[43msource_info_util\u001b[49m\u001b[38;5;241;43m.\u001b[39;49m\u001b[43mcurrent\u001b[49m\u001b[43m(\u001b[49m\u001b[43m)\u001b[49m\u001b[38;5;241m.\u001b[39mreplace(name_stack\u001b[38;5;241m=\u001b[39mname_stack)\n\u001b[1;32m    229\u001b[0m \u001b[38;5;28;01mif\u001b[39;00m primitive\u001b[38;5;241m.\u001b[39mmultiple_results:\n\u001b[1;32m    230\u001b[0m   out_tracers \u001b[38;5;241m=\u001b[39m [JaxprTracer(\u001b[38;5;28mself\u001b[39m, PartialVal\u001b[38;5;241m.\u001b[39munknown(aval), \u001b[38;5;28;01mNone\u001b[39;00m)\n\u001b[1;32m    231\u001b[0m                  \u001b[38;5;28;01mfor\u001b[39;00m aval \u001b[38;5;129;01min\u001b[39;00m out_aval]\n",
      "File \u001b[0;32m~/.local/lib/python3.10/site-packages/jax/_src/source_info_util.py:201\u001b[0m, in \u001b[0;36mcurrent\u001b[0;34m()\u001b[0m\n\u001b[1;32m    199\u001b[0m source_info \u001b[38;5;241m=\u001b[39m _source_info_context\u001b[38;5;241m.\u001b[39mcontext\n\u001b[1;32m    200\u001b[0m \u001b[38;5;28;01mif\u001b[39;00m \u001b[38;5;129;01mnot\u001b[39;00m source_info\u001b[38;5;241m.\u001b[39mtraceback:\n\u001b[0;32m--> 201\u001b[0m   source_info \u001b[38;5;241m=\u001b[39m source_info\u001b[38;5;241m.\u001b[39mreplace(traceback\u001b[38;5;241m=\u001b[39m\u001b[43mxla_client\u001b[49m\u001b[38;5;241;43m.\u001b[39;49m\u001b[43mTraceback\u001b[49m\u001b[38;5;241;43m.\u001b[39;49m\u001b[43mget_traceback\u001b[49m\u001b[43m(\u001b[49m\u001b[43m)\u001b[49m)\n\u001b[1;32m    202\u001b[0m \u001b[38;5;28;01mreturn\u001b[39;00m source_info\n",
      "\u001b[0;31mKeyboardInterrupt\u001b[0m: "
     ]
    }
   ],
   "source": [
    "### Define an optimizer (e.g., Adam)\n",
    "optimizer = optax.adam(learning_rate=0.01)\n",
    "opt_state = optimizer.init(params)\n",
    "lda = 1e+2\n",
    "\n",
    "num_epochs = 1000\n",
    "for epoch in range(num_epochs):\n",
    "    losses = []\n",
    "    for train_data in train_loader:\n",
    "        x, y = train_data\n",
    "        x = x.numpy()\n",
    "        y = y.numpy()\n",
    "        # Compute gradients and loss\n",
    "        # grads = jax.grad(joint_loss)(params, lda, x, y)\n",
    "        # loss = joint_loss(params, lda, x, y)\n",
    "\n",
    "        grads = jax.grad(mse_loss)(params, x, y)\n",
    "        loss = mse_loss(params, x, y)\n",
    "        \n",
    "        # Update parameters using the optimizer\n",
    "        updates, opt_state = optimizer.update(grads, opt_state)\n",
    "        params = optax.apply_updates(params, updates)\n",
    "        \n",
    "        losses.append(loss)\n",
    "\n",
    "    if (epoch + 1) % 1 == 0:\n",
    "        print(f\"Epoch [{epoch + 1}/{num_epochs}], Loss: {np.mean(np.array(losses))}\")        \n",
    "        pred, _ = model.apply(params, X_test, rngs={'dropout': dropout_apply_rng}, train=True, mutable=['batch_stats'])\n",
    "        print(f\"test Pearson r={np.round(pearsonr(pred, y_test)[0], 3)}\")"
   ]
  },
  {
   "cell_type": "markdown",
   "id": "51513076-7797-4db3-aec2-0a7d95bd8b67",
   "metadata": {
    "jp-MarkdownHeadingCollapsed": true,
    "tags": []
   },
   "source": [
    "#### N_layer = 2"
   ]
  },
  {
   "cell_type": "code",
   "execution_count": 40,
   "id": "2057c924-e70a-467c-83bc-39db1813007a",
   "metadata": {
    "tags": []
   },
   "outputs": [
    {
     "data": {
      "image/png": "[encoded data removed]",
      "text/plain": [
       "<Figure size 432x288 with 1 Axes>"
      ]
     },
     "metadata": {
      "needs_background": "light"
     },
     "output_type": "display_data"
    }
   ],
   "source": [
    "# Create an instance of the model\n",
    "model = TransformerPredictor(num_layers=2,\n",
    "                                model_dim=80,\n",
    "                                num_classes=1,\n",
    "                                num_heads=4,\n",
    "                                dropout_prob=0.0,\n",
    "                                input_dropout_prob=0.00)\n",
    "\n",
    "x = next(iter(train_loader))[0].numpy()\n",
    "\n",
    "# Initialize the model and optimizer state\n",
    "main_rng, init_rng, dropout_init_rng = random.split(main_rng, 3)\n",
    "# Since dropout is stochastic, we need to pass a rng to the forward\n",
    "main_rng, dropout_apply_rng = random.split(main_rng)\n",
    "\n",
    "params = model.init({'params': init_rng, 'dropout': dropout_init_rng}, x, train=True)\n",
    "\n",
    "out, updates = model.apply(params, x,\n",
    "                          rngs={'dropout': dropout_apply_rng}, train=True, mutable=['batch_stats'])\n",
    "\n",
    "plt.hist(out)\n",
    "plt.show()"
   ]
  },
  {
   "cell_type": "code",
   "execution_count": 41,
   "id": "b72bf550-7f5e-4ab5-8adb-1c1f8f87a7e8",
   "metadata": {
    "collapsed": true,
    "jupyter": {
     "outputs_hidden": true
    },
    "tags": []
   },
   "outputs": [
    {
     "name": "stdout",
     "output_type": "stream",
     "text": [
      "Epoch [1/1000], Loss: 2.5118026733398438\n",
      "test Pearson r=0.649\n",
      "Epoch [2/1000], Loss: 2.2106916904449463\n",
      "test Pearson r=0.7\n",
      "Epoch [3/1000], Loss: 2.0185673236846924\n",
      "test Pearson r=0.712\n",
      "Epoch [4/1000], Loss: 1.8616138696670532\n",
      "test Pearson r=0.716\n",
      "Epoch [5/1000], Loss: 1.6974778175354004\n",
      "test Pearson r=0.72\n",
      "Epoch [6/1000], Loss: 1.5474191904067993\n",
      "test Pearson r=0.723\n",
      "Epoch [7/1000], Loss: 1.4041171073913574\n",
      "test Pearson r=0.726\n",
      "Epoch [8/1000], Loss: 1.2773942947387695\n",
      "test Pearson r=0.729\n",
      "Epoch [9/1000], Loss: 1.1516103744506836\n",
      "test Pearson r=0.731\n",
      "Epoch [10/1000], Loss: 1.030158519744873\n",
      "test Pearson r=0.734\n",
      "Epoch [11/1000], Loss: 0.9328880310058594\n",
      "test Pearson r=0.736\n",
      "Epoch [12/1000], Loss: 0.8356671333312988\n",
      "test Pearson r=0.737\n",
      "Epoch [13/1000], Loss: 0.7514541149139404\n",
      "test Pearson r=0.739\n",
      "Epoch [14/1000], Loss: 0.668623149394989\n",
      "test Pearson r=0.74\n",
      "Epoch [15/1000], Loss: 0.6005322337150574\n",
      "test Pearson r=0.741\n",
      "Epoch [16/1000], Loss: 0.5360739827156067\n",
      "test Pearson r=0.743\n",
      "Epoch [17/1000], Loss: 0.47854140400886536\n",
      "test Pearson r=0.744\n",
      "Epoch [18/1000], Loss: 0.42945435643196106\n",
      "test Pearson r=0.745\n",
      "Epoch [19/1000], Loss: 0.38679373264312744\n",
      "test Pearson r=0.745\n",
      "Epoch [20/1000], Loss: 0.34723007678985596\n",
      "test Pearson r=0.746\n",
      "Epoch [21/1000], Loss: 0.3156889081001282\n",
      "test Pearson r=0.747\n",
      "Epoch [22/1000], Loss: 0.28083494305610657\n",
      "test Pearson r=0.748\n",
      "Epoch [23/1000], Loss: 0.2555544078350067\n",
      "test Pearson r=0.748\n",
      "Epoch [24/1000], Loss: 0.2328377217054367\n",
      "test Pearson r=0.749\n",
      "Epoch [25/1000], Loss: 0.2142515331506729\n",
      "test Pearson r=0.749\n",
      "Epoch [26/1000], Loss: 0.19815219938755035\n",
      "test Pearson r=0.749\n",
      "Epoch [27/1000], Loss: 0.18313908576965332\n",
      "test Pearson r=0.749\n",
      "Epoch [28/1000], Loss: 0.16887827217578888\n",
      "test Pearson r=0.749\n",
      "Epoch [29/1000], Loss: 0.15625779330730438\n",
      "test Pearson r=0.747\n",
      "Epoch [30/1000], Loss: 0.14541910588741302\n",
      "test Pearson r=0.746\n",
      "Epoch [31/1000], Loss: 0.14336545765399933\n",
      "test Pearson r=0.746\n",
      "Epoch [32/1000], Loss: 0.13402962684631348\n",
      "test Pearson r=0.749\n",
      "Epoch [33/1000], Loss: 0.12800030410289764\n",
      "test Pearson r=0.753\n",
      "Epoch [34/1000], Loss: 0.12208541482686996\n",
      "test Pearson r=0.756\n",
      "Epoch [35/1000], Loss: 0.11841046065092087\n",
      "test Pearson r=0.759\n",
      "Epoch [36/1000], Loss: 0.11059341579675674\n",
      "test Pearson r=0.756\n",
      "Epoch [37/1000], Loss: 0.10793892294168472\n",
      "test Pearson r=0.756\n",
      "Epoch [38/1000], Loss: 0.10804630070924759\n",
      "test Pearson r=0.761\n",
      "Epoch [39/1000], Loss: 0.10387352854013443\n",
      "test Pearson r=0.77\n",
      "Epoch [40/1000], Loss: 0.10376409441232681\n",
      "test Pearson r=0.771\n",
      "Epoch [41/1000], Loss: 0.10043012350797653\n",
      "test Pearson r=0.768\n",
      "Epoch [42/1000], Loss: 0.10221990197896957\n",
      "test Pearson r=0.774\n",
      "Epoch [43/1000], Loss: 0.09835100919008255\n",
      "test Pearson r=0.782\n",
      "Epoch [44/1000], Loss: 0.0977940559387207\n",
      "test Pearson r=0.78\n",
      "Epoch [45/1000], Loss: 0.09835445135831833\n",
      "test Pearson r=0.769\n",
      "Epoch [46/1000], Loss: 0.0929742380976677\n",
      "test Pearson r=0.775\n",
      "Epoch [47/1000], Loss: 0.09155964106321335\n",
      "test Pearson r=0.78\n",
      "Epoch [48/1000], Loss: 0.09241589903831482\n",
      "test Pearson r=0.782\n",
      "Epoch [49/1000], Loss: 0.09307634085416794\n",
      "test Pearson r=0.782\n",
      "Epoch [50/1000], Loss: 0.0885913074016571\n",
      "test Pearson r=0.786\n",
      "Epoch [51/1000], Loss: 0.08571159839630127\n",
      "test Pearson r=0.79\n",
      "Epoch [52/1000], Loss: 0.08416975289583206\n",
      "test Pearson r=0.792\n",
      "Epoch [53/1000], Loss: 0.0846649780869484\n",
      "test Pearson r=0.794\n",
      "Epoch [54/1000], Loss: 0.08293671905994415\n",
      "test Pearson r=0.786\n",
      "Epoch [55/1000], Loss: 0.07754582911729813\n",
      "test Pearson r=0.798\n",
      "Epoch [56/1000], Loss: 0.07875034213066101\n",
      "test Pearson r=0.81\n",
      "Epoch [57/1000], Loss: 0.07435300946235657\n",
      "test Pearson r=0.809\n",
      "Epoch [58/1000], Loss: 0.07741476595401764\n",
      "test Pearson r=0.811\n",
      "Epoch [59/1000], Loss: 0.07344838231801987\n",
      "test Pearson r=0.813\n",
      "Epoch [60/1000], Loss: 0.07145723700523376\n",
      "test Pearson r=0.813\n",
      "Epoch [61/1000], Loss: 0.07132826000452042\n",
      "test Pearson r=0.813\n",
      "Epoch [62/1000], Loss: 0.0676400437951088\n",
      "test Pearson r=0.815\n",
      "Epoch [63/1000], Loss: 0.06693834811449051\n",
      "test Pearson r=0.823\n",
      "Epoch [64/1000], Loss: 0.0655924454331398\n",
      "test Pearson r=0.819\n",
      "Epoch [65/1000], Loss: 0.06448401510715485\n",
      "test Pearson r=0.821\n",
      "Epoch [66/1000], Loss: 0.06398963183164597\n",
      "test Pearson r=0.828\n",
      "Epoch [67/1000], Loss: 0.06195523217320442\n",
      "test Pearson r=0.832\n",
      "Epoch [68/1000], Loss: 0.059625301510095596\n",
      "test Pearson r=0.829\n",
      "Epoch [69/1000], Loss: 0.06082561984658241\n",
      "test Pearson r=0.829\n",
      "Epoch [70/1000], Loss: 0.061446815729141235\n",
      "test Pearson r=0.834\n",
      "Epoch [71/1000], Loss: 0.06298873573541641\n",
      "test Pearson r=0.834\n",
      "Epoch [72/1000], Loss: 0.06117069721221924\n",
      "test Pearson r=0.832\n",
      "Epoch [73/1000], Loss: 0.05835602059960365\n",
      "test Pearson r=0.828\n",
      "Epoch [74/1000], Loss: 0.05679875612258911\n",
      "test Pearson r=0.839\n",
      "Epoch [75/1000], Loss: 0.05708693340420723\n",
      "test Pearson r=0.836\n",
      "Epoch [76/1000], Loss: 0.0628795400261879\n",
      "test Pearson r=0.839\n",
      "Epoch [77/1000], Loss: 0.05626542866230011\n",
      "test Pearson r=0.842\n",
      "Epoch [78/1000], Loss: 0.05797037482261658\n",
      "test Pearson r=0.837\n",
      "Epoch [79/1000], Loss: 0.054303646087646484\n",
      "test Pearson r=0.838\n",
      "Epoch [80/1000], Loss: 0.05441806837916374\n",
      "test Pearson r=0.84\n",
      "Epoch [81/1000], Loss: 0.05795186385512352\n",
      "test Pearson r=0.843\n",
      "Epoch [82/1000], Loss: 0.057882606983184814\n",
      "test Pearson r=0.844\n",
      "Epoch [83/1000], Loss: 0.05372731387615204\n",
      "test Pearson r=0.843\n",
      "Epoch [84/1000], Loss: 0.055286478251218796\n",
      "test Pearson r=0.846\n",
      "Epoch [85/1000], Loss: 0.061779942363500595\n",
      "test Pearson r=0.834\n",
      "Epoch [86/1000], Loss: 0.06098489463329315\n",
      "test Pearson r=0.836\n",
      "Epoch [87/1000], Loss: 0.06123064085841179\n",
      "test Pearson r=0.844\n",
      "Epoch [88/1000], Loss: 0.05411280319094658\n",
      "test Pearson r=0.83\n",
      "Epoch [89/1000], Loss: 0.05693632364273071\n",
      "test Pearson r=0.842\n",
      "Epoch [90/1000], Loss: 0.0592334158718586\n",
      "test Pearson r=0.838\n",
      "Epoch [91/1000], Loss: 0.05992914363741875\n",
      "test Pearson r=0.835\n",
      "Epoch [92/1000], Loss: 0.057352956384420395\n",
      "test Pearson r=0.847\n",
      "Epoch [93/1000], Loss: 0.05525990203022957\n",
      "test Pearson r=0.848\n",
      "Epoch [94/1000], Loss: 0.058001767843961716\n",
      "test Pearson r=0.841\n",
      "Epoch [95/1000], Loss: 0.05536570027470589\n",
      "test Pearson r=0.847\n",
      "Epoch [96/1000], Loss: 0.055910080671310425\n",
      "test Pearson r=0.848\n",
      "Epoch [97/1000], Loss: 0.053844306617975235\n",
      "test Pearson r=0.85\n",
      "Epoch [98/1000], Loss: 0.057213056832551956\n",
      "test Pearson r=0.852\n",
      "Epoch [99/1000], Loss: 0.05666458606719971\n",
      "test Pearson r=0.854\n",
      "Epoch [100/1000], Loss: 0.05609090253710747\n",
      "test Pearson r=0.85\n",
      "Epoch [101/1000], Loss: 0.05268789827823639\n",
      "test Pearson r=0.845\n",
      "Epoch [102/1000], Loss: 0.05628473684191704\n",
      "test Pearson r=0.847\n",
      "Epoch [103/1000], Loss: 0.05348597839474678\n",
      "test Pearson r=0.849\n",
      "Epoch [104/1000], Loss: 0.05428248271346092\n",
      "test Pearson r=0.854\n",
      "Epoch [105/1000], Loss: 0.055301178246736526\n",
      "test Pearson r=0.851\n",
      "Epoch [106/1000], Loss: 0.05205927789211273\n",
      "test Pearson r=0.852\n",
      "Epoch [107/1000], Loss: 0.05619431659579277\n",
      "test Pearson r=0.851\n",
      "Epoch [108/1000], Loss: 0.05464532971382141\n",
      "test Pearson r=0.852\n",
      "Epoch [109/1000], Loss: 0.05269850790500641\n",
      "test Pearson r=0.85\n",
      "Epoch [110/1000], Loss: 0.05280974507331848\n",
      "test Pearson r=0.854\n",
      "Epoch [111/1000], Loss: 0.053904857486486435\n",
      "test Pearson r=0.854\n",
      "Epoch [112/1000], Loss: 0.05452660843729973\n",
      "test Pearson r=0.852\n",
      "Epoch [113/1000], Loss: 0.05268092453479767\n",
      "test Pearson r=0.855\n",
      "Epoch [114/1000], Loss: 0.05239177122712135\n",
      "test Pearson r=0.852\n",
      "Epoch [115/1000], Loss: 0.05285206809639931\n",
      "test Pearson r=0.853\n",
      "Epoch [116/1000], Loss: 0.05323714017868042\n",
      "test Pearson r=0.855\n",
      "Epoch [117/1000], Loss: 0.05427020415663719\n",
      "test Pearson r=0.853\n",
      "Epoch [118/1000], Loss: 0.05433739721775055\n",
      "test Pearson r=0.854\n",
      "Epoch [119/1000], Loss: 0.05630739405751228\n",
      "test Pearson r=0.853\n",
      "Epoch [120/1000], Loss: 0.05378834903240204\n",
      "test Pearson r=0.854\n",
      "Epoch [121/1000], Loss: 0.05236344411969185\n",
      "test Pearson r=0.851\n",
      "Epoch [122/1000], Loss: 0.05420820787549019\n",
      "test Pearson r=0.854\n",
      "Epoch [123/1000], Loss: 0.057634931057691574\n",
      "test Pearson r=0.854\n",
      "Epoch [124/1000], Loss: 0.0538967065513134\n",
      "test Pearson r=0.855\n",
      "Epoch [125/1000], Loss: 0.05366894602775574\n",
      "test Pearson r=0.855\n",
      "Epoch [126/1000], Loss: 0.051700741052627563\n",
      "test Pearson r=0.851\n",
      "Epoch [127/1000], Loss: 0.04911163076758385\n",
      "test Pearson r=0.852\n",
      "Epoch [128/1000], Loss: 0.056634265929460526\n",
      "test Pearson r=0.854\n",
      "Epoch [129/1000], Loss: 0.05330463871359825\n",
      "test Pearson r=0.858\n",
      "Epoch [130/1000], Loss: 0.05604257062077522\n",
      "test Pearson r=0.857\n",
      "Epoch [131/1000], Loss: 0.051691725850105286\n",
      "test Pearson r=0.851\n",
      "Epoch [132/1000], Loss: 0.05147233605384827\n",
      "test Pearson r=0.852\n",
      "Epoch [133/1000], Loss: 0.05361982062458992\n",
      "test Pearson r=0.854\n",
      "Epoch [134/1000], Loss: 0.05214166268706322\n",
      "test Pearson r=0.855\n",
      "Epoch [135/1000], Loss: 0.05051971599459648\n",
      "test Pearson r=0.854\n",
      "Epoch [136/1000], Loss: 0.05339522287249565\n",
      "test Pearson r=0.854\n",
      "Epoch [137/1000], Loss: 0.051710184663534164\n",
      "test Pearson r=0.856\n",
      "Epoch [138/1000], Loss: 0.05423952266573906\n",
      "test Pearson r=0.855\n",
      "Epoch [139/1000], Loss: 0.05191466584801674\n",
      "test Pearson r=0.854\n",
      "Epoch [140/1000], Loss: 0.05303960666060448\n",
      "test Pearson r=0.851\n",
      "Epoch [141/1000], Loss: 0.050757769495248795\n",
      "test Pearson r=0.853\n",
      "Epoch [142/1000], Loss: 0.053976237773895264\n",
      "test Pearson r=0.854\n",
      "Epoch [143/1000], Loss: 0.05292646959424019\n",
      "test Pearson r=0.856\n",
      "Epoch [144/1000], Loss: 0.051683127880096436\n",
      "test Pearson r=0.856\n",
      "Epoch [145/1000], Loss: 0.0520043820142746\n",
      "test Pearson r=0.848\n",
      "Epoch [146/1000], Loss: 0.05096820369362831\n",
      "test Pearson r=0.852\n",
      "Epoch [147/1000], Loss: 0.052061278373003006\n",
      "test Pearson r=0.856\n",
      "Epoch [148/1000], Loss: 0.05137073993682861\n",
      "test Pearson r=0.857\n",
      "Epoch [149/1000], Loss: 0.054218947887420654\n",
      "test Pearson r=0.855\n",
      "Epoch [150/1000], Loss: 0.05097872391343117\n",
      "test Pearson r=0.854\n",
      "Epoch [151/1000], Loss: 0.052794188261032104\n",
      "test Pearson r=0.856\n",
      "Epoch [152/1000], Loss: 0.05392473563551903\n",
      "test Pearson r=0.855\n",
      "Epoch [153/1000], Loss: 0.05307529494166374\n",
      "test Pearson r=0.856\n",
      "Epoch [154/1000], Loss: 0.052828580141067505\n",
      "test Pearson r=0.855\n",
      "Epoch [155/1000], Loss: 0.05250009894371033\n",
      "test Pearson r=0.855\n",
      "Epoch [156/1000], Loss: 0.05108693242073059\n",
      "test Pearson r=0.852\n",
      "Epoch [157/1000], Loss: 0.051457714289426804\n",
      "test Pearson r=0.852\n",
      "Epoch [158/1000], Loss: 0.052468910813331604\n",
      "test Pearson r=0.854\n",
      "Epoch [159/1000], Loss: 0.051817577332258224\n",
      "test Pearson r=0.856\n",
      "Epoch [160/1000], Loss: 0.04970669373869896\n",
      "test Pearson r=0.855\n",
      "Epoch [161/1000], Loss: 0.05114970728754997\n",
      "test Pearson r=0.855\n",
      "Epoch [162/1000], Loss: 0.05204813554883003\n",
      "test Pearson r=0.856\n",
      "Epoch [163/1000], Loss: 0.05107906088232994\n",
      "test Pearson r=0.857\n",
      "Epoch [164/1000], Loss: 0.05318726226687431\n",
      "test Pearson r=0.857\n",
      "Epoch [165/1000], Loss: 0.051269158720970154\n",
      "test Pearson r=0.854\n",
      "Epoch [166/1000], Loss: 0.05144256725907326\n",
      "test Pearson r=0.853\n",
      "Epoch [167/1000], Loss: 0.05173124372959137\n",
      "test Pearson r=0.852\n",
      "Epoch [168/1000], Loss: 0.04910608008503914\n",
      "test Pearson r=0.852\n",
      "Epoch [169/1000], Loss: 0.05081004276871681\n",
      "test Pearson r=0.856\n",
      "Epoch [170/1000], Loss: 0.04906303808093071\n",
      "test Pearson r=0.855\n",
      "Epoch [171/1000], Loss: 0.05138227343559265\n",
      "test Pearson r=0.856\n",
      "Epoch [172/1000], Loss: 0.05061193183064461\n",
      "test Pearson r=0.855\n",
      "Epoch [173/1000], Loss: 0.05113516375422478\n",
      "test Pearson r=0.854\n",
      "Epoch [174/1000], Loss: 0.05180884525179863\n",
      "test Pearson r=0.856\n",
      "Epoch [175/1000], Loss: 0.05470774695277214\n",
      "test Pearson r=0.856\n",
      "Epoch [176/1000], Loss: 0.05083080008625984\n",
      "test Pearson r=0.857\n",
      "Epoch [177/1000], Loss: 0.0491960346698761\n",
      "test Pearson r=0.855\n",
      "Epoch [178/1000], Loss: 0.052701059728860855\n",
      "test Pearson r=0.856\n",
      "Epoch [179/1000], Loss: 0.05187474563717842\n",
      "test Pearson r=0.857\n",
      "Epoch [180/1000], Loss: 0.05069515481591225\n",
      "test Pearson r=0.854\n",
      "Epoch [181/1000], Loss: 0.05044182762503624\n",
      "test Pearson r=0.854\n",
      "Epoch [182/1000], Loss: 0.053361210972070694\n",
      "test Pearson r=0.852\n",
      "Epoch [183/1000], Loss: 0.05210098624229431\n",
      "test Pearson r=0.851\n",
      "Epoch [184/1000], Loss: 0.053603947162628174\n",
      "test Pearson r=0.855\n",
      "Epoch [185/1000], Loss: 0.05126699432730675\n",
      "test Pearson r=0.857\n",
      "Epoch [186/1000], Loss: 0.04907725751399994\n",
      "test Pearson r=0.854\n",
      "Epoch [187/1000], Loss: 0.048788756132125854\n",
      "test Pearson r=0.853\n"
     ]
    },
    {
     "ename": "KeyboardInterrupt",
     "evalue": "",
     "output_type": "error",
     "traceback": [
      "\u001b[0;31m---------------------------------------------------------------------------\u001b[0m",
      "\u001b[0;31mKeyboardInterrupt\u001b[0m                         Traceback (most recent call last)",
      "Input \u001b[0;32mIn [41]\u001b[0m, in \u001b[0;36m<cell line: 7>\u001b[0;34m()\u001b[0m\n\u001b[1;32m     12\u001b[0m y \u001b[38;5;241m=\u001b[39m y\u001b[38;5;241m.\u001b[39mnumpy()\n\u001b[1;32m     13\u001b[0m \u001b[38;5;66;03m# Compute gradients and loss\u001b[39;00m\n\u001b[1;32m     14\u001b[0m \u001b[38;5;66;03m# grads = jax.grad(joint_loss)(params, lda, x, y)\u001b[39;00m\n\u001b[1;32m     15\u001b[0m \u001b[38;5;66;03m# loss = joint_loss(params, lda, x, y)\u001b[39;00m\n\u001b[0;32m---> 17\u001b[0m grads \u001b[38;5;241m=\u001b[39m \u001b[43mjax\u001b[49m\u001b[38;5;241;43m.\u001b[39;49m\u001b[43mgrad\u001b[49m\u001b[43m(\u001b[49m\u001b[43mmse_loss\u001b[49m\u001b[43m)\u001b[49m\u001b[43m(\u001b[49m\u001b[43mparams\u001b[49m\u001b[43m,\u001b[49m\u001b[43m \u001b[49m\u001b[43mx\u001b[49m\u001b[43m,\u001b[49m\u001b[43m \u001b[49m\u001b[43my\u001b[49m\u001b[43m)\u001b[49m\n\u001b[1;32m     18\u001b[0m loss \u001b[38;5;241m=\u001b[39m mse_loss(params, x, y)\n\u001b[1;32m     20\u001b[0m \u001b[38;5;66;03m# Update parameters using the optimizer\u001b[39;00m\n",
      "    \u001b[0;31m[... skipping hidden 1 frame]\u001b[0m\n",
      "File \u001b[0;32m~/.local/lib/python3.10/site-packages/jax/_src/api.py:656\u001b[0m, in \u001b[0;36mgrad.<locals>.grad_f\u001b[0;34m(*args, **kwargs)\u001b[0m\n\u001b[1;32m    653\u001b[0m \u001b[38;5;129m@wraps\u001b[39m(fun, docstr\u001b[38;5;241m=\u001b[39mdocstr, argnums\u001b[38;5;241m=\u001b[39margnums)\n\u001b[1;32m    654\u001b[0m \u001b[38;5;129m@api_boundary\u001b[39m\n\u001b[1;32m    655\u001b[0m \u001b[38;5;28;01mdef\u001b[39;00m \u001b[38;5;21mgrad_f\u001b[39m(\u001b[38;5;241m*\u001b[39margs, \u001b[38;5;241m*\u001b[39m\u001b[38;5;241m*\u001b[39mkwargs):\n\u001b[0;32m--> 656\u001b[0m   _, g \u001b[38;5;241m=\u001b[39m \u001b[43mvalue_and_grad_f\u001b[49m\u001b[43m(\u001b[49m\u001b[38;5;241;43m*\u001b[39;49m\u001b[43margs\u001b[49m\u001b[43m,\u001b[49m\u001b[43m \u001b[49m\u001b[38;5;241;43m*\u001b[39;49m\u001b[38;5;241;43m*\u001b[39;49m\u001b[43mkwargs\u001b[49m\u001b[43m)\u001b[49m\n\u001b[1;32m    657\u001b[0m   \u001b[38;5;28;01mreturn\u001b[39;00m g\n",
      "    \u001b[0;31m[... skipping hidden 1 frame]\u001b[0m\n",
      "File \u001b[0;32m~/.local/lib/python3.10/site-packages/jax/_src/api.py:732\u001b[0m, in \u001b[0;36mvalue_and_grad.<locals>.value_and_grad_f\u001b[0;34m(*args, **kwargs)\u001b[0m\n\u001b[1;32m    730\u001b[0m   _check_input_dtype_grad(holomorphic, allow_int, leaf)\n\u001b[1;32m    731\u001b[0m \u001b[38;5;28;01mif\u001b[39;00m \u001b[38;5;129;01mnot\u001b[39;00m has_aux:\n\u001b[0;32m--> 732\u001b[0m   ans, vjp_py \u001b[38;5;241m=\u001b[39m \u001b[43m_vjp\u001b[49m\u001b[43m(\u001b[49m\u001b[43mf_partial\u001b[49m\u001b[43m,\u001b[49m\u001b[43m \u001b[49m\u001b[38;5;241;43m*\u001b[39;49m\u001b[43mdyn_args\u001b[49m\u001b[43m,\u001b[49m\u001b[43m \u001b[49m\u001b[43mreduce_axes\u001b[49m\u001b[38;5;241;43m=\u001b[39;49m\u001b[43mreduce_axes\u001b[49m\u001b[43m)\u001b[49m\n\u001b[1;32m    733\u001b[0m \u001b[38;5;28;01melse\u001b[39;00m:\n\u001b[1;32m    734\u001b[0m   ans, vjp_py, aux \u001b[38;5;241m=\u001b[39m _vjp(\n\u001b[1;32m    735\u001b[0m       f_partial, \u001b[38;5;241m*\u001b[39mdyn_args, has_aux\u001b[38;5;241m=\u001b[39m\u001b[38;5;28;01mTrue\u001b[39;00m, reduce_axes\u001b[38;5;241m=\u001b[39mreduce_axes)\n",
      "File \u001b[0;32m~/.local/lib/python3.10/site-packages/jax/_src/api.py:2238\u001b[0m, in \u001b[0;36m_vjp\u001b[0;34m(fun, has_aux, reduce_axes, *primals)\u001b[0m\n\u001b[1;32m   2236\u001b[0m \u001b[38;5;28;01mif\u001b[39;00m \u001b[38;5;129;01mnot\u001b[39;00m has_aux:\n\u001b[1;32m   2237\u001b[0m   flat_fun, out_tree \u001b[38;5;241m=\u001b[39m flatten_fun_nokwargs(fun, in_tree)\n\u001b[0;32m-> 2238\u001b[0m   out_primal, out_vjp \u001b[38;5;241m=\u001b[39m \u001b[43mad\u001b[49m\u001b[38;5;241;43m.\u001b[39;49m\u001b[43mvjp\u001b[49m\u001b[43m(\u001b[49m\n\u001b[1;32m   2239\u001b[0m \u001b[43m      \u001b[49m\u001b[43mflat_fun\u001b[49m\u001b[43m,\u001b[49m\u001b[43m \u001b[49m\u001b[43mprimals_flat\u001b[49m\u001b[43m,\u001b[49m\u001b[43m \u001b[49m\u001b[43mreduce_axes\u001b[49m\u001b[38;5;241;43m=\u001b[39;49m\u001b[43mreduce_axes\u001b[49m\u001b[43m)\u001b[49m\n\u001b[1;32m   2240\u001b[0m   out_tree \u001b[38;5;241m=\u001b[39m out_tree()\n\u001b[1;32m   2241\u001b[0m \u001b[38;5;28;01melse\u001b[39;00m:\n",
      "File \u001b[0;32m~/.local/lib/python3.10/site-packages/jax/_src/interpreters/ad.py:140\u001b[0m, in \u001b[0;36mvjp\u001b[0;34m(traceable, primals, has_aux, reduce_axes)\u001b[0m\n\u001b[1;32m    138\u001b[0m \u001b[38;5;28;01mdef\u001b[39;00m \u001b[38;5;21mvjp\u001b[39m(traceable, primals, has_aux\u001b[38;5;241m=\u001b[39m\u001b[38;5;28;01mFalse\u001b[39;00m, reduce_axes\u001b[38;5;241m=\u001b[39m()):\n\u001b[1;32m    139\u001b[0m   \u001b[38;5;28;01mif\u001b[39;00m \u001b[38;5;129;01mnot\u001b[39;00m has_aux:\n\u001b[0;32m--> 140\u001b[0m     out_primals, pvals, jaxpr, consts \u001b[38;5;241m=\u001b[39m \u001b[43mlinearize\u001b[49m\u001b[43m(\u001b[49m\u001b[43mtraceable\u001b[49m\u001b[43m,\u001b[49m\u001b[43m \u001b[49m\u001b[38;5;241;43m*\u001b[39;49m\u001b[43mprimals\u001b[49m\u001b[43m)\u001b[49m\n\u001b[1;32m    141\u001b[0m   \u001b[38;5;28;01melse\u001b[39;00m:\n\u001b[1;32m    142\u001b[0m     out_primals, pvals, jaxpr, consts, aux \u001b[38;5;241m=\u001b[39m linearize(traceable, \u001b[38;5;241m*\u001b[39mprimals, has_aux\u001b[38;5;241m=\u001b[39m\u001b[38;5;28;01mTrue\u001b[39;00m)\n",
      "File \u001b[0;32m~/.local/lib/python3.10/site-packages/jax/_src/interpreters/ad.py:129\u001b[0m, in \u001b[0;36mlinearize\u001b[0;34m(traceable, *primals, **kwargs)\u001b[0m\n\u001b[1;32m    127\u001b[0m _, in_tree \u001b[38;5;241m=\u001b[39m tree_flatten(((primals, primals), {}))\n\u001b[1;32m    128\u001b[0m jvpfun_flat, out_tree \u001b[38;5;241m=\u001b[39m flatten_fun(jvpfun, in_tree)\n\u001b[0;32m--> 129\u001b[0m jaxpr, out_pvals, consts \u001b[38;5;241m=\u001b[39m \u001b[43mpe\u001b[49m\u001b[38;5;241;43m.\u001b[39;49m\u001b[43mtrace_to_jaxpr_nounits\u001b[49m\u001b[43m(\u001b[49m\u001b[43mjvpfun_flat\u001b[49m\u001b[43m,\u001b[49m\u001b[43m \u001b[49m\u001b[43min_pvals\u001b[49m\u001b[43m)\u001b[49m\n\u001b[1;32m    130\u001b[0m out_primals_pvals, out_tangents_pvals \u001b[38;5;241m=\u001b[39m tree_unflatten(out_tree(), out_pvals)\n\u001b[1;32m    131\u001b[0m \u001b[38;5;28;01massert\u001b[39;00m \u001b[38;5;28mall\u001b[39m(out_primal_pval\u001b[38;5;241m.\u001b[39mis_known() \u001b[38;5;28;01mfor\u001b[39;00m out_primal_pval \u001b[38;5;129;01min\u001b[39;00m out_primals_pvals)\n",
      "File \u001b[0;32m~/.local/lib/python3.10/site-packages/jax/_src/profiler.py:340\u001b[0m, in \u001b[0;36mannotate_function.<locals>.wrapper\u001b[0;34m(*args, **kwargs)\u001b[0m\n\u001b[1;32m    337\u001b[0m \u001b[38;5;129m@wraps\u001b[39m(func)\n\u001b[1;32m    338\u001b[0m \u001b[38;5;28;01mdef\u001b[39;00m \u001b[38;5;21mwrapper\u001b[39m(\u001b[38;5;241m*\u001b[39margs, \u001b[38;5;241m*\u001b[39m\u001b[38;5;241m*\u001b[39mkwargs):\n\u001b[1;32m    339\u001b[0m   \u001b[38;5;28;01mwith\u001b[39;00m TraceAnnotation(name, \u001b[38;5;241m*\u001b[39m\u001b[38;5;241m*\u001b[39mdecorator_kwargs):\n\u001b[0;32m--> 340\u001b[0m     \u001b[38;5;28;01mreturn\u001b[39;00m \u001b[43mfunc\u001b[49m\u001b[43m(\u001b[49m\u001b[38;5;241;43m*\u001b[39;49m\u001b[43margs\u001b[49m\u001b[43m,\u001b[49m\u001b[43m \u001b[49m\u001b[38;5;241;43m*\u001b[39;49m\u001b[38;5;241;43m*\u001b[39;49m\u001b[43mkwargs\u001b[49m\u001b[43m)\u001b[49m\n\u001b[1;32m    341\u001b[0m   \u001b[38;5;28;01mreturn\u001b[39;00m wrapper\n",
      "File \u001b[0;32m~/.local/lib/python3.10/site-packages/jax/_src/interpreters/partial_eval.py:777\u001b[0m, in \u001b[0;36mtrace_to_jaxpr_nounits\u001b[0;34m(fun, pvals, instantiate)\u001b[0m\n\u001b[1;32m    775\u001b[0m \u001b[38;5;28;01mwith\u001b[39;00m core\u001b[38;5;241m.\u001b[39mnew_main(JaxprTrace, name_stack\u001b[38;5;241m=\u001b[39mcurrent_name_stack) \u001b[38;5;28;01mas\u001b[39;00m main:\n\u001b[1;32m    776\u001b[0m   fun \u001b[38;5;241m=\u001b[39m trace_to_subjaxpr_nounits(fun, main, instantiate)\n\u001b[0;32m--> 777\u001b[0m   jaxpr, (out_pvals, consts, env) \u001b[38;5;241m=\u001b[39m \u001b[43mfun\u001b[49m\u001b[38;5;241;43m.\u001b[39;49m\u001b[43mcall_wrapped\u001b[49m\u001b[43m(\u001b[49m\u001b[43mpvals\u001b[49m\u001b[43m)\u001b[49m\n\u001b[1;32m    778\u001b[0m   \u001b[38;5;28;01massert\u001b[39;00m \u001b[38;5;129;01mnot\u001b[39;00m env\n\u001b[1;32m    779\u001b[0m   \u001b[38;5;28;01mdel\u001b[39;00m main, fun, env\n",
      "File \u001b[0;32m~/.local/lib/python3.10/site-packages/jax/_src/linear_util.py:191\u001b[0m, in \u001b[0;36mWrappedFun.call_wrapped\u001b[0;34m(self, *args, **kwargs)\u001b[0m\n\u001b[1;32m    188\u001b[0m gen \u001b[38;5;241m=\u001b[39m gen_static_args \u001b[38;5;241m=\u001b[39m out_store \u001b[38;5;241m=\u001b[39m \u001b[38;5;28;01mNone\u001b[39;00m\n\u001b[1;32m    190\u001b[0m \u001b[38;5;28;01mtry\u001b[39;00m:\n\u001b[0;32m--> 191\u001b[0m   ans \u001b[38;5;241m=\u001b[39m \u001b[38;5;28;43mself\u001b[39;49m\u001b[38;5;241;43m.\u001b[39;49m\u001b[43mf\u001b[49m\u001b[43m(\u001b[49m\u001b[38;5;241;43m*\u001b[39;49m\u001b[43margs\u001b[49m\u001b[43m,\u001b[49m\u001b[43m \u001b[49m\u001b[38;5;241;43m*\u001b[39;49m\u001b[38;5;241;43m*\u001b[39;49m\u001b[38;5;28;43mdict\u001b[39;49m\u001b[43m(\u001b[49m\u001b[38;5;28;43mself\u001b[39;49m\u001b[38;5;241;43m.\u001b[39;49m\u001b[43mparams\u001b[49m\u001b[43m,\u001b[49m\u001b[43m \u001b[49m\u001b[38;5;241;43m*\u001b[39;49m\u001b[38;5;241;43m*\u001b[39;49m\u001b[43mkwargs\u001b[49m\u001b[43m)\u001b[49m\u001b[43m)\u001b[49m\n\u001b[1;32m    192\u001b[0m \u001b[38;5;28;01mexcept\u001b[39;00m:\n\u001b[1;32m    193\u001b[0m   \u001b[38;5;66;03m# Some transformations yield from inside context managers, so we have to\u001b[39;00m\n\u001b[1;32m    194\u001b[0m   \u001b[38;5;66;03m# interrupt them before reraising the exception. Otherwise they will only\u001b[39;00m\n\u001b[1;32m    195\u001b[0m   \u001b[38;5;66;03m# get garbage-collected at some later time, running their cleanup tasks\u001b[39;00m\n\u001b[1;32m    196\u001b[0m   \u001b[38;5;66;03m# only after this exception is handled, which can corrupt the global\u001b[39;00m\n\u001b[1;32m    197\u001b[0m   \u001b[38;5;66;03m# state.\u001b[39;00m\n\u001b[1;32m    198\u001b[0m   \u001b[38;5;28;01mwhile\u001b[39;00m stack:\n",
      "Input \u001b[0;32mIn [36]\u001b[0m, in \u001b[0;36mmse_loss\u001b[0;34m(params, x, y)\u001b[0m\n\u001b[1;32m      8\u001b[0m \u001b[38;5;28;01mdef\u001b[39;00m \u001b[38;5;21mmse_loss\u001b[39m(params, x, y):\n\u001b[0;32m----> 9\u001b[0m     predictions, _ \u001b[38;5;241m=\u001b[39m \u001b[43mmodel\u001b[49m\u001b[38;5;241;43m.\u001b[39;49m\u001b[43mapply\u001b[49m\u001b[43m(\u001b[49m\u001b[43mparams\u001b[49m\u001b[43m,\u001b[49m\u001b[43m \u001b[49m\n\u001b[1;32m     10\u001b[0m \u001b[43m                              \u001b[49m\u001b[43mx\u001b[49m\u001b[43m,\u001b[49m\u001b[43m \u001b[49m\u001b[43mrngs\u001b[49m\u001b[38;5;241;43m=\u001b[39;49m\u001b[43m{\u001b[49m\u001b[38;5;124;43m'\u001b[39;49m\u001b[38;5;124;43mdropout\u001b[39;49m\u001b[38;5;124;43m'\u001b[39;49m\u001b[43m:\u001b[49m\u001b[43m \u001b[49m\u001b[43mdropout_apply_rng\u001b[49m\u001b[43m}\u001b[49m\u001b[43m,\u001b[49m\u001b[43m \u001b[49m\u001b[43mtrain\u001b[49m\u001b[38;5;241;43m=\u001b[39;49m\u001b[38;5;28;43;01mTrue\u001b[39;49;00m\u001b[43m,\u001b[49m\u001b[43m \u001b[49m\u001b[43mmutable\u001b[49m\u001b[38;5;241;43m=\u001b[39;49m\u001b[43m[\u001b[49m\u001b[38;5;124;43m'\u001b[39;49m\u001b[38;5;124;43mbatch_stats\u001b[39;49m\u001b[38;5;124;43m'\u001b[39;49m\u001b[43m]\u001b[49m\u001b[43m)\u001b[49m    \n\u001b[1;32m     11\u001b[0m     loss \u001b[38;5;241m=\u001b[39m jnp\u001b[38;5;241m.\u001b[39mmean((predictions \u001b[38;5;241m-\u001b[39m y) \u001b[38;5;241m*\u001b[39m\u001b[38;5;241m*\u001b[39m \u001b[38;5;241m2\u001b[39m)\n\u001b[1;32m     12\u001b[0m     \u001b[38;5;28;01mreturn\u001b[39;00m loss\n",
      "    \u001b[0;31m[... skipping hidden 1 frame]\u001b[0m\n",
      "File \u001b[0;32m~/.local/lib/python3.10/site-packages/flax/linen/module.py:1922\u001b[0m, in \u001b[0;36mModule.apply\u001b[0;34m(self, variables, rngs, method, mutable, capture_intermediates, *args, **kwargs)\u001b[0m\n\u001b[1;32m   1920\u001b[0m   method \u001b[38;5;241m=\u001b[39m \u001b[38;5;28mself\u001b[39m\u001b[38;5;241m.\u001b[39m\u001b[38;5;21m__call__\u001b[39m\n\u001b[1;32m   1921\u001b[0m method \u001b[38;5;241m=\u001b[39m _get_unbound_fn(method)\n\u001b[0;32m-> 1922\u001b[0m \u001b[38;5;28;01mreturn\u001b[39;00m \u001b[43mapply\u001b[49m\u001b[43m(\u001b[49m\n\u001b[1;32m   1923\u001b[0m \u001b[43m    \u001b[49m\u001b[43mmethod\u001b[49m\u001b[43m,\u001b[49m\n\u001b[1;32m   1924\u001b[0m \u001b[43m    \u001b[49m\u001b[38;5;28;43mself\u001b[39;49m\u001b[43m,\u001b[49m\n\u001b[1;32m   1925\u001b[0m \u001b[43m    \u001b[49m\u001b[43mmutable\u001b[49m\u001b[38;5;241;43m=\u001b[39;49m\u001b[43mmutable\u001b[49m\u001b[43m,\u001b[49m\n\u001b[1;32m   1926\u001b[0m \u001b[43m    \u001b[49m\u001b[43mcapture_intermediates\u001b[49m\u001b[38;5;241;43m=\u001b[39;49m\u001b[43mcapture_intermediates\u001b[49m\u001b[43m,\u001b[49m\n\u001b[1;32m   1927\u001b[0m \u001b[43m\u001b[49m\u001b[43m)\u001b[49m\u001b[43m(\u001b[49m\u001b[43mvariables\u001b[49m\u001b[43m,\u001b[49m\u001b[43m \u001b[49m\u001b[38;5;241;43m*\u001b[39;49m\u001b[43margs\u001b[49m\u001b[43m,\u001b[49m\u001b[43m \u001b[49m\u001b[38;5;241;43m*\u001b[39;49m\u001b[38;5;241;43m*\u001b[39;49m\u001b[43mkwargs\u001b[49m\u001b[43m,\u001b[49m\u001b[43m \u001b[49m\u001b[43mrngs\u001b[49m\u001b[38;5;241;43m=\u001b[39;49m\u001b[43mrngs\u001b[49m\u001b[43m)\u001b[49m\n",
      "File \u001b[0;32m~/.local/lib/python3.10/site-packages/flax/core/scope.py:1084\u001b[0m, in \u001b[0;36mapply.<locals>.wrapper\u001b[0;34m(variables, rngs, *args, **kwargs)\u001b[0m\n\u001b[1;32m   1079\u001b[0m   \u001b[38;5;28;01mraise\u001b[39;00m errors\u001b[38;5;241m.\u001b[39mApplyScopeInvalidVariablesStructureError(variables)\n\u001b[1;32m   1081\u001b[0m \u001b[38;5;28;01mwith\u001b[39;00m bind(\n\u001b[1;32m   1082\u001b[0m     variables, rngs\u001b[38;5;241m=\u001b[39mrngs, mutable\u001b[38;5;241m=\u001b[39mmutable, flags\u001b[38;5;241m=\u001b[39mflags\n\u001b[1;32m   1083\u001b[0m )\u001b[38;5;241m.\u001b[39mtemporary() \u001b[38;5;28;01mas\u001b[39;00m root:\n\u001b[0;32m-> 1084\u001b[0m   y \u001b[38;5;241m=\u001b[39m \u001b[43mfn\u001b[49m\u001b[43m(\u001b[49m\u001b[43mroot\u001b[49m\u001b[43m,\u001b[49m\u001b[43m \u001b[49m\u001b[38;5;241;43m*\u001b[39;49m\u001b[43margs\u001b[49m\u001b[43m,\u001b[49m\u001b[43m \u001b[49m\u001b[38;5;241;43m*\u001b[39;49m\u001b[38;5;241;43m*\u001b[39;49m\u001b[43mkwargs\u001b[49m\u001b[43m)\u001b[49m\n\u001b[1;32m   1085\u001b[0m \u001b[38;5;28;01mif\u001b[39;00m mutable \u001b[38;5;129;01mis\u001b[39;00m \u001b[38;5;129;01mnot\u001b[39;00m \u001b[38;5;28;01mFalse\u001b[39;00m:\n\u001b[1;32m   1086\u001b[0m   \u001b[38;5;28;01mreturn\u001b[39;00m y, root\u001b[38;5;241m.\u001b[39mmutable_variables()\n",
      "File \u001b[0;32m~/.local/lib/python3.10/site-packages/flax/linen/module.py:2563\u001b[0m, in \u001b[0;36mapply.<locals>.scope_fn\u001b[0;34m(scope, *args, **kwargs)\u001b[0m\n\u001b[1;32m   2561\u001b[0m _context\u001b[38;5;241m.\u001b[39mcapture_stack\u001b[38;5;241m.\u001b[39mappend(capture_intermediates)\n\u001b[1;32m   2562\u001b[0m \u001b[38;5;28;01mtry\u001b[39;00m:\n\u001b[0;32m-> 2563\u001b[0m   \u001b[38;5;28;01mreturn\u001b[39;00m \u001b[43mfn\u001b[49m\u001b[43m(\u001b[49m\u001b[43mmodule\u001b[49m\u001b[38;5;241;43m.\u001b[39;49m\u001b[43mclone\u001b[49m\u001b[43m(\u001b[49m\u001b[43mparent\u001b[49m\u001b[38;5;241;43m=\u001b[39;49m\u001b[43mscope\u001b[49m\u001b[43m,\u001b[49m\u001b[43m \u001b[49m\u001b[43m_deep_clone\u001b[49m\u001b[38;5;241;43m=\u001b[39;49m\u001b[38;5;28;43;01mTrue\u001b[39;49;00m\u001b[43m)\u001b[49m\u001b[43m,\u001b[49m\u001b[43m \u001b[49m\u001b[38;5;241;43m*\u001b[39;49m\u001b[43margs\u001b[49m\u001b[43m,\u001b[49m\u001b[43m \u001b[49m\u001b[38;5;241;43m*\u001b[39;49m\u001b[38;5;241;43m*\u001b[39;49m\u001b[43mkwargs\u001b[49m\u001b[43m)\u001b[49m\n\u001b[1;32m   2564\u001b[0m \u001b[38;5;28;01mfinally\u001b[39;00m:\n\u001b[1;32m   2565\u001b[0m   _context\u001b[38;5;241m.\u001b[39mcapture_stack\u001b[38;5;241m.\u001b[39mpop()\n",
      "File \u001b[0;32m~/.local/lib/python3.10/site-packages/flax/linen/module.py:602\u001b[0m, in \u001b[0;36mwrap_method_once.<locals>.wrapped_module_method\u001b[0;34m(*args, **kwargs)\u001b[0m\n\u001b[1;32m    600\u001b[0m \u001b[38;5;28;01mif\u001b[39;00m args \u001b[38;5;129;01mand\u001b[39;00m \u001b[38;5;28misinstance\u001b[39m(args[\u001b[38;5;241m0\u001b[39m], Module):\n\u001b[1;32m    601\u001b[0m   \u001b[38;5;28mself\u001b[39m, args \u001b[38;5;241m=\u001b[39m args[\u001b[38;5;241m0\u001b[39m], args[\u001b[38;5;241m1\u001b[39m:]\n\u001b[0;32m--> 602\u001b[0m   \u001b[38;5;28;01mreturn\u001b[39;00m \u001b[38;5;28;43mself\u001b[39;49m\u001b[38;5;241;43m.\u001b[39;49m\u001b[43m_call_wrapped_method\u001b[49m\u001b[43m(\u001b[49m\u001b[43mfun\u001b[49m\u001b[43m,\u001b[49m\u001b[43m \u001b[49m\u001b[43margs\u001b[49m\u001b[43m,\u001b[49m\u001b[43m \u001b[49m\u001b[43mkwargs\u001b[49m\u001b[43m)\u001b[49m\n\u001b[1;32m    603\u001b[0m \u001b[38;5;28;01melse\u001b[39;00m:\n\u001b[1;32m    604\u001b[0m   \u001b[38;5;28;01mreturn\u001b[39;00m fun(\u001b[38;5;241m*\u001b[39margs, \u001b[38;5;241m*\u001b[39m\u001b[38;5;241m*\u001b[39mkwargs)\n",
      "File \u001b[0;32m~/.local/lib/python3.10/site-packages/flax/linen/module.py:1119\u001b[0m, in \u001b[0;36mModule._call_wrapped_method\u001b[0;34m(self, fun, args, kwargs)\u001b[0m\n\u001b[1;32m   1117\u001b[0m \u001b[38;5;28;01mif\u001b[39;00m _use_named_call:\n\u001b[1;32m   1118\u001b[0m   \u001b[38;5;28;01mwith\u001b[39;00m jax\u001b[38;5;241m.\u001b[39mnamed_scope(_derive_profiling_name(\u001b[38;5;28mself\u001b[39m, fun)):\n\u001b[0;32m-> 1119\u001b[0m     y \u001b[38;5;241m=\u001b[39m \u001b[43mrun_fun\u001b[49m\u001b[43m(\u001b[49m\u001b[38;5;28;43mself\u001b[39;49m\u001b[43m,\u001b[49m\u001b[43m \u001b[49m\u001b[38;5;241;43m*\u001b[39;49m\u001b[43margs\u001b[49m\u001b[43m,\u001b[49m\u001b[43m \u001b[49m\u001b[38;5;241;43m*\u001b[39;49m\u001b[38;5;241;43m*\u001b[39;49m\u001b[43mkwargs\u001b[49m\u001b[43m)\u001b[49m\n\u001b[1;32m   1120\u001b[0m \u001b[38;5;28;01melse\u001b[39;00m:\n\u001b[1;32m   1121\u001b[0m   y \u001b[38;5;241m=\u001b[39m run_fun(\u001b[38;5;28mself\u001b[39m, \u001b[38;5;241m*\u001b[39margs, \u001b[38;5;241m*\u001b[39m\u001b[38;5;241m*\u001b[39mkwargs)\n",
      "Input \u001b[0;32mIn [37]\u001b[0m, in \u001b[0;36mTransformerPredictor.__call__\u001b[0;34m(self, x, train, mask)\u001b[0m\n\u001b[1;32m    200\u001b[0m x \u001b[38;5;241m=\u001b[39m nn\u001b[38;5;241m.\u001b[39mBatchNorm(use_running_average\u001b[38;5;241m=\u001b[39m\u001b[38;5;129;01mnot\u001b[39;00m train)(x)\n\u001b[1;32m    201\u001b[0m x \u001b[38;5;241m=\u001b[39m \u001b[38;5;28mself\u001b[39m\u001b[38;5;241m.\u001b[39mtransformer(x, mask\u001b[38;5;241m=\u001b[39mmask, train\u001b[38;5;241m=\u001b[39mtrain)\n\u001b[0;32m--> 202\u001b[0m x \u001b[38;5;241m=\u001b[39m \u001b[43mnn\u001b[49m\u001b[38;5;241;43m.\u001b[39;49m\u001b[43mBatchNorm\u001b[49m\u001b[43m(\u001b[49m\u001b[43muse_running_average\u001b[49m\u001b[38;5;241;43m=\u001b[39;49m\u001b[38;5;129;43;01mnot\u001b[39;49;00m\u001b[43m \u001b[49m\u001b[43mtrain\u001b[49m\u001b[43m)\u001b[49m\u001b[43m(\u001b[49m\u001b[43mx\u001b[49m\u001b[43m)\u001b[49m        \n\u001b[1;32m    203\u001b[0m x \u001b[38;5;241m=\u001b[39m jnp\u001b[38;5;241m.\u001b[39mdot(x\u001b[38;5;241m.\u001b[39mreshape(batch_size, \u001b[38;5;241m-\u001b[39m\u001b[38;5;241m1\u001b[39m), \u001b[38;5;28mself\u001b[39m\u001b[38;5;241m.\u001b[39mweights)\n\u001b[1;32m    204\u001b[0m x \u001b[38;5;241m=\u001b[39m x\u001b[38;5;241m.\u001b[39mreshape(\u001b[38;5;241m-\u001b[39m\u001b[38;5;241m1\u001b[39m, \u001b[38;5;241m1\u001b[39m)\n",
      "File \u001b[0;32m~/.local/lib/python3.10/site-packages/flax/linen/module.py:602\u001b[0m, in \u001b[0;36mwrap_method_once.<locals>.wrapped_module_method\u001b[0;34m(*args, **kwargs)\u001b[0m\n\u001b[1;32m    600\u001b[0m \u001b[38;5;28;01mif\u001b[39;00m args \u001b[38;5;129;01mand\u001b[39;00m \u001b[38;5;28misinstance\u001b[39m(args[\u001b[38;5;241m0\u001b[39m], Module):\n\u001b[1;32m    601\u001b[0m   \u001b[38;5;28mself\u001b[39m, args \u001b[38;5;241m=\u001b[39m args[\u001b[38;5;241m0\u001b[39m], args[\u001b[38;5;241m1\u001b[39m:]\n\u001b[0;32m--> 602\u001b[0m   \u001b[38;5;28;01mreturn\u001b[39;00m \u001b[38;5;28;43mself\u001b[39;49m\u001b[38;5;241;43m.\u001b[39;49m\u001b[43m_call_wrapped_method\u001b[49m\u001b[43m(\u001b[49m\u001b[43mfun\u001b[49m\u001b[43m,\u001b[49m\u001b[43m \u001b[49m\u001b[43margs\u001b[49m\u001b[43m,\u001b[49m\u001b[43m \u001b[49m\u001b[43mkwargs\u001b[49m\u001b[43m)\u001b[49m\n\u001b[1;32m    603\u001b[0m \u001b[38;5;28;01melse\u001b[39;00m:\n\u001b[1;32m    604\u001b[0m   \u001b[38;5;28;01mreturn\u001b[39;00m fun(\u001b[38;5;241m*\u001b[39margs, \u001b[38;5;241m*\u001b[39m\u001b[38;5;241m*\u001b[39mkwargs)\n",
      "File \u001b[0;32m~/.local/lib/python3.10/site-packages/flax/linen/module.py:1119\u001b[0m, in \u001b[0;36mModule._call_wrapped_method\u001b[0;34m(self, fun, args, kwargs)\u001b[0m\n\u001b[1;32m   1117\u001b[0m \u001b[38;5;28;01mif\u001b[39;00m _use_named_call:\n\u001b[1;32m   1118\u001b[0m   \u001b[38;5;28;01mwith\u001b[39;00m jax\u001b[38;5;241m.\u001b[39mnamed_scope(_derive_profiling_name(\u001b[38;5;28mself\u001b[39m, fun)):\n\u001b[0;32m-> 1119\u001b[0m     y \u001b[38;5;241m=\u001b[39m \u001b[43mrun_fun\u001b[49m\u001b[43m(\u001b[49m\u001b[38;5;28;43mself\u001b[39;49m\u001b[43m,\u001b[49m\u001b[43m \u001b[49m\u001b[38;5;241;43m*\u001b[39;49m\u001b[43margs\u001b[49m\u001b[43m,\u001b[49m\u001b[43m \u001b[49m\u001b[38;5;241;43m*\u001b[39;49m\u001b[38;5;241;43m*\u001b[39;49m\u001b[43mkwargs\u001b[49m\u001b[43m)\u001b[49m\n\u001b[1;32m   1120\u001b[0m \u001b[38;5;28;01melse\u001b[39;00m:\n\u001b[1;32m   1121\u001b[0m   y \u001b[38;5;241m=\u001b[39m run_fun(\u001b[38;5;28mself\u001b[39m, \u001b[38;5;241m*\u001b[39margs, \u001b[38;5;241m*\u001b[39m\u001b[38;5;241m*\u001b[39mkwargs)\n",
      "File \u001b[0;32m~/.local/lib/python3.10/site-packages/flax/linen/normalization.py:313\u001b[0m, in \u001b[0;36mBatchNorm.__call__\u001b[0;34m(self, x, use_running_average)\u001b[0m\n\u001b[1;32m    309\u001b[0m   \u001b[38;5;28;01mif\u001b[39;00m \u001b[38;5;129;01mnot\u001b[39;00m \u001b[38;5;28mself\u001b[39m\u001b[38;5;241m.\u001b[39mis_initializing():\n\u001b[1;32m    310\u001b[0m     ra_mean\u001b[38;5;241m.\u001b[39mvalue \u001b[38;5;241m=\u001b[39m (\n\u001b[1;32m    311\u001b[0m         \u001b[38;5;28mself\u001b[39m\u001b[38;5;241m.\u001b[39mmomentum \u001b[38;5;241m*\u001b[39m ra_mean\u001b[38;5;241m.\u001b[39mvalue \u001b[38;5;241m+\u001b[39m (\u001b[38;5;241m1\u001b[39m \u001b[38;5;241m-\u001b[39m \u001b[38;5;28mself\u001b[39m\u001b[38;5;241m.\u001b[39mmomentum) \u001b[38;5;241m*\u001b[39m mean\n\u001b[1;32m    312\u001b[0m     )\n\u001b[0;32m--> 313\u001b[0m     ra_var\u001b[38;5;241m.\u001b[39mvalue \u001b[38;5;241m=\u001b[39m \u001b[38;5;28;43mself\u001b[39;49m\u001b[38;5;241;43m.\u001b[39;49m\u001b[43mmomentum\u001b[49m\u001b[43m \u001b[49m\u001b[38;5;241;43m*\u001b[39;49m\u001b[43m \u001b[49m\u001b[43mra_var\u001b[49m\u001b[38;5;241;43m.\u001b[39;49m\u001b[43mvalue\u001b[49m\u001b[43m \u001b[49m\u001b[38;5;241;43m+\u001b[39;49m\u001b[43m \u001b[49m\u001b[43m(\u001b[49m\u001b[38;5;241;43m1\u001b[39;49m\u001b[43m \u001b[49m\u001b[38;5;241;43m-\u001b[39;49m\u001b[43m \u001b[49m\u001b[38;5;28;43mself\u001b[39;49m\u001b[38;5;241;43m.\u001b[39;49m\u001b[43mmomentum\u001b[49m\u001b[43m)\u001b[49m\u001b[43m \u001b[49m\u001b[38;5;241;43m*\u001b[39;49m\u001b[43m \u001b[49m\u001b[43mvar\u001b[49m\n\u001b[1;32m    315\u001b[0m \u001b[38;5;28;01mreturn\u001b[39;00m _normalize(\n\u001b[1;32m    316\u001b[0m     \u001b[38;5;28mself\u001b[39m,\n\u001b[1;32m    317\u001b[0m     x,\n\u001b[0;32m   (...)\u001b[0m\n\u001b[1;32m    328\u001b[0m     \u001b[38;5;28mself\u001b[39m\u001b[38;5;241m.\u001b[39mscale_init,\n\u001b[1;32m    329\u001b[0m )\n",
      "File \u001b[0;32m~/.local/lib/python3.10/site-packages/jax/_src/numpy/array_methods.py:728\u001b[0m, in \u001b[0;36m_forward_operator_to_aval.<locals>.op\u001b[0;34m(self, *args)\u001b[0m\n\u001b[1;32m    727\u001b[0m \u001b[38;5;28;01mdef\u001b[39;00m \u001b[38;5;21mop\u001b[39m(\u001b[38;5;28mself\u001b[39m, \u001b[38;5;241m*\u001b[39margs):\n\u001b[0;32m--> 728\u001b[0m   \u001b[38;5;28;01mreturn\u001b[39;00m \u001b[38;5;28;43mgetattr\u001b[39;49m\u001b[43m(\u001b[49m\u001b[38;5;28;43mself\u001b[39;49m\u001b[38;5;241;43m.\u001b[39;49m\u001b[43maval\u001b[49m\u001b[43m,\u001b[49m\u001b[43m \u001b[49m\u001b[38;5;124;43mf\u001b[39;49m\u001b[38;5;124;43m\"\u001b[39;49m\u001b[38;5;124;43m_\u001b[39;49m\u001b[38;5;132;43;01m{\u001b[39;49;00m\u001b[43mname\u001b[49m\u001b[38;5;132;43;01m}\u001b[39;49;00m\u001b[38;5;124;43m\"\u001b[39;49m\u001b[43m)\u001b[49m\u001b[43m(\u001b[49m\u001b[38;5;28;43mself\u001b[39;49m\u001b[43m,\u001b[49m\u001b[43m \u001b[49m\u001b[38;5;241;43m*\u001b[39;49m\u001b[43margs\u001b[49m\u001b[43m)\u001b[49m\n",
      "File \u001b[0;32m~/.local/lib/python3.10/site-packages/jax/_src/numpy/array_methods.py:256\u001b[0m, in \u001b[0;36m_defer_to_unrecognized_arg.<locals>.deferring_binary_op\u001b[0;34m(self, other)\u001b[0m\n\u001b[1;32m    254\u001b[0m args \u001b[38;5;241m=\u001b[39m (other, \u001b[38;5;28mself\u001b[39m) \u001b[38;5;28;01mif\u001b[39;00m swap \u001b[38;5;28;01melse\u001b[39;00m (\u001b[38;5;28mself\u001b[39m, other)\n\u001b[1;32m    255\u001b[0m \u001b[38;5;28;01mif\u001b[39;00m \u001b[38;5;28misinstance\u001b[39m(other, _accepted_binop_types):\n\u001b[0;32m--> 256\u001b[0m   \u001b[38;5;28;01mreturn\u001b[39;00m \u001b[43mbinary_op\u001b[49m\u001b[43m(\u001b[49m\u001b[38;5;241;43m*\u001b[39;49m\u001b[43margs\u001b[49m\u001b[43m)\u001b[49m\n\u001b[1;32m    257\u001b[0m \u001b[38;5;66;03m# Note: don't use isinstance here, because we don't want to raise for\u001b[39;00m\n\u001b[1;32m    258\u001b[0m \u001b[38;5;66;03m# subclasses, e.g. NamedTuple objects that may override operators.\u001b[39;00m\n\u001b[1;32m    259\u001b[0m \u001b[38;5;28;01mif\u001b[39;00m \u001b[38;5;28mtype\u001b[39m(other) \u001b[38;5;129;01min\u001b[39;00m _rejected_binop_types:\n",
      "    \u001b[0;31m[... skipping hidden 1 frame]\u001b[0m\n",
      "File \u001b[0;32m~/.local/lib/python3.10/site-packages/jax/_src/pjit.py:256\u001b[0m, in \u001b[0;36m_cpp_pjit.<locals>.cache_miss\u001b[0;34m(*args, **kwargs)\u001b[0m\n\u001b[1;32m    254\u001b[0m \u001b[38;5;129m@api_boundary\u001b[39m\n\u001b[1;32m    255\u001b[0m \u001b[38;5;28;01mdef\u001b[39;00m \u001b[38;5;21mcache_miss\u001b[39m(\u001b[38;5;241m*\u001b[39margs, \u001b[38;5;241m*\u001b[39m\u001b[38;5;241m*\u001b[39mkwargs):\n\u001b[0;32m--> 256\u001b[0m   outs, out_flat, out_tree, args_flat, jaxpr \u001b[38;5;241m=\u001b[39m \u001b[43m_python_pjit_helper\u001b[49m\u001b[43m(\u001b[49m\n\u001b[1;32m    257\u001b[0m \u001b[43m      \u001b[49m\u001b[43mfun\u001b[49m\u001b[43m,\u001b[49m\u001b[43m \u001b[49m\u001b[43minfer_params_fn\u001b[49m\u001b[43m,\u001b[49m\u001b[43m \u001b[49m\u001b[38;5;241;43m*\u001b[39;49m\u001b[43margs\u001b[49m\u001b[43m,\u001b[49m\u001b[43m \u001b[49m\u001b[38;5;241;43m*\u001b[39;49m\u001b[38;5;241;43m*\u001b[39;49m\u001b[43mkwargs\u001b[49m\u001b[43m)\u001b[49m\n\u001b[1;32m    258\u001b[0m   executable \u001b[38;5;241m=\u001b[39m _read_most_recent_pjit_call_executable(jaxpr)\n\u001b[1;32m    259\u001b[0m   fastpath_data \u001b[38;5;241m=\u001b[39m _get_fastpath_data(executable, out_tree, args_flat, out_flat)\n",
      "File \u001b[0;32m~/.local/lib/python3.10/site-packages/jax/_src/pjit.py:162\u001b[0m, in \u001b[0;36m_python_pjit_helper\u001b[0;34m(fun, infer_params_fn, *args, **kwargs)\u001b[0m\n\u001b[1;32m    161\u001b[0m \u001b[38;5;28;01mdef\u001b[39;00m \u001b[38;5;21m_python_pjit_helper\u001b[39m(fun, infer_params_fn, \u001b[38;5;241m*\u001b[39margs, \u001b[38;5;241m*\u001b[39m\u001b[38;5;241m*\u001b[39mkwargs):\n\u001b[0;32m--> 162\u001b[0m   args_flat, _, params, in_tree, out_tree, _ \u001b[38;5;241m=\u001b[39m \u001b[43minfer_params_fn\u001b[49m\u001b[43m(\u001b[49m\n\u001b[1;32m    163\u001b[0m \u001b[43m      \u001b[49m\u001b[38;5;241;43m*\u001b[39;49m\u001b[43margs\u001b[49m\u001b[43m,\u001b[49m\u001b[43m \u001b[49m\u001b[38;5;241;43m*\u001b[39;49m\u001b[38;5;241;43m*\u001b[39;49m\u001b[43mkwargs\u001b[49m\u001b[43m)\u001b[49m\n\u001b[1;32m    164\u001b[0m   \u001b[38;5;28;01mfor\u001b[39;00m arg \u001b[38;5;129;01min\u001b[39;00m args_flat:\n\u001b[1;32m    165\u001b[0m     dispatch\u001b[38;5;241m.\u001b[39mcheck_arg(arg)\n",
      "File \u001b[0;32m~/.local/lib/python3.10/site-packages/jax/_src/api.py:314\u001b[0m, in \u001b[0;36mjit.<locals>.infer_params\u001b[0;34m(*args, **kwargs)\u001b[0m\n\u001b[1;32m    306\u001b[0m \u001b[38;5;28;01mdef\u001b[39;00m \u001b[38;5;21minfer_params\u001b[39m(\u001b[38;5;241m*\u001b[39margs, \u001b[38;5;241m*\u001b[39m\u001b[38;5;241m*\u001b[39mkwargs):\n\u001b[1;32m    307\u001b[0m   pjit_info_args \u001b[38;5;241m=\u001b[39m pjit\u001b[38;5;241m.\u001b[39mPjitInfo(\n\u001b[1;32m    308\u001b[0m       fun\u001b[38;5;241m=\u001b[39mfun, in_shardings\u001b[38;5;241m=\u001b[39min_shardings,\n\u001b[1;32m    309\u001b[0m       out_shardings\u001b[38;5;241m=\u001b[39mout_shardings, static_argnums\u001b[38;5;241m=\u001b[39mstatic_argnums,\n\u001b[0;32m   (...)\u001b[0m\n\u001b[1;32m    312\u001b[0m       keep_unused\u001b[38;5;241m=\u001b[39mkeep_unused, inline\u001b[38;5;241m=\u001b[39minline, resource_env\u001b[38;5;241m=\u001b[39m\u001b[38;5;28;01mNone\u001b[39;00m,\n\u001b[1;32m    313\u001b[0m       abstracted_axes\u001b[38;5;241m=\u001b[39mabstracted_axes)\n\u001b[0;32m--> 314\u001b[0m   \u001b[38;5;28;01mreturn\u001b[39;00m \u001b[43mpjit\u001b[49m\u001b[38;5;241;43m.\u001b[39;49m\u001b[43mcommon_infer_params\u001b[49m\u001b[43m(\u001b[49m\u001b[43mpjit_info_args\u001b[49m\u001b[43m,\u001b[49m\u001b[43m \u001b[49m\u001b[38;5;241;43m*\u001b[39;49m\u001b[43margs\u001b[49m\u001b[43m,\u001b[49m\u001b[43m \u001b[49m\u001b[38;5;241;43m*\u001b[39;49m\u001b[38;5;241;43m*\u001b[39;49m\u001b[43mkwargs\u001b[49m\u001b[43m)\u001b[49m\n",
      "File \u001b[0;32m~/.local/lib/python3.10/site-packages/jax/_src/pjit.py:415\u001b[0m, in \u001b[0;36mcommon_infer_params\u001b[0;34m(pjit_info_args, *args, **kwargs)\u001b[0m\n\u001b[1;32m    412\u001b[0m axes_specs \u001b[38;5;241m=\u001b[39m _flat_axes_specs(abstracted_axes, \u001b[38;5;241m*\u001b[39margs, \u001b[38;5;241m*\u001b[39m\u001b[38;5;241m*\u001b[39mkwargs)\n\u001b[1;32m    414\u001b[0m jit_name \u001b[38;5;241m=\u001b[39m \u001b[38;5;124m'\u001b[39m\u001b[38;5;124mjit\u001b[39m\u001b[38;5;124m'\u001b[39m \u001b[38;5;28;01mif\u001b[39;00m resource_env \u001b[38;5;129;01mis\u001b[39;00m \u001b[38;5;28;01mNone\u001b[39;00m \u001b[38;5;28;01melse\u001b[39;00m \u001b[38;5;124m'\u001b[39m\u001b[38;5;124mpjit\u001b[39m\u001b[38;5;124m'\u001b[39m\n\u001b[0;32m--> 415\u001b[0m dbg \u001b[38;5;241m=\u001b[39m \u001b[43mdebug_info\u001b[49m\u001b[43m(\u001b[49m\u001b[43mjit_name\u001b[49m\u001b[43m,\u001b[49m\u001b[43m \u001b[49m\u001b[43mfun\u001b[49m\u001b[43m,\u001b[49m\u001b[43m \u001b[49m\u001b[43margs\u001b[49m\u001b[43m,\u001b[49m\u001b[43m \u001b[49m\u001b[43mkwargs\u001b[49m\u001b[43m,\u001b[49m\u001b[43m \u001b[49m\u001b[43mstatic_argnums\u001b[49m\u001b[43m,\u001b[49m\u001b[43m \u001b[49m\u001b[43mstatic_argnames\u001b[49m\u001b[43m)\u001b[49m\n\u001b[1;32m    416\u001b[0m f \u001b[38;5;241m=\u001b[39m lu\u001b[38;5;241m.\u001b[39mwrap_init(fun)\n\u001b[1;32m    417\u001b[0m f, res_paths \u001b[38;5;241m=\u001b[39m result_paths(f)\n",
      "File \u001b[0;32m~/.local/lib/python3.10/site-packages/jax/_src/api_util.py:619\u001b[0m, in \u001b[0;36mdebug_info\u001b[0;34m(traced_for, fun, args, kwargs, static_argnums, static_argnames)\u001b[0m\n\u001b[1;32m    617\u001b[0m \u001b[38;5;124;03m\"\"\"Try to build trace-time debug info for fun when applied to args/kwargs.\"\"\"\u001b[39;00m\n\u001b[1;32m    618\u001b[0m src \u001b[38;5;241m=\u001b[39m fun_sourceinfo(fun)\n\u001b[0;32m--> 619\u001b[0m arg_names \u001b[38;5;241m=\u001b[39m \u001b[43m_arg_names\u001b[49m\u001b[43m(\u001b[49m\u001b[43mfun\u001b[49m\u001b[43m,\u001b[49m\u001b[43m \u001b[49m\u001b[43margs\u001b[49m\u001b[43m,\u001b[49m\u001b[43m \u001b[49m\u001b[43mkwargs\u001b[49m\u001b[43m,\u001b[49m\u001b[43m \u001b[49m\u001b[43mstatic_argnums\u001b[49m\u001b[43m,\u001b[49m\u001b[43m \u001b[49m\u001b[43mstatic_argnames\u001b[49m\u001b[43m)\u001b[49m\n\u001b[1;32m    620\u001b[0m \u001b[38;5;28;01mif\u001b[39;00m src \u001b[38;5;129;01mis\u001b[39;00m \u001b[38;5;28;01mNone\u001b[39;00m \u001b[38;5;129;01mor\u001b[39;00m arg_names \u001b[38;5;129;01mis\u001b[39;00m \u001b[38;5;28;01mNone\u001b[39;00m: \u001b[38;5;28;01mreturn\u001b[39;00m \u001b[38;5;28;01mNone\u001b[39;00m\n\u001b[1;32m    621\u001b[0m \u001b[38;5;28;01mreturn\u001b[39;00m TracingDebugInfo(traced_for, src, arg_names, \u001b[38;5;28;01mNone\u001b[39;00m)\n",
      "\u001b[0;31mKeyboardInterrupt\u001b[0m: "
     ]
    }
   ],
   "source": [
    "### Define an optimizer (e.g., Adam)\n",
    "optimizer = optax.adam(learning_rate=0.01)\n",
    "opt_state = optimizer.init(params)\n",
    "lda = 1e+2\n",
    "\n",
    "num_epochs = 1000\n",
    "for epoch in range(num_epochs):\n",
    "    losses = []\n",
    "    for train_data in train_loader:\n",
    "        x, y = train_data\n",
    "        x = x.numpy()\n",
    "        y = y.numpy()\n",
    "        # Compute gradients and loss\n",
    "        # grads = jax.grad(joint_loss)(params, lda, x, y)\n",
    "        # loss = joint_loss(params, lda, x, y)\n",
    "\n",
    "        grads = jax.grad(mse_loss)(params, x, y)\n",
    "        loss = mse_loss(params, x, y)\n",
    "        \n",
    "        # Update parameters using the optimizer\n",
    "        updates, opt_state = optimizer.update(grads, opt_state)\n",
    "        params = optax.apply_updates(params, updates)\n",
    "        \n",
    "        losses.append(loss)\n",
    "\n",
    "    if (epoch + 1) % 1 == 0:\n",
    "        print(f\"Epoch [{epoch + 1}/{num_epochs}], Loss: {np.mean(np.array(losses))}\")        \n",
    "        pred, _ = model.apply(params, X_test, rngs={'dropout': dropout_apply_rng}, train=True, mutable=['batch_stats'])\n",
    "        print(f\"test Pearson r={np.round(pearsonr(pred, y_test)[0], 3)}\")"
   ]
  },
  {
   "cell_type": "code",
   "execution_count": 42,
   "id": "c78d907e-28ac-447f-b0c8-914ab7f987b0",
   "metadata": {
    "tags": []
   },
   "outputs": [
    {
     "data": {
      "image/png": "[encoded data removed]",
      "text/plain": [
       "<Figure size 432x288 with 1 Axes>"
      ]
     },
     "metadata": {
      "needs_background": "light"
     },
     "output_type": "display_data"
    },
    {
     "name": "stdout",
     "output_type": "stream",
     "text": [
      "PearsonRResult(statistic=0.8543487160840807, pvalue=6.191945940745467e-286)\n"
     ]
    }
   ],
   "source": [
    "pred, _ = model.apply(params, X_test, rngs={'dropout': dropout_apply_rng}, train=True, mutable=['batch_stats'])\n",
    "plt.scatter(pred, y_test, alpha=.2)\n",
    "plt.show()\n",
    "print(pearsonr(pred, y_test))"
   ]
  },
  {
   "cell_type": "code",
   "execution_count": 43,
   "id": "c769aad7-784f-46bf-a311-d45fb1c66c89",
   "metadata": {
    "tags": []
   },
   "outputs": [
    {
     "data": {
      "image/png": "[encoded data removed]",
      "text/plain": [
       "<Figure size 432x288 with 1 Axes>"
      ]
     },
     "metadata": {
      "needs_background": "light"
     },
     "output_type": "display_data"
    },
    {
     "name": "stdout",
     "output_type": "stream",
     "text": [
      "PearsonRResult(statistic=0.8592744045267499, pvalue=0.0)\n"
     ]
    }
   ],
   "source": [
    "pred, _ = model.apply(params, x, rngs={'dropout': dropout_apply_rng}, train=True, mutable=['batch_stats'])\n",
    "plt.scatter(pred, y, alpha=.2)\n",
    "plt.show()\n",
    "print(pearsonr(pred, y))"
   ]
  },
  {
   "cell_type": "markdown",
   "id": "b5455e75-9dd8-4810-bd13-087ad2b0f861",
   "metadata": {
    "tags": []
   },
   "source": [
    "#### N_layer = 2"
   ]
  },
  {
   "cell_type": "code",
   "execution_count": 129,
   "id": "bcafab39-91d7-49a6-a28d-3ae2460b9e4b",
   "metadata": {
    "tags": []
   },
   "outputs": [
    {
     "data": {
      "image/png": "[encoded data removed]",
      "text/plain": [
       "<Figure size 432x288 with 1 Axes>"
      ]
     },
     "metadata": {
      "needs_background": "light"
     },
     "output_type": "display_data"
    }
   ],
   "source": [
    "# Create an instance of the model\n",
    "model = TransformerPredictor(num_layers=2,\n",
    "                                model_dim=80,\n",
    "                                num_classes=1,\n",
    "                                num_heads=4,\n",
    "                                dropout_prob=0.0,\n",
    "                                input_dropout_prob=0.00)\n",
    "\n",
    "x = next(iter(train_loader))[0].numpy()\n",
    "\n",
    "# Initialize the model and optimizer state\n",
    "main_rng, init_rng, dropout_init_rng = random.split(main_rng, 3)\n",
    "# Since dropout is stochastic, we need to pass a rng to the forward\n",
    "main_rng, dropout_apply_rng = random.split(main_rng)\n",
    "\n",
    "params = model.init({'params': init_rng, 'dropout': dropout_init_rng}, x, train=True)\n",
    "\n",
    "out, updates = model.apply(params, x,\n",
    "                          rngs={'dropout': dropout_apply_rng}, train=True, mutable=['batch_stats'])\n",
    "\n",
    "plt.hist(out)\n",
    "plt.show()"
   ]
  },
  {
   "cell_type": "code",
   "execution_count": null,
   "id": "b9816508-fe5f-428c-8ccd-a614ba28202b",
   "metadata": {
    "tags": []
   },
   "outputs": [
    {
     "name": "stdout",
     "output_type": "stream",
     "text": [
      "Epoch [1/1000], Loss: 0.026398885995149612\n",
      "test Pearson r=0.919\n",
      "Epoch [2/1000], Loss: 0.02520323358476162\n",
      "test Pearson r=0.922\n",
      "Epoch [3/1000], Loss: 0.024721749126911163\n",
      "test Pearson r=0.921\n",
      "Epoch [4/1000], Loss: 0.02465391717851162\n",
      "test Pearson r=0.925\n",
      "Epoch [5/1000], Loss: 0.024758733808994293\n",
      "test Pearson r=0.922\n",
      "Epoch [6/1000], Loss: 0.024477286264300346\n",
      "test Pearson r=0.92\n",
      "Epoch [7/1000], Loss: 0.024543574079871178\n",
      "test Pearson r=0.922\n",
      "Epoch [8/1000], Loss: 0.024635041132569313\n",
      "test Pearson r=0.922\n",
      "Epoch [9/1000], Loss: 0.023848500102758408\n",
      "test Pearson r=0.925\n",
      "Epoch [10/1000], Loss: 0.02394966036081314\n",
      "test Pearson r=0.926\n",
      "Epoch [11/1000], Loss: 0.023739071562886238\n",
      "test Pearson r=0.923\n",
      "Epoch [12/1000], Loss: 0.023723101243376732\n",
      "test Pearson r=0.922\n",
      "Epoch [13/1000], Loss: 0.024048037827014923\n",
      "test Pearson r=0.92\n",
      "Epoch [14/1000], Loss: 0.023558635264635086\n",
      "test Pearson r=0.923\n",
      "Epoch [15/1000], Loss: 0.02380085177719593\n",
      "test Pearson r=0.925\n",
      "Epoch [16/1000], Loss: 0.02361210063099861\n",
      "test Pearson r=0.921\n",
      "Epoch [17/1000], Loss: 0.023684587329626083\n",
      "test Pearson r=0.92\n",
      "Epoch [18/1000], Loss: 0.0235452800989151\n",
      "test Pearson r=0.925\n",
      "Epoch [19/1000], Loss: 0.023471469059586525\n",
      "test Pearson r=0.923\n",
      "Epoch [20/1000], Loss: 0.023708682507276535\n",
      "test Pearson r=0.926\n",
      "Epoch [21/1000], Loss: 0.023631975054740906\n",
      "test Pearson r=0.919\n",
      "Epoch [22/1000], Loss: 0.023870468139648438\n",
      "test Pearson r=0.923\n",
      "Epoch [23/1000], Loss: 0.023599514737725258\n",
      "test Pearson r=0.924\n",
      "Epoch [24/1000], Loss: 0.023535804823040962\n",
      "test Pearson r=0.924\n",
      "Epoch [25/1000], Loss: 0.023398689925670624\n",
      "test Pearson r=0.925\n",
      "Epoch [26/1000], Loss: 0.02343219704926014\n",
      "test Pearson r=0.922\n",
      "Epoch [27/1000], Loss: 0.02339238114655018\n",
      "test Pearson r=0.925\n",
      "Epoch [28/1000], Loss: 0.023533925414085388\n",
      "test Pearson r=0.923\n",
      "Epoch [29/1000], Loss: 0.023430613800883293\n",
      "test Pearson r=0.926\n",
      "Epoch [30/1000], Loss: 0.023816373199224472\n",
      "test Pearson r=0.924\n",
      "Epoch [31/1000], Loss: 0.023505188524723053\n",
      "test Pearson r=0.923\n",
      "Epoch [32/1000], Loss: 0.023411177098751068\n",
      "test Pearson r=0.924\n",
      "Epoch [33/1000], Loss: 0.023275969550013542\n",
      "test Pearson r=0.927\n",
      "Epoch [34/1000], Loss: 0.023249389603734016\n",
      "test Pearson r=0.925\n",
      "Epoch [35/1000], Loss: 0.02345298044383526\n",
      "test Pearson r=0.921\n",
      "Epoch [36/1000], Loss: 0.02310658060014248\n",
      "test Pearson r=0.925\n",
      "Epoch [37/1000], Loss: 0.023269319906830788\n",
      "test Pearson r=0.925\n",
      "Epoch [38/1000], Loss: 0.023189673200249672\n",
      "test Pearson r=0.922\n",
      "Epoch [39/1000], Loss: 0.023436134681105614\n",
      "test Pearson r=0.921\n",
      "Epoch [40/1000], Loss: 0.023379964753985405\n",
      "test Pearson r=0.92\n",
      "Epoch [41/1000], Loss: 0.02356356382369995\n",
      "test Pearson r=0.922\n",
      "Epoch [42/1000], Loss: 0.023332364857196808\n",
      "test Pearson r=0.924\n",
      "Epoch [43/1000], Loss: 0.02346416749060154\n",
      "test Pearson r=0.923\n",
      "Epoch [44/1000], Loss: 0.02317848987877369\n",
      "test Pearson r=0.926\n",
      "Epoch [45/1000], Loss: 0.023548468947410583\n",
      "test Pearson r=0.921\n",
      "Epoch [46/1000], Loss: 0.023220378905534744\n",
      "test Pearson r=0.924\n",
      "Epoch [47/1000], Loss: 0.02304767817258835\n",
      "test Pearson r=0.924\n",
      "Epoch [48/1000], Loss: 0.023276763036847115\n",
      "test Pearson r=0.923\n",
      "Epoch [49/1000], Loss: 0.023403899744153023\n",
      "test Pearson r=0.925\n",
      "Epoch [50/1000], Loss: 0.023376628756523132\n",
      "test Pearson r=0.924\n",
      "Epoch [51/1000], Loss: 0.023188555613160133\n",
      "test Pearson r=0.925\n",
      "Epoch [52/1000], Loss: 0.023054273799061775\n",
      "test Pearson r=0.924\n",
      "Epoch [53/1000], Loss: 0.02324574626982212\n",
      "test Pearson r=0.923\n",
      "Epoch [54/1000], Loss: 0.023089129477739334\n",
      "test Pearson r=0.922\n",
      "Epoch [55/1000], Loss: 0.02336050011217594\n",
      "test Pearson r=0.926\n",
      "Epoch [56/1000], Loss: 0.023171596229076385\n",
      "test Pearson r=0.925\n",
      "Epoch [57/1000], Loss: 0.022907890379428864\n",
      "test Pearson r=0.923\n",
      "Epoch [58/1000], Loss: 0.023142408579587936\n",
      "test Pearson r=0.924\n",
      "Epoch [59/1000], Loss: 0.023314261808991432\n",
      "test Pearson r=0.925\n",
      "Epoch [60/1000], Loss: 0.02330770529806614\n",
      "test Pearson r=0.925\n",
      "Epoch [61/1000], Loss: 0.02321695350110531\n",
      "test Pearson r=0.925\n",
      "Epoch [62/1000], Loss: 0.02304566465318203\n",
      "test Pearson r=0.925\n",
      "Epoch [63/1000], Loss: 0.023405076935887337\n",
      "test Pearson r=0.924\n",
      "Epoch [64/1000], Loss: 0.02322508580982685\n",
      "test Pearson r=0.922\n",
      "Epoch [65/1000], Loss: 0.02301105670630932\n",
      "test Pearson r=0.926\n",
      "Epoch [66/1000], Loss: 0.023102276027202606\n",
      "test Pearson r=0.925\n",
      "Epoch [67/1000], Loss: 0.023011887446045876\n",
      "test Pearson r=0.924\n",
      "Epoch [68/1000], Loss: 0.023193391039967537\n",
      "test Pearson r=0.926\n",
      "Epoch [69/1000], Loss: 0.023065105080604553\n",
      "test Pearson r=0.922\n",
      "Epoch [70/1000], Loss: 0.023003024980425835\n",
      "test Pearson r=0.925\n",
      "Epoch [71/1000], Loss: 0.023241525515913963\n",
      "test Pearson r=0.926\n",
      "Epoch [72/1000], Loss: 0.022843172773718834\n",
      "test Pearson r=0.926\n",
      "Epoch [73/1000], Loss: 0.0230819433927536\n",
      "test Pearson r=0.921\n",
      "Epoch [74/1000], Loss: 0.023152852430939674\n",
      "test Pearson r=0.926\n",
      "Epoch [75/1000], Loss: 0.02294778823852539\n",
      "test Pearson r=0.918\n",
      "Epoch [76/1000], Loss: 0.023624230176210403\n",
      "test Pearson r=0.927\n",
      "Epoch [77/1000], Loss: 0.02332470566034317\n",
      "test Pearson r=0.924\n",
      "Epoch [78/1000], Loss: 0.023193208500742912\n",
      "test Pearson r=0.924\n",
      "Epoch [79/1000], Loss: 0.022921228781342506\n",
      "test Pearson r=0.926\n",
      "Epoch [80/1000], Loss: 0.022860920056700706\n",
      "test Pearson r=0.923\n",
      "Epoch [81/1000], Loss: 0.023327939212322235\n",
      "test Pearson r=0.925\n",
      "Epoch [82/1000], Loss: 0.023227812722325325\n",
      "test Pearson r=0.927\n",
      "Epoch [83/1000], Loss: 0.02328140288591385\n",
      "test Pearson r=0.919\n",
      "Epoch [84/1000], Loss: 0.023023897781968117\n",
      "test Pearson r=0.926\n",
      "Epoch [85/1000], Loss: 0.022968275472521782\n",
      "test Pearson r=0.926\n",
      "Epoch [86/1000], Loss: 0.0228962991386652\n",
      "test Pearson r=0.926\n",
      "Epoch [87/1000], Loss: 0.023196415975689888\n",
      "test Pearson r=0.924\n",
      "Epoch [88/1000], Loss: 0.02303968369960785\n",
      "test Pearson r=0.925\n",
      "Epoch [89/1000], Loss: 0.023300504311919212\n",
      "test Pearson r=0.926\n",
      "Epoch [90/1000], Loss: 0.023132389411330223\n",
      "test Pearson r=0.924\n",
      "Epoch [91/1000], Loss: 0.0228755883872509\n",
      "test Pearson r=0.924\n",
      "Epoch [92/1000], Loss: 0.02320372872054577\n",
      "test Pearson r=0.923\n",
      "Epoch [93/1000], Loss: 0.023132219910621643\n",
      "test Pearson r=0.922\n",
      "Epoch [94/1000], Loss: 0.02299322374165058\n",
      "test Pearson r=0.924\n",
      "Epoch [95/1000], Loss: 0.022890932857990265\n",
      "test Pearson r=0.926\n",
      "Epoch [96/1000], Loss: 0.023289697244763374\n",
      "test Pearson r=0.925\n",
      "Epoch [97/1000], Loss: 0.023001927882432938\n",
      "test Pearson r=0.925\n",
      "Epoch [98/1000], Loss: 0.022778859362006187\n",
      "test Pearson r=0.925\n",
      "Epoch [99/1000], Loss: 0.023223359137773514\n",
      "test Pearson r=0.926\n",
      "Epoch [100/1000], Loss: 0.023149952292442322\n",
      "test Pearson r=0.926\n",
      "Epoch [101/1000], Loss: 0.023223888128995895\n",
      "test Pearson r=0.924\n",
      "Epoch [102/1000], Loss: 0.023102033883333206\n",
      "test Pearson r=0.924\n",
      "Epoch [103/1000], Loss: 0.023201799020171165\n",
      "test Pearson r=0.924\n",
      "Epoch [104/1000], Loss: 0.022905586287379265\n",
      "test Pearson r=0.927\n",
      "Epoch [105/1000], Loss: 0.022915882989764214\n",
      "test Pearson r=0.925\n",
      "Epoch [106/1000], Loss: 0.02291352115571499\n",
      "test Pearson r=0.926\n",
      "Epoch [107/1000], Loss: 0.02313896268606186\n",
      "test Pearson r=0.925\n",
      "Epoch [108/1000], Loss: 0.023110074922442436\n",
      "test Pearson r=0.923\n",
      "Epoch [109/1000], Loss: 0.023174181580543518\n",
      "test Pearson r=0.925\n",
      "Epoch [110/1000], Loss: 0.02311132848262787\n",
      "test Pearson r=0.926\n",
      "Epoch [111/1000], Loss: 0.022865867242217064\n",
      "test Pearson r=0.927\n",
      "Epoch [112/1000], Loss: 0.022732047364115715\n",
      "test Pearson r=0.925\n",
      "Epoch [113/1000], Loss: 0.02279866300523281\n",
      "test Pearson r=0.922\n",
      "Epoch [114/1000], Loss: 0.02300039492547512\n",
      "test Pearson r=0.928\n",
      "Epoch [115/1000], Loss: 0.022910550236701965\n",
      "test Pearson r=0.926\n",
      "Epoch [116/1000], Loss: 0.02278219535946846\n",
      "test Pearson r=0.924\n",
      "Epoch [117/1000], Loss: 0.022921578958630562\n",
      "test Pearson r=0.923\n",
      "Epoch [118/1000], Loss: 0.023341888561844826\n",
      "test Pearson r=0.924\n",
      "Epoch [119/1000], Loss: 0.02297285757958889\n",
      "test Pearson r=0.923\n",
      "Epoch [120/1000], Loss: 0.022946465760469437\n",
      "test Pearson r=0.926\n",
      "Epoch [121/1000], Loss: 0.022990979254245758\n",
      "test Pearson r=0.925\n",
      "Epoch [122/1000], Loss: 0.022870531305670738\n",
      "test Pearson r=0.924\n",
      "Epoch [123/1000], Loss: 0.02306101843714714\n",
      "test Pearson r=0.926\n",
      "Epoch [124/1000], Loss: 0.02272019349038601\n",
      "test Pearson r=0.923\n",
      "Epoch [125/1000], Loss: 0.022916743531823158\n",
      "test Pearson r=0.926\n",
      "Epoch [126/1000], Loss: 0.02308393456041813\n",
      "test Pearson r=0.925\n",
      "Epoch [127/1000], Loss: 0.022844457998871803\n",
      "test Pearson r=0.926\n",
      "Epoch [128/1000], Loss: 0.02310984581708908\n",
      "test Pearson r=0.927\n",
      "Epoch [129/1000], Loss: 0.02299232967197895\n",
      "test Pearson r=0.924\n",
      "Epoch [130/1000], Loss: 0.02304340898990631\n",
      "test Pearson r=0.921\n",
      "Epoch [131/1000], Loss: 0.022911062464118004\n",
      "test Pearson r=0.927\n",
      "Epoch [132/1000], Loss: 0.022800473496317863\n",
      "test Pearson r=0.926\n",
      "Epoch [133/1000], Loss: 0.022830696776509285\n",
      "test Pearson r=0.923\n",
      "Epoch [134/1000], Loss: 0.022615712136030197\n",
      "test Pearson r=0.927\n",
      "Epoch [135/1000], Loss: 0.022919123992323875\n",
      "test Pearson r=0.922\n",
      "Epoch [136/1000], Loss: 0.02314797230064869\n",
      "test Pearson r=0.927\n",
      "Epoch [137/1000], Loss: 0.022988764569163322\n",
      "test Pearson r=0.927\n",
      "Epoch [138/1000], Loss: 0.022875778377056122\n",
      "test Pearson r=0.928\n",
      "Epoch [139/1000], Loss: 0.022967031225562096\n",
      "test Pearson r=0.925\n",
      "Epoch [140/1000], Loss: 0.022946368902921677\n",
      "test Pearson r=0.925\n",
      "Epoch [141/1000], Loss: 0.02300439402461052\n",
      "test Pearson r=0.926\n",
      "Epoch [142/1000], Loss: 0.02293745055794716\n",
      "test Pearson r=0.927\n",
      "Epoch [143/1000], Loss: 0.023076003417372704\n",
      "test Pearson r=0.925\n",
      "Epoch [144/1000], Loss: 0.023222045972943306\n",
      "test Pearson r=0.926\n",
      "Epoch [145/1000], Loss: 0.02298370562493801\n",
      "test Pearson r=0.925\n",
      "Epoch [146/1000], Loss: 0.022775180637836456\n",
      "test Pearson r=0.925\n",
      "Epoch [147/1000], Loss: 0.02266819216310978\n",
      "test Pearson r=0.926\n",
      "Epoch [148/1000], Loss: 0.022894669324159622\n",
      "test Pearson r=0.923\n",
      "Epoch [149/1000], Loss: 0.02312290482223034\n",
      "test Pearson r=0.928\n",
      "Epoch [150/1000], Loss: 0.022852061316370964\n",
      "test Pearson r=0.927\n",
      "Epoch [151/1000], Loss: 0.022835295647382736\n",
      "test Pearson r=0.927\n",
      "Epoch [152/1000], Loss: 0.022972233593463898\n",
      "test Pearson r=0.925\n",
      "Epoch [153/1000], Loss: 0.02290872484445572\n",
      "test Pearson r=0.927\n",
      "Epoch [154/1000], Loss: 0.023245258256793022\n",
      "test Pearson r=0.924\n",
      "Epoch [155/1000], Loss: 0.023220021277666092\n",
      "test Pearson r=0.927\n",
      "Epoch [156/1000], Loss: 0.02282857336103916\n",
      "test Pearson r=0.926\n",
      "Epoch [157/1000], Loss: 0.023185687139630318\n",
      "test Pearson r=0.925\n",
      "Epoch [158/1000], Loss: 0.023235643282532692\n",
      "test Pearson r=0.925\n",
      "Epoch [159/1000], Loss: 0.022976301610469818\n",
      "test Pearson r=0.926\n",
      "Epoch [160/1000], Loss: 0.02277391031384468\n",
      "test Pearson r=0.925\n",
      "Epoch [161/1000], Loss: 0.023224003612995148\n",
      "test Pearson r=0.924\n",
      "Epoch [162/1000], Loss: 0.023061757907271385\n",
      "test Pearson r=0.925\n",
      "Epoch [163/1000], Loss: 0.02316843532025814\n",
      "test Pearson r=0.925\n",
      "Epoch [164/1000], Loss: 0.022929133847355843\n",
      "test Pearson r=0.926\n",
      "Epoch [165/1000], Loss: 0.022615281865000725\n",
      "test Pearson r=0.926\n",
      "Epoch [166/1000], Loss: 0.0229044072329998\n",
      "test Pearson r=0.926\n",
      "Epoch [167/1000], Loss: 0.022791316732764244\n",
      "test Pearson r=0.924\n",
      "Epoch [168/1000], Loss: 0.022727370262145996\n",
      "test Pearson r=0.928\n",
      "Epoch [169/1000], Loss: 0.022781841456890106\n",
      "test Pearson r=0.928\n",
      "Epoch [170/1000], Loss: 0.023116519674658775\n",
      "test Pearson r=0.926\n",
      "Epoch [171/1000], Loss: 0.02305109240114689\n",
      "test Pearson r=0.925\n",
      "Epoch [172/1000], Loss: 0.022694213315844536\n",
      "test Pearson r=0.927\n",
      "Epoch [173/1000], Loss: 0.02302839234471321\n",
      "test Pearson r=0.926\n",
      "Epoch [174/1000], Loss: 0.023140916600823402\n",
      "test Pearson r=0.924\n",
      "Epoch [175/1000], Loss: 0.02286199852824211\n",
      "test Pearson r=0.928\n",
      "Epoch [176/1000], Loss: 0.023010849952697754\n",
      "test Pearson r=0.927\n",
      "Epoch [177/1000], Loss: 0.022592555731534958\n",
      "test Pearson r=0.928\n",
      "Epoch [178/1000], Loss: 0.022824978455901146\n",
      "test Pearson r=0.926\n",
      "Epoch [179/1000], Loss: 0.023058786988258362\n",
      "test Pearson r=0.927\n",
      "Epoch [180/1000], Loss: 0.023065941408276558\n",
      "test Pearson r=0.928\n",
      "Epoch [181/1000], Loss: 0.02281239442527294\n",
      "test Pearson r=0.926\n",
      "Epoch [182/1000], Loss: 0.022812996059656143\n",
      "test Pearson r=0.927\n",
      "Epoch [183/1000], Loss: 0.02278619445860386\n",
      "test Pearson r=0.929\n",
      "Epoch [184/1000], Loss: 0.022695748135447502\n",
      "test Pearson r=0.929\n",
      "Epoch [185/1000], Loss: 0.022826798260211945\n",
      "test Pearson r=0.928\n",
      "Epoch [186/1000], Loss: 0.022885091602802277\n",
      "test Pearson r=0.926\n",
      "Epoch [187/1000], Loss: 0.022736666724085808\n",
      "test Pearson r=0.926\n",
      "Epoch [188/1000], Loss: 0.022717809304594994\n",
      "test Pearson r=0.927\n",
      "Epoch [189/1000], Loss: 0.022638659924268723\n",
      "test Pearson r=0.926\n",
      "Epoch [190/1000], Loss: 0.02262534573674202\n",
      "test Pearson r=0.926\n",
      "Epoch [191/1000], Loss: 0.02283225953578949\n",
      "test Pearson r=0.926\n",
      "Epoch [192/1000], Loss: 0.02300354652106762\n",
      "test Pearson r=0.928\n",
      "Epoch [193/1000], Loss: 0.02326001599431038\n",
      "test Pearson r=0.926\n",
      "Epoch [194/1000], Loss: 0.022914040833711624\n",
      "test Pearson r=0.926\n",
      "Epoch [195/1000], Loss: 0.02287323772907257\n",
      "test Pearson r=0.926\n",
      "Epoch [196/1000], Loss: 0.02305905520915985\n",
      "test Pearson r=0.927\n",
      "Epoch [197/1000], Loss: 0.02299675904214382\n",
      "test Pearson r=0.924\n",
      "Epoch [198/1000], Loss: 0.022914400324225426\n",
      "test Pearson r=0.925\n",
      "Epoch [199/1000], Loss: 0.022886741906404495\n",
      "test Pearson r=0.927\n",
      "Epoch [200/1000], Loss: 0.022662237286567688\n",
      "test Pearson r=0.926\n",
      "Epoch [201/1000], Loss: 0.02275557816028595\n",
      "test Pearson r=0.927\n",
      "Epoch [202/1000], Loss: 0.0228191539645195\n",
      "test Pearson r=0.925\n",
      "Epoch [203/1000], Loss: 0.022910989820957184\n",
      "test Pearson r=0.926\n",
      "Epoch [204/1000], Loss: 0.02275840938091278\n",
      "test Pearson r=0.928\n",
      "Epoch [205/1000], Loss: 0.02299424447119236\n",
      "test Pearson r=0.926\n",
      "Epoch [206/1000], Loss: 0.022736139595508575\n",
      "test Pearson r=0.926\n",
      "Epoch [207/1000], Loss: 0.02274606190621853\n",
      "test Pearson r=0.927\n",
      "Epoch [208/1000], Loss: 0.022699417546391487\n",
      "test Pearson r=0.928\n",
      "Epoch [209/1000], Loss: 0.022796906530857086\n",
      "test Pearson r=0.924\n",
      "Epoch [210/1000], Loss: 0.022819988429546356\n",
      "test Pearson r=0.925\n",
      "Epoch [211/1000], Loss: 0.022846613079309464\n",
      "test Pearson r=0.927\n",
      "Epoch [212/1000], Loss: 0.02290939725935459\n",
      "test Pearson r=0.929\n",
      "Epoch [213/1000], Loss: 0.022989440709352493\n",
      "test Pearson r=0.928\n",
      "Epoch [214/1000], Loss: 0.022502874955534935\n",
      "test Pearson r=0.928\n",
      "Epoch [215/1000], Loss: 0.022737551480531693\n",
      "test Pearson r=0.926\n",
      "Epoch [216/1000], Loss: 0.022838031873106956\n",
      "test Pearson r=0.928\n",
      "Epoch [217/1000], Loss: 0.02276720106601715\n",
      "test Pearson r=0.926\n",
      "Epoch [218/1000], Loss: 0.022808218374848366\n",
      "test Pearson r=0.928\n",
      "Epoch [219/1000], Loss: 0.022734887897968292\n",
      "test Pearson r=0.924\n",
      "Epoch [220/1000], Loss: 0.0230092853307724\n",
      "test Pearson r=0.926\n",
      "Epoch [221/1000], Loss: 0.023015746846795082\n",
      "test Pearson r=0.923\n",
      "Epoch [222/1000], Loss: 0.022687483578920364\n",
      "test Pearson r=0.927\n",
      "Epoch [223/1000], Loss: 0.02277360111474991\n",
      "test Pearson r=0.925\n",
      "Epoch [224/1000], Loss: 0.022866297513246536\n",
      "test Pearson r=0.928\n",
      "Epoch [225/1000], Loss: 0.022763896733522415\n",
      "test Pearson r=0.924\n",
      "Epoch [226/1000], Loss: 0.023303017020225525\n",
      "test Pearson r=0.927\n",
      "Epoch [227/1000], Loss: 0.02279418520629406\n",
      "test Pearson r=0.925\n",
      "Epoch [228/1000], Loss: 0.022800542414188385\n",
      "test Pearson r=0.925\n",
      "Epoch [229/1000], Loss: 0.02279689721763134\n",
      "test Pearson r=0.925\n",
      "Epoch [230/1000], Loss: 0.022911202162504196\n",
      "test Pearson r=0.926\n",
      "Epoch [231/1000], Loss: 0.022899167612195015\n",
      "test Pearson r=0.928\n",
      "Epoch [232/1000], Loss: 0.02308911271393299\n",
      "test Pearson r=0.929\n",
      "Epoch [233/1000], Loss: 0.022636646404862404\n",
      "test Pearson r=0.928\n",
      "Epoch [234/1000], Loss: 0.023017967119812965\n",
      "test Pearson r=0.926\n",
      "Epoch [235/1000], Loss: 0.02295731008052826\n",
      "test Pearson r=0.924\n",
      "Epoch [236/1000], Loss: 0.022722981870174408\n",
      "test Pearson r=0.927\n",
      "Epoch [237/1000], Loss: 0.022907231003046036\n",
      "test Pearson r=0.928\n",
      "Epoch [238/1000], Loss: 0.022957028821110725\n",
      "test Pearson r=0.929\n",
      "Epoch [239/1000], Loss: 0.022845301777124405\n",
      "test Pearson r=0.923\n",
      "Epoch [240/1000], Loss: 0.022943327203392982\n",
      "test Pearson r=0.928\n",
      "Epoch [241/1000], Loss: 0.022682076320052147\n",
      "test Pearson r=0.926\n",
      "Epoch [242/1000], Loss: 0.022878171876072884\n",
      "test Pearson r=0.927\n",
      "Epoch [243/1000], Loss: 0.022850241512060165\n",
      "test Pearson r=0.926\n",
      "Epoch [244/1000], Loss: 0.022742269560694695\n",
      "test Pearson r=0.926\n",
      "Epoch [245/1000], Loss: 0.022682232782244682\n",
      "test Pearson r=0.927\n",
      "Epoch [246/1000], Loss: 0.022655580192804337\n",
      "test Pearson r=0.926\n",
      "Epoch [247/1000], Loss: 0.02273350954055786\n",
      "test Pearson r=0.927\n",
      "Epoch [248/1000], Loss: 0.02289634384214878\n",
      "test Pearson r=0.922\n",
      "Epoch [249/1000], Loss: 0.02286202274262905\n",
      "test Pearson r=0.928\n",
      "Epoch [250/1000], Loss: 0.022812457755208015\n",
      "test Pearson r=0.925\n",
      "Epoch [251/1000], Loss: 0.02279439941048622\n",
      "test Pearson r=0.925\n",
      "Epoch [252/1000], Loss: 0.0228604506701231\n",
      "test Pearson r=0.923\n",
      "Epoch [253/1000], Loss: 0.022790079936385155\n",
      "test Pearson r=0.926\n",
      "Epoch [254/1000], Loss: 0.02285829931497574\n",
      "test Pearson r=0.927\n",
      "Epoch [255/1000], Loss: 0.022870896384119987\n",
      "test Pearson r=0.926\n",
      "Epoch [256/1000], Loss: 0.022816265001893044\n",
      "test Pearson r=0.926\n",
      "Epoch [257/1000], Loss: 0.022718805819749832\n",
      "test Pearson r=0.925\n",
      "Epoch [258/1000], Loss: 0.02253267541527748\n",
      "test Pearson r=0.925\n",
      "Epoch [259/1000], Loss: 0.02289866842329502\n",
      "test Pearson r=0.927\n",
      "Epoch [260/1000], Loss: 0.022828346118330956\n",
      "test Pearson r=0.925\n",
      "Epoch [261/1000], Loss: 0.02342766337096691\n",
      "test Pearson r=0.923\n",
      "Epoch [262/1000], Loss: 0.022880075499415398\n",
      "test Pearson r=0.923\n",
      "Epoch [263/1000], Loss: 0.022942926734685898\n",
      "test Pearson r=0.926\n",
      "Epoch [264/1000], Loss: 0.022780561819672585\n",
      "test Pearson r=0.927\n",
      "Epoch [265/1000], Loss: 0.022737903520464897\n",
      "test Pearson r=0.927\n",
      "Epoch [266/1000], Loss: 0.023013455793261528\n",
      "test Pearson r=0.929\n",
      "Epoch [267/1000], Loss: 0.02301718294620514\n",
      "test Pearson r=0.924\n",
      "Epoch [268/1000], Loss: 0.02267925813794136\n",
      "test Pearson r=0.926\n",
      "Epoch [269/1000], Loss: 0.022609639912843704\n",
      "test Pearson r=0.926\n"
     ]
    }
   ],
   "source": [
    "# Define an optimizer (e.g., Adam)\n",
    "optimizer = optax.adam(learning_rate=0.01)\n",
    "opt_state = optimizer.init(params)\n",
    "lda = 1e+2\n",
    "\n",
    "num_epochs = 1000\n",
    "for epoch in range(num_epochs):\n",
    "    losses = []\n",
    "    for train_data in train_loader:\n",
    "        x, y = train_data\n",
    "        x = x.numpy()\n",
    "        y = y.numpy()\n",
    "        # Compute gradients and loss\n",
    "        # grads = jax.grad(joint_loss)(params, lda, x, y)\n",
    "        # loss = joint_loss(params, lda, x, y)\n",
    "\n",
    "        grads = jax.grad(mse_loss)(params, x, y)\n",
    "        loss = mse_loss(params, x, y)\n",
    "        \n",
    "        # Update parameters using the optimizer\n",
    "        updates, opt_state = optimizer.update(grads, opt_state)\n",
    "        params = optax.apply_updates(params, updates)\n",
    "        \n",
    "        losses.append(loss)\n",
    "\n",
    "    if (epoch + 1) % 1 == 0:\n",
    "        print(f\"Epoch [{epoch + 1}/{num_epochs}], Loss: {np.mean(np.array(losses))}\")        \n",
    "        pred, _ = model.apply(params, X_test, rngs={'dropout': dropout_apply_rng}, train=True, mutable=['batch_stats'])\n",
    "        print(f\"test Pearson r={np.round(pearsonr(pred, y_test)[0], 3)}\")"
   ]
  },
  {
   "cell_type": "code",
   "execution_count": 131,
   "id": "48cf1814-e569-4bda-95a9-38bf4c2e8a5f",
   "metadata": {
    "tags": []
   },
   "outputs": [
    {
     "data": {
      "image/png": "[encoded data removed]",
      "text/plain": [
       "<Figure size 432x288 with 1 Axes>"
      ]
     },
     "metadata": {
      "needs_background": "light"
     },
     "output_type": "display_data"
    },
    {
     "name": "stdout",
     "output_type": "stream",
     "text": [
      "PearsonRResult(statistic=0.9193753144517082, pvalue=0.0)\n"
     ]
    }
   ],
   "source": [
    "pred, _ = model.apply(params, X_test, rngs={'dropout': dropout_apply_rng}, train=True, mutable=['batch_stats'])\n",
    "plt.scatter(pred, y_test, alpha=.2)\n",
    "plt.show()\n",
    "print(pearsonr(pred, y_test))"
   ]
  },
  {
   "cell_type": "code",
   "execution_count": 134,
   "id": "54025eb9-71e1-4bc2-9e4d-62a6bce20991",
   "metadata": {
    "tags": []
   },
   "outputs": [
    {
     "data": {
      "image/png": "[encoded data removed]",
      "text/plain": [
       "<Figure size 432x288 with 1 Axes>"
      ]
     },
     "metadata": {
      "needs_background": "light"
     },
     "output_type": "display_data"
    },
    {
     "name": "stdout",
     "output_type": "stream",
     "text": [
      "PearsonRResult(statistic=0.9328117372435667, pvalue=0.0)\n"
     ]
    }
   ],
   "source": [
    "pred, _ = model.apply(params, x, rngs={'dropout': dropout_apply_rng}, train=True, mutable=['batch_stats'])\n",
    "plt.scatter(pred, y, alpha=.2)\n",
    "plt.show()\n",
    "print(pearsonr(pred, y))"
   ]
  },
  {
   "cell_type": "markdown",
   "id": "934b3cb8-62e4-4a4a-9a8a-79ffd97d9d4b",
   "metadata": {
    "jp-MarkdownHeadingCollapsed": true,
    "tags": []
   },
   "source": [
    "### Troubleshooting sigmoid"
   ]
  },
  {
   "cell_type": "code",
   "execution_count": 28,
   "id": "f169b6b9-d967-4670-b02d-948f7ad75f57",
   "metadata": {
    "tags": []
   },
   "outputs": [],
   "source": [
    "X = seqs1h.cpu().numpy().astype(np.float32)\n",
    "y = phenotypes.cpu().numpy()\n",
    "\n",
    "\n",
    "train_list = np.random.choice(len(X), int(.2*len(X)))\n",
    "comp_list = list(set(range(len(X))).difference(train_list))\n",
    "test_list = np.random.choice(comp_list, 1000)\n",
    "\n",
    "X_train = X[train_list]\n",
    "y_train = y[train_list]\n",
    "\n",
    "X_test = X[test_list]\n",
    "y_test = y[test_list]\n",
    "\n",
    "train_dataset = ProtDataset(X_train, y_train)\n",
    "\n",
    "train_loader = data.DataLoader(train_dataset,\n",
    "                               batch_size=1000,\n",
    "                               shuffle=True,\n",
    "                               drop_last=False)"
   ]
  },
  {
   "cell_type": "code",
   "execution_count": 1022,
   "id": "6d3ebf82-e2af-4d0e-9fd0-aef97d3176ed",
   "metadata": {
    "tags": []
   },
   "outputs": [],
   "source": [
    "import jax\n",
    "import jax.numpy as jnp\n",
    "from flax import linen as nn\n",
    "import optax\n",
    "\n",
    "# Define the linear regression model as provided\n",
    "class LinearRegressionModel(nn.Module):\n",
    "    @nn.compact\n",
    "    def __call__(self, x):\n",
    "        weights = self.param('weights', lambda key, shape: jax.random.normal(key, shape=shape), (L*20,))\n",
    "        bias = self.param('bias', lambda key, shape: jax.random.normal(key, shape=shape), ())\n",
    "        scale = self.param('scale', lambda key, shape: jax.random.normal(key, shape=shape), ())\n",
    "        linear_output = jnp.dot(x, weights)\n",
    "        # return linear_output\n",
    "        return scale*nn.sigmoid(linear_output) + bias\n",
    "\n",
    "# Define a custom loss function (mean squared error)\n",
    "def mse_loss(params, x, y):\n",
    "    predictions = model.apply(params, x)\n",
    "    loss = jnp.mean((predictions - y) ** 2)\n",
    "    return loss\n",
    "\n",
    "# Create an instance of the model\n",
    "model = LinearRegressionModel()"
   ]
  },
  {
   "cell_type": "code",
   "execution_count": 29,
   "id": "77d241bb-971e-48e0-8bc0-27a47af95d58",
   "metadata": {
    "tags": []
   },
   "outputs": [
    {
     "name": "stdout",
     "output_type": "stream",
     "text": [
      "(10, 28, 20)\n",
      "Out (10,)\n"
     ]
    }
   ],
   "source": [
    "class TransformerPredictor(nn.Module):\n",
    "    model_dim : int                   # Hidden dimensionality to use inside the Transformer\n",
    "    num_classes : int                 # Number of classes to predict per sequence element\n",
    "    num_heads : int                   # Number of heads to use in the Multi-Head Attention blocks\n",
    "    num_layers : int                  # Number of encoder blocks to use\n",
    "    dropout_prob : float = 0.0        # Dropout to apply inside the model\n",
    "    input_dropout_prob : float = 0.0  # Dropout to apply on the input features\n",
    "\n",
    "    def setup(self):\n",
    "        # Input dim -> Model dim\n",
    "        self.input_dropout = nn.Dropout(self.input_dropout_prob)\n",
    "        self.input_layer = nn.Dense(self.model_dim)\n",
    "        # Positional encoding for sequences\n",
    "        # self.positional_encoding = PositionalEncoding(self.model_dim)\n",
    "        # Transformer\n",
    "        self.transformer = TransformerEncoder(num_layers=self.num_layers,\n",
    "                                              input_dim=self.model_dim,\n",
    "                                              dim_feedforward=2*self.model_dim,\n",
    "                                              num_heads=self.num_heads,\n",
    "                                              dropout_prob=self.dropout_prob)\n",
    "        # Output classifier per sequence lement\n",
    "        self.output_net = [\n",
    "            nn.Dense(self.model_dim),\n",
    "            # nn.LayerNorm(),\n",
    "            nn.relu,\n",
    "            nn.Dropout(self.dropout_prob),\n",
    "            nn.Dense(self.num_classes)\n",
    "        ]\n",
    "        \n",
    "        self.final = nn.Dense(1)\n",
    "        # self.norm = norm = nn.BatchNorm(use_running_average=False)\n",
    "        \n",
    "        self.linear = nn.Dense(1)\n",
    "        \n",
    "        self.weights = self.param('weights', lambda key, shape: jax.random.normal(key, shape=shape), (L*self.model_dim,))\n",
    "        self.bias = self.param('bias', lambda key, shape: jax.random.normal(key, shape=shape), ())\n",
    "        self.scale = self.param('scale', lambda key, shape: jax.random.normal(key, shape=shape), ())\n",
    "                \n",
    "    def __call__(self, x, mask=None, train=True):\n",
    "        \"\"\"\n",
    "        Inputs:\n",
    "            x - Input features of shape [Batch, SeqLen, input_dim]\n",
    "            mask - Mask to apply on the attention outputs (optional)\n",
    "            add_positional_encoding - If True, we add the positional encoding to the input.\n",
    "                                      Might not be desired for some tasks.\n",
    "            train - If True, dropout is stochastic\n",
    "        \"\"\"\n",
    "        batch_size = x.shape[0]\n",
    "        # x = self.input_layer(x)\n",
    "        # x = norm(x)\n",
    "        out = jnp.dot(x.reshape(batch_size, -1), self.weights)\n",
    "        # out = out/jnp.std(out)\n",
    "        # out = self.linear(x.reshape(batch_size, -1))\n",
    "        # out = jnp.sum(x.reshape(batch_size, -1), -1)\n",
    "        \n",
    "        return  self.scale*nn.sigmoid(out) + self.bias\n",
    "    \n",
    "    \n",
    "        \n",
    "    \n",
    "## Test TransformerPredictor implementation\n",
    "# Example features as input\n",
    "\n",
    "x = np.random.rand(10, L, 20)\n",
    "print(x.shape)\n",
    "\n",
    "# Create Transformer encoder\n",
    "transpre = TransformerPredictor(num_layers=1,\n",
    "                                model_dim=20,\n",
    "                                num_classes=1,\n",
    "                                num_heads=1,\n",
    "                                dropout_prob=0.15,\n",
    "                                input_dropout_prob=0.05)\n",
    "# Initialize parameters of transformer predictor with random key and inputs\n",
    "main_rng, init_rng, dropout_init_rng = random.split(main_rng, 3)\n",
    "params = transpre.init({'params': init_rng, 'dropout': dropout_init_rng}, x, train=True)['params']\n",
    "# Apply transformer predictor with parameters on the inputs\n",
    "# Since dropout is stochastic, we need to pass a rng to the forward\n",
    "main_rng, dropout_apply_rng = random.split(main_rng)\n",
    "# Instead of passing params and rngs every time to a function call, we can bind them to the module\n",
    "binded_mod = transpre.bind({'params': params}, rngs={'dropout': dropout_apply_rng})\n",
    "out = binded_mod(x, train=True)\n",
    "print('Out', out.shape)"
   ]
  },
  {
   "cell_type": "code",
   "execution_count": 1045,
   "id": "ca52c541-5b05-4338-ad0c-2d41a5a85360",
   "metadata": {
    "tags": []
   },
   "outputs": [],
   "source": [
    "class Predictor(nn.Module):\n",
    "    def setup(self):\n",
    "        self.weights = self.param('weights', lambda key, shape: jax.random.normal(key, shape=shape), (L*20,))\n",
    "        self.bias = self.param('bias', lambda key, shape: jax.random.normal(key, shape=shape), ())\n",
    "        self.scale = self.param('scale', lambda key, shape: jax.random.normal(key, shape=shape), ())\n",
    "\n",
    "    def __call__(self, x, mask=None, train=True):\n",
    "        batch_size = x.shape[0]\n",
    "        x = x.reshape(batch_size, -1)\n",
    "        linear_output = jnp.dot(x, self.weights)\n",
    "        # return linear_output\n",
    "        return self.scale*nn.sigmoid(linear_output) + self.bias\n",
    "        "
   ]
  },
  {
   "cell_type": "code",
   "execution_count": 1046,
   "id": "3840ce7c-7330-4329-916e-df9f95f2996e",
   "metadata": {
    "tags": []
   },
   "outputs": [],
   "source": [
    "model = Predictor()"
   ]
  },
  {
   "cell_type": "code",
   "execution_count": 30,
   "id": "5743c6de-d7a0-417e-a38e-b88c39d18bb3",
   "metadata": {},
   "outputs": [
    {
     "data": {
      "image/png": "[encoded data removed]",
      "text/plain": [
       "<Figure size 432x288 with 1 Axes>"
      ]
     },
     "metadata": {
      "needs_background": "light"
     },
     "output_type": "display_data"
    }
   ],
   "source": [
    "# Create an instance of the model\n",
    "model = TransformerPredictor(num_layers=1,\n",
    "                                model_dim=20,\n",
    "                                num_classes=1,\n",
    "                                num_heads=1,\n",
    "                                dropout_prob=0.0,\n",
    "                                input_dropout_prob=0.00)\n",
    "\n",
    "# model = Predictor()\n",
    "\n",
    "x = next(iter(train_loader))[0].numpy()\n",
    "\n",
    "# Initialize the model and optimizer state\n",
    "main_rng, init_rng, dropout_init_rng = random.split(main_rng, 3)\n",
    "# Since dropout is stochastic, we need to pass a rng to the forward\n",
    "main_rng, dropout_apply_rng = random.split(main_rng)\n",
    "\n",
    "params = model.init({'params': init_rng, 'dropout': dropout_init_rng}, x, train=True)['params']\n",
    "\n",
    "out = model.apply({'params': params}, x,\n",
    "                          rngs={'dropout': dropout_apply_rng})\n",
    "\n",
    "plt.hist(out)\n",
    "plt.show()"
   ]
  },
  {
   "cell_type": "code",
   "execution_count": 31,
   "id": "423ccad2-1ae2-4ec6-b1dc-7e0469c78eaf",
   "metadata": {
    "tags": []
   },
   "outputs": [
    {
     "ename": "ApplyScopeInvalidVariablesTypeError",
     "evalue": "The first argument passed to an apply function should be a dictionary of collections. Each collection should be a dictionary with string keys. (https://flax.readthedocs.io/en/latest/api_reference/flax.errors.html#flax.errors.ApplyScopeInvalidVariablesTypeError)",
     "output_type": "error",
     "traceback": [
      "\u001b[0;31m---------------------------------------------------------------------------\u001b[0m",
      "\u001b[0;31mApplyScopeInvalidVariablesTypeError\u001b[0m       Traceback (most recent call last)",
      "Input \u001b[0;32mIn [31]\u001b[0m, in \u001b[0;36m<cell line: 1>\u001b[0;34m()\u001b[0m\n\u001b[0;32m----> 1\u001b[0m grads \u001b[38;5;241m=\u001b[39m \u001b[43mjax\u001b[49m\u001b[38;5;241;43m.\u001b[39;49m\u001b[43mgrad\u001b[49m\u001b[43m(\u001b[49m\u001b[43mmse_loss\u001b[49m\u001b[43m)\u001b[49m\u001b[43m(\u001b[49m\u001b[43mparams\u001b[49m\u001b[43m,\u001b[49m\u001b[43m \u001b[49m\u001b[43mx\u001b[49m\u001b[43m,\u001b[49m\u001b[43m \u001b[49m\u001b[43my\u001b[49m\u001b[43m)\u001b[49m\n",
      "    \u001b[0;31m[... skipping hidden 10 frame]\u001b[0m\n",
      "Input \u001b[0;32mIn [18]\u001b[0m, in \u001b[0;36mmse_loss\u001b[0;34m(params, x, y)\u001b[0m\n\u001b[1;32m     18\u001b[0m \u001b[38;5;28;01mdef\u001b[39;00m \u001b[38;5;21mmse_loss\u001b[39m(params, x, y):\n\u001b[0;32m---> 19\u001b[0m     predictions \u001b[38;5;241m=\u001b[39m \u001b[43mmodel\u001b[49m\u001b[38;5;241;43m.\u001b[39;49m\u001b[43mapply\u001b[49m\u001b[43m(\u001b[49m\u001b[43mparams\u001b[49m\u001b[43m,\u001b[49m\u001b[43m \u001b[49m\u001b[43mx\u001b[49m\u001b[43m)\u001b[49m\n\u001b[1;32m     20\u001b[0m     loss \u001b[38;5;241m=\u001b[39m jnp\u001b[38;5;241m.\u001b[39mmean((predictions \u001b[38;5;241m-\u001b[39m y) \u001b[38;5;241m*\u001b[39m\u001b[38;5;241m*\u001b[39m \u001b[38;5;241m2\u001b[39m)\n\u001b[1;32m     21\u001b[0m     \u001b[38;5;28;01mreturn\u001b[39;00m loss\n",
      "    \u001b[0;31m[... skipping hidden 3 frame]\u001b[0m\n",
      "File \u001b[0;32m~/.local/lib/python3.10/site-packages/flax/core/scope.py:1041\u001b[0m, in \u001b[0;36mbind\u001b[0;34m(variables, rngs, mutable, flags)\u001b[0m\n\u001b[1;32m   1019\u001b[0m \u001b[38;5;124;03m\"\"\"Binds variables and rngs to a new ``Scope``.\u001b[39;00m\n\u001b[1;32m   1020\u001b[0m \n\u001b[1;32m   1021\u001b[0m \u001b[38;5;124;03mbind provides a ``Scope`` instance without transforming a function with\u001b[39;00m\n\u001b[0;32m   (...)\u001b[0m\n\u001b[1;32m   1038\u001b[0m \u001b[38;5;124;03m  A new scope with the variables and rngs bound to it.\u001b[39;00m\n\u001b[1;32m   1039\u001b[0m \u001b[38;5;124;03m\"\"\"\u001b[39;00m\n\u001b[1;32m   1040\u001b[0m \u001b[38;5;28;01mif\u001b[39;00m \u001b[38;5;129;01mnot\u001b[39;00m _is_valid_variables(variables):\n\u001b[0;32m-> 1041\u001b[0m   \u001b[38;5;28;01mraise\u001b[39;00m errors\u001b[38;5;241m.\u001b[39mApplyScopeInvalidVariablesTypeError()\n\u001b[1;32m   1042\u001b[0m \u001b[38;5;28;01mif\u001b[39;00m rngs \u001b[38;5;129;01mis\u001b[39;00m \u001b[38;5;129;01mnot\u001b[39;00m \u001b[38;5;28;01mNone\u001b[39;00m \u001b[38;5;129;01mand\u001b[39;00m \u001b[38;5;129;01mnot\u001b[39;00m _is_valid_rngs(rngs):\n\u001b[1;32m   1043\u001b[0m   \u001b[38;5;28;01mraise\u001b[39;00m errors\u001b[38;5;241m.\u001b[39mInvalidRngError(\n\u001b[1;32m   1044\u001b[0m       \u001b[38;5;124m'\u001b[39m\u001b[38;5;124mrngs should be a dictionary mapping strings to `jax.PRNGKey`.\u001b[39m\u001b[38;5;124m'\u001b[39m\n\u001b[1;32m   1045\u001b[0m   )\n",
      "\u001b[0;31mApplyScopeInvalidVariablesTypeError\u001b[0m: The first argument passed to an apply function should be a dictionary of collections. Each collection should be a dictionary with string keys. (https://flax.readthedocs.io/en/latest/api_reference/flax.errors.html#flax.errors.ApplyScopeInvalidVariablesTypeError)"
     ]
    }
   ],
   "source": [
    "grads = jax.grad(mse_loss)(params, x, y)"
   ]
  },
  {
   "cell_type": "code",
   "execution_count": 1017,
   "id": "3a102bfb-f8ad-433b-ae4d-7c0219c5740a",
   "metadata": {
    "tags": []
   },
   "outputs": [
    {
     "ename": "ApplyScopeInvalidVariablesTypeError",
     "evalue": "The first argument passed to an apply function should be a dictionary of collections. Each collection should be a dictionary with string keys. (https://flax.readthedocs.io/en/latest/api_reference/flax.errors.html#flax.errors.ApplyScopeInvalidVariablesTypeError)",
     "output_type": "error",
     "traceback": [
      "\u001b[0;31m---------------------------------------------------------------------------\u001b[0m",
      "\u001b[0;31mApplyScopeInvalidVariablesTypeError\u001b[0m       Traceback (most recent call last)",
      "Input \u001b[0;32mIn [1017]\u001b[0m, in \u001b[0;36m<cell line: 10>\u001b[0;34m()\u001b[0m\n\u001b[1;32m     15\u001b[0m y \u001b[38;5;241m=\u001b[39m y\u001b[38;5;241m.\u001b[39mnumpy()\n\u001b[1;32m     16\u001b[0m \u001b[38;5;66;03m# Compute gradients and loss\u001b[39;00m\n\u001b[0;32m---> 17\u001b[0m grads \u001b[38;5;241m=\u001b[39m \u001b[43mjax\u001b[49m\u001b[38;5;241;43m.\u001b[39;49m\u001b[43mgrad\u001b[49m\u001b[43m(\u001b[49m\u001b[43mmse_loss\u001b[49m\u001b[43m)\u001b[49m\u001b[43m(\u001b[49m\u001b[43mparams\u001b[49m\u001b[43m,\u001b[49m\u001b[43m \u001b[49m\u001b[43mx\u001b[49m\u001b[43m,\u001b[49m\u001b[43m \u001b[49m\u001b[43my\u001b[49m\u001b[43m)\u001b[49m\n\u001b[1;32m     18\u001b[0m loss \u001b[38;5;241m=\u001b[39m mse_loss(params, x, y)\n\u001b[1;32m     20\u001b[0m \u001b[38;5;66;03m# Update parameters using the optimizer\u001b[39;00m\n",
      "    \u001b[0;31m[... skipping hidden 10 frame]\u001b[0m\n",
      "Input \u001b[0;32mIn [1014]\u001b[0m, in \u001b[0;36mmse_loss\u001b[0;34m(params, x, y)\u001b[0m\n\u001b[1;32m     18\u001b[0m \u001b[38;5;28;01mdef\u001b[39;00m \u001b[38;5;21mmse_loss\u001b[39m(params, x, y):\n\u001b[0;32m---> 19\u001b[0m     predictions \u001b[38;5;241m=\u001b[39m \u001b[43mmodel\u001b[49m\u001b[38;5;241;43m.\u001b[39;49m\u001b[43mapply\u001b[49m\u001b[43m(\u001b[49m\u001b[43mparams\u001b[49m\u001b[43m,\u001b[49m\u001b[43m \u001b[49m\u001b[43mx\u001b[49m\u001b[43m)\u001b[49m\n\u001b[1;32m     20\u001b[0m     loss \u001b[38;5;241m=\u001b[39m jnp\u001b[38;5;241m.\u001b[39mmean((predictions \u001b[38;5;241m-\u001b[39m y) \u001b[38;5;241m*\u001b[39m\u001b[38;5;241m*\u001b[39m \u001b[38;5;241m2\u001b[39m)\n\u001b[1;32m     21\u001b[0m     \u001b[38;5;28;01mreturn\u001b[39;00m loss\n",
      "    \u001b[0;31m[... skipping hidden 3 frame]\u001b[0m\n",
      "File \u001b[0;32m~/.local/lib/python3.10/site-packages/flax/core/scope.py:1041\u001b[0m, in \u001b[0;36mbind\u001b[0;34m(variables, rngs, mutable, flags)\u001b[0m\n\u001b[1;32m   1019\u001b[0m \u001b[38;5;124;03m\"\"\"Binds variables and rngs to a new ``Scope``.\u001b[39;00m\n\u001b[1;32m   1020\u001b[0m \n\u001b[1;32m   1021\u001b[0m \u001b[38;5;124;03mbind provides a ``Scope`` instance without transforming a function with\u001b[39;00m\n\u001b[0;32m   (...)\u001b[0m\n\u001b[1;32m   1038\u001b[0m \u001b[38;5;124;03m  A new scope with the variables and rngs bound to it.\u001b[39;00m\n\u001b[1;32m   1039\u001b[0m \u001b[38;5;124;03m\"\"\"\u001b[39;00m\n\u001b[1;32m   1040\u001b[0m \u001b[38;5;28;01mif\u001b[39;00m \u001b[38;5;129;01mnot\u001b[39;00m _is_valid_variables(variables):\n\u001b[0;32m-> 1041\u001b[0m   \u001b[38;5;28;01mraise\u001b[39;00m errors\u001b[38;5;241m.\u001b[39mApplyScopeInvalidVariablesTypeError()\n\u001b[1;32m   1042\u001b[0m \u001b[38;5;28;01mif\u001b[39;00m rngs \u001b[38;5;129;01mis\u001b[39;00m \u001b[38;5;129;01mnot\u001b[39;00m \u001b[38;5;28;01mNone\u001b[39;00m \u001b[38;5;129;01mand\u001b[39;00m \u001b[38;5;129;01mnot\u001b[39;00m _is_valid_rngs(rngs):\n\u001b[1;32m   1043\u001b[0m   \u001b[38;5;28;01mraise\u001b[39;00m errors\u001b[38;5;241m.\u001b[39mInvalidRngError(\n\u001b[1;32m   1044\u001b[0m       \u001b[38;5;124m'\u001b[39m\u001b[38;5;124mrngs should be a dictionary mapping strings to `jax.PRNGKey`.\u001b[39m\u001b[38;5;124m'\u001b[39m\n\u001b[1;32m   1045\u001b[0m   )\n",
      "\u001b[0;31mApplyScopeInvalidVariablesTypeError\u001b[0m: The first argument passed to an apply function should be a dictionary of collections. Each collection should be a dictionary with string keys. (https://flax.readthedocs.io/en/latest/api_reference/flax.errors.html#flax.errors.ApplyScopeInvalidVariablesTypeError)"
     ]
    }
   ],
   "source": [
    "# Define an optimizer (e.g., Adam)\n",
    "# optimizer = optax.adam(learning_rate=0.01)\n",
    "optimizer = optax.noisy_sgd(learning_rate=0.01)\n",
    "opt_state = optimizer.init(params)\n",
    "\n",
    "scale = 1e+20\n",
    "\n",
    "# Training loop\n",
    "num_epochs = 1000\n",
    "for epoch in range(num_epochs):\n",
    "    losses = []\n",
    "    for train_data in train_loader:\n",
    "        x, y = train_data\n",
    "        x = x.numpy()\n",
    "        y = y.numpy()\n",
    "        # Compute gradients and loss\n",
    "        grads = jax.grad(mse_loss)(params, x, y)\n",
    "        loss = mse_loss(params, x, y)\n",
    "\n",
    "        # Update parameters using the optimizer\n",
    "        updates, opt_state = optimizer.update(grads, opt_state)\n",
    "        params = optax.apply_updates(params, updates)\n",
    "        \n",
    "        losses.append(loss)\n",
    "\n",
    "    if (epoch + 1) % 1 == 0:\n",
    "        print(f\"Epoch [{epoch + 1}/{num_epochs}], Loss: {np.mean(np.array(losses))}\")\n",
    "        \n",
    "        pred = model.apply({'params': params}, X_test, rngs={'dropout': dropout_apply_rng})\n",
    "        print(f\"test Pearson r={np.round(pearsonr(pred.flatten(), y_test)[0], 3)}\")\n",
    "    \n",
    "\n",
    "# Print the final learned parameters\n",
    "final_params = params"
   ]
  },
  {
   "cell_type": "code",
   "execution_count": 903,
   "id": "f78b25ae-12db-462f-b875-26afac46b9c0",
   "metadata": {
    "tags": []
   },
   "outputs": [
    {
     "data": {
      "image/png": "[encoded data removed]",
      "text/plain": [
       "<Figure size 432x288 with 1 Axes>"
      ]
     },
     "metadata": {
      "needs_background": "light"
     },
     "output_type": "display_data"
    },
    {
     "name": "stdout",
     "output_type": "stream",
     "text": [
      "PearsonRResult(statistic=0.07079183371360404, pvalue=0.025179120447197615)\n"
     ]
    },
    {
     "data": {
      "image/png": "[encoded data removed]",
      "text/plain": [
       "<Figure size 432x288 with 1 Axes>"
      ]
     },
     "metadata": {
      "needs_background": "light"
     },
     "output_type": "display_data"
    },
    {
     "name": "stdout",
     "output_type": "stream",
     "text": [
      "PearsonRResult(statistic=0.013664420437514282, pvalue=0.7605221254671616)\n"
     ]
    }
   ],
   "source": [
    "pred = model.apply({'params': params}, X_test, rngs={'dropout': dropout_apply_rng})\n",
    "plt.scatter(pred, y_test)\n",
    "plt.show()\n",
    "print(pearsonr(pred, y_test))\n",
    "\n",
    "pred = model.apply({'params': params}, X_train[:500], rngs={'dropout': dropout_apply_rng})\n",
    "plt.scatter(pred, y_train[:500])\n",
    "plt.show()\n",
    "print(pearsonr(pred, y_train[:500]))"
   ]
  },
  {
   "cell_type": "code",
   "execution_count": null,
   "id": "0aaee3a1-a055-4be3-a3d8-cb395d3085c9",
   "metadata": {},
   "outputs": [],
   "source": []
  }
 ],
 "metadata": {
  "kernelspec": {
   "display_name": "fastai-2.7.10",
   "language": "python",
   "name": "fastai-2.7.10"
  },
  "language_info": {
   "codemirror_mode": {
    "name": "ipython",
    "version": 3
   },
   "file_extension": ".py",
   "mimetype": "text/x-python",
   "name": "python",
   "nbconvert_exporter": "python",
   "pygments_lexer": "ipython3",
   "version": "3.10.4"
  }
 },
 "nbformat": 4,
 "nbformat_minor": 5
}
