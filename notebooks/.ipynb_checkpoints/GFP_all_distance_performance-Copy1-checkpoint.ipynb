{
 "cells": [
  {
   "cell_type": "code",
   "execution_count": 18,
   "id": "42df98a6-aa6a-406b-9581-44a17bd58570",
   "metadata": {
    "tags": []
   },
   "outputs": [],
   "source": [
    "# results_path = \"/blue/juannanzhou/palash.sethi/Projects/ProteinLLE_v2/output/240319_Somermeyer2022_cgreGFP_20.0%_rep_0/\"\n",
    "# results_path = \"/blue/juannanzhou/ProteinLLE/output/hd_Sinai2021_80.0%_rep_1/\"\n",
    "# results_path = \"/blue/juannanzhou/palash.sethi/Projects/ProteinLLE_v2/output/240315_Faure2023_1_lenient_20.0%_rep_1/\"\n",
    "# results_path = \"/blue/juannanzhou/palash.sethi/Projects/ProteinLLE_v2/output/test_GFP_Somermeyer2022_amacGFP_20.0%_rep_0/\"\n",
    "results_path = \"../output/GFP20k_Somermeyer2022_4GFP_80.0%_rep_1/\"\n",
    "# results_path = \"../output/GFP_Somermeyer2022_4GFP_80.0%_rep_6/\"\n",
    "\n",
    "source_path = \"../\"\n",
    "data_path = \"../Data/Data_prepared/\"\n",
    "\n",
    "# data_name = \"Somermeyer2022_cgreGFP\"\n",
    "# data_name = \"Sinai2021\"\n",
    "# data_name = \"Faure2023_1_lenient\"\n",
    "\n",
    "data_name = \"Somermeyer2022_4GFP\"\n",
    "\n",
    "device = 'cuda:0'"
   ]
  },
  {
   "cell_type": "code",
   "execution_count": 19,
   "id": "0eb2eaf7-a834-4be4-a675-0d0c97af1e28",
   "metadata": {
    "tags": []
   },
   "outputs": [],
   "source": [
    "import os\n",
    "import sys\n",
    "import shutil\n",
    "import csv\n",
    "import numpy as np\n",
    "import math\n",
    "import json\n",
    "import pickle\n",
    "from functools import partial\n",
    "import random as rd\n",
    "import pandas as pd\n",
    "import matplotlib.pyplot as plt\n",
    "# import GPUtil\n",
    "from scipy.stats import pearsonr\n",
    "import optuna\n",
    "import torch\n",
    "import torch.nn as nn\n",
    "import torch.optim as optim\n",
    "import torch.utils.data as data\n",
    "import gc\n",
    "import random\n",
    "sys.path.append(source_path + 'model')\n",
    "from utils import amino_acid_to_number, tokenize, Tee\n",
    "from functions import get_A2N_list, tokenize, make_train_val_test_lists_rand, prepare_data\n",
    "from models import make_predictions, ProtDataset, Transformer_2k, LinearModel"
   ]
  },
  {
   "cell_type": "code",
   "execution_count": 20,
   "id": "35c4a806-05d4-44e5-be7e-70fed750aa0c",
   "metadata": {
    "tags": []
   },
   "outputs": [],
   "source": [
    "in_path = data_path + data_name + \".csv\"\n",
    "datafile = pd.read_csv(in_path, index_col=None)\n",
    "phenotypes, seqs, seqs1h = prepare_data(datafile)\n",
    "n, L, AA_size = seqs1h.shape"
   ]
  },
  {
   "cell_type": "code",
   "execution_count": 21,
   "id": "ea63a110-a167-4987-81cd-784f5590febe",
   "metadata": {
    "tags": []
   },
   "outputs": [],
   "source": [
    "seqs_ex = seqs + AA_size*torch.tensor(range(L))\n",
    "X = seqs_ex.to(device)\n",
    "y = phenotypes.to(device)"
   ]
  },
  {
   "cell_type": "markdown",
   "id": "706711e8-21f7-4f69-8545-46a249b97dd2",
   "metadata": {},
   "source": [
    "### 20k"
   ]
  },
  {
   "cell_type": "code",
   "execution_count": 22,
   "id": "5cb3dfc6-d76c-4be8-8946-af0a711daf65",
   "metadata": {
    "tags": []
   },
   "outputs": [
    {
     "name": "stdout",
     "output_type": "stream",
     "text": [
      "20000\n"
     ]
    }
   ],
   "source": [
    "# with open(results_path + \"test_list.pkl\", 'rb') as file:\n",
    "#     test_list = pickle.load(file)\n",
    "\n",
    "with open(results_path + \"train_list.pkl\", 'rb') as file:\n",
    "    train_list = pickle.load(file)\n",
    "print(len(train_list))    "
   ]
  },
  {
   "cell_type": "code",
   "execution_count": 23,
   "id": "a4990f11-a119-44bc-ac8f-0bde448c334d",
   "metadata": {
    "tags": []
   },
   "outputs": [
    {
     "data": {
      "image/png": "[encoded data removed]",
      "text/plain": [
       "<Figure size 640x480 with 1 Axes>"
      ]
     },
     "metadata": {},
     "output_type": "display_data"
    }
   ],
   "source": [
    "plt.hist(datafile.iloc[train_list].hd)\n",
    "plt.show()"
   ]
  },
  {
   "cell_type": "code",
   "execution_count": 24,
   "id": "9cf12875-8e07-4f6c-a9d6-c02a5fd251ee",
   "metadata": {
    "tags": []
   },
   "outputs": [],
   "source": [
    "r_results = {}\n",
    "for d in [3, 4, 5, 6, 7, 8, 9, 10]:\n",
    "    r_list = {}\n",
    "    comp_list = np.where(np.array(datafile.hd == d))[0]\n",
    "\n",
    "    test_list = random.sample(list(comp_list), min(len(comp_list), 5000))\n",
    "\n",
    "    X_test, y_test = X[test_list], y[test_list]\n",
    "    test_dataset = ProtDataset(X_test, y_test)\n",
    "    test_loader = data.DataLoader(test_dataset,\n",
    "                                batch_size=500,\n",
    "                                shuffle=False,\n",
    "                                drop_last=False)\n",
    "\n",
    "    for model_name  in [\"TF_1_BestModel\", \"TF_2_BestModel\", \"TF_3_BestModel\"]:\n",
    "        model_best = torch.load(results_path + model_name)\n",
    "        pred, true = make_predictions(model_best, test_loader)\n",
    "        r = pearsonr(pred, true)[0]**2\n",
    "        r_list[model_name] = r\n",
    "    \n",
    "    for model_name in [\"Linear_BestModel\"]:\n",
    "        X__ = seqs1h.float().to(device)\n",
    "        X_test, y_test = X__[test_list], y[test_list]\n",
    "        test_dataset = ProtDataset(X_test, y_test)\n",
    "        test_loader = data.DataLoader(test_dataset,\n",
    "                                    batch_size=500,\n",
    "                                    shuffle=False,\n",
    "                                    drop_last=False)\n",
    "        \n",
    "        model_best = torch.load(results_path + model_name)\n",
    "        pred, true = make_predictions(model_best, test_loader)\n",
    "        r = pearsonr(pred, true)[0]**2\n",
    "        r_list[model_name] = r\n",
    "    \n",
    "    r_results[d] = r_list"
   ]
  },
  {
   "cell_type": "code",
   "execution_count": 25,
   "id": "a6bff79e-738b-4929-a41a-99c28a389b32",
   "metadata": {
    "tags": []
   },
   "outputs": [
    {
     "data": {
      "text/html": [
       "<div>\n",
       "<style scoped>\n",
       "    .dataframe tbody tr th:only-of-type {\n",
       "        vertical-align: middle;\n",
       "    }\n",
       "\n",
       "    .dataframe tbody tr th {\n",
       "        vertical-align: top;\n",
       "    }\n",
       "\n",
       "    .dataframe thead th {\n",
       "        text-align: right;\n",
       "    }\n",
       "</style>\n",
       "<table border=\"1\" class=\"dataframe\">\n",
       "  <thead>\n",
       "    <tr style=\"text-align: right;\">\n",
       "      <th></th>\n",
       "      <th>3</th>\n",
       "      <th>4</th>\n",
       "      <th>5</th>\n",
       "      <th>6</th>\n",
       "      <th>7</th>\n",
       "      <th>8</th>\n",
       "      <th>9</th>\n",
       "      <th>10</th>\n",
       "    </tr>\n",
       "  </thead>\n",
       "  <tbody>\n",
       "    <tr>\n",
       "      <th>TF_1_BestModel</th>\n",
       "      <td>0.788108</td>\n",
       "      <td>0.715706</td>\n",
       "      <td>0.611260</td>\n",
       "      <td>0.449688</td>\n",
       "      <td>0.307236</td>\n",
       "      <td>0.141073</td>\n",
       "      <td>0.096961</td>\n",
       "      <td>0.058889</td>\n",
       "    </tr>\n",
       "    <tr>\n",
       "      <th>TF_2_BestModel</th>\n",
       "      <td>0.798610</td>\n",
       "      <td>0.734009</td>\n",
       "      <td>0.637891</td>\n",
       "      <td>0.480106</td>\n",
       "      <td>0.343206</td>\n",
       "      <td>0.164813</td>\n",
       "      <td>0.120493</td>\n",
       "      <td>0.050693</td>\n",
       "    </tr>\n",
       "    <tr>\n",
       "      <th>TF_3_BestModel</th>\n",
       "      <td>0.778901</td>\n",
       "      <td>0.715705</td>\n",
       "      <td>0.621750</td>\n",
       "      <td>0.461003</td>\n",
       "      <td>0.311398</td>\n",
       "      <td>0.155564</td>\n",
       "      <td>0.114737</td>\n",
       "      <td>0.056549</td>\n",
       "    </tr>\n",
       "    <tr>\n",
       "      <th>Linear_BestModel</th>\n",
       "      <td>0.675897</td>\n",
       "      <td>0.623709</td>\n",
       "      <td>0.536776</td>\n",
       "      <td>0.387164</td>\n",
       "      <td>0.254215</td>\n",
       "      <td>0.112308</td>\n",
       "      <td>0.074533</td>\n",
       "      <td>0.042436</td>\n",
       "    </tr>\n",
       "  </tbody>\n",
       "</table>\n",
       "</div>"
      ],
      "text/plain": [
       "                        3         4         5         6         7         8   \\\n",
       "TF_1_BestModel    0.788108  0.715706  0.611260  0.449688  0.307236  0.141073   \n",
       "TF_2_BestModel    0.798610  0.734009  0.637891  0.480106  0.343206  0.164813   \n",
       "TF_3_BestModel    0.778901  0.715705  0.621750  0.461003  0.311398  0.155564   \n",
       "Linear_BestModel  0.675897  0.623709  0.536776  0.387164  0.254215  0.112308   \n",
       "\n",
       "                        9         10  \n",
       "TF_1_BestModel    0.096961  0.058889  \n",
       "TF_2_BestModel    0.120493  0.050693  \n",
       "TF_3_BestModel    0.114737  0.056549  \n",
       "Linear_BestModel  0.074533  0.042436  "
      ]
     },
     "execution_count": 25,
     "metadata": {},
     "output_type": "execute_result"
    }
   ],
   "source": [
    "r_results = pd.DataFrame(r_results)\n",
    "pd.DataFrame(r_results)"
   ]
  },
  {
   "cell_type": "code",
   "execution_count": 26,
   "id": "c816e454-f6ca-4e15-a828-3e7a91cdf802",
   "metadata": {},
   "outputs": [
    {
     "data": {
      "image/png": "[encoded data removed]",
      "text/plain": [
       "<Figure size 640x480 with 1 Axes>"
      ]
     },
     "metadata": {},
     "output_type": "display_data"
    }
   ],
   "source": [
    "plt.plot(np.array(r_results).T)\n",
    "plt.show()"
   ]
  },
  {
   "cell_type": "markdown",
   "id": "7adb5d63-23ec-4a4c-ae0b-865940d73f48",
   "metadata": {
    "jp-MarkdownHeadingCollapsed": true,
    "tags": []
   },
   "source": [
    "#### 10k"
   ]
  },
  {
   "cell_type": "code",
   "execution_count": 43,
   "id": "8d8fd9c1-3a14-44e7-85b5-d079e25696c6",
   "metadata": {
    "tags": []
   },
   "outputs": [
    {
     "name": "stdout",
     "output_type": "stream",
     "text": [
      "10000\n"
     ]
    }
   ],
   "source": [
    "# with open(results_path + \"test_list.pkl\", 'rb') as file:\n",
    "#     test_list = pickle.load(file)\n",
    "\n",
    "with open(results_path + \"train_list.pkl\", 'rb') as file:\n",
    "    train_list = pickle.load(file)\n",
    "print(len(train_list))    "
   ]
  },
  {
   "cell_type": "code",
   "execution_count": 44,
   "id": "30812c21-8b1e-4af8-ad05-b5120541459c",
   "metadata": {
    "tags": []
   },
   "outputs": [
    {
     "data": {
      "image/png": "[encoded data removed]",
      "text/plain": [
       "<Figure size 640x480 with 1 Axes>"
      ]
     },
     "metadata": {},
     "output_type": "display_data"
    }
   ],
   "source": [
    "plt.hist(datafile.iloc[train_list].hd)\n",
    "plt.show()"
   ]
  },
  {
   "cell_type": "code",
   "execution_count": 47,
   "id": "0fd098f4-6c46-468a-949c-8d14cd3aa4a5",
   "metadata": {
    "tags": []
   },
   "outputs": [],
   "source": [
    "r_results = {}\n",
    "for d in [2, 3, 4, 5, 6, 7, 8, 9, 10]:\n",
    "    r_list = {}\n",
    "    comp_list = np.where(np.array(datafile.hd == d))[0]\n",
    "\n",
    "    test_list = random.sample(list(comp_list), min(len(comp_list), 5000))\n",
    "\n",
    "    X_test, y_test = X[test_list], y[test_list]\n",
    "    test_dataset = ProtDataset(X_test, y_test)\n",
    "    test_loader = data.DataLoader(test_dataset,\n",
    "                                batch_size=500,\n",
    "                                shuffle=False,\n",
    "                                drop_last=False)\n",
    "\n",
    "    for model_name  in [\"TF_1_BestModel\", \"TF_2_BestModel\"]:\n",
    "        model_best = torch.load(results_path + model_name)\n",
    "\n",
    "        pred = []\n",
    "        pred, true = make_predictions(model_best, test_loader)\n",
    "        r = pearsonr(pred, true)[0]**2\n",
    "        r_list[model_name] = r\n",
    "    r_results[d] = r_list"
   ]
  },
  {
   "cell_type": "code",
   "execution_count": 48,
   "id": "5cd94a8f-d51c-425b-9722-20f946aefa76",
   "metadata": {
    "tags": []
   },
   "outputs": [
    {
     "data": {
      "text/html": [
       "<div>\n",
       "<style scoped>\n",
       "    .dataframe tbody tr th:only-of-type {\n",
       "        vertical-align: middle;\n",
       "    }\n",
       "\n",
       "    .dataframe tbody tr th {\n",
       "        vertical-align: top;\n",
       "    }\n",
       "\n",
       "    .dataframe thead th {\n",
       "        text-align: right;\n",
       "    }\n",
       "</style>\n",
       "<table border=\"1\" class=\"dataframe\">\n",
       "  <thead>\n",
       "    <tr style=\"text-align: right;\">\n",
       "      <th></th>\n",
       "      <th>2</th>\n",
       "      <th>3</th>\n",
       "      <th>4</th>\n",
       "      <th>5</th>\n",
       "      <th>6</th>\n",
       "      <th>7</th>\n",
       "      <th>8</th>\n",
       "      <th>9</th>\n",
       "      <th>10</th>\n",
       "    </tr>\n",
       "  </thead>\n",
       "  <tbody>\n",
       "    <tr>\n",
       "      <th>TF_1_BestModel</th>\n",
       "      <td>0.165849</td>\n",
       "      <td>0.112916</td>\n",
       "      <td>0.107199</td>\n",
       "      <td>0.106957</td>\n",
       "      <td>0.090020</td>\n",
       "      <td>0.090579</td>\n",
       "      <td>0.080699</td>\n",
       "      <td>0.132203</td>\n",
       "      <td>0.057289</td>\n",
       "    </tr>\n",
       "    <tr>\n",
       "      <th>TF_2_BestModel</th>\n",
       "      <td>0.177120</td>\n",
       "      <td>0.132119</td>\n",
       "      <td>0.117487</td>\n",
       "      <td>0.116848</td>\n",
       "      <td>0.091601</td>\n",
       "      <td>0.096094</td>\n",
       "      <td>0.093237</td>\n",
       "      <td>0.145803</td>\n",
       "      <td>0.067164</td>\n",
       "    </tr>\n",
       "  </tbody>\n",
       "</table>\n",
       "</div>"
      ],
      "text/plain": [
       "                      2         3         4         5         6         7   \\\n",
       "TF_1_BestModel  0.165849  0.112916  0.107199  0.106957  0.090020  0.090579   \n",
       "TF_2_BestModel  0.177120  0.132119  0.117487  0.116848  0.091601  0.096094   \n",
       "\n",
       "                      8         9         10  \n",
       "TF_1_BestModel  0.080699  0.132203  0.057289  \n",
       "TF_2_BestModel  0.093237  0.145803  0.067164  "
      ]
     },
     "execution_count": 48,
     "metadata": {},
     "output_type": "execute_result"
    }
   ],
   "source": [
    "r_results = pd.DataFrame(r_results)\n",
    "pd.DataFrame(r_results)"
   ]
  },
  {
   "cell_type": "code",
   "execution_count": 49,
   "id": "9aae84d3-62eb-4e05-8399-07f11a49c438",
   "metadata": {},
   "outputs": [
    {
     "data": {
      "image/png": "[encoded data removed]",
      "text/plain": [
       "<Figure size 640x480 with 1 Axes>"
      ]
     },
     "metadata": {},
     "output_type": "display_data"
    }
   ],
   "source": [
    "plt.plot(np.array(r_results).T)\n",
    "plt.show()"
   ]
  },
  {
   "cell_type": "code",
   "execution_count": null,
   "id": "a642d2c3-a178-459a-ac98-71eb0dbe840d",
   "metadata": {},
   "outputs": [],
   "source": []
  },
  {
   "cell_type": "code",
   "execution_count": null,
   "id": "1e07bfe9-3c90-4836-9da4-7d50260145e7",
   "metadata": {},
   "outputs": [],
   "source": []
  },
  {
   "cell_type": "code",
   "execution_count": null,
   "id": "3778207f-ff20-4bdd-8515-df093ee3227e",
   "metadata": {},
   "outputs": [],
   "source": []
  },
  {
   "cell_type": "code",
   "execution_count": null,
   "id": "3affcc4e-612e-40c4-ae4e-736c15e53a64",
   "metadata": {},
   "outputs": [],
   "source": []
  },
  {
   "cell_type": "markdown",
   "id": "d1115bcc-8790-484c-98fc-8fa50b658030",
   "metadata": {},
   "source": [
    "#### avGFP"
   ]
  },
  {
   "cell_type": "code",
   "execution_count": 28,
   "id": "1c393bb3-f295-4e3d-bab9-0ebe3a8d1fab",
   "metadata": {
    "tags": []
   },
   "outputs": [],
   "source": [
    "results_path = \"../output/GFP_Somermeyer2022_4GFP_20.0%_rep_1/\""
   ]
  },
  {
   "cell_type": "code",
   "execution_count": 30,
   "id": "8a402ef5-b873-473e-902c-39890f655c09",
   "metadata": {
    "tags": []
   },
   "outputs": [],
   "source": [
    "with open(results_path + \"train_list.pkl\", 'rb') as file:\n",
    "    train_list = pickle.load(file)"
   ]
  },
  {
   "cell_type": "code",
   "execution_count": 111,
   "id": "31183894-732a-4195-803a-d1b2d4ad15f5",
   "metadata": {
    "tags": []
   },
   "outputs": [],
   "source": [
    "sub_list = list(np.where(datafile.gene == 'cgreGFP')[0])"
   ]
  },
  {
   "cell_type": "code",
   "execution_count": 112,
   "id": "a0790c97-1a58-49fa-a160-57240c4a8117",
   "metadata": {
    "tags": []
   },
   "outputs": [],
   "source": [
    "comp_list = list(set(range(n)).difference(set(test_list)))"
   ]
  },
  {
   "cell_type": "code",
   "execution_count": 113,
   "id": "0a16cc24-7425-4e39-a950-953e5ea79b30",
   "metadata": {
    "tags": []
   },
   "outputs": [],
   "source": [
    "test_list = random.sample(list(set(comp_list) & set(sub_list)), 10000)"
   ]
  },
  {
   "cell_type": "code",
   "execution_count": 114,
   "id": "35bfa865-263f-48f7-adb8-4bed89070e80",
   "metadata": {
    "tags": []
   },
   "outputs": [],
   "source": [
    "X_test, y_test = X[test_list], y[test_list]\n",
    "test_dataset = ProtDataset(X_test, y_test)\n",
    "test_loader = data.DataLoader(test_dataset,\n",
    "                            batch_size=500,\n",
    "                            shuffle=False,\n",
    "                            drop_last=False)"
   ]
  },
  {
   "cell_type": "code",
   "execution_count": 119,
   "id": "4154de51-bf40-455e-b2f4-0208eb0a5a6c",
   "metadata": {
    "tags": []
   },
   "outputs": [],
   "source": [
    "model_best = torch.load(results_path + \"TF_1_BestModel\")"
   ]
  },
  {
   "cell_type": "code",
   "execution_count": 120,
   "id": "867b822e-2f89-4cfc-95a7-6fde1d4649a0",
   "metadata": {
    "tags": []
   },
   "outputs": [
    {
     "data": {
      "text/plain": [
       "0.06073651387662899"
      ]
     },
     "execution_count": 120,
     "metadata": {},
     "output_type": "execute_result"
    }
   ],
   "source": [
    "model_best.eval()\n",
    "\n",
    "pred, true = make_predictions(model_best, test_loader)\n",
    "\n",
    "pearsonr(pred, true)[0]**2"
   ]
  },
  {
   "cell_type": "code",
   "execution_count": null,
   "id": "d3f3e008-e54a-47fe-bb04-7d582ff6306e",
   "metadata": {},
   "outputs": [],
   "source": []
  }
 ],
 "metadata": {
  "kernelspec": {
   "display_name": "PyTorch-2.2.0",
   "language": "python",
   "name": "pytorch-2.2.0"
  },
  "language_info": {
   "codemirror_mode": {
    "name": "ipython",
    "version": 3
   },
   "file_extension": ".py",
   "mimetype": "text/x-python",
   "name": "python",
   "nbconvert_exporter": "python",
   "pygments_lexer": "ipython3",
   "version": "3.10.13"
  }
 },
 "nbformat": 4,
 "nbformat_minor": 5
}
