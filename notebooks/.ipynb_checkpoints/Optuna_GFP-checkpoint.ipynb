{
 "cells": [
  {
   "cell_type": "code",
   "execution_count": 15,
   "id": "a1fe43b3-a6ac-41da-9a57-bbff45b97a63",
   "metadata": {
    "tags": []
   },
   "outputs": [],
   "source": [
    "## Standard libraries\n",
    "import os\n",
    "import numpy as np\n",
    "import math\n",
    "import json\n",
    "from functools import partial\n",
    "\n",
    "import random as rd\n",
    "\n",
    "import pandas as pd\n",
    "import numpy as np\n",
    "import matplotlib.pyplot as plt\n",
    "import torch\n",
    "import GPUtil\n",
    "import torch\n",
    "import torch.nn as nn\n",
    "import sys\n",
    "sys.path.append('../model')\n",
    "from utils import amino_acid_to_number, tokenize\n",
    "\n",
    "device = \"cuda:0\""
   ]
  },
  {
   "cell_type": "code",
   "execution_count": 16,
   "id": "6de7d4dc-9f68-4c29-a26c-6a8cfd2a2a46",
   "metadata": {
    "tags": []
   },
   "outputs": [
    {
     "name": "stdout",
     "output_type": "stream",
     "text": [
      "| ID | GPU | MEM |\n",
      "------------------\n",
      "|  0 |  0% |  0% |\n",
      "|  1 |  0% |  0% |\n",
      "|  2 |  0% |  0% |\n",
      "|  3 |  0% |  0% |\n",
      "|  4 |  0% |  0% |\n",
      "|  5 |  0% | 48% |\n",
      "|  6 |  0% |  0% |\n",
      "|  7 |  0% |  0% |\n"
     ]
    }
   ],
   "source": [
    "def sgpu():\n",
    "    GPUtil.showUtilization()\n",
    "\n",
    "sgpu()"
   ]
  },
  {
   "cell_type": "code",
   "execution_count": 17,
   "id": "70430f3a-1a80-47b0-a260-eb1a93b524ad",
   "metadata": {
    "tags": []
   },
   "outputs": [],
   "source": [
    "import pandas as pd\n",
    "import numpy as np\n",
    "import matplotlib.pyplot as plt\n",
    "import torch\n",
    "import GPUtil\n",
    "import torch"
   ]
  },
  {
   "cell_type": "code",
   "execution_count": 18,
   "id": "ef060099-50c8-4119-889f-3268cd874d78",
   "metadata": {
    "tags": []
   },
   "outputs": [],
   "source": [
    "def tokenize(seq):\n",
    "    numeric_sequence = [amino_acid_to_number[aa] for aa in seq]\n",
    "    return numeric_sequence\n",
    "\n",
    "# tokenization function\n",
    "\n",
    "def get_tokenizer(seqs):\n",
    "    letters = []\n",
    "    for seq in seqs:\n",
    "        letters.extend(list(seq))\n",
    "    letters = list(set(letters))\n",
    "    rule = dict(zip(letters, range(len(letters))))\n",
    "    return rule"
   ]
  },
  {
   "cell_type": "code",
   "execution_count": 19,
   "id": "a94494d3-72ad-4c5c-abeb-dad7224e416f",
   "metadata": {
    "tags": []
   },
   "outputs": [],
   "source": [
    "in_path = \"../Data/Data_prepared/\"\n",
    "file_name = \"Koch2022.csv\""
   ]
  },
  {
   "cell_type": "code",
   "execution_count": 20,
   "id": "9ea32aa2-c60e-4870-9e61-815a559a591d",
   "metadata": {
    "tags": []
   },
   "outputs": [],
   "source": [
    "datafile = pd.read_csv(in_path + file_name, index_col=None)\n",
    "\n",
    "datafile = datafile.iloc[:-1]"
   ]
  },
  {
   "cell_type": "code",
   "execution_count": 21,
   "id": "e9e4a785-7ee1-4e63-8c71-2c7ad15372c7",
   "metadata": {
    "tags": []
   },
   "outputs": [],
   "source": [
    "# site specific tokenization\n",
    "\n",
    "def get_A2N_list(seqs):\n",
    "    seqs_ = list([list(seq) for seq in seqs])\n",
    "\n",
    "    seqs_ = list([list(seq) for seq in seqs])\n",
    "\n",
    "    seqs__ = pd.DataFrame(seqs_)\n",
    "\n",
    "    alphabet_by_site = [list(seqs__.iloc[:, i].unique()) for i in range(seqs__.shape[1])]\n",
    "\n",
    "    A2N_list = [dict(zip(alphabet, range(len(alphabet)))) for alphabet in alphabet_by_site]    \n",
    "    \n",
    "    return A2N_list\n",
    "\n",
    "def tokenize(seq):\n",
    "    numeric_sequence = [A2N_list[i][seq[i]] for i in range(len(A2N_list))]\n",
    "    return numeric_sequence\n",
    "\n",
    "seqs = datafile.mutated_sequence\n",
    "A2N_list = get_A2N_list(seqs)"
   ]
  },
  {
   "cell_type": "code",
   "execution_count": 22,
   "id": "a6ec8509-1401-4fff-ac92-55a3d844bf3a",
   "metadata": {
    "tags": []
   },
   "outputs": [],
   "source": [
    "# seqs = datafile.mutated_sequence\n",
    "# amino_acid_to_number = get_tokenizer(seqs)"
   ]
  },
  {
   "cell_type": "code",
   "execution_count": 23,
   "id": "311d0553-3a66-4c89-9797-16d378350563",
   "metadata": {
    "tags": []
   },
   "outputs": [
    {
     "data": {
      "image/png": "[encoded data removed]",
      "text/plain": [
       "<Figure size 432x288 with 1 Axes>"
      ]
     },
     "metadata": {
      "needs_background": "light"
     },
     "output_type": "display_data"
    },
    {
     "data": {
      "image/png": "[encoded data removed]",
      "text/plain": [
       "<Figure size 432x288 with 1 Axes>"
      ]
     },
     "metadata": {
      "needs_background": "light"
     },
     "output_type": "display_data"
    },
    {
     "data": {
      "image/png": "[encoded data removed]",
      "text/plain": [
       "<Figure size 432x288 with 1 Axes>"
      ]
     },
     "metadata": {
      "needs_background": "light"
     },
     "output_type": "display_data"
    }
   ],
   "source": [
    "plt.hist(datafile['hd'], bins=20)\n",
    "plt.show()\n",
    "\n",
    "plt.scatter(datafile['hd'], datafile['DMS_score'])\n",
    "plt.show()\n",
    "\n",
    "plt.hist(datafile.DMS_score, bins=20)\n",
    "plt.show()"
   ]
  },
  {
   "cell_type": "code",
   "execution_count": 24,
   "id": "d2876e8b-189f-46a9-9917-6273f546ecdf",
   "metadata": {
    "tags": []
   },
   "outputs": [],
   "source": [
    "datafile = datafile[datafile.DMS_score > -6]"
   ]
  },
  {
   "cell_type": "code",
   "execution_count": 25,
   "id": "3b1d0be3-5752-4c8c-8c2c-c40a60999805",
   "metadata": {
    "tags": []
   },
   "outputs": [],
   "source": [
    "seqs_tokenized = [tokenize(seq) for seq in datafile.mutated_sequence]\n",
    "seqs = torch.tensor(seqs_tokenized)\n",
    "seqs_df = pd.DataFrame(seqs.cpu().numpy())\n",
    "L = len(seqs[0])\n",
    "\n",
    "# Find variable sites\n",
    "\n",
    "counts = {i: seqs_df[i].value_counts() for i in range(seqs_df.shape[1])}\n",
    "\n",
    "n_aas = [len(counts[i]) for i in range(len(counts))]\n",
    "sites_var = np.where(np.array(n_aas) != 1)"
   ]
  },
  {
   "cell_type": "code",
   "execution_count": 26,
   "id": "a59220f2-f749-4fb0-9917-79769b6318df",
   "metadata": {
    "tags": []
   },
   "outputs": [
    {
     "name": "stderr",
     "output_type": "stream",
     "text": [
      "/scratch/local/21219464/ipykernel_957191/2084871093.py:2: UserWarning: Creating a tensor from a list of numpy.ndarrays is extremely slow. Please consider converting the list to a single numpy.ndarray with numpy.array() before converting to a tensor. (Triggered internally at ../torch/csrc/utils/tensor_new.cpp:261.)\n",
      "  seqs = seqs[:, sites_var].squeeze(1)\n"
     ]
    }
   ],
   "source": [
    "seqs = seqs.cpu()\n",
    "seqs = seqs[:, sites_var].squeeze(1)\n",
    "L = seqs.shape[1]"
   ]
  },
  {
   "cell_type": "code",
   "execution_count": 27,
   "id": "7e936c11-8542-4f06-a7a5-b0a4a85ca2e4",
   "metadata": {
    "tags": []
   },
   "outputs": [
    {
     "name": "stdout",
     "output_type": "stream",
     "text": [
      "torch.Size([600847, 23, 22])\n"
     ]
    }
   ],
   "source": [
    "from torch.nn.functional import one_hot\n",
    "seqs1h = one_hot(seqs)\n",
    "print(seqs1h.shape)"
   ]
  },
  {
   "cell_type": "code",
   "execution_count": 28,
   "id": "91136103-ac65-44d6-8d23-3a8f89873671",
   "metadata": {
    "tags": []
   },
   "outputs": [
    {
     "data": {
      "image/png": "[encoded data removed]",
      "text/plain": [
       "<Figure size 432x288 with 1 Axes>"
      ]
     },
     "metadata": {
      "needs_background": "light"
     },
     "output_type": "display_data"
    },
    {
     "name": "stdout",
     "output_type": "stream",
     "text": [
      "torch.Size([600847, 23, 22])\n",
      "torch.Size([600847, 506])\n"
     ]
    }
   ],
   "source": [
    "seqs_tokenized = [tokenize(seq) for seq in datafile.mutated_sequence]\n",
    "seqs = torch.tensor(seqs_tokenized)\n",
    "seqs_df = pd.DataFrame(seqs.cpu().numpy())\n",
    "L = len(seqs[0])\n",
    "\n",
    "# Find variable sites\n",
    "\n",
    "counts = {i: seqs_df[i].value_counts() for i in range(seqs_df.shape[1])}\n",
    "\n",
    "n_aas = [len(counts[i]) for i in range(len(counts))]\n",
    "sites_var = np.where(np.array(n_aas) != 1)\n",
    "\n",
    "plt.plot(n_aas)\n",
    "plt.show()\n",
    "\n",
    "seqs = seqs.cpu()\n",
    "seqs = seqs[:, sites_var].squeeze(1)\n",
    "L = seqs.shape[1]\n",
    "\n",
    "from torch.nn.functional import one_hot\n",
    "seqs1h = one_hot(seqs)\n",
    "print(seqs1h.shape)\n",
    "\n",
    "seqs1hf = seqs1h.view(-1, L*seqs1h.shape[-1])\n",
    "print(seqs1hf.shape)"
   ]
  },
  {
   "cell_type": "code",
   "execution_count": 29,
   "id": "65484b62-5ca0-4ae1-ba53-2fc2913146a7",
   "metadata": {
    "tags": []
   },
   "outputs": [],
   "source": [
    "phenotypes = torch.tensor(list(datafile.DMS_score)).float()\n",
    "phenotypes = phenotypes.unsqueeze(1)"
   ]
  },
  {
   "cell_type": "code",
   "execution_count": 30,
   "id": "48fca97e-adfd-4f69-a874-bf7c76367e27",
   "metadata": {
    "tags": []
   },
   "outputs": [],
   "source": [
    "# phenotypes = torch.log(phenotypes)"
   ]
  },
  {
   "cell_type": "code",
   "execution_count": 31,
   "id": "df3e8fa1-cc2c-4601-adf2-4937fd8f0b51",
   "metadata": {
    "tags": []
   },
   "outputs": [],
   "source": [
    "import torch\n",
    "import torch.utils.data as data\n",
    "\n",
    "class ProtDataset(data.Dataset):\n",
    "    def __init__(self, feats, labels, train=True):    \n",
    "        self.train = train\n",
    "        self.feats = feats\n",
    "        self.labels = labels\n",
    "    \n",
    "    def __len__(self):\n",
    "        return len(self.feats)\n",
    "    \n",
    "    def __getitem__(self, idx):\n",
    "        \n",
    "        X = self.feats[idx]\n",
    "        y = self.labels[idx]\n",
    "\n",
    "        return X, y"
   ]
  },
  {
   "cell_type": "code",
   "execution_count": 32,
   "id": "acca4789-79c7-41e5-b607-9d54ecd9c446",
   "metadata": {
    "tags": []
   },
   "outputs": [],
   "source": [
    "# min_d = 20\n",
    "# sub_list = list(np.where(datafile['hd'] < min_d)[0])\n",
    "# comp_list = list(np.where(datafile['hd'] >= min_d)[0])\n",
    "\n",
    "# num_train = 50000\n",
    "# num_test = 1000\n",
    "\n",
    "# train_list = np.random.choice(sub_list, num_train)\n",
    "# test_list = np.random.choice(comp_list, num_test)"
   ]
  },
  {
   "cell_type": "code",
   "execution_count": 33,
   "id": "52227fef-e111-493a-bfd8-fdeffba7be9d",
   "metadata": {},
   "outputs": [
    {
     "data": {
      "text/plain": [
       "600847"
      ]
     },
     "execution_count": 33,
     "metadata": {},
     "output_type": "execute_result"
    }
   ],
   "source": [
    "len(datafile)"
   ]
  },
  {
   "cell_type": "code",
   "execution_count": 34,
   "id": "45cbc67b-cb5a-45d1-8b45-8575618ecfb4",
   "metadata": {
    "tags": []
   },
   "outputs": [],
   "source": [
    "num_train = 2000\n",
    "num_test = 1000\n",
    "\n",
    "sub_list = np.random.choice(range(len(datafile)), num_train, replace=False)\n",
    "comp_list = list(set(range(len(datafile))).difference(sub_list))\n",
    "\n",
    "train_list = np.random.choice(sub_list, num_train, replace=False)\n",
    "test_list = np.random.choice(comp_list, num_test, replace=False)"
   ]
  },
  {
   "cell_type": "code",
   "execution_count": 35,
   "id": "d43b1029-02d6-4146-bd47-ad21918eb3d4",
   "metadata": {
    "tags": []
   },
   "outputs": [
    {
     "data": {
      "image/png": "[encoded data removed]",
      "text/plain": [
       "<Figure size 432x288 with 1 Axes>"
      ]
     },
     "metadata": {
      "needs_background": "light"
     },
     "output_type": "display_data"
    }
   ],
   "source": [
    "plt.hist(phenotypes[train_list].flatten().numpy(), density=True, alpha=.5)\n",
    "plt.hist(phenotypes[test_list].flatten().numpy(), density=True, alpha=.5)\n",
    "plt.show()"
   ]
  },
  {
   "cell_type": "markdown",
   "id": "92f7849b-4033-4859-bc84-87682ce2c76a",
   "metadata": {
    "jp-MarkdownHeadingCollapsed": true,
    "tags": []
   },
   "source": [
    "### Fit transformer"
   ]
  },
  {
   "cell_type": "code",
   "execution_count": 31,
   "id": "d30ca4fe-8d2d-419e-9be5-4544f101e911",
   "metadata": {
    "tags": []
   },
   "outputs": [],
   "source": [
    "AA_size = seqs1h.shape[-1]"
   ]
  },
  {
   "cell_type": "code",
   "execution_count": 32,
   "id": "f0e01b38-b0b4-4769-a572-28c091d6b32f",
   "metadata": {
    "tags": []
   },
   "outputs": [],
   "source": [
    "seqs_ex = seqs + AA_size*torch.tensor(range(L))"
   ]
  },
  {
   "cell_type": "code",
   "execution_count": 33,
   "id": "662f0c54-c801-4b69-b441-7ed0fae8d56c",
   "metadata": {
    "tags": []
   },
   "outputs": [],
   "source": [
    "batch_size = 400\n",
    "\n",
    "X = seqs_ex.to(device)\n",
    "y = phenotypes.to(device)\n",
    "\n",
    "X_train, y_train = X[train_list], y[train_list]\n",
    "X_test, y_test = X[test_list], y[test_list]\n",
    "\n",
    "train_dataset = ProtDataset(X_train, y_train)\n",
    "train_loader = data.DataLoader(train_dataset,\n",
    "                               batch_size=batch_size,\n",
    "                               shuffle=True,\n",
    "                               drop_last=False)"
   ]
  },
  {
   "cell_type": "code",
   "execution_count": 34,
   "id": "f59026a5-8a8b-4fc5-8b7e-3e1c4fc00a60",
   "metadata": {
    "tags": []
   },
   "outputs": [],
   "source": [
    "import torch\n",
    "import torch.nn as nn\n",
    "import torch.optim as optim\n",
    "from torch.utils.data import DataLoader, TensorDataset\n",
    "import numpy as np\n",
    "\n",
    "\n",
    "import torch\n",
    "import torch.nn as nn\n",
    "\n",
    "class MultiHeadAttentionLayer(nn.Module):\n",
    "    def __init__(self, hidden_dim, num_heads, dropout):\n",
    "        super(MultiHeadAttentionLayer, self).__init__()\n",
    "        self.multihead_attn = nn.MultiheadAttention(hidden_dim, num_heads, dropout)\n",
    "        # self.multihead_attn = MultiheadAttention(hidden_dim, hidden_dim, num_heads)        \n",
    "        self.layer_norm = nn.LayerNorm(hidden_dim)\n",
    "        \n",
    "    def forward(self, x):\n",
    "        attn_output, _ = self.multihead_attn(x, x, x)\n",
    "        x = x + attn_output\n",
    "        # x = self.layer_norm(x + attn_output)\n",
    "        return x\n",
    "\n",
    "class CustomTransformer(nn.Module):\n",
    "    def __init__(self, input_dim, hidden_dim, num_layers, num_heads, dropout):\n",
    "        super(CustomTransformer, self).__init__()\n",
    "\n",
    "        self.embedding = nn.Embedding(input_dim, hidden_dim)\n",
    "        \n",
    "        self.transformer_layers = nn.ModuleList([\n",
    "            MultiHeadAttentionLayer(hidden_dim, num_heads, dropout) for _ in range(num_layers)\n",
    "        ])\n",
    "        self.fc = nn.Linear(hidden_dim, 1)\n",
    "        # self.fc = nn.Linear(hidden_dim*L, 1)        \n",
    "        self.sigmoid_norm = nn.BatchNorm1d(1, affine=False)        \n",
    "        self.sigmoid = nn.Sigmoid()\n",
    "        self.phi_scaling = nn.Linear(1, 1)\n",
    "        self.sigmoid_scaling = nn.Linear(1, 1)\n",
    "\n",
    "    def forward(self, x):\n",
    "\n",
    "        x = self.embedding(x)\n",
    "        x = x.permute(1, 0, 2)  # seq_len x batch x hidden_dim\n",
    "        \n",
    "        for layer in self.transformer_layers:\n",
    "            x = layer(x)\n",
    "            \n",
    "        x = x.permute(1, 0, 2)\n",
    "        x = torch.mean(x, dim=1)  # batch x hidden_dim\n",
    "\n",
    "        # x = x.flatten(1)\n",
    "        # print(x.shape)\n",
    "        x = self.fc(x)  # batch x 1 (scalar)\n",
    "        x = self.sigmoid_norm(x)\n",
    "#         mean = torch.mean(x)\n",
    "#         std = torch.std(x)\n",
    "#         x = (x - mean) / std\n",
    "        \n",
    "        # x = self.phi_scaling(x)\n",
    "        x = self.sigmoid(x)\n",
    "        x = self.sigmoid_scaling(x)\n",
    "\n",
    "        return x"
   ]
  },
  {
   "cell_type": "code",
   "execution_count": 35,
   "id": "010f2b80-0b61-4469-b6fb-0f7e7bec7dd4",
   "metadata": {
    "tags": []
   },
   "outputs": [],
   "source": [
    "sequence_length = L\n",
    "input_dim = AA_size*L\n",
    "output_dim = 1\n",
    "hidden_dim = 128\n",
    "num_layers = 1\n",
    "num_heads = 4\n",
    "dropout = 0.0\n",
    "\n",
    "model = CustomTransformer(input_dim, hidden_dim, num_layers, num_heads, dropout).to(device)"
   ]
  },
  {
   "cell_type": "code",
   "execution_count": 36,
   "id": "5f668b71-41a4-4955-8d37-9db8eab41ea8",
   "metadata": {
    "tags": []
   },
   "outputs": [],
   "source": [
    "x, y = next(iter(train_loader))\n",
    "output = model(x)"
   ]
  },
  {
   "cell_type": "markdown",
   "id": "a7597c95-1498-45f9-91a1-eb680648d4c4",
   "metadata": {},
   "source": [
    "### Optuna"
   ]
  },
  {
   "cell_type": "code",
   "execution_count": 36,
   "id": "a483e40d-6881-487d-9e1f-972f67f033e8",
   "metadata": {
    "tags": []
   },
   "outputs": [],
   "source": [
    "import optuna\n",
    "import numpy as np\n",
    "import torch\n",
    "import torch.nn as nn\n",
    "import torch.optim as optim\n",
    "from sklearn.datasets import load_digits\n",
    "from sklearn.model_selection import train_test_split\n",
    "from sklearn.metrics import accuracy_score\n"
   ]
  },
  {
   "cell_type": "code",
   "execution_count": 40,
   "id": "e6e9d866-b721-4da2-a1e1-86b8a3a38b2e",
   "metadata": {
    "tags": []
   },
   "outputs": [],
   "source": [
    "import torch\n",
    "import torch.nn as nn\n",
    "import torch.optim as optim\n",
    "from torch.utils.data import DataLoader, TensorDataset\n",
    "import numpy as np\n",
    "\n",
    "\n",
    "import torch\n",
    "import torch.nn as nn\n",
    "\n",
    "class MultiHeadAttentionLayer(nn.Module):\n",
    "    def __init__(self, hidden_dim, num_heads, dropout):\n",
    "        super(MultiHeadAttentionLayer, self).__init__()\n",
    "        self.multihead_attn = nn.MultiheadAttention(hidden_dim, num_heads, dropout)\n",
    "        # self.multihead_attn = MultiheadAttention(hidden_dim, hidden_dim, num_heads)        \n",
    "        self.layer_norm = nn.LayerNorm(hidden_dim)\n",
    "        \n",
    "    def forward(self, x):\n",
    "        attn_output, _ = self.multihead_attn(x, x, x)\n",
    "        x = x + attn_output\n",
    "        # x = self.layer_norm(x + attn_output)\n",
    "        return x\n",
    "\n",
    "class CustomTransformer(nn.Module):\n",
    "    def __init__(self, input_dim, hidden_dim, num_layers, num_heads, dropout):\n",
    "        super(CustomTransformer, self).__init__()\n",
    "\n",
    "        self.embedding = nn.Embedding(input_dim, hidden_dim)\n",
    "        \n",
    "        self.transformer_layers = nn.ModuleList([\n",
    "            MultiHeadAttentionLayer(hidden_dim, num_heads, dropout) for _ in range(num_layers)\n",
    "        ])\n",
    "        self.fc = nn.Linear(hidden_dim, 1)\n",
    "        # self.fc = nn.Linear(hidden_dim*L, 1)        \n",
    "        self.sigmoid_norm = nn.BatchNorm1d(1, affine=False)        \n",
    "        self.sigmoid = nn.Sigmoid()\n",
    "        self.phi_scaling = nn.Linear(1, 1)\n",
    "        self.sigmoid_scaling = nn.Linear(1, 1)\n",
    "\n",
    "    def forward(self, x):\n",
    "\n",
    "        x = self.embedding(x)\n",
    "        x = x.permute(1, 0, 2)  # seq_len x batch x hidden_dim\n",
    "        \n",
    "        for layer in self.transformer_layers:\n",
    "            x = layer(x)\n",
    "            \n",
    "        x = x.permute(1, 0, 2)\n",
    "        x = torch.mean(x, dim=1)  # batch x hidden_dim\n",
    "\n",
    "        # x = x.flatten(1)\n",
    "        # print(x.shape)\n",
    "        x = self.fc(x)  # batch x 1 (scalar)\n",
    "        x = self.sigmoid_norm(x)\n",
    "#         mean = torch.mean(x)\n",
    "#         std = torch.std(x)\n",
    "#         x = (x - mean) / std\n",
    "        \n",
    "        # x = self.phi_scaling(x)\n",
    "        x = self.sigmoid(x)\n",
    "        x = self.sigmoid_scaling(x)\n",
    "\n",
    "        return x"
   ]
  },
  {
   "cell_type": "code",
   "execution_count": 41,
   "id": "8f5cbd4e-7e77-4ef8-b642-0ed4cbe08cc9",
   "metadata": {
    "tags": []
   },
   "outputs": [],
   "source": [
    "AA_size = seqs1h.shape[-1]\n",
    "\n",
    "seqs_ex = seqs + AA_size*torch.tensor(range(L))\n",
    "\n",
    "batch_size = 400\n",
    "\n",
    "X = seqs_ex.to(device)\n",
    "y = phenotypes.to(device)\n",
    "\n",
    "X_train, y_train = X[train_list], y[train_list]\n",
    "X_test, y_test = X[test_list], y[test_list]\n",
    "\n",
    "train_dataset = ProtDataset(X_train, y_train)"
   ]
  },
  {
   "cell_type": "code",
   "execution_count": 47,
   "id": "872784f8-0ab1-44f8-807a-837a39293e98",
   "metadata": {
    "tags": []
   },
   "outputs": [],
   "source": [
    "from scipy.stats import pearsonr\n",
    "learning_rate = 0.01\n",
    "epochs = 200\n",
    "num_heads = 4\n",
    "num_layers = 1\n",
    "sequence_length = L\n",
    "input_dim = AA_size*L\n",
    "output_dim = 1\n",
    "\n",
    "\n",
    "def objective(trial):\n",
    "    # Define the hyperparameters to be optimized\n",
    "    hidden_dim_h = trial.suggest_int('hidden_dim_h', 10, 40)\n",
    "    dropout = trial.suggest_float('dropout', 0.0, 0.5)\n",
    "    batch_size = trial.suggest_int('batch_size', 100, 1000)\n",
    "    model = CustomTransformer(input_dim, hidden_dim_h*num_heads, num_layers, num_heads, dropout).to(device)\n",
    "    \n",
    "    train_loader = data.DataLoader(train_dataset,\n",
    "                                   batch_size=batch_size,\n",
    "                                   shuffle=True,\n",
    "                                   drop_last=False)\n",
    "    criterion = nn.MSELoss()\n",
    "    optimizer = optim.Adam(model.parameters(), lr=learning_rate)\n",
    "\n",
    "    r2_test = []\n",
    "    for epoch in range(epochs):\n",
    "        model.train()\n",
    "        total_loss = 0\n",
    "        for batch_inputs, batch_targets in train_loader:\n",
    "            optimizer.zero_grad()\n",
    "            outputs = model(batch_inputs)\n",
    "            loss = criterion(outputs, batch_targets)\n",
    "            loss.backward()\n",
    "            optimizer.step()\n",
    "            total_loss += loss.item()\n",
    "\n",
    "        if epoch % 10 == 0:\n",
    "            # print(f\"Epoch {epoch+1}/{epochs}, Loss: {total_loss/len(train_loader)}\")\n",
    "            model.eval()\n",
    "            pred, true = model(X_test.flatten(1)).flatten().detach().cpu().numpy(), y_test.flatten().detach().cpu().numpy()\n",
    "            # print(pearsonr(pred, true)[0]**2)\n",
    "            r2_test.append(pearsonr(pred, true)[0]**2)\n",
    "            \n",
    "    return np.array(r2_test).max()"
   ]
  },
  {
   "cell_type": "code",
   "execution_count": null,
   "id": "7d04ee00-e4db-44da-ad36-192db086ee74",
   "metadata": {
    "tags": []
   },
   "outputs": [
    {
     "name": "stderr",
     "output_type": "stream",
     "text": [
      "[I 2024-01-15 09:30:56,836] A new study created in memory with name: no-name-d2f7ce08-d9b7-4274-865f-fb14bce946a9\n",
      "[I 2024-01-15 09:31:02,852] Trial 0 finished with value: 0.2092182044099473 and parameters: {'hidden_dim_h': 28, 'dropout': 0.4655486199526168, 'batch_size': 249}. Best is trial 0 with value: 0.2092182044099473.\n",
      "[I 2024-01-15 09:31:06,672] Trial 1 finished with value: 0.21020048187397433 and parameters: {'hidden_dim_h': 17, 'dropout': 0.34840312219149694, 'batch_size': 921}. Best is trial 1 with value: 0.21020048187397433.\n",
      "[I 2024-01-15 09:31:10,974] Trial 2 finished with value: 0.18209319439287355 and parameters: {'hidden_dim_h': 39, 'dropout': 0.30736447369711795, 'batch_size': 627}. Best is trial 1 with value: 0.21020048187397433.\n",
      "[I 2024-01-15 09:31:20,168] Trial 3 finished with value: 0.1270095231607165 and parameters: {'hidden_dim_h': 19, 'dropout': 0.028068814560696764, 'batch_size': 114}. Best is trial 1 with value: 0.21020048187397433.\n",
      "[I 2024-01-15 09:31:24,477] Trial 4 finished with value: 0.18026392051903112 and parameters: {'hidden_dim_h': 25, 'dropout': 0.05083523771168913, 'batch_size': 650}. Best is trial 1 with value: 0.21020048187397433.\n",
      "[I 2024-01-15 09:31:28,652] Trial 5 finished with value: 0.1430648595524045 and parameters: {'hidden_dim_h': 39, 'dropout': 0.22986676601482814, 'batch_size': 704}. Best is trial 1 with value: 0.21020048187397433.\n",
      "[I 2024-01-15 09:31:33,133] Trial 6 finished with value: 0.20614912392083362 and parameters: {'hidden_dim_h': 38, 'dropout': 0.4675348985248247, 'batch_size': 596}. Best is trial 1 with value: 0.21020048187397433.\n",
      "[I 2024-01-15 09:31:37,092] Trial 7 finished with value: 0.21136852983321805 and parameters: {'hidden_dim_h': 32, 'dropout': 0.3260661506177925, 'batch_size': 827}. Best is trial 7 with value: 0.21136852983321805.\n",
      "[I 2024-01-15 09:31:41,076] Trial 8 finished with value: 0.21670260285466295 and parameters: {'hidden_dim_h': 25, 'dropout': 0.16394926252145636, 'batch_size': 897}. Best is trial 8 with value: 0.21670260285466295.\n",
      "[I 2024-01-15 09:31:45,733] Trial 9 finished with value: 0.14044226695298484 and parameters: {'hidden_dim_h': 35, 'dropout': 0.1439088051329135, 'batch_size': 993}. Best is trial 8 with value: 0.21670260285466295.\n",
      "[I 2024-01-15 09:31:50,001] Trial 10 finished with value: 0.19082969453925533 and parameters: {'hidden_dim_h': 12, 'dropout': 0.15638972465445605, 'batch_size': 429}. Best is trial 8 with value: 0.21670260285466295.\n",
      "[I 2024-01-15 09:31:54,036] Trial 11 finished with value: 0.23776975495031272 and parameters: {'hidden_dim_h': 30, 'dropout': 0.3694476906409706, 'batch_size': 818}. Best is trial 11 with value: 0.23776975495031272.\n",
      "[I 2024-01-15 09:31:57,985] Trial 12 finished with value: 0.1718311003120531 and parameters: {'hidden_dim_h': 26, 'dropout': 0.39944114800705033, 'batch_size': 797}. Best is trial 11 with value: 0.23776975495031272.\n",
      "[I 2024-01-15 09:32:01,858] Trial 13 finished with value: 0.1937453161254346 and parameters: {'hidden_dim_h': 22, 'dropout': 0.22093016418233735, 'batch_size': 843}. Best is trial 11 with value: 0.23776975495031272.\n",
      "[I 2024-01-15 09:32:06,318] Trial 14 finished with value: 0.2252667553517902 and parameters: {'hidden_dim_h': 31, 'dropout': 0.13532724193514728, 'batch_size': 454}. Best is trial 11 with value: 0.23776975495031272.\n",
      "[I 2024-01-15 09:32:10,991] Trial 15 finished with value: 0.1948698424058283 and parameters: {'hidden_dim_h': 31, 'dropout': 0.40784477419291254, 'batch_size': 448}. Best is trial 11 with value: 0.23776975495031272.\n",
      "[I 2024-01-15 09:32:15,499] Trial 16 finished with value: 0.1888368116647264 and parameters: {'hidden_dim_h': 31, 'dropout': 0.09358244283045454, 'batch_size': 484}. Best is trial 11 with value: 0.23776975495031272.\n",
      "[I 2024-01-15 09:32:20,967] Trial 17 finished with value: 0.19105687310476807 and parameters: {'hidden_dim_h': 35, 'dropout': 0.2714683004107584, 'batch_size': 291}. Best is trial 11 with value: 0.23776975495031272.\n",
      "[I 2024-01-15 09:32:25,828] Trial 18 finished with value: 0.1936512215666196 and parameters: {'hidden_dim_h': 35, 'dropout': 0.38579679125039334, 'batch_size': 336}. Best is trial 11 with value: 0.23776975495031272.\n",
      "[I 2024-01-15 09:32:29,602] Trial 19 finished with value: 0.18630394320475555 and parameters: {'hidden_dim_h': 20, 'dropout': 0.1075432329700644, 'batch_size': 740}. Best is trial 11 with value: 0.23776975495031272.\n",
      "[I 2024-01-15 09:32:33,912] Trial 20 finished with value: 0.18153272996957442 and parameters: {'hidden_dim_h': 28, 'dropout': 0.1958582265226974, 'batch_size': 538}. Best is trial 11 with value: 0.23776975495031272.\n",
      "[I 2024-01-15 09:32:37,807] Trial 21 finished with value: 0.17542644409470495 and parameters: {'hidden_dim_h': 23, 'dropout': 0.14990830172001143, 'batch_size': 943}. Best is trial 11 with value: 0.23776975495031272.\n",
      "[I 2024-01-15 09:32:41,830] Trial 22 finished with value: 0.17231106415059713 and parameters: {'hidden_dim_h': 28, 'dropout': 0.2641307958204547, 'batch_size': 869}. Best is trial 11 with value: 0.23776975495031272.\n",
      "[I 2024-01-15 09:32:45,992] Trial 23 finished with value: 0.17891220308199873 and parameters: {'hidden_dim_h': 33, 'dropout': 0.18457571858709337, 'batch_size': 736}. Best is trial 11 with value: 0.23776975495031272.\n",
      "[I 2024-01-15 09:32:50,751] Trial 24 finished with value: 0.1671353999788771 and parameters: {'hidden_dim_h': 30, 'dropout': 0.07154909912979736, 'batch_size': 373}. Best is trial 11 with value: 0.23776975495031272.\n",
      "[I 2024-01-15 09:32:54,957] Trial 25 finished with value: 0.1935034898696576 and parameters: {'hidden_dim_h': 24, 'dropout': 0.11927222450296837, 'batch_size': 542}. Best is trial 11 with value: 0.23776975495031272.\n",
      "[I 2024-01-15 09:32:58,579] Trial 26 finished with value: 0.163168966042038 and parameters: {'hidden_dim_h': 16, 'dropout': 0.18323296645784615, 'batch_size': 1000}. Best is trial 11 with value: 0.23776975495031272.\n",
      "[I 2024-01-15 09:33:02,342] Trial 27 finished with value: 0.15953008765392182 and parameters: {'hidden_dim_h': 26, 'dropout': 0.29029722707353334, 'batch_size': 900}. Best is trial 11 with value: 0.23776975495031272.\n",
      "[I 2024-01-15 09:33:06,344] Trial 28 finished with value: 0.18490307296340067 and parameters: {'hidden_dim_h': 29, 'dropout': 0.022523295957865952, 'batch_size': 780}. Best is trial 11 with value: 0.23776975495031272.\n"
     ]
    }
   ],
   "source": [
    "# Create and run the Optuna study\n",
    "study = optuna.create_study(direction='maximize')\n",
    "study.optimize(objective, n_trials=100)\n",
    "\n",
    "# Print the best hyperparameters\n",
    "best_trial = study.best_trial\n",
    "print(\"Best Trial:\")\n",
    "print(f\"  Value: {best_trial.value:.4f}\")\n",
    "print(\"  Params: \")\n",
    "for key, value in best_trial.params.items():\n",
    "    print(f\"    {key}: {value}\")\n",
    "\n",
    "# You can then use the best hyperparameters to train your final model.\n"
   ]
  },
  {
   "cell_type": "code",
   "execution_count": 35,
   "id": "1543a57a-73b2-41f0-b526-1fc92a83f0b7",
   "metadata": {
    "tags": []
   },
   "outputs": [],
   "source": [
    "sequence_length = L\n",
    "input_dim = AA_size*L\n",
    "output_dim = 1\n",
    "hidden_dim = 128\n",
    "num_layers = 1\n",
    "num_heads = 4\n",
    "dropout = 0.0\n",
    "\n",
    "model = CustomTransformer(input_dim, hidden_dim, num_layers, num_heads, dropout).to(device)"
   ]
  },
  {
   "cell_type": "markdown",
   "id": "a2248f56-87b7-4445-a266-b58ec9ea51f0",
   "metadata": {},
   "source": [
    "#### Example"
   ]
  },
  {
   "cell_type": "code",
   "execution_count": 6,
   "id": "9919939e-376b-425c-a74b-2f444aad4c2e",
   "metadata": {
    "tags": []
   },
   "outputs": [
    {
     "name": "stderr",
     "output_type": "stream",
     "text": [
      "[I 2024-01-15 09:04:56,599] A new study created in memory with name: no-name-893e27cf-d7b5-4cda-85c0-4c2a79032e42\n",
      "/scratch/local/21219464/ipykernel_957191/3745016572.py:23: FutureWarning: suggest_loguniform has been deprecated in v3.0.0. This feature will be removed in v6.0.0. See https://github.com/optuna/optuna/releases/tag/v3.0.0. Use suggest_float(..., log=True) instead.\n",
      "  learning_rate = trial.suggest_loguniform('learning_rate', 1e-5, 1e-2)\n",
      "[I 2024-01-15 09:05:00,854] Trial 0 finished with value: 1.5074869394302368 and parameters: {'num_layers': 2, 'hidden_size': 214, 'dropout': 0.15164880373053702, 'learning_rate': 0.002325642189376093}. Best is trial 0 with value: 1.5074869394302368.\n",
      "/scratch/local/21219464/ipykernel_957191/3745016572.py:23: FutureWarning: suggest_loguniform has been deprecated in v3.0.0. This feature will be removed in v6.0.0. See https://github.com/optuna/optuna/releases/tag/v3.0.0. Use suggest_float(..., log=True) instead.\n",
      "  learning_rate = trial.suggest_loguniform('learning_rate', 1e-5, 1e-2)\n",
      "[I 2024-01-15 09:05:01,331] Trial 1 finished with value: 2.291680097579956 and parameters: {'num_layers': 3, 'hidden_size': 224, 'dropout': 0.2826155183112436, 'learning_rate': 1.4430128572855024e-05}. Best is trial 0 with value: 1.5074869394302368.\n",
      "/scratch/local/21219464/ipykernel_957191/3745016572.py:23: FutureWarning: suggest_loguniform has been deprecated in v3.0.0. This feature will be removed in v6.0.0. See https://github.com/optuna/optuna/releases/tag/v3.0.0. Use suggest_float(..., log=True) instead.\n",
      "  learning_rate = trial.suggest_loguniform('learning_rate', 1e-5, 1e-2)\n",
      "[I 2024-01-15 09:05:01,594] Trial 2 finished with value: 1.6211612224578857 and parameters: {'num_layers': 1, 'hidden_size': 177, 'dropout': 0.3090836176402446, 'learning_rate': 0.00015322713441995173}. Best is trial 0 with value: 1.5074869394302368.\n",
      "/scratch/local/21219464/ipykernel_957191/3745016572.py:23: FutureWarning: suggest_loguniform has been deprecated in v3.0.0. This feature will be removed in v6.0.0. See https://github.com/optuna/optuna/releases/tag/v3.0.0. Use suggest_float(..., log=True) instead.\n",
      "  learning_rate = trial.suggest_loguniform('learning_rate', 1e-5, 1e-2)\n",
      "[I 2024-01-15 09:05:02,300] Trial 3 finished with value: 2.3016862869262695 and parameters: {'num_layers': 5, 'hidden_size': 237, 'dropout': 0.4438453774837549, 'learning_rate': 3.351248969121593e-05}. Best is trial 0 with value: 1.5074869394302368.\n",
      "/scratch/local/21219464/ipykernel_957191/3745016572.py:23: FutureWarning: suggest_loguniform has been deprecated in v3.0.0. This feature will be removed in v6.0.0. See https://github.com/optuna/optuna/releases/tag/v3.0.0. Use suggest_float(..., log=True) instead.\n",
      "  learning_rate = trial.suggest_loguniform('learning_rate', 1e-5, 1e-2)\n",
      "[I 2024-01-15 09:05:02,683] Trial 4 finished with value: 2.289344549179077 and parameters: {'num_layers': 3, 'hidden_size': 129, 'dropout': 0.040131779970655757, 'learning_rate': 1.2952369480091863e-05}. Best is trial 0 with value: 1.5074869394302368.\n",
      "/scratch/local/21219464/ipykernel_957191/3745016572.py:23: FutureWarning: suggest_loguniform has been deprecated in v3.0.0. This feature will be removed in v6.0.0. See https://github.com/optuna/optuna/releases/tag/v3.0.0. Use suggest_float(..., log=True) instead.\n",
      "  learning_rate = trial.suggest_loguniform('learning_rate', 1e-5, 1e-2)\n",
      "[I 2024-01-15 09:05:03,109] Trial 5 finished with value: 2.0962414741516113 and parameters: {'num_layers': 5, 'hidden_size': 67, 'dropout': 0.2838063515370413, 'learning_rate': 0.00036599503922312804}. Best is trial 0 with value: 1.5074869394302368.\n",
      "/scratch/local/21219464/ipykernel_957191/3745016572.py:23: FutureWarning: suggest_loguniform has been deprecated in v3.0.0. This feature will be removed in v6.0.0. See https://github.com/optuna/optuna/releases/tag/v3.0.0. Use suggest_float(..., log=True) instead.\n",
      "  learning_rate = trial.suggest_loguniform('learning_rate', 1e-5, 1e-2)\n",
      "[I 2024-01-15 09:05:03,495] Trial 6 finished with value: 1.5192936658859253 and parameters: {'num_layers': 2, 'hidden_size': 226, 'dropout': 0.1906446944888166, 'learning_rate': 0.0018650230555087236}. Best is trial 0 with value: 1.5074869394302368.\n",
      "/scratch/local/21219464/ipykernel_957191/3745016572.py:23: FutureWarning: suggest_loguniform has been deprecated in v3.0.0. This feature will be removed in v6.0.0. See https://github.com/optuna/optuna/releases/tag/v3.0.0. Use suggest_float(..., log=True) instead.\n",
      "  learning_rate = trial.suggest_loguniform('learning_rate', 1e-5, 1e-2)\n",
      "[I 2024-01-15 09:05:04,091] Trial 7 finished with value: 1.8348146677017212 and parameters: {'num_layers': 4, 'hidden_size': 227, 'dropout': 0.12623951385759113, 'learning_rate': 4.576419871157733e-05}. Best is trial 0 with value: 1.5074869394302368.\n",
      "/scratch/local/21219464/ipykernel_957191/3745016572.py:23: FutureWarning: suggest_loguniform has been deprecated in v3.0.0. This feature will be removed in v6.0.0. See https://github.com/optuna/optuna/releases/tag/v3.0.0. Use suggest_float(..., log=True) instead.\n",
      "  learning_rate = trial.suggest_loguniform('learning_rate', 1e-5, 1e-2)\n",
      "[I 2024-01-15 09:05:04,562] Trial 8 finished with value: 2.1772165298461914 and parameters: {'num_layers': 3, 'hidden_size': 210, 'dropout': 0.14050812817774339, 'learning_rate': 2.2886234839802566e-05}. Best is trial 0 with value: 1.5074869394302368.\n",
      "/scratch/local/21219464/ipykernel_957191/3745016572.py:23: FutureWarning: suggest_loguniform has been deprecated in v3.0.0. This feature will be removed in v6.0.0. See https://github.com/optuna/optuna/releases/tag/v3.0.0. Use suggest_float(..., log=True) instead.\n",
      "  learning_rate = trial.suggest_loguniform('learning_rate', 1e-5, 1e-2)\n",
      "[I 2024-01-15 09:05:05,126] Trial 9 finished with value: 1.8037281036376953 and parameters: {'num_layers': 4, 'hidden_size': 207, 'dropout': 0.20522304875166364, 'learning_rate': 0.003544925997504462}. Best is trial 0 with value: 1.5074869394302368.\n",
      "/scratch/local/21219464/ipykernel_957191/3745016572.py:23: FutureWarning: suggest_loguniform has been deprecated in v3.0.0. This feature will be removed in v6.0.0. See https://github.com/optuna/optuna/releases/tag/v3.0.0. Use suggest_float(..., log=True) instead.\n",
      "  learning_rate = trial.suggest_loguniform('learning_rate', 1e-5, 1e-2)\n",
      "[I 2024-01-15 09:05:05,382] Trial 10 finished with value: 1.8187577724456787 and parameters: {'num_layers': 1, 'hidden_size': 131, 'dropout': 0.014117975951755957, 'learning_rate': 0.009868478002962913}. Best is trial 0 with value: 1.5074869394302368.\n",
      "/scratch/local/21219464/ipykernel_957191/3745016572.py:23: FutureWarning: suggest_loguniform has been deprecated in v3.0.0. This feature will be removed in v6.0.0. See https://github.com/optuna/optuna/releases/tag/v3.0.0. Use suggest_float(..., log=True) instead.\n",
      "  learning_rate = trial.suggest_loguniform('learning_rate', 1e-5, 1e-2)\n",
      "[I 2024-01-15 09:05:05,792] Trial 11 finished with value: 1.5093705654144287 and parameters: {'num_layers': 2, 'hidden_size': 256, 'dropout': 0.18103673988060273, 'learning_rate': 0.0013389184583196044}. Best is trial 0 with value: 1.5074869394302368.\n",
      "/scratch/local/21219464/ipykernel_957191/3745016572.py:23: FutureWarning: suggest_loguniform has been deprecated in v3.0.0. This feature will be removed in v6.0.0. See https://github.com/optuna/optuna/releases/tag/v3.0.0. Use suggest_float(..., log=True) instead.\n",
      "  learning_rate = trial.suggest_loguniform('learning_rate', 1e-5, 1e-2)\n",
      "[I 2024-01-15 09:05:06,210] Trial 12 finished with value: 1.4936708211898804 and parameters: {'num_layers': 2, 'hidden_size': 252, 'dropout': 0.09814447196573989, 'learning_rate': 0.0009493389187250591}. Best is trial 12 with value: 1.4936708211898804.\n",
      "/scratch/local/21219464/ipykernel_957191/3745016572.py:23: FutureWarning: suggest_loguniform has been deprecated in v3.0.0. This feature will be removed in v6.0.0. See https://github.com/optuna/optuna/releases/tag/v3.0.0. Use suggest_float(..., log=True) instead.\n",
      "  learning_rate = trial.suggest_loguniform('learning_rate', 1e-5, 1e-2)\n",
      "[I 2024-01-15 09:05:06,576] Trial 13 finished with value: 1.5069254636764526 and parameters: {'num_layers': 2, 'hidden_size': 175, 'dropout': 0.07844330781772181, 'learning_rate': 0.0006557343053054385}. Best is trial 12 with value: 1.4936708211898804.\n",
      "/scratch/local/21219464/ipykernel_957191/3745016572.py:23: FutureWarning: suggest_loguniform has been deprecated in v3.0.0. This feature will be removed in v6.0.0. See https://github.com/optuna/optuna/releases/tag/v3.0.0. Use suggest_float(..., log=True) instead.\n",
      "  learning_rate = trial.suggest_loguniform('learning_rate', 1e-5, 1e-2)\n",
      "[I 2024-01-15 09:05:06,933] Trial 14 finished with value: 1.5105921030044556 and parameters: {'num_layers': 2, 'hidden_size': 165, 'dropout': 0.07910838174735597, 'learning_rate': 0.0005024601482956634}. Best is trial 12 with value: 1.4936708211898804.\n",
      "/scratch/local/21219464/ipykernel_957191/3745016572.py:23: FutureWarning: suggest_loguniform has been deprecated in v3.0.0. This feature will be removed in v6.0.0. See https://github.com/optuna/optuna/releases/tag/v3.0.0. Use suggest_float(..., log=True) instead.\n",
      "  learning_rate = trial.suggest_loguniform('learning_rate', 1e-5, 1e-2)\n",
      "[I 2024-01-15 09:05:07,166] Trial 15 finished with value: 1.9544850587844849 and parameters: {'num_layers': 1, 'hidden_size': 82, 'dropout': 0.3676141149549367, 'learning_rate': 0.00013630407806376939}. Best is trial 12 with value: 1.4936708211898804.\n",
      "/scratch/local/21219464/ipykernel_957191/3745016572.py:23: FutureWarning: suggest_loguniform has been deprecated in v3.0.0. This feature will be removed in v6.0.0. See https://github.com/optuna/optuna/releases/tag/v3.0.0. Use suggest_float(..., log=True) instead.\n",
      "  learning_rate = trial.suggest_loguniform('learning_rate', 1e-5, 1e-2)\n",
      "[I 2024-01-15 09:05:07,528] Trial 16 finished with value: 1.4995722770690918 and parameters: {'num_layers': 2, 'hidden_size': 182, 'dropout': 0.08665922091018886, 'learning_rate': 0.0007264597133957246}. Best is trial 12 with value: 1.4936708211898804.\n",
      "/scratch/local/21219464/ipykernel_957191/3745016572.py:23: FutureWarning: suggest_loguniform has been deprecated in v3.0.0. This feature will be removed in v6.0.0. See https://github.com/optuna/optuna/releases/tag/v3.0.0. Use suggest_float(..., log=True) instead.\n",
      "  learning_rate = trial.suggest_loguniform('learning_rate', 1e-5, 1e-2)\n",
      "[I 2024-01-15 09:05:07,768] Trial 17 finished with value: 1.6373591423034668 and parameters: {'num_layers': 1, 'hidden_size': 104, 'dropout': 0.0020894164673109783, 'learning_rate': 0.00015417820728345905}. Best is trial 12 with value: 1.4936708211898804.\n",
      "/scratch/local/21219464/ipykernel_957191/3745016572.py:23: FutureWarning: suggest_loguniform has been deprecated in v3.0.0. This feature will be removed in v6.0.0. See https://github.com/optuna/optuna/releases/tag/v3.0.0. Use suggest_float(..., log=True) instead.\n",
      "  learning_rate = trial.suggest_loguniform('learning_rate', 1e-5, 1e-2)\n",
      "[I 2024-01-15 09:05:08,430] Trial 18 finished with value: 2.2472620010375977 and parameters: {'num_layers': 4, 'hidden_size': 255, 'dropout': 0.08866995383710528, 'learning_rate': 0.005164953170753907}. Best is trial 12 with value: 1.4936708211898804.\n",
      "/scratch/local/21219464/ipykernel_957191/3745016572.py:23: FutureWarning: suggest_loguniform has been deprecated in v3.0.0. This feature will be removed in v6.0.0. See https://github.com/optuna/optuna/releases/tag/v3.0.0. Use suggest_float(..., log=True) instead.\n",
      "  learning_rate = trial.suggest_loguniform('learning_rate', 1e-5, 1e-2)\n",
      "[I 2024-01-15 09:05:08,816] Trial 19 finished with value: 1.5115838050842285 and parameters: {'num_layers': 2, 'hidden_size': 190, 'dropout': 0.231792295014449, 'learning_rate': 0.00091480517967013}. Best is trial 12 with value: 1.4936708211898804.\n",
      "/scratch/local/21219464/ipykernel_957191/3745016572.py:23: FutureWarning: suggest_loguniform has been deprecated in v3.0.0. This feature will be removed in v6.0.0. See https://github.com/optuna/optuna/releases/tag/v3.0.0. Use suggest_float(..., log=True) instead.\n",
      "  learning_rate = trial.suggest_loguniform('learning_rate', 1e-5, 1e-2)\n",
      "[I 2024-01-15 09:05:09,127] Trial 20 finished with value: 2.2998523712158203 and parameters: {'num_layers': 3, 'hidden_size': 34, 'dropout': 0.47208348050358573, 'learning_rate': 7.37707267127294e-05}. Best is trial 12 with value: 1.4936708211898804.\n",
      "/scratch/local/21219464/ipykernel_957191/3745016572.py:23: FutureWarning: suggest_loguniform has been deprecated in v3.0.0. This feature will be removed in v6.0.0. See https://github.com/optuna/optuna/releases/tag/v3.0.0. Use suggest_float(..., log=True) instead.\n",
      "  learning_rate = trial.suggest_loguniform('learning_rate', 1e-5, 1e-2)\n",
      "[I 2024-01-15 09:05:09,473] Trial 21 finished with value: 1.5011322498321533 and parameters: {'num_layers': 2, 'hidden_size': 156, 'dropout': 0.07549878614131039, 'learning_rate': 0.000712362211404315}. Best is trial 12 with value: 1.4936708211898804.\n",
      "/scratch/local/21219464/ipykernel_957191/3745016572.py:23: FutureWarning: suggest_loguniform has been deprecated in v3.0.0. This feature will be removed in v6.0.0. See https://github.com/optuna/optuna/releases/tag/v3.0.0. Use suggest_float(..., log=True) instead.\n",
      "  learning_rate = trial.suggest_loguniform('learning_rate', 1e-5, 1e-2)\n",
      "[I 2024-01-15 09:05:09,815] Trial 22 finished with value: 1.5214290618896484 and parameters: {'num_layers': 2, 'hidden_size': 150, 'dropout': 0.05351045662840975, 'learning_rate': 0.0002817132934436946}. Best is trial 12 with value: 1.4936708211898804.\n",
      "/scratch/local/21219464/ipykernel_957191/3745016572.py:23: FutureWarning: suggest_loguniform has been deprecated in v3.0.0. This feature will be removed in v6.0.0. See https://github.com/optuna/optuna/releases/tag/v3.0.0. Use suggest_float(..., log=True) instead.\n",
      "  learning_rate = trial.suggest_loguniform('learning_rate', 1e-5, 1e-2)\n",
      "[I 2024-01-15 09:05:10,074] Trial 23 finished with value: 1.4967855215072632 and parameters: {'num_layers': 1, 'hidden_size': 139, 'dropout': 0.12599564322072349, 'learning_rate': 0.0011589698879259066}. Best is trial 12 with value: 1.4936708211898804.\n",
      "/scratch/local/21219464/ipykernel_957191/3745016572.py:23: FutureWarning: suggest_loguniform has been deprecated in v3.0.0. This feature will be removed in v6.0.0. See https://github.com/optuna/optuna/releases/tag/v3.0.0. Use suggest_float(..., log=True) instead.\n",
      "  learning_rate = trial.suggest_loguniform('learning_rate', 1e-5, 1e-2)\n",
      "[I 2024-01-15 09:05:10,321] Trial 24 finished with value: 1.5139018297195435 and parameters: {'num_layers': 1, 'hidden_size': 115, 'dropout': 0.11888989034550654, 'learning_rate': 0.001273931507352229}. Best is trial 12 with value: 1.4936708211898804.\n",
      "/scratch/local/21219464/ipykernel_957191/3745016572.py:23: FutureWarning: suggest_loguniform has been deprecated in v3.0.0. This feature will be removed in v6.0.0. See https://github.com/optuna/optuna/releases/tag/v3.0.0. Use suggest_float(..., log=True) instead.\n",
      "  learning_rate = trial.suggest_loguniform('learning_rate', 1e-5, 1e-2)\n",
      "[I 2024-01-15 09:05:10,604] Trial 25 finished with value: 1.5287845134735107 and parameters: {'num_layers': 1, 'hidden_size': 193, 'dropout': 0.15557664865454823, 'learning_rate': 0.0003282116917246791}. Best is trial 12 with value: 1.4936708211898804.\n",
      "/scratch/local/21219464/ipykernel_957191/3745016572.py:23: FutureWarning: suggest_loguniform has been deprecated in v3.0.0. This feature will be removed in v6.0.0. See https://github.com/optuna/optuna/releases/tag/v3.0.0. Use suggest_float(..., log=True) instead.\n",
      "  learning_rate = trial.suggest_loguniform('learning_rate', 1e-5, 1e-2)\n",
      "[I 2024-01-15 09:05:10,862] Trial 26 finished with value: 1.5013514757156372 and parameters: {'num_layers': 1, 'hidden_size': 137, 'dropout': 0.10932409510299326, 'learning_rate': 0.0029658422796518783}. Best is trial 12 with value: 1.4936708211898804.\n",
      "/scratch/local/21219464/ipykernel_957191/3745016572.py:23: FutureWarning: suggest_loguniform has been deprecated in v3.0.0. This feature will be removed in v6.0.0. See https://github.com/optuna/optuna/releases/tag/v3.0.0. Use suggest_float(..., log=True) instead.\n",
      "  learning_rate = trial.suggest_loguniform('learning_rate', 1e-5, 1e-2)\n",
      "[I 2024-01-15 09:05:11,154] Trial 27 finished with value: 1.5040322542190552 and parameters: {'num_layers': 2, 'hidden_size': 83, 'dropout': 0.04099667161636983, 'learning_rate': 0.005975688021537182}. Best is trial 12 with value: 1.4936708211898804.\n",
      "/scratch/local/21219464/ipykernel_957191/3745016572.py:23: FutureWarning: suggest_loguniform has been deprecated in v3.0.0. This feature will be removed in v6.0.0. See https://github.com/optuna/optuna/releases/tag/v3.0.0. Use suggest_float(..., log=True) instead.\n",
      "  learning_rate = trial.suggest_loguniform('learning_rate', 1e-5, 1e-2)\n",
      "[I 2024-01-15 09:05:11,400] Trial 28 finished with value: 1.5370644330978394 and parameters: {'num_layers': 1, 'hidden_size': 113, 'dropout': 0.23145460797671535, 'learning_rate': 0.0012133392596605822}. Best is trial 12 with value: 1.4936708211898804.\n",
      "/scratch/local/21219464/ipykernel_957191/3745016572.py:23: FutureWarning: suggest_loguniform has been deprecated in v3.0.0. This feature will be removed in v6.0.0. See https://github.com/optuna/optuna/releases/tag/v3.0.0. Use suggest_float(..., log=True) instead.\n",
      "  learning_rate = trial.suggest_loguniform('learning_rate', 1e-5, 1e-2)\n",
      "[I 2024-01-15 09:05:11,870] Trial 29 finished with value: 1.5218029022216797 and parameters: {'num_layers': 3, 'hidden_size': 197, 'dropout': 0.1620072558259288, 'learning_rate': 0.0018943167081639568}. Best is trial 12 with value: 1.4936708211898804.\n",
      "/scratch/local/21219464/ipykernel_957191/3745016572.py:23: FutureWarning: suggest_loguniform has been deprecated in v3.0.0. This feature will be removed in v6.0.0. See https://github.com/optuna/optuna/releases/tag/v3.0.0. Use suggest_float(..., log=True) instead.\n",
      "  learning_rate = trial.suggest_loguniform('learning_rate', 1e-5, 1e-2)\n",
      "[I 2024-01-15 09:05:12,230] Trial 30 finished with value: 1.5672727823257446 and parameters: {'num_layers': 2, 'hidden_size': 173, 'dropout': 0.3806247555259314, 'learning_rate': 0.00048552499448085426}. Best is trial 12 with value: 1.4936708211898804.\n",
      "/scratch/local/21219464/ipykernel_957191/3745016572.py:23: FutureWarning: suggest_loguniform has been deprecated in v3.0.0. This feature will be removed in v6.0.0. See https://github.com/optuna/optuna/releases/tag/v3.0.0. Use suggest_float(..., log=True) instead.\n",
      "  learning_rate = trial.suggest_loguniform('learning_rate', 1e-5, 1e-2)\n",
      "[I 2024-01-15 09:05:12,576] Trial 31 finished with value: 1.5096720457077026 and parameters: {'num_layers': 2, 'hidden_size': 154, 'dropout': 0.09763004298867085, 'learning_rate': 0.0007395990121563962}. Best is trial 12 with value: 1.4936708211898804.\n",
      "/scratch/local/21219464/ipykernel_957191/3745016572.py:23: FutureWarning: suggest_loguniform has been deprecated in v3.0.0. This feature will be removed in v6.0.0. See https://github.com/optuna/optuna/releases/tag/v3.0.0. Use suggest_float(..., log=True) instead.\n",
      "  learning_rate = trial.suggest_loguniform('learning_rate', 1e-5, 1e-2)\n",
      "[I 2024-01-15 09:05:12,922] Trial 32 finished with value: 1.5114116668701172 and parameters: {'num_layers': 2, 'hidden_size': 160, 'dropout': 0.05731539544275833, 'learning_rate': 0.00027437933752753836}. Best is trial 12 with value: 1.4936708211898804.\n",
      "/scratch/local/21219464/ipykernel_957191/3745016572.py:23: FutureWarning: suggest_loguniform has been deprecated in v3.0.0. This feature will be removed in v6.0.0. See https://github.com/optuna/optuna/releases/tag/v3.0.0. Use suggest_float(..., log=True) instead.\n",
      "  learning_rate = trial.suggest_loguniform('learning_rate', 1e-5, 1e-2)\n",
      "[I 2024-01-15 09:05:13,330] Trial 33 finished with value: 1.5770784616470337 and parameters: {'num_layers': 3, 'hidden_size': 144, 'dropout': 0.025115301666471287, 'learning_rate': 0.0007304936962383822}. Best is trial 12 with value: 1.4936708211898804.\n",
      "/scratch/local/21219464/ipykernel_957191/3745016572.py:23: FutureWarning: suggest_loguniform has been deprecated in v3.0.0. This feature will be removed in v6.0.0. See https://github.com/optuna/optuna/releases/tag/v3.0.0. Use suggest_float(..., log=True) instead.\n",
      "  learning_rate = trial.suggest_loguniform('learning_rate', 1e-5, 1e-2)\n",
      "[I 2024-01-15 09:05:13,631] Trial 34 finished with value: 1.503857970237732 and parameters: {'num_layers': 1, 'hidden_size': 240, 'dropout': 0.07022349395726041, 'learning_rate': 0.0023502614063054678}. Best is trial 12 with value: 1.4936708211898804.\n",
      "/scratch/local/21219464/ipykernel_957191/3745016572.py:23: FutureWarning: suggest_loguniform has been deprecated in v3.0.0. This feature will be removed in v6.0.0. See https://github.com/optuna/optuna/releases/tag/v3.0.0. Use suggest_float(..., log=True) instead.\n",
      "  learning_rate = trial.suggest_loguniform('learning_rate', 1e-5, 1e-2)\n",
      "[I 2024-01-15 09:05:13,950] Trial 35 finished with value: 1.4989787340164185 and parameters: {'num_layers': 2, 'hidden_size': 122, 'dropout': 0.14039013544522788, 'learning_rate': 0.0012916280051081036}. Best is trial 12 with value: 1.4936708211898804.\n",
      "/scratch/local/21219464/ipykernel_957191/3745016572.py:23: FutureWarning: suggest_loguniform has been deprecated in v3.0.0. This feature will be removed in v6.0.0. See https://github.com/optuna/optuna/releases/tag/v3.0.0. Use suggest_float(..., log=True) instead.\n",
      "  learning_rate = trial.suggest_loguniform('learning_rate', 1e-5, 1e-2)\n",
      "[I 2024-01-15 09:05:14,312] Trial 36 finished with value: 1.5321226119995117 and parameters: {'num_layers': 3, 'hidden_size': 97, 'dropout': 0.14586616246867906, 'learning_rate': 0.0012137392336081625}. Best is trial 12 with value: 1.4936708211898804.\n",
      "/scratch/local/21219464/ipykernel_957191/3745016572.py:23: FutureWarning: suggest_loguniform has been deprecated in v3.0.0. This feature will be removed in v6.0.0. See https://github.com/optuna/optuna/releases/tag/v3.0.0. Use suggest_float(..., log=True) instead.\n",
      "  learning_rate = trial.suggest_loguniform('learning_rate', 1e-5, 1e-2)\n",
      "[I 2024-01-15 09:05:14,699] Trial 37 finished with value: 1.52914559841156 and parameters: {'num_layers': 3, 'hidden_size': 124, 'dropout': 0.2639900522671062, 'learning_rate': 0.0018048822947401844}. Best is trial 12 with value: 1.4936708211898804.\n",
      "/scratch/local/21219464/ipykernel_957191/3745016572.py:23: FutureWarning: suggest_loguniform has been deprecated in v3.0.0. This feature will be removed in v6.0.0. See https://github.com/optuna/optuna/releases/tag/v3.0.0. Use suggest_float(..., log=True) instead.\n",
      "  learning_rate = trial.suggest_loguniform('learning_rate', 1e-5, 1e-2)\n",
      "[I 2024-01-15 09:05:14,927] Trial 38 finished with value: 1.848561406135559 and parameters: {'num_layers': 1, 'hidden_size': 55, 'dropout': 0.2041352229463854, 'learning_rate': 0.00021307042395839312}. Best is trial 12 with value: 1.4936708211898804.\n",
      "/scratch/local/21219464/ipykernel_957191/3745016572.py:23: FutureWarning: suggest_loguniform has been deprecated in v3.0.0. This feature will be removed in v6.0.0. See https://github.com/optuna/optuna/releases/tag/v3.0.0. Use suggest_float(..., log=True) instead.\n",
      "  learning_rate = trial.suggest_loguniform('learning_rate', 1e-5, 1e-2)\n",
      "[I 2024-01-15 09:05:15,291] Trial 39 finished with value: 1.5260339975357056 and parameters: {'num_layers': 2, 'hidden_size': 182, 'dropout': 0.12931873575086744, 'learning_rate': 0.0004908802292298757}. Best is trial 12 with value: 1.4936708211898804.\n",
      "/scratch/local/21219464/ipykernel_957191/3745016572.py:23: FutureWarning: suggest_loguniform has been deprecated in v3.0.0. This feature will be removed in v6.0.0. See https://github.com/optuna/optuna/releases/tag/v3.0.0. Use suggest_float(..., log=True) instead.\n",
      "  learning_rate = trial.suggest_loguniform('learning_rate', 1e-5, 1e-2)\n",
      "[I 2024-01-15 09:05:15,698] Trial 40 finished with value: 1.6833359003067017 and parameters: {'num_layers': 2, 'hidden_size': 240, 'dropout': 0.3137889277335469, 'learning_rate': 0.00290450714831814}. Best is trial 12 with value: 1.4936708211898804.\n",
      "/scratch/local/21219464/ipykernel_957191/3745016572.py:23: FutureWarning: suggest_loguniform has been deprecated in v3.0.0. This feature will be removed in v6.0.0. See https://github.com/optuna/optuna/releases/tag/v3.0.0. Use suggest_float(..., log=True) instead.\n",
      "  learning_rate = trial.suggest_loguniform('learning_rate', 1e-5, 1e-2)\n",
      "[I 2024-01-15 09:05:16,034] Trial 41 finished with value: 1.4983991384506226 and parameters: {'num_layers': 2, 'hidden_size': 140, 'dropout': 0.10411727507031637, 'learning_rate': 0.0009414612470499975}. Best is trial 12 with value: 1.4936708211898804.\n",
      "/scratch/local/21219464/ipykernel_957191/3745016572.py:23: FutureWarning: suggest_loguniform has been deprecated in v3.0.0. This feature will be removed in v6.0.0. See https://github.com/optuna/optuna/releases/tag/v3.0.0. Use suggest_float(..., log=True) instead.\n",
      "  learning_rate = trial.suggest_loguniform('learning_rate', 1e-5, 1e-2)\n",
      "[I 2024-01-15 09:05:16,446] Trial 42 finished with value: 1.5175455808639526 and parameters: {'num_layers': 3, 'hidden_size': 142, 'dropout': 0.17728881429621118, 'learning_rate': 0.0009679906320839604}. Best is trial 12 with value: 1.4936708211898804.\n",
      "/scratch/local/21219464/ipykernel_957191/3745016572.py:23: FutureWarning: suggest_loguniform has been deprecated in v3.0.0. This feature will be removed in v6.0.0. See https://github.com/optuna/optuna/releases/tag/v3.0.0. Use suggest_float(..., log=True) instead.\n",
      "  learning_rate = trial.suggest_loguniform('learning_rate', 1e-5, 1e-2)\n",
      "[I 2024-01-15 09:05:16,833] Trial 43 finished with value: 1.5282728672027588 and parameters: {'num_layers': 3, 'hidden_size': 119, 'dropout': 0.11259694994416333, 'learning_rate': 0.0017318899678537727}. Best is trial 12 with value: 1.4936708211898804.\n",
      "/scratch/local/21219464/ipykernel_957191/3745016572.py:23: FutureWarning: suggest_loguniform has been deprecated in v3.0.0. This feature will be removed in v6.0.0. See https://github.com/optuna/optuna/releases/tag/v3.0.0. Use suggest_float(..., log=True) instead.\n",
      "  learning_rate = trial.suggest_loguniform('learning_rate', 1e-5, 1e-2)\n",
      "[I 2024-01-15 09:05:17,136] Trial 44 finished with value: 1.569945216178894 and parameters: {'num_layers': 2, 'hidden_size': 100, 'dropout': 0.03589033201799588, 'learning_rate': 0.004237555805337684}. Best is trial 12 with value: 1.4936708211898804.\n",
      "/scratch/local/21219464/ipykernel_957191/3745016572.py:23: FutureWarning: suggest_loguniform has been deprecated in v3.0.0. This feature will be removed in v6.0.0. See https://github.com/optuna/optuna/releases/tag/v3.0.0. Use suggest_float(..., log=True) instead.\n",
      "  learning_rate = trial.suggest_loguniform('learning_rate', 1e-5, 1e-2)\n",
      "[I 2024-01-15 09:05:17,391] Trial 45 finished with value: 1.5212292671203613 and parameters: {'num_layers': 1, 'hidden_size': 132, 'dropout': 0.10040294069714303, 'learning_rate': 0.0004310488719859585}. Best is trial 12 with value: 1.4936708211898804.\n",
      "/scratch/local/21219464/ipykernel_957191/3745016572.py:23: FutureWarning: suggest_loguniform has been deprecated in v3.0.0. This feature will be removed in v6.0.0. See https://github.com/optuna/optuna/releases/tag/v3.0.0. Use suggest_float(..., log=True) instead.\n",
      "  learning_rate = trial.suggest_loguniform('learning_rate', 1e-5, 1e-2)\n",
      "[I 2024-01-15 09:05:18,000] Trial 46 finished with value: 1.5316028594970703 and parameters: {'num_layers': 5, 'hidden_size': 166, 'dropout': 0.14128094499204172, 'learning_rate': 0.0009347127823102659}. Best is trial 12 with value: 1.4936708211898804.\n",
      "/scratch/local/21219464/ipykernel_957191/3745016572.py:23: FutureWarning: suggest_loguniform has been deprecated in v3.0.0. This feature will be removed in v6.0.0. See https://github.com/optuna/optuna/releases/tag/v3.0.0. Use suggest_float(..., log=True) instead.\n",
      "  learning_rate = trial.suggest_loguniform('learning_rate', 1e-5, 1e-2)\n",
      "[I 2024-01-15 09:05:18,383] Trial 47 finished with value: 1.504904866218567 and parameters: {'num_layers': 2, 'hidden_size': 204, 'dropout': 0.16542589849539724, 'learning_rate': 0.0021908054596699953}. Best is trial 12 with value: 1.4936708211898804.\n",
      "/scratch/local/21219464/ipykernel_957191/3745016572.py:23: FutureWarning: suggest_loguniform has been deprecated in v3.0.0. This feature will be removed in v6.0.0. See https://github.com/optuna/optuna/releases/tag/v3.0.0. Use suggest_float(..., log=True) instead.\n",
      "  learning_rate = trial.suggest_loguniform('learning_rate', 1e-5, 1e-2)\n",
      "[I 2024-01-15 09:05:18,972] Trial 48 finished with value: 1.578149437904358 and parameters: {'num_layers': 4, 'hidden_size': 217, 'dropout': 0.19388752158990313, 'learning_rate': 0.0005977470397519794}. Best is trial 12 with value: 1.4936708211898804.\n",
      "/scratch/local/21219464/ipykernel_957191/3745016572.py:23: FutureWarning: suggest_loguniform has been deprecated in v3.0.0. This feature will be removed in v6.0.0. See https://github.com/optuna/optuna/releases/tag/v3.0.0. Use suggest_float(..., log=True) instead.\n",
      "  learning_rate = trial.suggest_loguniform('learning_rate', 1e-5, 1e-2)\n",
      "[I 2024-01-15 09:05:19,295] Trial 49 finished with value: 1.507786750793457 and parameters: {'num_layers': 2, 'hidden_size': 108, 'dropout': 0.13010032313095282, 'learning_rate': 0.0012897580397066176}. Best is trial 12 with value: 1.4936708211898804.\n",
      "/scratch/local/21219464/ipykernel_957191/3745016572.py:23: FutureWarning: suggest_loguniform has been deprecated in v3.0.0. This feature will be removed in v6.0.0. See https://github.com/optuna/optuna/releases/tag/v3.0.0. Use suggest_float(..., log=True) instead.\n",
      "  learning_rate = trial.suggest_loguniform('learning_rate', 1e-5, 1e-2)\n",
      "[I 2024-01-15 09:05:19,534] Trial 50 finished with value: 1.5256645679473877 and parameters: {'num_layers': 1, 'hidden_size': 87, 'dropout': 0.22203438052040747, 'learning_rate': 0.0015589489409654096}. Best is trial 12 with value: 1.4936708211898804.\n",
      "/scratch/local/21219464/ipykernel_957191/3745016572.py:23: FutureWarning: suggest_loguniform has been deprecated in v3.0.0. This feature will be removed in v6.0.0. See https://github.com/optuna/optuna/releases/tag/v3.0.0. Use suggest_float(..., log=True) instead.\n",
      "  learning_rate = trial.suggest_loguniform('learning_rate', 1e-5, 1e-2)\n",
      "[I 2024-01-15 09:05:19,881] Trial 51 finished with value: 1.5062867403030396 and parameters: {'num_layers': 2, 'hidden_size': 155, 'dropout': 0.06712428215305988, 'learning_rate': 0.0006948670930368408}. Best is trial 12 with value: 1.4936708211898804.\n",
      "/scratch/local/21219464/ipykernel_957191/3745016572.py:23: FutureWarning: suggest_loguniform has been deprecated in v3.0.0. This feature will be removed in v6.0.0. See https://github.com/optuna/optuna/releases/tag/v3.0.0. Use suggest_float(..., log=True) instead.\n",
      "  learning_rate = trial.suggest_loguniform('learning_rate', 1e-5, 1e-2)\n",
      "[I 2024-01-15 09:05:20,206] Trial 52 finished with value: 1.508499264717102 and parameters: {'num_layers': 2, 'hidden_size': 126, 'dropout': 0.09013892656529984, 'learning_rate': 0.0008493389052199125}. Best is trial 12 with value: 1.4936708211898804.\n",
      "/scratch/local/21219464/ipykernel_957191/3745016572.py:23: FutureWarning: suggest_loguniform has been deprecated in v3.0.0. This feature will be removed in v6.0.0. See https://github.com/optuna/optuna/releases/tag/v3.0.0. Use suggest_float(..., log=True) instead.\n",
      "  learning_rate = trial.suggest_loguniform('learning_rate', 1e-5, 1e-2)\n",
      "[I 2024-01-15 09:05:20,549] Trial 53 finished with value: 1.5107393264770508 and parameters: {'num_layers': 2, 'hidden_size': 147, 'dropout': 0.009948345200468695, 'learning_rate': 0.00039673840321429577}. Best is trial 12 with value: 1.4936708211898804.\n",
      "/scratch/local/21219464/ipykernel_957191/3745016572.py:23: FutureWarning: suggest_loguniform has been deprecated in v3.0.0. This feature will be removed in v6.0.0. See https://github.com/optuna/optuna/releases/tag/v3.0.0. Use suggest_float(..., log=True) instead.\n",
      "  learning_rate = trial.suggest_loguniform('learning_rate', 1e-5, 1e-2)\n",
      "[I 2024-01-15 09:05:20,882] Trial 54 finished with value: 1.4893766641616821 and parameters: {'num_layers': 2, 'hidden_size': 135, 'dropout': 0.05253840123508324, 'learning_rate': 0.0010692816099722056}. Best is trial 54 with value: 1.4893766641616821.\n",
      "/scratch/local/21219464/ipykernel_957191/3745016572.py:23: FutureWarning: suggest_loguniform has been deprecated in v3.0.0. This feature will be removed in v6.0.0. See https://github.com/optuna/optuna/releases/tag/v3.0.0. Use suggest_float(..., log=True) instead.\n",
      "  learning_rate = trial.suggest_loguniform('learning_rate', 1e-5, 1e-2)\n",
      "[I 2024-01-15 09:05:21,215] Trial 55 finished with value: 1.4953978061676025 and parameters: {'num_layers': 2, 'hidden_size': 137, 'dropout': 0.04929463056345472, 'learning_rate': 0.0025033604229337796}. Best is trial 54 with value: 1.4893766641616821.\n",
      "/scratch/local/21219464/ipykernel_957191/3745016572.py:23: FutureWarning: suggest_loguniform has been deprecated in v3.0.0. This feature will be removed in v6.0.0. See https://github.com/optuna/optuna/releases/tag/v3.0.0. Use suggest_float(..., log=True) instead.\n",
      "  learning_rate = trial.suggest_loguniform('learning_rate', 1e-5, 1e-2)\n",
      "[I 2024-01-15 09:05:21,550] Trial 56 finished with value: 1.6563276052474976 and parameters: {'num_layers': 2, 'hidden_size': 138, 'dropout': 0.05096475560506358, 'learning_rate': 0.008058569377319318}. Best is trial 54 with value: 1.4893766641616821.\n",
      "/scratch/local/21219464/ipykernel_957191/3745016572.py:23: FutureWarning: suggest_loguniform has been deprecated in v3.0.0. This feature will be removed in v6.0.0. See https://github.com/optuna/optuna/releases/tag/v3.0.0. Use suggest_float(..., log=True) instead.\n",
      "  learning_rate = trial.suggest_loguniform('learning_rate', 1e-5, 1e-2)\n",
      "[I 2024-01-15 09:05:21,801] Trial 57 finished with value: 1.5065274238586426 and parameters: {'num_layers': 1, 'hidden_size': 120, 'dropout': 0.027208074006210753, 'learning_rate': 0.0026648570138711283}. Best is trial 54 with value: 1.4893766641616821.\n",
      "/scratch/local/21219464/ipykernel_957191/3745016572.py:23: FutureWarning: suggest_loguniform has been deprecated in v3.0.0. This feature will be removed in v6.0.0. See https://github.com/optuna/optuna/releases/tag/v3.0.0. Use suggest_float(..., log=True) instead.\n",
      "  learning_rate = trial.suggest_loguniform('learning_rate', 1e-5, 1e-2)\n",
      "[I 2024-01-15 09:05:22,133] Trial 58 finished with value: 1.5845441818237305 and parameters: {'num_layers': 2, 'hidden_size': 134, 'dropout': 0.0014741393089265087, 'learning_rate': 0.003797043122087518}. Best is trial 54 with value: 1.4893766641616821.\n",
      "/scratch/local/21219464/ipykernel_957191/3745016572.py:23: FutureWarning: suggest_loguniform has been deprecated in v3.0.0. This feature will be removed in v6.0.0. See https://github.com/optuna/optuna/releases/tag/v3.0.0. Use suggest_float(..., log=True) instead.\n",
      "  learning_rate = trial.suggest_loguniform('learning_rate', 1e-5, 1e-2)\n",
      "[I 2024-01-15 09:05:22,379] Trial 59 finished with value: 1.5968917608261108 and parameters: {'num_layers': 1, 'hidden_size': 109, 'dropout': 0.11963552681975648, 'learning_rate': 0.001089029777613186}. Best is trial 54 with value: 1.4893766641616821.\n",
      "/scratch/local/21219464/ipykernel_957191/3745016572.py:23: FutureWarning: suggest_loguniform has been deprecated in v3.0.0. This feature will be removed in v6.0.0. See https://github.com/optuna/optuna/releases/tag/v3.0.0. Use suggest_float(..., log=True) instead.\n",
      "  learning_rate = trial.suggest_loguniform('learning_rate', 1e-5, 1e-2)\n",
      "[I 2024-01-15 09:05:22,778] Trial 60 finished with value: 1.5836588144302368 and parameters: {'num_layers': 3, 'hidden_size': 130, 'dropout': 0.05484998892958354, 'learning_rate': 0.0015682076815671533}. Best is trial 54 with value: 1.4893766641616821.\n",
      "/scratch/local/21219464/ipykernel_957191/3745016572.py:23: FutureWarning: suggest_loguniform has been deprecated in v3.0.0. This feature will be removed in v6.0.0. See https://github.com/optuna/optuna/releases/tag/v3.0.0. Use suggest_float(..., log=True) instead.\n",
      "  learning_rate = trial.suggest_loguniform('learning_rate', 1e-5, 1e-2)\n",
      "[I 2024-01-15 09:05:23,138] Trial 61 finished with value: 1.4918551445007324 and parameters: {'num_layers': 2, 'hidden_size': 169, 'dropout': 0.07845208157012837, 'learning_rate': 0.0014439119524960599}. Best is trial 54 with value: 1.4893766641616821.\n",
      "/scratch/local/21219464/ipykernel_957191/3745016572.py:23: FutureWarning: suggest_loguniform has been deprecated in v3.0.0. This feature will be removed in v6.0.0. See https://github.com/optuna/optuna/releases/tag/v3.0.0. Use suggest_float(..., log=True) instead.\n",
      "  learning_rate = trial.suggest_loguniform('learning_rate', 1e-5, 1e-2)\n",
      "[I 2024-01-15 09:05:23,499] Trial 62 finished with value: 1.5135666131973267 and parameters: {'num_layers': 2, 'hidden_size': 168, 'dropout': 0.08058585717921742, 'learning_rate': 0.0022109671242908344}. Best is trial 54 with value: 1.4893766641616821.\n",
      "/scratch/local/21219464/ipykernel_957191/3745016572.py:23: FutureWarning: suggest_loguniform has been deprecated in v3.0.0. This feature will be removed in v6.0.0. See https://github.com/optuna/optuna/releases/tag/v3.0.0. Use suggest_float(..., log=True) instead.\n",
      "  learning_rate = trial.suggest_loguniform('learning_rate', 1e-5, 1e-2)\n",
      "[I 2024-01-15 09:05:23,848] Trial 63 finished with value: 1.5021257400512695 and parameters: {'num_layers': 2, 'hidden_size': 160, 'dropout': 0.040502130999774906, 'learning_rate': 0.0005697435710020896}. Best is trial 54 with value: 1.4893766641616821.\n",
      "/scratch/local/21219464/ipykernel_957191/3745016572.py:23: FutureWarning: suggest_loguniform has been deprecated in v3.0.0. This feature will be removed in v6.0.0. See https://github.com/optuna/optuna/releases/tag/v3.0.0. Use suggest_float(..., log=True) instead.\n",
      "  learning_rate = trial.suggest_loguniform('learning_rate', 1e-5, 1e-2)\n",
      "[I 2024-01-15 09:05:24,195] Trial 64 finished with value: 2.2797176837921143 and parameters: {'num_layers': 2, 'hidden_size': 148, 'dropout': 0.09758229369844784, 'learning_rate': 1.0743971595416296e-05}. Best is trial 54 with value: 1.4893766641616821.\n",
      "/scratch/local/21219464/ipykernel_957191/3745016572.py:23: FutureWarning: suggest_loguniform has been deprecated in v3.0.0. This feature will be removed in v6.0.0. See https://github.com/optuna/optuna/releases/tag/v3.0.0. Use suggest_float(..., log=True) instead.\n",
      "  learning_rate = trial.suggest_loguniform('learning_rate', 1e-5, 1e-2)\n",
      "[I 2024-01-15 09:05:24,496] Trial 65 finished with value: 1.505501627922058 and parameters: {'num_layers': 2, 'hidden_size': 91, 'dropout': 0.06821881794555532, 'learning_rate': 0.0014732842961883014}. Best is trial 54 with value: 1.4893766641616821.\n",
      "/scratch/local/21219464/ipykernel_957191/3745016572.py:23: FutureWarning: suggest_loguniform has been deprecated in v3.0.0. This feature will be removed in v6.0.0. See https://github.com/optuna/optuna/releases/tag/v3.0.0. Use suggest_float(..., log=True) instead.\n",
      "  learning_rate = trial.suggest_loguniform('learning_rate', 1e-5, 1e-2)\n",
      "[I 2024-01-15 09:05:24,831] Trial 66 finished with value: 1.5319494009017944 and parameters: {'num_layers': 2, 'hidden_size': 140, 'dropout': 0.10651412356118908, 'learning_rate': 0.0045187622931112245}. Best is trial 54 with value: 1.4893766641616821.\n",
      "/scratch/local/21219464/ipykernel_957191/3745016572.py:23: FutureWarning: suggest_loguniform has been deprecated in v3.0.0. This feature will be removed in v6.0.0. See https://github.com/optuna/optuna/releases/tag/v3.0.0. Use suggest_float(..., log=True) instead.\n",
      "  learning_rate = trial.suggest_loguniform('learning_rate', 1e-5, 1e-2)\n",
      "[I 2024-01-15 09:05:25,178] Trial 67 finished with value: 1.5879148244857788 and parameters: {'num_layers': 3, 'hidden_size': 73, 'dropout': 0.021150229508130003, 'learning_rate': 0.0033517616548331543}. Best is trial 54 with value: 1.4893766641616821.\n",
      "/scratch/local/21219464/ipykernel_957191/3745016572.py:23: FutureWarning: suggest_loguniform has been deprecated in v3.0.0. This feature will be removed in v6.0.0. See https://github.com/optuna/optuna/releases/tag/v3.0.0. Use suggest_float(..., log=True) instead.\n",
      "  learning_rate = trial.suggest_loguniform('learning_rate', 1e-5, 1e-2)\n",
      "[I 2024-01-15 09:05:25,433] Trial 68 finished with value: 1.6265345811843872 and parameters: {'num_layers': 1, 'hidden_size': 123, 'dropout': 0.13589940890591942, 'learning_rate': 0.001117261180190516}. Best is trial 54 with value: 1.4893766641616821.\n",
      "/scratch/local/21219464/ipykernel_957191/3745016572.py:23: FutureWarning: suggest_loguniform has been deprecated in v3.0.0. This feature will be removed in v6.0.0. See https://github.com/optuna/optuna/releases/tag/v3.0.0. Use suggest_float(..., log=True) instead.\n",
      "  learning_rate = trial.suggest_loguniform('learning_rate', 1e-5, 1e-2)\n",
      "[I 2024-01-15 09:05:25,817] Trial 69 finished with value: 2.28245210647583 and parameters: {'num_layers': 3, 'hidden_size': 115, 'dropout': 0.08777060644141531, 'learning_rate': 2.0884735652173708e-05}. Best is trial 54 with value: 1.4893766641616821.\n",
      "/scratch/local/21219464/ipykernel_957191/3745016572.py:23: FutureWarning: suggest_loguniform has been deprecated in v3.0.0. This feature will be removed in v6.0.0. See https://github.com/optuna/optuna/releases/tag/v3.0.0. Use suggest_float(..., log=True) instead.\n",
      "  learning_rate = trial.suggest_loguniform('learning_rate', 1e-5, 1e-2)\n",
      "[I 2024-01-15 09:05:26,163] Trial 70 finished with value: 1.4952828884124756 and parameters: {'num_layers': 2, 'hidden_size': 150, 'dropout': 0.17315882894400708, 'learning_rate': 0.002016949372461704}. Best is trial 54 with value: 1.4893766641616821.\n",
      "/scratch/local/21219464/ipykernel_957191/3745016572.py:23: FutureWarning: suggest_loguniform has been deprecated in v3.0.0. This feature will be removed in v6.0.0. See https://github.com/optuna/optuna/releases/tag/v3.0.0. Use suggest_float(..., log=True) instead.\n",
      "  learning_rate = trial.suggest_loguniform('learning_rate', 1e-5, 1e-2)\n",
      "[I 2024-01-15 09:05:26,529] Trial 71 finished with value: 1.5122941732406616 and parameters: {'num_layers': 2, 'hidden_size': 183, 'dropout': 0.15824151470571324, 'learning_rate': 0.0021100646348713387}. Best is trial 54 with value: 1.4893766641616821.\n",
      "/scratch/local/21219464/ipykernel_957191/3745016572.py:23: FutureWarning: suggest_loguniform has been deprecated in v3.0.0. This feature will be removed in v6.0.0. See https://github.com/optuna/optuna/releases/tag/v3.0.0. Use suggest_float(..., log=True) instead.\n",
      "  learning_rate = trial.suggest_loguniform('learning_rate', 1e-5, 1e-2)\n",
      "[I 2024-01-15 09:05:26,878] Trial 72 finished with value: 1.5080205202102661 and parameters: {'num_layers': 2, 'hidden_size': 153, 'dropout': 0.17431068717798226, 'learning_rate': 0.000860526721971139}. Best is trial 54 with value: 1.4893766641616821.\n",
      "/scratch/local/21219464/ipykernel_957191/3745016572.py:23: FutureWarning: suggest_loguniform has been deprecated in v3.0.0. This feature will be removed in v6.0.0. See https://github.com/optuna/optuna/releases/tag/v3.0.0. Use suggest_float(..., log=True) instead.\n",
      "  learning_rate = trial.suggest_loguniform('learning_rate', 1e-5, 1e-2)\n",
      "[I 2024-01-15 09:05:27,283] Trial 73 finished with value: 1.9657962322235107 and parameters: {'num_layers': 2, 'hidden_size': 232, 'dropout': 0.12176620392350167, 'learning_rate': 0.005890514213913533}. Best is trial 54 with value: 1.4893766641616821.\n",
      "/scratch/local/21219464/ipykernel_957191/3745016572.py:23: FutureWarning: suggest_loguniform has been deprecated in v3.0.0. This feature will be removed in v6.0.0. See https://github.com/optuna/optuna/releases/tag/v3.0.0. Use suggest_float(..., log=True) instead.\n",
      "  learning_rate = trial.suggest_loguniform('learning_rate', 1e-5, 1e-2)\n",
      "[I 2024-01-15 09:05:27,617] Trial 74 finished with value: 1.5070255994796753 and parameters: {'num_layers': 2, 'hidden_size': 137, 'dropout': 0.14947462278783696, 'learning_rate': 0.0028394721134903387}. Best is trial 54 with value: 1.4893766641616821.\n",
      "/scratch/local/21219464/ipykernel_957191/3745016572.py:23: FutureWarning: suggest_loguniform has been deprecated in v3.0.0. This feature will be removed in v6.0.0. See https://github.com/optuna/optuna/releases/tag/v3.0.0. Use suggest_float(..., log=True) instead.\n",
      "  learning_rate = trial.suggest_loguniform('learning_rate', 1e-5, 1e-2)\n",
      "[I 2024-01-15 09:05:27,881] Trial 75 finished with value: 1.6397247314453125 and parameters: {'num_layers': 1, 'hidden_size': 145, 'dropout': 0.0641640600941501, 'learning_rate': 0.0014272813557513013}. Best is trial 54 with value: 1.4893766641616821.\n",
      "/scratch/local/21219464/ipykernel_957191/3745016572.py:23: FutureWarning: suggest_loguniform has been deprecated in v3.0.0. This feature will be removed in v6.0.0. See https://github.com/optuna/optuna/releases/tag/v3.0.0. Use suggest_float(..., log=True) instead.\n",
      "  learning_rate = trial.suggest_loguniform('learning_rate', 1e-5, 1e-2)\n",
      "[I 2024-01-15 09:05:28,307] Trial 76 finished with value: 1.5028191804885864 and parameters: {'num_layers': 2, 'hidden_size': 249, 'dropout': 0.10674708262541248, 'learning_rate': 0.0018026142283032608}. Best is trial 54 with value: 1.4893766641616821.\n",
      "/scratch/local/21219464/ipykernel_957191/3745016572.py:23: FutureWarning: suggest_loguniform has been deprecated in v3.0.0. This feature will be removed in v6.0.0. See https://github.com/optuna/optuna/releases/tag/v3.0.0. Use suggest_float(..., log=True) instead.\n",
      "  learning_rate = trial.suggest_loguniform('learning_rate', 1e-5, 1e-2)\n",
      "[I 2024-01-15 09:05:28,661] Trial 77 finished with value: 1.4921373128890991 and parameters: {'num_layers': 2, 'hidden_size': 161, 'dropout': 0.0761672696506256, 'learning_rate': 0.0010498658811795665}. Best is trial 54 with value: 1.4893766641616821.\n",
      "/scratch/local/21219464/ipykernel_957191/3745016572.py:23: FutureWarning: suggest_loguniform has been deprecated in v3.0.0. This feature will be removed in v6.0.0. See https://github.com/optuna/optuna/releases/tag/v3.0.0. Use suggest_float(..., log=True) instead.\n",
      "  learning_rate = trial.suggest_loguniform('learning_rate', 1e-5, 1e-2)\n",
      "[I 2024-01-15 09:05:29,099] Trial 78 finished with value: 1.5021538734436035 and parameters: {'num_layers': 3, 'hidden_size': 162, 'dropout': 0.040902353813873006, 'learning_rate': 0.0010119507674529618}. Best is trial 54 with value: 1.4893766641616821.\n",
      "/scratch/local/21219464/ipykernel_957191/3745016572.py:23: FutureWarning: suggest_loguniform has been deprecated in v3.0.0. This feature will be removed in v6.0.0. See https://github.com/optuna/optuna/releases/tag/v3.0.0. Use suggest_float(..., log=True) instead.\n",
      "  learning_rate = trial.suggest_loguniform('learning_rate', 1e-5, 1e-2)\n",
      "[I 2024-01-15 09:05:29,375] Trial 79 finished with value: 1.4966638088226318 and parameters: {'num_layers': 1, 'hidden_size': 176, 'dropout': 0.07523580703998312, 'learning_rate': 0.0025744506203692155}. Best is trial 54 with value: 1.4893766641616821.\n",
      "/scratch/local/21219464/ipykernel_957191/3745016572.py:23: FutureWarning: suggest_loguniform has been deprecated in v3.0.0. This feature will be removed in v6.0.0. See https://github.com/optuna/optuna/releases/tag/v3.0.0. Use suggest_float(..., log=True) instead.\n",
      "  learning_rate = trial.suggest_loguniform('learning_rate', 1e-5, 1e-2)\n",
      "[I 2024-01-15 09:05:29,654] Trial 80 finished with value: 1.497012972831726 and parameters: {'num_layers': 1, 'hidden_size': 175, 'dropout': 0.052323526476558226, 'learning_rate': 0.0026397066221968035}. Best is trial 54 with value: 1.4893766641616821.\n",
      "/scratch/local/21219464/ipykernel_957191/3745016572.py:23: FutureWarning: suggest_loguniform has been deprecated in v3.0.0. This feature will be removed in v6.0.0. See https://github.com/optuna/optuna/releases/tag/v3.0.0. Use suggest_float(..., log=True) instead.\n",
      "  learning_rate = trial.suggest_loguniform('learning_rate', 1e-5, 1e-2)\n",
      "[I 2024-01-15 09:05:37,472] Trial 81 finished with value: 1.5036183595657349 and parameters: {'num_layers': 1, 'hidden_size': 175, 'dropout': 0.07810579615351362, 'learning_rate': 0.002491981488409489}. Best is trial 54 with value: 1.4893766641616821.\n",
      "/scratch/local/21219464/ipykernel_957191/3745016572.py:23: FutureWarning: suggest_loguniform has been deprecated in v3.0.0. This feature will be removed in v6.0.0. See https://github.com/optuna/optuna/releases/tag/v3.0.0. Use suggest_float(..., log=True) instead.\n",
      "  learning_rate = trial.suggest_loguniform('learning_rate', 1e-5, 1e-2)\n",
      "[I 2024-01-15 09:05:37,751] Trial 82 finished with value: 1.5057662725448608 and parameters: {'num_layers': 1, 'hidden_size': 170, 'dropout': 0.04907137055816793, 'learning_rate': 0.003555165579921826}. Best is trial 54 with value: 1.4893766641616821.\n",
      "/scratch/local/21219464/ipykernel_957191/3745016572.py:23: FutureWarning: suggest_loguniform has been deprecated in v3.0.0. This feature will be removed in v6.0.0. See https://github.com/optuna/optuna/releases/tag/v3.0.0. Use suggest_float(..., log=True) instead.\n",
      "  learning_rate = trial.suggest_loguniform('learning_rate', 1e-5, 1e-2)\n",
      "[I 2024-01-15 09:05:38,035] Trial 83 finished with value: 1.4933615922927856 and parameters: {'num_layers': 1, 'hidden_size': 181, 'dropout': 0.028758282988781206, 'learning_rate': 0.002006448515112449}. Best is trial 54 with value: 1.4893766641616821.\n",
      "/scratch/local/21219464/ipykernel_957191/3745016572.py:23: FutureWarning: suggest_loguniform has been deprecated in v3.0.0. This feature will be removed in v6.0.0. See https://github.com/optuna/optuna/releases/tag/v3.0.0. Use suggest_float(..., log=True) instead.\n",
      "  learning_rate = trial.suggest_loguniform('learning_rate', 1e-5, 1e-2)\n",
      "[I 2024-01-15 09:05:38,319] Trial 84 finished with value: 1.5100491046905518 and parameters: {'num_layers': 1, 'hidden_size': 185, 'dropout': 0.030285660279610695, 'learning_rate': 0.001971541774714485}. Best is trial 54 with value: 1.4893766641616821.\n",
      "/scratch/local/21219464/ipykernel_957191/3745016572.py:23: FutureWarning: suggest_loguniform has been deprecated in v3.0.0. This feature will be removed in v6.0.0. See https://github.com/optuna/optuna/releases/tag/v3.0.0. Use suggest_float(..., log=True) instead.\n",
      "  learning_rate = trial.suggest_loguniform('learning_rate', 1e-5, 1e-2)\n",
      "[I 2024-01-15 09:05:38,614] Trial 85 finished with value: 1.4939905405044556 and parameters: {'num_layers': 1, 'hidden_size': 198, 'dropout': 0.016017832595237542, 'learning_rate': 0.003141371472995207}. Best is trial 54 with value: 1.4893766641616821.\n",
      "/scratch/local/21219464/ipykernel_957191/3745016572.py:23: FutureWarning: suggest_loguniform has been deprecated in v3.0.0. This feature will be removed in v6.0.0. See https://github.com/optuna/optuna/releases/tag/v3.0.0. Use suggest_float(..., log=True) instead.\n",
      "  learning_rate = trial.suggest_loguniform('learning_rate', 1e-5, 1e-2)\n",
      "[I 2024-01-15 09:05:38,908] Trial 86 finished with value: 1.4962716102600098 and parameters: {'num_layers': 1, 'hidden_size': 197, 'dropout': 0.017569879284998147, 'learning_rate': 0.004983102644910559}. Best is trial 54 with value: 1.4893766641616821.\n",
      "/scratch/local/21219464/ipykernel_957191/3745016572.py:23: FutureWarning: suggest_loguniform has been deprecated in v3.0.0. This feature will be removed in v6.0.0. See https://github.com/optuna/optuna/releases/tag/v3.0.0. Use suggest_float(..., log=True) instead.\n",
      "  learning_rate = trial.suggest_loguniform('learning_rate', 1e-5, 1e-2)\n",
      "[I 2024-01-15 09:05:39,203] Trial 87 finished with value: 1.6707202196121216 and parameters: {'num_layers': 1, 'hidden_size': 200, 'dropout': 0.014997290428549172, 'learning_rate': 0.007607031275927423}. Best is trial 54 with value: 1.4893766641616821.\n",
      "/scratch/local/21219464/ipykernel_957191/3745016572.py:23: FutureWarning: suggest_loguniform has been deprecated in v3.0.0. This feature will be removed in v6.0.0. See https://github.com/optuna/optuna/releases/tag/v3.0.0. Use suggest_float(..., log=True) instead.\n",
      "  learning_rate = trial.suggest_loguniform('learning_rate', 1e-5, 1e-2)\n",
      "[I 2024-01-15 09:05:39,807] Trial 88 finished with value: 2.366706371307373 and parameters: {'num_layers': 4, 'hidden_size': 216, 'dropout': 0.00701064542164527, 'learning_rate': 0.005129574656135802}. Best is trial 54 with value: 1.4893766641616821.\n",
      "/scratch/local/21219464/ipykernel_957191/3745016572.py:23: FutureWarning: suggest_loguniform has been deprecated in v3.0.0. This feature will be removed in v6.0.0. See https://github.com/optuna/optuna/releases/tag/v3.0.0. Use suggest_float(..., log=True) instead.\n",
      "  learning_rate = trial.suggest_loguniform('learning_rate', 1e-5, 1e-2)\n",
      "[I 2024-01-15 09:05:40,107] Trial 89 finished with value: 1.4865177869796753 and parameters: {'num_layers': 1, 'hidden_size': 209, 'dropout': 0.014914679886281, 'learning_rate': 0.0032528901484473434}. Best is trial 89 with value: 1.4865177869796753.\n",
      "/scratch/local/21219464/ipykernel_957191/3745016572.py:23: FutureWarning: suggest_loguniform has been deprecated in v3.0.0. This feature will be removed in v6.0.0. See https://github.com/optuna/optuna/releases/tag/v3.0.0. Use suggest_float(..., log=True) instead.\n",
      "  learning_rate = trial.suggest_loguniform('learning_rate', 1e-5, 1e-2)\n",
      "[I 2024-01-15 09:05:40,430] Trial 90 finished with value: 1.4950361251831055 and parameters: {'num_layers': 1, 'hidden_size': 226, 'dropout': 0.03287083414599967, 'learning_rate': 0.0030458204347327917}. Best is trial 89 with value: 1.4865177869796753.\n",
      "/scratch/local/21219464/ipykernel_957191/3745016572.py:23: FutureWarning: suggest_loguniform has been deprecated in v3.0.0. This feature will be removed in v6.0.0. See https://github.com/optuna/optuna/releases/tag/v3.0.0. Use suggest_float(..., log=True) instead.\n",
      "  learning_rate = trial.suggest_loguniform('learning_rate', 1e-5, 1e-2)\n",
      "[I 2024-01-15 09:05:40,731] Trial 91 finished with value: 1.4966235160827637 and parameters: {'num_layers': 1, 'hidden_size': 209, 'dropout': 0.031651668528222696, 'learning_rate': 0.003390232556524481}. Best is trial 89 with value: 1.4865177869796753.\n",
      "/scratch/local/21219464/ipykernel_957191/3745016572.py:23: FutureWarning: suggest_loguniform has been deprecated in v3.0.0. This feature will be removed in v6.0.0. See https://github.com/optuna/optuna/releases/tag/v3.0.0. Use suggest_float(..., log=True) instead.\n",
      "  learning_rate = trial.suggest_loguniform('learning_rate', 1e-5, 1e-2)\n",
      "[I 2024-01-15 09:05:41,039] Trial 92 finished with value: 1.5259703397750854 and parameters: {'num_layers': 1, 'hidden_size': 225, 'dropout': 0.04212632566182083, 'learning_rate': 0.0031662770234953002}. Best is trial 89 with value: 1.4865177869796753.\n",
      "/scratch/local/21219464/ipykernel_957191/3745016572.py:23: FutureWarning: suggest_loguniform has been deprecated in v3.0.0. This feature will be removed in v6.0.0. See https://github.com/optuna/optuna/releases/tag/v3.0.0. Use suggest_float(..., log=True) instead.\n",
      "  learning_rate = trial.suggest_loguniform('learning_rate', 1e-5, 1e-2)\n",
      "[I 2024-01-15 09:05:41,328] Trial 93 finished with value: 1.501751184463501 and parameters: {'num_layers': 1, 'hidden_size': 191, 'dropout': 0.05844173315151075, 'learning_rate': 0.001873136466193334}. Best is trial 89 with value: 1.4865177869796753.\n",
      "/scratch/local/21219464/ipykernel_957191/3745016572.py:23: FutureWarning: suggest_loguniform has been deprecated in v3.0.0. This feature will be removed in v6.0.0. See https://github.com/optuna/optuna/releases/tag/v3.0.0. Use suggest_float(..., log=True) instead.\n",
      "  learning_rate = trial.suggest_loguniform('learning_rate', 1e-5, 1e-2)\n",
      "[I 2024-01-15 09:05:41,647] Trial 94 finished with value: 1.5140467882156372 and parameters: {'num_layers': 1, 'hidden_size': 249, 'dropout': 0.02484064292748902, 'learning_rate': 0.004034152253633224}. Best is trial 89 with value: 1.4865177869796753.\n",
      "/scratch/local/21219464/ipykernel_957191/3745016572.py:23: FutureWarning: suggest_loguniform has been deprecated in v3.0.0. This feature will be removed in v6.0.0. See https://github.com/optuna/optuna/releases/tag/v3.0.0. Use suggest_float(..., log=True) instead.\n",
      "  learning_rate = trial.suggest_loguniform('learning_rate', 1e-5, 1e-2)\n",
      "[I 2024-01-15 09:05:41,946] Trial 95 finished with value: 1.6527655124664307 and parameters: {'num_layers': 1, 'hidden_size': 206, 'dropout': 0.0009267706295977909, 'learning_rate': 0.00010918893995329117}. Best is trial 89 with value: 1.4865177869796753.\n",
      "/scratch/local/21219464/ipykernel_957191/3745016572.py:23: FutureWarning: suggest_loguniform has been deprecated in v3.0.0. This feature will be removed in v6.0.0. See https://github.com/optuna/optuna/releases/tag/v3.0.0. Use suggest_float(..., log=True) instead.\n",
      "  learning_rate = trial.suggest_loguniform('learning_rate', 1e-5, 1e-2)\n",
      "[I 2024-01-15 09:05:42,324] Trial 96 finished with value: 1.4941258430480957 and parameters: {'num_layers': 2, 'hidden_size': 186, 'dropout': 0.01691627107147378, 'learning_rate': 0.0015193693817118423}. Best is trial 89 with value: 1.4865177869796753.\n",
      "/scratch/local/21219464/ipykernel_957191/3745016572.py:23: FutureWarning: suggest_loguniform has been deprecated in v3.0.0. This feature will be removed in v6.0.0. See https://github.com/optuna/optuna/releases/tag/v3.0.0. Use suggest_float(..., log=True) instead.\n",
      "  learning_rate = trial.suggest_loguniform('learning_rate', 1e-5, 1e-2)\n",
      "[I 2024-01-15 09:05:42,731] Trial 97 finished with value: 1.496466040611267 and parameters: {'num_layers': 2, 'hidden_size': 220, 'dropout': 0.016430484590327032, 'learning_rate': 0.0016034700607762834}. Best is trial 89 with value: 1.4865177869796753.\n",
      "/scratch/local/21219464/ipykernel_957191/3745016572.py:23: FutureWarning: suggest_loguniform has been deprecated in v3.0.0. This feature will be removed in v6.0.0. See https://github.com/optuna/optuna/releases/tag/v3.0.0. Use suggest_float(..., log=True) instead.\n",
      "  learning_rate = trial.suggest_loguniform('learning_rate', 1e-5, 1e-2)\n",
      "[I 2024-01-15 09:05:43,046] Trial 98 finished with value: 1.577129602432251 and parameters: {'num_layers': 1, 'hidden_size': 236, 'dropout': 0.031919678041917365, 'learning_rate': 0.0007887256887140635}. Best is trial 89 with value: 1.4865177869796753.\n",
      "/scratch/local/21219464/ipykernel_957191/3745016572.py:23: FutureWarning: suggest_loguniform has been deprecated in v3.0.0. This feature will be removed in v6.0.0. See https://github.com/optuna/optuna/releases/tag/v3.0.0. Use suggest_float(..., log=True) instead.\n",
      "  learning_rate = trial.suggest_loguniform('learning_rate', 1e-5, 1e-2)\n",
      "[I 2024-01-15 09:05:43,687] Trial 99 finished with value: 1.505590796470642 and parameters: {'num_layers': 5, 'hidden_size': 180, 'dropout': 0.06497202817982464, 'learning_rate': 0.0013354181973384382}. Best is trial 89 with value: 1.4865177869796753.\n"
     ]
    },
    {
     "name": "stdout",
     "output_type": "stream",
     "text": [
      "Best Trial:\n",
      "  Value: 1.4865\n",
      "  Params: \n",
      "    num_layers: 1\n",
      "    hidden_size: 209\n",
      "    dropout: 0.014914679886281\n",
      "    learning_rate: 0.0032528901484473434\n"
     ]
    }
   ],
   "source": [
    "import optuna\n",
    "import numpy as np\n",
    "import torch\n",
    "import torch.nn as nn\n",
    "import torch.optim as optim\n",
    "from sklearn.datasets import load_digits\n",
    "from sklearn.model_selection import train_test_split\n",
    "from sklearn.metrics import accuracy_score\n",
    "\n",
    "# Load the dataset (for demonstration, we'll use the digits dataset from scikit-learn)\n",
    "data = load_digits()\n",
    "X = data.data\n",
    "y = data.target\n",
    "\n",
    "# Split the data into train and validation sets\n",
    "X_train, X_val, y_train, y_val = train_test_split(X, y, test_size=0.2, random_state=42)\n",
    "\n",
    "def objective(trial):\n",
    "    # Define the hyperparameters to be optimized\n",
    "    num_layers = trial.suggest_int('num_layers', 1, 5)\n",
    "    hidden_size = trial.suggest_int('hidden_size', 32, 256)\n",
    "    dropout = trial.suggest_float('dropout', 0.0, 0.5)\n",
    "    learning_rate = trial.suggest_loguniform('learning_rate', 1e-5, 1e-2)\n",
    "    \n",
    "    # Define the neural network model\n",
    "    model = nn.Sequential()\n",
    "    model.add_module(\"input\", nn.Linear(X_train.shape[1], hidden_size))\n",
    "    model.add_module(\"activation\", nn.ReLU())\n",
    "    model.add_module(\"dropout\", nn.Dropout(dropout))\n",
    "    \n",
    "    for i in range(num_layers):\n",
    "        model.add_module(f\"hidden_layer_{i}\", nn.Linear(hidden_size, hidden_size))\n",
    "        model.add_module(f\"activation_{i}\", nn.ReLU())\n",
    "        model.add_module(f\"dropout_{i}\", nn.Dropout(dropout))\n",
    "    \n",
    "    model.add_module(\"output\", nn.Linear(hidden_size, 10))\n",
    "    model.add_module(\"softmax\", nn.Softmax(dim=1))\n",
    "    \n",
    "    # Define the optimizer and loss function\n",
    "    optimizer = optim.Adam(model.parameters(), lr=learning_rate)\n",
    "    criterion = nn.CrossEntropyLoss()\n",
    "    \n",
    "    # Training loop\n",
    "    num_epochs = 10\n",
    "    batch_size = 64\n",
    "    for epoch in range(num_epochs):\n",
    "        for i in range(0, len(X_train), batch_size):\n",
    "            inputs = torch.tensor(X_train[i:i+batch_size], dtype=torch.float32)\n",
    "            labels = torch.tensor(y_train[i:i+batch_size], dtype=torch.int64)\n",
    "            \n",
    "            optimizer.zero_grad()\n",
    "            outputs = model(inputs)\n",
    "            loss = criterion(outputs, labels)\n",
    "            loss.backward()\n",
    "            optimizer.step()\n",
    "    \n",
    "    # Validation\n",
    "    with torch.no_grad():\n",
    "        inputs = torch.tensor(X_val, dtype=torch.float32)\n",
    "        labels = torch.tensor(y_val, dtype=torch.int64)\n",
    "        outputs = model(inputs)\n",
    "        val_loss = criterion(outputs, labels)\n",
    "        accuracy = accuracy_score(y_val, np.argmax(outputs.numpy(), axis=1))\n",
    "    \n",
    "    return val_loss.item()\n",
    "\n",
    "# Create and run the Optuna study\n",
    "study = optuna.create_study(direction='minimize')\n",
    "study.optimize(objective, n_trials=100)\n",
    "\n",
    "# Print the best hyperparameters\n",
    "best_trial = study.best_trial\n",
    "print(\"Best Trial:\")\n",
    "print(f\"  Value: {best_trial.value:.4f}\")\n",
    "print(\"  Params: \")\n",
    "for key, value in best_trial.params.items():\n",
    "    print(f\"    {key}: {value}\")\n",
    "\n",
    "# You can then use the best hyperparameters to train your final model.\n"
   ]
  },
  {
   "cell_type": "code",
   "execution_count": null,
   "id": "cbd3ebae-8566-4614-8813-f74d90e9d273",
   "metadata": {},
   "outputs": [],
   "source": []
  }
 ],
 "metadata": {
  "kernelspec": {
   "display_name": "PyTorch-1.8.1",
   "language": "python",
   "name": "pytorch-1.8.1"
  },
  "language_info": {
   "codemirror_mode": {
    "name": "ipython",
    "version": 3
   },
   "file_extension": ".py",
   "mimetype": "text/x-python",
   "name": "python",
   "nbconvert_exporter": "python",
   "pygments_lexer": "ipython3",
   "version": "3.9.5"
  }
 },
 "nbformat": 4,
 "nbformat_minor": 5
}
