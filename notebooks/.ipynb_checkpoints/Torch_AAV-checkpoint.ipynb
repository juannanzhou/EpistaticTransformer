{
 "cells": [
  {
   "cell_type": "code",
   "execution_count": 1,
   "id": "e09c8b8b-c771-40df-b815-72e91851a579",
   "metadata": {
    "tags": []
   },
   "outputs": [],
   "source": [
    "## Standard libraries\n",
    "import os\n",
    "import numpy as np\n",
    "import math\n",
    "import json\n",
    "from functools import partial\n",
    "\n",
    "import random as rd\n",
    "\n",
    "import pandas as pd\n",
    "import numpy as np\n",
    "import matplotlib.pyplot as plt\n",
    "import torch\n",
    "import GPUtil\n",
    "import torch\n",
    "import torch.nn as nn\n",
    "import sys\n",
    "sys.path.append('../model')\n",
    "from utils import amino_acid_to_number, tokenize\n",
    "\n",
    "device = \"cuda:0\""
   ]
  },
  {
   "cell_type": "code",
   "execution_count": 2,
   "id": "5903e96c-68a1-4f61-a46f-d9dbeb500d5e",
   "metadata": {
    "tags": []
   },
   "outputs": [
    {
     "name": "stdout",
     "output_type": "stream",
     "text": [
      "| ID | GPU  | MEM |\n",
      "-------------------\n",
      "|  0 |   0% | 43% |\n",
      "|  1 | 100% | 90% |\n",
      "|  2 |  67% | 90% |\n",
      "|  3 |  99% | 90% |\n",
      "|  4 |  96% | 90% |\n",
      "|  5 |  66% | 90% |\n",
      "|  6 | 100% | 90% |\n",
      "|  7 |   0% | 76% |\n"
     ]
    }
   ],
   "source": [
    "def sgpu():\n",
    "    GPUtil.showUtilization()\n",
    "\n",
    "sgpu()"
   ]
  },
  {
   "cell_type": "code",
   "execution_count": 3,
   "id": "fca42876-cbb0-432c-a868-6a4436d4857f",
   "metadata": {
    "tags": []
   },
   "outputs": [],
   "source": [
    "import pandas as pd\n",
    "import numpy as np\n",
    "import matplotlib.pyplot as plt\n",
    "import torch\n",
    "import GPUtil\n",
    "import torch"
   ]
  },
  {
   "cell_type": "code",
   "execution_count": 4,
   "id": "568d6d7b-ec7c-426f-95ec-14ea1640f5b5",
   "metadata": {
    "tags": []
   },
   "outputs": [],
   "source": [
    "amino_acid_to_number = {'A': 0,\n",
    "     'R': 1,\n",
    "     'N': 2,\n",
    "     'D': 3,\n",
    "     'C': 4,\n",
    "     'E': 5,\n",
    "     'Q': 6,\n",
    "     'G': 7,\n",
    "     'H': 8,\n",
    "     'I': 9,\n",
    "     'L': 10,\n",
    "     'K': 11,\n",
    "     'M': 12,\n",
    "     'F': 13,\n",
    "     'P': 14,\n",
    "     'S': 15,\n",
    "     'T': 16,\n",
    "     'W': 17,\n",
    "     'Y': 18,\n",
    "     'V': 19, \n",
    "     '_': 20                  \n",
    "       }\n",
    "\n",
    "def tokenize(seq):\n",
    "    numeric_sequence = [amino_acid_to_number[aa] for aa in seq]\n",
    "    return numeric_sequence"
   ]
  },
  {
   "cell_type": "code",
   "execution_count": 5,
   "id": "6a5d374d-9c74-4772-a361-1aaba536f172",
   "metadata": {
    "tags": []
   },
   "outputs": [],
   "source": [
    "summary_files = pd.read_csv(\"../ProteinGym_substitutions/ProteinGym_reference_file_substitutions.csv\")\n",
    "\n",
    "summary_files = summary_files.set_index(\"DMS_id\")\n",
    "\n",
    "study_ids = [\"CAPSD_AAV2S_Sinai_substitutions_2021\", \"F7YBW8_MESOW_Aakre_2015\", \n",
    " \"GCN4_YEAST_Staller_induction_2018\", \"GFP_AEQVI_Sarkisyan_2016\", \"HIS7_YEAST_Pokusaeva_2019\"]\n",
    "\n",
    "ID = \"HIS7_YEAST_Pokusaeva_2019\"\n",
    "\n",
    "filename = summary_files.loc[ID].DMS_filename\n",
    "\n",
    "datafile = pd.read_csv(\"../ProteinGym_substitutions/\" + filename)"
   ]
  },
  {
   "cell_type": "code",
   "execution_count": 6,
   "id": "07410e6c-fd0e-4dd5-86e0-5eb10241f074",
   "metadata": {
    "tags": []
   },
   "outputs": [],
   "source": [
    "# Pokusaeva 2019\n",
    "path = \"../Data/HIS3InterspeciesEpistasis/Data/S5_scaled_info_v2.csv\"\n",
    "datafile = pd.read_csv(path, sep='\\t')\n",
    "new_column_names = {'aa_seq': 'mutated_sequence', 's_original': 'DMS_score'}\n",
    "datafile.rename(columns=new_column_names, inplace=True)"
   ]
  },
  {
   "cell_type": "code",
   "execution_count": 7,
   "id": "20a91e81-b914-41d7-860a-7ce3d7cbdeb9",
   "metadata": {
    "tags": []
   },
   "outputs": [
    {
     "data": {
      "text/plain": [
       "31    92408\n",
       "32     6444\n",
       "30      751\n",
       "29      145\n",
       "28       69\n",
       "33       43\n",
       "27       17\n",
       "34        3\n",
       "36        3\n",
       "25        2\n",
       "26        2\n",
       "24        2\n",
       "17        1\n",
       "23        1\n",
       "Name: length, dtype: int64"
      ]
     },
     "execution_count": 7,
     "metadata": {},
     "output_type": "execute_result"
    }
   ],
   "source": [
    "lens = np.array([len(seq) for seq in datafile.mutated_sequence])\n",
    "datafile['length'] = [len(seq) for seq in datafile.mutated_sequence]\n",
    "datafile.length.value_counts()"
   ]
  },
  {
   "cell_type": "code",
   "execution_count": 8,
   "id": "2399beef-9b5e-496a-b0cd-7f78b8b7c9de",
   "metadata": {
    "tags": []
   },
   "outputs": [],
   "source": [
    "datafile = datafile[datafile.length == 31]"
   ]
  },
  {
   "cell_type": "code",
   "execution_count": 9,
   "id": "28969599-c2cd-483b-8184-3f0552cf79a8",
   "metadata": {
    "tags": []
   },
   "outputs": [
    {
     "data": {
      "image/png": "[encoded data removed]",
      "text/plain": [
       "<Figure size 640x480 with 1 Axes>"
      ]
     },
     "metadata": {},
     "output_type": "display_data"
    }
   ],
   "source": [
    "# n_mutants = np.array([mutant.count(\":\") for mutant in datafile.mutant]) + 1\n",
    "# datafile['hd'] = n_mutants\n",
    "# plt.hist(n_mutants, bins=20)\n",
    "# plt.show()\n",
    "# print(f\"number of mutants HD>5 = {np.sum(n_mutants > 5)}\")\n",
    "\n",
    "# # Fitness vs. Hamming distance\n",
    "\n",
    "# plt.scatter(datafile['hd'], datafile['DMS_score'])\n",
    "# plt.show()\n",
    "\n",
    "plt.hist(datafile.DMS_score, bins=20)\n",
    "plt.show()"
   ]
  },
  {
   "cell_type": "code",
   "execution_count": 43,
   "id": "9abb2d6d-230b-457e-95ea-e175b57f48a5",
   "metadata": {
    "tags": []
   },
   "outputs": [],
   "source": [
    "seqs_tokenized = [tokenize(seq) for seq in datafile.mutated_sequence]\n",
    "seqs = torch.tensor(seqs_tokenized)\n",
    "\n",
    "L = len(seqs[0])\n",
    "AA_size = 21\n",
    "\n",
    "phenotypes = torch.tensor(list(datafile.DMS_score)).float()\n",
    "phenotypes = phenotypes.unsqueeze(1)"
   ]
  },
  {
   "cell_type": "code",
   "execution_count": 44,
   "id": "6623046a-7bd0-4638-93b5-5f4ff68b4536",
   "metadata": {
    "tags": []
   },
   "outputs": [],
   "source": [
    "seqs_df = pd.DataFrame(seqs.cpu().numpy())"
   ]
  },
  {
   "cell_type": "code",
   "execution_count": 45,
   "id": "fe3e0133-64d5-43a0-83f1-60f8fc422a0b",
   "metadata": {
    "tags": []
   },
   "outputs": [
    {
     "data": {
      "image/png": "[encoded data removed]",
      "text/plain": [
       "<Figure size 640x480 with 1 Axes>"
      ]
     },
     "metadata": {},
     "output_type": "display_data"
    }
   ],
   "source": [
    "# Find variable sites\n",
    "\n",
    "counts = {i: seqs_df[i].value_counts() for i in range(seqs_df.shape[1])}\n",
    "\n",
    "n_aas = [len(counts[i]) for i in range(len(counts))]\n",
    "sites_var = np.where(np.array(n_aas) != 1)\n",
    "\n",
    "plt.plot(n_aas)\n",
    "plt.show()"
   ]
  },
  {
   "cell_type": "code",
   "execution_count": 46,
   "id": "a588c920-e84a-478e-922f-543e6f58bbe4",
   "metadata": {
    "tags": []
   },
   "outputs": [],
   "source": [
    "seqs = seqs.cpu()\n",
    "seqs = seqs[:, sites_var].squeeze(1)\n",
    "L = seqs.shape[1]"
   ]
  },
  {
   "cell_type": "code",
   "execution_count": 47,
   "id": "7059fd4f-b481-4f80-863e-89e1182a44db",
   "metadata": {
    "tags": []
   },
   "outputs": [
    {
     "name": "stdout",
     "output_type": "stream",
     "text": [
      "torch.Size([92408, 31, 21])\n",
      "torch.Size([92408, 651])\n"
     ]
    }
   ],
   "source": [
    "from torch.nn.functional import one_hot\n",
    "\n",
    "seqs1h = one_hot(seqs)\n",
    "\n",
    "print(seqs1h.shape)\n",
    "\n",
    "seqs1hf = seqs1h.view(-1, L*21)\n",
    "\n",
    "print(seqs1hf.shape)"
   ]
  },
  {
   "cell_type": "code",
   "execution_count": 48,
   "id": "f3049391-213a-4f97-bf0b-14e180ae8d79",
   "metadata": {
    "tags": []
   },
   "outputs": [],
   "source": [
    "import torch\n",
    "import torch.utils.data as data\n",
    "\n",
    "class ProtDataset(data.Dataset):\n",
    "    def __init__(self, feats, labels, train=True):    \n",
    "        self.train = train\n",
    "        self.feats = feats\n",
    "        self.labels = labels\n",
    "    \n",
    "    def __len__(self):\n",
    "        return len(self.feats)\n",
    "    \n",
    "    def __getitem__(self, idx):\n",
    "        \n",
    "        X = self.feats[idx]\n",
    "        y = self.labels[idx]\n",
    "\n",
    "        return X, y"
   ]
  },
  {
   "cell_type": "code",
   "execution_count": 49,
   "id": "758919ee-e105-4ba0-bab8-5d34f836e2a9",
   "metadata": {
    "tags": []
   },
   "outputs": [],
   "source": [
    "seqs = seqs + AA_size*torch.tensor(range(L))\n",
    "\n",
    "X = seqs.to(device)\n",
    "y = phenotypes.to(device)\n",
    "\n",
    "num_train = int(.1*len(X))\n",
    "train_list = np.random.choice(len(X), num_train)\n",
    "comp_list = list(set(range(len(X))).difference(train_list))\n",
    "test_list = np.random.choice(comp_list, 1000)\n",
    "\n",
    "X_train, y_train = X[train_list], y[train_list]\n",
    "X_test, y_test = X[test_list], y[test_list]\n",
    "\n",
    "train_dataset = ProtDataset(X_train, y_train)\n",
    "train_loader = data.DataLoader(train_dataset,\n",
    "                               batch_size=100,\n",
    "                               shuffle=True,\n",
    "                               drop_last=False)"
   ]
  },
  {
   "cell_type": "markdown",
   "id": "bdb8456a-e4e1-4502-8f13-7208968e6738",
   "metadata": {},
   "source": [
    "### Fit transformer"
   ]
  },
  {
   "cell_type": "code",
   "execution_count": 80,
   "id": "2b687d7c-d7c1-4e81-b899-9d240bc3f12d",
   "metadata": {
    "tags": []
   },
   "outputs": [],
   "source": [
    "# This works!!\n",
    "import torch\n",
    "import torch.nn as nn\n",
    "import torch.optim as optim\n",
    "from torch.utils.data import DataLoader, TensorDataset\n",
    "import numpy as np\n",
    "\n",
    "\n",
    "import torch\n",
    "import torch.nn as nn\n",
    "\n",
    "class MultiHeadAttentionLayer(nn.Module):\n",
    "    def __init__(self, hidden_dim, num_heads):\n",
    "        super(MultiHeadAttentionLayer, self).__init__()\n",
    "        self.multihead_attn = nn.MultiheadAttention(hidden_dim, num_heads)\n",
    "        # self.multihead_attn = MultiheadAttention(hidden_dim, hidden_dim, num_heads)        \n",
    "        self.layer_norm = nn.LayerNorm(hidden_dim)\n",
    "        \n",
    "    def forward(self, x):\n",
    "        attn_output, _ = self.multihead_attn(x, x, x)\n",
    "        x = x + attn_output\n",
    "        # x = self.layer_norm(x + attn_output)\n",
    "        return x\n",
    "\n",
    "class CustomTransformer(nn.Module):\n",
    "    def __init__(self, input_dim, hidden_dim, num_layers, num_heads):\n",
    "        super(CustomTransformer, self).__init__()\n",
    "\n",
    "        self.embedding = nn.Embedding(input_dim, hidden_dim)\n",
    "        \n",
    "        self.transformer_layers = nn.ModuleList([\n",
    "            MultiHeadAttentionLayer(hidden_dim, num_heads) for _ in range(num_layers)\n",
    "        ])\n",
    "        self.fc = nn.Linear(hidden_dim, 1)\n",
    "        self.sigmoid_norm = nn.BatchNorm1d(1, affine=False)        \n",
    "        self.sigmoid = nn.Sigmoid()\n",
    "        self.sigmoid_scaling = nn.Linear(1, 1)\n",
    "\n",
    "    def forward(self, x):\n",
    "\n",
    "        x = self.embedding(x)\n",
    "        x = x.permute(1, 0, 2)  # seq_len x batch x hidden_dim\n",
    "        \n",
    "        for layer in self.transformer_layers:\n",
    "            x = layer(x)\n",
    "            \n",
    "        x = torch.mean(x, dim=0)  # batch x hidden_dim\n",
    "        x = self.fc(x)  # batch x 1 (scalar)\n",
    "        x = self.sigmoid_norm(x)\n",
    "#         mean = torch.mean(x)\n",
    "#         std = torch.std(x)\n",
    "#         x = (x - mean) / std\n",
    "\n",
    "        x = self.sigmoid(x)\n",
    "        x = self.sigmoid_scaling(x)\n",
    "\n",
    "        return x"
   ]
  },
  {
   "cell_type": "code",
   "execution_count": 81,
   "id": "26141155-0c6c-4945-91d3-f4eb7674bdcb",
   "metadata": {
    "tags": []
   },
   "outputs": [],
   "source": [
    "batch_size = 1000\n",
    "sequence_length = L\n",
    "input_dim = AA_size*L\n",
    "output_dim = 1\n",
    "hidden_dim = 128\n",
    "num_layers = 2\n",
    "num_heads = 4\n",
    "\n",
    "model = CustomTransformer(input_dim, hidden_dim, num_layers, num_heads).to(device)"
   ]
  },
  {
   "cell_type": "code",
   "execution_count": 82,
   "id": "687ab889-b577-48c9-bb7a-76302c199420",
   "metadata": {
    "tags": []
   },
   "outputs": [],
   "source": [
    "x, y = next(iter(train_loader))\n",
    "output = model(x)"
   ]
  },
  {
   "cell_type": "code",
   "execution_count": 83,
   "id": "7b272a1e-dba6-40d8-bf15-34f62b57a155",
   "metadata": {
    "tags": []
   },
   "outputs": [
    {
     "name": "stdout",
     "output_type": "stream",
     "text": [
      "Epoch 1/100, Loss: 1.0480580874668655\n",
      "0.4212773623946138\n",
      "Epoch 11/100, Loss: 0.18033310378430992\n",
      "0.7352754301892269\n",
      "Epoch 21/100, Loss: 0.13488521799445152\n",
      "0.7366746742970384\n",
      "Epoch 31/100, Loss: 0.09360741126921869\n",
      "0.7477562384977086\n",
      "Epoch 41/100, Loss: 0.05965789505631052\n",
      "0.7488574313002967\n",
      "Epoch 51/100, Loss: 0.03886647870944392\n",
      "0.7452916110697654\n",
      "Epoch 61/100, Loss: 0.03125759174606653\n",
      "0.7384455672857039\n"
     ]
    },
    {
     "ename": "KeyboardInterrupt",
     "evalue": "",
     "output_type": "error",
     "traceback": [
      "\u001b[0;31m---------------------------------------------------------------------------\u001b[0m",
      "\u001b[0;31mKeyboardInterrupt\u001b[0m                         Traceback (most recent call last)",
      "Cell \u001b[0;32mIn[83], line 14\u001b[0m\n\u001b[1;32m     12\u001b[0m outputs \u001b[38;5;241m=\u001b[39m model(batch_inputs)\n\u001b[1;32m     13\u001b[0m loss \u001b[38;5;241m=\u001b[39m criterion(outputs, batch_targets)\n\u001b[0;32m---> 14\u001b[0m \u001b[43mloss\u001b[49m\u001b[38;5;241;43m.\u001b[39;49m\u001b[43mbackward\u001b[49m\u001b[43m(\u001b[49m\u001b[43m)\u001b[49m\n\u001b[1;32m     15\u001b[0m optimizer\u001b[38;5;241m.\u001b[39mstep()\n\u001b[1;32m     16\u001b[0m total_loss \u001b[38;5;241m+\u001b[39m\u001b[38;5;241m=\u001b[39m loss\u001b[38;5;241m.\u001b[39mitem()\n",
      "File \u001b[0;32m/apps/pytorch/2.0.1/lib/python3.10/site-packages/torch/_tensor.py:487\u001b[0m, in \u001b[0;36mTensor.backward\u001b[0;34m(self, gradient, retain_graph, create_graph, inputs)\u001b[0m\n\u001b[1;32m    477\u001b[0m \u001b[38;5;28;01mif\u001b[39;00m has_torch_function_unary(\u001b[38;5;28mself\u001b[39m):\n\u001b[1;32m    478\u001b[0m     \u001b[38;5;28;01mreturn\u001b[39;00m handle_torch_function(\n\u001b[1;32m    479\u001b[0m         Tensor\u001b[38;5;241m.\u001b[39mbackward,\n\u001b[1;32m    480\u001b[0m         (\u001b[38;5;28mself\u001b[39m,),\n\u001b[0;32m   (...)\u001b[0m\n\u001b[1;32m    485\u001b[0m         inputs\u001b[38;5;241m=\u001b[39minputs,\n\u001b[1;32m    486\u001b[0m     )\n\u001b[0;32m--> 487\u001b[0m \u001b[43mtorch\u001b[49m\u001b[38;5;241;43m.\u001b[39;49m\u001b[43mautograd\u001b[49m\u001b[38;5;241;43m.\u001b[39;49m\u001b[43mbackward\u001b[49m\u001b[43m(\u001b[49m\n\u001b[1;32m    488\u001b[0m \u001b[43m    \u001b[49m\u001b[38;5;28;43mself\u001b[39;49m\u001b[43m,\u001b[49m\u001b[43m \u001b[49m\u001b[43mgradient\u001b[49m\u001b[43m,\u001b[49m\u001b[43m \u001b[49m\u001b[43mretain_graph\u001b[49m\u001b[43m,\u001b[49m\u001b[43m \u001b[49m\u001b[43mcreate_graph\u001b[49m\u001b[43m,\u001b[49m\u001b[43m \u001b[49m\u001b[43minputs\u001b[49m\u001b[38;5;241;43m=\u001b[39;49m\u001b[43minputs\u001b[49m\n\u001b[1;32m    489\u001b[0m \u001b[43m\u001b[49m\u001b[43m)\u001b[49m\n",
      "File \u001b[0;32m/apps/pytorch/2.0.1/lib/python3.10/site-packages/torch/autograd/__init__.py:200\u001b[0m, in \u001b[0;36mbackward\u001b[0;34m(tensors, grad_tensors, retain_graph, create_graph, grad_variables, inputs)\u001b[0m\n\u001b[1;32m    195\u001b[0m     retain_graph \u001b[38;5;241m=\u001b[39m create_graph\n\u001b[1;32m    197\u001b[0m \u001b[38;5;66;03m# The reason we repeat same the comment below is that\u001b[39;00m\n\u001b[1;32m    198\u001b[0m \u001b[38;5;66;03m# some Python versions print out the first line of a multi-line function\u001b[39;00m\n\u001b[1;32m    199\u001b[0m \u001b[38;5;66;03m# calls in the traceback and some print out the last line\u001b[39;00m\n\u001b[0;32m--> 200\u001b[0m \u001b[43mVariable\u001b[49m\u001b[38;5;241;43m.\u001b[39;49m\u001b[43m_execution_engine\u001b[49m\u001b[38;5;241;43m.\u001b[39;49m\u001b[43mrun_backward\u001b[49m\u001b[43m(\u001b[49m\u001b[43m  \u001b[49m\u001b[38;5;66;43;03m# Calls into the C++ engine to run the backward pass\u001b[39;49;00m\n\u001b[1;32m    201\u001b[0m \u001b[43m    \u001b[49m\u001b[43mtensors\u001b[49m\u001b[43m,\u001b[49m\u001b[43m \u001b[49m\u001b[43mgrad_tensors_\u001b[49m\u001b[43m,\u001b[49m\u001b[43m \u001b[49m\u001b[43mretain_graph\u001b[49m\u001b[43m,\u001b[49m\u001b[43m \u001b[49m\u001b[43mcreate_graph\u001b[49m\u001b[43m,\u001b[49m\u001b[43m \u001b[49m\u001b[43minputs\u001b[49m\u001b[43m,\u001b[49m\n\u001b[1;32m    202\u001b[0m \u001b[43m    \u001b[49m\u001b[43mallow_unreachable\u001b[49m\u001b[38;5;241;43m=\u001b[39;49m\u001b[38;5;28;43;01mTrue\u001b[39;49;00m\u001b[43m,\u001b[49m\u001b[43m \u001b[49m\u001b[43maccumulate_grad\u001b[49m\u001b[38;5;241;43m=\u001b[39;49m\u001b[38;5;28;43;01mTrue\u001b[39;49;00m\u001b[43m)\u001b[49m\n",
      "\u001b[0;31mKeyboardInterrupt\u001b[0m: "
     ]
    }
   ],
   "source": [
    "from scipy.stats import pearsonr\n",
    "learning_rate = 0.001\n",
    "epochs = 100\n",
    "\n",
    "criterion = nn.MSELoss()\n",
    "optimizer = optim.Adam(model.parameters(), lr=learning_rate)\n",
    "\n",
    "for epoch in range(epochs):\n",
    "    total_loss = 0\n",
    "    for batch_inputs, batch_targets in train_loader:\n",
    "        optimizer.zero_grad()\n",
    "        outputs = model(batch_inputs)\n",
    "        loss = criterion(outputs, batch_targets)\n",
    "        loss.backward()\n",
    "        optimizer.step()\n",
    "        total_loss += loss.item()\n",
    "    \n",
    "    if epoch % 10 == 0:\n",
    "        print(f\"Epoch {epoch+1}/{epochs}, Loss: {total_loss/len(train_loader)}\")\n",
    "        pred, true = model(X_test.flatten(1)).flatten().detach().cpu().numpy(), y_test.flatten().detach().cpu().numpy()\n",
    "        print(pearsonr(pred, true)[0]**2)\n"
   ]
  },
  {
   "cell_type": "code",
   "execution_count": 84,
   "id": "a0fdc96f-57c4-45f0-ad2b-bd5c959875e7",
   "metadata": {
    "tags": []
   },
   "outputs": [
    {
     "data": {
      "text/plain": [
       "<matplotlib.collections.PathCollection at 0x14f3ca472a10>"
      ]
     },
     "execution_count": 84,
     "metadata": {},
     "output_type": "execute_result"
    },
    {
     "data": {
      "image/png": "[encoded data removed]",
      "text/plain": [
       "<Figure size 640x480 with 1 Axes>"
      ]
     },
     "metadata": {},
     "output_type": "display_data"
    }
   ],
   "source": [
    "pred, true = model(X_test.flatten(1)).flatten().detach().cpu().numpy(), y_test.flatten().detach().cpu().numpy()\n",
    "plt.scatter(pred, true)"
   ]
  },
  {
   "cell_type": "code",
   "execution_count": null,
   "id": "8aa417bf-e8b7-4ffb-9004-9326e64196e5",
   "metadata": {},
   "outputs": [],
   "source": []
  }
 ],
 "metadata": {
  "kernelspec": {
   "display_name": "PyTorch-2.0.1",
   "language": "python",
   "name": "pytorch-2.0.1"
  },
  "language_info": {
   "codemirror_mode": {
    "name": "ipython",
    "version": 3
   },
   "file_extension": ".py",
   "mimetype": "text/x-python",
   "name": "python",
   "nbconvert_exporter": "python",
   "pygments_lexer": "ipython3",
   "version": "3.10.11"
  }
 },
 "nbformat": 4,
 "nbformat_minor": 5
}
