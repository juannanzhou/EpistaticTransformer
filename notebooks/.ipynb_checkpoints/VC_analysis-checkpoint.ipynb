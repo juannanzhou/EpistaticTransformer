{
 "cells": [
  {
   "cell_type": "markdown",
   "id": "42586022-c5c0-4e7a-b182-c623eb6243d1",
   "metadata": {
    "tags": []
   },
   "source": [
    "### Define functions "
   ]
  },
  {
   "cell_type": "code",
   "execution_count": 1,
   "id": "f610cadc-b4e3-4e14-ae49-6d2f10830a4a",
   "metadata": {
    "tags": []
   },
   "outputs": [],
   "source": [
    "import os\n",
    "import sys\n",
    "import shutil\n",
    "import csv\n",
    "import numpy as np\n",
    "import math\n",
    "import json\n",
    "from functools import partial\n",
    "import random as rd\n",
    "import pandas as pd\n",
    "import matplotlib.pyplot as plt\n",
    "# import GPUtil\n",
    "from scipy.stats import pearsonr\n",
    "# import optuna\n",
    "import torch\n",
    "import torch.nn as nn\n",
    "import torch.optim as optim\n",
    "import torch.utils.data as data\n",
    "sys.path.append('../model')\n",
    "from utils import amino_acid_to_number, tokenize, Tee\n",
    "from functions import get_A2N_list, tokenize, make_train_val_test_lists_rand, prepare_data\n",
    "from models import make_predictions, ProtDataset, Transformer_MHA, Transformer_2k\n",
    "from models import LinearModel"
   ]
  },
  {
   "cell_type": "code",
   "execution_count": 3,
   "id": "f94d5442-5e90-4f8d-a35b-49d6a4cab255",
   "metadata": {
    "tags": []
   },
   "outputs": [
    {
     "name": "stdout",
     "output_type": "stream",
     "text": [
      "| ID | GPU  | MEM |\n",
      "-------------------\n",
      "|  0 |   0% |  0% |\n",
      "|  1 |   0% |  5% |\n",
      "|  2 | 100% | 59% |\n",
      "|  3 |   0% |  0% |\n",
      "|  4 |   0% |  1% |\n",
      "|  5 |   0% | 49% |\n",
      "|  6 |   0% |  0% |\n",
      "|  7 |   0% | 86% |\n"
     ]
    }
   ],
   "source": [
    "import gc\n",
    "import torch\n",
    "gc.collect()\n",
    "torch.cuda.empty_cache()\n",
    "\n",
    "import GPUtil\n",
    "GPUtil.showUtilization()\n",
    "\n",
    "# torch.cuda.memory_allocated(device)"
   ]
  },
  {
   "cell_type": "code",
   "execution_count": 4,
   "id": "e510337f-5eeb-4770-8c46-fcbfc4852d29",
   "metadata": {
    "tags": []
   },
   "outputs": [],
   "source": [
    "device = torch.device('cuda:0')\n",
    "# device = 'cpu'\n",
    "data_name = \"Faure2023_1_lenient\"\n",
    "in_path = \"../Data/Data_prepared/\" + data_name + \".csv\"\n",
    "datafile = pd.read_csv(in_path, index_col=None)\n",
    "phenotypes, seqs, seqs1h = prepare_data(datafile)\n",
    "_, L, AA_size = seqs1h.shape"
   ]
  },
  {
   "cell_type": "code",
   "execution_count": 5,
   "id": "1ed13108-712b-4361-881a-d7852267164a",
   "metadata": {
    "tags": []
   },
   "outputs": [],
   "source": [
    "def add1(tensor):\n",
    "    return torch.cat((tensor, torch.ones(tensor.shape[0]).unsqueeze(1).to(tensor.device)), 1)\n",
    "\n",
    "def add0(tensor):\n",
    "    return torch.cat((tensor, torch.zeros(tensor.shape[0]).unsqueeze(1).to(tensor.device)), 1)"
   ]
  },
  {
   "cell_type": "code",
   "execution_count": 7,
   "id": "8ec3a828-619e-4aba-bc8b-02e17a5393b3",
   "metadata": {
    "tags": []
   },
   "outputs": [],
   "source": [
    "import gpytorch\n",
    "from gpytorch.constraints import Positive\n",
    "from scipy.special._basic import comb\n",
    "\n",
    "\n",
    "def binom(n, k):\n",
    "    \"\"\"Compute binomial coefficient using the log-gamma function for stability.\"\"\"\n",
    "    # Ensure n and k are tensors\n",
    "    n = torch.as_tensor(n, dtype=torch.float)\n",
    "    k = torch.as_tensor(k, dtype=torch.float)\n",
    "    return torch.exp(torch.lgamma(n + 1) - torch.lgamma(k + 1) - torch.lgamma(n - k + 1))\n",
    "\n",
    "def w(k, d, alpha, l):\n",
    "    total_sum = torch.zeros_like(d, dtype=torch.float)  # Initialize the sum as a tensor of zeros with the same shape as d\n",
    "    alpha = torch.as_tensor(alpha, dtype=torch.float)  # Ensure alpha is a tensor\n",
    "    l = torch.as_tensor(l, dtype=torch.float)  # Ensure l is a tensor\n",
    "    \n",
    "    for q in range(0, k + 1):\n",
    "        q_tensor = torch.full_like(d, q, dtype=torch.float)  # Convert q to a tensor of the same shape as d\n",
    "        # Compute the term for each q where q <= d\n",
    "        term = ((-1) ** q_tensor) * ((alpha - 1) ** (k - q_tensor)) * binom(d, q_tensor) * binom(l - d, k - q_tensor)\n",
    "        # Accumulate the sum\n",
    "        total_sum += term\n",
    "    return total_sum\n",
    "\n",
    "\n",
    "lda_decay = 6\n",
    "class EpKernel(gpytorch.kernels.Kernel):\n",
    "    # the sinc kernel is stationary\n",
    "    is_stationary = True\n",
    "\n",
    "    # We will register the parameter when initializing the kernel\n",
    "    def __init__(self, n_alleles, seq_length, d_max, k_max,\n",
    "                 constrain_lda=True,\n",
    "                 log_lambdas0=None, \n",
    "                 lda_prior=None,  **kwargs):\n",
    "        super().__init__(**kwargs)\n",
    "\n",
    "        self.alpha = n_alleles\n",
    "        self.l = seq_length\n",
    "        self.d_max = d_max\n",
    "        self.k_max = k_max\n",
    "        # register the raw parameter\n",
    "        self.register_parameter(\n",
    "            name='raw_lda', parameter=torch.nn.Parameter(lda_decay*torch.arange(1, k_max+1).float())\n",
    "        )\n",
    "        self.w_kd = self.calc_krawchouk_matrix()\n",
    "        # set the parameter constraint to be positive, when nothing is specified\n",
    "        self.constrain_lda = constrain_lda\n",
    "        \n",
    "        if constrain_lda is True:\n",
    "            lda_constraint = Positive()\n",
    "            self.register_constraint(\"raw_lda\", lda_constraint)\n",
    "\n",
    "        # register the constraint\n",
    "\n",
    "\n",
    "        # set the parameter prior, see\n",
    "        # https://docs.gpytorch.ai/en/latest/module.html#gpytorch.Module.register_prior\n",
    "        if lda_prior is not None:\n",
    "            self.register_prior(\n",
    "                \"lda_prior\",\n",
    "                lda_prior,\n",
    "                lambda m: m.lda,\n",
    "                lambda m, v : m._set_lda(v),\n",
    "            )\n",
    "    def calc_krawchouk_matrix(self):\n",
    "        d = torch.arange(self.d_max).reshape((self.d_max, 1, 1))\n",
    "        k = torch.arange(1, self.k_max + 1).reshape((1, self.k_max, 1))\n",
    "        q = torch.arange(self.k_max).reshape((1, 1, self.k_max))\n",
    "        w_kd = ((-1.)**q * (self.alpha-1.)**(k-q) * comb(d,q) * comb(self.l-d,k-q)).sum(-1) \n",
    "        return (w_kd.to(dtype=torch.float))\n",
    "    \n",
    "\n",
    "    # def get_w_d(self):\n",
    "    #     '''calculates the covariance for each hamming distance'''\n",
    "    #     lambdas = torch.exp(self.lda)\n",
    "    #     w_d = self.w_kd @ lambdas\n",
    "    #     return(w_d) # .reshape((1, 1, self.s))\n",
    "    \n",
    "    # now set up the 'actual' paramter\n",
    "    @property\n",
    "    def lda(self):\n",
    "        # when accessing the parameter, apply the constraint transform\n",
    "        if self.constrain_lda:\n",
    "            return -1*self.raw_lda_constraint.transform(self.raw_lda)\n",
    "        else: return -1*self.raw_lda\n",
    "\n",
    "    @lda.setter\n",
    "    def lda(self, value):\n",
    "        return self._set_lda(value)\n",
    "\n",
    "    def _set_lda(self, value):\n",
    "        if not torch.is_tensor(value):\n",
    "            value = torch.as_tensor(value).to(self.raw_lda)\n",
    "        # when setting the paramater, transform the actual value to a raw one by applying the inverse transform\n",
    "        self.initialize(raw_lda=self.raw_lda_constraint.inverse_transform(value))\n",
    "\n",
    "    # this is the kernel function\n",
    "    def forward(self, x1, x2, **params):\n",
    "        # w_d = self.get_w_d()\n",
    "        w_d = self.w_kd @ torch.exp(self.lda)\n",
    "        hamming_dist = (self.covar_dist(x1, x2)**2).round()/2\n",
    "        kernel = w_d[0] * (hamming_dist == 0)\n",
    "        for d in range(1, self.d_max):\n",
    "            kernel += w_d[d] * (hamming_dist == d)\n",
    "        return kernel\n",
    "\n",
    "    \n",
    "    def get_d(self, x1, x2, **params):\n",
    "        hamming_dist = (self.covar_dist(x1, x2)**2).round()/2\n",
    "        return hamming_dist"
   ]
  },
  {
   "cell_type": "code",
   "execution_count": 7,
   "id": "e80f8258-a2ae-4507-8ec8-37830d082ce5",
   "metadata": {
    "tags": []
   },
   "outputs": [],
   "source": [
    "# import gpytorch\n",
    "# from gpytorch.constraints import Positive\n",
    "# from scipy.special._basic import comb\n",
    "\n",
    "\n",
    "# def binom(n, k):\n",
    "#     \"\"\"Compute binomial coefficient using the log-gamma function for stability.\"\"\"\n",
    "#     # Ensure n and k are tensors\n",
    "#     n = torch.as_tensor(n, dtype=torch.float)\n",
    "#     k = torch.as_tensor(k, dtype=torch.float)\n",
    "#     return torch.exp(torch.lgamma(n + 1) - torch.lgamma(k + 1) - torch.lgamma(n - k + 1))\n",
    "\n",
    "# def w(k, d, alpha, l):\n",
    "#     total_sum = torch.zeros_like(d, dtype=torch.float)  # Initialize the sum as a tensor of zeros with the same shape as d\n",
    "#     alpha = torch.as_tensor(alpha, dtype=torch.float)  # Ensure alpha is a tensor\n",
    "#     l = torch.as_tensor(l, dtype=torch.float)  # Ensure l is a tensor\n",
    "    \n",
    "#     for q in range(0, k + 1):\n",
    "#         q_tensor = torch.full_like(d, q, dtype=torch.float)  # Convert q to a tensor of the same shape as d\n",
    "#         # Compute the term for each q where q <= d\n",
    "#         term = ((-1) ** q_tensor) * ((alpha - 1) ** (k - q_tensor)) * binom(d, q_tensor) * binom(l - d, k - q_tensor)\n",
    "#         # Accumulate the sum\n",
    "#         total_sum += term\n",
    "#     return total_sum\n",
    "\n",
    "\n",
    "# lda_decay = 6\n",
    "# class EpKernel(gpytorch.kernels.Kernel):\n",
    "#     # the sinc kernel is stationary\n",
    "#     is_stationary = True\n",
    "\n",
    "#     # We will register the parameter when initializing the kernel\n",
    "#     def __init__(self, n_alleles, seq_length, d_max, k_max,\n",
    "#                  constrain_lda=True,\n",
    "#                  log_lambdas0=None, \n",
    "#                  lda_prior=None,  **kwargs):\n",
    "#         super().__init__(**kwargs)\n",
    "\n",
    "#         self.alpha = n_alleles\n",
    "#         self.l = seq_length\n",
    "#         self.d_max = d_max\n",
    "#         self.k_max = k_max\n",
    "#         # register the raw parameter\n",
    "#         # self.register_parameter(\n",
    "#         #     name='raw_lda', parameter=torch.nn.Parameter(lda_decay*torch.arange(1, k_max+1).float())\n",
    "#         # )\n",
    "#         self.register_parameter(\n",
    "#             name='raw_c', parameter=torch.nn.Parameter(torch.tensor([6.]).float())\n",
    "#         )\n",
    "\n",
    "#         self.w_kd = self.calc_krawchouk_matrix()\n",
    "#         # set the parameter constraint to be positive, when nothing is specified\n",
    "        \n",
    "#         # if constrain_lda is True:\n",
    "#         #     lda_constraint = Positive()\n",
    "#         #     self.register_constraint(\"raw_lda\", lda_constraint)\n",
    "\n",
    "#         c_constraint = Positive()\n",
    "#         self.register_constraint(\"raw_c\", c_constraint)\n",
    "        \n",
    "\n",
    "#         # set the parameter prior, see\n",
    "#         # https://docs.gpytorch.ai/en/latest/module.html#gpytorch.Module.register_prior\n",
    "#         if lda_prior is not None:\n",
    "#             self.register_prior(\n",
    "#                 \"lda_prior\",\n",
    "#                 lda_prior,\n",
    "#                 lambda m: m.lda,\n",
    "#                 lambda m, v : m._set_lda(v),\n",
    "#             )\n",
    "#     def calc_krawchouk_matrix(self):\n",
    "#         d = torch.arange(self.d_max).reshape((self.d_max, 1, 1))\n",
    "#         k = torch.arange(1, self.k_max + 1).reshape((1, self.k_max, 1))\n",
    "#         q = torch.arange(self.k_max).reshape((1, 1, self.k_max))\n",
    "#         w_kd = ((-1.)**q * (self.alpha-1.)**(k-q) * comb(d,q) * comb(self.l-d,k-q)).sum(-1) \n",
    "#         return (w_kd.to(dtype=torch.float))\n",
    "    \n",
    "\n",
    "#     # def get_w_d(self):\n",
    "#     #     '''calculates the covariance for each hamming distance'''\n",
    "#     #     lambdas = torch.exp(self.lda)\n",
    "#     #     w_d = self.w_kd @ lambdas\n",
    "#     #     return(w_d) # .reshape((1, 1, self.s))\n",
    "    \n",
    "#     # now set up the 'actual' paramter\n",
    "#     @property\n",
    "#     def lda(self):\n",
    "#         c = self.raw_c_constraint.transform(self.raw_c)\n",
    "#         return -1*c*torch.arange(k_max).to(device)\n",
    "\n",
    "#     @lda.setter\n",
    "#     def lda(self, value):\n",
    "#         return self._set_lda(value)\n",
    "\n",
    "#     def _set_lda(self, value):\n",
    "#         if not torch.is_tensor(value):\n",
    "#             value = torch.as_tensor(value).to(self.raw_lda)\n",
    "#         # when setting the paramater, transform the actual value to a raw one by applying the inverse transform\n",
    "#         self.initialize(raw_lda=self.raw_lda_constraint.inverse_transform(value))\n",
    "\n",
    "#     # this is the kernel function\n",
    "#     def forward(self, x1, x2, **params):\n",
    "#         # w_d = self.get_w_d()\n",
    "#         w_d = self.w_kd @ torch.exp(self.lda)\n",
    "#         hamming_dist = (self.covar_dist(x1, x2)**2).round()/2\n",
    "#         kernel = w_d[0] * (hamming_dist == 0)\n",
    "#         for d in range(1, self.d_max):\n",
    "#             kernel += w_d[d] * (hamming_dist == d)\n",
    "#         return kernel\n",
    "\n",
    "    \n",
    "#     def get_d(self, x1, x2, **params):\n",
    "#         hamming_dist = (self.covar_dist(x1, x2)**2).round()/2\n",
    "#         return hamming_dist"
   ]
  },
  {
   "cell_type": "code",
   "execution_count": 8,
   "id": "a88c7c3c-0441-4682-88ed-fa81fcec814b",
   "metadata": {
    "tags": []
   },
   "outputs": [],
   "source": [
    "class alphaEpKernel(gpytorch.kernels.Kernel):\n",
    "    # the sinc kernel is stationary\n",
    "    is_stationary = True\n",
    "\n",
    "    # We will register the parameter when initializing the kernel\n",
    "    def __init__(self, n_alleles, seq_length, d_max, k_max,\n",
    "                 constrain_lda=True,\n",
    "                 log_lambdas0=None, \n",
    "                 lda_prior=None,  **kwargs):\n",
    "        super().__init__(**kwargs)\n",
    "\n",
    "        self.alpha = n_alleles\n",
    "        self.l = seq_length\n",
    "        self.d_max = d_max\n",
    "        self.k_max = k_max\n",
    "        # register the raw parameter\n",
    "        self.register_parameter(\n",
    "            name='raw_lda', parameter=torch.nn.Parameter(lda_decay*torch.arange(1, k_max+1).float())\n",
    "        )\n",
    "        self.w_kd = self.calc_krawchouk_matrix()\n",
    "        # set the parameter constraint to be positive, when nothing is specified\n",
    "        self.constrain_lda = constrain_lda\n",
    "        \n",
    "        if constrain_lda is True:\n",
    "            lda_constraint = Positive()\n",
    "            self.register_constraint(\"raw_lda\", lda_constraint)\n",
    "\n",
    "        # register the constraint\n",
    "\n",
    "\n",
    "        # set the parameter prior, see\n",
    "        # https://docs.gpytorch.ai/en/latest/module.html#gpytorch.Module.register_prior\n",
    "        if lda_prior is not None:\n",
    "            self.register_prior(\n",
    "                \"lda_prior\",\n",
    "                lda_prior,\n",
    "                lambda m: m.lda,\n",
    "                lambda m, v : m._set_lda(v),\n",
    "            )\n",
    "    def calc_krawchouk_matrix(self):\n",
    "        d = torch.arange(self.d_max).reshape((self.d_max, 1, 1))\n",
    "        k = torch.arange(1, self.k_max + 1).reshape((1, self.k_max, 1))\n",
    "        q = torch.arange(self.k_max).reshape((1, 1, self.k_max))\n",
    "        w_kd = ((-1.)**q * (self.alpha-1.)**(k-q) * comb(d,q) * comb(self.l-d,k-q)).sum(-1) \n",
    "        return (w_kd.to(dtype=torch.float))\n",
    "    \n",
    "\n",
    "    # def get_w_d(self):\n",
    "    #     '''calculates the covariance for each hamming distance'''\n",
    "    #     lambdas = torch.exp(self.lda)\n",
    "    #     w_d = self.w_kd @ lambdas\n",
    "    #     return(w_d) # .reshape((1, 1, self.s))\n",
    "    \n",
    "    # now set up the 'actual' paramter\n",
    "    @property\n",
    "    def lda(self):\n",
    "        # when accessing the parameter, apply the constraint transform\n",
    "        if self.constrain_lda:\n",
    "            return -1*self.raw_lda_constraint.transform(self.raw_lda)\n",
    "        else: return -1*self.raw_lda\n",
    "\n",
    "    @lda.setter\n",
    "    def lda(self, value):\n",
    "        return self._set_lda(value)\n",
    "\n",
    "    def _set_lda(self, value):\n",
    "        if not torch.is_tensor(value):\n",
    "            value = torch.as_tensor(value).to(self.raw_lda)\n",
    "        # when setting the paramater, transform the actual value to a raw one by applying the inverse transform\n",
    "        self.initialize(raw_lda=self.raw_lda_constraint.inverse_transform(value))\n",
    "\n",
    "    # this is the kernel function\n",
    "    def forward(self, x1, x2, **params):\n",
    "        x1_ = x1[:, :-1]\n",
    "        x2_ = x2[:, :-1]\n",
    "        v1 = x1[:, -1]\n",
    "        v2 = x2[:, -1]\n",
    "\n",
    "        if v2[0]==1. or v1[0]==1.:\n",
    "            print(\"Using Identity matrix as evaluate kernel\")\n",
    "            I = torch.eye(x1.shape[0], x2.shape[0]).to(x1.device)\n",
    "            return I\n",
    "        \n",
    "        else:\n",
    "            w_d = self.w_kd @ torch.exp(self.lda)\n",
    "            hamming_dist = (self.covar_dist(x1_, x2_)**2).round()/2\n",
    "            kernel = w_d[0] * (hamming_dist == 0)\n",
    "            for d in range(1, self.d_max):\n",
    "                kernel += w_d[d] * (hamming_dist == d)\n",
    "            return kernel\n",
    "\n",
    "    \n",
    "    def get_d(self, x1, x2, **params):\n",
    "        hamming_dist = (self.covar_dist(x1, x2)**2).round()/2\n",
    "        return hamming_dist"
   ]
  },
  {
   "cell_type": "code",
   "execution_count": 9,
   "id": "b79564a1-537a-4d42-a8dc-5e4f3de57ffd",
   "metadata": {
    "tags": []
   },
   "outputs": [],
   "source": [
    "class MargKernel(gpytorch.kernels.Kernel):\n",
    "    # the sinc kernel is stationary\n",
    "    is_stationary = True\n",
    "\n",
    "    # We will register the parameter when initializing the kernel\n",
    "    def __init__(self, n_alleles, seq_length,\n",
    "                 **kwargs):\n",
    "        super().__init__(**kwargs)\n",
    "        self.alpha = n_alleles\n",
    "        self.l = seq_length\n",
    "        self.d_max = d_max\n",
    "        self.k_max = k_max\n",
    "        self.w_d = torch.tensor([AA_size - 1, -1])\n",
    "\n",
    "    def forward(self, x1, x2, site, **params):\n",
    "        hamming_dist = (self.covar_dist(x1[:, site*AA_size:((site + 1)*AA_size)], \n",
    "                                        x2[:, site*AA_size:((site + 1)*AA_size)])**2).round()/2\n",
    "        \n",
    "        kernel = -1*torch.ones(*hamming_dist.shape).to(hamming_dist.device)\n",
    "        kernel += AA_size * (hamming_dist == 0)\n",
    "        \n",
    "        return kernel"
   ]
  },
  {
   "cell_type": "code",
   "execution_count": 10,
   "id": "df2cc57f-9250-48a9-9109-c2469dfaedbc",
   "metadata": {
    "tags": []
   },
   "outputs": [],
   "source": [
    "d_max = L\n",
    "k_max = 8\n",
    "# Use the simplest form of GP model, exact inference\n",
    "lda_prior_cov = (1 / torch.exp(torch.arange(k_max))*torch.eye(k_max)).to(device)\n",
    "class EpModel(gpytorch.models.ExactGP):\n",
    "    def __init__(self, train_x, train_y, likelihood, get_alpha=False):\n",
    "        super().__init__(train_x, train_y, likelihood)\n",
    "        self.mean_module = gpytorch.means.ConstantMean()\n",
    "        \n",
    "        if get_alpha: \n",
    "            self.covar_module = alphaEpKernel(AA_size, L, d_max, k_max)\n",
    "        else: \n",
    "            self.covar_module = EpKernel(AA_size, L, d_max, k_max)\n",
    "\n",
    "    def forward(self, x):\n",
    "        mean_x = self.mean_module(x)\n",
    "        covar_x = self.covar_module(x)\n",
    "        return gpytorch.distributions.MultivariateNormal(mean_x, covar_x)"
   ]
  },
  {
   "cell_type": "code",
   "execution_count": 11,
   "id": "5ce7d9cb-302c-4f64-977f-0aa0b3e23635",
   "metadata": {
    "tags": []
   },
   "outputs": [],
   "source": [
    "# import importlib\n",
    "# import kernels\n",
    "# importlib.reload(kernels)"
   ]
  },
  {
   "cell_type": "code",
   "execution_count": 12,
   "id": "2692c0af-a977-4e63-932a-8d819d408a6d",
   "metadata": {
    "tags": []
   },
   "outputs": [],
   "source": [
    "# data for Transformer model prediction\n",
    "\n",
    "seqs_ex = seqs + AA_size*torch.tensor(range(L))\n",
    "X = seqs_ex.to(device)\n",
    "y = phenotypes.to(device)\n",
    "\n",
    "\n",
    "eval_dataset = ProtDataset(X, y)\n",
    "eval_loader = data.DataLoader(eval_dataset,\n",
    "                               batch_size=1000,\n",
    "                               shuffle=False,\n",
    "                               drop_last=False)"
   ]
  },
  {
   "cell_type": "markdown",
   "id": "4edfb8a9-36ba-4a6e-8c71-dbbfbaba74f5",
   "metadata": {
    "tags": []
   },
   "source": [
    "### Make model phi predictions"
   ]
  },
  {
   "cell_type": "code",
   "execution_count": 225,
   "id": "70447dce-8552-479f-8564-2e26d016293f",
   "metadata": {
    "tags": []
   },
   "outputs": [],
   "source": [
    "model_path = \"/blue/juannanzhou/palash.sethi/Projects/ProteinLLE/output/Faure2023_1_lenient_80.0%_rep_0/\"\n",
    "# model_path = \"/blue/juannanzhou/palash.sethi/Projects/ProteinLLE/output/Faure2023_1_lenient_50.0%_rep_0/\"\n",
    "\n",
    "model_name = \"TF_3_BestModel\"\n",
    "\n",
    "model = torch.load(model_path + model_name, map_location=device)\n",
    "\n",
    "import importlib\n",
    "import models\n",
    "importlib.reload(models)\n",
    "from models import make_predictions_eval\n",
    "\n",
    "model.eval()\n",
    "dataloader = eval_loader\n",
    "pred, true = [], []\n",
    "for batch_inputs, batch_targets in dataloader:\n",
    "    output = model.forward(batch_inputs, pre_linear_output=True)\n",
    "    target = batch_targets\n",
    "    pred.append(output)\n",
    "    true.append(target)\n",
    "pred = torch.concat(pred)\n",
    "pred = pred.flatten().cpu().detach().numpy()\n",
    "true = torch.concat(true).flatten().cpu().detach().numpy()\n",
    "\n",
    "torch.save(pred, \"preds.pt\")"
   ]
  },
  {
   "cell_type": "code",
   "execution_count": 74,
   "id": "c8d2df37-e428-4bc1-ba7d-c1b6ab235062",
   "metadata": {
    "tags": []
   },
   "outputs": [],
   "source": [
    "# pred = torch.load(\"preds.pt\")"
   ]
  },
  {
   "cell_type": "markdown",
   "id": "65334c5a-e7e7-4749-8971-0e1007a89d06",
   "metadata": {
    "tags": []
   },
   "source": [
    "### GP train val split"
   ]
  },
  {
   "cell_type": "code",
   "execution_count": 226,
   "id": "0642fcee-562e-4229-ab04-6d60cdcf3805",
   "metadata": {
    "tags": []
   },
   "outputs": [],
   "source": [
    "import random\n",
    "\n",
    "random.seed(20)\n",
    "sub_list = random.sample(range(len(datafile)), 20000)\n",
    "# sub_list = random.sample(list(np.where(datafile.hd < 5)[0]), 20000)\n",
    "\n",
    "train_list = random.sample(sub_list, int(.5*len(sub_list)))\n",
    "\n",
    "val_list = set(sub_list).difference(set(train_list))\n",
    "val_list = list(val_list)"
   ]
  },
  {
   "cell_type": "code",
   "execution_count": 227,
   "id": "af8689a7-eacf-4e15-bb7b-8acdf5b1be3b",
   "metadata": {
    "tags": []
   },
   "outputs": [],
   "source": [
    "train_x = seqs1h[train_list].float().flatten(1)\n",
    "train_y = torch.tensor(pred[train_list]).flatten()\n",
    "# train_y = torch.tensor(true[train_list]).flatten()\n",
    "\n",
    "train_x = train_x.cuda()\n",
    "train_y = train_y.cuda()\n",
    "train_y = train_y.flatten()\n",
    "\n",
    "val_x = seqs1h[val_list].float().flatten(1)\n",
    "val_y = torch.tensor(pred[val_list]).flatten()\n",
    "\n",
    "val_x = val_x.cuda()\n",
    "val_y = val_y.cuda()"
   ]
  },
  {
   "cell_type": "markdown",
   "id": "460fe5f0-6215-4cc0-a8cc-a893362833b2",
   "metadata": {
    "tags": []
   },
   "source": [
    "### Train hyperparameters"
   ]
  },
  {
   "cell_type": "markdown",
   "id": "3bf4be9f-d189-4b53-978a-538af3471200",
   "metadata": {
    "jp-MarkdownHeadingCollapsed": true,
    "tags": []
   },
   "source": [
    "#### Evidence"
   ]
  },
  {
   "cell_type": "code",
   "execution_count": 81,
   "id": "5c382245-f717-42b0-9b94-37358469edc7",
   "metadata": {
    "tags": []
   },
   "outputs": [],
   "source": [
    "lda_decay = 6"
   ]
  },
  {
   "cell_type": "code",
   "execution_count": 82,
   "id": "8f1b502a-2b8c-4a76-a744-03cea01f03ea",
   "metadata": {
    "tags": []
   },
   "outputs": [],
   "source": [
    "d_max = L\n",
    "k_max = 4\n",
    "\n",
    "likelihood = gpytorch.likelihoods.GaussianLikelihood().cuda()\n",
    "model = EpModel(train_x, train_y, likelihood).cuda()\n",
    "model.covar_module.w_kd = model.covar_module.w_kd.to(device)\n",
    "mll = gpytorch.mlls.ExactMarginalLogLikelihood(likelihood, model)"
   ]
  },
  {
   "cell_type": "code",
   "execution_count": 83,
   "id": "39d275c2-12fb-4fa3-ad22-3cbfe1293b5e",
   "metadata": {
    "tags": []
   },
   "outputs": [],
   "source": [
    "import torch\n",
    "\n",
    "def second_order_differences_matrix(n):\n",
    "    # Create a diagonal matrix with the main diagonal set to 1\n",
    "    main_diag = torch.ones(n)\n",
    "    diagonal_matrix = torch.diag(main_diag)\n",
    "\n",
    "    # Create a matrix with -2 on the main diagonal shifted to the right by 1\n",
    "    diag_minus_two = torch.ones(n - 1) * -2\n",
    "    minus_two_matrix = torch.diag(diag_minus_two, diagonal=1)\n",
    "\n",
    "    # Create a matrix with 1 on the main diagonal shifted to the right by 2\n",
    "    diag_one = torch.ones(n - 2)\n",
    "    plus_one_matrix = torch.diag(diag_one, diagonal=2)\n",
    "\n",
    "    # Concatenate the matrices\n",
    "    second_order_diff_matrix = diagonal_matrix + minus_two_matrix + plus_one_matrix\n",
    "\n",
    "    return second_order_diff_matrix"
   ]
  },
  {
   "cell_type": "code",
   "execution_count": 84,
   "id": "51faed45-eb72-4140-84ba-29a696777016",
   "metadata": {
    "tags": []
   },
   "outputs": [],
   "source": [
    "# # test forward backward pass\n",
    "# output = model(train_x)\n",
    "# # Calc loss and backprop gradients\n",
    "# loss = -mll(output, train_y)\n",
    "# loss.backward()\n",
    "\n",
    "# print(loss.item())"
   ]
  },
  {
   "cell_type": "code",
   "execution_count": 85,
   "id": "c65a525c-0768-4359-bcc6-a08ae3d44ad9",
   "metadata": {
    "tags": []
   },
   "outputs": [
    {
     "name": "stdout",
     "output_type": "stream",
     "text": [
      "loss = 120200.3046875\n",
      "loss = 104037.7734375\n",
      "loss = 91011.71875\n",
      "loss = 80651.71875\n",
      "loss = 72406.6953125\n",
      "loss = 65771.75\n",
      "loss = 60341.46875\n",
      "loss = 55812.1328125\n",
      "loss = 51962.5859375\n",
      "loss = 48632.80859375\n",
      "loss = 45706.01953125\n",
      "loss = 43096.0625\n",
      "loss = 40738.92578125\n",
      "loss = 38586.94921875\n",
      "loss = 36604.99609375\n",
      "loss = 34767.52734375\n",
      "loss = 33055.9375\n",
      "loss = 31455.966796875\n",
      "loss = 29953.56640625\n",
      "loss = 28531.916015625\n",
      "loss = 27164.150390625\n",
      "loss = 25809.115234375\n",
      "loss = 24405.166015625\n",
      "loss = 22872.89453125\n",
      "loss = 21136.240234375\n",
      "loss = 19164.443359375\n",
      "loss = 17020.5234375\n",
      "loss = 14857.2587890625\n",
      "loss = 12849.93359375\n",
      "loss = 11115.166015625\n",
      "loss = 9693.5673828125\n",
      "loss = 8561.0498046875\n",
      "loss = 7666.68359375\n",
      "loss = 6959.11279296875\n",
      "loss = 6390.35498046875\n",
      "loss = 5923.11181640625\n",
      "loss = 5550.20654296875\n",
      "loss = 5206.28466796875\n",
      "loss = 4904.72216796875\n",
      "loss = 4634.6025390625\n",
      "loss = 4374.9677734375\n",
      "loss = 4185.9013671875\n",
      "loss = 4007.125\n",
      "loss = 3799.191162109375\n",
      "loss = 3599.175048828125\n",
      "loss = 3418.069580078125\n",
      "loss = 3319.5576171875\n",
      "loss = 3244.75439453125\n",
      "loss = 3170.068115234375\n",
      "loss = 3106.82080078125\n",
      "loss = 3143.72412109375\n",
      "loss = 3045.221435546875\n",
      "loss = 2993.684814453125\n",
      "loss = 2960.316650390625\n",
      "loss = 2920.56201171875\n",
      "loss = 2839.983642578125\n",
      "loss = 2868.267333984375\n",
      "loss = 2810.867431640625\n",
      "loss = 2765.0556640625\n",
      "loss = 2675.968994140625\n",
      "loss = 2667.815185546875\n",
      "loss = 2669.80029296875\n",
      "loss = 2630.97216796875\n",
      "loss = 2545.219970703125\n",
      "loss = 2509.832763671875\n",
      "loss = 2511.4619140625\n",
      "loss = 2491.94921875\n",
      "loss = 2461.914306640625\n",
      "loss = 2422.682373046875\n",
      "loss = 2377.03662109375\n",
      "loss = 2401.729248046875\n",
      "loss = 2355.591796875\n",
      "loss = 2316.94775390625\n",
      "loss = 2272.132568359375\n",
      "loss = 2236.100830078125\n",
      "loss = 2275.991455078125\n",
      "loss = 2221.38232421875\n",
      "loss = 2184.736083984375\n",
      "loss = 2216.371826171875\n",
      "loss = 2185.474609375\n",
      "loss = 2230.23193359375\n",
      "loss = 2167.13232421875\n",
      "loss = 2157.873779296875\n",
      "loss = 2117.08154296875\n",
      "loss = 2101.48779296875\n",
      "loss = 2131.988525390625\n"
     ]
    },
    {
     "ename": "KeyboardInterrupt",
     "evalue": "",
     "output_type": "error",
     "traceback": [
      "\u001b[0;31m---------------------------------------------------------------------------\u001b[0m",
      "\u001b[0;31mKeyboardInterrupt\u001b[0m                         Traceback (most recent call last)",
      "Cell \u001b[0;32mIn[85], line 13\u001b[0m\n\u001b[1;32m     11\u001b[0m output \u001b[38;5;241m=\u001b[39m model(train_x)\n\u001b[1;32m     12\u001b[0m \u001b[38;5;66;03m# Calc loss and backprop gradients\u001b[39;00m\n\u001b[0;32m---> 13\u001b[0m loss \u001b[38;5;241m=\u001b[39m \u001b[38;5;241m-\u001b[39m\u001b[43mmll\u001b[49m\u001b[43m(\u001b[49m\u001b[43moutput\u001b[49m\u001b[43m,\u001b[49m\u001b[43m \u001b[49m\u001b[43mtrain_y\u001b[49m\u001b[43m)\u001b[49m \n\u001b[1;32m     14\u001b[0m \u001b[38;5;66;03m# + torch.norm(Delta2.matmul(model.covar_module.lda)[:6])\u001b[39;00m\n\u001b[1;32m     15\u001b[0m loss\u001b[38;5;241m.\u001b[39mbackward()\n",
      "File \u001b[0;32m~/.local/lib/python3.10/site-packages/gpytorch/module.py:31\u001b[0m, in \u001b[0;36mModule.__call__\u001b[0;34m(self, *inputs, **kwargs)\u001b[0m\n\u001b[1;32m     30\u001b[0m \u001b[38;5;28;01mdef\u001b[39;00m \u001b[38;5;21m__call__\u001b[39m(\u001b[38;5;28mself\u001b[39m, \u001b[38;5;241m*\u001b[39minputs, \u001b[38;5;241m*\u001b[39m\u001b[38;5;241m*\u001b[39mkwargs) \u001b[38;5;241m-\u001b[39m\u001b[38;5;241m>\u001b[39m Union[Tensor, Distribution, LinearOperator]:\n\u001b[0;32m---> 31\u001b[0m     outputs \u001b[38;5;241m=\u001b[39m \u001b[38;5;28;43mself\u001b[39;49m\u001b[38;5;241;43m.\u001b[39;49m\u001b[43mforward\u001b[49m\u001b[43m(\u001b[49m\u001b[38;5;241;43m*\u001b[39;49m\u001b[43minputs\u001b[49m\u001b[43m,\u001b[49m\u001b[43m \u001b[49m\u001b[38;5;241;43m*\u001b[39;49m\u001b[38;5;241;43m*\u001b[39;49m\u001b[43mkwargs\u001b[49m\u001b[43m)\u001b[49m\n\u001b[1;32m     32\u001b[0m     \u001b[38;5;28;01mif\u001b[39;00m \u001b[38;5;28misinstance\u001b[39m(outputs, \u001b[38;5;28mlist\u001b[39m):\n\u001b[1;32m     33\u001b[0m         \u001b[38;5;28;01mreturn\u001b[39;00m [_validate_module_outputs(output) \u001b[38;5;28;01mfor\u001b[39;00m output \u001b[38;5;129;01min\u001b[39;00m outputs]\n",
      "File \u001b[0;32m~/.local/lib/python3.10/site-packages/gpytorch/mlls/exact_marginal_log_likelihood.py:64\u001b[0m, in \u001b[0;36mExactMarginalLogLikelihood.forward\u001b[0;34m(self, function_dist, target, *params)\u001b[0m\n\u001b[1;32m     62\u001b[0m \u001b[38;5;66;03m# Get the log prob of the marginal distribution\u001b[39;00m\n\u001b[1;32m     63\u001b[0m output \u001b[38;5;241m=\u001b[39m \u001b[38;5;28mself\u001b[39m\u001b[38;5;241m.\u001b[39mlikelihood(function_dist, \u001b[38;5;241m*\u001b[39mparams)\n\u001b[0;32m---> 64\u001b[0m res \u001b[38;5;241m=\u001b[39m \u001b[43moutput\u001b[49m\u001b[38;5;241;43m.\u001b[39;49m\u001b[43mlog_prob\u001b[49m\u001b[43m(\u001b[49m\u001b[43mtarget\u001b[49m\u001b[43m)\u001b[49m\n\u001b[1;32m     65\u001b[0m res \u001b[38;5;241m=\u001b[39m \u001b[38;5;28mself\u001b[39m\u001b[38;5;241m.\u001b[39m_add_other_terms(res, params)\n\u001b[1;32m     67\u001b[0m \u001b[38;5;66;03m# Scale by the amount of data we have\u001b[39;00m\n",
      "File \u001b[0;32m~/.local/lib/python3.10/site-packages/gpytorch/distributions/multivariate_normal.py:193\u001b[0m, in \u001b[0;36mMultivariateNormal.log_prob\u001b[0;34m(self, value)\u001b[0m\n\u001b[1;32m    191\u001b[0m \u001b[38;5;66;03m# Get log determininant and first part of quadratic form\u001b[39;00m\n\u001b[1;32m    192\u001b[0m covar \u001b[38;5;241m=\u001b[39m covar\u001b[38;5;241m.\u001b[39mevaluate_kernel()\n\u001b[0;32m--> 193\u001b[0m inv_quad, logdet \u001b[38;5;241m=\u001b[39m \u001b[43mcovar\u001b[49m\u001b[38;5;241;43m.\u001b[39;49m\u001b[43minv_quad_logdet\u001b[49m\u001b[43m(\u001b[49m\u001b[43minv_quad_rhs\u001b[49m\u001b[38;5;241;43m=\u001b[39;49m\u001b[43mdiff\u001b[49m\u001b[38;5;241;43m.\u001b[39;49m\u001b[43munsqueeze\u001b[49m\u001b[43m(\u001b[49m\u001b[38;5;241;43m-\u001b[39;49m\u001b[38;5;241;43m1\u001b[39;49m\u001b[43m)\u001b[49m\u001b[43m,\u001b[49m\u001b[43m \u001b[49m\u001b[43mlogdet\u001b[49m\u001b[38;5;241;43m=\u001b[39;49m\u001b[38;5;28;43;01mTrue\u001b[39;49;00m\u001b[43m)\u001b[49m\n\u001b[1;32m    195\u001b[0m res \u001b[38;5;241m=\u001b[39m \u001b[38;5;241m-\u001b[39m\u001b[38;5;241m0.5\u001b[39m \u001b[38;5;241m*\u001b[39m \u001b[38;5;28msum\u001b[39m([inv_quad, logdet, diff\u001b[38;5;241m.\u001b[39msize(\u001b[38;5;241m-\u001b[39m\u001b[38;5;241m1\u001b[39m) \u001b[38;5;241m*\u001b[39m math\u001b[38;5;241m.\u001b[39mlog(\u001b[38;5;241m2\u001b[39m \u001b[38;5;241m*\u001b[39m math\u001b[38;5;241m.\u001b[39mpi)])\n\u001b[1;32m    196\u001b[0m \u001b[38;5;28;01mreturn\u001b[39;00m res\n",
      "File \u001b[0;32m~/.local/lib/python3.10/site-packages/linear_operator/operators/_linear_operator.py:1764\u001b[0m, in \u001b[0;36mLinearOperator.inv_quad_logdet\u001b[0;34m(self, inv_quad_rhs, logdet, reduce_inv_quad)\u001b[0m\n\u001b[1;32m   1761\u001b[0m probe_vectors, probe_vector_norms \u001b[38;5;241m=\u001b[39m \u001b[38;5;28mself\u001b[39m\u001b[38;5;241m.\u001b[39m_probe_vectors_and_norms()\n\u001b[1;32m   1763\u001b[0m func \u001b[38;5;241m=\u001b[39m InvQuadLogdet\u001b[38;5;241m.\u001b[39mapply\n\u001b[0;32m-> 1764\u001b[0m inv_quad_term, pinvk_logdet \u001b[38;5;241m=\u001b[39m \u001b[43mfunc\u001b[49m\u001b[43m(\u001b[49m\n\u001b[1;32m   1765\u001b[0m \u001b[43m    \u001b[49m\u001b[38;5;28;43mself\u001b[39;49m\u001b[38;5;241;43m.\u001b[39;49m\u001b[43mrepresentation_tree\u001b[49m\u001b[43m(\u001b[49m\u001b[43m)\u001b[49m\u001b[43m,\u001b[49m\n\u001b[1;32m   1766\u001b[0m \u001b[43m    \u001b[49m\u001b[43mprecond_lt\u001b[49m\u001b[38;5;241;43m.\u001b[39;49m\u001b[43mrepresentation_tree\u001b[49m\u001b[43m(\u001b[49m\u001b[43m)\u001b[49m\u001b[43m,\u001b[49m\n\u001b[1;32m   1767\u001b[0m \u001b[43m    \u001b[49m\u001b[43mpreconditioner\u001b[49m\u001b[43m,\u001b[49m\n\u001b[1;32m   1768\u001b[0m \u001b[43m    \u001b[49m\u001b[38;5;28;43mlen\u001b[39;49m\u001b[43m(\u001b[49m\u001b[43mprecond_args\u001b[49m\u001b[43m)\u001b[49m\u001b[43m,\u001b[49m\n\u001b[1;32m   1769\u001b[0m \u001b[43m    \u001b[49m\u001b[43m(\u001b[49m\u001b[43minv_quad_rhs\u001b[49m\u001b[43m \u001b[49m\u001b[38;5;129;43;01mis\u001b[39;49;00m\u001b[43m \u001b[49m\u001b[38;5;129;43;01mnot\u001b[39;49;00m\u001b[43m \u001b[49m\u001b[38;5;28;43;01mNone\u001b[39;49;00m\u001b[43m)\u001b[49m\u001b[43m,\u001b[49m\n\u001b[1;32m   1770\u001b[0m \u001b[43m    \u001b[49m\u001b[43mprobe_vectors\u001b[49m\u001b[43m,\u001b[49m\n\u001b[1;32m   1771\u001b[0m \u001b[43m    \u001b[49m\u001b[43mprobe_vector_norms\u001b[49m\u001b[43m,\u001b[49m\n\u001b[1;32m   1772\u001b[0m \u001b[43m    \u001b[49m\u001b[38;5;241;43m*\u001b[39;49m\u001b[43m(\u001b[49m\u001b[38;5;28;43mlist\u001b[39;49m\u001b[43m(\u001b[49m\u001b[43margs\u001b[49m\u001b[43m)\u001b[49m\u001b[43m \u001b[49m\u001b[38;5;241;43m+\u001b[39;49m\u001b[43m \u001b[49m\u001b[38;5;28;43mlist\u001b[39;49m\u001b[43m(\u001b[49m\u001b[43mprecond_args\u001b[49m\u001b[43m)\u001b[49m\u001b[43m)\u001b[49m\u001b[43m,\u001b[49m\n\u001b[1;32m   1773\u001b[0m \u001b[43m\u001b[49m\u001b[43m)\u001b[49m\n\u001b[1;32m   1774\u001b[0m logdet_term \u001b[38;5;241m=\u001b[39m pinvk_logdet\n\u001b[1;32m   1775\u001b[0m logdet_term \u001b[38;5;241m=\u001b[39m logdet_term \u001b[38;5;241m+\u001b[39m logdet_p\n",
      "File \u001b[0;32m/apps/pytorch/2.2.0/lib/python3.10/site-packages/torch/autograd/function.py:553\u001b[0m, in \u001b[0;36mFunction.apply\u001b[0;34m(cls, *args, **kwargs)\u001b[0m\n\u001b[1;32m    550\u001b[0m \u001b[38;5;28;01mif\u001b[39;00m \u001b[38;5;129;01mnot\u001b[39;00m torch\u001b[38;5;241m.\u001b[39m_C\u001b[38;5;241m.\u001b[39m_are_functorch_transforms_active():\n\u001b[1;32m    551\u001b[0m     \u001b[38;5;66;03m# See NOTE: [functorch vjp and autograd interaction]\u001b[39;00m\n\u001b[1;32m    552\u001b[0m     args \u001b[38;5;241m=\u001b[39m _functorch\u001b[38;5;241m.\u001b[39mutils\u001b[38;5;241m.\u001b[39munwrap_dead_wrappers(args)\n\u001b[0;32m--> 553\u001b[0m     \u001b[38;5;28;01mreturn\u001b[39;00m \u001b[38;5;28;43msuper\u001b[39;49m\u001b[43m(\u001b[49m\u001b[43m)\u001b[49m\u001b[38;5;241;43m.\u001b[39;49m\u001b[43mapply\u001b[49m\u001b[43m(\u001b[49m\u001b[38;5;241;43m*\u001b[39;49m\u001b[43margs\u001b[49m\u001b[43m,\u001b[49m\u001b[43m \u001b[49m\u001b[38;5;241;43m*\u001b[39;49m\u001b[38;5;241;43m*\u001b[39;49m\u001b[43mkwargs\u001b[49m\u001b[43m)\u001b[49m  \u001b[38;5;66;03m# type: ignore[misc]\u001b[39;00m\n\u001b[1;32m    555\u001b[0m \u001b[38;5;28;01mif\u001b[39;00m \u001b[38;5;129;01mnot\u001b[39;00m is_setup_ctx_defined:\n\u001b[1;32m    556\u001b[0m     \u001b[38;5;28;01mraise\u001b[39;00m \u001b[38;5;167;01mRuntimeError\u001b[39;00m(\n\u001b[1;32m    557\u001b[0m         \u001b[38;5;124m\"\u001b[39m\u001b[38;5;124mIn order to use an autograd.Function with functorch transforms \u001b[39m\u001b[38;5;124m\"\u001b[39m\n\u001b[1;32m    558\u001b[0m         \u001b[38;5;124m\"\u001b[39m\u001b[38;5;124m(vmap, grad, jvp, jacrev, ...), it must override the setup_context \u001b[39m\u001b[38;5;124m\"\u001b[39m\n\u001b[1;32m    559\u001b[0m         \u001b[38;5;124m\"\u001b[39m\u001b[38;5;124mstaticmethod. For more details, please see \u001b[39m\u001b[38;5;124m\"\u001b[39m\n\u001b[1;32m    560\u001b[0m         \u001b[38;5;124m\"\u001b[39m\u001b[38;5;124mhttps://pytorch.org/docs/master/notes/extending.func.html\u001b[39m\u001b[38;5;124m\"\u001b[39m\n\u001b[1;32m    561\u001b[0m     )\n",
      "File \u001b[0;32m~/.local/lib/python3.10/site-packages/linear_operator/functions/_inv_quad_logdet.py:132\u001b[0m, in \u001b[0;36mInvQuadLogdet.forward\u001b[0;34m(ctx, representation_tree, precond_representation_tree, preconditioner, num_precond_args, inv_quad, probe_vectors, probe_vector_norms, *args)\u001b[0m\n\u001b[1;32m    130\u001b[0m \u001b[38;5;66;03m# Perform solves (for inv_quad) and tridiagonalization (for estimating logdet)\u001b[39;00m\n\u001b[1;32m    131\u001b[0m rhs \u001b[38;5;241m=\u001b[39m torch\u001b[38;5;241m.\u001b[39mcat(rhs_list, \u001b[38;5;241m-\u001b[39m\u001b[38;5;241m1\u001b[39m)\n\u001b[0;32m--> 132\u001b[0m solves, t_mat \u001b[38;5;241m=\u001b[39m \u001b[43mlinear_op\u001b[49m\u001b[38;5;241;43m.\u001b[39;49m\u001b[43m_solve\u001b[49m\u001b[43m(\u001b[49m\u001b[43mrhs\u001b[49m\u001b[43m,\u001b[49m\u001b[43m \u001b[49m\u001b[43mpreconditioner\u001b[49m\u001b[43m,\u001b[49m\u001b[43m \u001b[49m\u001b[43mnum_tridiag\u001b[49m\u001b[38;5;241;43m=\u001b[39;49m\u001b[43mnum_random_probes\u001b[49m\u001b[43m)\u001b[49m\n\u001b[1;32m    134\u001b[0m \u001b[38;5;66;03m# Final values to return\u001b[39;00m\n\u001b[1;32m    135\u001b[0m logdet_term \u001b[38;5;241m=\u001b[39m torch\u001b[38;5;241m.\u001b[39mzeros(linear_op\u001b[38;5;241m.\u001b[39mbatch_shape, dtype\u001b[38;5;241m=\u001b[39mctx\u001b[38;5;241m.\u001b[39mdtype, device\u001b[38;5;241m=\u001b[39mctx\u001b[38;5;241m.\u001b[39mdevice)\n",
      "File \u001b[0;32m~/.local/lib/python3.10/site-packages/linear_operator/operators/_linear_operator.py:789\u001b[0m, in \u001b[0;36mLinearOperator._solve\u001b[0;34m(self, rhs, preconditioner, num_tridiag)\u001b[0m\n\u001b[1;32m    774\u001b[0m \u001b[38;5;28;01mdef\u001b[39;00m \u001b[38;5;21m_solve\u001b[39m(\n\u001b[1;32m    775\u001b[0m     \u001b[38;5;28mself\u001b[39m: Float[LinearOperator, \u001b[38;5;124m\"\u001b[39m\u001b[38;5;124m... N N\u001b[39m\u001b[38;5;124m\"\u001b[39m],\n\u001b[1;32m    776\u001b[0m     rhs: Float[torch\u001b[38;5;241m.\u001b[39mTensor, \u001b[38;5;124m\"\u001b[39m\u001b[38;5;124m... N C\u001b[39m\u001b[38;5;124m\"\u001b[39m],\n\u001b[0;32m   (...)\u001b[0m\n\u001b[1;32m    784\u001b[0m     ],\n\u001b[1;32m    785\u001b[0m ]:\n\u001b[1;32m    786\u001b[0m \u001b[38;5;250m    \u001b[39m\u001b[38;5;124mr\u001b[39m\u001b[38;5;124;03m\"\"\"\u001b[39;00m\n\u001b[1;32m    787\u001b[0m \u001b[38;5;124;03m    TODO\u001b[39;00m\n\u001b[1;32m    788\u001b[0m \u001b[38;5;124;03m    \"\"\"\u001b[39;00m\n\u001b[0;32m--> 789\u001b[0m     \u001b[38;5;28;01mreturn\u001b[39;00m \u001b[43mutils\u001b[49m\u001b[38;5;241;43m.\u001b[39;49m\u001b[43mlinear_cg\u001b[49m\u001b[43m(\u001b[49m\n\u001b[1;32m    790\u001b[0m \u001b[43m        \u001b[49m\u001b[38;5;28;43mself\u001b[39;49m\u001b[38;5;241;43m.\u001b[39;49m\u001b[43m_matmul\u001b[49m\u001b[43m,\u001b[49m\n\u001b[1;32m    791\u001b[0m \u001b[43m        \u001b[49m\u001b[43mrhs\u001b[49m\u001b[43m,\u001b[49m\n\u001b[1;32m    792\u001b[0m \u001b[43m        \u001b[49m\u001b[43mn_tridiag\u001b[49m\u001b[38;5;241;43m=\u001b[39;49m\u001b[43mnum_tridiag\u001b[49m\u001b[43m,\u001b[49m\n\u001b[1;32m    793\u001b[0m \u001b[43m        \u001b[49m\u001b[43mmax_iter\u001b[49m\u001b[38;5;241;43m=\u001b[39;49m\u001b[43msettings\u001b[49m\u001b[38;5;241;43m.\u001b[39;49m\u001b[43mmax_cg_iterations\u001b[49m\u001b[38;5;241;43m.\u001b[39;49m\u001b[43mvalue\u001b[49m\u001b[43m(\u001b[49m\u001b[43m)\u001b[49m\u001b[43m,\u001b[49m\n\u001b[1;32m    794\u001b[0m \u001b[43m        \u001b[49m\u001b[43mmax_tridiag_iter\u001b[49m\u001b[38;5;241;43m=\u001b[39;49m\u001b[43msettings\u001b[49m\u001b[38;5;241;43m.\u001b[39;49m\u001b[43mmax_lanczos_quadrature_iterations\u001b[49m\u001b[38;5;241;43m.\u001b[39;49m\u001b[43mvalue\u001b[49m\u001b[43m(\u001b[49m\u001b[43m)\u001b[49m\u001b[43m,\u001b[49m\n\u001b[1;32m    795\u001b[0m \u001b[43m        \u001b[49m\u001b[43mpreconditioner\u001b[49m\u001b[38;5;241;43m=\u001b[39;49m\u001b[43mpreconditioner\u001b[49m\u001b[43m,\u001b[49m\n\u001b[1;32m    796\u001b[0m \u001b[43m    \u001b[49m\u001b[43m)\u001b[49m\n",
      "File \u001b[0;32m~/.local/lib/python3.10/site-packages/linear_operator/utils/linear_cg.py:304\u001b[0m, in \u001b[0;36mlinear_cg\u001b[0;34m(matmul_closure, rhs, n_tridiag, tolerance, eps, stop_updating_after, max_iter, max_tridiag_iter, initial_guess, preconditioner)\u001b[0m\n\u001b[1;32m    299\u001b[0m residual_norm\u001b[38;5;241m.\u001b[39mmasked_fill_(rhs_is_zero, \u001b[38;5;241m0\u001b[39m)\n\u001b[1;32m    300\u001b[0m torch\u001b[38;5;241m.\u001b[39mlt(residual_norm, stop_updating_after, out\u001b[38;5;241m=\u001b[39mhas_converged)\n\u001b[1;32m    302\u001b[0m \u001b[38;5;28;01mif\u001b[39;00m (\n\u001b[1;32m    303\u001b[0m     k \u001b[38;5;241m>\u001b[39m\u001b[38;5;241m=\u001b[39m \u001b[38;5;28mmin\u001b[39m(\u001b[38;5;241m10\u001b[39m, max_iter \u001b[38;5;241m-\u001b[39m \u001b[38;5;241m1\u001b[39m)\n\u001b[0;32m--> 304\u001b[0m     \u001b[38;5;129;01mand\u001b[39;00m \u001b[38;5;28;43mbool\u001b[39;49m\u001b[43m(\u001b[49m\u001b[43mresidual_norm\u001b[49m\u001b[38;5;241;43m.\u001b[39;49m\u001b[43mmean\u001b[49m\u001b[43m(\u001b[49m\u001b[43m)\u001b[49m\u001b[43m \u001b[49m\u001b[38;5;241;43m<\u001b[39;49m\u001b[43m \u001b[49m\u001b[43mtolerance\u001b[49m\u001b[43m)\u001b[49m\n\u001b[1;32m    305\u001b[0m     \u001b[38;5;129;01mand\u001b[39;00m \u001b[38;5;129;01mnot\u001b[39;00m (n_tridiag \u001b[38;5;129;01mand\u001b[39;00m k \u001b[38;5;241m<\u001b[39m \u001b[38;5;28mmin\u001b[39m(n_tridiag_iter, max_iter \u001b[38;5;241m-\u001b[39m \u001b[38;5;241m1\u001b[39m))\n\u001b[1;32m    306\u001b[0m ):\n\u001b[1;32m    307\u001b[0m     tolerance_reached \u001b[38;5;241m=\u001b[39m \u001b[38;5;28;01mTrue\u001b[39;00m\n\u001b[1;32m    308\u001b[0m     \u001b[38;5;28;01mbreak\u001b[39;00m\n",
      "\u001b[0;31mKeyboardInterrupt\u001b[0m: "
     ]
    }
   ],
   "source": [
    "model.train()\n",
    "likelihood.train()\n",
    "optimizer = torch.optim.Adam(model.parameters(), lr=0.02)\n",
    "\n",
    "training_iter = 1000\n",
    "\n",
    "for i in range(training_iter):\n",
    "    # Zero gradients from previous iteration\n",
    "    optimizer.zero_grad()\n",
    "    # Output from model\n",
    "    output = model(train_x)\n",
    "    # Calc loss and backprop gradients\n",
    "    loss = -mll(output, train_y) \n",
    "    # + torch.norm(Delta2.matmul(model.covar_module.lda)[:6])\n",
    "    loss.backward()\n",
    "    if i % 10 == 0:\n",
    "        print(f\"loss = {loss.item()}\")\n",
    "    optimizer.step()"
   ]
  },
  {
   "cell_type": "code",
   "execution_count": 86,
   "id": "31dd31d2-4e23-4046-803e-012f7345a737",
   "metadata": {
    "tags": []
   },
   "outputs": [
    {
     "data": {
      "image/png": "[encoded data removed]",
      "text/plain": [
       "<Figure size 640x480 with 1 Axes>"
      ]
     },
     "metadata": {},
     "output_type": "display_data"
    }
   ],
   "source": [
    "lda_hat = torch.exp(model.covar_module.lda)\n",
    "\n",
    "rho = model.covar_module.w_kd @ lda_hat\n",
    "rho = rho.cpu().detach().numpy()\n",
    "\n",
    "plt.plot(rho[:L + 1])\n",
    "plt.show()"
   ]
  },
  {
   "cell_type": "code",
   "execution_count": 87,
   "id": "2085c7aa-9da1-47e1-98e8-cc3ac632c066",
   "metadata": {
    "tags": []
   },
   "outputs": [
    {
     "data": {
      "image/png": "[encoded data removed]",
      "text/plain": [
       "<Figure size 640x480 with 1 Axes>"
      ]
     },
     "metadata": {},
     "output_type": "display_data"
    }
   ],
   "source": [
    "lda_hat = lda_hat.detach().cpu().numpy()\n",
    "\n",
    "bk = np.array([binom(L, k) * (AA_size - 1)**k for k in range(1, k_max+1)])\n",
    "\n",
    "vc = lda_hat*bk\n",
    "vc = vc/vc.sum()\n",
    "\n",
    "plt.scatter(np.arange(1, k_max + 1), vc)\n",
    "plt.show()\n",
    "\n",
    "raw_lda_opt = model.covar_module.raw_lda\n",
    "\n",
    "# torch.save(raw_lda_opt, \"../results/Faure2023_1_lenient_raw_lda.pt\")"
   ]
  },
  {
   "cell_type": "markdown",
   "id": "d9e67a88-86fb-4354-9085-677b00d648e7",
   "metadata": {
    "tags": []
   },
   "source": [
    "#### CV"
   ]
  },
  {
   "cell_type": "code",
   "execution_count": 228,
   "id": "6959e17b-43a9-4918-83a2-52f09ca7aeea",
   "metadata": {
    "tags": []
   },
   "outputs": [],
   "source": [
    "lda_decay = 4\n",
    "\n",
    "d_max = L\n",
    "k_max = 8\n",
    "\n",
    "likelihood = gpytorch.likelihoods.GaussianLikelihood().cuda()\n",
    "model = EpModel(train_x, train_y, likelihood).cuda()\n",
    "model.covar_module.w_kd = model.covar_module.w_kd.to(device)\n",
    "mll = gpytorch.mlls.ExactMarginalLogLikelihood(likelihood, model)"
   ]
  },
  {
   "cell_type": "code",
   "execution_count": 229,
   "id": "87c93408-fd44-4576-bfdf-ecec27085299",
   "metadata": {
    "tags": []
   },
   "outputs": [],
   "source": [
    "# # test forward backward pass\n",
    "# output = model(train_x)\n",
    "# # Calc loss and backprop gradients\n",
    "# loss = -mll(output, train_y)\n",
    "# loss.backward()\n",
    "\n",
    "# print(loss.item())"
   ]
  },
  {
   "cell_type": "code",
   "execution_count": 230,
   "id": "3928949e-74df-45f8-9053-06256ffdd17d",
   "metadata": {
    "tags": []
   },
   "outputs": [],
   "source": [
    "# for name, param in model.named_parameters():\n",
    "#     if param.requires_grad:\n",
    "#         print(name, param)"
   ]
  },
  {
   "cell_type": "code",
   "execution_count": 231,
   "id": "557691bb-f6a5-47f6-8966-e2518035cbc4",
   "metadata": {
    "tags": []
   },
   "outputs": [],
   "source": [
    "# model.eval()\n",
    "# f_preds = model(val_x).mean\n",
    "# torch.norm(f_preds - val_y)"
   ]
  },
  {
   "cell_type": "code",
   "execution_count": 232,
   "id": "a2c46895-3d65-43e8-b8c9-fa0a199701e7",
   "metadata": {
    "tags": []
   },
   "outputs": [
    {
     "name": "stdout",
     "output_type": "stream",
     "text": [
      "working on iteration 0\n",
      "train_loss = 9041.3076171875 r2 = 0.7396900340141719\n",
      "working on iteration 1\n",
      "train_loss = 8987.666015625 r2 = 0.7426801211008965\n",
      "working on iteration 2\n",
      "train_loss = 8931.4921875 r2 = 0.7458496217306845\n",
      "working on iteration 3\n",
      "train_loss = 8873.80859375 r2 = 0.7491011719343237\n",
      "working on iteration 4\n",
      "train_loss = 8813.1591796875 r2 = 0.7525055561879284\n",
      "working on iteration 5\n",
      "train_loss = 8747.08984375 r2 = 0.7559099503372483\n",
      "working on iteration 6\n",
      "train_loss = 8682.419921875 r2 = 0.759580778253755\n",
      "working on iteration 7\n",
      "train_loss = 8614.0458984375 r2 = 0.7633740930199983\n",
      "working on iteration 8\n",
      "train_loss = 8546.7470703125 r2 = 0.7674548295996012\n",
      "working on iteration 9\n",
      "train_loss = 8477.111328125 r2 = 0.7710067348156937\n",
      "working on iteration 10\n",
      "train_loss = 8410.4873046875 r2 = 0.7747539033510921\n",
      "working on iteration 11\n",
      "train_loss = 8344.4208984375 r2 = 0.7782567227605885\n",
      "working on iteration 12\n",
      "train_loss = 8277.783203125 r2 = 0.7817598493063891\n",
      "working on iteration 13\n",
      "train_loss = 8209.83984375 r2 = 0.7853599106510646\n",
      "working on iteration 14\n",
      "train_loss = 8146.6806640625 r2 = 0.788456688065926\n",
      "working on iteration 15\n",
      "train_loss = 8081.76708984375 r2 = 0.7920857791399445\n",
      "working on iteration 16\n",
      "train_loss = 8021.44189453125 r2 = 0.7948889629014744\n",
      "working on iteration 17\n",
      "train_loss = 7968.55810546875 r2 = 0.7975928210008502\n",
      "working on iteration 18\n",
      "train_loss = 7914.025390625 r2 = 0.8002099743785637\n",
      "working on iteration 19\n",
      "train_loss = 7859.80908203125 r2 = 0.8026860027873901\n"
     ]
    }
   ],
   "source": [
    "training_iter = 20\n",
    "\"\"\"fitting hyperparameters of model by maximizing marginal log likelihood\"\"\"\n",
    "# Use the adam optimizer, this includes GaussianLikelihood parameters\n",
    "optimizer = torch.optim.AdamW(model.parameters(), lr=0.1)\n",
    "losses = []\n",
    "for i in range(training_iter):\n",
    "    if i%1 == 0:\n",
    "        print(\"working on iteration %i\"%i)\n",
    "    # Zero gradients from previous iteration\n",
    "    optimizer.zero_grad()\n",
    "    # Output from model\n",
    "    model.eval()\n",
    "    f_preds = model(val_x).mean\n",
    "\n",
    "    # Calc loss and backprop gradients\n",
    "    loss = torch.norm(f_preds - val_y)\n",
    "    print(f\"train_loss = {loss}\", \n",
    "          f\"r2 = {pearsonr(f_preds.detach().cpu().numpy(), val_y.detach().cpu().numpy())[0]**2}\")\n",
    "    model.train()\n",
    "    loss.backward()\n",
    "    losses.append(loss.item())\n",
    "    optimizer.step()"
   ]
  },
  {
   "cell_type": "code",
   "execution_count": 233,
   "id": "9cea0730-f6c9-4df7-aec7-c28c1fc5311d",
   "metadata": {
    "tags": []
   },
   "outputs": [
    {
     "data": {
      "text/plain": [
       "<matplotlib.collections.PathCollection at 0x1511e01c9d20>"
      ]
     },
     "execution_count": 233,
     "metadata": {},
     "output_type": "execute_result"
    },
    {
     "data": {
      "image/png": "[encoded data removed]",
      "text/plain": [
       "<Figure size 640x480 with 1 Axes>"
      ]
     },
     "metadata": {},
     "output_type": "display_data"
    }
   ],
   "source": [
    "plt.scatter(f_preds.detach().cpu().numpy(), val_y.detach().cpu().numpy())"
   ]
  },
  {
   "cell_type": "code",
   "execution_count": 234,
   "id": "f7aceaf9-35f7-48a4-9295-689f71e6d35f",
   "metadata": {
    "tags": []
   },
   "outputs": [
    {
     "data": {
      "image/png": "[encoded data removed]",
      "text/plain": [
       "<Figure size 640x480 with 1 Axes>"
      ]
     },
     "metadata": {},
     "output_type": "display_data"
    },
    {
     "data": {
      "image/png": "[encoded data removed]",
      "text/plain": [
       "<Figure size 640x480 with 1 Axes>"
      ]
     },
     "metadata": {},
     "output_type": "display_data"
    }
   ],
   "source": [
    "lda_hat = torch.exp(model.covar_module.lda)\n",
    "\n",
    "rho = model.covar_module.w_kd @ lda_hat\n",
    "rho = rho.cpu().detach().numpy()\n",
    "\n",
    "plt.plot(rho[:L + 1])\n",
    "plt.show()\n",
    "\n",
    "lda_hat = lda_hat.detach().cpu().numpy()\n",
    "\n",
    "bk = np.array([binom(L, k) * (AA_size - 1)**k for k in range(1, k_max+1)])\n",
    "\n",
    "vc = lda_hat*bk\n",
    "vc = vc/vc.sum()\n",
    "\n",
    "plt.scatter(np.arange(1, k_max + 1), vc)\n",
    "plt.show()"
   ]
  },
  {
   "cell_type": "code",
   "execution_count": 235,
   "id": "f9446290-73c0-4de1-9f2f-542f31dfc303",
   "metadata": {
    "tags": []
   },
   "outputs": [
    {
     "name": "stdout",
     "output_type": "stream",
     "text": [
      "Parameter containing:\n",
      "tensor([ 5.1019,  7.3981,  9.7273, 13.6032, 17.5179, 21.4350, 25.3527, 33.1145],\n",
      "       device='cuda:0', requires_grad=True)\n"
     ]
    }
   ],
   "source": [
    "raw_lda_opt = model.covar_module.raw_lda\n",
    "# torch.save(raw_lda_opt, \"../results/Faure2023_1_lenient_raw_lda.pt\")\n",
    "print(raw_lda_opt)"
   ]
  },
  {
   "cell_type": "markdown",
   "id": "90141e9d-ee99-45d2-ad5e-c117aa98bf7f",
   "metadata": {
    "tags": []
   },
   "source": [
    "### Get alpha vector"
   ]
  },
  {
   "cell_type": "code",
   "execution_count": 49,
   "id": "0c1d7947-e6eb-46ff-acdf-5e4cec020cdb",
   "metadata": {
    "tags": []
   },
   "outputs": [],
   "source": [
    "# likelihood = gpytorch.likelihoods.GaussianLikelihood()\n",
    "# model = models.ExactGPModel(add0(train_x), train_y, likelihood, ker).to(output_device)\n",
    "# model.covar_module = ker\n",
    "\n",
    "# model.eval()\n",
    "# likelihood.eval()\n",
    "\n",
    "# alpha = model(add1(train_x)).mean"
   ]
  },
  {
   "cell_type": "code",
   "execution_count": 236,
   "id": "fd4e029a-94b3-4a5c-ab8a-fab5413657bd",
   "metadata": {
    "tags": []
   },
   "outputs": [
    {
     "name": "stdout",
     "output_type": "stream",
     "text": [
      "Using Identity matrix as evaluate kernel\n"
     ]
    }
   ],
   "source": [
    "likelihood = gpytorch.likelihoods.GaussianLikelihood().cuda()\n",
    "\n",
    "model = EpModel(add0(train_x), train_y, likelihood, get_alpha=True).cuda()\n",
    "mll = gpytorch.mlls.ExactMarginalLogLikelihood(likelihood, model)\n",
    "\n",
    "model.covar_module.w_kd = model.covar_module.w_kd.to(device)\n",
    "model.covar_module.raw_lda = raw_lda_opt\n",
    "\n",
    "model.eval()\n",
    "likelihood.eval()\n",
    "\n",
    "alpha = model(add1(train_x)).mean\n",
    "\n",
    "# torch.save(alpha, \"../results/Faure2023_1_lenient_alpha.pt\")\n",
    "\n",
    "alpha = alpha.detach()"
   ]
  },
  {
   "cell_type": "code",
   "execution_count": 237,
   "id": "0fd9ef03-55d4-4f00-b83d-bfb829357530",
   "metadata": {
    "tags": []
   },
   "outputs": [],
   "source": [
    "# # check if Kb.alpha same as GP solution\n",
    "\n",
    "# model.eval()\n",
    "# likelihood.eval()\n",
    "# pred__ = model(add0(train_x)).mean\n",
    "# plt.scatter(pred__.cpu().detach().numpy(), train_y.cpu().detach().numpy())\n",
    "# plt.show()\n",
    "\n",
    "# pred_ = model.covar_module.forward(add0(train_x), add0(train_x)).matmul(alpha)\n",
    "# plt.scatter(pred_.cpu().detach().numpy(), pred__.cpu().detach().numpy())\n",
    "# plt.show()"
   ]
  },
  {
   "cell_type": "code",
   "execution_count": 238,
   "id": "9906fe96-6476-4b5f-b872-31f015cfa7db",
   "metadata": {
    "tags": []
   },
   "outputs": [],
   "source": [
    "# model.eval()\n",
    "# likelihood.eval()\n",
    "# pred__ = model(add0(val_x)).mean\n",
    "# plt.scatter(pred__.cpu().detach().numpy(), val_y.cpu().detach().numpy())\n",
    "# plt.show()"
   ]
  },
  {
   "cell_type": "markdown",
   "id": "cfa09e69-0f86-4d62-8d0d-9f9cff59a5de",
   "metadata": {},
   "source": [
    "### Calculate variance components"
   ]
  },
  {
   "cell_type": "code",
   "execution_count": 239,
   "id": "883b532b-ff60-41fe-9d33-05ed2a576711",
   "metadata": {
    "tags": []
   },
   "outputs": [
    {
     "name": "stdout",
     "output_type": "stream",
     "text": [
      "total variance = 20468.572265625\n"
     ]
    },
    {
     "data": {
      "image/png": "[encoded data removed]",
      "text/plain": [
       "<Figure size 640x480 with 1 Axes>"
      ]
     },
     "metadata": {},
     "output_type": "display_data"
    }
   ],
   "source": [
    "ker_full = EpKernel(AA_size, L, d_max, k_max, constrain_lda=False).to(device)\n",
    "ker_full.raw_lda = torch.nn.Parameter(2*raw_lda_opt).to(device)\n",
    "\n",
    "ker_full.w_kd = ker_full.w_kd.to(device)\n",
    "\n",
    "K_full = ker_full(train_x, train_x).evaluate()\n",
    "\n",
    "K_full = K_full.detach()\n",
    "\n",
    "total_var = alpha.T.matmul(K_full).matmul(alpha).item()\n",
    "\n",
    "print(f\"total variance = {total_var}\")\n",
    "\n",
    "#### VC by order in Posterior\n",
    "\n",
    "vs = []\n",
    "\n",
    "for k in range(k_max):\n",
    "\n",
    "    lda_ = torch.full((k_max,), float('inf'))\n",
    "    lda_[k] = 2*raw_lda_opt[k]\n",
    "    lda_ = torch.nn.Parameter(lda_)\n",
    "\n",
    "    ker_full = EpKernel(AA_size, L, d_max, k_max, constrain_lda=False).to(device)\n",
    "    ker_full.raw_lda = lda_\n",
    "\n",
    "    K_full = ker_full(train_x, train_x).evaluate()\n",
    "\n",
    "    K_full = K_full.detach()\n",
    "\n",
    "    vc = alpha.T.matmul(K_full).matmul(alpha)\n",
    "    \n",
    "    vs.append(vc.item())\n",
    "\n",
    "vcs = np.array(vs)\n",
    "vcs = vcs/vcs.sum()\n",
    "\n",
    "plt.scatter(np.arange(1, k_max + 1), vcs)\n",
    "plt.show()"
   ]
  },
  {
   "cell_type": "markdown",
   "id": "9265625d-4c61-4a75-9b0c-f367a12a299f",
   "metadata": {
    "tags": []
   },
   "source": [
    "### Marginal effect kernel"
   ]
  },
  {
   "cell_type": "code",
   "execution_count": 258,
   "id": "ab0f1fc9-4fa9-47b0-9d97-309a5fcefc40",
   "metadata": {
    "tags": []
   },
   "outputs": [],
   "source": [
    "# alpha = torch.load(\"../results/Faure2023_1_lenient_alpha.pt\")\n",
    "\n",
    "# raw_lda_opt = torch.load(\"../results/Faure2023_1_lenient_raw_lda.pt\")"
   ]
  },
  {
   "cell_type": "code",
   "execution_count": 240,
   "id": "3b11db18-0ec7-431d-94a4-244e9a8512cf",
   "metadata": {
    "tags": []
   },
   "outputs": [],
   "source": [
    "try: \n",
    "    effects_list\n",
    "except: \n",
    "    print(\"effects list not found, make new one\")\n",
    "    effects_list = []"
   ]
  },
  {
   "cell_type": "code",
   "execution_count": 262,
   "id": "b56454c7-d377-4e5c-bb37-8487146bcaed",
   "metadata": {
    "tags": []
   },
   "outputs": [
    {
     "ename": "NameError",
     "evalue": "name 'effects_list' is not defined",
     "output_type": "error",
     "traceback": [
      "\u001b[0;31m---------------------------------------------------------------------------\u001b[0m",
      "\u001b[0;31mNameError\u001b[0m                                 Traceback (most recent call last)",
      "Cell \u001b[0;32mIn[262], line 27\u001b[0m\n\u001b[1;32m     23\u001b[0m     effect \u001b[38;5;241m=\u001b[39m alpha\u001b[38;5;241m.\u001b[39mT\u001b[38;5;241m.\u001b[39mmatmul(Km)\u001b[38;5;241m.\u001b[39mmatmul(alpha)\n\u001b[1;32m     25\u001b[0m     effects\u001b[38;5;241m.\u001b[39mappend(effect\u001b[38;5;241m.\u001b[39mitem())\n\u001b[0;32m---> 27\u001b[0m \u001b[43meffects_list\u001b[49m\u001b[38;5;241m.\u001b[39mappend(np\u001b[38;5;241m.\u001b[39marray(effects)\u001b[38;5;241m/\u001b[39mvs[\u001b[38;5;241m2\u001b[39m])    \n",
      "\u001b[0;31mNameError\u001b[0m: name 'effects_list' is not defined"
     ]
    }
   ],
   "source": [
    "effects = []\n",
    "\n",
    "k = 2 # set interaction order for marginal effects, \n",
    "lda_ = torch.full((k_max,), float('inf'))\n",
    "lda_[k - 2] = 2*raw_lda_opt[k - 1]\n",
    "lda_ = torch.nn.Parameter(lda_)\n",
    "\n",
    "ker_focal = MargKernel(AA_size, L).to(device)\n",
    "ker_bg = EpKernel(AA_size, L - 1, d_max - 1, k_max, constrain_lda=False).to(device)\n",
    "ker_bg.raw_lda = lda_\n",
    "\n",
    "for site in range(L):\n",
    "    torch.cuda.empty_cache()\n",
    "    K0 = ker_focal(train_x, train_x, site=site)    \n",
    "    \n",
    "    train_x_ = torch.cat((train_x[:, :(AA_size * site)], train_x[:, (AA_size * (site + 1)):]), 1)\n",
    "    train_x_.shape\n",
    "    K1 = ker_bg(train_x_, train_x_).evaluate()\n",
    "\n",
    "    Km = K0*K1\n",
    "    Km = Km.detach()\n",
    "\n",
    "    effect = alpha.T.matmul(Km).matmul(alpha)\n",
    "    \n",
    "    effects.append(effect.item())\n",
    "    \n",
    "effects_list.append(np.array(effects)/vs[2])    "
   ]
  },
  {
   "cell_type": "code",
   "execution_count": 263,
   "id": "75cac590-75a2-4782-8a8e-4b5bec8db0c0",
   "metadata": {
    "tags": []
   },
   "outputs": [
    {
     "data": {
      "text/plain": [
       "[17351.890625,\n",
       " 2177.666748046875,\n",
       " 934.00732421875,\n",
       " 5.024980068206787,\n",
       " 0.011581305414438248,\n",
       " 2.0869272702839226e-05,\n",
       " 3.1511049769505917e-08,\n",
       " -5.637589140227448e-15]"
      ]
     },
     "execution_count": 263,
     "metadata": {},
     "output_type": "execute_result"
    }
   ],
   "source": [
    "vs"
   ]
  },
  {
   "cell_type": "code",
   "execution_count": 264,
   "id": "2b75a309-ef2f-48ee-b760-a2d9ec8be875",
   "metadata": {
    "tags": []
   },
   "outputs": [],
   "source": [
    "pos_var = np.array([ 0,  1,  2,  3,  7,  9, 10, 11, 13, 17, 19, 20, 22, 23, 25, 26, 27,\n",
    "                    28, 29, 31, 32, 36, 38, 40, 42, 43, 45, 48, 49, 50, 52, 53, 54, 55])"
   ]
  },
  {
   "cell_type": "code",
   "execution_count": 265,
   "id": "6d648362-07fc-401b-8aa6-5f5a3dfc7d3c",
   "metadata": {
    "tags": []
   },
   "outputs": [
    {
     "data": {
      "image/png": "[encoded data removed]",
      "text/plain": [
       "<Figure size 640x480 with 1 Axes>"
      ]
     },
     "metadata": {},
     "output_type": "display_data"
    }
   ],
   "source": [
    "plt.scatter(pos_var, np.array(np.array(effects)/vs[k-1]), marker = 'o')\n",
    "plt.show()"
   ]
  },
  {
   "cell_type": "code",
   "execution_count": 255,
   "id": "dab0c9b2-d5a4-474f-a933-6fc7cee7a343",
   "metadata": {
    "tags": []
   },
   "outputs": [
    {
     "data": {
      "image/png": "[encoded data removed]",
      "text/plain": [
       "<Figure size 640x480 with 1 Axes>"
      ]
     },
     "metadata": {},
     "output_type": "display_data"
    }
   ],
   "source": [
    "plt.scatter(effects_list[-2], effects_list[-1])\n",
    "plt.show()"
   ]
  },
  {
   "cell_type": "markdown",
   "id": "30ca9032-90c9-441d-a0cf-2e40ec9a4dff",
   "metadata": {},
   "source": [
    "#### \n",
    "Get pairwise, three-way, four-way data\n",
    "Get replicates"
   ]
  },
  {
   "cell_type": "markdown",
   "id": "367f69f4-3ff1-4a8f-b1af-863f84c16661",
   "metadata": {
    "tags": []
   },
   "source": [
    "### Calculate three-way interactions"
   ]
  },
  {
   "cell_type": "code",
   "execution_count": 97,
   "id": "37cacb66-4407-44be-a454-5e36309d5724",
   "metadata": {
    "tags": []
   },
   "outputs": [],
   "source": [
    "ep3_lists = []"
   ]
  },
  {
   "cell_type": "code",
   "execution_count": 98,
   "id": "399ffbea-b96f-46b7-a2a4-6b11a34030b7",
   "metadata": {
    "tags": []
   },
   "outputs": [],
   "source": [
    "wts = torch.tensor([1, -1, -1, -1, 1, 1, 1, -1]).float().to(device)"
   ]
  },
  {
   "cell_type": "code",
   "execution_count": 99,
   "id": "bedd828f-f61b-4e5e-8d9b-d2c8cd37cb7c",
   "metadata": {
    "tags": []
   },
   "outputs": [],
   "source": [
    "wt = torch.zeros(L)"
   ]
  },
  {
   "cell_type": "code",
   "execution_count": 100,
   "id": "cad51f6e-2844-4eab-bd67-f52f89e71e8d",
   "metadata": {
    "tags": []
   },
   "outputs": [],
   "source": [
    "k = 3 # set interaction order for marginal effects, \n",
    "lda_ = torch.full((k_max,), float('inf'))\n",
    "lda_[k - 1] = 1\n",
    "lda_ = torch.nn.Parameter(lda_)"
   ]
  },
  {
   "cell_type": "code",
   "execution_count": 101,
   "id": "d448eae5-7dc8-4818-a49b-dba83bbfb185",
   "metadata": {
    "tags": []
   },
   "outputs": [],
   "source": [
    "ker3 = EpKernel(AA_size, L, d_max, k_max, constrain_lda=False).to(device)\n",
    "ker3.raw_lda = lda_"
   ]
  },
  {
   "cell_type": "code",
   "execution_count": 102,
   "id": "996d3681-03e2-4739-bb3c-2a70825ca391",
   "metadata": {
    "tags": []
   },
   "outputs": [],
   "source": [
    "from itertools import combinations\n",
    "from torch.nn.functional import one_hot\n",
    "\n",
    "def get_ep3(sites):\n",
    "\n",
    "    subsites = [list(combinations(sites, k)) for k in range(1, 4)]\n",
    "    subsites = sum(subsites, [])\n",
    "    subsites = [list(s) for s in subsites]\n",
    "\n",
    "    rows = []\n",
    "    for i, sites in enumerate(subsites):\n",
    "        rows.append([i for _ in range(len(sites))])\n",
    "    subsites = sum(subsites, [])\n",
    "    rows = sum(rows, [])\n",
    "\n",
    "    idx_list = [rows, subsites]\n",
    "\n",
    "    mutation_mat = torch.sparse_coo_tensor(torch.tensor(idx_list),\n",
    "                                            torch.ones(len(subsites)),\n",
    "                                            size=(7, L))\n",
    "\n",
    "    mut_mat = wt + mutation_mat.to_dense()\n",
    "    mut_mat = mut_mat % 2\n",
    "\n",
    "    mut_1h = one_hot(torch.concat([wt.unsqueeze(0), mut_mat], 0).long()).to(device)\n",
    "    mut_x = mut_1h.float().flatten(1)\n",
    "\n",
    "    mut_pred = ker3(mut_x, train_x).evaluate().matmul(alpha)\n",
    "\n",
    "    return wts.matmul(mut_pred)    "
   ]
  },
  {
   "cell_type": "code",
   "execution_count": 103,
   "id": "5ce0ec92-57a3-4b61-8422-8f37d7cc8de6",
   "metadata": {
    "tags": []
   },
   "outputs": [],
   "source": [
    "sites3 = combinations(range(L), 3)\n",
    "\n",
    "ep3_list = []\n",
    "for sites in sites3:\n",
    "    ep3_list.append(get_ep3(sites).item())"
   ]
  },
  {
   "cell_type": "code",
   "execution_count": 104,
   "id": "1c789e41-fcac-4afd-ad86-4cd9866ee208",
   "metadata": {
    "tags": []
   },
   "outputs": [
    {
     "data": {
      "image/png": "[encoded data removed]",
      "text/plain": [
       "<Figure size 640x480 with 1 Axes>"
      ]
     },
     "metadata": {},
     "output_type": "display_data"
    }
   ],
   "source": [
    "plt.hist(ep3_list)\n",
    "plt.show()"
   ]
  },
  {
   "cell_type": "code",
   "execution_count": 105,
   "id": "902dbd21-dd81-419b-a238-657308e42c8e",
   "metadata": {
    "tags": []
   },
   "outputs": [],
   "source": [
    "ep3_lists.append(ep3_list)"
   ]
  },
  {
   "cell_type": "code",
   "execution_count": 106,
   "id": "4b473562-d9a3-452f-b379-a7c986a867c4",
   "metadata": {
    "tags": []
   },
   "outputs": [
    {
     "ename": "IndexError",
     "evalue": "list index out of range",
     "output_type": "error",
     "traceback": [
      "\u001b[0;31m---------------------------------------------------------------------------\u001b[0m",
      "\u001b[0;31mIndexError\u001b[0m                                Traceback (most recent call last)",
      "Cell \u001b[0;32mIn[106], line 1\u001b[0m\n\u001b[0;32m----> 1\u001b[0m plt\u001b[38;5;241m.\u001b[39mscatter(\u001b[43mep3_lists\u001b[49m\u001b[43m[\u001b[49m\u001b[38;5;241;43m-\u001b[39;49m\u001b[38;5;241;43m2\u001b[39;49m\u001b[43m]\u001b[49m, ep3_lists[\u001b[38;5;241m-\u001b[39m\u001b[38;5;241m1\u001b[39m])\n\u001b[1;32m      2\u001b[0m plt\u001b[38;5;241m.\u001b[39mshow()\n",
      "\u001b[0;31mIndexError\u001b[0m: list index out of range"
     ]
    }
   ],
   "source": [
    "plt.scatter(ep3_lists[-2], ep3_lists[-1])\n",
    "plt.show()"
   ]
  },
  {
   "cell_type": "code",
   "execution_count": 71,
   "id": "c8061984-57f9-4ca1-bda0-f1472d97fbcd",
   "metadata": {
    "tags": []
   },
   "outputs": [
    {
     "data": {
      "text/plain": [
       "PearsonRResult(statistic=-0.5423157941674155, pvalue=0.0)"
      ]
     },
     "execution_count": 71,
     "metadata": {},
     "output_type": "execute_result"
    }
   ],
   "source": [
    "pearsonr(ep3_lists[-2], ep3_lists[-1])"
   ]
  },
  {
   "cell_type": "code",
   "execution_count": null,
   "id": "be4af287-f955-4c63-b69d-a01341089737",
   "metadata": {},
   "outputs": [],
   "source": []
  }
 ],
 "metadata": {
  "kernelspec": {
   "display_name": "PyTorch-2.2.0",
   "language": "python",
   "name": "pytorch-2.2.0"
  },
  "language_info": {
   "codemirror_mode": {
    "name": "ipython",
    "version": 3
   },
   "file_extension": ".py",
   "mimetype": "text/x-python",
   "name": "python",
   "nbconvert_exporter": "python",
   "pygments_lexer": "ipython3",
   "version": "3.10.13"
  }
 },
 "nbformat": 4,
 "nbformat_minor": 5
}
