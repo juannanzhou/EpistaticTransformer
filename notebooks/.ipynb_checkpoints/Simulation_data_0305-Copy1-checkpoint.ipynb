{
 "cells": [
  {
   "cell_type": "code",
   "execution_count": 1,
   "id": "e27d7b46-ce3d-403e-be06-6408febb523b",
   "metadata": {
    "tags": []
   },
   "outputs": [
    {
     "name": "stderr",
     "output_type": "stream",
     "text": [
      "/apps/pytorch/2.2.0/lib/python3.10/site-packages/tqdm/auto.py:21: TqdmWarning: IProgress not found. Please update jupyter and ipywidgets. See https://ipywidgets.readthedocs.io/en/stable/user_install.html\n",
      "  from .autonotebook import tqdm as notebook_tqdm\n"
     ]
    }
   ],
   "source": [
    "## Standard libraries\n",
    "import os\n",
    "import numpy as np\n",
    "import math\n",
    "import json\n",
    "from functools import partial\n",
    "\n",
    "import random as rd\n",
    "\n",
    "import pandas as pd\n",
    "import numpy as np\n",
    "import matplotlib.pyplot as plt\n",
    "import torch\n",
    "import GPUtil\n",
    "import torch\n",
    "import torch.nn as nn\n",
    "import sys\n",
    "sys.path.append('../model')\n",
    "from utils import amino_acid_to_number, tokenize, Tee\n",
    "\n",
    "device = \"cuda:0\"\n",
    "\n",
    "import optuna\n",
    "import numpy as np\n",
    "import torch\n",
    "import torch.nn as nn\n",
    "import torch.optim as optim\n",
    "\n",
    "from functions import get_A2N_list, tokenize, make_train_val_test_lists_rand, prepare_data\n",
    "\n",
    "# site specific tokenization\n",
    "\n",
    "def get_A2N_list(seqs):\n",
    "    seqs_ = list([list(seq) for seq in seqs])\n",
    "    seqs__ = pd.DataFrame(seqs_)\n",
    "    alphabet_by_site = [list(seqs__.iloc[:, i].unique()) for i in range(seqs__.shape[1])]\n",
    "    A2N_list = [dict(zip(alphabet, range(len(alphabet)))) for alphabet in alphabet_by_site]        \n",
    "    return A2N_list\n",
    "\n",
    "def tokenize(seq):\n",
    "    numeric_sequence = [A2N_list[i][seq[i]] for i in range(len(A2N_list))]\n",
    "    return numeric_sequence\n"
   ]
  },
  {
   "cell_type": "markdown",
   "id": "b3cfb0c8-aabd-4b24-b78f-816332e1922e",
   "metadata": {
    "tags": []
   },
   "source": [
    "#### Read data "
   ]
  },
  {
   "cell_type": "code",
   "execution_count": 3,
   "id": "0cbf49c1-6150-42cd-8622-5e45b354dfbd",
   "metadata": {
    "tags": []
   },
   "outputs": [
    {
     "data": {
      "image/png": "[encoded data removed]",
      "text/plain": [
       "<Figure size 640x480 with 1 Axes>"
      ]
     },
     "metadata": {},
     "output_type": "display_data"
    },
    {
     "name": "stdout",
     "output_type": "stream",
     "text": [
      "sequence length = 13\n",
      "torch.Size([8192, 13, 2])\n",
      "torch.Size([8192, 26])\n",
      "number of training samples = 7372 number of validation samples = 737 number of test samples = 820\n"
     ]
    }
   ],
   "source": [
    "in_path = \"../Data/Simulation/\"\n",
    "file_name = \"phi.tsv\"\n",
    "datafile = pd.read_csv(in_path + file_name, index_col=None, sep='\\t', header=None)\n",
    "datafile = pd.DataFrame({\"mutated_sequence\": datafile.iloc[:, 0], \"DMS_score\": datafile.iloc[:, 1]})\n",
    "wt = datafile.iloc[0, 0]\n",
    "\n",
    "seqs_df = pd.DataFrame([list(seq) for seq in datafile.mutated_sequence])\n",
    "\n",
    "def get_hd(seq, wt):\n",
    "    diffs = [seq[i] != wt[i] for i in range(len(wt))]\n",
    "    return np.sum(diffs)\n",
    "\n",
    "hds = [get_hd(seq, wt) for seq in datafile.mutated_sequence]\n",
    "datafile['hd'] = hds\n",
    "\n",
    "#### Generate tokenized sequences \n",
    "\n",
    "A2N_list = get_A2N_list(datafile.mutated_sequence) # Get position-wise alphabet\n",
    "seqs = [tokenize(mutant) for mutant in datafile.mutated_sequence]\n",
    "seqs = torch.tensor(seqs)\n",
    "\n",
    "seqs_df = pd.DataFrame(seqs.cpu().numpy())\n",
    "counts = {i: seqs_df[i].value_counts() for i in range(seqs_df.shape[1])}\n",
    "n_aas = [len(counts[i]) for i in range(len(counts))]\n",
    "sites_var = np.where(np.array(n_aas) != 1)\n",
    "\n",
    "plt.plot(n_aas)\n",
    "plt.show()\n",
    "\n",
    "seqs = seqs[:, sites_var].squeeze(1)\n",
    "L = seqs.shape[1]\n",
    "print(f\"sequence length = {L}\")\n",
    "\n",
    "#### Generate one hot sequences\n",
    "\n",
    "from torch.nn.functional import one_hot\n",
    "seqs1h = one_hot(seqs)\n",
    "print(seqs1h.shape)\n",
    "\n",
    "AA_size = seqs1h.shape[-1]\n",
    "\n",
    "seqs1hf = seqs1h.view(-1, L*(AA_size))\n",
    "print(seqs1hf.shape)\n",
    "\n",
    "#### Define train test scheme\n",
    "\n",
    "import torch\n",
    "import torch.utils.data as data\n",
    "\n",
    "class ProtDataset(data.Dataset):\n",
    "    def __init__(self, feats, labels, train=True):    \n",
    "        self.train = train\n",
    "        self.feats = feats\n",
    "        self.labels = labels\n",
    "    \n",
    "    def __len__(self):\n",
    "        return len(self.feats)\n",
    "    \n",
    "    def __getitem__(self, idx):\n",
    "        \n",
    "        X = self.feats[idx]\n",
    "        y = self.labels[idx]\n",
    "        \n",
    "        return X, y\n",
    "\n",
    "# # mutagenesis sampling\n",
    "\n",
    "# min_d = 2\n",
    "# sub_list = list(np.where(datafile['hd'] <= min_d)[0])\n",
    "# comp_list = list(np.where(datafile['hd'] > min_d)[0])\n",
    "\n",
    "# num_train = 20000\n",
    "# print(num_train)\n",
    "# num_test = 1000\n",
    "\n",
    "# # train_list = np.random.choice(sub_list, len(sub_list), replace=False)\n",
    "# train_list = np.random.choice(sub_list, num_train, replace=False)\n",
    "# test_list = np.random.choice(comp_list, num_test, replace=False)\n",
    "\n",
    "# print(len(train_list))\n",
    "# print(len(test_list))\n",
    "\n",
    "train_percent = 90\n",
    "\n",
    "# designiate train test val sets\n",
    "num_train = int(.01*train_percent*len(datafile))\n",
    "num_test = len(datafile) - num_train\n",
    "train_list, val_list, test_list, sub_list = make_train_val_test_lists_rand(datafile, num_train, num_test)    \n",
    "print(f\"number of training samples = {num_train}\", \n",
    "      f\"number of validation samples = {len(val_list)}\", \n",
    "      f\"number of test samples = {num_test}\")"
   ]
  },
  {
   "cell_type": "code",
   "execution_count": 9,
   "id": "e807eec4-4c7f-41e8-933b-6478c1822318",
   "metadata": {
    "tags": []
   },
   "outputs": [],
   "source": [
    "sample_path = \"../Data/Simulation/Samples/\""
   ]
  },
  {
   "cell_type": "code",
   "execution_count": 35,
   "id": "aa3dade2-4ad9-48f0-8973-1381ee6459cb",
   "metadata": {
    "tags": []
   },
   "outputs": [],
   "source": [
    "bs_list = pd.read_csv(sample_path + \"bs_list.csv\", header=None).to_numpy().flatten()"
   ]
  },
  {
   "cell_type": "code",
   "execution_count": 36,
   "id": "b4d9603a-3a76-447c-b04f-341b1cc112f3",
   "metadata": {},
   "outputs": [],
   "source": [
    "i = 0"
   ]
  },
  {
   "cell_type": "code",
   "execution_count": 37,
   "id": "2d710eb1-8f3a-4bdd-92d4-6a97b3b40b8c",
   "metadata": {
    "tags": []
   },
   "outputs": [],
   "source": [
    "b = bs_list[i]"
   ]
  },
  {
   "cell_type": "code",
   "execution_count": 41,
   "id": "aaa027c2-0f89-4e25-b251-17e52412c200",
   "metadata": {
    "tags": []
   },
   "outputs": [],
   "source": [
    "file_name = \"phi\" + str(b) + \".csv\"\n",
    "phi = pd.read_csv(sample_path + file_name, index_col=None, sep='\\t', header=None)"
   ]
  },
  {
   "cell_type": "code",
   "execution_count": 46,
   "id": "13653bbe-8477-40d6-ade6-badbd9d25c7f",
   "metadata": {
    "tags": []
   },
   "outputs": [],
   "source": [
    "file_name = \"phi.tsv\"\n",
    "phi = pd.read_csv(in_path + file_name, index_col=None, sep='\\t', header=None).iloc[:, 1]\n",
    "phenotypes = torch.tensor(phi).float()\n",
    "phenotypes = phenotypes.unsqueeze(1)"
   ]
  },
  {
   "cell_type": "markdown",
   "id": "1e86d99d-278d-4e93-9d7a-475e52b43d88",
   "metadata": {
    "tags": []
   },
   "source": [
    "### Transformer models"
   ]
  },
  {
   "cell_type": "code",
   "execution_count": 91,
   "id": "f97454e9-8844-4fa5-be28-c00bb8e3aeef",
   "metadata": {
    "tags": []
   },
   "outputs": [],
   "source": [
    "df_r2 = pd.DataFrame(index=bs_list, columns=[1, 2, 3])"
   ]
  },
  {
   "cell_type": "code",
   "execution_count": 92,
   "id": "5ea35c75-437d-488f-a9ce-702bb4c82454",
   "metadata": {
    "tags": []
   },
   "outputs": [],
   "source": [
    "from models import make_predictions, ProtDataset, Transformer_2k, Transformer_MHA\n",
    "from scipy.stats import pearsonr"
   ]
  },
  {
   "cell_type": "code",
   "execution_count": 93,
   "id": "3a9f4960-fb80-4d58-9a86-e8e09b1f2a93",
   "metadata": {
    "tags": []
   },
   "outputs": [],
   "source": [
    "layers_to_test = [1, 2, 3]\n",
    "\n",
    "num_heads = 4\n",
    "num_layers = 1\n",
    "hidden_dim_h = 48\n",
    "dropout = .05\n",
    "batch_size = len(X)\n",
    "n_epochs = 10\n",
    "model_class = Transformer_2k"
   ]
  },
  {
   "cell_type": "code",
   "execution_count": 94,
   "id": "430744a3-d84b-455a-bfa2-fe7bb428a014",
   "metadata": {
    "tags": []
   },
   "outputs": [
    {
     "name": "stdout",
     "output_type": "stream",
     "text": [
      "Build model with 1 layers of attention\n",
      "Epoch 1/10, Loss: 1.843507170677185\n",
      "0.019084750643041125\n",
      "Epoch 1/10, Loss: 5.292021751403809\n",
      "0.12411696965495497\n",
      "Epoch 1/10, Loss: 0.8757068514823914\n",
      "0.13340663617487175\n",
      "Build model with 3 layers of attention\n",
      "Epoch 1/10, Loss: 3.1815285682678223\n",
      "0.012896476984329526\n",
      "Epoch 1/10, Loss: 2.3085882663726807\n",
      "0.10007950206287639\n",
      "Epoch 1/10, Loss: 0.8629401922225952\n",
      "0.25685198843504264\n",
      "Build model with 3 layers of attention\n",
      "Epoch 1/10, Loss: 4.799374103546143\n",
      "0.034624734867584585\n",
      "Epoch 1/10, Loss: 5.331445693969727\n",
      "0.024465393579352793\n",
      "Epoch 1/10, Loss: 2.646474599838257\n",
      "0.13569319267929564\n",
      "Build model with 3 layers of attention\n",
      "Epoch 1/10, Loss: 4.436404228210449\n",
      "0.029478725055323795\n",
      "Epoch 1/10, Loss: 5.260253429412842\n",
      "0.012339670872959646\n"
     ]
    },
    {
     "name": "stderr",
     "output_type": "stream",
     "text": [
      "\n",
      "KeyboardInterrupt\n",
      "\n"
     ]
    }
   ],
   "source": [
    "for b in bs_list:\n",
    "\n",
    "    seqs_ex = seqs + AA_size*torch.tensor(range(L))\n",
    "    X = seqs_ex.to(device)\n",
    "    y = phenotypes.to(device)\n",
    "    X_train, y_train = X[train_list], y[train_list]\n",
    "    X_val, y_val = X[val_list], y[val_list]\n",
    "    X_test, y_test = X[test_list], y[test_list]\n",
    "\n",
    "    train_dataset = ProtDataset(X_train, y_train)\n",
    "    val_dataset = ProtDataset(X_val, y_val)\n",
    "    val_loader = data.DataLoader(val_dataset,\n",
    "                                batch_size=1000,\n",
    "                                shuffle=False,\n",
    "                                drop_last=False)\n",
    "\n",
    "    test_dataset = ProtDataset(X_test, y_test)\n",
    "    test_loader = data.DataLoader(test_dataset,\n",
    "                                batch_size=1000,\n",
    "                                shuffle=False,\n",
    "                                drop_last=False)\n",
    "\n",
    "\n",
    "    input_dim = AA_size*L\n",
    "    output_dim = 1\n",
    "    learning_rate = 0.001\n",
    "\n",
    "\n",
    "    model = model_class(L, input_dim, hidden_dim_h*num_heads, num_layers, num_heads, dropout).to(device)\n",
    "\n",
    "    train_loader = data.DataLoader(train_dataset,\n",
    "                                   batch_size=batch_size,\n",
    "                                   shuffle=True,\n",
    "                                   drop_last=False)\n",
    "    criterion = nn.MSELoss()\n",
    "    optimizer = optim.Adam(model.parameters(), lr=learning_rate)\n",
    "\n",
    "\n",
    "\n",
    "    for num_layers in [1, 2, 3]:\n",
    "        print(f\"Build model with {num_layers} layers of attention, with b = {b}\")\n",
    "\n",
    "        r2_test_log = []\n",
    "        for epoch in range(n_epochs):\n",
    "                model.train()\n",
    "                total_loss = 0\n",
    "                for batch_inputs, batch_targets in train_loader:\n",
    "                    optimizer.zero_grad()\n",
    "                    outputs = model.forward(batch_inputs)\n",
    "                    loss = criterion(outputs, batch_targets)\n",
    "                    loss.backward()\n",
    "                    optimizer.step()\n",
    "                    total_loss += loss.item()\n",
    "\n",
    "                if epoch % 10 == 0:\n",
    "                    print(f\"Epoch {epoch+1}/{n_epochs}, Loss: {total_loss/len(train_loader)}\")\n",
    "                    model.eval()\n",
    "                    pred, true = make_predictions(model, val_loader)\n",
    "                    print(pearsonr(pred, true)[0]**2)\n",
    "                    if pearsonr(pred, true)[0]**2 == \"nan\":\n",
    "                        break\n",
    "                    r2_test_log.append(pearsonr(pred, true)[0]**2)\n",
    "\n",
    "\n",
    "        model.eval()\n",
    "        pred = model(X).flatten().cpu().detach().numpy()\n",
    "\n",
    "        r2 = pearsonr(pred[test_list], phi[test_list])[0]**2\n",
    "\n",
    "        df_r2[1][b] = r2\n",
    "\n",
    "        pred_file_name = \"_\".join([\"pred\", str(b), str(num_layers)]) + \".csv\"\n",
    "\n",
    "        pd.DataFrame(pred).to_csv(sample_path + pred_file_name)"
   ]
  },
  {
   "cell_type": "code",
   "execution_count": 95,
   "id": "d4fcd1c0-7e60-4a50-8856-418918fd73a5",
   "metadata": {
    "tags": []
   },
   "outputs": [
    {
     "data": {
      "text/html": [
       "<div>\n",
       "<style scoped>\n",
       "    .dataframe tbody tr th:only-of-type {\n",
       "        vertical-align: middle;\n",
       "    }\n",
       "\n",
       "    .dataframe tbody tr th {\n",
       "        vertical-align: top;\n",
       "    }\n",
       "\n",
       "    .dataframe thead th {\n",
       "        text-align: right;\n",
       "    }\n",
       "</style>\n",
       "<table border=\"1\" class=\"dataframe\">\n",
       "  <thead>\n",
       "    <tr style=\"text-align: right;\">\n",
       "      <th></th>\n",
       "      <th>1</th>\n",
       "      <th>2</th>\n",
       "      <th>3</th>\n",
       "    </tr>\n",
       "  </thead>\n",
       "  <tbody>\n",
       "    <tr>\n",
       "      <th>0.50</th>\n",
       "      <td>0.166144</td>\n",
       "      <td>NaN</td>\n",
       "      <td>NaN</td>\n",
       "    </tr>\n",
       "    <tr>\n",
       "      <th>0.55</th>\n",
       "      <td>0.276726</td>\n",
       "      <td>NaN</td>\n",
       "      <td>NaN</td>\n",
       "    </tr>\n",
       "    <tr>\n",
       "      <th>0.60</th>\n",
       "      <td>0.244883</td>\n",
       "      <td>NaN</td>\n",
       "      <td>NaN</td>\n",
       "    </tr>\n",
       "    <tr>\n",
       "      <th>0.65</th>\n",
       "      <td>0.010888</td>\n",
       "      <td>NaN</td>\n",
       "      <td>NaN</td>\n",
       "    </tr>\n",
       "    <tr>\n",
       "      <th>0.70</th>\n",
       "      <td>NaN</td>\n",
       "      <td>NaN</td>\n",
       "      <td>NaN</td>\n",
       "    </tr>\n",
       "    <tr>\n",
       "      <th>0.75</th>\n",
       "      <td>NaN</td>\n",
       "      <td>NaN</td>\n",
       "      <td>NaN</td>\n",
       "    </tr>\n",
       "    <tr>\n",
       "      <th>0.80</th>\n",
       "      <td>NaN</td>\n",
       "      <td>NaN</td>\n",
       "      <td>NaN</td>\n",
       "    </tr>\n",
       "    <tr>\n",
       "      <th>0.85</th>\n",
       "      <td>NaN</td>\n",
       "      <td>NaN</td>\n",
       "      <td>NaN</td>\n",
       "    </tr>\n",
       "    <tr>\n",
       "      <th>0.90</th>\n",
       "      <td>NaN</td>\n",
       "      <td>NaN</td>\n",
       "      <td>NaN</td>\n",
       "    </tr>\n",
       "    <tr>\n",
       "      <th>0.95</th>\n",
       "      <td>NaN</td>\n",
       "      <td>NaN</td>\n",
       "      <td>NaN</td>\n",
       "    </tr>\n",
       "    <tr>\n",
       "      <th>1.00</th>\n",
       "      <td>NaN</td>\n",
       "      <td>NaN</td>\n",
       "      <td>NaN</td>\n",
       "    </tr>\n",
       "    <tr>\n",
       "      <th>1.05</th>\n",
       "      <td>NaN</td>\n",
       "      <td>NaN</td>\n",
       "      <td>NaN</td>\n",
       "    </tr>\n",
       "    <tr>\n",
       "      <th>1.10</th>\n",
       "      <td>NaN</td>\n",
       "      <td>NaN</td>\n",
       "      <td>NaN</td>\n",
       "    </tr>\n",
       "    <tr>\n",
       "      <th>1.15</th>\n",
       "      <td>NaN</td>\n",
       "      <td>NaN</td>\n",
       "      <td>NaN</td>\n",
       "    </tr>\n",
       "    <tr>\n",
       "      <th>1.20</th>\n",
       "      <td>NaN</td>\n",
       "      <td>NaN</td>\n",
       "      <td>NaN</td>\n",
       "    </tr>\n",
       "    <tr>\n",
       "      <th>1.25</th>\n",
       "      <td>NaN</td>\n",
       "      <td>NaN</td>\n",
       "      <td>NaN</td>\n",
       "    </tr>\n",
       "    <tr>\n",
       "      <th>1.30</th>\n",
       "      <td>NaN</td>\n",
       "      <td>NaN</td>\n",
       "      <td>NaN</td>\n",
       "    </tr>\n",
       "    <tr>\n",
       "      <th>1.35</th>\n",
       "      <td>NaN</td>\n",
       "      <td>NaN</td>\n",
       "      <td>NaN</td>\n",
       "    </tr>\n",
       "    <tr>\n",
       "      <th>1.40</th>\n",
       "      <td>NaN</td>\n",
       "      <td>NaN</td>\n",
       "      <td>NaN</td>\n",
       "    </tr>\n",
       "    <tr>\n",
       "      <th>1.45</th>\n",
       "      <td>NaN</td>\n",
       "      <td>NaN</td>\n",
       "      <td>NaN</td>\n",
       "    </tr>\n",
       "    <tr>\n",
       "      <th>1.50</th>\n",
       "      <td>NaN</td>\n",
       "      <td>NaN</td>\n",
       "      <td>NaN</td>\n",
       "    </tr>\n",
       "    <tr>\n",
       "      <th>1.55</th>\n",
       "      <td>NaN</td>\n",
       "      <td>NaN</td>\n",
       "      <td>NaN</td>\n",
       "    </tr>\n",
       "    <tr>\n",
       "      <th>1.60</th>\n",
       "      <td>NaN</td>\n",
       "      <td>NaN</td>\n",
       "      <td>NaN</td>\n",
       "    </tr>\n",
       "    <tr>\n",
       "      <th>1.65</th>\n",
       "      <td>NaN</td>\n",
       "      <td>NaN</td>\n",
       "      <td>NaN</td>\n",
       "    </tr>\n",
       "    <tr>\n",
       "      <th>1.70</th>\n",
       "      <td>NaN</td>\n",
       "      <td>NaN</td>\n",
       "      <td>NaN</td>\n",
       "    </tr>\n",
       "    <tr>\n",
       "      <th>1.75</th>\n",
       "      <td>NaN</td>\n",
       "      <td>NaN</td>\n",
       "      <td>NaN</td>\n",
       "    </tr>\n",
       "    <tr>\n",
       "      <th>1.80</th>\n",
       "      <td>NaN</td>\n",
       "      <td>NaN</td>\n",
       "      <td>NaN</td>\n",
       "    </tr>\n",
       "    <tr>\n",
       "      <th>1.85</th>\n",
       "      <td>NaN</td>\n",
       "      <td>NaN</td>\n",
       "      <td>NaN</td>\n",
       "    </tr>\n",
       "    <tr>\n",
       "      <th>1.90</th>\n",
       "      <td>NaN</td>\n",
       "      <td>NaN</td>\n",
       "      <td>NaN</td>\n",
       "    </tr>\n",
       "    <tr>\n",
       "      <th>1.95</th>\n",
       "      <td>NaN</td>\n",
       "      <td>NaN</td>\n",
       "      <td>NaN</td>\n",
       "    </tr>\n",
       "    <tr>\n",
       "      <th>2.00</th>\n",
       "      <td>NaN</td>\n",
       "      <td>NaN</td>\n",
       "      <td>NaN</td>\n",
       "    </tr>\n",
       "  </tbody>\n",
       "</table>\n",
       "</div>"
      ],
      "text/plain": [
       "             1    2    3\n",
       "0.50  0.166144  NaN  NaN\n",
       "0.55  0.276726  NaN  NaN\n",
       "0.60  0.244883  NaN  NaN\n",
       "0.65  0.010888  NaN  NaN\n",
       "0.70       NaN  NaN  NaN\n",
       "0.75       NaN  NaN  NaN\n",
       "0.80       NaN  NaN  NaN\n",
       "0.85       NaN  NaN  NaN\n",
       "0.90       NaN  NaN  NaN\n",
       "0.95       NaN  NaN  NaN\n",
       "1.00       NaN  NaN  NaN\n",
       "1.05       NaN  NaN  NaN\n",
       "1.10       NaN  NaN  NaN\n",
       "1.15       NaN  NaN  NaN\n",
       "1.20       NaN  NaN  NaN\n",
       "1.25       NaN  NaN  NaN\n",
       "1.30       NaN  NaN  NaN\n",
       "1.35       NaN  NaN  NaN\n",
       "1.40       NaN  NaN  NaN\n",
       "1.45       NaN  NaN  NaN\n",
       "1.50       NaN  NaN  NaN\n",
       "1.55       NaN  NaN  NaN\n",
       "1.60       NaN  NaN  NaN\n",
       "1.65       NaN  NaN  NaN\n",
       "1.70       NaN  NaN  NaN\n",
       "1.75       NaN  NaN  NaN\n",
       "1.80       NaN  NaN  NaN\n",
       "1.85       NaN  NaN  NaN\n",
       "1.90       NaN  NaN  NaN\n",
       "1.95       NaN  NaN  NaN\n",
       "2.00       NaN  NaN  NaN"
      ]
     },
     "execution_count": 95,
     "metadata": {},
     "output_type": "execute_result"
    }
   ],
   "source": [
    "df_r2"
   ]
  },
  {
   "cell_type": "code",
   "execution_count": 90,
   "id": "e040ea9f-77ac-4170-bd17-60ae8fce6000",
   "metadata": {
    "tags": []
   },
   "outputs": [
    {
     "data": {
      "text/plain": [
       "nan"
      ]
     },
     "execution_count": 90,
     "metadata": {},
     "output_type": "execute_result"
    }
   ],
   "source": []
  },
  {
   "cell_type": "code",
   "execution_count": 41,
   "id": "cc40ca5a-1f3f-47f7-a714-696529c329fd",
   "metadata": {
    "tags": []
   },
   "outputs": [
    {
     "name": "stdout",
     "output_type": "stream",
     "text": [
      "Epoch 1/1000, Loss: 0.690438985824585\n",
      "0.33450352384037835\n",
      "Epoch 11/1000, Loss: 0.6885004639625549\n",
      "0.3345522822060674\n",
      "Epoch 21/1000, Loss: 0.6917210817337036\n",
      "0.33489569706096184\n",
      "Epoch 31/1000, Loss: 0.690503716468811\n",
      "0.33445043423238374\n",
      "Epoch 41/1000, Loss: 0.6937199831008911\n",
      "0.3349544549888166\n",
      "Epoch 51/1000, Loss: 0.6897018551826477\n",
      "0.3349820703800267\n",
      "Epoch 61/1000, Loss: 0.6903671622276306\n",
      "0.3348715630083749\n",
      "Epoch 71/1000, Loss: 0.6905573606491089\n",
      "0.333990801858931\n",
      "Epoch 81/1000, Loss: 0.6900520324707031\n",
      "0.3339530643396859\n",
      "Epoch 91/1000, Loss: 0.6918599605560303\n",
      "0.33388737945830477\n",
      "Epoch 101/1000, Loss: 0.6855214238166809\n",
      "0.33363736994078586\n",
      "Epoch 111/1000, Loss: 0.6900630593299866\n",
      "0.3344482069775963\n",
      "Epoch 121/1000, Loss: 0.6933161020278931\n",
      "0.33379924318308596\n",
      "Epoch 131/1000, Loss: 0.6920678615570068\n",
      "0.3335038580740515\n",
      "Epoch 141/1000, Loss: 0.6910368800163269\n",
      "0.3332098115220623\n",
      "Epoch 151/1000, Loss: 0.6895613074302673\n",
      "0.334586110941892\n",
      "Epoch 161/1000, Loss: 0.6901207566261292\n",
      "0.3336950682605656\n",
      "Epoch 171/1000, Loss: 0.6881248354911804\n",
      "0.3357265597437258\n",
      "Epoch 181/1000, Loss: 0.6919571161270142\n",
      "0.33536000181399833\n",
      "Epoch 191/1000, Loss: 0.6872703433036804\n",
      "0.3345195047059079\n",
      "Epoch 201/1000, Loss: 0.6903870701789856\n",
      "0.3348176619844576\n",
      "Epoch 211/1000, Loss: 0.6861852407455444\n",
      "0.3349865402587823\n",
      "Epoch 221/1000, Loss: 0.6877347826957703\n",
      "0.3349566344237566\n",
      "Epoch 231/1000, Loss: 0.689539909362793\n",
      "0.33421701228992173\n",
      "Epoch 241/1000, Loss: 0.6898649334907532\n",
      "0.3343046344614238\n",
      "Epoch 251/1000, Loss: 0.6912211179733276\n",
      "0.33555744407092297\n",
      "Epoch 261/1000, Loss: 0.6838606595993042\n",
      "0.33543883982542394\n",
      "Epoch 271/1000, Loss: 0.6854192614555359\n",
      "0.33453670782181655\n",
      "Epoch 281/1000, Loss: 0.6847020387649536\n",
      "0.332983168215973\n",
      "Epoch 291/1000, Loss: 0.6880854368209839\n",
      "0.3350909352872762\n",
      "Epoch 301/1000, Loss: 0.6851576566696167\n",
      "0.3355451211166305\n",
      "Epoch 311/1000, Loss: 0.6869576573371887\n",
      "0.33412414863273976\n",
      "Epoch 321/1000, Loss: 0.6835434436798096\n",
      "0.33330713334248396\n",
      "Epoch 331/1000, Loss: 0.6870702505111694\n",
      "0.3338922053526204\n",
      "Epoch 341/1000, Loss: 0.6852695941925049\n",
      "0.3347702735884838\n",
      "Epoch 351/1000, Loss: 0.6848676204681396\n",
      "0.3344325895697173\n",
      "Epoch 361/1000, Loss: 0.6871753334999084\n",
      "0.3348013304133264\n",
      "Epoch 371/1000, Loss: 0.6879531145095825\n",
      "0.3342852548023415\n",
      "Epoch 381/1000, Loss: 0.6869435906410217\n",
      "0.3351308469637643\n",
      "Epoch 391/1000, Loss: 0.6857447028160095\n",
      "0.33461747823508026\n",
      "Epoch 401/1000, Loss: 0.683066725730896\n",
      "0.3351026655735068\n",
      "Epoch 411/1000, Loss: 0.6843719482421875\n",
      "0.33430723717108474\n",
      "Epoch 421/1000, Loss: 0.6851516962051392\n",
      "0.3338259149400268\n",
      "Epoch 431/1000, Loss: 0.6816138029098511\n",
      "0.3341121870764412\n",
      "Epoch 441/1000, Loss: 0.6854310631752014\n",
      "0.33491138800657083\n",
      "Epoch 451/1000, Loss: 0.6831226348876953\n",
      "0.33421323681677423\n",
      "Epoch 461/1000, Loss: 0.6872237324714661\n",
      "0.3328782437528619\n",
      "Epoch 471/1000, Loss: 0.685755729675293\n",
      "0.33357753651575706\n",
      "Epoch 481/1000, Loss: 0.684678852558136\n",
      "0.33429301545559414\n",
      "Epoch 491/1000, Loss: 0.6841275691986084\n",
      "0.33429792836084193\n",
      "Epoch 501/1000, Loss: 0.6863119602203369\n",
      "0.3336104127134252\n",
      "Epoch 511/1000, Loss: 0.6830229163169861\n",
      "0.33459397393593066\n",
      "Epoch 521/1000, Loss: 0.686109721660614\n",
      "0.3338035881261153\n",
      "Epoch 531/1000, Loss: 0.6879099011421204\n",
      "0.3341031725323094\n",
      "Epoch 541/1000, Loss: 0.6824917793273926\n",
      "0.3350037536848008\n",
      "Epoch 551/1000, Loss: 0.6845530271530151\n",
      "0.33219899337852843\n",
      "Epoch 561/1000, Loss: 0.6849738955497742\n",
      "0.3349763200649966\n",
      "Epoch 571/1000, Loss: 0.6860353946685791\n",
      "0.3354595193840836\n",
      "Epoch 581/1000, Loss: 0.6835554838180542\n",
      "0.33492798436301585\n",
      "Epoch 591/1000, Loss: 0.6811909675598145\n",
      "0.33292397293586073\n",
      "Epoch 601/1000, Loss: 0.6831743717193604\n",
      "0.33483571672381557\n",
      "Epoch 611/1000, Loss: 0.6813163757324219\n",
      "0.33475459495989907\n",
      "Epoch 621/1000, Loss: 0.6799606680870056\n",
      "0.33447789706957104\n",
      "Epoch 631/1000, Loss: 0.6846827864646912\n",
      "0.3339447722853065\n",
      "Epoch 641/1000, Loss: 0.682384192943573\n",
      "0.33328180351566095\n",
      "Epoch 651/1000, Loss: 0.6863791942596436\n",
      "0.33448287104393193\n",
      "Epoch 661/1000, Loss: 0.6857017278671265\n",
      "0.3358421833831921\n",
      "Epoch 671/1000, Loss: 0.685958981513977\n",
      "0.334372720067851\n",
      "Epoch 681/1000, Loss: 0.6816283464431763\n",
      "0.33529814043634903\n",
      "Epoch 691/1000, Loss: 0.684788167476654\n",
      "0.334944538674854\n",
      "Epoch 701/1000, Loss: 0.6822339296340942\n",
      "0.33397640011264956\n",
      "Epoch 711/1000, Loss: 0.6839793920516968\n",
      "0.33445803102762905\n",
      "Epoch 721/1000, Loss: 0.6810027360916138\n",
      "0.33430642794163806\n",
      "Epoch 731/1000, Loss: 0.6820539236068726\n",
      "0.3334481281513377\n",
      "Epoch 741/1000, Loss: 0.6824963688850403\n",
      "0.33447040140190304\n",
      "Epoch 751/1000, Loss: 0.6824886798858643\n",
      "0.33438883016828286\n",
      "Epoch 761/1000, Loss: 0.6833300590515137\n",
      "0.3354919195002278\n",
      "Epoch 771/1000, Loss: 0.6808926463127136\n",
      "0.33444891338801824\n",
      "Epoch 781/1000, Loss: 0.6825941205024719\n",
      "0.3331329470593569\n",
      "Epoch 791/1000, Loss: 0.6850779056549072\n",
      "0.3351736009335527\n",
      "Epoch 801/1000, Loss: 0.6833949089050293\n",
      "0.33553763977113826\n",
      "Epoch 811/1000, Loss: 0.6816515326499939\n",
      "0.33406440881651445\n",
      "Epoch 821/1000, Loss: 0.6842464208602905\n",
      "0.3344278644288349\n",
      "Epoch 831/1000, Loss: 0.68461674451828\n",
      "0.33662533454898447\n",
      "Epoch 841/1000, Loss: 0.6828629970550537\n",
      "0.3342187410140258\n",
      "Epoch 851/1000, Loss: 0.6835196018218994\n",
      "0.33193566665091456\n",
      "Epoch 861/1000, Loss: 0.6828295588493347\n",
      "0.33536603987510166\n",
      "Epoch 871/1000, Loss: 0.6842643022537231\n",
      "0.3345215957783256\n",
      "Epoch 881/1000, Loss: 0.683806300163269\n",
      "0.3336442853089746\n",
      "Epoch 891/1000, Loss: 0.6838247179985046\n",
      "0.3347562858295358\n",
      "Epoch 901/1000, Loss: 0.6868298649787903\n",
      "0.3341874872518266\n",
      "Epoch 911/1000, Loss: 0.6830501556396484\n",
      "0.33453201505587965\n",
      "Epoch 921/1000, Loss: 0.6853398084640503\n",
      "0.3347692288541058\n",
      "Epoch 931/1000, Loss: 0.6825502514839172\n",
      "0.3340157341812479\n",
      "Epoch 941/1000, Loss: 0.6835328340530396\n",
      "0.3350202138515039\n",
      "Epoch 951/1000, Loss: 0.687397301197052\n",
      "0.33362014303306625\n",
      "Epoch 961/1000, Loss: 0.6839696168899536\n",
      "0.33473822471234094\n",
      "Epoch 971/1000, Loss: 0.6814236640930176\n",
      "0.3339977330447577\n",
      "Epoch 981/1000, Loss: 0.6830053329467773\n",
      "0.3339808500107073\n",
      "Epoch 991/1000, Loss: 0.6828458309173584\n",
      "0.3345230469018953\n"
     ]
    }
   ],
   "source": [
    "for epoch in range(n_epochs):\n",
    "        model.train()\n",
    "        total_loss = 0\n",
    "        for batch_inputs, batch_targets in train_loader:\n",
    "            optimizer.zero_grad()\n",
    "            outputs = model.forward(batch_inputs)\n",
    "            loss = criterion(outputs, batch_targets)\n",
    "            loss.backward()\n",
    "            optimizer.step()\n",
    "            total_loss += loss.item()\n",
    "\n",
    "        if epoch % 10 == 0:\n",
    "            print(f\"Epoch {epoch+1}/{n_epochs}, Loss: {total_loss/len(train_loader)}\")\n",
    "            model.eval()\n",
    "            pred, true = make_predictions(model, val_loader)\n",
    "            print(pearsonr(pred, true)[0]**2)\n",
    "            if pearsonr(pred, true)[0]**2 == \"nan\":\n",
    "                break\n",
    "            r2_test_log.append(pearsonr(pred, true)[0]**2)\n",
    "            # if (len(r2_test_log) > 2) & ((np.array(r2_test_log)[-3:] < .1).sum() == 3):\n",
    "            #     print(\"no improvement in last three steps, aborting...\")\n",
    "            #     break\n"
   ]
  },
  {
   "cell_type": "markdown",
   "id": "149791c2-e4b4-479e-a2bb-a14c51099faf",
   "metadata": {
    "tags": []
   },
   "source": [
    "#### Optuna"
   ]
  },
  {
   "cell_type": "code",
   "execution_count": 50,
   "id": "f593edf2-5a00-441f-9091-97acab569314",
   "metadata": {
    "tags": []
   },
   "outputs": [],
   "source": [
    "num_heads = 4\n",
    "input_dim = AA_size*L\n",
    "output_dim = 1\n",
    "learning_rate = 0.001\n",
    "\n",
    "def objective(trial):\n",
    "    global criterion_best, model_best\n",
    "\n",
    "    hidden_dim_h = trial.suggest_int('hidden_dim_h', 10, 200)\n",
    "    dropout = trial.suggest_float('dropout', 0.001, 0.35)\n",
    "    batch_size = trial.suggest_int('batch_size', 200, 2000)\n",
    "    # num_heads = trial.suggest_int('num_heads', 1, 4)\n",
    "    n_epochs = trial.suggest_int('n_epochs', 30, 300)\n",
    "    # learning_rate = trial.suggest_float('learning_rate', .0001, 0.001, log=True)\n",
    "    print(f\"Build model with {num_layers} layers of attention\")\n",
    "    model = model_class(L, input_dim, hidden_dim_h*num_heads, num_layers, num_heads, dropout).to(device)\n",
    "    \n",
    "    train_loader = data.DataLoader(train_dataset,\n",
    "                                   batch_size=batch_size,\n",
    "                                   shuffle=True,\n",
    "                                   drop_last=False)\n",
    "    criterion = nn.MSELoss()\n",
    "    optimizer = optim.Adam(model.parameters(), lr=learning_rate)\n",
    "\n",
    "    r2_test_log = []\n",
    "    try: \n",
    "        for epoch in range(n_epochs):\n",
    "                model.train()\n",
    "                total_loss = 0\n",
    "                for batch_inputs, batch_targets in train_loader:\n",
    "                    optimizer.zero_grad()\n",
    "                    outputs = model(batch_inputs)\n",
    "                    loss = criterion(outputs, batch_targets)\n",
    "                    loss.backward()\n",
    "                    optimizer.step()\n",
    "                    total_loss += loss.item()\n",
    "\n",
    "                if epoch % 10 == 0:\n",
    "                    print(f\"Epoch {epoch+1}/{n_epochs}, Loss: {total_loss/len(train_loader)}\")\n",
    "                    model.eval()\n",
    "                    pred, true = make_predictions(model, val_loader)\n",
    "                    print(pearsonr(pred, true)[0]**2)\n",
    "                    if pearsonr(pred, true)[0]**2 == \"nan\":\n",
    "                        break\n",
    "                    r2_test_log.append(pearsonr(pred, true)[0]**2)\n",
    "                    if (len(r2_test_log) > 2) & ((np.array(r2_test_log)[-3:] < .1).sum() == 3):\n",
    "                        print(\"no improvement in last three steps, aborting...\")\n",
    "                        break\n",
    "            \n",
    "    except: print(\"training failed\")\n",
    "\n",
    "    model.eval()\n",
    "    pred, true = make_predictions(model, val_loader)\n",
    "    criterion = pearsonr(pred, true)[0]**2    \n",
    "    \n",
    "    # write to Optuna log file \n",
    "    with open(os.path.join(results_path, optuna_log_file), mode='a', newline='') as file:\n",
    "        writer = csv.writer(file)\n",
    "        writer.writerows([[criterion]])\n",
    "    \n",
    "    # Update best model\n",
    "    print(f\"criterion = {criterion}\")\n",
    "    if criterion > criterion_best:\n",
    "        print(\"Found better hyperparameter, update model\")\n",
    "        criterion_best = criterion\n",
    "        model_best = model\n",
    "    \n",
    "    return criterion\n"
   ]
  },
  {
   "cell_type": "code",
   "execution_count": 25,
   "id": "6ff10712-575f-4b26-b4fd-37b1389a733e",
   "metadata": {
    "tags": []
   },
   "outputs": [],
   "source": [
    "results_path = \"../output_simulations/\""
   ]
  },
  {
   "cell_type": "code",
   "execution_count": 26,
   "id": "27081a1d-54bf-4b3e-a822-6863d4bab219",
   "metadata": {
    "tags": []
   },
   "outputs": [
    {
     "name": "stderr",
     "output_type": "stream",
     "text": [
      "[I 2024-03-05 21:23:46,005] A new study created in memory with name: no-name-ef1eb277-b5ff-409a-bd01-7c54a14be946\n"
     ]
    },
    {
     "name": "stdout",
     "output_type": "stream",
     "text": [
      "Build model with 2 layers of attention\n",
      "Epoch 1/75, Loss: 1.620502373751472\n",
      "0.0013598051402931063\n",
      "Epoch 11/75, Loss: 1.2789470939075245\n",
      "0.0005557855289659004\n"
     ]
    },
    {
     "name": "stderr",
     "output_type": "stream",
     "text": [
      "[I 2024-03-05 21:23:51,045] Trial 0 finished with value: 0.0030360116825343484 and parameters: {'hidden_dim_h': 103, 'dropout': 0.31282285674223015, 'batch_size': 398, 'n_epochs': 75}. Best is trial 0 with value: 0.0030360116825343484.\n"
     ]
    },
    {
     "name": "stdout",
     "output_type": "stream",
     "text": [
      "Epoch 21/75, Loss: 1.111851569484262\n",
      "0.0030360116825343484\n",
      "no improvement in last three steps, aborting...\n",
      "criterion = 0.0030360116825343484\n",
      "Found better hyperparameter, update model\n",
      "Build model with 2 layers of attention\n",
      "Epoch 1/201, Loss: 1.2541912198066711\n",
      "0.0015801704111934778\n",
      "Epoch 11/201, Loss: 1.0984157919883728\n",
      "1.172475510659368e-05\n"
     ]
    },
    {
     "name": "stderr",
     "output_type": "stream",
     "text": [
      "[I 2024-03-05 21:23:52,781] Trial 1 finished with value: 0.0004931216849985698 and parameters: {'hidden_dim_h': 15, 'dropout': 0.17506966138534708, 'batch_size': 934, 'n_epochs': 201}. Best is trial 0 with value: 0.0030360116825343484.\n"
     ]
    },
    {
     "name": "stdout",
     "output_type": "stream",
     "text": [
      "Epoch 21/201, Loss: 1.0524009466171265\n",
      "0.0004931216849985698\n",
      "no improvement in last three steps, aborting...\n",
      "criterion = 0.0004931216849985698\n",
      "Build model with 2 layers of attention\n",
      "Epoch 1/105, Loss: 1.2295722246170044\n",
      "0.0020776348723801994\n",
      "Epoch 11/105, Loss: 1.148415446281433\n",
      "0.0002271761377074177\n"
     ]
    },
    {
     "name": "stderr",
     "output_type": "stream",
     "text": [
      "[I 2024-03-05 21:23:55,572] Trial 2 finished with value: 0.00010006766637905022 and parameters: {'hidden_dim_h': 117, 'dropout': 0.2500128793100792, 'batch_size': 1375, 'n_epochs': 105}. Best is trial 0 with value: 0.0030360116825343484.\n"
     ]
    },
    {
     "name": "stdout",
     "output_type": "stream",
     "text": [
      "Epoch 21/105, Loss: 1.0958128929138184\n",
      "0.00010006766637905022\n",
      "no improvement in last three steps, aborting...\n",
      "criterion = 0.00010006766637905022\n",
      "Build model with 2 layers of attention\n",
      "Epoch 1/48, Loss: 1.2482005834579468\n",
      "8.103569100776632e-05\n",
      "Epoch 11/48, Loss: 1.2377333402633668\n",
      "0.00906371641876311\n"
     ]
    },
    {
     "name": "stderr",
     "output_type": "stream",
     "text": [
      "[I 2024-03-05 21:23:58,451] Trial 3 finished with value: 9.252926105701065e-05 and parameters: {'hidden_dim_h': 114, 'dropout': 0.3039538646134333, 'batch_size': 1644, 'n_epochs': 48}. Best is trial 0 with value: 0.0030360116825343484.\n"
     ]
    },
    {
     "name": "stdout",
     "output_type": "stream",
     "text": [
      "Epoch 21/48, Loss: 1.139106035232544\n",
      "9.252926105701065e-05\n",
      "no improvement in last three steps, aborting...\n",
      "criterion = 9.252926105701065e-05\n",
      "Build model with 2 layers of attention\n",
      "Epoch 1/80, Loss: 2.403976857662201\n",
      "0.004017923608095038\n"
     ]
    },
    {
     "name": "stderr",
     "output_type": "stream",
     "text": [
      "[I 2024-03-05 21:23:59,759] Trial 4 finished with value: 1.4063287269203053e-06 and parameters: {'hidden_dim_h': 177, 'dropout': 0.2809654408806556, 'batch_size': 912, 'n_epochs': 80}. Best is trial 0 with value: 0.0030360116825343484.\n"
     ]
    },
    {
     "name": "stdout",
     "output_type": "stream",
     "text": [
      "training failed\n",
      "criterion = 1.4063287269203053e-06\n",
      "Build model with 2 layers of attention\n",
      "Epoch 1/207, Loss: 1.2218454122543334\n",
      "0.002790058784888072\n"
     ]
    },
    {
     "name": "stderr",
     "output_type": "stream",
     "text": [
      "[I 2024-03-05 21:23:59,979] Trial 5 finished with value: 0.0026942460999946683 and parameters: {'hidden_dim_h': 106, 'dropout': 0.3413762641965482, 'batch_size': 1330, 'n_epochs': 207}. Best is trial 0 with value: 0.0030360116825343484.\n",
      "[I 2024-03-05 21:24:00,145] Trial 6 finished with value: 0.0004501186537012691 and parameters: {'hidden_dim_h': 183, 'dropout': 0.22517280467794978, 'batch_size': 934, 'n_epochs': 299}. Best is trial 0 with value: 0.0030360116825343484.\n"
     ]
    },
    {
     "name": "stdout",
     "output_type": "stream",
     "text": [
      "training failed\n",
      "criterion = 0.0026942460999946683\n",
      "Build model with 2 layers of attention\n",
      "training failed\n",
      "criterion = 0.0004501186537012691\n",
      "Build model with 2 layers of attention\n"
     ]
    },
    {
     "name": "stderr",
     "output_type": "stream",
     "text": [
      "[I 2024-03-05 21:24:00,305] Trial 7 finished with value: 0.0009000435957065047 and parameters: {'hidden_dim_h': 171, 'dropout': 0.2345460955987678, 'batch_size': 949, 'n_epochs': 68}. Best is trial 0 with value: 0.0030360116825343484.\n",
      "[I 2024-03-05 21:24:00,381] Trial 8 finished with value: 0.0010252514949251007 and parameters: {'hidden_dim_h': 172, 'dropout': 0.1727146576905531, 'batch_size': 1314, 'n_epochs': 149}. Best is trial 0 with value: 0.0030360116825343484.\n",
      "[I 2024-03-05 21:24:00,455] Trial 9 finished with value: 4.418233328574478e-06 and parameters: {'hidden_dim_h': 69, 'dropout': 0.012437834729403158, 'batch_size': 330, 'n_epochs': 85}. Best is trial 0 with value: 0.0030360116825343484.\n"
     ]
    },
    {
     "name": "stdout",
     "output_type": "stream",
     "text": [
      "training failed\n",
      "criterion = 0.0009000435957065047\n",
      "Build model with 2 layers of attention\n",
      "training failed\n",
      "criterion = 0.0010252514949251007\n",
      "Build model with 2 layers of attention\n",
      "training failed\n",
      "criterion = 4.418233328574478e-06\n",
      "Best Trial:\n",
      "  Criterion: 0.0030\n",
      "  Params: \n",
      "    hidden_dim_h: 103\n",
      "    dropout: 0.31282285674223015\n",
      "    batch_size: 398\n",
      "    n_epochs: 75\n",
      "TF_2 achieved R2 = 0.000680208659851137\n"
     ]
    }
   ],
   "source": [
    "import csv\n",
    "\n",
    "for num_layers in [2]:\n",
    "    \n",
    "    # create empy Optuna log file\n",
    "    optuna_log_file = \"optuna_log_layers=\" + str(num_layers) + \".csv\"\n",
    "    with open(os.path.join(results_path, optuna_log_file), mode='w', newline='') as file:\n",
    "        csv_writer = csv.writer(file)\n",
    "    \n",
    "    if num_layers in [1, 2, 3]:\n",
    "        model_class = Transformer_2k\n",
    "    else: model_class = Transformer_MHA\n",
    "\n",
    "    model_name = \"TF_\" + str(num_layers)\n",
    "\n",
    "    criterion_best = 0.\n",
    "    study = optuna.create_study(direction='maximize')\n",
    "    study.optimize(objective, n_trials=n_trials)\n",
    "\n",
    "    # Print the best hyperparameters\n",
    "    best_trial = study.best_trial\n",
    "    print(\"Best Trial:\")\n",
    "    print(f\"  Criterion: {best_trial.value:.4f}\")\n",
    "    print(\"  Params: \")\n",
    "    for key, value in best_trial.params.items():\n",
    "        print(f\"    {key}: {value}\")  \n",
    "\n",
    "    best_hyper_parameters = {}\n",
    "    for key, value in best_trial.params.items():\n",
    "        best_hyper_parameters[key] = value\n",
    "\n",
    "    model_best.eval()\n",
    "    pred, true = make_predictions(model_best, test_loader)\n",
    "\n",
    "    r2_test = pearsonr(pred, true)[0]**2\n",
    "    print(f\"{model_name} achieved R2 = {r2_test}\")\n",
    "\n",
    "    # save test R2 score\n",
    "    with open(os.path.join(results_path, \"R2s.csv\"), mode='a', newline='') as file:\n",
    "        writer = csv.writer(file)\n",
    "        writer.writerows([[model_name, r2_test]])\n",
    "\n",
    "    # save predictions\n",
    "    pd.DataFrame({\"prediction\": pred, \"true\": true}).to_csv(os.path.join(results_path, model_name + \"_predictions.csv\"), index=False)\n",
    "\n",
    "    # save best model\n",
    "    torch.save(model_best, os.path.join(results_path, model_name + \"_BestModel\"))        \n",
    " "
   ]
  },
  {
   "cell_type": "code",
   "execution_count": 229,
   "id": "09a0f6ea-93eb-43e7-ac67-168b68536d46",
   "metadata": {
    "tags": []
   },
   "outputs": [
    {
     "name": "stderr",
     "output_type": "stream",
     "text": [
      "[I 2024-03-05 15:07:06,666] A new study created in memory with name: no-name-74c514ed-6529-4ed9-8093-01adb51ec7e9\n",
      "[I 2024-03-05 15:07:06,729] Trial 0 finished with value: 0.008800747724592122 and parameters: {'dropout': 0.18307796896051978}. Best is trial 0 with value: 0.008800747724592122.\n"
     ]
    },
    {
     "name": "stdout",
     "output_type": "stream",
     "text": [
      "Build model with 3 layers of attention\n",
      "training failed\n",
      "criterion = 0.008800747724592122\n",
      "Found better hyperparameter, update model\n",
      "Build model with 3 layers of attention\n"
     ]
    },
    {
     "name": "stderr",
     "output_type": "stream",
     "text": [
      "[I 2024-03-05 15:07:06,940] Trial 1 finished with value: 0.000322358725781099 and parameters: {'dropout': 0.2828913337835106}. Best is trial 0 with value: 0.008800747724592122.\n"
     ]
    },
    {
     "name": "stdout",
     "output_type": "stream",
     "text": [
      "training failed\n",
      "criterion = 0.000322358725781099\n",
      "Build model with 3 layers of attention\n"
     ]
    },
    {
     "name": "stderr",
     "output_type": "stream",
     "text": [
      "[I 2024-03-05 15:07:07,150] Trial 2 finished with value: 0.00023469191436856 and parameters: {'dropout': 0.24732831686596476}. Best is trial 0 with value: 0.008800747724592122.\n",
      "Exception ignored in: <bound method IPythonKernel._clean_thread_parent_frames of <ipykernel.ipkernel.IPythonKernel object at 0x14fd98e48070>>\n",
      "Traceback (most recent call last):\n",
      "  File \"/apps/pytorch/2.2.0/lib/python3.10/site-packages/ipykernel/ipkernel.py\", line 770, in _clean_thread_parent_frames\n",
      "    def _clean_thread_parent_frames(\n",
      "KeyboardInterrupt: \n"
     ]
    },
    {
     "name": "stdout",
     "output_type": "stream",
     "text": [
      "training failed\n",
      "criterion = 0.00023469191436856\n",
      "Build model with 3 layers of attention\n"
     ]
    },
    {
     "name": "stderr",
     "output_type": "stream",
     "text": [
      "[I 2024-03-05 15:07:07,500] Trial 3 finished with value: 0.0008498836298380943 and parameters: {'dropout': 0.0691453587343099}. Best is trial 0 with value: 0.008800747724592122.\n"
     ]
    },
    {
     "name": "stdout",
     "output_type": "stream",
     "text": [
      "training failed\n",
      "criterion = 0.0008498836298380943\n",
      "Build model with 3 layers of attention\n",
      "Epoch 1/600, Loss: 1.2703548669815063\n",
      "0.013860084241972385\n",
      "Epoch 11/600, Loss: 1.246368169784546\n",
      "0.010059831629428834\n"
     ]
    },
    {
     "name": "stderr",
     "output_type": "stream",
     "text": [
      "[I 2024-03-05 15:07:11,647] Trial 4 finished with value: 0.1100127236308236 and parameters: {'dropout': 0.08359102042885057}. Best is trial 4 with value: 0.1100127236308236.\n"
     ]
    },
    {
     "name": "stdout",
     "output_type": "stream",
     "text": [
      "training failed\n",
      "criterion = 0.1100127236308236\n",
      "Found better hyperparameter, update model\n",
      "Build model with 3 layers of attention\n"
     ]
    },
    {
     "name": "stderr",
     "output_type": "stream",
     "text": [
      "[I 2024-03-05 15:07:11,857] Trial 5 finished with value: 0.0007524420683492112 and parameters: {'dropout': 0.2679197590089394}. Best is trial 4 with value: 0.1100127236308236.\n"
     ]
    },
    {
     "name": "stdout",
     "output_type": "stream",
     "text": [
      "training failed\n",
      "criterion = 0.0007524420683492112\n",
      "Build model with 3 layers of attention\n"
     ]
    },
    {
     "name": "stderr",
     "output_type": "stream",
     "text": [
      "[I 2024-03-05 15:07:12,067] Trial 6 finished with value: 0.0017039942382083887 and parameters: {'dropout': 0.09389658990360746}. Best is trial 4 with value: 0.1100127236308236.\n",
      "Exception ignored in: <bound method IPythonKernel._clean_thread_parent_frames of <ipykernel.ipkernel.IPythonKernel object at 0x14fd98e48070>>\n",
      "Traceback (most recent call last):\n",
      "  File \"/apps/pytorch/2.2.0/lib/python3.10/site-packages/ipykernel/ipkernel.py\", line 770, in _clean_thread_parent_frames\n",
      "    def _clean_thread_parent_frames(\n",
      "KeyboardInterrupt: \n"
     ]
    },
    {
     "name": "stdout",
     "output_type": "stream",
     "text": [
      "training failed\n",
      "criterion = 0.0017039942382083887\n",
      "Build model with 3 layers of attention\n"
     ]
    },
    {
     "name": "stderr",
     "output_type": "stream",
     "text": [
      "[I 2024-03-05 15:07:12,417] Trial 7 finished with value: 0.004638696369428984 and parameters: {'dropout': 0.30007000747284296}. Best is trial 4 with value: 0.1100127236308236.\n",
      "[I 2024-03-05 15:07:12,457] Trial 8 finished with value: 0.0028103064716987237 and parameters: {'dropout': 0.11777867571057819}. Best is trial 4 with value: 0.1100127236308236.\n"
     ]
    },
    {
     "name": "stdout",
     "output_type": "stream",
     "text": [
      "training failed\n",
      "criterion = 0.004638696369428984\n",
      "Build model with 3 layers of attention\n",
      "training failed\n",
      "criterion = 0.0028103064716987237\n",
      "Build model with 3 layers of attention\n"
     ]
    },
    {
     "name": "stderr",
     "output_type": "stream",
     "text": [
      "[I 2024-03-05 15:07:12,666] Trial 9 finished with value: 0.0008025660703501538 and parameters: {'dropout': 0.09269783035058327}. Best is trial 4 with value: 0.1100127236308236.\n"
     ]
    },
    {
     "name": "stdout",
     "output_type": "stream",
     "text": [
      "training failed\n",
      "criterion = 0.0008025660703501538\n",
      "Best Trial:\n",
      "  Criterion: 0.1100\n",
      "  Params: \n",
      "    dropout: 0.08359102042885057\n",
      "TF_3 achieved R2 = 0.09819685947900689\n"
     ]
    }
   ],
   "source": [
    "import csv\n",
    "\n",
    "for num_layers in [3]:\n",
    "    \n",
    "    # create empy Optuna log file\n",
    "    optuna_log_file = \"optuna_log_layers=\" + str(num_layers) + \".csv\"\n",
    "    with open(os.path.join(results_path, optuna_log_file), mode='w', newline='') as file:\n",
    "        csv_writer = csv.writer(file)\n",
    "    if num_layers in [1, 2, 3]:\n",
    "        model_class = Transformer_MHA\n",
    "    else: model_class = Transformer_MHA\n",
    "\n",
    "    model_name = \"TF_\" + str(num_layers)\n",
    "\n",
    "    criterion_best = 0.\n",
    "    study = optuna.create_study(direction='maximize')\n",
    "    study.optimize(objective, n_trials=n_trials)\n",
    "\n",
    "    # Print the best hyperparameters\n",
    "    best_trial = study.best_trial\n",
    "    print(\"Best Trial:\")\n",
    "    print(f\"  Criterion: {best_trial.value:.4f}\")\n",
    "    print(\"  Params: \")\n",
    "    for key, value in best_trial.params.items():\n",
    "        print(f\"    {key}: {value}\")  \n",
    "\n",
    "    best_hyper_parameters = {}\n",
    "    for key, value in best_trial.params.items():\n",
    "        best_hyper_parameters[key] = value\n",
    "\n",
    "    model_best.eval()\n",
    "    pred, true = make_predictions(model_best, test_loader)\n",
    "\n",
    "    r2_test = pearsonr(pred, true)[0]**2\n",
    "    print(f\"{model_name} achieved R2 = {r2_test}\")\n",
    "\n",
    "    # save test R2 score\n",
    "    with open(os.path.join(results_path, \"R2s.csv\"), mode='a', newline='') as file:\n",
    "        writer = csv.writer(file)\n",
    "        writer.writerows([[model_name, r2_test]])\n",
    "\n",
    "    # save predictions\n",
    "    pd.DataFrame({\"prediction\": pred, \"true\": true}).to_csv(os.path.join(results_path, model_name + \"_predictions.csv\"), index=False)\n",
    "\n",
    "    # save best model\n",
    "    torch.save(model_best, os.path.join(results_path, model_name + \"_BestModel\"))        \n",
    "    "
   ]
  },
  {
   "cell_type": "code",
   "execution_count": 139,
   "id": "fda883a5-22eb-468c-9192-0d1bb900e1cd",
   "metadata": {
    "tags": []
   },
   "outputs": [],
   "source": [
    "pred = model_best.forward(X_test, pre_linear_output=True).detach().cpu().numpy().flatten()\n",
    "pred_ = model_best.forward(X_test, pre_linear_output=False).detach().cpu().numpy().flatten()"
   ]
  },
  {
   "cell_type": "code",
   "execution_count": 140,
   "id": "7a662521-26cf-4fa0-992d-9527cf0fd1c0",
   "metadata": {
    "tags": []
   },
   "outputs": [
    {
     "data": {
      "text/plain": [
       "0.8702819954976507"
      ]
     },
     "execution_count": 140,
     "metadata": {},
     "output_type": "execute_result"
    }
   ],
   "source": [
    "pearsonr(pred, phi[test_list])[0]**2"
   ]
  },
  {
   "cell_type": "code",
   "execution_count": 335,
   "id": "8e917044-b3e9-495b-b839-e4b0771582a4",
   "metadata": {
    "tags": []
   },
   "outputs": [
    {
     "data": {
      "text/plain": [
       "<matplotlib.collections.PathCollection at 0x14dc15315c60>"
      ]
     },
     "execution_count": 335,
     "metadata": {},
     "output_type": "execute_result"
    },
    {
     "data": {
      "image/png": "[encoded data removed]",
      "text/plain": [
       "<Figure size 640x480 with 1 Axes>"
      ]
     },
     "metadata": {},
     "output_type": "display_data"
    }
   ],
   "source": [
    "plt.scatter(phenotypes[test_list], phi[test_list])"
   ]
  },
  {
   "cell_type": "code",
   "execution_count": 336,
   "id": "94ea0d99-4956-49e7-a8aa-61101134d72e",
   "metadata": {
    "tags": []
   },
   "outputs": [
    {
     "data": {
      "text/plain": [
       "<matplotlib.collections.PathCollection at 0x14dc1508e560>"
      ]
     },
     "execution_count": 336,
     "metadata": {},
     "output_type": "execute_result"
    },
    {
     "data": {
      "image/png": "[encoded data removed]",
      "text/plain": [
       "<Figure size 640x480 with 1 Axes>"
      ]
     },
     "metadata": {},
     "output_type": "display_data"
    }
   ],
   "source": [
    "plt.scatter(pred, phi[test_list])"
   ]
  },
  {
   "cell_type": "markdown",
   "id": "5cf79446-b2bf-47e8-9d73-da016b0d5a96",
   "metadata": {
    "jp-MarkdownHeadingCollapsed": true,
    "tags": []
   },
   "source": [
    "### Linear"
   ]
  },
  {
   "cell_type": "code",
   "execution_count": 15,
   "id": "f34606e8-c8cb-4d8f-84bd-0c15cf7348fd",
   "metadata": {
    "tags": []
   },
   "outputs": [],
   "source": [
    "from models import LinearModel, make_predictions\n",
    "from scipy.stats import pearsonr"
   ]
  },
  {
   "cell_type": "code",
   "execution_count": 16,
   "id": "17f15963-6133-494c-9125-9638588a9aee",
   "metadata": {
    "tags": []
   },
   "outputs": [
    {
     "name": "stdout",
     "output_type": "stream",
     "text": [
      "Fitting linear regression\n"
     ]
    }
   ],
   "source": [
    "print(\"Fitting linear regression\")\n",
    "model_name = \"Linear\"\n",
    "X = seqs1h.float().to(device)\n",
    "y = phenotypes.to(device)\n",
    "\n",
    "X_train, y_train = X[train_list], y[train_list]\n",
    "X_val, y_val = X[val_list], y[val_list]\n",
    "X_test, y_test = X[test_list], y[test_list]\n",
    "\n",
    "train_dataset = ProtDataset(X_train, y_train)\n",
    "train_loader = data.DataLoader(train_dataset,\n",
    "                               batch_size=1000,\n",
    "                               shuffle=True,\n",
    "                               drop_last=False)\n",
    "\n",
    "val_dataset = ProtDataset(X_val, y_val)\n",
    "val_loader = data.DataLoader(val_dataset,\n",
    "                            batch_size=1000,\n",
    "                            shuffle=False,\n",
    "                            drop_last=False)\n",
    "\n",
    "test_dataset = ProtDataset(X_test, y_test)\n",
    "test_loader = data.DataLoader(test_dataset,\n",
    "                            batch_size=1000,\n",
    "                            shuffle=False,\n",
    "                            drop_last=False)"
   ]
  },
  {
   "cell_type": "code",
   "execution_count": 18,
   "id": "79259e2c-2812-45f3-9ab6-43739cdd63c2",
   "metadata": {
    "tags": []
   },
   "outputs": [
    {
     "name": "stdout",
     "output_type": "stream",
     "text": [
      "Epoch 1/500, Loss: 1.0566463129861015\n",
      "0.006793651225874935\n",
      "Epoch 11/500, Loss: 0.8898396066256932\n",
      "0.0883591970627812\n",
      "Epoch 21/500, Loss: 0.8809182729039874\n",
      "0.08728508946035765\n",
      "Epoch 31/500, Loss: 0.8793532848358154\n",
      "0.08686562033654803\n",
      "Epoch 41/500, Loss: 0.8873685853821891\n",
      "0.08789232790346907\n",
      "Epoch 51/500, Loss: 0.8847949419702802\n",
      "0.08871421128859318\n",
      "Epoch 61/500, Loss: 0.8839403220585415\n",
      "0.08692452010323005\n",
      "Epoch 71/500, Loss: 0.8863020198685783\n",
      "0.08624047376165106\n",
      "Epoch 81/500, Loss: 0.8868712357112339\n",
      "0.08732842103769921\n",
      "Epoch 91/500, Loss: 0.8893088442938668\n",
      "0.08762147044770187\n",
      "Epoch 101/500, Loss: 0.8898455160004752\n",
      "0.08604081841417074\n"
     ]
    },
    {
     "ename": "KeyboardInterrupt",
     "evalue": "",
     "output_type": "error",
     "traceback": [
      "\u001b[0;31m---------------------------------------------------------------------------\u001b[0m",
      "\u001b[0;31mKeyboardInterrupt\u001b[0m                         Traceback (most recent call last)",
      "Cell \u001b[0;32mIn[18], line 14\u001b[0m\n\u001b[1;32m     12\u001b[0m model\u001b[38;5;241m.\u001b[39mtrain()\n\u001b[1;32m     13\u001b[0m total_loss \u001b[38;5;241m=\u001b[39m \u001b[38;5;241m0\u001b[39m\n\u001b[0;32m---> 14\u001b[0m \u001b[38;5;28;01mfor\u001b[39;00m batch_inputs, batch_targets \u001b[38;5;129;01min\u001b[39;00m train_loader:\n\u001b[1;32m     15\u001b[0m     optimizer\u001b[38;5;241m.\u001b[39mzero_grad()\n\u001b[1;32m     16\u001b[0m     outputs \u001b[38;5;241m=\u001b[39m model(batch_inputs)\n",
      "File \u001b[0;32m/apps/pytorch/2.2.0/lib/python3.10/site-packages/torch/utils/data/dataloader.py:631\u001b[0m, in \u001b[0;36m_BaseDataLoaderIter.__next__\u001b[0;34m(self)\u001b[0m\n\u001b[1;32m    628\u001b[0m \u001b[38;5;28;01mif\u001b[39;00m \u001b[38;5;28mself\u001b[39m\u001b[38;5;241m.\u001b[39m_sampler_iter \u001b[38;5;129;01mis\u001b[39;00m \u001b[38;5;28;01mNone\u001b[39;00m:\n\u001b[1;32m    629\u001b[0m     \u001b[38;5;66;03m# TODO(https://github.com/pytorch/pytorch/issues/76750)\u001b[39;00m\n\u001b[1;32m    630\u001b[0m     \u001b[38;5;28mself\u001b[39m\u001b[38;5;241m.\u001b[39m_reset()  \u001b[38;5;66;03m# type: ignore[call-arg]\u001b[39;00m\n\u001b[0;32m--> 631\u001b[0m data \u001b[38;5;241m=\u001b[39m \u001b[38;5;28;43mself\u001b[39;49m\u001b[38;5;241;43m.\u001b[39;49m\u001b[43m_next_data\u001b[49m\u001b[43m(\u001b[49m\u001b[43m)\u001b[49m\n\u001b[1;32m    632\u001b[0m \u001b[38;5;28mself\u001b[39m\u001b[38;5;241m.\u001b[39m_num_yielded \u001b[38;5;241m+\u001b[39m\u001b[38;5;241m=\u001b[39m \u001b[38;5;241m1\u001b[39m\n\u001b[1;32m    633\u001b[0m \u001b[38;5;28;01mif\u001b[39;00m \u001b[38;5;28mself\u001b[39m\u001b[38;5;241m.\u001b[39m_dataset_kind \u001b[38;5;241m==\u001b[39m _DatasetKind\u001b[38;5;241m.\u001b[39mIterable \u001b[38;5;129;01mand\u001b[39;00m \\\n\u001b[1;32m    634\u001b[0m         \u001b[38;5;28mself\u001b[39m\u001b[38;5;241m.\u001b[39m_IterableDataset_len_called \u001b[38;5;129;01mis\u001b[39;00m \u001b[38;5;129;01mnot\u001b[39;00m \u001b[38;5;28;01mNone\u001b[39;00m \u001b[38;5;129;01mand\u001b[39;00m \\\n\u001b[1;32m    635\u001b[0m         \u001b[38;5;28mself\u001b[39m\u001b[38;5;241m.\u001b[39m_num_yielded \u001b[38;5;241m>\u001b[39m \u001b[38;5;28mself\u001b[39m\u001b[38;5;241m.\u001b[39m_IterableDataset_len_called:\n",
      "File \u001b[0;32m/apps/pytorch/2.2.0/lib/python3.10/site-packages/torch/utils/data/dataloader.py:675\u001b[0m, in \u001b[0;36m_SingleProcessDataLoaderIter._next_data\u001b[0;34m(self)\u001b[0m\n\u001b[1;32m    673\u001b[0m \u001b[38;5;28;01mdef\u001b[39;00m \u001b[38;5;21m_next_data\u001b[39m(\u001b[38;5;28mself\u001b[39m):\n\u001b[1;32m    674\u001b[0m     index \u001b[38;5;241m=\u001b[39m \u001b[38;5;28mself\u001b[39m\u001b[38;5;241m.\u001b[39m_next_index()  \u001b[38;5;66;03m# may raise StopIteration\u001b[39;00m\n\u001b[0;32m--> 675\u001b[0m     data \u001b[38;5;241m=\u001b[39m \u001b[38;5;28;43mself\u001b[39;49m\u001b[38;5;241;43m.\u001b[39;49m\u001b[43m_dataset_fetcher\u001b[49m\u001b[38;5;241;43m.\u001b[39;49m\u001b[43mfetch\u001b[49m\u001b[43m(\u001b[49m\u001b[43mindex\u001b[49m\u001b[43m)\u001b[49m  \u001b[38;5;66;03m# may raise StopIteration\u001b[39;00m\n\u001b[1;32m    676\u001b[0m     \u001b[38;5;28;01mif\u001b[39;00m \u001b[38;5;28mself\u001b[39m\u001b[38;5;241m.\u001b[39m_pin_memory:\n\u001b[1;32m    677\u001b[0m         data \u001b[38;5;241m=\u001b[39m _utils\u001b[38;5;241m.\u001b[39mpin_memory\u001b[38;5;241m.\u001b[39mpin_memory(data, \u001b[38;5;28mself\u001b[39m\u001b[38;5;241m.\u001b[39m_pin_memory_device)\n",
      "File \u001b[0;32m/apps/pytorch/2.2.0/lib/python3.10/site-packages/torch/utils/data/_utils/fetch.py:51\u001b[0m, in \u001b[0;36m_MapDatasetFetcher.fetch\u001b[0;34m(self, possibly_batched_index)\u001b[0m\n\u001b[1;32m     49\u001b[0m         data \u001b[38;5;241m=\u001b[39m \u001b[38;5;28mself\u001b[39m\u001b[38;5;241m.\u001b[39mdataset\u001b[38;5;241m.\u001b[39m__getitems__(possibly_batched_index)\n\u001b[1;32m     50\u001b[0m     \u001b[38;5;28;01melse\u001b[39;00m:\n\u001b[0;32m---> 51\u001b[0m         data \u001b[38;5;241m=\u001b[39m [\u001b[38;5;28mself\u001b[39m\u001b[38;5;241m.\u001b[39mdataset[idx] \u001b[38;5;28;01mfor\u001b[39;00m idx \u001b[38;5;129;01min\u001b[39;00m possibly_batched_index]\n\u001b[1;32m     52\u001b[0m \u001b[38;5;28;01melse\u001b[39;00m:\n\u001b[1;32m     53\u001b[0m     data \u001b[38;5;241m=\u001b[39m \u001b[38;5;28mself\u001b[39m\u001b[38;5;241m.\u001b[39mdataset[possibly_batched_index]\n",
      "File \u001b[0;32m/apps/pytorch/2.2.0/lib/python3.10/site-packages/torch/utils/data/_utils/fetch.py:51\u001b[0m, in \u001b[0;36m<listcomp>\u001b[0;34m(.0)\u001b[0m\n\u001b[1;32m     49\u001b[0m         data \u001b[38;5;241m=\u001b[39m \u001b[38;5;28mself\u001b[39m\u001b[38;5;241m.\u001b[39mdataset\u001b[38;5;241m.\u001b[39m__getitems__(possibly_batched_index)\n\u001b[1;32m     50\u001b[0m     \u001b[38;5;28;01melse\u001b[39;00m:\n\u001b[0;32m---> 51\u001b[0m         data \u001b[38;5;241m=\u001b[39m [\u001b[38;5;28mself\u001b[39m\u001b[38;5;241m.\u001b[39mdataset[idx] \u001b[38;5;28;01mfor\u001b[39;00m idx \u001b[38;5;129;01min\u001b[39;00m possibly_batched_index]\n\u001b[1;32m     52\u001b[0m \u001b[38;5;28;01melse\u001b[39;00m:\n\u001b[1;32m     53\u001b[0m     data \u001b[38;5;241m=\u001b[39m \u001b[38;5;28mself\u001b[39m\u001b[38;5;241m.\u001b[39mdataset[possibly_batched_index]\n",
      "\u001b[0;31mKeyboardInterrupt\u001b[0m: "
     ]
    }
   ],
   "source": [
    "dropout_p = 0.\n",
    "fc_out_norm = False\n",
    "n_epochs = 500\n",
    "learning_rate = .01\n",
    "model = LinearModel(L, AA_size, dropout_p, fc_out_norm).to(device)\n",
    "criterion = nn.MSELoss()\n",
    "optimizer = optim.Adam(model.parameters(), lr=learning_rate)\n",
    "\n",
    "r2_test_log = []\n",
    "for epoch in range(n_epochs):\n",
    "\n",
    "        model.train()\n",
    "        total_loss = 0\n",
    "        for batch_inputs, batch_targets in train_loader:\n",
    "            optimizer.zero_grad()\n",
    "            outputs = model(batch_inputs)\n",
    "            loss = criterion(outputs, batch_targets)\n",
    "            loss.backward()\n",
    "            optimizer.step()\n",
    "            total_loss += loss.item()\n",
    "\n",
    "        if epoch % 10 == 0:\n",
    "            print(f\"Epoch {epoch+1}/{n_epochs}, Loss: {total_loss/len(train_loader)}\")\n",
    "            model.eval()\n",
    "            pred, true = make_predictions(model, val_loader)\n",
    "            print(pearsonr(pred, true)[0]**2)\n",
    "            if pearsonr(pred, true)[0]**2 == \"nan\":\n",
    "                break\n",
    "            r2_test_log.append(pearsonr(pred, true)[0]**2)"
   ]
  },
  {
   "cell_type": "code",
   "execution_count": 21,
   "id": "d0cffea1-bea0-4eb8-bb0a-eb36e2ed66cc",
   "metadata": {
    "tags": []
   },
   "outputs": [],
   "source": [
    "pd.DataFrame(model(X).flatten().cpu().detach().numpy()).to_csv(\"../Data/Simulation/pred.csv\", header=None, index=None)"
   ]
  },
  {
   "cell_type": "code",
   "execution_count": null,
   "id": "38d5340c-7c52-4204-9ace-2941de25b217",
   "metadata": {},
   "outputs": [],
   "source": [
    "model.eval()\n",
    "pred, true = make_predictions(model, test_loader)\n",
    "criterion = pearsonr(pred, true)[0]**2     \n",
    "print(f\"criterion = {criterion}\")\n",
    "if criterion > criterion_best:\n",
    "    print(\"Found better hyperparameter, update model\")\n",
    "    criterion_best = criterion\n",
    "    model_best = model\n",
    "\n",
    "return criterion\n",
    "\n",
    "\n",
    "criterion_best = 0.\n",
    "study = optuna.create_study(direction='maximize')\n",
    "study.optimize(lin_objective, n_trials=linear_model_n_trials)\n",
    "\n",
    "# Print the best hyperparameters\n",
    "best_trial = study.best_trial\n",
    "print(\"Best Trial:\")\n",
    "print(f\"  Criterion: {best_trial.value:.4f}\")\n",
    "print(\"  Params: \")\n",
    "for key, value in best_trial.params.items():\n",
    "print(f\"    {key}: {value}\")  \n",
    "\n",
    "best_hyper_parameters = {}\n",
    "for key, value in best_trial.params.items():\n",
    "best_hyper_parameters[key] = value\n",
    "\n",
    "model_best.eval()\n",
    "pred, true = model_best(X_val.flatten(1)).flatten().detach().cpu().numpy(), y_val.flatten().detach().cpu().numpy()"
   ]
  },
  {
   "cell_type": "markdown",
   "id": "7af19fea-405d-4e00-90a3-9a62bb4889ea",
   "metadata": {},
   "source": [
    "#### Optuna"
   ]
  },
  {
   "cell_type": "code",
   "execution_count": 15,
   "id": "6649b161-8bd1-4e35-b47d-3c0c36cfedbd",
   "metadata": {
    "tags": []
   },
   "outputs": [],
   "source": [
    "linear_model_n_trials = 10"
   ]
  },
  {
   "cell_type": "code",
   "execution_count": 58,
   "id": "9075eb7f-a638-4475-b41e-63a3e7108438",
   "metadata": {
    "tags": []
   },
   "outputs": [
    {
     "name": "stdout",
     "output_type": "stream",
     "text": [
      "Fitting linear regression\n"
     ]
    },
    {
     "ename": "NameError",
     "evalue": "name 'optuna' is not defined",
     "output_type": "error",
     "traceback": [
      "\u001b[0;31m---------------------------------------------------------------------------\u001b[0m",
      "\u001b[0;31mNameError\u001b[0m                                 Traceback (most recent call last)",
      "Cell \u001b[0;32mIn[58], line 77\u001b[0m\n\u001b[1;32m     73\u001b[0m     \u001b[38;5;28;01mreturn\u001b[39;00m criterion\n\u001b[1;32m     76\u001b[0m criterion_best \u001b[38;5;241m=\u001b[39m \u001b[38;5;241m0.\u001b[39m\n\u001b[0;32m---> 77\u001b[0m study \u001b[38;5;241m=\u001b[39m \u001b[43moptuna\u001b[49m\u001b[38;5;241m.\u001b[39mcreate_study(direction\u001b[38;5;241m=\u001b[39m\u001b[38;5;124m'\u001b[39m\u001b[38;5;124mmaximize\u001b[39m\u001b[38;5;124m'\u001b[39m)\n\u001b[1;32m     78\u001b[0m study\u001b[38;5;241m.\u001b[39moptimize(lin_objective, n_trials\u001b[38;5;241m=\u001b[39mlinear_model_n_trials)\n\u001b[1;32m     80\u001b[0m \u001b[38;5;66;03m# Print the best hyperparameters\u001b[39;00m\n",
      "\u001b[0;31mNameError\u001b[0m: name 'optuna' is not defined"
     ]
    }
   ],
   "source": [
    "print(\"Fitting linear regression\")\n",
    "model_name = \"Linear\"\n",
    "X = seqs1h.float().to(device)\n",
    "y = phenotypes.to(device)\n",
    "\n",
    "X_train, y_train = X[train_list], y[train_list]\n",
    "X_val, y_val = X[val_list], y[val_list]\n",
    "X_test, y_test = X[test_list], y[test_list]\n",
    "\n",
    "train_dataset = ProtDataset(X_train, y_train)\n",
    "train_loader = data.DataLoader(train_dataset,\n",
    "                               batch_size=1000,\n",
    "                               shuffle=True,\n",
    "                               drop_last=False)\n",
    "\n",
    "val_dataset = ProtDataset(X_val, y_val)\n",
    "val_loader = data.DataLoader(val_dataset,\n",
    "                            batch_size=1000,\n",
    "                            shuffle=False,\n",
    "                            drop_last=False)\n",
    "\n",
    "test_dataset = ProtDataset(X_test, y_test)\n",
    "test_loader = data.DataLoader(test_dataset,\n",
    "                            batch_size=1000,\n",
    "                            shuffle=False,\n",
    "                            drop_last=False)\n",
    "\n",
    "def lin_objective(trial):\n",
    "    global criterion_best, model_best\n",
    "\n",
    "    dropout_p = trial.suggest_float('dropout_p', 0.00, 0.1)\n",
    "    fc_out_norm = trial.suggest_categorical('fc_out_norm', [True, False])\n",
    "    n_epochs = trial.suggest_int('n_epochs', 30, 300)\n",
    "    learning_rate = trial.suggest_float('learning_rate', .0001, 0.01, log=True)\n",
    "    model = LinearModel(L, AA_size, dropout_p, fc_out_norm).to(device)\n",
    "    criterion = nn.MSELoss()\n",
    "    optimizer = optim.Adam(model.parameters(), lr=learning_rate)\n",
    "    \n",
    "    r2_test_log = []\n",
    "    for epoch in range(n_epochs):\n",
    "\n",
    "            model.train()\n",
    "            total_loss = 0\n",
    "            for batch_inputs, batch_targets in train_loader:\n",
    "                optimizer.zero_grad()\n",
    "                outputs = model(batch_inputs)\n",
    "                loss = criterion(outputs, batch_targets)\n",
    "                loss.backward()\n",
    "                optimizer.step()\n",
    "                total_loss += loss.item()\n",
    "\n",
    "            if epoch % 10 == 0:\n",
    "                print(f\"Epoch {epoch+1}/{n_epochs}, Loss: {total_loss/len(train_loader)}\")\n",
    "                model.eval()\n",
    "                pred, true = make_predictions(model, val_loader)\n",
    "                print(pearsonr(pred, true)[0]**2)\n",
    "                if pearsonr(pred, true)[0]**2 == \"nan\":\n",
    "                    break\n",
    "                r2_test_log.append(pearsonr(pred, true)[0]**2)\n",
    "                if (len(r2_test_log) > 2) & ((np.array(r2_test_log)[-3:] < .1).sum() == 3):\n",
    "                    print(\"no improvement in last three steps, aborting...\")\n",
    "                    break\n",
    "\n",
    "    model.eval()\n",
    "    pred, true = make_predictions(model, test_loader)\n",
    "    criterion = pearsonr(pred, true)[0]**2     \n",
    "    print(f\"criterion = {criterion}\")\n",
    "    if criterion > criterion_best:\n",
    "        print(\"Found better hyperparameter, update model\")\n",
    "        criterion_best = criterion\n",
    "        model_best = model\n",
    "    \n",
    "    return criterion\n",
    "\n",
    "\n",
    "criterion_best = 0.\n",
    "study = optuna.create_study(direction='maximize')\n",
    "study.optimize(lin_objective, n_trials=linear_model_n_trials)\n",
    "\n",
    "# Print the best hyperparameters\n",
    "best_trial = study.best_trial\n",
    "print(\"Best Trial:\")\n",
    "print(f\"  Criterion: {best_trial.value:.4f}\")\n",
    "print(\"  Params: \")\n",
    "for key, value in best_trial.params.items():\n",
    "    print(f\"    {key}: {value}\")  \n",
    "\n",
    "best_hyper_parameters = {}\n",
    "for key, value in best_trial.params.items():\n",
    "    best_hyper_parameters[key] = value\n",
    "\n",
    "model_best.eval()\n",
    "pred, true = model_best(X_val.flatten(1)).flatten().detach().cpu().numpy(), y_val.flatten().detach().cpu().numpy()"
   ]
  },
  {
   "cell_type": "code",
   "execution_count": 208,
   "id": "fd2bb477-4b16-4474-92b5-5e45a138790e",
   "metadata": {
    "tags": []
   },
   "outputs": [],
   "source": [
    "model_best.eval()\n",
    "pred, true = model_best(X_val.flatten(1)).flatten().detach().cpu().numpy(), y_val.flatten().detach().cpu().numpy()"
   ]
  },
  {
   "cell_type": "code",
   "execution_count": 209,
   "id": "d5229911-3a4f-4a51-919f-bc98eb234454",
   "metadata": {
    "tags": []
   },
   "outputs": [
    {
     "data": {
      "text/plain": [
       "0.37465757003032196"
      ]
     },
     "execution_count": 209,
     "metadata": {},
     "output_type": "execute_result"
    }
   ],
   "source": [
    "pearsonr(pred, true)[0]**2"
   ]
  }
 ],
 "metadata": {
  "kernelspec": {
   "display_name": "PyTorch-2.2.0",
   "language": "python",
   "name": "pytorch-2.2.0"
  },
  "language_info": {
   "codemirror_mode": {
    "name": "ipython",
    "version": 3
   },
   "file_extension": ".py",
   "mimetype": "text/x-python",
   "name": "python",
   "nbconvert_exporter": "python",
   "pygments_lexer": "ipython3",
   "version": "3.10.13"
  }
 },
 "nbformat": 4,
 "nbformat_minor": 5
}
