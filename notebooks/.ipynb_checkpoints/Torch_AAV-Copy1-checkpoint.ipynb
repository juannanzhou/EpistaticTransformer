{
 "cells": [
  {
   "cell_type": "code",
   "execution_count": 1,
   "id": "e09c8b8b-c771-40df-b815-72e91851a579",
   "metadata": {
    "tags": []
   },
   "outputs": [],
   "source": [
    "## Standard libraries\n",
    "import os\n",
    "import numpy as np\n",
    "import math\n",
    "import json\n",
    "from functools import partial\n",
    "\n",
    "import random as rd\n",
    "\n",
    "import pandas as pd\n",
    "import numpy as np\n",
    "import matplotlib.pyplot as plt\n",
    "import torch\n",
    "import GPUtil\n",
    "import torch\n",
    "import torch.nn as nn\n",
    "import sys\n",
    "sys.path.append('../model')\n",
    "from utils import amino_acid_to_number, tokenize\n",
    "\n",
    "device = \"cuda:0\""
   ]
  },
  {
   "cell_type": "code",
   "execution_count": 52,
   "id": "5903e96c-68a1-4f61-a46f-d9dbeb500d5e",
   "metadata": {
    "tags": []
   },
   "outputs": [
    {
     "name": "stdout",
     "output_type": "stream",
     "text": [
      "| ID | GPU | MEM |\n",
      "------------------\n",
      "|  0 |  0% | 84% |\n",
      "|  1 |  0% |  0% |\n",
      "|  2 |  0% |  0% |\n",
      "|  3 |  0% | 33% |\n",
      "|  4 |  0% |  0% |\n",
      "|  5 |  0% |  0% |\n",
      "|  6 |  0% |  0% |\n",
      "|  7 |  0% |  0% |\n"
     ]
    }
   ],
   "source": [
    "def sgpu():\n",
    "    GPUtil.showUtilization()\n",
    "\n",
    "sgpu()"
   ]
  },
  {
   "cell_type": "code",
   "execution_count": 3,
   "id": "fca42876-cbb0-432c-a868-6a4436d4857f",
   "metadata": {
    "tags": []
   },
   "outputs": [],
   "source": [
    "import pandas as pd\n",
    "import numpy as np\n",
    "import matplotlib.pyplot as plt\n",
    "import torch\n",
    "import GPUtil\n",
    "import torch"
   ]
  },
  {
   "cell_type": "code",
   "execution_count": 4,
   "id": "568d6d7b-ec7c-426f-95ec-14ea1640f5b5",
   "metadata": {
    "tags": []
   },
   "outputs": [],
   "source": [
    "amino_acid_to_number = {'A': 0,\n",
    "     'R': 1,\n",
    "     'N': 2,\n",
    "     'D': 3,\n",
    "     'C': 4,\n",
    "     'E': 5,\n",
    "     'Q': 6,\n",
    "     'G': 7,\n",
    "     'H': 8,\n",
    "     'I': 9,\n",
    "     'L': 10,\n",
    "     'K': 11,\n",
    "     'M': 12,\n",
    "     'F': 13,\n",
    "     'P': 14,\n",
    "     'S': 15,\n",
    "     'T': 16,\n",
    "     'W': 17,\n",
    "     'Y': 18,\n",
    "     'V': 19, \n",
    "     '_': 20                  \n",
    "       }\n",
    "\n",
    "def tokenize(seq):\n",
    "    numeric_sequence = [amino_acid_to_number[aa] for aa in seq]\n",
    "    return numeric_sequence"
   ]
  },
  {
   "cell_type": "code",
   "execution_count": 5,
   "id": "6a5d374d-9c74-4772-a361-1aaba536f172",
   "metadata": {
    "tags": []
   },
   "outputs": [],
   "source": [
    "# summary_files = pd.read_csv(\"../ProteinGym_substitutions/ProteinGym_reference_file_substitutions.csv\")\n",
    "\n",
    "# summary_files = summary_files.set_index(\"DMS_id\")\n",
    "\n",
    "# study_ids = [\"CAPSD_AAV2S_Sinai_substitutions_2021\", \"F7YBW8_MESOW_Aakre_2015\", \n",
    "#  \"GCN4_YEAST_Staller_induction_2018\", \"GFP_AEQVI_Sarkisyan_2016\", \"HIS7_YEAST_Pokusaeva_2019\"]\n",
    "\n",
    "# ID = \"HIS7_YEAST_Pokusaeva_2019\"\n",
    "\n",
    "# filename = summary_files.loc[ID].DMS_filename\n",
    "\n",
    "# datafile = pd.read_csv(\"../ProteinGym_substitutions/\" + filename)\n",
    "\n",
    "summary_files = pd.read_csv(\"../Data/ProteinGym_substitutions/ProteinGym_reference_file_substitutions.csv\")\n",
    "\n",
    "summary_files = summary_files.set_index(\"DMS_id\")\n",
    "\n",
    "study_ids = [\"CAPSD_AAV2S_Sinai_substitutions_2021\", \"F7YBW8_MESOW_Aakre_2015\", \n",
    " \"GCN4_YEAST_Staller_induction_2018\", \"GFP_AEQVI_Sarkisyan_2016\", \"HIS7_YEAST_Pokusaeva_2019\"]\n",
    "\n",
    "filename = summary_files.loc[\"CAPSD_AAV2S_Sinai_substitutions_2021\"].DMS_filename\n",
    "\n",
    "datafile = pd.read_csv(\"../Data/ProteinGym_substitutions/\" + filename)"
   ]
  },
  {
   "cell_type": "code",
   "execution_count": 6,
   "id": "c414c3a1-91fa-4fdf-90ec-ff41909e84a0",
   "metadata": {
    "tags": []
   },
   "outputs": [
    {
     "data": {
      "text/html": [
       "<div>\n",
       "<style scoped>\n",
       "    .dataframe tbody tr th:only-of-type {\n",
       "        vertical-align: middle;\n",
       "    }\n",
       "\n",
       "    .dataframe tbody tr th {\n",
       "        vertical-align: top;\n",
       "    }\n",
       "\n",
       "    .dataframe thead th {\n",
       "        text-align: right;\n",
       "    }\n",
       "</style>\n",
       "<table border=\"1\" class=\"dataframe\">\n",
       "  <thead>\n",
       "    <tr style=\"text-align: right;\">\n",
       "      <th></th>\n",
       "      <th>mutant</th>\n",
       "      <th>mutated_sequence</th>\n",
       "      <th>DMS_score</th>\n",
       "      <th>DMS_score_bin</th>\n",
       "    </tr>\n",
       "  </thead>\n",
       "  <tbody>\n",
       "    <tr>\n",
       "      <th>0</th>\n",
       "      <td>A572C</td>\n",
       "      <td>MAADGYLPDWLEDTLSEGIRQWWKLKPGPPPPKPAERHKDDSRGLV...</td>\n",
       "      <td>0.783106</td>\n",
       "      <td>1</td>\n",
       "    </tr>\n",
       "    <tr>\n",
       "      <th>1</th>\n",
       "      <td>A572C:E574A</td>\n",
       "      <td>MAADGYLPDWLEDTLSEGIRQWWKLKPGPPPPKPAERHKDDSRGLV...</td>\n",
       "      <td>-1.910004</td>\n",
       "      <td>0</td>\n",
       "    </tr>\n",
       "    <tr>\n",
       "      <th>2</th>\n",
       "      <td>A572C:E574A:Q584C:R585V</td>\n",
       "      <td>MAADGYLPDWLEDTLSEGIRQWWKLKPGPPPPKPAERHKDDSRGLV...</td>\n",
       "      <td>-4.135085</td>\n",
       "      <td>0</td>\n",
       "    </tr>\n",
       "    <tr>\n",
       "      <th>3</th>\n",
       "      <td>A572C:E574A:S578V:Q584C:R585P</td>\n",
       "      <td>MAADGYLPDWLEDTLSEGIRQWWKLKPGPPPPKPAERHKDDSRGLV...</td>\n",
       "      <td>-4.901771</td>\n",
       "      <td>0</td>\n",
       "    </tr>\n",
       "    <tr>\n",
       "      <th>4</th>\n",
       "      <td>A572C:E574A:T581S:N582G</td>\n",
       "      <td>MAADGYLPDWLEDTLSEGIRQWWKLKPGPPPPKPAERHKDDSRGLV...</td>\n",
       "      <td>-2.227975</td>\n",
       "      <td>0</td>\n",
       "    </tr>\n",
       "    <tr>\n",
       "      <th>...</th>\n",
       "      <td>...</td>\n",
       "      <td>...</td>\n",
       "      <td>...</td>\n",
       "      <td>...</td>\n",
       "    </tr>\n",
       "    <tr>\n",
       "      <th>42323</th>\n",
       "      <td>Y576W:V579Y:S580D:L583D:Q584E</td>\n",
       "      <td>MAADGYLPDWLEDTLSEGIRQWWKLKPGPPPPKPAERHKDDSRGLV...</td>\n",
       "      <td>0.424268</td>\n",
       "      <td>1</td>\n",
       "    </tr>\n",
       "    <tr>\n",
       "      <th>42324</th>\n",
       "      <td>Y576W:V579Y:S580D:N587D</td>\n",
       "      <td>MAADGYLPDWLEDTLSEGIRQWWKLKPGPPPPKPAERHKDDSRGLV...</td>\n",
       "      <td>1.175576</td>\n",
       "      <td>1</td>\n",
       "    </tr>\n",
       "    <tr>\n",
       "      <th>42325</th>\n",
       "      <td>Y576W:V579Y:T581D:R585V:N587D</td>\n",
       "      <td>MAADGYLPDWLEDTLSEGIRQWWKLKPGPPPPKPAERHKDDSRGLV...</td>\n",
       "      <td>0.847795</td>\n",
       "      <td>1</td>\n",
       "    </tr>\n",
       "    <tr>\n",
       "      <th>42326</th>\n",
       "      <td>Y576W:V579Y:T581E:N582I:L583E:R588A</td>\n",
       "      <td>MAADGYLPDWLEDTLSEGIRQWWKLKPGPPPPKPAERHKDDSRGLV...</td>\n",
       "      <td>0.751041</td>\n",
       "      <td>1</td>\n",
       "    </tr>\n",
       "    <tr>\n",
       "      <th>42327</th>\n",
       "      <td>Y576W:V579Y:T581E:R585Q:G586E:R588A</td>\n",
       "      <td>MAADGYLPDWLEDTLSEGIRQWWKLKPGPPPPKPAERHKDDSRGLV...</td>\n",
       "      <td>1.177617</td>\n",
       "      <td>1</td>\n",
       "    </tr>\n",
       "  </tbody>\n",
       "</table>\n",
       "<p>42328 rows × 4 columns</p>\n",
       "</div>"
      ],
      "text/plain": [
       "                                    mutant  \\\n",
       "0                                    A572C   \n",
       "1                              A572C:E574A   \n",
       "2                  A572C:E574A:Q584C:R585V   \n",
       "3            A572C:E574A:S578V:Q584C:R585P   \n",
       "4                  A572C:E574A:T581S:N582G   \n",
       "...                                    ...   \n",
       "42323        Y576W:V579Y:S580D:L583D:Q584E   \n",
       "42324              Y576W:V579Y:S580D:N587D   \n",
       "42325        Y576W:V579Y:T581D:R585V:N587D   \n",
       "42326  Y576W:V579Y:T581E:N582I:L583E:R588A   \n",
       "42327  Y576W:V579Y:T581E:R585Q:G586E:R588A   \n",
       "\n",
       "                                        mutated_sequence  DMS_score  \\\n",
       "0      MAADGYLPDWLEDTLSEGIRQWWKLKPGPPPPKPAERHKDDSRGLV...   0.783106   \n",
       "1      MAADGYLPDWLEDTLSEGIRQWWKLKPGPPPPKPAERHKDDSRGLV...  -1.910004   \n",
       "2      MAADGYLPDWLEDTLSEGIRQWWKLKPGPPPPKPAERHKDDSRGLV...  -4.135085   \n",
       "3      MAADGYLPDWLEDTLSEGIRQWWKLKPGPPPPKPAERHKDDSRGLV...  -4.901771   \n",
       "4      MAADGYLPDWLEDTLSEGIRQWWKLKPGPPPPKPAERHKDDSRGLV...  -2.227975   \n",
       "...                                                  ...        ...   \n",
       "42323  MAADGYLPDWLEDTLSEGIRQWWKLKPGPPPPKPAERHKDDSRGLV...   0.424268   \n",
       "42324  MAADGYLPDWLEDTLSEGIRQWWKLKPGPPPPKPAERHKDDSRGLV...   1.175576   \n",
       "42325  MAADGYLPDWLEDTLSEGIRQWWKLKPGPPPPKPAERHKDDSRGLV...   0.847795   \n",
       "42326  MAADGYLPDWLEDTLSEGIRQWWKLKPGPPPPKPAERHKDDSRGLV...   0.751041   \n",
       "42327  MAADGYLPDWLEDTLSEGIRQWWKLKPGPPPPKPAERHKDDSRGLV...   1.177617   \n",
       "\n",
       "       DMS_score_bin  \n",
       "0                  1  \n",
       "1                  0  \n",
       "2                  0  \n",
       "3                  0  \n",
       "4                  0  \n",
       "...              ...  \n",
       "42323              1  \n",
       "42324              1  \n",
       "42325              1  \n",
       "42326              1  \n",
       "42327              1  \n",
       "\n",
       "[42328 rows x 4 columns]"
      ]
     },
     "execution_count": 6,
     "metadata": {},
     "output_type": "execute_result"
    }
   ],
   "source": [
    "datafile"
   ]
  },
  {
   "cell_type": "code",
   "execution_count": 7,
   "id": "07410e6c-fd0e-4dd5-86e0-5eb10241f074",
   "metadata": {
    "tags": []
   },
   "outputs": [],
   "source": [
    "# # Pokusaeva 2019\n",
    "# path = \"../Data/HIS3InterspeciesEpistasis/Data/S5_scaled_info_v2.csv\"\n",
    "# datafile = pd.read_csv(path, sep='\\t')\n",
    "# new_column_names = {'aa_seq': 'mutated_sequence', 's_original': 'DMS_score'}\n",
    "# datafile.rename(columns=new_column_names, inplace=True)"
   ]
  },
  {
   "cell_type": "code",
   "execution_count": 8,
   "id": "4d2b178c-1337-4c0f-8021-414f66ea75d0",
   "metadata": {
    "tags": []
   },
   "outputs": [
    {
     "data": {
      "image/png": "[encoded data removed]",
      "text/plain": [
       "<Figure size 640x480 with 1 Axes>"
      ]
     },
     "metadata": {},
     "output_type": "display_data"
    },
    {
     "name": "stdout",
     "output_type": "stream",
     "text": [
      "number of mutants HD>5 = 11113\n"
     ]
    },
    {
     "data": {
      "image/png": "[encoded data removed]",
      "text/plain": [
       "<Figure size 640x480 with 1 Axes>"
      ]
     },
     "metadata": {},
     "output_type": "display_data"
    },
    {
     "data": {
      "image/png": "[encoded data removed]",
      "text/plain": [
       "<Figure size 640x480 with 1 Axes>"
      ]
     },
     "metadata": {},
     "output_type": "display_data"
    }
   ],
   "source": [
    "lens = np.array([len(seq) for seq in datafile.mutated_sequence])\n",
    "datafile['length'] = [len(seq) for seq in datafile.mutated_sequence]\n",
    "datafile.length.value_counts()\n",
    "\n",
    "n_mutants = np.array([mutant.count(\":\") for mutant in datafile.mutant]) + 1\n",
    "datafile['hd'] = n_mutants\n",
    "plt.hist(n_mutants, bins=20)\n",
    "plt.show()\n",
    "print(f\"number of mutants HD>5 = {np.sum(n_mutants > 5)}\")\n",
    "\n",
    "# Fitness vs. Hamming distance\n",
    "\n",
    "plt.scatter(datafile['hd'], datafile['DMS_score'])\n",
    "plt.show()\n",
    "\n",
    "plt.hist(datafile.DMS_score, bins=20)\n",
    "plt.show()"
   ]
  },
  {
   "cell_type": "code",
   "execution_count": 9,
   "id": "672b513e-6be1-4800-8f31-c4a4ca5a0a7b",
   "metadata": {
    "tags": []
   },
   "outputs": [
    {
     "data": {
      "image/png": "[encoded data removed]",
      "text/plain": [
       "<Figure size 640x480 with 1 Axes>"
      ]
     },
     "metadata": {},
     "output_type": "display_data"
    },
    {
     "name": "stdout",
     "output_type": "stream",
     "text": [
      "torch.Size([42328, 28, 20])\n",
      "torch.Size([42328, 560])\n"
     ]
    },
    {
     "name": "stderr",
     "output_type": "stream",
     "text": [
      "/scratch/local/21025580/ipykernel_3190751/3371315416.py:18: UserWarning: Creating a tensor from a list of numpy.ndarrays is extremely slow. Please consider converting the list to a single numpy.ndarray with numpy.array() before converting to a tensor. (Triggered internally at /opt/conda/conda-bld/pytorch_1682343995026/work/torch/csrc/utils/tensor_new.cpp:245.)\n",
      "  seqs = seqs[:, sites_var].squeeze(1)\n"
     ]
    }
   ],
   "source": [
    "seqs_tokenized = [tokenize(seq) for seq in datafile.mutated_sequence]\n",
    "seqs = torch.tensor(seqs_tokenized)\n",
    "seqs_df = pd.DataFrame(seqs.cpu().numpy())\n",
    "L = len(seqs[0])\n",
    "AA_size = 20\n",
    "\n",
    "# Find variable sites\n",
    "\n",
    "counts = {i: seqs_df[i].value_counts() for i in range(seqs_df.shape[1])}\n",
    "\n",
    "n_aas = [len(counts[i]) for i in range(len(counts))]\n",
    "sites_var = np.where(np.array(n_aas) != 1)\n",
    "\n",
    "plt.plot(n_aas)\n",
    "plt.show()\n",
    "\n",
    "seqs = seqs.cpu()\n",
    "seqs = seqs[:, sites_var].squeeze(1)\n",
    "L = seqs.shape[1]\n",
    "\n",
    "from torch.nn.functional import one_hot\n",
    "seqs1h = one_hot(seqs)\n",
    "print(seqs1h.shape)\n",
    "\n",
    "seqs1hf = seqs1h.view(-1, L*(AA_size))\n",
    "print(seqs1hf.shape)\n",
    "\n",
    "phenotypes = torch.tensor(list(datafile.DMS_score)).float()\n",
    "phenotypes = phenotypes.unsqueeze(1)"
   ]
  },
  {
   "cell_type": "code",
   "execution_count": 10,
   "id": "4f4e4c2d-20f4-4f78-990e-713d1dda108e",
   "metadata": {
    "tags": []
   },
   "outputs": [],
   "source": [
    "import torch\n",
    "import torch.utils.data as data\n",
    "\n",
    "class ProtDataset(data.Dataset):\n",
    "    def __init__(self, feats, labels, train=True):    \n",
    "        self.train = train\n",
    "        self.feats = feats\n",
    "        self.labels = labels\n",
    "    \n",
    "    def __len__(self):\n",
    "        return len(self.feats)\n",
    "    \n",
    "    def __getitem__(self, idx):\n",
    "        \n",
    "        X = self.feats[idx]\n",
    "        y = self.labels[idx]\n",
    "\n",
    "        return X, y"
   ]
  },
  {
   "cell_type": "code",
   "execution_count": 11,
   "id": "b61d7004-fe2e-4559-afe7-582ebf06879a",
   "metadata": {
    "tags": []
   },
   "outputs": [],
   "source": [
    "# min_d = 7\n",
    "# sub_list = list(np.where(datafile['hd'] < min_d)[0])\n",
    "# comp_list = list(np.where(datafile['hd'] >= min_d)[0])\n",
    "\n",
    "# num_train = len(sub_list)\n",
    "# num_test = 1000\n",
    "\n",
    "# train_list = np.random.choice(sub_list, num_train, replace=False)\n",
    "# test_list = np.random.choice(comp_list, num_test, replace=False)\n",
    "\n",
    "# print(len(set(train_list)))\n",
    "# print(len(set(test_list)))"
   ]
  },
  {
   "cell_type": "code",
   "execution_count": 12,
   "id": "f413c7df-01d0-48ea-91a2-489f9d15ce67",
   "metadata": {
    "tags": []
   },
   "outputs": [],
   "source": [
    "# min_d = 8\n",
    "\n",
    "# n = datafile.shape[0]\n",
    "\n",
    "# num_train = 20000\n",
    "# num_test = 2000\n",
    "\n",
    "# train_list = np.random.choice(range(n), num_train, replace=False)\n",
    "\n",
    "# comp_list = list(np.where(datafile['hd'] >= min_d)[0])\n",
    "# comp_list = list(set(comp_list).difference(set(train_list)))\n",
    "# test_list = np.random.choice(comp_list, num_test, replace=False)\n",
    "\n",
    "# print(len(set(train_list)))\n",
    "# print(len(set(test_list)))"
   ]
  },
  {
   "cell_type": "code",
   "execution_count": 13,
   "id": "814a0c1b-3794-4345-919e-f5b861009d31",
   "metadata": {
    "tags": []
   },
   "outputs": [],
   "source": [
    "n = datafile.shape[0]\n",
    "train_num = 10000\n",
    "\n",
    "test_list_by_d = {}\n",
    "for d in datafile.hd.unique():\n",
    "    inds = np.where(np.array(datafile['hd'] == d))[0]\n",
    "    min_num = int(.8*(len(inds)))\n",
    "    test_list_by_d[d] = np.random.choice(inds, min(500, min_num), replace=False)\n",
    "\n",
    "test_list = np.concatenate(list(test_list_by_d.values()))\n",
    "\n",
    "comp_list = list(set(range(n)).difference(test_list))\n",
    "\n",
    "train_list = np.random.choice(comp_list, train_num)"
   ]
  },
  {
   "cell_type": "code",
   "execution_count": 14,
   "id": "51ce3b6b-093f-41e0-9f9d-a95d14cd61b7",
   "metadata": {
    "tags": []
   },
   "outputs": [
    {
     "data": {
      "text/html": [
       "<div>\n",
       "<style scoped>\n",
       "    .dataframe tbody tr th:only-of-type {\n",
       "        vertical-align: middle;\n",
       "    }\n",
       "\n",
       "    .dataframe tbody tr th {\n",
       "        vertical-align: top;\n",
       "    }\n",
       "\n",
       "    .dataframe thead th {\n",
       "        text-align: right;\n",
       "    }\n",
       "</style>\n",
       "<table border=\"1\" class=\"dataframe\">\n",
       "  <thead>\n",
       "    <tr style=\"text-align: right;\">\n",
       "      <th></th>\n",
       "      <th>mutant</th>\n",
       "      <th>mutated_sequence</th>\n",
       "      <th>DMS_score</th>\n",
       "      <th>DMS_score_bin</th>\n",
       "      <th>length</th>\n",
       "      <th>hd</th>\n",
       "    </tr>\n",
       "  </thead>\n",
       "  <tbody>\n",
       "    <tr>\n",
       "      <th>1</th>\n",
       "      <td>A572C:E574A</td>\n",
       "      <td>MAADGYLPDWLEDTLSEGIRQWWKLKPGPPPPKPAERHKDDSRGLV...</td>\n",
       "      <td>-1.910004</td>\n",
       "      <td>0</td>\n",
       "      <td>735</td>\n",
       "      <td>2</td>\n",
       "    </tr>\n",
       "    <tr>\n",
       "      <th>2</th>\n",
       "      <td>A572C:E574A:Q584C:R585V</td>\n",
       "      <td>MAADGYLPDWLEDTLSEGIRQWWKLKPGPPPPKPAERHKDDSRGLV...</td>\n",
       "      <td>-4.135085</td>\n",
       "      <td>0</td>\n",
       "      <td>735</td>\n",
       "      <td>4</td>\n",
       "    </tr>\n",
       "    <tr>\n",
       "      <th>4</th>\n",
       "      <td>A572C:E574A:T581S:N582G</td>\n",
       "      <td>MAADGYLPDWLEDTLSEGIRQWWKLKPGPPPPKPAERHKDDSRGLV...</td>\n",
       "      <td>-2.227975</td>\n",
       "      <td>0</td>\n",
       "      <td>735</td>\n",
       "      <td>4</td>\n",
       "    </tr>\n",
       "    <tr>\n",
       "      <th>5</th>\n",
       "      <td>A572C:E574D:G577N:S578Y:R585H:N587T</td>\n",
       "      <td>MAADGYLPDWLEDTLSEGIRQWWKLKPGPPPPKPAERHKDDSRGLV...</td>\n",
       "      <td>-4.867752</td>\n",
       "      <td>0</td>\n",
       "      <td>735</td>\n",
       "      <td>6</td>\n",
       "    </tr>\n",
       "    <tr>\n",
       "      <th>7</th>\n",
       "      <td>A572C:E574N:Y576W:S580H</td>\n",
       "      <td>MAADGYLPDWLEDTLSEGIRQWWKLKPGPPPPKPAERHKDDSRGLV...</td>\n",
       "      <td>-4.828650</td>\n",
       "      <td>0</td>\n",
       "      <td>735</td>\n",
       "      <td>4</td>\n",
       "    </tr>\n",
       "    <tr>\n",
       "      <th>...</th>\n",
       "      <td>...</td>\n",
       "      <td>...</td>\n",
       "      <td>...</td>\n",
       "      <td>...</td>\n",
       "      <td>...</td>\n",
       "      <td>...</td>\n",
       "    </tr>\n",
       "    <tr>\n",
       "      <th>42322</th>\n",
       "      <td>Y576W:V579Y:L583E:Q584M</td>\n",
       "      <td>MAADGYLPDWLEDTLSEGIRQWWKLKPGPPPPKPAERHKDDSRGLV...</td>\n",
       "      <td>0.913962</td>\n",
       "      <td>1</td>\n",
       "      <td>735</td>\n",
       "      <td>4</td>\n",
       "    </tr>\n",
       "    <tr>\n",
       "      <th>42324</th>\n",
       "      <td>Y576W:V579Y:S580D:N587D</td>\n",
       "      <td>MAADGYLPDWLEDTLSEGIRQWWKLKPGPPPPKPAERHKDDSRGLV...</td>\n",
       "      <td>1.175576</td>\n",
       "      <td>1</td>\n",
       "      <td>735</td>\n",
       "      <td>4</td>\n",
       "    </tr>\n",
       "    <tr>\n",
       "      <th>42325</th>\n",
       "      <td>Y576W:V579Y:T581D:R585V:N587D</td>\n",
       "      <td>MAADGYLPDWLEDTLSEGIRQWWKLKPGPPPPKPAERHKDDSRGLV...</td>\n",
       "      <td>0.847795</td>\n",
       "      <td>1</td>\n",
       "      <td>735</td>\n",
       "      <td>5</td>\n",
       "    </tr>\n",
       "    <tr>\n",
       "      <th>42326</th>\n",
       "      <td>Y576W:V579Y:T581E:N582I:L583E:R588A</td>\n",
       "      <td>MAADGYLPDWLEDTLSEGIRQWWKLKPGPPPPKPAERHKDDSRGLV...</td>\n",
       "      <td>0.751041</td>\n",
       "      <td>1</td>\n",
       "      <td>735</td>\n",
       "      <td>6</td>\n",
       "    </tr>\n",
       "    <tr>\n",
       "      <th>42327</th>\n",
       "      <td>Y576W:V579Y:T581E:R585Q:G586E:R588A</td>\n",
       "      <td>MAADGYLPDWLEDTLSEGIRQWWKLKPGPPPPKPAERHKDDSRGLV...</td>\n",
       "      <td>1.177617</td>\n",
       "      <td>1</td>\n",
       "      <td>735</td>\n",
       "      <td>6</td>\n",
       "    </tr>\n",
       "  </tbody>\n",
       "</table>\n",
       "<p>35136 rows × 6 columns</p>\n",
       "</div>"
      ],
      "text/plain": [
       "                                    mutant  \\\n",
       "1                              A572C:E574A   \n",
       "2                  A572C:E574A:Q584C:R585V   \n",
       "4                  A572C:E574A:T581S:N582G   \n",
       "5      A572C:E574D:G577N:S578Y:R585H:N587T   \n",
       "7                  A572C:E574N:Y576W:S580H   \n",
       "...                                    ...   \n",
       "42322              Y576W:V579Y:L583E:Q584M   \n",
       "42324              Y576W:V579Y:S580D:N587D   \n",
       "42325        Y576W:V579Y:T581D:R585V:N587D   \n",
       "42326  Y576W:V579Y:T581E:N582I:L583E:R588A   \n",
       "42327  Y576W:V579Y:T581E:R585Q:G586E:R588A   \n",
       "\n",
       "                                        mutated_sequence  DMS_score  \\\n",
       "1      MAADGYLPDWLEDTLSEGIRQWWKLKPGPPPPKPAERHKDDSRGLV...  -1.910004   \n",
       "2      MAADGYLPDWLEDTLSEGIRQWWKLKPGPPPPKPAERHKDDSRGLV...  -4.135085   \n",
       "4      MAADGYLPDWLEDTLSEGIRQWWKLKPGPPPPKPAERHKDDSRGLV...  -2.227975   \n",
       "5      MAADGYLPDWLEDTLSEGIRQWWKLKPGPPPPKPAERHKDDSRGLV...  -4.867752   \n",
       "7      MAADGYLPDWLEDTLSEGIRQWWKLKPGPPPPKPAERHKDDSRGLV...  -4.828650   \n",
       "...                                                  ...        ...   \n",
       "42322  MAADGYLPDWLEDTLSEGIRQWWKLKPGPPPPKPAERHKDDSRGLV...   0.913962   \n",
       "42324  MAADGYLPDWLEDTLSEGIRQWWKLKPGPPPPKPAERHKDDSRGLV...   1.175576   \n",
       "42325  MAADGYLPDWLEDTLSEGIRQWWKLKPGPPPPKPAERHKDDSRGLV...   0.847795   \n",
       "42326  MAADGYLPDWLEDTLSEGIRQWWKLKPGPPPPKPAERHKDDSRGLV...   0.751041   \n",
       "42327  MAADGYLPDWLEDTLSEGIRQWWKLKPGPPPPKPAERHKDDSRGLV...   1.177617   \n",
       "\n",
       "       DMS_score_bin  length  hd  \n",
       "1                  0     735   2  \n",
       "2                  0     735   4  \n",
       "4                  0     735   4  \n",
       "5                  0     735   6  \n",
       "7                  0     735   4  \n",
       "...              ...     ...  ..  \n",
       "42322              1     735   4  \n",
       "42324              1     735   4  \n",
       "42325              1     735   5  \n",
       "42326              1     735   6  \n",
       "42327              1     735   6  \n",
       "\n",
       "[35136 rows x 6 columns]"
      ]
     },
     "execution_count": 14,
     "metadata": {},
     "output_type": "execute_result"
    }
   ],
   "source": [
    "datafile.iloc[comp_list]"
   ]
  },
  {
   "cell_type": "code",
   "execution_count": 15,
   "id": "771352ba-e51f-4dfc-b757-0bc4129dad56",
   "metadata": {
    "tags": []
   },
   "outputs": [
    {
     "data": {
      "image/png": "[encoded data removed]",
      "text/plain": [
       "<Figure size 640x480 with 1 Axes>"
      ]
     },
     "metadata": {},
     "output_type": "display_data"
    }
   ],
   "source": [
    "plt.hist(phenotypes[train_list].flatten().numpy(), density=True, alpha=.5)\n",
    "plt.hist(phenotypes[test_list].flatten().numpy(), density=True, alpha=.5)\n",
    "plt.show()"
   ]
  },
  {
   "cell_type": "markdown",
   "id": "0973e263-c868-4813-aeaa-f78d2b923408",
   "metadata": {
    "tags": []
   },
   "source": [
    "### Fit Linear model"
   ]
  },
  {
   "cell_type": "code",
   "execution_count": 16,
   "id": "b12c4363-4e88-4e75-96da-5c28c72a8ec1",
   "metadata": {
    "tags": []
   },
   "outputs": [
    {
     "data": {
      "text/plain": [
       "torch.Size([10000, 560])"
      ]
     },
     "execution_count": 16,
     "metadata": {},
     "output_type": "execute_result"
    }
   ],
   "source": [
    "X = seqs1hf.float().to(device)\n",
    "y = phenotypes.to(device)\n",
    "\n",
    "X_train, y_train = X[train_list], y[train_list]\n",
    "X_test, y_test = X[test_list], y[test_list]\n",
    "\n",
    "train_dataset = ProtDataset(X_train, y_train)\n",
    "train_loader = data.DataLoader(train_dataset,\n",
    "                               batch_size=1000,\n",
    "                               shuffle=True,\n",
    "                               drop_last=False)\n",
    "\n",
    "X_train.shape"
   ]
  },
  {
   "cell_type": "code",
   "execution_count": 17,
   "id": "8ff936fe-59fe-443b-81a0-ded68534c281",
   "metadata": {
    "tags": []
   },
   "outputs": [],
   "source": [
    "# # Define the linear regression model as provided\n",
    "# class LinearRegressionModel(nn.Module):\n",
    "#     @nn.compact\n",
    "#     def __call__(self, x, train:bool):\n",
    "#         batch_size = x.shape[0]        \n",
    "#         x = x.reshape(batch_size, -1)\n",
    "#         weights = self.param('weights', lambda key, shape: jax.random.normal(key, shape=shape), (L*AA_size,))\n",
    "#         bias = self.param('bias', lambda key, shape: jax.random.normal(key, shape=shape), ())\n",
    "#         scale = self.param('scale', lambda key, shape: jax.random.normal(key, shape=shape), ())\n",
    "#         x = jnp.dot(x, weights)\n",
    "#         x = x.reshape(-1, 1)\n",
    "#         x = nn.BatchNorm(use_running_average=not train)(x)\n",
    "#         x = x.reshape(-1)        \n",
    "\n",
    "#         # return linear_output\n",
    "#         return scale*nn.sigmoid(x) + bias\n",
    "\n",
    "# # Define a custom loss function (mean squared error)\n",
    "# def mse_loss(params, x, y):\n",
    "#     predictions, _ = model.apply(params, x, train=True, mutable=['batch_stats'])\n",
    "#     loss = jnp.mean((predictions - y) ** 2)\n",
    "#     return loss\n",
    "\n",
    "# # Create an instance of the model\n",
    "# model = LinearRegressionModel()"
   ]
  },
  {
   "cell_type": "code",
   "execution_count": 18,
   "id": "f7b53784-66d2-449e-b29f-d683f2940c1d",
   "metadata": {
    "tags": []
   },
   "outputs": [],
   "source": [
    "class LinearModel(nn.Module):\n",
    "    def __init__(self):\n",
    "        super(LinearModel, self).__init__()\n",
    "        self.fc = nn.Linear((AA_size)*L, 1)\n",
    "        self.sigmoid_norm = nn.BatchNorm1d(1, affine=False)                \n",
    "        self.sigmoid = nn.Sigmoid()\n",
    "        self.sigmoid_scale = nn.Linear(1, 1)        \n",
    "        \n",
    "    def forward(self, x):\n",
    "        x = self.fc(x)\n",
    "        # x = self.sigmoid_norm(x)\n",
    "        x = self.sigmoid(x)\n",
    "        x = self.sigmoid_scale(x)        \n",
    "            \n",
    "        return x"
   ]
  },
  {
   "cell_type": "code",
   "execution_count": 19,
   "id": "183070fe-d539-41f0-a205-bd8b5703bd2f",
   "metadata": {
    "tags": []
   },
   "outputs": [
    {
     "data": {
      "image/png": "[encoded data removed]",
      "text/plain": [
       "<Figure size 640x480 with 1 Axes>"
      ]
     },
     "metadata": {},
     "output_type": "display_data"
    }
   ],
   "source": [
    "x, y = next(iter(train_loader))\n",
    "model = LinearModel().cuda()\n",
    "output = model(x)\n",
    "\n",
    "plt.hist(output.detach().cpu().numpy())\n",
    "plt.show()"
   ]
  },
  {
   "cell_type": "code",
   "execution_count": 20,
   "id": "337ffb1a-8216-49a8-8264-4ecfe0c1f421",
   "metadata": {
    "tags": []
   },
   "outputs": [
    {
     "name": "stdout",
     "output_type": "stream",
     "text": [
      "Epoch 1/100, Loss: 11.226631546020508\n",
      "0.013293251963568665\n",
      "Epoch 11/100, Loss: 9.344870376586915\n",
      "0.0018762029407526095\n",
      "Epoch 21/100, Loss: 8.401036071777344\n",
      "0.10424972387308831\n",
      "Epoch 31/100, Loss: 5.7426046371459964\n",
      "0.38879458294017144\n",
      "Epoch 41/100, Loss: 4.0148539543151855\n",
      "0.5717345512531607\n",
      "Epoch 51/100, Loss: 2.9909332752227784\n",
      "0.6593898891451028\n",
      "Epoch 61/100, Loss: 2.448521590232849\n",
      "0.6987368887919677\n",
      "Epoch 71/100, Loss: 2.177570176124573\n",
      "0.7191371179437188\n",
      "Epoch 81/100, Loss: 2.043179619312286\n",
      "0.727975755044709\n",
      "Epoch 91/100, Loss: 1.9835640072822571\n",
      "0.7343184233558547\n"
     ]
    }
   ],
   "source": [
    "import torch.optim as optim\n",
    "import torch\n",
    "import torch.nn as nn\n",
    "\n",
    "\n",
    "from scipy.stats import pearsonr\n",
    "learning_rate = 0.01\n",
    "epochs = 100\n",
    "\n",
    "criterion = nn.MSELoss()\n",
    "optimizer = optim.Adam(model.parameters(), lr=learning_rate)\n",
    "\n",
    "for epoch in range(epochs):\n",
    "    total_loss = 0\n",
    "    for batch_inputs, batch_targets in train_loader:\n",
    "        model.train()\n",
    "        optimizer.zero_grad()\n",
    "        outputs = model(batch_inputs)\n",
    "        loss = criterion(outputs, batch_targets)\n",
    "        loss.backward()\n",
    "        optimizer.step()\n",
    "        total_loss += loss.item()\n",
    "    \n",
    "    if epoch % 10 == 0:\n",
    "        print(f\"Epoch {epoch+1}/{epochs}, Loss: {total_loss/len(train_loader)}\")\n",
    "        model.eval()\n",
    "        pred, true = model(X_test.flatten(1)).flatten().detach().cpu().numpy(), y_test.flatten().detach().cpu().numpy()\n",
    "        print(pearsonr(pred, true)[0]**2)"
   ]
  },
  {
   "cell_type": "code",
   "execution_count": 21,
   "id": "070f5368-5560-4413-b722-c4e4073c8cb8",
   "metadata": {
    "tags": []
   },
   "outputs": [
    {
     "data": {
      "text/plain": [
       "<matplotlib.collections.PathCollection at 0x1546a21bc2b0>"
      ]
     },
     "execution_count": 21,
     "metadata": {},
     "output_type": "execute_result"
    },
    {
     "data": {
      "image/png": "[encoded data removed]",
      "text/plain": [
       "<Figure size 640x480 with 1 Axes>"
      ]
     },
     "metadata": {},
     "output_type": "display_data"
    }
   ],
   "source": [
    "pred, true = model(X_test.flatten(1)).flatten().detach().cpu().numpy(), y_test.flatten().detach().cpu().numpy()\n",
    "plt.scatter(pred, true)"
   ]
  },
  {
   "cell_type": "markdown",
   "id": "bdb8456a-e4e1-4502-8f13-7208968e6738",
   "metadata": {},
   "source": [
    "### Fit transformer"
   ]
  },
  {
   "cell_type": "code",
   "execution_count": 22,
   "id": "758919ee-e105-4ba0-bab8-5d34f836e2a9",
   "metadata": {
    "tags": []
   },
   "outputs": [],
   "source": [
    "# seqs = seqs + AA_size*torch.tensor(range(L))\n",
    "\n",
    "# X = seqs.to(device)\n",
    "# y = phenotypes.to(device)\n",
    "\n",
    "\n",
    "# train_list = np.random.choice(len(X), num_train)\n",
    "# comp_list = list(set(range(len(X))).difference(train_list))\n",
    "# test_list = np.random.choice(comp_list, num_test)\n",
    "\n",
    "# X_train, y_train = X[train_list], y[train_list]\n",
    "# X_test, y_test = X[test_list], y[test_list]\n",
    "\n",
    "# train_dataset = ProtDataset(X_train, y_train)\n",
    "# train_loader = data.DataLoader(train_dataset,\n",
    "#                                batch_size=1000,\n",
    "#                                shuffle=True,\n",
    "#                                drop_last=False)"
   ]
  },
  {
   "cell_type": "code",
   "execution_count": 23,
   "id": "2e464895-21ca-4319-8c40-0b958fc52dec",
   "metadata": {
    "tags": []
   },
   "outputs": [],
   "source": [
    "seqs = seqs + AA_size*torch.tensor(range(L))\n",
    "\n",
    "X = seqs.to(device)\n",
    "y = phenotypes.to(device)\n",
    "\n",
    "X_train, y_train = X[train_list], y[train_list]\n",
    "X_test, y_test = X[test_list], y[test_list]\n",
    "\n",
    "train_dataset = ProtDataset(X_train, y_train)\n",
    "train_loader = data.DataLoader(train_dataset,\n",
    "                               batch_size=1000,\n",
    "                               shuffle=True,\n",
    "                               drop_last=False)"
   ]
  },
  {
   "cell_type": "code",
   "execution_count": 24,
   "id": "2b687d7c-d7c1-4e81-b899-9d240bc3f12d",
   "metadata": {
    "tags": []
   },
   "outputs": [],
   "source": [
    "# This works!!\n",
    "import torch\n",
    "import torch.nn as nn\n",
    "import torch.optim as optim\n",
    "from torch.utils.data import DataLoader, TensorDataset\n",
    "import numpy as np\n",
    "\n",
    "\n",
    "import torch\n",
    "import torch.nn as nn\n",
    "\n",
    "class MultiHeadAttentionLayer(nn.Module):\n",
    "    def __init__(self, hidden_dim, num_heads, dropout):\n",
    "        super(MultiHeadAttentionLayer, self).__init__()\n",
    "        self.multihead_attn = nn.MultiheadAttention(hidden_dim, num_heads, dropout)\n",
    "        # self.multihead_attn = MultiheadAttention(hidden_dim, hidden_dim, num_heads)        \n",
    "        self.layer_norm = nn.LayerNorm(hidden_dim)\n",
    "        \n",
    "    def forward(self, x):\n",
    "        attn_output, _ = self.multihead_attn(x, x, x)\n",
    "        x = x + attn_output\n",
    "        # x = self.layer_norm(x + attn_output)\n",
    "        return x\n",
    "\n",
    "class CustomTransformer(nn.Module):\n",
    "    def __init__(self, input_dim, hidden_dim, num_layers, num_heads, dropout):\n",
    "        super(CustomTransformer, self).__init__()\n",
    "\n",
    "        self.embedding = nn.Embedding(input_dim, hidden_dim)\n",
    "        \n",
    "        self.transformer_layers = nn.ModuleList([\n",
    "            MultiHeadAttentionLayer(hidden_dim, num_heads, dropout) for _ in range(num_layers)\n",
    "        ])\n",
    "        # self.fc = nn.Linear(hidden_dim, 1)\n",
    "        self.fc = nn.Linear(hidden_dim*L, 1)        \n",
    "        self.sigmoid_norm = nn.BatchNorm1d(1, affine=False)        \n",
    "        self.sigmoid = nn.Sigmoid()\n",
    "        self.phi_scaling = nn.Linear(1, 1)\n",
    "        self.sigmoid_scaling = nn.Linear(1, 1)\n",
    "\n",
    "    def forward(self, x):\n",
    "\n",
    "        x = self.embedding(x)\n",
    "        x = x.permute(1, 0, 2)  # seq_len x batch x hidden_dim\n",
    "        \n",
    "        for layer in self.transformer_layers:\n",
    "            x = layer(x)\n",
    "            \n",
    "        # x = torch.mean(x, dim=0)  # batch x hidden_dim\n",
    "        x = x.permute(1, 0, 2)\n",
    "        x = x.flatten(1)\n",
    "        # print(x.shape)\n",
    "        x = self.fc(x)  # batch x 1 (scalar)\n",
    "        x = self.sigmoid_norm(x)\n",
    "#         mean = torch.mean(x)\n",
    "#         std = torch.std(x)\n",
    "#         x = (x - mean) / std\n",
    "        \n",
    "        # x = self.phi_scaling(x)\n",
    "        x = self.sigmoid(x)\n",
    "        x = self.sigmoid_scaling(x)\n",
    "\n",
    "        return x"
   ]
  },
  {
   "cell_type": "code",
   "execution_count": 53,
   "id": "26141155-0c6c-4945-91d3-f4eb7674bdcb",
   "metadata": {
    "tags": []
   },
   "outputs": [],
   "source": [
    "batch_size = 1000\n",
    "sequence_length = L\n",
    "input_dim = AA_size*L\n",
    "output_dim = 1\n",
    "hidden_dim = 128\n",
    "num_layers = 1\n",
    "num_heads = 4\n",
    "dropout = 0.3\n",
    "\n",
    "model = CustomTransformer(input_dim, hidden_dim, num_layers, num_heads, dropout).to(device)"
   ]
  },
  {
   "cell_type": "code",
   "execution_count": 54,
   "id": "687ab889-b577-48c9-bb7a-76302c199420",
   "metadata": {
    "tags": []
   },
   "outputs": [],
   "source": [
    "x, y = next(iter(train_loader))\n",
    "output = model(x)"
   ]
  },
  {
   "cell_type": "code",
   "execution_count": 55,
   "id": "e7214de7-9c88-4f76-8502-abb691d5dd48",
   "metadata": {
    "tags": []
   },
   "outputs": [],
   "source": [
    "ds = list(test_list_by_d.keys())"
   ]
  },
  {
   "cell_type": "code",
   "execution_count": 56,
   "id": "7b272a1e-dba6-40d8-bf15-34f62b57a155",
   "metadata": {
    "tags": []
   },
   "outputs": [
    {
     "name": "stdout",
     "output_type": "stream",
     "text": [
      "Epoch 1/300, Loss: 8.625353145599366\n",
      "0.0773932819602344\n",
      "Epoch 11/300, Loss: 8.179740953445435\n",
      "0.6649065176510213\n",
      "Epoch 21/300, Loss: 7.978619766235352\n",
      "0.7320934489234697\n",
      "Epoch 31/300, Loss: 7.807878732681274\n",
      "0.7397022374030218\n",
      "Epoch 41/300, Loss: 7.656069087982178\n",
      "0.7442271324482573\n",
      "Epoch 51/300, Loss: 7.512315845489502\n",
      "0.7358169013018866\n",
      "Epoch 61/300, Loss: 7.378680944442749\n",
      "0.7442569198067781\n",
      "Epoch 71/300, Loss: 7.241166019439698\n",
      "0.7547811960197194\n",
      "Epoch 81/300, Loss: 7.109352493286133\n",
      "0.7454174282801179\n",
      "Epoch 91/300, Loss: 6.98966269493103\n",
      "0.7478199032376015\n",
      "Epoch 101/300, Loss: 6.864020156860351\n",
      "0.754948414611231\n",
      "Epoch 111/300, Loss: 6.747927188873291\n",
      "0.745745708543432\n",
      "Epoch 121/300, Loss: 6.630393648147583\n",
      "0.7504435794420116\n",
      "Epoch 131/300, Loss: 6.514800643920898\n",
      "0.7507483616889122\n",
      "Epoch 141/300, Loss: 6.404161691665649\n",
      "0.7474973392666875\n",
      "Epoch 151/300, Loss: 6.293256759643555\n",
      "0.7487390239915396\n",
      "Epoch 161/300, Loss: 6.184878301620484\n",
      "0.7461098916671779\n",
      "Epoch 171/300, Loss: 6.074721765518189\n",
      "0.7466665354365211\n",
      "Epoch 181/300, Loss: 5.9696550369262695\n",
      "0.7492743218498034\n",
      "Epoch 191/300, Loss: 5.867621231079101\n",
      "0.7458356918131598\n",
      "Epoch 201/300, Loss: 5.767619895935058\n",
      "0.7510399864454494\n",
      "Epoch 211/300, Loss: 5.6621253490448\n",
      "0.7443580223006656\n",
      "Epoch 221/300, Loss: 5.565359115600586\n",
      "0.7420814590406377\n",
      "Epoch 231/300, Loss: 5.46685380935669\n",
      "0.7411982089642524\n",
      "Epoch 241/300, Loss: 5.369330739974975\n",
      "0.740060552506225\n",
      "Epoch 251/300, Loss: 5.275030469894409\n",
      "0.7465795336611565\n",
      "Epoch 261/300, Loss: 5.178404426574707\n",
      "0.7410584864930062\n",
      "Epoch 271/300, Loss: 5.0912572860717775\n",
      "0.7393680806203778\n",
      "Epoch 281/300, Loss: 4.997517919540405\n",
      "0.7471687246980245\n",
      "Epoch 291/300, Loss: 4.91105580329895\n",
      "0.7416058898435522\n"
     ]
    }
   ],
   "source": [
    "from scipy.stats import pearsonr\n",
    "learning_rate = 0.001\n",
    "epochs = 300\n",
    "\n",
    "criterion = nn.MSELoss()\n",
    "optimizer = optim.Adam(model.parameters(), lr=learning_rate)\n",
    "\n",
    "r2_log = {}\n",
    "for epoch in range(epochs):\n",
    "    model.train()\n",
    "    total_loss = 0\n",
    "    for batch_inputs, batch_targets in train_loader:\n",
    "        optimizer.zero_grad()\n",
    "        outputs = model(batch_inputs)\n",
    "        loss = criterion(outputs, batch_targets)\n",
    "        loss.backward()\n",
    "        optimizer.step()\n",
    "        total_loss += loss.item()\n",
    "    \n",
    "    if epoch % 10 == 0:\n",
    "        print(f\"Epoch {epoch+1}/{epochs}, Loss: {total_loss/len(train_loader)}\")\n",
    "        model.eval()\n",
    "        pred, true = model(X_test.flatten(1)).flatten().detach().cpu().numpy(), y_test.flatten().detach().cpu().numpy()\n",
    "        print(pearsonr(pred, true)[0]**2)\n",
    "        \n",
    "        preds = {}\n",
    "        trues = {}\n",
    "        r2s = {}\n",
    "        for d in ds:\n",
    "            X_test_d = X[test_list_by_d[d]]\n",
    "            pred = model(X_test_d.flatten(1)).flatten().detach().cpu().numpy()\n",
    "            true = phenotypes[list(test_list_by_d[d])].flatten().detach().cpu().numpy()\n",
    "            preds[d], trues[d] = pred, true\n",
    "            r2s[d] = pearsonr(pred, true)[0]**2\n",
    "        r2_log[epoch] = r2s"
   ]
  },
  {
   "cell_type": "code",
   "execution_count": 57,
   "id": "bf5960da-473f-4820-88ca-189d086162f9",
   "metadata": {
    "tags": []
   },
   "outputs": [
    {
     "data": {
      "image/png": "[encoded data removed]",
      "text/plain": [
       "<Figure size 640x480 with 1 Axes>"
      ]
     },
     "metadata": {},
     "output_type": "display_data"
    }
   ],
   "source": [
    "for i in r2_log.keys():\n",
    "    plt.scatter(list(r2_log[i].keys()), list(r2_log[i].values()))\n",
    "plt.show()    "
   ]
  },
  {
   "cell_type": "code",
   "execution_count": 59,
   "id": "6ec47fdb-df32-4b72-8058-3c4c228f5fd7",
   "metadata": {
    "tags": []
   },
   "outputs": [
    {
     "data": {
      "text/plain": [
       "dict_values([{1: 0.41700507986229585, 2: 0.42256613716720604, 4: 0.34721742525472293, 5: 0.26310219840073923, 6: 0.21592778239906738, 3: 0.3736472495789656, 8: 0.17342101759208073, 7: 0.2256277229701057, 10: 0.13080853421534033, 9: 0.11771015975938773, 16: 0.07779676420171729, 18: 0.05803563233454684, 19: 0.05406009301196059, 17: 0.03671543127738964, 15: 0.05203237749149788, 14: 0.05533028700885535, 13: 0.08057741903794727, 11: 0.08979314620369092, 12: 0.09771447909101424, 21: 0.042926238030785845, 20: 0.055750095508407906, 22: 0.14003711443467148, 23: 0.09766265241462875, 26: 0.03385574862685832, 24: 0.1053690637585566, 28: 1.0, 25: 0.06239291645419868, 27: 0.04099661148502323}, {1: 0.6443706256067632, 2: 0.730405021948814, 4: 0.7099862553885836, 5: 0.7271040664404398, 6: 0.6752282420823618, 3: 0.6550691793296761, 8: 0.6538385741261924, 7: 0.6900024949836002, 10: 0.5637607699756972, 9: 0.6113963830368725, 16: 0.16141940793269874, 18: 0.08488525761499746, 19: 0.02348458560047686, 17: 0.20055922868593057, 15: 0.14612781758684537, 14: 0.27838235719883186, 13: 0.3349322022971905, 11: 0.41706787788463545, 12: 0.29989757964827884, 21: 0.08593720541569572, 20: 0.1827839172872345, 22: 0.07990002246218837, 23: 0.028084792665538774, 26: 0.017864632371187576, 24: 0.028583216342861838, 28: 1.0, 25: 0.14525542385667473, 27: 0.012930578079619243}, {1: 0.6648636477124183, 2: 0.7472464490286191, 4: 0.7234973283219772, 5: 0.7348742023274336, 6: 0.6765620104728114, 3: 0.6963461579823428, 8: 0.6699380981604245, 7: 0.6943476590290153, 10: 0.586732536230172, 9: 0.6229070108829549, 16: 0.17305383331472726, 18: 0.06525082292349389, 19: 0.017882730362432275, 17: 0.18006519638835083, 15: 0.18434825311109534, 14: 0.2969343438954693, 13: 0.3333987388075977, 11: 0.4484424364159185, 12: 0.3034920150847951, 21: 0.07098462792571832, 20: 0.11171050922205832, 22: 0.10844853293364133, 23: 0.07725814597663046, 26: 0.06479696579469817, 24: 0.016278295212888448, 28: 1.0, 25: 0.06557365055514389, 27: 0.06602320449228871}, {1: 0.6844553399444467, 2: 0.7630335512307469, 4: 0.7453925252645526, 5: 0.7602322630411319, 6: 0.6944242492722683, 3: 0.7234451197479941, 8: 0.6957897819342556, 7: 0.7201212099284865, 10: 0.6049431807112685, 9: 0.6566239143341068, 16: 0.17277158954431168, 18: 0.04782541213916645, 19: 0.02456100508141369, 17: 0.16296507906516947, 15: 0.16457439909836305, 14: 0.2656010182997618, 13: 0.3416264283303113, 11: 0.4746051721593128, 12: 0.3161900190820253, 21: 0.07186280294448981, 20: 0.09270589597813003, 22: 0.09045893107971438, 23: 0.04562473297951066, 26: 0.009837636309774803, 24: 0.006858335286534495, 28: 1.0, 25: 0.07752699514851889, 27: 0.020338328510314398}, {1: 0.7081745012523575, 2: 0.768415388839433, 4: 0.7452054652783126, 5: 0.7674987245079787, 6: 0.6924520792775976, 3: 0.7383758966585612, 8: 0.6945646547425162, 7: 0.7247737778064001, 10: 0.6120166861324349, 9: 0.6545971376323685, 16: 0.1655551296735362, 18: 0.0463965966535197, 19: 0.016661728160289147, 17: 0.15437729864078378, 15: 0.16381386958752495, 14: 0.2686958843177201, 13: 0.33128492607092314, 11: 0.4868272301139091, 12: 0.34494881368321817, 21: 0.06643003479015187, 20: 0.06470124382811537, 22: 0.06708720960383471, 23: 0.0478554602749372, 26: 0.007642432537954818, 24: 0.007701100661869091, 28: 1.0, 25: 0.11255404961095815, 27: 0.0034954909110820613}, {1: 0.7074975891620886, 2: 0.778506158196219, 4: 0.7570273918167798, 5: 0.7734858463937414, 6: 0.6948406099135741, 3: 0.7386192578183377, 8: 0.7014051062471045, 7: 0.7351165860413027, 10: 0.6149969274082632, 9: 0.6674690715766697, 16: 0.1752963965367809, 18: 0.06345186046392634, 19: 0.020144384666934512, 17: 0.17625665921549133, 15: 0.16442618593239655, 14: 0.28208767208145186, 13: 0.3362497071364796, 11: 0.5013478360824719, 12: 0.35610687425074683, 21: 0.08060751431056189, 20: 0.06656208400723677, 22: 0.06505425572236292, 23: 0.037169272381814375, 26: 0.006554696222319343, 24: 0.00862526826327544, 28: 1.0, 25: 0.1415160659524966, 27: 0.004514785594000036}, {1: 0.7175155768194715, 2: 0.7841430633226945, 4: 0.7455992351501141, 5: 0.7777269945542589, 6: 0.6971472665529452, 3: 0.7388989812272564, 8: 0.7030118231595734, 7: 0.7349221446040454, 10: 0.6165653742538675, 9: 0.6655415770824367, 16: 0.1725511411433703, 18: 0.05710641995873211, 19: 0.010071117658576956, 17: 0.16294580279490464, 15: 0.16126650336249737, 14: 0.2842511123239641, 13: 0.3341184550555186, 11: 0.5071006233117505, 12: 0.36760839466777917, 21: 0.07334861694627023, 20: 0.048427159896590286, 22: 0.039709121115124764, 23: 0.02412377563765286, 26: 0.0016454817099039124, 24: 0.00029185780953947747, 28: 1.0, 25: 0.20790215891239505, 27: 0.07545768168769178}, {1: 0.7245417090612599, 2: 0.7864026862493434, 4: 0.7515525126962993, 5: 0.7730278574494925, 6: 0.6989910103776386, 3: 0.7421268744555763, 8: 0.6986053689027, 7: 0.7309731230975568, 10: 0.6097736409640776, 9: 0.6659179428507734, 16: 0.1791978188593108, 18: 0.0655300948403261, 19: 0.010524484522145494, 17: 0.17326806459942576, 15: 0.15042889589712521, 14: 0.29285720363969564, 13: 0.34404792912318205, 11: 0.5113813057710891, 12: 0.3733978888917699, 21: 0.082769407445866, 20: 0.06147612229123756, 22: 0.04553225477863069, 23: 0.029235463929204914, 26: 0.00991396924868801, 24: 0.0020269719106029553, 28: 1.0, 25: 0.2058139213996236, 27: 0.16552339533566607}, {1: 0.7299591262306154, 2: 0.7877688652824898, 4: 0.7437880330610039, 5: 0.7765833360957414, 6: 0.6917731638706452, 3: 0.7390111362318138, 8: 0.6992978257980178, 7: 0.7391454782384921, 10: 0.6080991640781899, 9: 0.660144211398038, 16: 0.17138040446329977, 18: 0.053448101159741766, 19: 0.006437522674363368, 17: 0.1624072673411484, 15: 0.15178931266381787, 14: 0.2977521662415923, 13: 0.3382853489864562, 11: 0.5116888753211741, 12: 0.3797908278318038, 21: 0.07033740566668516, 20: 0.05937227879641998, 22: 0.05596906215309077, 23: 0.0351556587638494, 26: 0.009088735640747584, 24: 0.00023263205164115685, 28: 1.0, 25: 0.23560551751469902, 27: 0.20822170439801987}, {1: 0.7274983352031642, 2: 0.7886303744527701, 4: 0.7407625390235991, 5: 0.7759946089827848, 6: 0.6973961464571227, 3: 0.7362768861543546, 8: 0.7032306867467846, 7: 0.7457043092294874, 10: 0.6013747345926262, 9: 0.6601042875126851, 16: 0.16846194868614803, 18: 0.05313085594612287, 19: 0.00725568611165656, 17: 0.1684797511563754, 15: 0.14321370916091664, 14: 0.30588437130922713, 13: 0.3417518477635491, 11: 0.5071470256305625, 12: 0.38803090402776574, 21: 0.08137730730980296, 20: 0.05000143470679337, 22: 0.05950783840482443, 23: 0.04290060991454019, 26: 0.0027039214391414972, 24: 0.0011978629002576914, 28: 1.0, 25: 0.22359575338986165, 27: 0.1666310847998383}, {1: 0.7320554473807148, 2: 0.7901555465278169, 4: 0.7409247608246231, 5: 0.7720227240475647, 6: 0.6997282546268286, 3: 0.7359850479423788, 8: 0.7016922709843735, 7: 0.7451152749518942, 10: 0.6027849725184707, 9: 0.6635310427634882, 16: 0.16817790994029388, 18: 0.049997269352111226, 19: 0.006637280757745463, 17: 0.14363970191091904, 15: 0.14658792391694817, 14: 0.3125158029490506, 13: 0.3433609792632661, 11: 0.5094520893558245, 12: 0.38880380088174493, 21: 0.07098770559991577, 20: 0.050039718106512136, 22: 0.05735584700657751, 23: 0.042352162706054165, 26: 7.628879037105086e-05, 24: 0.0014035452382747172, 28: 1.0, 25: 0.17261956731709097, 27: 0.1893421503994813}, {1: 0.7301673809362385, 2: 0.790604625371928, 4: 0.7365054290809399, 5: 0.7708032550479933, 6: 0.6953139830433909, 3: 0.7380211857962984, 8: 0.7035982866772482, 7: 0.73979241616043, 10: 0.603134476335466, 9: 0.6592735313362443, 16: 0.16767655003206786, 18: 0.05460167147989429, 19: 0.009144369426609183, 17: 0.15820079269660073, 15: 0.14607591549974178, 14: 0.3117013099921947, 13: 0.3384509504301808, 11: 0.5091627901111773, 12: 0.38039473026665144, 21: 0.08150214546912882, 20: 0.06401690514457252, 22: 0.06335811570699795, 23: 0.03850619975023971, 26: 2.8206507108192732e-05, 24: 0.0001345812542861197, 28: 1.0, 25: 0.19692503517278523, 27: 0.19202343224343038}, {1: 0.7344390624401812, 2: 0.7904724217243314, 4: 0.7441708082533973, 5: 0.7723108322777211, 6: 0.6871913746564138, 3: 0.7402300933018457, 8: 0.704593714095417, 7: 0.7460937916581623, 10: 0.5995179901914103, 9: 0.6560334504133525, 16: 0.16254038468118542, 18: 0.05090350261320138, 19: 0.007728955767622925, 17: 0.14322863336335337, 15: 0.14357965748306792, 14: 0.30277515704216523, 13: 0.3462644546897296, 11: 0.4968484722177422, 12: 0.3884642028738489, 21: 0.06429311217531768, 20: 0.04050055050033367, 22: 0.04996450894824777, 23: 0.0285605964189204, 26: 0.0003215637598913624, 24: 0.00021988887480634616, 28: 1.0, 25: 0.22775445590405155, 27: 0.18364828166052674}, {1: 0.7312012733054953, 2: 0.7917429551996308, 4: 0.7383594808181378, 5: 0.7683000250441008, 6: 0.6917465628719901, 3: 0.7421773573485813, 8: 0.7136330090648382, 7: 0.7466055592905904, 10: 0.6076506784572859, 9: 0.6625608418314974, 16: 0.16515356174917356, 18: 0.05210861499938293, 19: 0.00295507439434848, 17: 0.13852216159906794, 15: 0.13686757253195997, 14: 0.30098555920319237, 13: 0.342268285102395, 11: 0.5080021991727763, 12: 0.38392693476229994, 21: 0.07129864330509324, 20: 0.04976121216158414, 22: 0.06380986961126707, 23: 0.02780095882554129, 26: 0.00139459197899383, 24: 5.746498636060638e-05, 28: 1.0, 25: 0.2409399803141389, 27: 0.1762786969413378}, {1: 0.7394047272038509, 2: 0.7951657162054957, 4: 0.7415098321686946, 5: 0.7736202514031819, 6: 0.6869085304598853, 3: 0.7423230536393759, 8: 0.7122791019761572, 7: 0.7503053099526253, 10: 0.603562845967958, 9: 0.657774228215627, 16: 0.16312768638696806, 18: 0.044114377317416444, 19: 0.009749982897992763, 17: 0.12965981806452198, 15: 0.1276728569037739, 14: 0.2884494872024922, 13: 0.34507874319873877, 11: 0.4970157614477472, 12: 0.3958384045352224, 21: 0.0729711914004026, 20: 0.04873849890656885, 22: 0.06977801266666651, 23: 0.023914104152336024, 26: 0.002715786807910757, 24: 3.068057398995031e-05, 28: 1.0, 25: 0.21857837178904077, 27: 0.11037003980918646}, {1: 0.7373078115758528, 2: 0.7906835510379806, 4: 0.7432015035825005, 5: 0.7675023846193023, 6: 0.6900194311428778, 3: 0.7399855982471204, 8: 0.7099218065035047, 7: 0.7429656713074372, 10: 0.6008376584065358, 9: 0.6554398239935293, 16: 0.15490714612851358, 18: 0.049903609990147806, 19: 0.006307184931301731, 17: 0.14234646613098503, 15: 0.12641968576467633, 14: 0.2988766850708922, 13: 0.3437985328827801, 11: 0.4961616499721413, 12: 0.38608444538994763, 21: 0.07371726401775874, 20: 0.05399455810218887, 22: 0.06412951404091025, 23: 0.019930585741962093, 26: 0.0014948138134777082, 24: 0.00041427990161294656, 28: 1.0, 25: 0.24901424117675702, 27: 0.13636481610016704}, {1: 0.7329777991363879, 2: 0.793069933738248, 4: 0.7424364891810242, 5: 0.7682326789376608, 6: 0.6944003181243947, 3: 0.7412403062614289, 8: 0.7132840487683962, 7: 0.7481387603238423, 10: 0.6032053300042637, 9: 0.6560454094162815, 16: 0.15508348182835993, 18: 0.04119256814041196, 19: 0.006459673975232465, 17: 0.1476188468521027, 15: 0.12780992365534935, 14: 0.3078104174309581, 13: 0.3441438460693087, 11: 0.493261230014313, 12: 0.3924129997845224, 21: 0.06664166033586073, 20: 0.054518975574223805, 22: 0.08616081884049871, 23: 0.01777929008453187, 26: 0.007811213688086942, 24: 2.243649641344778e-09, 28: 1.0, 25: 0.18798953882676378, 27: 0.08838438190960388}, {1: 0.7302987027286297, 2: 0.7902302438530611, 4: 0.7354517328347503, 5: 0.7682903327886973, 6: 0.6897942138239425, 3: 0.7398996510695675, 8: 0.7085422336377443, 7: 0.7394823921670926, 10: 0.6009482264446745, 9: 0.6520259712512302, 16: 0.152398716216767, 18: 0.0552814783920627, 19: 0.007971864858601395, 17: 0.14836981982397707, 15: 0.13057844120599996, 14: 0.3044029948518888, 13: 0.35461202518052304, 11: 0.4940038779085475, 12: 0.39589569708043604, 21: 0.06392450185869139, 20: 0.054615576151727206, 22: 0.07226107036417365, 23: 0.013204275052603943, 26: 1.1801871717791715e-08, 24: 0.0003687864377814032, 28: 1.0, 25: 0.2052801497609719, 27: 0.15107479135638446}, {1: 0.7379322335275774, 2: 0.7921182239734421, 4: 0.7380129925393608, 5: 0.7668230529891904, 6: 0.6878090653626783, 3: 0.742531270851839, 8: 0.7151667765275389, 7: 0.7422143621984749, 10: 0.5976580451833465, 9: 0.6539363833136927, 16: 0.1564801936462727, 18: 0.04087446106646513, 19: 0.010109314362094815, 17: 0.13268384800843808, 15: 0.12428590381607421, 14: 0.3024659519859368, 13: 0.3378514616107833, 11: 0.48545471197494994, 12: 0.38670335070021716, 21: 0.0632308458558785, 20: 0.042642603281791217, 22: 0.0658806026962337, 23: 0.022416031440537502, 26: 0.008163091758651174, 24: 0.00027128980137366846, 28: 1.0, 25: 0.18730244528599224, 27: 0.0743486784413766}, {1: 0.73551182795679, 2: 0.7917753552723754, 4: 0.7362027592156434, 5: 0.7588136820247772, 6: 0.691549874951459, 3: 0.7395085652526956, 8: 0.7080655815034455, 7: 0.7417565554224399, 10: 0.5947150166187171, 9: 0.6484464462002115, 16: 0.15780608373711183, 18: 0.05456057687386857, 19: 0.007335512965249364, 17: 0.13221303253587657, 15: 0.1262937951740232, 14: 0.3014357671135034, 13: 0.34396725709882836, 11: 0.4834163748995618, 12: 0.3887347109182708, 21: 0.06864611705733005, 20: 0.058764610805212544, 22: 0.06060950040133301, 23: 0.015243600232348659, 26: 0.0020353222214632835, 24: 0.0005641336914625786, 28: 1.0, 25: 0.17448809142172744, 27: 0.07386472815568593}, {1: 0.7425967479822443, 2: 0.7914835496895678, 4: 0.7362264468435353, 5: 0.761979393531844, 6: 0.6827073910813409, 3: 0.7412554476748917, 8: 0.7040954721900209, 7: 0.7393304634598717, 10: 0.5945438158438737, 9: 0.6502738040230742, 16: 0.15132775914135715, 18: 0.05568990029998859, 19: 0.009329264319444173, 17: 0.13794530887137413, 15: 0.11963511494342365, 14: 0.2947712478692947, 13: 0.3310721397459556, 11: 0.4891583044616644, 12: 0.38353647881693126, 21: 0.06616065003393484, 20: 0.057125800787687704, 22: 0.06956975769772171, 23: 0.03250871751654693, 26: 0.0096102356268641, 24: 1.1514679047760331e-05, 28: 1.0, 25: 0.19360070491809653, 27: 0.04429717793206559}, {1: 0.7316744961110442, 2: 0.7900204925484721, 4: 0.7396066419485204, 5: 0.7559239796769206, 6: 0.6914973093256902, 3: 0.7365800740786896, 8: 0.710062137041876, 7: 0.7404737606239795, 10: 0.6004251741311086, 9: 0.6498950205130359, 16: 0.1635652733658324, 18: 0.06346994742240532, 19: 0.010774836563421777, 17: 0.14071855987972662, 15: 0.12327751990545258, 14: 0.3103743575869607, 13: 0.350403822683467, 11: 0.4869988030768396, 12: 0.3846787786881866, 21: 0.06498627564820787, 20: 0.07052291340428808, 22: 0.06803740269923242, 23: 0.026291776042546375, 26: 0.006201694436689625, 24: 0.00046978081748875843, 28: 1.0, 25: 0.2114536187754868, 27: 0.05660513744377627}, {1: 0.7320197644166035, 2: 0.7904697847384125, 4: 0.7388104918868009, 5: 0.7606439594224979, 6: 0.6854187346319741, 3: 0.7381967485303731, 8: 0.7039909616137167, 7: 0.7378092073655492, 10: 0.5991101342164997, 9: 0.6448808432924328, 16: 0.1549375905093844, 18: 0.04555502178612014, 19: 0.008770806611904094, 17: 0.1392234442635468, 15: 0.1231072693630945, 14: 0.31376012931283687, 13: 0.3474046498463444, 11: 0.4845390493732855, 12: 0.38497852469221827, 21: 0.07169549906436314, 20: 0.06987716954593975, 22: 0.0716649285679619, 23: 0.02879692594656598, 26: 0.0063061874542821, 24: 0.00013024825738567993, 28: 1.0, 25: 0.19947548315058472, 27: 0.04421903880974708}, {1: 0.7305467265105032, 2: 0.7903205222025508, 4: 0.7359996771371122, 5: 0.7564474313704821, 6: 0.6829797027745081, 3: 0.7392020268515828, 8: 0.7063336250227463, 7: 0.7407732808972122, 10: 0.5995456610592077, 9: 0.6471087053889613, 16: 0.1575302746378801, 18: 0.044089828129644855, 19: 0.010357023273250334, 17: 0.14016678714036895, 15: 0.12339260975279163, 14: 0.3181343942084644, 13: 0.35069299527317865, 11: 0.4815567167833656, 12: 0.3980906502380788, 21: 0.07113766533711574, 20: 0.06535495146099912, 22: 0.07054012080300764, 23: 0.026933166138223066, 26: 0.01600405931530924, 24: 0.00012695626910085866, 28: 1.0, 25: 0.17667312564460114, 27: 0.03813933737482028}, {1: 0.7370448601193375, 2: 0.7943095422256686, 4: 0.741889848708666, 5: 0.7608871784991558, 6: 0.6968810083310718, 3: 0.7366222416975673, 8: 0.7097441235865628, 7: 0.7426073906046209, 10: 0.5977764909403847, 9: 0.6460693495189725, 16: 0.15053683101848261, 18: 0.03841497863844162, 19: 0.006511654138630276, 17: 0.15104972847860945, 15: 0.12239059308825695, 14: 0.31302672960060446, 13: 0.35246896545768497, 11: 0.4764464088899639, 12: 0.39090752128841816, 21: 0.06838254380408008, 20: 0.06013009710314244, 22: 0.08220530552265572, 23: 0.045223810042137186, 26: 0.0199427094355377, 24: 0.00021957884046863195, 28: 1.0, 25: 0.20991566390554675, 27: 0.026663280181236555}, {1: 0.7368644353378094, 2: 0.7915126529028821, 4: 0.7365939641687204, 5: 0.7622455435665911, 6: 0.6929003667554584, 3: 0.7387209000785276, 8: 0.7129829470693214, 7: 0.7392081611816546, 10: 0.6052227342123043, 9: 0.6539872625039417, 16: 0.15638577824422678, 18: 0.036555625478766236, 19: 0.010035176692997756, 17: 0.14555057408726954, 15: 0.1298107115096028, 14: 0.32357329444628635, 13: 0.3571885466687193, 11: 0.48552914567237343, 12: 0.39527733264507714, 21: 0.06611668052047623, 20: 0.058986744065063774, 22: 0.08017558733121065, 23: 0.030455165853494677, 26: 0.01706858365882898, 24: 0.0012459348573155044, 28: 1.0, 25: 0.15854317238228094, 27: 0.024923533683616557}, {1: 0.73485365498655, 2: 0.7867525677385258, 4: 0.7365492702159792, 5: 0.7608842310220659, 6: 0.6921664392392596, 3: 0.7346774295176305, 8: 0.7109971790956623, 7: 0.7404422976133285, 10: 0.6033567322664769, 9: 0.6428618128181682, 16: 0.14979486224974037, 18: 0.0415287042303601, 19: 0.011096449006038617, 17: 0.14661710130053157, 15: 0.12430043263873106, 14: 0.3206914931003315, 13: 0.35849868058910767, 11: 0.4799871252804418, 12: 0.3939015471621286, 21: 0.0717252638882397, 20: 0.06087533054968257, 22: 0.07874944771713051, 23: 0.027567701576894137, 26: 0.015757649697295834, 24: 0.00013833803003391408, 28: 1.0, 25: 0.17597068552921585, 27: 0.016378692979083374}, {1: 0.7275410090157872, 2: 0.7891056957788128, 4: 0.7283839902921507, 5: 0.7579956834028959, 6: 0.6875912740857599, 3: 0.735005035981568, 8: 0.7117571916926865, 7: 0.7357202347273537, 10: 0.6017452618226304, 9: 0.6456181306117413, 16: 0.1560473711234764, 18: 0.04189369218278726, 19: 0.009619983856573068, 17: 0.1621801811171297, 15: 0.12063788250004363, 14: 0.3175604748499881, 13: 0.37283725839010284, 11: 0.4768764823053996, 12: 0.3937163231267339, 21: 0.08004311827676136, 20: 0.07676234141941234, 22: 0.08688468301273729, 23: 0.03699165506649323, 26: 0.026914608159084773, 24: 9.522752473690099e-05, 28: 1.0, 25: 0.14476383822928918, 27: 0.008451717232182385}, {1: 0.7363698067284737, 2: 0.7905639233469756, 4: 0.7348106026481669, 5: 0.7581432280179768, 6: 0.6929369413838526, 3: 0.7342167197311565, 8: 0.7134899066091733, 7: 0.7463829779883678, 10: 0.6109314395240325, 9: 0.6534273032773562, 16: 0.15194838505062075, 18: 0.041803719296182956, 19: 0.01021680799526642, 17: 0.1430821605141827, 15: 0.12221929693997301, 14: 0.3214386053352471, 13: 0.3606605630155316, 11: 0.48018247918062784, 12: 0.39624523810865864, 21: 0.06928515895133047, 20: 0.05501262445018048, 22: 0.08816271713814326, 23: 0.026627732928798685, 26: 0.02332583172310181, 24: 0.0004336840557436681, 28: 1.0, 25: 0.13069640930977325, 27: 0.012950632648624947}, {1: 0.726264669360227, 2: 0.7875114232871114, 4: 0.7341943867350798, 5: 0.7561391807649205, 6: 0.6919706534585253, 3: 0.7296090434803918, 8: 0.7172028811727543, 7: 0.7442200533503557, 10: 0.6078439257338935, 9: 0.6543864202546216, 16: 0.1596239267438835, 18: 0.0397626126164032, 19: 0.00906197809677053, 17: 0.15298605085571143, 15: 0.1280391135795273, 14: 0.32555034145611345, 13: 0.37078889946820975, 11: 0.47816989069100235, 12: 0.39721748125799283, 21: 0.07385173276708348, 20: 0.05667170799197815, 22: 0.1018152437886248, 23: 0.03275685121950832, 26: 0.0404564085987868, 24: 0.0005887988088990049, 28: 1.0, 25: 0.1272241947747663, 27: 0.002873096077877311}])"
      ]
     },
     "execution_count": 59,
     "metadata": {},
     "output_type": "execute_result"
    }
   ],
   "source": [
    "r2_log.values()"
   ]
  },
  {
   "cell_type": "code",
   "execution_count": 47,
   "id": "b6bc7de6-97b0-4066-a319-995e0e31781e",
   "metadata": {
    "tags": []
   },
   "outputs": [],
   "source": [
    "# model.eval()\n",
    "\n",
    "# pred, true = model(X_test.flatten(1)).flatten().detach().cpu().numpy(), y_test.flatten().detach().cpu().numpy()\n",
    "# print(f' Test R2 = {pearsonr(pred, true)[0]**2}')\n",
    "# plt.scatter(pred, true)\n",
    "# plt.show()"
   ]
  },
  {
   "cell_type": "code",
   "execution_count": 48,
   "id": "182e1f53-1973-4a73-bb17-5d88b2c79ecb",
   "metadata": {
    "tags": []
   },
   "outputs": [],
   "source": [
    "batch_size = 1000\n",
    "sequence_length = L\n",
    "input_dim = AA_size*L\n",
    "output_dim = 1\n",
    "hidden_dim = 32\n",
    "num_layers = 3\n",
    "num_heads = 4\n",
    "dropout = 0.3\n",
    "\n",
    "model = CustomTransformer(input_dim, hidden_dim, num_layers, num_heads, dropout).to(device)"
   ]
  },
  {
   "cell_type": "code",
   "execution_count": 49,
   "id": "8292afa6-eb0d-4e70-8a75-3db77beabc03",
   "metadata": {
    "tags": []
   },
   "outputs": [],
   "source": [
    "x, y = next(iter(train_loader))\n",
    "output = model(x)"
   ]
  },
  {
   "cell_type": "code",
   "execution_count": null,
   "id": "101856b9-ac01-4ac6-9226-b02103d9b3af",
   "metadata": {
    "tags": []
   },
   "outputs": [
    {
     "name": "stdout",
     "output_type": "stream",
     "text": [
      "Epoch 1/500, Loss: 9.778581428527833\n",
      "0.1924402356139785\n",
      "Epoch 11/500, Loss: 9.20828218460083\n",
      "0.5506393460663412\n",
      "Epoch 21/500, Loss: 8.883381462097168\n",
      "0.6487688248364301\n",
      "Epoch 31/500, Loss: 8.617871761322021\n",
      "0.6923995249384945\n",
      "Epoch 41/500, Loss: 8.39737548828125\n",
      "0.7040470831985954\n",
      "Epoch 51/500, Loss: 8.221459102630615\n",
      "0.7241908438878356\n",
      "Epoch 61/500, Loss: 8.066260147094727\n",
      "0.72431264888048\n",
      "Epoch 71/500, Loss: 7.936664676666259\n",
      "0.7470081937989723\n",
      "Epoch 81/500, Loss: 7.819531345367432\n",
      "0.7596393606670849\n"
     ]
    }
   ],
   "source": [
    "from scipy.stats import pearsonr\n",
    "learning_rate = 0.001\n",
    "epochs = 500\n",
    "\n",
    "criterion = nn.MSELoss()\n",
    "optimizer = optim.Adam(model.parameters(), lr=learning_rate)\n",
    "\n",
    "r2_log = {}\n",
    "for epoch in range(epochs):\n",
    "    model.train()\n",
    "    total_loss = 0\n",
    "    for batch_inputs, batch_targets in train_loader:\n",
    "        optimizer.zero_grad()\n",
    "        outputs = model(batch_inputs)\n",
    "        loss = criterion(outputs, batch_targets)\n",
    "        loss.backward()\n",
    "        optimizer.step()\n",
    "        total_loss += loss.item()\n",
    "    \n",
    "    if epoch % 10 == 0:\n",
    "        print(f\"Epoch {epoch+1}/{epochs}, Loss: {total_loss/len(train_loader)}\")\n",
    "        model.eval()\n",
    "        pred, true = model(X_test.flatten(1)).flatten().detach().cpu().numpy(), y_test.flatten().detach().cpu().numpy()\n",
    "        print(pearsonr(pred, true)[0]**2)\n",
    "        \n",
    "        preds = {}\n",
    "        trues = {}\n",
    "        r2s = {}\n",
    "        for d in ds:\n",
    "            X_test_d = X[test_list_by_d[d]]\n",
    "            pred = model(X_test_d.flatten(1)).flatten().detach().cpu().numpy()\n",
    "            true = phenotypes[list(test_list_by_d[d])].flatten().detach().cpu().numpy()\n",
    "            preds[d], trues[d] = pred, true\n",
    "            r2s[d] = pearsonr(pred, true)[0]**2\n",
    "        r2_log[epoch] = r2s"
   ]
  },
  {
   "cell_type": "code",
   "execution_count": 37,
   "id": "69c55684-9ece-479c-a3a2-0779242c2c69",
   "metadata": {
    "tags": []
   },
   "outputs": [
    {
     "name": "stdout",
     "output_type": "stream",
     "text": [
      " Test R2 = 0.7260158394892333\n"
     ]
    },
    {
     "data": {
      "image/png": "[encoded data removed]",
      "text/plain": [
       "<Figure size 640x480 with 1 Axes>"
      ]
     },
     "metadata": {},
     "output_type": "display_data"
    }
   ],
   "source": [
    "model.eval()\n",
    "\n",
    "pred, true = model(X_test.flatten(1)).flatten().detach().cpu().numpy(), y_test.flatten().detach().cpu().numpy()\n",
    "print(f' Test R2 = {pearsonr(pred, true)[0]**2}')\n",
    "plt.scatter(pred, true)\n",
    "plt.show()"
   ]
  },
  {
   "cell_type": "code",
   "execution_count": null,
   "id": "85003de0-799d-4520-8bbc-84eef76fb1c5",
   "metadata": {},
   "outputs": [],
   "source": []
  }
 ],
 "metadata": {
  "kernelspec": {
   "display_name": "PyTorch-2.0.1",
   "language": "python",
   "name": "pytorch-2.0.1"
  },
  "language_info": {
   "codemirror_mode": {
    "name": "ipython",
    "version": 3
   },
   "file_extension": ".py",
   "mimetype": "text/x-python",
   "name": "python",
   "nbconvert_exporter": "python",
   "pygments_lexer": "ipython3",
   "version": "3.10.11"
  }
 },
 "nbformat": 4,
 "nbformat_minor": 5
}
