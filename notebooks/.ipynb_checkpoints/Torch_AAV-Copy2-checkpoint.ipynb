{
 "cells": [
  {
   "cell_type": "code",
   "execution_count": 13,
   "id": "e09c8b8b-c771-40df-b815-72e91851a579",
   "metadata": {
    "tags": []
   },
   "outputs": [],
   "source": [
    "## Standard libraries\n",
    "import os\n",
    "import numpy as np\n",
    "import math\n",
    "import json\n",
    "from functools import partial\n",
    "\n",
    "import random as rd\n",
    "\n",
    "import pandas as pd\n",
    "import numpy as np\n",
    "import matplotlib.pyplot as plt\n",
    "import torch\n",
    "import GPUtil\n",
    "import torch\n",
    "import torch.nn as nn\n",
    "import sys\n",
    "sys.path.append('../model')\n",
    "from utils import amino_acid_to_number, tokenize\n",
    "\n",
    "device = \"cuda:0\""
   ]
  },
  {
   "cell_type": "code",
   "execution_count": 14,
   "id": "5903e96c-68a1-4f61-a46f-d9dbeb500d5e",
   "metadata": {
    "tags": []
   },
   "outputs": [],
   "source": [
    "# def sgpu():\n",
    "#     GPUtil.showUtilization()\n",
    "\n",
    "# sgpu()"
   ]
  },
  {
   "cell_type": "code",
   "execution_count": 15,
   "id": "fca42876-cbb0-432c-a868-6a4436d4857f",
   "metadata": {
    "tags": []
   },
   "outputs": [],
   "source": [
    "import pandas as pd\n",
    "import numpy as np\n",
    "import matplotlib.pyplot as plt\n",
    "import torch\n",
    "import GPUtil\n",
    "import torch"
   ]
  },
  {
   "cell_type": "code",
   "execution_count": 16,
   "id": "568d6d7b-ec7c-426f-95ec-14ea1640f5b5",
   "metadata": {
    "tags": []
   },
   "outputs": [],
   "source": [
    "amino_acid_to_number = {'A': 0,\n",
    "     'R': 1,\n",
    "     'N': 2,\n",
    "     'D': 3,\n",
    "     'C': 4,\n",
    "     'E': 5,\n",
    "     'Q': 6,\n",
    "     'G': 7,\n",
    "     'H': 8,\n",
    "     'I': 9,\n",
    "     'L': 10,\n",
    "     'K': 11,\n",
    "     'M': 12,\n",
    "     'F': 13,\n",
    "     'P': 14,\n",
    "     'S': 15,\n",
    "     'T': 16,\n",
    "     'W': 17,\n",
    "     'Y': 18,\n",
    "     'V': 19, \n",
    "     '_': 20                  \n",
    "       }\n",
    "\n",
    "def tokenize(seq):\n",
    "    numeric_sequence = [amino_acid_to_number[aa] for aa in seq]\n",
    "    return numeric_sequence"
   ]
  },
  {
   "cell_type": "code",
   "execution_count": 17,
   "id": "6a5d374d-9c74-4772-a361-1aaba536f172",
   "metadata": {
    "tags": []
   },
   "outputs": [],
   "source": [
    "# summary_files = pd.read_csv(\"../ProteinGym_substitutions/ProteinGym_reference_file_substitutions.csv\")\n",
    "\n",
    "# summary_files = summary_files.set_index(\"DMS_id\")\n",
    "\n",
    "# study_ids = [\"CAPSD_AAV2S_Sinai_substitutions_2021\", \"F7YBW8_MESOW_Aakre_2015\", \n",
    "#  \"GCN4_YEAST_Staller_induction_2018\", \"GFP_AEQVI_Sarkisyan_2016\", \"HIS7_YEAST_Pokusaeva_2019\"]\n",
    "\n",
    "# ID = \"HIS7_YEAST_Pokusaeva_2019\"\n",
    "\n",
    "# filename = summary_files.loc[ID].DMS_filename\n",
    "\n",
    "# datafile = pd.read_csv(\"../ProteinGym_substitutions/\" + filename)\n",
    "\n",
    "summary_files = pd.read_csv(\"../Data/ProteinGym_substitutions/ProteinGym_reference_file_substitutions.csv\")\n",
    "\n",
    "summary_files = summary_files.set_index(\"DMS_id\")\n",
    "\n",
    "study_ids = [\"CAPSD_AAV2S_Sinai_substitutions_2021\", \"F7YBW8_MESOW_Aakre_2015\", \n",
    " \"GCN4_YEAST_Staller_induction_2018\", \"GFP_AEQVI_Sarkisyan_2016\", \"HIS7_YEAST_Pokusaeva_2019\"]\n",
    "\n",
    "filename = summary_files.loc[\"CAPSD_AAV2S_Sinai_substitutions_2021\"].DMS_filename\n",
    "\n",
    "datafile = pd.read_csv(\"../Data/ProteinGym_substitutions/\" + filename)"
   ]
  },
  {
   "cell_type": "code",
   "execution_count": 18,
   "id": "c414c3a1-91fa-4fdf-90ec-ff41909e84a0",
   "metadata": {
    "tags": []
   },
   "outputs": [
    {
     "data": {
      "text/html": [
       "<div>\n",
       "<style scoped>\n",
       "    .dataframe tbody tr th:only-of-type {\n",
       "        vertical-align: middle;\n",
       "    }\n",
       "\n",
       "    .dataframe tbody tr th {\n",
       "        vertical-align: top;\n",
       "    }\n",
       "\n",
       "    .dataframe thead th {\n",
       "        text-align: right;\n",
       "    }\n",
       "</style>\n",
       "<table border=\"1\" class=\"dataframe\">\n",
       "  <thead>\n",
       "    <tr style=\"text-align: right;\">\n",
       "      <th></th>\n",
       "      <th>mutant</th>\n",
       "      <th>mutated_sequence</th>\n",
       "      <th>DMS_score</th>\n",
       "      <th>DMS_score_bin</th>\n",
       "    </tr>\n",
       "  </thead>\n",
       "  <tbody>\n",
       "    <tr>\n",
       "      <th>0</th>\n",
       "      <td>A572C</td>\n",
       "      <td>MAADGYLPDWLEDTLSEGIRQWWKLKPGPPPPKPAERHKDDSRGLV...</td>\n",
       "      <td>0.783106</td>\n",
       "      <td>1</td>\n",
       "    </tr>\n",
       "    <tr>\n",
       "      <th>1</th>\n",
       "      <td>A572C:E574A</td>\n",
       "      <td>MAADGYLPDWLEDTLSEGIRQWWKLKPGPPPPKPAERHKDDSRGLV...</td>\n",
       "      <td>-1.910004</td>\n",
       "      <td>0</td>\n",
       "    </tr>\n",
       "    <tr>\n",
       "      <th>2</th>\n",
       "      <td>A572C:E574A:Q584C:R585V</td>\n",
       "      <td>MAADGYLPDWLEDTLSEGIRQWWKLKPGPPPPKPAERHKDDSRGLV...</td>\n",
       "      <td>-4.135085</td>\n",
       "      <td>0</td>\n",
       "    </tr>\n",
       "    <tr>\n",
       "      <th>3</th>\n",
       "      <td>A572C:E574A:S578V:Q584C:R585P</td>\n",
       "      <td>MAADGYLPDWLEDTLSEGIRQWWKLKPGPPPPKPAERHKDDSRGLV...</td>\n",
       "      <td>-4.901771</td>\n",
       "      <td>0</td>\n",
       "    </tr>\n",
       "    <tr>\n",
       "      <th>4</th>\n",
       "      <td>A572C:E574A:T581S:N582G</td>\n",
       "      <td>MAADGYLPDWLEDTLSEGIRQWWKLKPGPPPPKPAERHKDDSRGLV...</td>\n",
       "      <td>-2.227975</td>\n",
       "      <td>0</td>\n",
       "    </tr>\n",
       "    <tr>\n",
       "      <th>...</th>\n",
       "      <td>...</td>\n",
       "      <td>...</td>\n",
       "      <td>...</td>\n",
       "      <td>...</td>\n",
       "    </tr>\n",
       "    <tr>\n",
       "      <th>42323</th>\n",
       "      <td>Y576W:V579Y:S580D:L583D:Q584E</td>\n",
       "      <td>MAADGYLPDWLEDTLSEGIRQWWKLKPGPPPPKPAERHKDDSRGLV...</td>\n",
       "      <td>0.424268</td>\n",
       "      <td>1</td>\n",
       "    </tr>\n",
       "    <tr>\n",
       "      <th>42324</th>\n",
       "      <td>Y576W:V579Y:S580D:N587D</td>\n",
       "      <td>MAADGYLPDWLEDTLSEGIRQWWKLKPGPPPPKPAERHKDDSRGLV...</td>\n",
       "      <td>1.175576</td>\n",
       "      <td>1</td>\n",
       "    </tr>\n",
       "    <tr>\n",
       "      <th>42325</th>\n",
       "      <td>Y576W:V579Y:T581D:R585V:N587D</td>\n",
       "      <td>MAADGYLPDWLEDTLSEGIRQWWKLKPGPPPPKPAERHKDDSRGLV...</td>\n",
       "      <td>0.847795</td>\n",
       "      <td>1</td>\n",
       "    </tr>\n",
       "    <tr>\n",
       "      <th>42326</th>\n",
       "      <td>Y576W:V579Y:T581E:N582I:L583E:R588A</td>\n",
       "      <td>MAADGYLPDWLEDTLSEGIRQWWKLKPGPPPPKPAERHKDDSRGLV...</td>\n",
       "      <td>0.751041</td>\n",
       "      <td>1</td>\n",
       "    </tr>\n",
       "    <tr>\n",
       "      <th>42327</th>\n",
       "      <td>Y576W:V579Y:T581E:R585Q:G586E:R588A</td>\n",
       "      <td>MAADGYLPDWLEDTLSEGIRQWWKLKPGPPPPKPAERHKDDSRGLV...</td>\n",
       "      <td>1.177617</td>\n",
       "      <td>1</td>\n",
       "    </tr>\n",
       "  </tbody>\n",
       "</table>\n",
       "<p>42328 rows × 4 columns</p>\n",
       "</div>"
      ],
      "text/plain": [
       "                                    mutant  \\\n",
       "0                                    A572C   \n",
       "1                              A572C:E574A   \n",
       "2                  A572C:E574A:Q584C:R585V   \n",
       "3            A572C:E574A:S578V:Q584C:R585P   \n",
       "4                  A572C:E574A:T581S:N582G   \n",
       "...                                    ...   \n",
       "42323        Y576W:V579Y:S580D:L583D:Q584E   \n",
       "42324              Y576W:V579Y:S580D:N587D   \n",
       "42325        Y576W:V579Y:T581D:R585V:N587D   \n",
       "42326  Y576W:V579Y:T581E:N582I:L583E:R588A   \n",
       "42327  Y576W:V579Y:T581E:R585Q:G586E:R588A   \n",
       "\n",
       "                                        mutated_sequence  DMS_score  \\\n",
       "0      MAADGYLPDWLEDTLSEGIRQWWKLKPGPPPPKPAERHKDDSRGLV...   0.783106   \n",
       "1      MAADGYLPDWLEDTLSEGIRQWWKLKPGPPPPKPAERHKDDSRGLV...  -1.910004   \n",
       "2      MAADGYLPDWLEDTLSEGIRQWWKLKPGPPPPKPAERHKDDSRGLV...  -4.135085   \n",
       "3      MAADGYLPDWLEDTLSEGIRQWWKLKPGPPPPKPAERHKDDSRGLV...  -4.901771   \n",
       "4      MAADGYLPDWLEDTLSEGIRQWWKLKPGPPPPKPAERHKDDSRGLV...  -2.227975   \n",
       "...                                                  ...        ...   \n",
       "42323  MAADGYLPDWLEDTLSEGIRQWWKLKPGPPPPKPAERHKDDSRGLV...   0.424268   \n",
       "42324  MAADGYLPDWLEDTLSEGIRQWWKLKPGPPPPKPAERHKDDSRGLV...   1.175576   \n",
       "42325  MAADGYLPDWLEDTLSEGIRQWWKLKPGPPPPKPAERHKDDSRGLV...   0.847795   \n",
       "42326  MAADGYLPDWLEDTLSEGIRQWWKLKPGPPPPKPAERHKDDSRGLV...   0.751041   \n",
       "42327  MAADGYLPDWLEDTLSEGIRQWWKLKPGPPPPKPAERHKDDSRGLV...   1.177617   \n",
       "\n",
       "       DMS_score_bin  \n",
       "0                  1  \n",
       "1                  0  \n",
       "2                  0  \n",
       "3                  0  \n",
       "4                  0  \n",
       "...              ...  \n",
       "42323              1  \n",
       "42324              1  \n",
       "42325              1  \n",
       "42326              1  \n",
       "42327              1  \n",
       "\n",
       "[42328 rows x 4 columns]"
      ]
     },
     "execution_count": 18,
     "metadata": {},
     "output_type": "execute_result"
    }
   ],
   "source": [
    "datafile"
   ]
  },
  {
   "cell_type": "code",
   "execution_count": 19,
   "id": "07410e6c-fd0e-4dd5-86e0-5eb10241f074",
   "metadata": {
    "tags": []
   },
   "outputs": [],
   "source": [
    "# # Pokusaeva 2019\n",
    "# path = \"../Data/HIS3InterspeciesEpistasis/Data/S5_scaled_info_v2.csv\"\n",
    "# datafile = pd.read_csv(path, sep='\\t')\n",
    "# new_column_names = {'aa_seq': 'mutated_sequence', 's_original': 'DMS_score'}\n",
    "# datafile.rename(columns=new_column_names, inplace=True)"
   ]
  },
  {
   "cell_type": "code",
   "execution_count": 20,
   "id": "4d2b178c-1337-4c0f-8021-414f66ea75d0",
   "metadata": {
    "tags": []
   },
   "outputs": [
    {
     "data": {
      "image/png": "[encoded data removed]",
      "text/plain": [
       "<Figure size 640x480 with 1 Axes>"
      ]
     },
     "metadata": {},
     "output_type": "display_data"
    },
    {
     "name": "stdout",
     "output_type": "stream",
     "text": [
      "number of mutants HD>5 = 11113\n"
     ]
    },
    {
     "data": {
      "image/png": "[encoded data removed]",
      "text/plain": [
       "<Figure size 640x480 with 1 Axes>"
      ]
     },
     "metadata": {},
     "output_type": "display_data"
    },
    {
     "data": {
      "image/png": "[encoded data removed]",
      "text/plain": [
       "<Figure size 640x480 with 1 Axes>"
      ]
     },
     "metadata": {},
     "output_type": "display_data"
    }
   ],
   "source": [
    "lens = np.array([len(seq) for seq in datafile.mutated_sequence])\n",
    "datafile['length'] = [len(seq) for seq in datafile.mutated_sequence]\n",
    "datafile.length.value_counts()\n",
    "\n",
    "n_mutants = np.array([mutant.count(\":\") for mutant in datafile.mutant]) + 1\n",
    "datafile['hd'] = n_mutants\n",
    "plt.hist(n_mutants, bins=20)\n",
    "plt.show()\n",
    "print(f\"number of mutants HD>5 = {np.sum(n_mutants > 5)}\")\n",
    "\n",
    "# Fitness vs. Hamming distance\n",
    "\n",
    "plt.scatter(datafile['hd'], datafile['DMS_score'])\n",
    "plt.show()\n",
    "\n",
    "plt.hist(datafile.DMS_score, bins=20)\n",
    "plt.show()"
   ]
  },
  {
   "cell_type": "code",
   "execution_count": null,
   "id": "672b513e-6be1-4800-8f31-c4a4ca5a0a7b",
   "metadata": {
    "tags": []
   },
   "outputs": [],
   "source": [
    "seqs_tokenized = [tokenize(seq) for seq in datafile.mutated_sequence]\n",
    "seqs = torch.tensor(seqs_tokenized)\n",
    "seqs_df = pd.DataFrame(seqs.cpu().numpy())\n",
    "L = len(seqs[0])\n",
    "AA_size = 20\n",
    "\n",
    "# Find variable sites\n",
    "\n",
    "counts = {i: seqs_df[i].value_counts() for i in range(seqs_df.shape[1])}\n",
    "\n",
    "n_aas = [len(counts[i]) for i in range(len(counts))]\n",
    "sites_var = np.where(np.array(n_aas) != 1)\n",
    "\n",
    "plt.plot(n_aas)\n",
    "plt.show()\n",
    "\n",
    "seqs = seqs.cpu()\n",
    "seqs = seqs[:, sites_var].squeeze(1)\n",
    "L = seqs.shape[1]\n",
    "\n",
    "from torch.nn.functional import one_hot\n",
    "seqs1h = one_hot(seqs)\n",
    "print(seqs1h.shape)\n",
    "\n",
    "seqs1hf = seqs1h.view(-1, L*(AA_size))\n",
    "print(seqs1hf.shape)\n",
    "\n",
    "phenotypes = torch.tensor(list(datafile.DMS_score)).float()\n",
    "phenotypes = phenotypes.unsqueeze(1)"
   ]
  },
  {
   "cell_type": "code",
   "execution_count": null,
   "id": "4f4e4c2d-20f4-4f78-990e-713d1dda108e",
   "metadata": {
    "tags": []
   },
   "outputs": [],
   "source": [
    "import torch\n",
    "import torch.utils.data as data\n",
    "\n",
    "class ProtDataset(data.Dataset):\n",
    "    def __init__(self, feats, labels, train=True):    \n",
    "        self.train = train\n",
    "        self.feats = feats\n",
    "        self.labels = labels\n",
    "    \n",
    "    def __len__(self):\n",
    "        return len(self.feats)\n",
    "    \n",
    "    def __getitem__(self, idx):\n",
    "        \n",
    "        X = self.feats[idx]\n",
    "        y = self.labels[idx]\n",
    "\n",
    "        return X, y"
   ]
  },
  {
   "cell_type": "code",
   "execution_count": null,
   "id": "b61d7004-fe2e-4559-afe7-582ebf06879a",
   "metadata": {
    "tags": []
   },
   "outputs": [],
   "source": [
    "# min_d = 7\n",
    "# sub_list = list(np.where(datafile['hd'] < min_d)[0])\n",
    "# comp_list = list(np.where(datafile['hd'] >= min_d)[0])\n",
    "\n",
    "# num_train = len(sub_list)\n",
    "# num_test = 1000\n",
    "\n",
    "# train_list = np.random.choice(sub_list, num_train, replace=False)\n",
    "# test_list = np.random.choice(comp_list, num_test, replace=False)\n",
    "\n",
    "# print(len(set(train_list)))\n",
    "# print(len(set(test_list)))"
   ]
  },
  {
   "cell_type": "code",
   "execution_count": null,
   "id": "f413c7df-01d0-48ea-91a2-489f9d15ce67",
   "metadata": {
    "tags": []
   },
   "outputs": [],
   "source": [
    "# min_d = 8\n",
    "\n",
    "# n = datafile.shape[0]\n",
    "\n",
    "# num_train = 20000\n",
    "# num_test = 2000\n",
    "\n",
    "# train_list = np.random.choice(range(n), num_train, replace=False)\n",
    "\n",
    "# comp_list = list(np.where(datafile['hd'] >= min_d)[0])\n",
    "# comp_list = list(set(comp_list).difference(set(train_list)))\n",
    "# test_list = np.random.choice(comp_list, num_test, replace=False)\n",
    "\n",
    "# print(len(set(train_list)))\n",
    "# print(len(set(test_list)))"
   ]
  },
  {
   "cell_type": "code",
   "execution_count": 12,
   "id": "814a0c1b-3794-4345-919e-f5b861009d31",
   "metadata": {
    "tags": []
   },
   "outputs": [],
   "source": [
    "n = datafile.shape[0]\n",
    "train_num = 30000\n",
    "\n",
    "test_list_by_d = {}\n",
    "for d in datafile.hd.unique():\n",
    "    inds = np.where(np.array(datafile['hd'] == d))[0]\n",
    "    min_num = int(.8*(len(inds)))\n",
    "    test_list_by_d[d] = np.random.choice(inds, min(500, min_num), replace=False)\n",
    "\n",
    "test_list = np.concatenate(list(test_list_by_d.values()))\n",
    "\n",
    "comp_list = list(set(range(n)).difference(test_list))\n",
    "\n",
    "train_list = np.random.choice(comp_list, train_num)"
   ]
  },
  {
   "cell_type": "code",
   "execution_count": 24,
   "id": "51ce3b6b-093f-41e0-9f9d-a95d14cd61b7",
   "metadata": {
    "tags": []
   },
   "outputs": [
    {
     "data": {
      "text/html": [
       "<div>\n",
       "<style scoped>\n",
       "    .dataframe tbody tr th:only-of-type {\n",
       "        vertical-align: middle;\n",
       "    }\n",
       "\n",
       "    .dataframe tbody tr th {\n",
       "        vertical-align: top;\n",
       "    }\n",
       "\n",
       "    .dataframe thead th {\n",
       "        text-align: right;\n",
       "    }\n",
       "</style>\n",
       "<table border=\"1\" class=\"dataframe\">\n",
       "  <thead>\n",
       "    <tr style=\"text-align: right;\">\n",
       "      <th></th>\n",
       "      <th>mutant</th>\n",
       "      <th>mutated_sequence</th>\n",
       "      <th>DMS_score</th>\n",
       "      <th>DMS_score_bin</th>\n",
       "      <th>length</th>\n",
       "      <th>hd</th>\n",
       "    </tr>\n",
       "  </thead>\n",
       "  <tbody>\n",
       "    <tr>\n",
       "      <th>1</th>\n",
       "      <td>A572C:E574A</td>\n",
       "      <td>MAADGYLPDWLEDTLSEGIRQWWKLKPGPPPPKPAERHKDDSRGLV...</td>\n",
       "      <td>-1.910004</td>\n",
       "      <td>0</td>\n",
       "      <td>735</td>\n",
       "      <td>2</td>\n",
       "    </tr>\n",
       "    <tr>\n",
       "      <th>2</th>\n",
       "      <td>A572C:E574A:Q584C:R585V</td>\n",
       "      <td>MAADGYLPDWLEDTLSEGIRQWWKLKPGPPPPKPAERHKDDSRGLV...</td>\n",
       "      <td>-4.135085</td>\n",
       "      <td>0</td>\n",
       "      <td>735</td>\n",
       "      <td>4</td>\n",
       "    </tr>\n",
       "    <tr>\n",
       "      <th>3</th>\n",
       "      <td>A572C:E574A:S578V:Q584C:R585P</td>\n",
       "      <td>MAADGYLPDWLEDTLSEGIRQWWKLKPGPPPPKPAERHKDDSRGLV...</td>\n",
       "      <td>-4.901771</td>\n",
       "      <td>0</td>\n",
       "      <td>735</td>\n",
       "      <td>5</td>\n",
       "    </tr>\n",
       "    <tr>\n",
       "      <th>4</th>\n",
       "      <td>A572C:E574A:T581S:N582G</td>\n",
       "      <td>MAADGYLPDWLEDTLSEGIRQWWKLKPGPPPPKPAERHKDDSRGLV...</td>\n",
       "      <td>-2.227975</td>\n",
       "      <td>0</td>\n",
       "      <td>735</td>\n",
       "      <td>4</td>\n",
       "    </tr>\n",
       "    <tr>\n",
       "      <th>5</th>\n",
       "      <td>A572C:E574D:G577N:S578Y:R585H:N587T</td>\n",
       "      <td>MAADGYLPDWLEDTLSEGIRQWWKLKPGPPPPKPAERHKDDSRGLV...</td>\n",
       "      <td>-4.867752</td>\n",
       "      <td>0</td>\n",
       "      <td>735</td>\n",
       "      <td>6</td>\n",
       "    </tr>\n",
       "    <tr>\n",
       "      <th>...</th>\n",
       "      <td>...</td>\n",
       "      <td>...</td>\n",
       "      <td>...</td>\n",
       "      <td>...</td>\n",
       "      <td>...</td>\n",
       "      <td>...</td>\n",
       "    </tr>\n",
       "    <tr>\n",
       "      <th>42323</th>\n",
       "      <td>Y576W:V579Y:S580D:L583D:Q584E</td>\n",
       "      <td>MAADGYLPDWLEDTLSEGIRQWWKLKPGPPPPKPAERHKDDSRGLV...</td>\n",
       "      <td>0.424268</td>\n",
       "      <td>1</td>\n",
       "      <td>735</td>\n",
       "      <td>5</td>\n",
       "    </tr>\n",
       "    <tr>\n",
       "      <th>42324</th>\n",
       "      <td>Y576W:V579Y:S580D:N587D</td>\n",
       "      <td>MAADGYLPDWLEDTLSEGIRQWWKLKPGPPPPKPAERHKDDSRGLV...</td>\n",
       "      <td>1.175576</td>\n",
       "      <td>1</td>\n",
       "      <td>735</td>\n",
       "      <td>4</td>\n",
       "    </tr>\n",
       "    <tr>\n",
       "      <th>42325</th>\n",
       "      <td>Y576W:V579Y:T581D:R585V:N587D</td>\n",
       "      <td>MAADGYLPDWLEDTLSEGIRQWWKLKPGPPPPKPAERHKDDSRGLV...</td>\n",
       "      <td>0.847795</td>\n",
       "      <td>1</td>\n",
       "      <td>735</td>\n",
       "      <td>5</td>\n",
       "    </tr>\n",
       "    <tr>\n",
       "      <th>42326</th>\n",
       "      <td>Y576W:V579Y:T581E:N582I:L583E:R588A</td>\n",
       "      <td>MAADGYLPDWLEDTLSEGIRQWWKLKPGPPPPKPAERHKDDSRGLV...</td>\n",
       "      <td>0.751041</td>\n",
       "      <td>1</td>\n",
       "      <td>735</td>\n",
       "      <td>6</td>\n",
       "    </tr>\n",
       "    <tr>\n",
       "      <th>42327</th>\n",
       "      <td>Y576W:V579Y:T581E:R585Q:G586E:R588A</td>\n",
       "      <td>MAADGYLPDWLEDTLSEGIRQWWKLKPGPPPPKPAERHKDDSRGLV...</td>\n",
       "      <td>1.177617</td>\n",
       "      <td>1</td>\n",
       "      <td>735</td>\n",
       "      <td>6</td>\n",
       "    </tr>\n",
       "  </tbody>\n",
       "</table>\n",
       "<p>35136 rows × 6 columns</p>\n",
       "</div>"
      ],
      "text/plain": [
       "                                    mutant  \\\n",
       "1                              A572C:E574A   \n",
       "2                  A572C:E574A:Q584C:R585V   \n",
       "3            A572C:E574A:S578V:Q584C:R585P   \n",
       "4                  A572C:E574A:T581S:N582G   \n",
       "5      A572C:E574D:G577N:S578Y:R585H:N587T   \n",
       "...                                    ...   \n",
       "42323        Y576W:V579Y:S580D:L583D:Q584E   \n",
       "42324              Y576W:V579Y:S580D:N587D   \n",
       "42325        Y576W:V579Y:T581D:R585V:N587D   \n",
       "42326  Y576W:V579Y:T581E:N582I:L583E:R588A   \n",
       "42327  Y576W:V579Y:T581E:R585Q:G586E:R588A   \n",
       "\n",
       "                                        mutated_sequence  DMS_score  \\\n",
       "1      MAADGYLPDWLEDTLSEGIRQWWKLKPGPPPPKPAERHKDDSRGLV...  -1.910004   \n",
       "2      MAADGYLPDWLEDTLSEGIRQWWKLKPGPPPPKPAERHKDDSRGLV...  -4.135085   \n",
       "3      MAADGYLPDWLEDTLSEGIRQWWKLKPGPPPPKPAERHKDDSRGLV...  -4.901771   \n",
       "4      MAADGYLPDWLEDTLSEGIRQWWKLKPGPPPPKPAERHKDDSRGLV...  -2.227975   \n",
       "5      MAADGYLPDWLEDTLSEGIRQWWKLKPGPPPPKPAERHKDDSRGLV...  -4.867752   \n",
       "...                                                  ...        ...   \n",
       "42323  MAADGYLPDWLEDTLSEGIRQWWKLKPGPPPPKPAERHKDDSRGLV...   0.424268   \n",
       "42324  MAADGYLPDWLEDTLSEGIRQWWKLKPGPPPPKPAERHKDDSRGLV...   1.175576   \n",
       "42325  MAADGYLPDWLEDTLSEGIRQWWKLKPGPPPPKPAERHKDDSRGLV...   0.847795   \n",
       "42326  MAADGYLPDWLEDTLSEGIRQWWKLKPGPPPPKPAERHKDDSRGLV...   0.751041   \n",
       "42327  MAADGYLPDWLEDTLSEGIRQWWKLKPGPPPPKPAERHKDDSRGLV...   1.177617   \n",
       "\n",
       "       DMS_score_bin  length  hd  \n",
       "1                  0     735   2  \n",
       "2                  0     735   4  \n",
       "3                  0     735   5  \n",
       "4                  0     735   4  \n",
       "5                  0     735   6  \n",
       "...              ...     ...  ..  \n",
       "42323              1     735   5  \n",
       "42324              1     735   4  \n",
       "42325              1     735   5  \n",
       "42326              1     735   6  \n",
       "42327              1     735   6  \n",
       "\n",
       "[35136 rows x 6 columns]"
      ]
     },
     "execution_count": 24,
     "metadata": {},
     "output_type": "execute_result"
    }
   ],
   "source": [
    "datafile.iloc[comp_list]"
   ]
  },
  {
   "cell_type": "code",
   "execution_count": 25,
   "id": "771352ba-e51f-4dfc-b757-0bc4129dad56",
   "metadata": {
    "tags": []
   },
   "outputs": [
    {
     "data": {
      "image/png": "[encoded data removed]",
      "text/plain": [
       "<Figure size 640x480 with 1 Axes>"
      ]
     },
     "metadata": {},
     "output_type": "display_data"
    }
   ],
   "source": [
    "plt.hist(phenotypes[train_list].flatten().numpy(), density=True, alpha=.5)\n",
    "plt.hist(phenotypes[test_list].flatten().numpy(), density=True, alpha=.5)\n",
    "plt.show()"
   ]
  },
  {
   "cell_type": "code",
   "execution_count": 31,
   "id": "487244d7-2600-4676-8514-608c71f5b330",
   "metadata": {
    "tags": []
   },
   "outputs": [],
   "source": [
    "r2_max = {}\n",
    "ds = list(test_list_by_d.keys())"
   ]
  },
  {
   "cell_type": "markdown",
   "id": "0973e263-c868-4813-aeaa-f78d2b923408",
   "metadata": {
    "tags": []
   },
   "source": [
    "### Fit Linear model"
   ]
  },
  {
   "cell_type": "code",
   "execution_count": 32,
   "id": "b12c4363-4e88-4e75-96da-5c28c72a8ec1",
   "metadata": {
    "tags": []
   },
   "outputs": [
    {
     "data": {
      "text/plain": [
       "torch.Size([30000, 560])"
      ]
     },
     "execution_count": 32,
     "metadata": {},
     "output_type": "execute_result"
    }
   ],
   "source": [
    "X = seqs1hf.float().to(device)\n",
    "y = phenotypes.to(device)\n",
    "\n",
    "X_train, y_train = X[train_list], y[train_list]\n",
    "X_test, y_test = X[test_list], y[test_list]\n",
    "\n",
    "train_dataset = ProtDataset(X_train, y_train)\n",
    "train_loader = data.DataLoader(train_dataset,\n",
    "                               batch_size=1000,\n",
    "                               shuffle=True,\n",
    "                               drop_last=False)\n",
    "\n",
    "X_train.shape"
   ]
  },
  {
   "cell_type": "code",
   "execution_count": 33,
   "id": "8ff936fe-59fe-443b-81a0-ded68534c281",
   "metadata": {
    "tags": []
   },
   "outputs": [],
   "source": [
    "# # Define the linear regression model as provided\n",
    "# class LinearRegressionModel(nn.Module):\n",
    "#     @nn.compact\n",
    "#     def __call__(self, x, train:bool):\n",
    "#         batch_size = x.shape[0]        \n",
    "#         x = x.reshape(batch_size, -1)\n",
    "#         weights = self.param('weights', lambda key, shape: jax.random.normal(key, shape=shape), (L*AA_size,))\n",
    "#         bias = self.param('bias', lambda key, shape: jax.random.normal(key, shape=shape), ())\n",
    "#         scale = self.param('scale', lambda key, shape: jax.random.normal(key, shape=shape), ())\n",
    "#         x = jnp.dot(x, weights)\n",
    "#         x = x.reshape(-1, 1)\n",
    "#         x = nn.BatchNorm(use_running_average=not train)(x)\n",
    "#         x = x.reshape(-1)        \n",
    "\n",
    "#         # return linear_output\n",
    "#         return scale*nn.sigmoid(x) + bias\n",
    "\n",
    "# # Define a custom loss function (mean squared error)\n",
    "# def mse_loss(params, x, y):\n",
    "#     predictions, _ = model.apply(params, x, train=True, mutable=['batch_stats'])\n",
    "#     loss = jnp.mean((predictions - y) ** 2)\n",
    "#     return loss\n",
    "\n",
    "# # Create an instance of the model\n",
    "# model = LinearRegressionModel()"
   ]
  },
  {
   "cell_type": "code",
   "execution_count": 34,
   "id": "f7b53784-66d2-449e-b29f-d683f2940c1d",
   "metadata": {
    "tags": []
   },
   "outputs": [],
   "source": [
    "class LinearModel(nn.Module):\n",
    "    def __init__(self):\n",
    "        super(LinearModel, self).__init__()\n",
    "        self.fc = nn.Linear((AA_size)*L, 1)\n",
    "        self.sigmoid_norm = nn.BatchNorm1d(1, affine=False)                \n",
    "        self.sigmoid = nn.Sigmoid()\n",
    "        self.sigmoid_scale = nn.Linear(1, 1)        \n",
    "        \n",
    "    def forward(self, x):\n",
    "        x = self.fc(x)\n",
    "        # x = self.sigmoid_norm(x)\n",
    "        x = self.sigmoid(x)\n",
    "        x = self.sigmoid_scale(x)        \n",
    "            \n",
    "        return x"
   ]
  },
  {
   "cell_type": "code",
   "execution_count": 35,
   "id": "183070fe-d539-41f0-a205-bd8b5703bd2f",
   "metadata": {
    "tags": []
   },
   "outputs": [
    {
     "data": {
      "image/png": "[encoded data removed]",
      "text/plain": [
       "<Figure size 640x480 with 1 Axes>"
      ]
     },
     "metadata": {},
     "output_type": "display_data"
    }
   ],
   "source": [
    "x, y = next(iter(train_loader))\n",
    "model = LinearModel().cuda()\n",
    "output = model(x)\n",
    "\n",
    "plt.hist(output.detach().cpu().numpy())\n",
    "plt.show()"
   ]
  },
  {
   "cell_type": "code",
   "execution_count": 36,
   "id": "337ffb1a-8216-49a8-8264-4ecfe0c1f421",
   "metadata": {
    "tags": []
   },
   "outputs": [
    {
     "name": "stdout",
     "output_type": "stream",
     "text": [
      "Epoch 1/300, Loss: 8.760074059168497\n",
      "0.15560888138554677\n",
      "Epoch 11/300, Loss: 3.7008551120758058\n",
      "0.5259896799901452\n",
      "Epoch 21/300, Loss: 2.2658907175064087\n",
      "0.7271468358453387\n",
      "Epoch 31/300, Loss: 2.0564114689826964\n",
      "0.7584219546928544\n",
      "Epoch 41/300, Loss: 2.0384103775024416\n",
      "0.7644644767199537\n",
      "Epoch 51/300, Loss: 2.031667955716451\n",
      "0.7654518631972187\n",
      "Epoch 61/300, Loss: 2.0205788890520733\n",
      "0.7669016035876152\n",
      "Epoch 71/300, Loss: 2.0183503071467084\n",
      "0.7673396235830924\n",
      "Epoch 81/300, Loss: 2.0197697401046755\n",
      "0.7665580522515387\n",
      "Epoch 91/300, Loss: 2.017136001586914\n",
      "0.7653377350196299\n",
      "Epoch 101/300, Loss: 2.0160231431325277\n",
      "0.7667455352826895\n",
      "Epoch 111/300, Loss: 2.013410727183024\n",
      "0.767155942123076\n",
      "Epoch 121/300, Loss: 2.0158799052238465\n",
      "0.7662237461405919\n",
      "Epoch 131/300, Loss: 2.0157565514246625\n",
      "0.7669299816879601\n",
      "Epoch 141/300, Loss: 2.012771530946096\n",
      "0.7668019010520484\n",
      "Epoch 151/300, Loss: 2.0181203881899514\n",
      "0.766236093938388\n",
      "Epoch 161/300, Loss: 2.0171005487442017\n",
      "0.7669836734488137\n",
      "Epoch 171/300, Loss: 2.0127272327740986\n",
      "0.7669448505696891\n",
      "Epoch 181/300, Loss: 2.0115381995836894\n",
      "0.7666786727679541\n",
      "Epoch 191/300, Loss: 2.0139141122500104\n",
      "0.7655889902172235\n",
      "Epoch 201/300, Loss: 2.012324301401774\n",
      "0.7679705437464216\n",
      "Epoch 211/300, Loss: 2.012833638985952\n",
      "0.7665334752115154\n",
      "Epoch 221/300, Loss: 2.0139246424039206\n",
      "0.765825462660579\n",
      "Epoch 231/300, Loss: 2.015629514058431\n",
      "0.7672160336929927\n",
      "Epoch 241/300, Loss: 2.0154855449994407\n",
      "0.7654208001398911\n",
      "Epoch 251/300, Loss: 2.0161153515179953\n",
      "0.7665496751469046\n",
      "Epoch 261/300, Loss: 2.0134872357050577\n",
      "0.7667843808150403\n",
      "Epoch 271/300, Loss: 2.012524127960205\n",
      "0.7668245618035872\n",
      "Epoch 281/300, Loss: 2.0181605259577435\n",
      "0.7658713672326066\n",
      "Epoch 291/300, Loss: 2.01422411998113\n",
      "0.7665469039894851\n"
     ]
    }
   ],
   "source": [
    "import torch.optim as optim\n",
    "import torch\n",
    "import torch.nn as nn\n",
    "\n",
    "\n",
    "from scipy.stats import pearsonr\n",
    "learning_rate = 0.01\n",
    "epochs = 300\n",
    "\n",
    "criterion = nn.MSELoss()\n",
    "optimizer = optim.Adam(model.parameters(), lr=learning_rate)\n",
    "\n",
    "for epoch in range(epochs):\n",
    "    total_loss = 0\n",
    "    for batch_inputs, batch_targets in train_loader:\n",
    "        model.train()\n",
    "        optimizer.zero_grad()\n",
    "        outputs = model(batch_inputs)\n",
    "        loss = criterion(outputs, batch_targets)\n",
    "        loss.backward()\n",
    "        optimizer.step()\n",
    "        total_loss += loss.item()\n",
    "    \n",
    "    if epoch % 10 == 0:\n",
    "        print(f\"Epoch {epoch+1}/{epochs}, Loss: {total_loss/len(train_loader)}\")\n",
    "        model.eval()\n",
    "        pred, true = model(X_test.flatten(1)).flatten().detach().cpu().numpy(), y_test.flatten().detach().cpu().numpy()\n",
    "        print(pearsonr(pred, true)[0]**2)\n",
    "        \n",
    "        preds = {}\n",
    "        trues = {}\n",
    "        r2s = {}\n",
    "        for d in ds:\n",
    "            X_test_d = X[test_list_by_d[d]]\n",
    "            pred = model(X_test_d.flatten(1)).flatten().detach().cpu().numpy()\n",
    "            true = phenotypes[list(test_list_by_d[d])].flatten().detach().cpu().numpy()\n",
    "            preds[d], trues[d] = pred, true\n",
    "            r2s[d] = pearsonr(pred, true)[0]**2\n",
    "        r2_log[epoch] = r2s"
   ]
  },
  {
   "cell_type": "code",
   "execution_count": 37,
   "id": "fb5c59ec-6323-495e-846a-e8c870c53677",
   "metadata": {
    "tags": []
   },
   "outputs": [],
   "source": [
    "r2_max[\"linear\"] = pd.DataFrame(r2_log).max(1)"
   ]
  },
  {
   "cell_type": "code",
   "execution_count": 38,
   "id": "070f5368-5560-4413-b722-c4e4073c8cb8",
   "metadata": {
    "tags": []
   },
   "outputs": [
    {
     "data": {
      "text/plain": [
       "<matplotlib.collections.PathCollection at 0x14ad5af2a4d0>"
      ]
     },
     "execution_count": 38,
     "metadata": {},
     "output_type": "execute_result"
    },
    {
     "data": {
      "image/png": "[encoded data removed]",
      "text/plain": [
       "<Figure size 640x480 with 1 Axes>"
      ]
     },
     "metadata": {},
     "output_type": "display_data"
    }
   ],
   "source": [
    "pred, true = model(X_test.flatten(1)).flatten().detach().cpu().numpy(), y_test.flatten().detach().cpu().numpy()\n",
    "plt.scatter(pred, true)"
   ]
  },
  {
   "cell_type": "markdown",
   "id": "bdb8456a-e4e1-4502-8f13-7208968e6738",
   "metadata": {},
   "source": [
    "### Fit transformer"
   ]
  },
  {
   "cell_type": "code",
   "execution_count": 39,
   "id": "758919ee-e105-4ba0-bab8-5d34f836e2a9",
   "metadata": {
    "tags": []
   },
   "outputs": [],
   "source": [
    "# seqs = seqs + AA_size*torch.tensor(range(L))\n",
    "\n",
    "# X = seqs.to(device)\n",
    "# y = phenotypes.to(device)\n",
    "\n",
    "\n",
    "# train_list = np.random.choice(len(X), num_train)\n",
    "# comp_list = list(set(range(len(X))).difference(train_list))\n",
    "# test_list = np.random.choice(comp_list, num_test)\n",
    "\n",
    "# X_train, y_train = X[train_list], y[train_list]\n",
    "# X_test, y_test = X[test_list], y[test_list]\n",
    "\n",
    "# train_dataset = ProtDataset(X_train, y_train)\n",
    "# train_loader = data.DataLoader(train_dataset,\n",
    "#                                batch_size=1000,\n",
    "#                                shuffle=True,\n",
    "#                                drop_last=False)"
   ]
  },
  {
   "cell_type": "code",
   "execution_count": 40,
   "id": "2e464895-21ca-4319-8c40-0b958fc52dec",
   "metadata": {
    "tags": []
   },
   "outputs": [],
   "source": [
    "seqs_ex = seqs + AA_size*torch.tensor(range(L))\n",
    "\n",
    "X = seqs_ex.to(device)\n",
    "y = phenotypes.to(device)\n",
    "\n",
    "X_train, y_train = X[train_list], y[train_list]\n",
    "X_test, y_test = X[test_list], y[test_list]\n",
    "\n",
    "train_dataset = ProtDataset(X_train, y_train)\n",
    "train_loader = data.DataLoader(train_dataset,\n",
    "                               batch_size=1000,\n",
    "                               shuffle=True,\n",
    "                               drop_last=False)"
   ]
  },
  {
   "cell_type": "code",
   "execution_count": 41,
   "id": "2b687d7c-d7c1-4e81-b899-9d240bc3f12d",
   "metadata": {
    "tags": []
   },
   "outputs": [],
   "source": [
    "# This works!!\n",
    "import torch\n",
    "import torch.nn as nn\n",
    "import torch.optim as optim\n",
    "from torch.utils.data import DataLoader, TensorDataset\n",
    "import numpy as np\n",
    "\n",
    "\n",
    "import torch\n",
    "import torch.nn as nn\n",
    "\n",
    "class MultiHeadAttentionLayer(nn.Module):\n",
    "    def __init__(self, hidden_dim, num_heads, dropout):\n",
    "        super(MultiHeadAttentionLayer, self).__init__()\n",
    "        self.multihead_attn = nn.MultiheadAttention(hidden_dim, num_heads, dropout)\n",
    "        # self.multihead_attn = MultiheadAttention(hidden_dim, hidden_dim, num_heads)        \n",
    "        self.layer_norm = nn.LayerNorm(hidden_dim)\n",
    "        \n",
    "    def forward(self, x):\n",
    "        attn_output, _ = self.multihead_attn(x, x, x)\n",
    "        x = x + attn_output\n",
    "        # x = self.layer_norm(x + attn_output)\n",
    "        return x\n",
    "\n",
    "class CustomTransformer(nn.Module):\n",
    "    def __init__(self, input_dim, hidden_dim, num_layers, num_heads, dropout):\n",
    "        super(CustomTransformer, self).__init__()\n",
    "\n",
    "        self.embedding = nn.Embedding(input_dim, hidden_dim)\n",
    "        \n",
    "        self.transformer_layers = nn.ModuleList([\n",
    "            MultiHeadAttentionLayer(hidden_dim, num_heads, dropout) for _ in range(num_layers)\n",
    "        ])\n",
    "        # self.fc = nn.Linear(hidden_dim, 1)\n",
    "        self.fc = nn.Linear(hidden_dim*L, 1)        \n",
    "        self.sigmoid_norm = nn.BatchNorm1d(1, affine=False)        \n",
    "        self.sigmoid = nn.Sigmoid()\n",
    "        self.phi_scaling = nn.Linear(1, 1)\n",
    "        self.sigmoid_scaling = nn.Linear(1, 1)\n",
    "\n",
    "    def forward(self, x):\n",
    "\n",
    "        x = self.embedding(x)\n",
    "        x = x.permute(1, 0, 2)  # seq_len x batch x hidden_dim\n",
    "        \n",
    "        for layer in self.transformer_layers:\n",
    "            x = layer(x)\n",
    "            \n",
    "        # x = torch.mean(x, dim=0)  # batch x hidden_dim\n",
    "        x = x.permute(1, 0, 2)\n",
    "        x = x.flatten(1)\n",
    "        # print(x.shape)\n",
    "        x = self.fc(x)  # batch x 1 (scalar)\n",
    "        x = self.sigmoid_norm(x)\n",
    "#         mean = torch.mean(x)\n",
    "#         std = torch.std(x)\n",
    "#         x = (x - mean) / std\n",
    "        \n",
    "        # x = self.phi_scaling(x)\n",
    "        x = self.sigmoid(x)\n",
    "        x = self.sigmoid_scaling(x)\n",
    "\n",
    "        return x"
   ]
  },
  {
   "cell_type": "code",
   "execution_count": 42,
   "id": "26141155-0c6c-4945-91d3-f4eb7674bdcb",
   "metadata": {
    "tags": []
   },
   "outputs": [],
   "source": [
    "batch_size = 1000\n",
    "sequence_length = L\n",
    "input_dim = AA_size*L\n",
    "output_dim = 1\n",
    "hidden_dim = 256\n",
    "num_layers = 1\n",
    "num_heads = 8\n",
    "dropout = 0.3\n",
    "\n",
    "model = CustomTransformer(input_dim, hidden_dim, num_layers, num_heads, dropout).to(device)"
   ]
  },
  {
   "cell_type": "code",
   "execution_count": 43,
   "id": "687ab889-b577-48c9-bb7a-76302c199420",
   "metadata": {
    "tags": []
   },
   "outputs": [],
   "source": [
    "x, y = next(iter(train_loader))\n",
    "output = model(x)"
   ]
  },
  {
   "cell_type": "code",
   "execution_count": 44,
   "id": "7b272a1e-dba6-40d8-bf15-34f62b57a155",
   "metadata": {
    "tags": []
   },
   "outputs": [
    {
     "name": "stdout",
     "output_type": "stream",
     "text": [
      "Epoch 1/300, Loss: 8.725972779591878\n",
      "0.4270753016033752\n",
      "Epoch 11/300, Loss: 8.206921259562174\n",
      "0.7846885976111647\n",
      "Epoch 21/300, Loss: 7.817117913564046\n",
      "0.8021293928738512\n",
      "Epoch 31/300, Loss: 7.447891076405843\n",
      "0.8014587858463209\n",
      "Epoch 41/300, Loss: 7.094736846288045\n",
      "0.7984668465039875\n",
      "Epoch 51/300, Loss: 6.754716650644938\n",
      "0.797047860503073\n",
      "Epoch 61/300, Loss: 6.42875763575236\n",
      "0.8016974127377076\n",
      "Epoch 71/300, Loss: 6.1145737330118815\n",
      "0.7980797037344497\n",
      "Epoch 81/300, Loss: 5.81398073832194\n",
      "0.7975814689698897\n",
      "Epoch 91/300, Loss: 5.521895376841227\n",
      "0.79796148470606\n",
      "Epoch 101/300, Loss: 5.238843997319539\n",
      "0.7949610119605571\n",
      "Epoch 111/300, Loss: 4.965509859720866\n",
      "0.7999638692094769\n",
      "Epoch 121/300, Loss: 4.702228450775147\n",
      "0.7955042373193625\n",
      "Epoch 131/300, Loss: 4.4490612030029295\n",
      "0.8022017745399768\n",
      "Epoch 141/300, Loss: 4.203956214586894\n",
      "0.7951234304857834\n",
      "Epoch 151/300, Loss: 3.9681200981140137\n",
      "0.7942576442677141\n",
      "Epoch 161/300, Loss: 3.7389725764592487\n",
      "0.7890134559625189\n",
      "Epoch 171/300, Loss: 3.520119380950928\n",
      "0.7941918277369852\n",
      "Epoch 181/300, Loss: 3.309347224235535\n",
      "0.7986905070681002\n",
      "Epoch 191/300, Loss: 3.1036062558492024\n",
      "0.8007652000961147\n",
      "Epoch 201/300, Loss: 2.9116007328033446\n",
      "0.7974294955842879\n",
      "Epoch 211/300, Loss: 2.7214216152826944\n",
      "0.7944041811412424\n",
      "Epoch 221/300, Loss: 2.5416049480438234\n",
      "0.7988354918286508\n",
      "Epoch 231/300, Loss: 2.371439464886983\n",
      "0.7938888885162125\n",
      "Epoch 241/300, Loss: 2.2057985067367554\n",
      "0.7942263326650343\n",
      "Epoch 251/300, Loss: 2.046057367324829\n",
      "0.7945081618988963\n",
      "Epoch 261/300, Loss: 1.8962740619977316\n",
      "0.7970155654166016\n",
      "Epoch 271/300, Loss: 1.752638864517212\n",
      "0.7940007870427251\n",
      "Epoch 281/300, Loss: 1.617548938592275\n",
      "0.7962390522858838\n",
      "Epoch 291/300, Loss: 1.485799741744995\n",
      "0.7942084358649983\n"
     ]
    }
   ],
   "source": [
    "from scipy.stats import pearsonr\n",
    "learning_rate = 0.001\n",
    "epochs = 300\n",
    "\n",
    "criterion = nn.MSELoss()\n",
    "optimizer = optim.Adam(model.parameters(), lr=learning_rate)\n",
    "\n",
    "r2_log = {}\n",
    "for epoch in range(epochs):\n",
    "    model.train()\n",
    "    total_loss = 0\n",
    "    for batch_inputs, batch_targets in train_loader:\n",
    "        optimizer.zero_grad()\n",
    "        outputs = model(batch_inputs)\n",
    "        loss = criterion(outputs, batch_targets)\n",
    "        loss.backward()\n",
    "        optimizer.step()\n",
    "        total_loss += loss.item()\n",
    "    \n",
    "    if epoch % 10 == 0:\n",
    "        print(f\"Epoch {epoch+1}/{epochs}, Loss: {total_loss/len(train_loader)}\")\n",
    "        model.eval()\n",
    "        pred, true = model(X_test.flatten(1)).flatten().detach().cpu().numpy(), y_test.flatten().detach().cpu().numpy()\n",
    "        print(pearsonr(pred, true)[0]**2)\n",
    "        \n",
    "        preds = {}\n",
    "        trues = {}\n",
    "        r2s = {}\n",
    "        for d in ds:\n",
    "            X_test_d = X[test_list_by_d[d]]\n",
    "            pred = model(X_test_d.flatten(1)).flatten().detach().cpu().numpy()\n",
    "            true = phenotypes[list(test_list_by_d[d])].flatten().detach().cpu().numpy()\n",
    "            preds[d], trues[d] = pred, true\n",
    "            r2s[d] = pearsonr(pred, true)[0]**2\n",
    "        r2_log[epoch] = r2s"
   ]
  },
  {
   "cell_type": "code",
   "execution_count": 45,
   "id": "bf5960da-473f-4820-88ca-189d086162f9",
   "metadata": {
    "tags": []
   },
   "outputs": [
    {
     "data": {
      "image/png": "[encoded data removed]",
      "text/plain": [
       "<Figure size 640x480 with 1 Axes>"
      ]
     },
     "metadata": {},
     "output_type": "display_data"
    }
   ],
   "source": [
    "for i in r2_log.keys():\n",
    "    plt.scatter(list(r2_log[i].keys()), list(r2_log[i].values()))\n",
    "plt.show()    "
   ]
  },
  {
   "cell_type": "code",
   "execution_count": 46,
   "id": "7b4c57e8-89cf-4340-bc6f-599d8b73cdfa",
   "metadata": {
    "tags": []
   },
   "outputs": [],
   "source": [
    "r2_max[\"pairwise\"] = pd.DataFrame(r2_log).max(1)"
   ]
  },
  {
   "cell_type": "code",
   "execution_count": 31,
   "id": "b6bc7de6-97b0-4066-a319-995e0e31781e",
   "metadata": {
    "tags": []
   },
   "outputs": [],
   "source": [
    "# model.eval()\n",
    "\n",
    "# pred, true = model(X_test.flatten(1)).flatten().detach().cpu().numpy(), y_test.flatten().detach().cpu().numpy()\n",
    "# print(f' Test R2 = {pearsonr(pred, true)[0]**2}')\n",
    "# plt.scatter(pred, true)\n",
    "# plt.show()"
   ]
  },
  {
   "cell_type": "markdown",
   "id": "ca54d3a8-5f00-41e5-97e6-f6c21240a9ff",
   "metadata": {},
   "source": [
    "#### 3 layers"
   ]
  },
  {
   "cell_type": "code",
   "execution_count": 53,
   "id": "182e1f53-1973-4a73-bb17-5d88b2c79ecb",
   "metadata": {
    "tags": []
   },
   "outputs": [],
   "source": [
    "batch_size = 1000\n",
    "sequence_length = L\n",
    "input_dim = AA_size*L\n",
    "output_dim = 1\n",
    "hidden_dim = 256\n",
    "num_layers = 3\n",
    "num_heads = 8\n",
    "dropout = 0.3\n",
    "\n",
    "model = CustomTransformer(input_dim, hidden_dim, num_layers, num_heads, dropout).to(device)"
   ]
  },
  {
   "cell_type": "code",
   "execution_count": 54,
   "id": "8292afa6-eb0d-4e70-8a75-3db77beabc03",
   "metadata": {
    "tags": []
   },
   "outputs": [],
   "source": [
    "x, y = next(iter(train_loader))\n",
    "output = model(x)"
   ]
  },
  {
   "cell_type": "code",
   "execution_count": 55,
   "id": "101856b9-ac01-4ac6-9226-b02103d9b3af",
   "metadata": {
    "tags": []
   },
   "outputs": [
    {
     "name": "stdout",
     "output_type": "stream",
     "text": [
      "Epoch 1/300, Loss: 9.065342076619466\n",
      "0.5051405334884257\n",
      "Epoch 11/300, Loss: 8.471918805440266\n",
      "0.8257942895281196\n",
      "Epoch 21/300, Loss: 8.01545623143514\n",
      "0.8162950186502733\n",
      "Epoch 31/300, Loss: 7.595310799280802\n",
      "0.8296175147526579\n",
      "Epoch 41/300, Loss: 7.205378373463948\n",
      "0.8279427558843304\n",
      "Epoch 51/300, Loss: 6.835821342468262\n",
      "0.82695140239136\n",
      "Epoch 61/300, Loss: 6.487823502222697\n",
      "0.8236531255103962\n",
      "Epoch 71/300, Loss: 6.155731995900472\n",
      "0.8268558083019649\n",
      "Epoch 81/300, Loss: 5.837592744827271\n",
      "0.8302605006010079\n",
      "Epoch 91/300, Loss: 5.5343252658844\n",
      "0.8282281548631132\n",
      "Epoch 101/300, Loss: 5.2426091512044275\n",
      "0.8304097687556302\n",
      "Epoch 111/300, Loss: 4.960934448242187\n",
      "0.8284977774749276\n",
      "Epoch 121/300, Loss: 4.691852728525798\n",
      "0.8301104466775528\n",
      "Epoch 131/300, Loss: 4.4330244064331055\n",
      "0.8267840913029354\n",
      "Epoch 141/300, Loss: 4.181995105743408\n",
      "0.8277341003240479\n",
      "Epoch 151/300, Loss: 3.942622486750285\n",
      "0.8281205853832404\n",
      "Epoch 161/300, Loss: 3.7113335371017455\n",
      "0.8282370911578018\n",
      "Epoch 171/300, Loss: 3.4883695522944134\n",
      "0.8298626320034281\n",
      "Epoch 181/300, Loss: 3.2771267731984457\n",
      "0.8312205881569888\n",
      "Epoch 191/300, Loss: 3.0709792693456013\n",
      "0.828095547477372\n",
      "Epoch 201/300, Loss: 2.876006277402242\n",
      "0.8298271649738926\n",
      "Epoch 211/300, Loss: 2.6842382748921714\n",
      "0.8295348510113328\n",
      "Epoch 221/300, Loss: 2.507102354367574\n",
      "0.8292053205054818\n",
      "Epoch 231/300, Loss: 2.332048459847768\n",
      "0.8294856179502826\n",
      "Epoch 241/300, Loss: 2.1700453718503314\n",
      "0.8290840521720763\n",
      "Epoch 251/300, Loss: 2.009100572268168\n",
      "0.8279152734059194\n",
      "Epoch 261/300, Loss: 1.8593111356099448\n",
      "0.8271509433765803\n",
      "Epoch 271/300, Loss: 1.7159048438072204\n",
      "0.8294696128445045\n",
      "Epoch 281/300, Loss: 1.579318098227183\n",
      "0.8274062137408756\n",
      "Epoch 291/300, Loss: 1.4491016109784445\n",
      "0.8285757485938569\n"
     ]
    }
   ],
   "source": [
    "from scipy.stats import pearsonr\n",
    "learning_rate = 0.001\n",
    "epochs = 300\n",
    "\n",
    "criterion = nn.MSELoss()\n",
    "optimizer = optim.Adam(model.parameters(), lr=learning_rate)\n",
    "\n",
    "r2_log = {}\n",
    "for epoch in range(epochs):\n",
    "    model.train()\n",
    "    total_loss = 0\n",
    "    for batch_inputs, batch_targets in train_loader:\n",
    "        optimizer.zero_grad()\n",
    "        outputs = model(batch_inputs)\n",
    "        loss = criterion(outputs, batch_targets)\n",
    "        loss.backward()\n",
    "        optimizer.step()\n",
    "        total_loss += loss.item()\n",
    "    \n",
    "    if epoch % 10 == 0:\n",
    "        print(f\"Epoch {epoch+1}/{epochs}, Loss: {total_loss/len(train_loader)}\")\n",
    "        model.eval()\n",
    "        pred, true = model(X_test.flatten(1)).flatten().detach().cpu().numpy(), y_test.flatten().detach().cpu().numpy()\n",
    "        print(pearsonr(pred, true)[0]**2)\n",
    "        \n",
    "        preds = {}\n",
    "        trues = {}\n",
    "        r2s = {}\n",
    "        for d in ds:\n",
    "            X_test_d = X[test_list_by_d[d]]\n",
    "            pred = model(X_test_d.flatten(1)).flatten().detach().cpu().numpy()\n",
    "            true = phenotypes[list(test_list_by_d[d])].flatten().detach().cpu().numpy()\n",
    "            preds[d], trues[d] = pred, true\n",
    "            r2s[d] = pearsonr(pred, true)[0]**2\n",
    "        r2_log[epoch] = r2s"
   ]
  },
  {
   "cell_type": "code",
   "execution_count": 56,
   "id": "c6274c01-d8f9-49b8-bae6-0af2566e0393",
   "metadata": {
    "tags": []
   },
   "outputs": [],
   "source": [
    "r2_max[\"3_layer\"] = pd.DataFrame(r2_log).max(1)"
   ]
  },
  {
   "cell_type": "markdown",
   "id": "58d174c4-f765-43e8-98ec-e722da8e39a8",
   "metadata": {},
   "source": [
    "#### 2 layers"
   ]
  },
  {
   "cell_type": "code",
   "execution_count": 64,
   "id": "e23d50e8-2594-45e7-9c38-2364ed198bd6",
   "metadata": {
    "tags": []
   },
   "outputs": [],
   "source": [
    "batch_size = 1000\n",
    "sequence_length = L\n",
    "input_dim = AA_size*L\n",
    "output_dim = 1\n",
    "hidden_dim = 256\n",
    "num_layers = 2\n",
    "num_heads = 8\n",
    "dropout = 0.3\n",
    "\n",
    "model = CustomTransformer(input_dim, hidden_dim, num_layers, num_heads, dropout).to(device)"
   ]
  },
  {
   "cell_type": "code",
   "execution_count": 65,
   "id": "beb579aa-0a42-42d6-853b-2d1d0f450810",
   "metadata": {
    "tags": []
   },
   "outputs": [],
   "source": [
    "x, y = next(iter(train_loader))\n",
    "output = model(x)"
   ]
  },
  {
   "cell_type": "code",
   "execution_count": 66,
   "id": "397b669c-11b9-4835-8664-4b959f9db935",
   "metadata": {
    "tags": []
   },
   "outputs": [
    {
     "name": "stdout",
     "output_type": "stream",
     "text": [
      "Epoch 1/300, Loss: 10.404814370473225\n",
      "0.45170907055493276\n",
      "Epoch 11/300, Loss: 8.962297948201497\n",
      "0.8226901797206855\n",
      "Epoch 21/300, Loss: 8.12795672416687\n",
      "0.8313621403020652\n",
      "Epoch 31/300, Loss: 7.609432999293009\n",
      "0.8184005417198276\n",
      "Epoch 41/300, Loss: 7.268396234512329\n",
      "0.8205311149441992\n",
      "Epoch 51/300, Loss: 7.006481424967448\n",
      "0.8266740686483213\n",
      "Epoch 61/300, Loss: 6.762579520543416\n",
      "0.8280358930720517\n",
      "Epoch 71/300, Loss: 6.512774642308553\n",
      "0.8294621284674548\n",
      "Epoch 81/300, Loss: 6.257341655095418\n",
      "0.8258322494647279\n",
      "Epoch 91/300, Loss: 5.99602796236674\n",
      "0.8251801278297829\n",
      "Epoch 101/300, Loss: 5.730498472849528\n",
      "0.8284587692538242\n",
      "Epoch 111/300, Loss: 5.464152065912883\n",
      "0.8232763799864543\n",
      "Epoch 121/300, Loss: 5.1987873077392575\n",
      "0.8238527053295697\n",
      "Epoch 131/300, Loss: 4.937242269515991\n",
      "0.8266994910548195\n",
      "Epoch 141/300, Loss: 4.683044608434042\n",
      "0.8203647282653368\n",
      "Epoch 151/300, Loss: 4.432614421844482\n",
      "0.8178514756645604\n",
      "Epoch 161/300, Loss: 4.190245318412781\n",
      "0.8207608044239649\n",
      "Epoch 171/300, Loss: 3.9555607239405313\n",
      "0.8189735157437694\n",
      "Epoch 181/300, Loss: 3.726556595166524\n",
      "0.8215021834257988\n",
      "Epoch 191/300, Loss: 3.5080251852671305\n",
      "0.8226191974090106\n",
      "Epoch 201/300, Loss: 3.2972739537556968\n",
      "0.8215109572261811\n",
      "Epoch 211/300, Loss: 3.089516202608744\n",
      "0.821684719708785\n",
      "Epoch 221/300, Loss: 2.8947126706441244\n",
      "0.8240572268595763\n",
      "Epoch 231/300, Loss: 2.705669323603312\n",
      "0.8202650838423323\n",
      "Epoch 241/300, Loss: 2.5248754183451334\n",
      "0.8200465332283331\n",
      "Epoch 251/300, Loss: 2.349431570370992\n",
      "0.8233043049965513\n",
      "Epoch 261/300, Loss: 2.184497332572937\n",
      "0.8188316865375734\n",
      "Epoch 271/300, Loss: 2.0270013411839805\n",
      "0.8216767789870003\n",
      "Epoch 281/300, Loss: 1.8747986833254495\n",
      "0.8226357992990363\n",
      "Epoch 291/300, Loss: 1.7332938194274903\n",
      "0.8225177254746292\n"
     ]
    }
   ],
   "source": [
    "from scipy.stats import pearsonr\n",
    "learning_rate = 0.001\n",
    "epochs = 300\n",
    "\n",
    "criterion = nn.MSELoss()\n",
    "optimizer = optim.Adam(model.parameters(), lr=learning_rate)\n",
    "\n",
    "r2_log = {}\n",
    "for epoch in range(epochs):\n",
    "    model.train()\n",
    "    total_loss = 0\n",
    "    for batch_inputs, batch_targets in train_loader:\n",
    "        optimizer.zero_grad()\n",
    "        outputs = model(batch_inputs)\n",
    "        loss = criterion(outputs, batch_targets)\n",
    "        loss.backward()\n",
    "        optimizer.step()\n",
    "        total_loss += loss.item()\n",
    "    \n",
    "    if epoch % 10 == 0:\n",
    "        print(f\"Epoch {epoch+1}/{epochs}, Loss: {total_loss/len(train_loader)}\")\n",
    "        model.eval()\n",
    "        pred, true = model(X_test.flatten(1)).flatten().detach().cpu().numpy(), y_test.flatten().detach().cpu().numpy()\n",
    "        print(pearsonr(pred, true)[0]**2)\n",
    "        \n",
    "        preds = {}\n",
    "        trues = {}\n",
    "        r2s = {}\n",
    "        for d in ds:\n",
    "            X_test_d = X[test_list_by_d[d]]\n",
    "            pred = model(X_test_d.flatten(1)).flatten().detach().cpu().numpy()\n",
    "            true = phenotypes[list(test_list_by_d[d])].flatten().detach().cpu().numpy()\n",
    "            preds[d], trues[d] = pred, true\n",
    "            r2s[d] = pearsonr(pred, true)[0]**2\n",
    "        r2_log[epoch] = r2s"
   ]
  },
  {
   "cell_type": "code",
   "execution_count": 67,
   "id": "dea51dad-c16e-4292-a74d-3a4e1a3226dd",
   "metadata": {
    "tags": []
   },
   "outputs": [],
   "source": [
    "r2_max[\"2_layer\"] = pd.DataFrame(r2_log).max(1)"
   ]
  },
  {
   "cell_type": "code",
   "execution_count": null,
   "id": "17bdcbbe-fd53-470e-a7c6-bce1c3c5561c",
   "metadata": {},
   "outputs": [],
   "source": []
  },
  {
   "cell_type": "markdown",
   "id": "411eb65a-5c0e-447c-bc9a-26b607769524",
   "metadata": {},
   "source": [
    "#### 4 layers"
   ]
  },
  {
   "cell_type": "code",
   "execution_count": 57,
   "id": "f56684e8-aa87-4747-9718-d1b0d614e855",
   "metadata": {
    "tags": []
   },
   "outputs": [],
   "source": [
    "batch_size = 1000\n",
    "sequence_length = L\n",
    "input_dim = AA_size*L\n",
    "output_dim = 1\n",
    "hidden_dim = 256\n",
    "num_layers = 4\n",
    "num_heads = 8\n",
    "dropout = 0.3\n",
    "\n",
    "model = CustomTransformer(input_dim, hidden_dim, num_layers, num_heads, dropout).to(device)"
   ]
  },
  {
   "cell_type": "code",
   "execution_count": 58,
   "id": "ba988d35-c487-4a5f-a422-661427369889",
   "metadata": {
    "tags": []
   },
   "outputs": [],
   "source": [
    "x, y = next(iter(train_loader))\n",
    "output = model(x)"
   ]
  },
  {
   "cell_type": "code",
   "execution_count": 59,
   "id": "ec1827a6-8753-4ccd-a628-efedb46caa88",
   "metadata": {
    "tags": []
   },
   "outputs": [
    {
     "name": "stdout",
     "output_type": "stream",
     "text": [
      "Epoch 1/300, Loss: 11.05143009821574\n",
      "0.538016344773467\n",
      "Epoch 11/300, Loss: 10.302279472351074\n",
      "0.8155766544018523\n",
      "Epoch 21/300, Loss: 9.689622751871745\n",
      "0.8232988851927038\n",
      "Epoch 31/300, Loss: 9.087910143534343\n",
      "0.8230390017593455\n",
      "Epoch 41/300, Loss: 8.512768650054932\n",
      "0.8270447394051725\n",
      "Epoch 51/300, Loss: 7.971461391448974\n",
      "0.82519967584727\n",
      "Epoch 61/300, Loss: 7.460394668579101\n",
      "0.8329617023677629\n",
      "Epoch 71/300, Loss: 6.980274868011475\n",
      "0.8192012326582938\n",
      "Epoch 81/300, Loss: 6.530728578567505\n",
      "0.825037427902079\n",
      "Epoch 91/300, Loss: 6.10713898340861\n",
      "0.8276449627316832\n",
      "Epoch 101/300, Loss: 5.7075361728668215\n",
      "0.8302059914320253\n",
      "Epoch 111/300, Loss: 5.333428939183553\n",
      "0.8248625176092225\n",
      "Epoch 121/300, Loss: 4.98009459177653\n",
      "0.8274056275144962\n",
      "Epoch 131/300, Loss: 4.649724292755127\n",
      "0.8252408890183177\n",
      "Epoch 141/300, Loss: 4.336216815312704\n",
      "0.8278607077819845\n",
      "Epoch 151/300, Loss: 4.0431821266810095\n",
      "0.8267099701949198\n",
      "Epoch 161/300, Loss: 3.7631369113922117\n",
      "0.8295115203165464\n",
      "Epoch 171/300, Loss: 3.5037864764531452\n",
      "0.8300370063827639\n",
      "Epoch 181/300, Loss: 3.2546771208445233\n",
      "0.8298037256346169\n",
      "Epoch 191/300, Loss: 3.023361349105835\n",
      "0.8298723261924406\n",
      "Epoch 201/300, Loss: 2.804031976064046\n",
      "0.8298016716609452\n",
      "Epoch 211/300, Loss: 2.5943548758824666\n",
      "0.8316198500073464\n",
      "Epoch 221/300, Loss: 2.4000999848047893\n",
      "0.8292208921125667\n",
      "Epoch 231/300, Loss: 2.2178184310595195\n",
      "0.8321047308266374\n",
      "Epoch 241/300, Loss: 2.043957821528117\n",
      "0.8282467877011702\n",
      "Epoch 251/300, Loss: 1.8779990235964457\n",
      "0.8276435117450117\n",
      "Epoch 261/300, Loss: 1.7242586096127828\n",
      "0.8289667441342039\n",
      "Epoch 271/300, Loss: 1.577295688788096\n",
      "0.8298720924746819\n",
      "Epoch 281/300, Loss: 1.441498911380768\n",
      "0.8282023123989269\n",
      "Epoch 291/300, Loss: 1.3149305661519368\n",
      "0.8300445034202295\n"
     ]
    }
   ],
   "source": [
    "from scipy.stats import pearsonr\n",
    "learning_rate = 0.001\n",
    "epochs = 300\n",
    "\n",
    "criterion = nn.MSELoss()\n",
    "optimizer = optim.Adam(model.parameters(), lr=learning_rate)\n",
    "\n",
    "r2_log = {}\n",
    "for epoch in range(epochs):\n",
    "    model.train()\n",
    "    total_loss = 0\n",
    "    for batch_inputs, batch_targets in train_loader:\n",
    "        optimizer.zero_grad()\n",
    "        outputs = model(batch_inputs)\n",
    "        loss = criterion(outputs, batch_targets)\n",
    "        loss.backward()\n",
    "        optimizer.step()\n",
    "        total_loss += loss.item()\n",
    "    \n",
    "    if epoch % 10 == 0:\n",
    "        print(f\"Epoch {epoch+1}/{epochs}, Loss: {total_loss/len(train_loader)}\")\n",
    "        model.eval()\n",
    "        pred, true = model(X_test.flatten(1)).flatten().detach().cpu().numpy(), y_test.flatten().detach().cpu().numpy()\n",
    "        print(pearsonr(pred, true)[0]**2)\n",
    "        \n",
    "        preds = {}\n",
    "        trues = {}\n",
    "        r2s = {}\n",
    "        for d in ds:\n",
    "            X_test_d = X[test_list_by_d[d]]\n",
    "            pred = model(X_test_d.flatten(1)).flatten().detach().cpu().numpy()\n",
    "            true = phenotypes[list(test_list_by_d[d])].flatten().detach().cpu().numpy()\n",
    "            preds[d], trues[d] = pred, true\n",
    "            r2s[d] = pearsonr(pred, true)[0]**2\n",
    "        r2_log[epoch] = r2s"
   ]
  },
  {
   "cell_type": "code",
   "execution_count": 60,
   "id": "c72322a2-d2fb-4301-95d2-ec52be632783",
   "metadata": {
    "tags": []
   },
   "outputs": [],
   "source": [
    "r2_max[\"4_layer\"] = pd.DataFrame(r2_log).max(1)"
   ]
  },
  {
   "cell_type": "code",
   "execution_count": null,
   "id": "afbbd381-5087-426c-80e3-0ea21d51a2ef",
   "metadata": {},
   "outputs": [],
   "source": []
  },
  {
   "cell_type": "markdown",
   "id": "1a116baa-ce4e-4a72-80fb-ebda5a5487e2",
   "metadata": {},
   "source": [
    "#### Summary"
   ]
  },
  {
   "cell_type": "code",
   "execution_count": 62,
   "id": "fd1533b8-eb11-4432-adb7-4a341a8cb677",
   "metadata": {
    "tags": []
   },
   "outputs": [],
   "source": [
    "r2_max = pd.DataFrame(r2_max).sort_index()"
   ]
  },
  {
   "cell_type": "code",
   "execution_count": 63,
   "id": "973f05cc-45a8-48c2-a454-45a51e4044e2",
   "metadata": {
    "tags": []
   },
   "outputs": [
    {
     "data": {
      "image/png": "[encoded data removed]",
      "text/plain": [
       "<Figure size 640x480 with 1 Axes>"
      ]
     },
     "metadata": {},
     "output_type": "display_data"
    }
   ],
   "source": [
    "plt.plot(r2_max['linear'])\n",
    "plt.plot(r2_max['pairwise'])\n",
    "plt.plot(r2_max['3_layer'])\n",
    "plt.plot(r2_max['4_layer'])\n",
    "plt.show()"
   ]
  },
  {
   "cell_type": "code",
   "execution_count": 63,
   "id": "d5e177f9-8dc2-4950-aec0-3c58b2394711",
   "metadata": {
    "tags": []
   },
   "outputs": [
    {
     "data": {
      "text/plain": [
       "1     425\n",
       "2     500\n",
       "3     500\n",
       "4     500\n",
       "5     500\n",
       "6     500\n",
       "7     500\n",
       "8     500\n",
       "9     500\n",
       "10    466\n",
       "11    356\n",
       "12    325\n",
       "13    294\n",
       "14    262\n",
       "15    228\n",
       "16    188\n",
       "17    162\n",
       "18    127\n",
       "19     95\n",
       "20     74\n",
       "21     59\n",
       "22     44\n",
       "23     34\n",
       "24     23\n",
       "25     13\n",
       "26      9\n",
       "27      6\n",
       "28      2\n",
       "dtype: int64"
      ]
     },
     "execution_count": 63,
     "metadata": {},
     "output_type": "execute_result"
    }
   ],
   "source": [
    "pd.Series({d: len(test_list_by_d[d]) for d in ds}).sort_index()"
   ]
  },
  {
   "cell_type": "code",
   "execution_count": 57,
   "id": "b2b5071a-41bc-4b75-b62b-7fa736f331f8",
   "metadata": {
    "tags": []
   },
   "outputs": [
    {
     "data": {
      "text/html": [
       "<div>\n",
       "<style scoped>\n",
       "    .dataframe tbody tr th:only-of-type {\n",
       "        vertical-align: middle;\n",
       "    }\n",
       "\n",
       "    .dataframe tbody tr th {\n",
       "        vertical-align: top;\n",
       "    }\n",
       "\n",
       "    .dataframe thead th {\n",
       "        text-align: right;\n",
       "    }\n",
       "</style>\n",
       "<table border=\"1\" class=\"dataframe\">\n",
       "  <thead>\n",
       "    <tr style=\"text-align: right;\">\n",
       "      <th></th>\n",
       "      <th>pairwise</th>\n",
       "      <th>higher</th>\n",
       "      <th>linear</th>\n",
       "    </tr>\n",
       "  </thead>\n",
       "  <tbody>\n",
       "    <tr>\n",
       "      <th>1</th>\n",
       "      <td>0.768550</td>\n",
       "      <td>0.780871</td>\n",
       "      <td>0.710186</td>\n",
       "    </tr>\n",
       "    <tr>\n",
       "      <th>2</th>\n",
       "      <td>0.836175</td>\n",
       "      <td>0.859247</td>\n",
       "      <td>0.789144</td>\n",
       "    </tr>\n",
       "    <tr>\n",
       "      <th>3</th>\n",
       "      <td>0.814589</td>\n",
       "      <td>0.830597</td>\n",
       "      <td>0.742083</td>\n",
       "    </tr>\n",
       "    <tr>\n",
       "      <th>4</th>\n",
       "      <td>0.803009</td>\n",
       "      <td>0.832421</td>\n",
       "      <td>0.753738</td>\n",
       "    </tr>\n",
       "    <tr>\n",
       "      <th>5</th>\n",
       "      <td>0.815948</td>\n",
       "      <td>0.847859</td>\n",
       "      <td>0.779983</td>\n",
       "    </tr>\n",
       "    <tr>\n",
       "      <th>6</th>\n",
       "      <td>0.770147</td>\n",
       "      <td>0.802293</td>\n",
       "      <td>0.743476</td>\n",
       "    </tr>\n",
       "    <tr>\n",
       "      <th>7</th>\n",
       "      <td>0.795454</td>\n",
       "      <td>0.826606</td>\n",
       "      <td>0.717815</td>\n",
       "    </tr>\n",
       "    <tr>\n",
       "      <th>8</th>\n",
       "      <td>0.756951</td>\n",
       "      <td>0.797357</td>\n",
       "      <td>0.672658</td>\n",
       "    </tr>\n",
       "    <tr>\n",
       "      <th>9</th>\n",
       "      <td>0.686741</td>\n",
       "      <td>0.736411</td>\n",
       "      <td>0.634173</td>\n",
       "    </tr>\n",
       "    <tr>\n",
       "      <th>10</th>\n",
       "      <td>0.653146</td>\n",
       "      <td>0.695290</td>\n",
       "      <td>0.562256</td>\n",
       "    </tr>\n",
       "    <tr>\n",
       "      <th>11</th>\n",
       "      <td>0.516121</td>\n",
       "      <td>0.628059</td>\n",
       "      <td>0.452282</td>\n",
       "    </tr>\n",
       "    <tr>\n",
       "      <th>12</th>\n",
       "      <td>0.445242</td>\n",
       "      <td>0.547374</td>\n",
       "      <td>0.389083</td>\n",
       "    </tr>\n",
       "    <tr>\n",
       "      <th>13</th>\n",
       "      <td>0.409859</td>\n",
       "      <td>0.541314</td>\n",
       "      <td>0.407871</td>\n",
       "    </tr>\n",
       "    <tr>\n",
       "      <th>14</th>\n",
       "      <td>0.251428</td>\n",
       "      <td>0.387585</td>\n",
       "      <td>0.229546</td>\n",
       "    </tr>\n",
       "    <tr>\n",
       "      <th>15</th>\n",
       "      <td>0.167022</td>\n",
       "      <td>0.202136</td>\n",
       "      <td>0.136538</td>\n",
       "    </tr>\n",
       "    <tr>\n",
       "      <th>16</th>\n",
       "      <td>0.101719</td>\n",
       "      <td>0.169791</td>\n",
       "      <td>0.091271</td>\n",
       "    </tr>\n",
       "    <tr>\n",
       "      <th>17</th>\n",
       "      <td>0.098479</td>\n",
       "      <td>0.166747</td>\n",
       "      <td>0.081403</td>\n",
       "    </tr>\n",
       "    <tr>\n",
       "      <th>18</th>\n",
       "      <td>0.102401</td>\n",
       "      <td>0.114015</td>\n",
       "      <td>0.013423</td>\n",
       "    </tr>\n",
       "    <tr>\n",
       "      <th>19</th>\n",
       "      <td>0.073199</td>\n",
       "      <td>0.100786</td>\n",
       "      <td>0.035515</td>\n",
       "    </tr>\n",
       "    <tr>\n",
       "      <th>20</th>\n",
       "      <td>0.117568</td>\n",
       "      <td>0.143339</td>\n",
       "      <td>0.102711</td>\n",
       "    </tr>\n",
       "    <tr>\n",
       "      <th>21</th>\n",
       "      <td>0.084571</td>\n",
       "      <td>0.134529</td>\n",
       "      <td>0.047446</td>\n",
       "    </tr>\n",
       "    <tr>\n",
       "      <th>22</th>\n",
       "      <td>0.125166</td>\n",
       "      <td>0.166951</td>\n",
       "      <td>0.158397</td>\n",
       "    </tr>\n",
       "    <tr>\n",
       "      <th>23</th>\n",
       "      <td>0.146425</td>\n",
       "      <td>0.261216</td>\n",
       "      <td>0.065302</td>\n",
       "    </tr>\n",
       "    <tr>\n",
       "      <th>24</th>\n",
       "      <td>0.038372</td>\n",
       "      <td>0.043617</td>\n",
       "      <td>0.218431</td>\n",
       "    </tr>\n",
       "    <tr>\n",
       "      <th>25</th>\n",
       "      <td>0.313538</td>\n",
       "      <td>0.334329</td>\n",
       "      <td>0.172130</td>\n",
       "    </tr>\n",
       "    <tr>\n",
       "      <th>26</th>\n",
       "      <td>0.097590</td>\n",
       "      <td>0.099728</td>\n",
       "      <td>0.075869</td>\n",
       "    </tr>\n",
       "    <tr>\n",
       "      <th>27</th>\n",
       "      <td>0.856291</td>\n",
       "      <td>0.989096</td>\n",
       "      <td>0.303960</td>\n",
       "    </tr>\n",
       "    <tr>\n",
       "      <th>28</th>\n",
       "      <td>1.000000</td>\n",
       "      <td>1.000000</td>\n",
       "      <td>1.000000</td>\n",
       "    </tr>\n",
       "  </tbody>\n",
       "</table>\n",
       "</div>"
      ],
      "text/plain": [
       "    pairwise    higher    linear\n",
       "1   0.768550  0.780871  0.710186\n",
       "2   0.836175  0.859247  0.789144\n",
       "3   0.814589  0.830597  0.742083\n",
       "4   0.803009  0.832421  0.753738\n",
       "5   0.815948  0.847859  0.779983\n",
       "6   0.770147  0.802293  0.743476\n",
       "7   0.795454  0.826606  0.717815\n",
       "8   0.756951  0.797357  0.672658\n",
       "9   0.686741  0.736411  0.634173\n",
       "10  0.653146  0.695290  0.562256\n",
       "11  0.516121  0.628059  0.452282\n",
       "12  0.445242  0.547374  0.389083\n",
       "13  0.409859  0.541314  0.407871\n",
       "14  0.251428  0.387585  0.229546\n",
       "15  0.167022  0.202136  0.136538\n",
       "16  0.101719  0.169791  0.091271\n",
       "17  0.098479  0.166747  0.081403\n",
       "18  0.102401  0.114015  0.013423\n",
       "19  0.073199  0.100786  0.035515\n",
       "20  0.117568  0.143339  0.102711\n",
       "21  0.084571  0.134529  0.047446\n",
       "22  0.125166  0.166951  0.158397\n",
       "23  0.146425  0.261216  0.065302\n",
       "24  0.038372  0.043617  0.218431\n",
       "25  0.313538  0.334329  0.172130\n",
       "26  0.097590  0.099728  0.075869\n",
       "27  0.856291  0.989096  0.303960\n",
       "28  1.000000  1.000000  1.000000"
      ]
     },
     "execution_count": 57,
     "metadata": {},
     "output_type": "execute_result"
    }
   ],
   "source": [
    "r2_max"
   ]
  },
  {
   "cell_type": "code",
   "execution_count": null,
   "id": "85003de0-799d-4520-8bbc-84eef76fb1c5",
   "metadata": {},
   "outputs": [],
   "source": []
  }
 ],
 "metadata": {
  "kernelspec": {
   "display_name": "PyTorch-2.2.0",
   "language": "python",
   "name": "pytorch-2.2.0"
  },
  "language_info": {
   "codemirror_mode": {
    "name": "ipython",
    "version": 3
   },
   "file_extension": ".py",
   "mimetype": "text/x-python",
   "name": "python",
   "nbconvert_exporter": "python",
   "pygments_lexer": "ipython3",
   "version": "3.10.13"
  }
 },
 "nbformat": 4,
 "nbformat_minor": 5
}
