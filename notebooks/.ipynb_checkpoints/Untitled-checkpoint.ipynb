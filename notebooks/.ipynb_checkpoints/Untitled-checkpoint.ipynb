{
 "cells": [
  {
   "cell_type": "code",
   "execution_count": 14,
   "id": "8e7c705e-0ff0-4c7d-973b-aca205489eca",
   "metadata": {
    "tags": []
   },
   "outputs": [],
   "source": [
    "## Standard libraries\n",
    "import os\n",
    "import numpy as np\n",
    "import math\n",
    "import json\n",
    "from functools import partial\n",
    "\n",
    "import random as rd\n",
    "\n",
    "import pandas as pd\n",
    "import numpy as np\n",
    "import matplotlib.pyplot as plt\n",
    "import torch\n",
    "import GPUtil\n",
    "import torch\n",
    "import torch.nn as nn\n",
    "import sys\n",
    "sys.path.append('../model')\n",
    "from utils import amino_acid_to_number, tokenize"
   ]
  },
  {
   "cell_type": "code",
   "execution_count": 9,
   "id": "bc20f4f7-22a5-4aa2-8816-05452d5257a5",
   "metadata": {
    "tags": []
   },
   "outputs": [],
   "source": [
    "from itertools import product\n",
    "\n",
    "L, AA_size = 16, 2\n",
    "elements = [-1, 1]\n",
    "seqs = torch.tensor(list(product(elements, repeat=L)))\n",
    "\n",
    "seqs_ = torch.tensor(list(product(range(2), repeat=L)))\n",
    "\n",
    "from torch.nn.functional import one_hot\n",
    "seqs1h = one_hot(seqs_)"
   ]
  },
  {
   "cell_type": "code",
   "execution_count": 10,
   "id": "32ab24a6-3567-4f47-af68-cde5f9e697b8",
   "metadata": {
    "tags": []
   },
   "outputs": [],
   "source": [
    "def get_design_mat(order, n):\n",
    "    design_mat = []\n",
    "    for _ in range(n):\n",
    "        positions = rd.sample(range(L), order)\n",
    "        design_vec = torch.prod(seqs[:, positions], 1)\n",
    "        design_mat.append(design_vec)\n",
    "    design_mat = torch.stack(design_mat).T.float()\n",
    "    \n",
    "    return design_mat"
   ]
  },
  {
   "cell_type": "code",
   "execution_count": 11,
   "id": "4e4f8338-4371-4560-b366-b3f2fcdb495f",
   "metadata": {
    "tags": []
   },
   "outputs": [],
   "source": [
    "def simulate_pheno_epi(seqs, n_terms, stds):\n",
    "    designs = {}\n",
    "    coeffs = {}\n",
    "    phenos = {}\n",
    "    for order in n_terms.keys():\n",
    "        designs[order] = get_design_mat(order, n_terms[order])\n",
    "        coeffs[order] = torch.normal(0., stds[order], (n_terms[order], ))\n",
    "        phenos[order] = torch.matmul(designs[order], coeffs[order])\n",
    "    return designs, torch.sum(torch.stack(list(phenos.values())), 0)\n"
   ]
  },
  {
   "cell_type": "code",
   "execution_count": 12,
   "id": "5027d698-2fac-467c-9d55-5bd15be17aff",
   "metadata": {
    "tags": []
   },
   "outputs": [],
   "source": [
    "def simulate_pheno_add(seqs, std):\n",
    "    X = seqs.float()\n",
    "    coeffs = torch.normal(0., std, (L, ))\n",
    "    return torch.matmul(X, coeffs)"
   ]
  },
  {
   "cell_type": "code",
   "execution_count": 15,
   "id": "7ef56183-b4a3-4862-9d62-7a09d55ac71f",
   "metadata": {
    "tags": []
   },
   "outputs": [
    {
     "data": {
      "image/png": "[encoded data removed]",
      "text/plain": [
       "<Figure size 640x480 with 1 Axes>"
      ]
     },
     "metadata": {},
     "output_type": "display_data"
    }
   ],
   "source": [
    "n_terms = {2: 1000, 3:1000}\n",
    "stds = {2: 1, 3: 1}\n",
    "\n",
    "designs, phenos_epi = simulate_pheno_epi(seqs, n_terms, stds)\n",
    "phenos_add = simulate_pheno_add(seqs, 1)\n",
    "phenotypes = phenos_epi + phenos_add\n",
    "phenotypes = (phenotypes - torch.mean(phenotypes))/torch.std(phenotypes)\n",
    "phenotypes = nn.Sigmoid()(phenotypes)\n",
    "\n",
    "plt.hist(phenotypes.numpy())\n",
    "plt.show()"
   ]
  },
  {
   "cell_type": "code",
   "execution_count": 16,
   "id": "b73033df-7305-46cd-9892-1494f6bc6a87",
   "metadata": {
    "tags": []
   },
   "outputs": [],
   "source": [
    "# import models\n",
    "import importlib\n",
    "# importlib.reload(models)\n",
    "\n",
    "from models_ import ProtDataset, LinearRegressionModel, mse_loss\n",
    "\n",
    "import torch\n",
    "import torch.utils.data as data\n",
    "from scipy.stats import pearsonr\n",
    "from sklearn.metrics import r2_score\n",
    "device = \"cuda:0\""
   ]
  },
  {
   "cell_type": "markdown",
   "id": "2166890a-1b13-48d9-8e2a-8d81c83a5b79",
   "metadata": {
    "jp-MarkdownHeadingCollapsed": true,
    "tags": []
   },
   "source": [
    "### MLP"
   ]
  },
  {
   "cell_type": "code",
   "execution_count": 21,
   "id": "1a0ce82a-db69-4722-8ce1-b6c662e4aba6",
   "metadata": {
    "tags": []
   },
   "outputs": [],
   "source": [
    "# Define the MLP regression model\n",
    "class MLPRegression(nn.Module):\n",
    "    def __init__(self, input_dim, hidden_dim, output_dim):\n",
    "        super(MLPRegression, self).__init__()\n",
    "        self.fc1 = nn.Linear(input_dim, hidden_dim)\n",
    "        self.relu = nn.ReLU()\n",
    "        self.fc2 = nn.Linear(hidden_dim, output_dim)\n",
    "\n",
    "    def forward(self, x):\n",
    "        x = self.fc1(x.flatten(1))\n",
    "        x = self.relu(x)\n",
    "        x = self.fc2(x)\n",
    "        return x\n",
    "\n",
    "# Model, loss function, and optimizer\n",
    "model = MLPRegression(input_dim=sequence_length * input_dim, hidden_dim=64, output_dim=1)\n",
    "criterion = nn.MSELoss()  # Mean Squared Error loss\n",
    "optimizer = optim.Adam(model.parameters(), lr=0.01)"
   ]
  },
  {
   "cell_type": "code",
   "execution_count": 22,
   "id": "b2875cf8-6b43-45b3-9b2a-1c391e005613",
   "metadata": {
    "tags": []
   },
   "outputs": [
    {
     "ename": "RuntimeError",
     "evalue": "mat1 and mat2 shapes cannot be multiplied (10000x32 and 288x64)",
     "output_type": "error",
     "traceback": [
      "\u001b[0;31m---------------------------------------------------------------------------\u001b[0m",
      "\u001b[0;31mRuntimeError\u001b[0m                              Traceback (most recent call last)",
      "Cell \u001b[0;32mIn[22], line 32\u001b[0m\n\u001b[1;32m     29\u001b[0m num_epochs \u001b[38;5;241m=\u001b[39m \u001b[38;5;241m1000\u001b[39m\n\u001b[1;32m     30\u001b[0m \u001b[38;5;28;01mfor\u001b[39;00m epoch \u001b[38;5;129;01min\u001b[39;00m \u001b[38;5;28mrange\u001b[39m(num_epochs):\n\u001b[1;32m     31\u001b[0m     \u001b[38;5;66;03m# Forward pass\u001b[39;00m\n\u001b[0;32m---> 32\u001b[0m     outputs \u001b[38;5;241m=\u001b[39m \u001b[43mmodel\u001b[49m\u001b[43m(\u001b[49m\u001b[43mX\u001b[49m\u001b[43m)\u001b[49m\n\u001b[1;32m     33\u001b[0m     loss \u001b[38;5;241m=\u001b[39m criterion(outputs, y)\n\u001b[1;32m     35\u001b[0m     \u001b[38;5;66;03m# Backward pass and optimization\u001b[39;00m\n",
      "File \u001b[0;32m/apps/pytorch/2.0.1/lib/python3.10/site-packages/torch/nn/modules/module.py:1501\u001b[0m, in \u001b[0;36mModule._call_impl\u001b[0;34m(self, *args, **kwargs)\u001b[0m\n\u001b[1;32m   1496\u001b[0m \u001b[38;5;66;03m# If we don't have any hooks, we want to skip the rest of the logic in\u001b[39;00m\n\u001b[1;32m   1497\u001b[0m \u001b[38;5;66;03m# this function, and just call forward.\u001b[39;00m\n\u001b[1;32m   1498\u001b[0m \u001b[38;5;28;01mif\u001b[39;00m \u001b[38;5;129;01mnot\u001b[39;00m (\u001b[38;5;28mself\u001b[39m\u001b[38;5;241m.\u001b[39m_backward_hooks \u001b[38;5;129;01mor\u001b[39;00m \u001b[38;5;28mself\u001b[39m\u001b[38;5;241m.\u001b[39m_backward_pre_hooks \u001b[38;5;129;01mor\u001b[39;00m \u001b[38;5;28mself\u001b[39m\u001b[38;5;241m.\u001b[39m_forward_hooks \u001b[38;5;129;01mor\u001b[39;00m \u001b[38;5;28mself\u001b[39m\u001b[38;5;241m.\u001b[39m_forward_pre_hooks\n\u001b[1;32m   1499\u001b[0m         \u001b[38;5;129;01mor\u001b[39;00m _global_backward_pre_hooks \u001b[38;5;129;01mor\u001b[39;00m _global_backward_hooks\n\u001b[1;32m   1500\u001b[0m         \u001b[38;5;129;01mor\u001b[39;00m _global_forward_hooks \u001b[38;5;129;01mor\u001b[39;00m _global_forward_pre_hooks):\n\u001b[0;32m-> 1501\u001b[0m     \u001b[38;5;28;01mreturn\u001b[39;00m \u001b[43mforward_call\u001b[49m\u001b[43m(\u001b[49m\u001b[38;5;241;43m*\u001b[39;49m\u001b[43margs\u001b[49m\u001b[43m,\u001b[49m\u001b[43m \u001b[49m\u001b[38;5;241;43m*\u001b[39;49m\u001b[38;5;241;43m*\u001b[39;49m\u001b[43mkwargs\u001b[49m\u001b[43m)\u001b[49m\n\u001b[1;32m   1502\u001b[0m \u001b[38;5;66;03m# Do not call functions when jit is used\u001b[39;00m\n\u001b[1;32m   1503\u001b[0m full_backward_hooks, non_full_backward_hooks \u001b[38;5;241m=\u001b[39m [], []\n",
      "Cell \u001b[0;32mIn[21], line 10\u001b[0m, in \u001b[0;36mMLPRegression.forward\u001b[0;34m(self, x)\u001b[0m\n\u001b[1;32m      9\u001b[0m \u001b[38;5;28;01mdef\u001b[39;00m \u001b[38;5;21mforward\u001b[39m(\u001b[38;5;28mself\u001b[39m, x):\n\u001b[0;32m---> 10\u001b[0m     x \u001b[38;5;241m=\u001b[39m \u001b[38;5;28;43mself\u001b[39;49m\u001b[38;5;241;43m.\u001b[39;49m\u001b[43mfc1\u001b[49m\u001b[43m(\u001b[49m\u001b[43mx\u001b[49m\u001b[38;5;241;43m.\u001b[39;49m\u001b[43mflatten\u001b[49m\u001b[43m(\u001b[49m\u001b[38;5;241;43m1\u001b[39;49m\u001b[43m)\u001b[49m\u001b[43m)\u001b[49m\n\u001b[1;32m     11\u001b[0m     x \u001b[38;5;241m=\u001b[39m \u001b[38;5;28mself\u001b[39m\u001b[38;5;241m.\u001b[39mrelu(x)\n\u001b[1;32m     12\u001b[0m     x \u001b[38;5;241m=\u001b[39m \u001b[38;5;28mself\u001b[39m\u001b[38;5;241m.\u001b[39mfc2(x)\n",
      "File \u001b[0;32m/apps/pytorch/2.0.1/lib/python3.10/site-packages/torch/nn/modules/module.py:1501\u001b[0m, in \u001b[0;36mModule._call_impl\u001b[0;34m(self, *args, **kwargs)\u001b[0m\n\u001b[1;32m   1496\u001b[0m \u001b[38;5;66;03m# If we don't have any hooks, we want to skip the rest of the logic in\u001b[39;00m\n\u001b[1;32m   1497\u001b[0m \u001b[38;5;66;03m# this function, and just call forward.\u001b[39;00m\n\u001b[1;32m   1498\u001b[0m \u001b[38;5;28;01mif\u001b[39;00m \u001b[38;5;129;01mnot\u001b[39;00m (\u001b[38;5;28mself\u001b[39m\u001b[38;5;241m.\u001b[39m_backward_hooks \u001b[38;5;129;01mor\u001b[39;00m \u001b[38;5;28mself\u001b[39m\u001b[38;5;241m.\u001b[39m_backward_pre_hooks \u001b[38;5;129;01mor\u001b[39;00m \u001b[38;5;28mself\u001b[39m\u001b[38;5;241m.\u001b[39m_forward_hooks \u001b[38;5;129;01mor\u001b[39;00m \u001b[38;5;28mself\u001b[39m\u001b[38;5;241m.\u001b[39m_forward_pre_hooks\n\u001b[1;32m   1499\u001b[0m         \u001b[38;5;129;01mor\u001b[39;00m _global_backward_pre_hooks \u001b[38;5;129;01mor\u001b[39;00m _global_backward_hooks\n\u001b[1;32m   1500\u001b[0m         \u001b[38;5;129;01mor\u001b[39;00m _global_forward_hooks \u001b[38;5;129;01mor\u001b[39;00m _global_forward_pre_hooks):\n\u001b[0;32m-> 1501\u001b[0m     \u001b[38;5;28;01mreturn\u001b[39;00m \u001b[43mforward_call\u001b[49m\u001b[43m(\u001b[49m\u001b[38;5;241;43m*\u001b[39;49m\u001b[43margs\u001b[49m\u001b[43m,\u001b[49m\u001b[43m \u001b[49m\u001b[38;5;241;43m*\u001b[39;49m\u001b[38;5;241;43m*\u001b[39;49m\u001b[43mkwargs\u001b[49m\u001b[43m)\u001b[49m\n\u001b[1;32m   1502\u001b[0m \u001b[38;5;66;03m# Do not call functions when jit is used\u001b[39;00m\n\u001b[1;32m   1503\u001b[0m full_backward_hooks, non_full_backward_hooks \u001b[38;5;241m=\u001b[39m [], []\n",
      "File \u001b[0;32m/apps/pytorch/2.0.1/lib/python3.10/site-packages/torch/nn/modules/linear.py:114\u001b[0m, in \u001b[0;36mLinear.forward\u001b[0;34m(self, input)\u001b[0m\n\u001b[1;32m    113\u001b[0m \u001b[38;5;28;01mdef\u001b[39;00m \u001b[38;5;21mforward\u001b[39m(\u001b[38;5;28mself\u001b[39m, \u001b[38;5;28minput\u001b[39m: Tensor) \u001b[38;5;241m-\u001b[39m\u001b[38;5;241m>\u001b[39m Tensor:\n\u001b[0;32m--> 114\u001b[0m     \u001b[38;5;28;01mreturn\u001b[39;00m \u001b[43mF\u001b[49m\u001b[38;5;241;43m.\u001b[39;49m\u001b[43mlinear\u001b[49m\u001b[43m(\u001b[49m\u001b[38;5;28;43minput\u001b[39;49m\u001b[43m,\u001b[49m\u001b[43m \u001b[49m\u001b[38;5;28;43mself\u001b[39;49m\u001b[38;5;241;43m.\u001b[39;49m\u001b[43mweight\u001b[49m\u001b[43m,\u001b[49m\u001b[43m \u001b[49m\u001b[38;5;28;43mself\u001b[39;49m\u001b[38;5;241;43m.\u001b[39;49m\u001b[43mbias\u001b[49m\u001b[43m)\u001b[49m\n",
      "\u001b[0;31mRuntimeError\u001b[0m: mat1 and mat2 shapes cannot be multiplied (10000x32 and 288x64)"
     ]
    }
   ],
   "source": [
    "X = seqs1h.float()\n",
    "y = phenotypes.unsqueeze(1)\n",
    "y = y/torch.std(y)\n",
    "\n",
    "# num_train = int(.8*len(X))\n",
    "num_train = 10000\n",
    "train_list = np.random.choice(len(X), num_train)\n",
    "comp_list = list(set(range(len(X))).difference(train_list))\n",
    "test_list = np.random.choice(comp_list, 1000)\n",
    "# test_list = comp_list\n",
    "\n",
    "X_train, y_train = X[train_list], y[train_list]\n",
    "X_test, y_test = X[test_list], y[test_list]\n",
    "\n",
    "train_dataset = ProtDataset(X_train, y_train)\n",
    "train_loader = data.DataLoader(train_dataset,\n",
    "                               batch_size=100,\n",
    "                               shuffle=True,\n",
    "                               drop_last=False)\n",
    "\n",
    "import torch\n",
    "import torch.nn as nn\n",
    "import torch.optim as optim\n",
    "\n",
    "X = X_train\n",
    "y = y_train\n",
    "\n",
    "# Training loop\n",
    "num_epochs = 1000\n",
    "for epoch in range(num_epochs):\n",
    "    # Forward pass\n",
    "    outputs = model(X)\n",
    "    loss = criterion(outputs, y)\n",
    "\n",
    "    # Backward pass and optimization\n",
    "    optimizer.zero_grad()\n",
    "    loss.backward()\n",
    "    optimizer.step()\n",
    "\n",
    "    if (epoch + 1) % 10 == 0:\n",
    "        print(f'Epoch [{epoch+1}/{num_epochs}], Loss: {loss.item():.4f}')"
   ]
  },
  {
   "cell_type": "code",
   "execution_count": 513,
   "id": "776d8004-6185-4815-a133-3fcda9b9c641",
   "metadata": {
    "tags": []
   },
   "outputs": [
    {
     "data": {
      "text/plain": [
       "<matplotlib.collections.PathCollection at 0x14f3a6a47c70>"
      ]
     },
     "execution_count": 513,
     "metadata": {},
     "output_type": "execute_result"
    },
    {
     "data": {
      "image/png": "[encoded data removed]",
      "text/plain": [
       "<Figure size 432x288 with 1 Axes>"
      ]
     },
     "metadata": {
      "needs_background": "light"
     },
     "output_type": "display_data"
    }
   ],
   "source": [
    "plt.scatter(model(X).flatten().detach().cpu().numpy(), y.flatten().detach().cpu().numpy())"
   ]
  },
  {
   "cell_type": "code",
   "execution_count": 514,
   "id": "a08c69aa-5264-495d-8f4a-84c0f86f51bb",
   "metadata": {
    "tags": []
   },
   "outputs": [
    {
     "data": {
      "text/plain": [
       "<matplotlib.collections.PathCollection at 0x14f3a6aab250>"
      ]
     },
     "execution_count": 514,
     "metadata": {},
     "output_type": "execute_result"
    },
    {
     "data": {
      "image/png": "[encoded data removed]",
      "text/plain": [
       "<Figure size 432x288 with 1 Axes>"
      ]
     },
     "metadata": {
      "needs_background": "light"
     },
     "output_type": "display_data"
    }
   ],
   "source": [
    "plt.scatter(model(X_test.flatten(1)).flatten().detach().cpu().numpy(), y_test.flatten().detach().cpu().numpy())"
   ]
  },
  {
   "cell_type": "markdown",
   "id": "36ab751f-6f11-4220-9043-6a2dcdf00762",
   "metadata": {
    "tags": []
   },
   "source": [
    "## Transformer"
   ]
  },
  {
   "cell_type": "code",
   "execution_count": 17,
   "id": "bff3ebac-c176-4a4e-9504-60855e529025",
   "metadata": {
    "tags": []
   },
   "outputs": [],
   "source": [
    "from torch.utils.data import DataLoader, TensorDataset\n",
    "\n",
    "\n",
    "seqs_ = seqs_ + 2*torch.tensor(range(L))\n",
    "\n",
    "X = seqs_.to(device)\n",
    "y = phenotypes.unsqueeze(1).to(device)\n",
    "y = y/torch.std(y)\n",
    "\n",
    "# num_train = int(.8*len(X))\n",
    "num_train = 1000\n",
    "train_list = np.random.choice(len(X), num_train)\n",
    "comp_list = list(set(range(len(X))).difference(train_list))\n",
    "test_list = np.random.choice(comp_list, 1000)\n",
    "# test_list = comp_list\n",
    "\n",
    "X_train, y_train = X[train_list], y[train_list]\n",
    "X_test, y_test = X[test_list], y[test_list]\n",
    "\n",
    "train_dataset = ProtDataset(X_train, y_train)\n",
    "train_loader = data.DataLoader(train_dataset,\n",
    "                               batch_size=1000,\n",
    "                               shuffle=True,\n",
    "                               drop_last=False)"
   ]
  },
  {
   "cell_type": "markdown",
   "id": "d0366709-b2ac-4395-8fa6-b1b4121ca6d6",
   "metadata": {
    "jp-MarkdownHeadingCollapsed": true,
    "tags": []
   },
   "source": [
    "### Stock attetion"
   ]
  },
  {
   "cell_type": "code",
   "execution_count": 11,
   "id": "b2a6339f-d047-423a-809a-7d638063b76f",
   "metadata": {
    "tags": []
   },
   "outputs": [],
   "source": [
    "import torch\n",
    "import torch.nn as nn\n",
    "import torch.optim as optim\n",
    "from torch.utils.data import DataLoader, TensorDataset\n",
    "import numpy as np\n",
    "\n",
    "class TransformerRegressionModel(nn.Module):\n",
    "    def __init__(self, input_dim, hidden_dim, num_layers, num_heads, output_dim):\n",
    "        super(TransformerRegressionModel, self).__init__()\n",
    "        self.token_embeddings = nn.Embedding(input_dim, hidden_dim)\n",
    "        self.transformer_encoder = nn.TransformerEncoder(\n",
    "            nn.TransformerEncoderLayer(\n",
    "                d_model=hidden_dim,\n",
    "                nhead=num_heads,\n",
    "                dim_feedforward=hidden_dim\n",
    "            ),\n",
    "            num_layers=num_layers\n",
    "        )\n",
    "        self.fc = nn.Linear(L*hidden_dim, 1)\n",
    "\n",
    "    def forward(self, x):\n",
    "        x = self.token_embeddings(x)\n",
    "        x = x.permute(1, 0, 2)\n",
    "        x = self.transformer_encoder(x)\n",
    "        # x = torch.mean(x, dim=0)\n",
    "        x = x.transpose(0, 1).flatten(1)\n",
    "        x = self.fc(x)\n",
    "        # x = self.fc2(x)\n",
    "        # x = self.fc3(x)\n",
    "\n",
    "        return x"
   ]
  },
  {
   "cell_type": "code",
   "execution_count": 15,
   "id": "61f63f1c-f8d3-44bc-85ee-56854eb76834",
   "metadata": {
    "tags": []
   },
   "outputs": [],
   "source": [
    "seqs_ = seqs_ + 2*torch.tensor(range(L))\n",
    "\n",
    "X = seqs_.to(device)\n",
    "y = phenotypes.unsqueeze(1).to(device)\n",
    "y = y/torch.std(y)\n",
    "\n",
    "# num_train = int(.8*len(X))\n",
    "num_train = 1000\n",
    "train_list = np.random.choice(len(X), num_train)\n",
    "comp_list = list(set(range(len(X))).difference(train_list))\n",
    "# test_list = np.random.choice(comp_list, 1000)\n",
    "test_list = comp_list\n",
    "\n",
    "X_train, y_train = X[train_list], y[train_list]\n",
    "X_test, y_test = X[test_list], y[test_list]\n",
    "\n",
    "train_dataset = ProtDataset(X_train, y_train)\n",
    "train_loader = data.DataLoader(train_dataset,\n",
    "                               batch_size=1000,\n",
    "                               shuffle=True,\n",
    "                               drop_last=False)"
   ]
  },
  {
   "cell_type": "code",
   "execution_count": 10,
   "id": "949e3f4a-86c5-42b7-bfb5-72bbdbdff736",
   "metadata": {
    "tags": []
   },
   "outputs": [],
   "source": [
    "batch_size = 64\n",
    "sequence_length = L\n",
    "input_dim = 2*L\n",
    "output_dim = 1\n",
    "hidden_dim = 20\n",
    "num_layers = 2\n",
    "num_heads = 4\n",
    "\n",
    "model = TransformerRegressionModel(input_dim, hidden_dim, num_layers, num_heads, output_dim).to(device)"
   ]
  },
  {
   "cell_type": "code",
   "execution_count": 10,
   "id": "3dd00c9b-0b13-412b-b54f-40eee4ffd0cc",
   "metadata": {
    "tags": []
   },
   "outputs": [],
   "source": [
    "batch_size = 64\n",
    "sequence_length = L\n",
    "input_dim = 2*L\n",
    "output_dim = 1\n",
    "hidden_dim = 20\n",
    "num_layers = 2\n",
    "num_heads = 4\n",
    "\n",
    "model = TransformerRegressionModel(input_dim, hidden_dim, num_layers, num_heads, output_dim).to(device)"
   ]
  },
  {
   "cell_type": "code",
   "execution_count": 11,
   "id": "1fb349a9-8872-4a80-9038-c0ecc8121ded",
   "metadata": {
    "tags": []
   },
   "outputs": [
    {
     "name": "stdout",
     "output_type": "stream",
     "text": [
      "Epoch 1/1000, Loss: 1.0790341347455978\n",
      "Epoch 11/1000, Loss: 0.8344533033668995\n",
      "Epoch 21/1000, Loss: 0.6357202008366585\n",
      "Epoch 31/1000, Loss: 0.5162430889904499\n",
      "Epoch 41/1000, Loss: 0.43276253528892994\n",
      "Epoch 51/1000, Loss: 0.3967342283576727\n",
      "Epoch 61/1000, Loss: 0.4033379815518856\n",
      "Epoch 71/1000, Loss: 0.3280970202758908\n",
      "Epoch 81/1000, Loss: 0.33136338740587234\n",
      "Epoch 91/1000, Loss: 0.30378435738384724\n",
      "Epoch 101/1000, Loss: 0.2829731134697795\n",
      "Epoch 111/1000, Loss: 0.26276955660432577\n",
      "Epoch 121/1000, Loss: 0.25549853406846523\n",
      "Epoch 131/1000, Loss: 0.24925662484019995\n",
      "Epoch 141/1000, Loss: 0.24334182403981686\n",
      "Epoch 151/1000, Loss: 0.2364740064367652\n",
      "Epoch 161/1000, Loss: 0.2214584080502391\n",
      "Epoch 171/1000, Loss: 0.22387119103223085\n",
      "Epoch 181/1000, Loss: 0.21389123052358627\n",
      "Epoch 191/1000, Loss: 0.22179535403847694\n",
      "Epoch 201/1000, Loss: 0.21600479912012815\n",
      "Epoch 211/1000, Loss: 0.192203382961452\n",
      "Epoch 221/1000, Loss: 0.19189794501289725\n",
      "Epoch 231/1000, Loss: 0.17716338206082582\n",
      "Epoch 241/1000, Loss: 0.17592233419418335\n",
      "Epoch 251/1000, Loss: 0.1687692180275917\n",
      "Epoch 261/1000, Loss: 0.18203295022249222\n",
      "Epoch 271/1000, Loss: 0.17907335236668587\n",
      "Epoch 281/1000, Loss: 0.17123292619362473\n",
      "Epoch 291/1000, Loss: 0.16505318088456988\n",
      "Epoch 301/1000, Loss: 0.17078837379813194\n",
      "Epoch 311/1000, Loss: 0.1541023743338883\n",
      "Epoch 321/1000, Loss: 0.18337859259918332\n",
      "Epoch 331/1000, Loss: 0.1608350253663957\n",
      "Epoch 341/1000, Loss: 0.16805678233504295\n",
      "Epoch 351/1000, Loss: 0.15730679873377085\n",
      "Epoch 361/1000, Loss: 0.14960023015737534\n",
      "Epoch 371/1000, Loss: 0.14485786529257894\n",
      "Epoch 381/1000, Loss: 0.13990867882966995\n",
      "Epoch 391/1000, Loss: 0.1510546263307333\n",
      "Epoch 401/1000, Loss: 0.13991568377241492\n",
      "Epoch 411/1000, Loss: 0.14674680354073644\n",
      "Epoch 421/1000, Loss: 0.13573287660256028\n",
      "Epoch 431/1000, Loss: 0.14283849159255624\n",
      "Epoch 441/1000, Loss: 0.14269388187676668\n",
      "Epoch 451/1000, Loss: 0.1439445703290403\n",
      "Epoch 461/1000, Loss: 0.1387655925936997\n",
      "Epoch 471/1000, Loss: 0.12838829401880503\n",
      "Epoch 481/1000, Loss: 0.11964712338522077\n",
      "Epoch 491/1000, Loss: 0.13227091822773218\n",
      "Epoch 501/1000, Loss: 0.12304278928786516\n",
      "Epoch 511/1000, Loss: 0.1382005880586803\n",
      "Epoch 521/1000, Loss: 0.12222550949081779\n",
      "Epoch 531/1000, Loss: 0.12250742921605706\n",
      "Epoch 541/1000, Loss: 0.12302243150770664\n",
      "Epoch 551/1000, Loss: 0.12730915611609817\n",
      "Epoch 561/1000, Loss: 0.11993476655334234\n",
      "Epoch 571/1000, Loss: 0.12374647799879313\n",
      "Epoch 581/1000, Loss: 0.12362907594069839\n",
      "Epoch 591/1000, Loss: 0.12005196511745453\n",
      "Epoch 601/1000, Loss: 0.11196630308404565\n",
      "Epoch 611/1000, Loss: 0.11332100676372647\n",
      "Epoch 621/1000, Loss: 0.10588635504245758\n",
      "Epoch 631/1000, Loss: 0.11278108833357692\n",
      "Epoch 641/1000, Loss: 0.11359523050487041\n",
      "Epoch 651/1000, Loss: 0.11177727673202753\n",
      "Epoch 661/1000, Loss: 0.12561374949291348\n",
      "Epoch 671/1000, Loss: 0.1097691124305129\n",
      "Epoch 681/1000, Loss: 0.11485465476289392\n",
      "Epoch 691/1000, Loss: 0.11048439983278513\n",
      "Epoch 701/1000, Loss: 0.10776321263983846\n",
      "Epoch 711/1000, Loss: 0.10940092103555799\n",
      "Epoch 721/1000, Loss: 0.10382004827260971\n",
      "Epoch 731/1000, Loss: 0.10097831673920155\n",
      "Epoch 741/1000, Loss: 0.11617436585947871\n",
      "Epoch 751/1000, Loss: 0.1026927288621664\n",
      "Epoch 761/1000, Loss: 0.10620584385469556\n",
      "Epoch 771/1000, Loss: 0.10733534302562475\n",
      "Epoch 781/1000, Loss: 0.10793610848486423\n",
      "Epoch 791/1000, Loss: 0.11191069381311536\n",
      "Epoch 801/1000, Loss: 0.09277334995567799\n",
      "Epoch 811/1000, Loss: 0.10199935780838132\n",
      "Epoch 821/1000, Loss: 0.10549173038452864\n",
      "Epoch 831/1000, Loss: 0.10307012172415853\n",
      "Epoch 841/1000, Loss: 0.09619324351660907\n",
      "Epoch 851/1000, Loss: 0.10230340762063861\n",
      "Epoch 861/1000, Loss: 0.10625082161277533\n",
      "Epoch 871/1000, Loss: 0.10231769131496549\n",
      "Epoch 881/1000, Loss: 0.10305744735524058\n",
      "Epoch 891/1000, Loss: 0.10171000892296433\n",
      "Epoch 901/1000, Loss: 0.11196135310456157\n",
      "Epoch 911/1000, Loss: 0.10518997767940164\n",
      "Epoch 921/1000, Loss: 0.10075937397778034\n",
      "Epoch 931/1000, Loss: 0.09238390857353806\n",
      "Epoch 941/1000, Loss: 0.1035822625271976\n",
      "Epoch 951/1000, Loss: 0.09164874581620097\n",
      "Epoch 961/1000, Loss: 0.09393733832985163\n",
      "Epoch 971/1000, Loss: 0.09625384258106351\n",
      "Epoch 981/1000, Loss: 0.09763298137113452\n",
      "Epoch 991/1000, Loss: 0.10097664128988981\n"
     ]
    }
   ],
   "source": [
    "learning_rate = 0.001\n",
    "epochs = 1000\n",
    "\n",
    "train_dataset = TensorDataset(X_train, y_train)\n",
    "train_loader = DataLoader(train_dataset, batch_size=batch_size, shuffle=True)\n",
    "\n",
    "criterion = nn.MSELoss()\n",
    "optimizer = optim.Adam(model.parameters(), lr=learning_rate)\n",
    "\n",
    "for epoch in range(epochs):\n",
    "    total_loss = 0\n",
    "    for batch_inputs, batch_targets in train_loader:\n",
    "        optimizer.zero_grad()\n",
    "        outputs = model(batch_inputs)\n",
    "        loss = criterion(outputs, batch_targets)\n",
    "        loss.backward()\n",
    "        optimizer.step()\n",
    "        total_loss += loss.item()\n",
    "    \n",
    "    if epoch % 10 == 0:\n",
    "        print(f\"Epoch {epoch+1}/{epochs}, Loss: {total_loss/len(train_loader)}\")"
   ]
  },
  {
   "cell_type": "code",
   "execution_count": 11,
   "id": "74a0b85f-7787-4900-b1b3-e1be86bfabc1",
   "metadata": {
    "tags": []
   },
   "outputs": [
    {
     "name": "stdout",
     "output_type": "stream",
     "text": [
      "Epoch 1/1000, Loss: 1.0790341347455978\n",
      "Epoch 11/1000, Loss: 0.8344533033668995\n",
      "Epoch 21/1000, Loss: 0.6357202008366585\n",
      "Epoch 31/1000, Loss: 0.5162430889904499\n",
      "Epoch 41/1000, Loss: 0.43276253528892994\n",
      "Epoch 51/1000, Loss: 0.3967342283576727\n",
      "Epoch 61/1000, Loss: 0.4033379815518856\n",
      "Epoch 71/1000, Loss: 0.3280970202758908\n",
      "Epoch 81/1000, Loss: 0.33136338740587234\n",
      "Epoch 91/1000, Loss: 0.30378435738384724\n",
      "Epoch 101/1000, Loss: 0.2829731134697795\n",
      "Epoch 111/1000, Loss: 0.26276955660432577\n",
      "Epoch 121/1000, Loss: 0.25549853406846523\n",
      "Epoch 131/1000, Loss: 0.24925662484019995\n",
      "Epoch 141/1000, Loss: 0.24334182403981686\n",
      "Epoch 151/1000, Loss: 0.2364740064367652\n",
      "Epoch 161/1000, Loss: 0.2214584080502391\n",
      "Epoch 171/1000, Loss: 0.22387119103223085\n",
      "Epoch 181/1000, Loss: 0.21389123052358627\n",
      "Epoch 191/1000, Loss: 0.22179535403847694\n",
      "Epoch 201/1000, Loss: 0.21600479912012815\n",
      "Epoch 211/1000, Loss: 0.192203382961452\n",
      "Epoch 221/1000, Loss: 0.19189794501289725\n",
      "Epoch 231/1000, Loss: 0.17716338206082582\n",
      "Epoch 241/1000, Loss: 0.17592233419418335\n",
      "Epoch 251/1000, Loss: 0.1687692180275917\n",
      "Epoch 261/1000, Loss: 0.18203295022249222\n",
      "Epoch 271/1000, Loss: 0.17907335236668587\n",
      "Epoch 281/1000, Loss: 0.17123292619362473\n",
      "Epoch 291/1000, Loss: 0.16505318088456988\n",
      "Epoch 301/1000, Loss: 0.17078837379813194\n",
      "Epoch 311/1000, Loss: 0.1541023743338883\n",
      "Epoch 321/1000, Loss: 0.18337859259918332\n",
      "Epoch 331/1000, Loss: 0.1608350253663957\n",
      "Epoch 341/1000, Loss: 0.16805678233504295\n",
      "Epoch 351/1000, Loss: 0.15730679873377085\n",
      "Epoch 361/1000, Loss: 0.14960023015737534\n",
      "Epoch 371/1000, Loss: 0.14485786529257894\n",
      "Epoch 381/1000, Loss: 0.13990867882966995\n",
      "Epoch 391/1000, Loss: 0.1510546263307333\n",
      "Epoch 401/1000, Loss: 0.13991568377241492\n",
      "Epoch 411/1000, Loss: 0.14674680354073644\n",
      "Epoch 421/1000, Loss: 0.13573287660256028\n",
      "Epoch 431/1000, Loss: 0.14283849159255624\n",
      "Epoch 441/1000, Loss: 0.14269388187676668\n",
      "Epoch 451/1000, Loss: 0.1439445703290403\n",
      "Epoch 461/1000, Loss: 0.1387655925936997\n",
      "Epoch 471/1000, Loss: 0.12838829401880503\n",
      "Epoch 481/1000, Loss: 0.11964712338522077\n",
      "Epoch 491/1000, Loss: 0.13227091822773218\n",
      "Epoch 501/1000, Loss: 0.12304278928786516\n",
      "Epoch 511/1000, Loss: 0.1382005880586803\n",
      "Epoch 521/1000, Loss: 0.12222550949081779\n",
      "Epoch 531/1000, Loss: 0.12250742921605706\n",
      "Epoch 541/1000, Loss: 0.12302243150770664\n",
      "Epoch 551/1000, Loss: 0.12730915611609817\n",
      "Epoch 561/1000, Loss: 0.11993476655334234\n",
      "Epoch 571/1000, Loss: 0.12374647799879313\n",
      "Epoch 581/1000, Loss: 0.12362907594069839\n",
      "Epoch 591/1000, Loss: 0.12005196511745453\n",
      "Epoch 601/1000, Loss: 0.11196630308404565\n",
      "Epoch 611/1000, Loss: 0.11332100676372647\n",
      "Epoch 621/1000, Loss: 0.10588635504245758\n",
      "Epoch 631/1000, Loss: 0.11278108833357692\n",
      "Epoch 641/1000, Loss: 0.11359523050487041\n",
      "Epoch 651/1000, Loss: 0.11177727673202753\n",
      "Epoch 661/1000, Loss: 0.12561374949291348\n",
      "Epoch 671/1000, Loss: 0.1097691124305129\n",
      "Epoch 681/1000, Loss: 0.11485465476289392\n",
      "Epoch 691/1000, Loss: 0.11048439983278513\n",
      "Epoch 701/1000, Loss: 0.10776321263983846\n",
      "Epoch 711/1000, Loss: 0.10940092103555799\n",
      "Epoch 721/1000, Loss: 0.10382004827260971\n",
      "Epoch 731/1000, Loss: 0.10097831673920155\n",
      "Epoch 741/1000, Loss: 0.11617436585947871\n",
      "Epoch 751/1000, Loss: 0.1026927288621664\n",
      "Epoch 761/1000, Loss: 0.10620584385469556\n",
      "Epoch 771/1000, Loss: 0.10733534302562475\n",
      "Epoch 781/1000, Loss: 0.10793610848486423\n",
      "Epoch 791/1000, Loss: 0.11191069381311536\n",
      "Epoch 801/1000, Loss: 0.09277334995567799\n",
      "Epoch 811/1000, Loss: 0.10199935780838132\n",
      "Epoch 821/1000, Loss: 0.10549173038452864\n",
      "Epoch 831/1000, Loss: 0.10307012172415853\n",
      "Epoch 841/1000, Loss: 0.09619324351660907\n",
      "Epoch 851/1000, Loss: 0.10230340762063861\n",
      "Epoch 861/1000, Loss: 0.10625082161277533\n",
      "Epoch 871/1000, Loss: 0.10231769131496549\n",
      "Epoch 881/1000, Loss: 0.10305744735524058\n",
      "Epoch 891/1000, Loss: 0.10171000892296433\n",
      "Epoch 901/1000, Loss: 0.11196135310456157\n",
      "Epoch 911/1000, Loss: 0.10518997767940164\n",
      "Epoch 921/1000, Loss: 0.10075937397778034\n",
      "Epoch 931/1000, Loss: 0.09238390857353806\n",
      "Epoch 941/1000, Loss: 0.1035822625271976\n",
      "Epoch 951/1000, Loss: 0.09164874581620097\n",
      "Epoch 961/1000, Loss: 0.09393733832985163\n",
      "Epoch 971/1000, Loss: 0.09625384258106351\n",
      "Epoch 981/1000, Loss: 0.09763298137113452\n",
      "Epoch 991/1000, Loss: 0.10097664128988981\n"
     ]
    }
   ],
   "source": [
    "learning_rate = 0.001\n",
    "epochs = 1000\n",
    "\n",
    "train_dataset = TensorDataset(X_train, y_train)\n",
    "train_loader = DataLoader(train_dataset, batch_size=batch_size, shuffle=True)\n",
    "\n",
    "criterion = nn.MSELoss()\n",
    "optimizer = optim.Adam(model.parameters(), lr=learning_rate)\n",
    "\n",
    "for epoch in range(epochs):\n",
    "    total_loss = 0\n",
    "    for batch_inputs, batch_targets in train_loader:\n",
    "        optimizer.zero_grad()\n",
    "        outputs = model(batch_inputs)\n",
    "        loss = criterion(outputs, batch_targets)\n",
    "        loss.backward()\n",
    "        optimizer.step()\n",
    "        total_loss += loss.item()\n",
    "    \n",
    "    if epoch % 10 == 0:\n",
    "        print(f\"Epoch {epoch+1}/{epochs}, Loss: {total_loss/len(train_loader)}\")"
   ]
  },
  {
   "cell_type": "code",
   "execution_count": 12,
   "id": "3021eba6-fee3-431b-9921-c6abcdcbc55f",
   "metadata": {
    "tags": []
   },
   "outputs": [
    {
     "data": {
      "text/plain": [
       "0.6031979775942654"
      ]
     },
     "execution_count": 12,
     "metadata": {},
     "output_type": "execute_result"
    },
    {
     "data": {
      "image/png": "[encoded data removed]",
      "text/plain": [
       "<Figure size 640x480 with 1 Axes>"
      ]
     },
     "metadata": {},
     "output_type": "display_data"
    }
   ],
   "source": [
    "pred, true = model(X_test.flatten(1)).flatten().detach().cpu().numpy(), y_test.flatten().detach().cpu().numpy()\n",
    "plt.scatter(pred, true)\n",
    "pearsonr(pred, true)[0]**2"
   ]
  },
  {
   "cell_type": "markdown",
   "id": "59168bae-fb45-476b-9881-0de8866d9157",
   "metadata": {},
   "source": [
    "### Custom attention"
   ]
  },
  {
   "cell_type": "code",
   "execution_count": 52,
   "id": "001c7b5a-e170-449d-83c7-dcfbbad51536",
   "metadata": {},
   "outputs": [],
   "source": [
    "# embed = nn.Embedding(input_dim, hidden_dim).to(device)\n",
    "\n",
    "# multihead_attn = CustomMultiHeadAttention(hidden_dim, num_heads).to(device)      \n",
    "\n",
    "# x, y = next(iter(train_loader))\n",
    "\n",
    "# x = embed(x)\n",
    "\n",
    "# multihead_attn(x, x, x)"
   ]
  },
  {
   "cell_type": "code",
   "execution_count": 53,
   "id": "2deecb6d-83ec-4b9e-ab48-f3135bd3df4d",
   "metadata": {
    "tags": []
   },
   "outputs": [],
   "source": [
    "# embed = nn.Embedding(input_dim, hidden_dim).to(device)\n",
    "\n",
    "# multihead_attn = nn.MultiheadAttention(hidden_dim, num_heads).to(device) \n",
    "\n",
    "# x, y = next(iter(train_loader))\n",
    "\n",
    "# x = embed(x)\n",
    "\n",
    "# multihead_attn(x, x, x)[0].shape"
   ]
  },
  {
   "cell_type": "code",
   "execution_count": null,
   "id": "8066409e-a3ea-4c91-96b4-22542f54e6bb",
   "metadata": {},
   "outputs": [],
   "source": []
  },
  {
   "cell_type": "code",
   "execution_count": null,
   "id": "bd32f0d8-9a35-43dd-8def-d1adfb3cde12",
   "metadata": {},
   "outputs": [],
   "source": []
  },
  {
   "cell_type": "code",
   "execution_count": 108,
   "id": "e0a83fd2-a888-4001-aa2e-351b234fcfa3",
   "metadata": {
    "tags": []
   },
   "outputs": [],
   "source": [
    "# This works!!\n",
    "import torch\n",
    "import torch.nn as nn\n",
    "import torch.optim as optim\n",
    "from torch.utils.data import DataLoader, TensorDataset\n",
    "import numpy as np\n",
    "\n",
    "\n",
    "import torch\n",
    "import torch.nn as nn\n",
    "\n",
    "class MultiHeadAttentionLayer(nn.Module):\n",
    "    def __init__(self, hidden_dim, num_heads):\n",
    "        super(MultiHeadAttentionLayer, self).__init__()\n",
    "        self.multihead_attn = nn.MultiheadAttention(hidden_dim, num_heads)\n",
    "        # self.multihead_attn = MultiheadAttention(hidden_dim, hidden_dim, num_heads)        \n",
    "        self.layer_norm = nn.LayerNorm(hidden_dim)\n",
    "        \n",
    "    def forward(self, x):\n",
    "        attn_output, _ = self.multihead_attn(x, x, x)\n",
    "        x = x + attn_output\n",
    "        # # x = self.layer_norm(x + attn_output)\n",
    "        return x\n",
    "\n",
    "class CustomTransformer(nn.Module):\n",
    "    def __init__(self, input_dim, hidden_dim, num_layers, num_heads):\n",
    "        super(CustomTransformer, self).__init__()\n",
    "\n",
    "        self.embedding = nn.Embedding(input_dim, hidden_dim)\n",
    "        \n",
    "        self.transformer_layers = nn.ModuleList([\n",
    "            MultiHeadAttentionLayer(hidden_dim, num_heads) for _ in range(num_layers)\n",
    "        ])\n",
    "        self.fc = nn.Linear(hidden_dim, 1)\n",
    "        self.sigmoid_norm = nn.BatchNorm1d(1, affine=False)        \n",
    "        self.sigmoid = nn.Sigmoid()\n",
    "        self.sigmoid_scaling = nn.Linear(1, 1)\n",
    "\n",
    "    def forward(self, x):\n",
    "\n",
    "        x = self.embedding(x)\n",
    "        x = x.permute(1, 0, 2)  # seq_len x batch x hidden_dim\n",
    "        \n",
    "        for layer in self.transformer_layers:\n",
    "            x = layer(x)\n",
    "            \n",
    "        x = torch.mean(x, dim=0)  # batch x hidden_dim\n",
    "        x = self.fc(x)  # batch x 1 (scalar)\n",
    "        x = self.sigmoid_norm(x)\n",
    "        # mean = torch.mean(x)\n",
    "        # std = torch.std(x)\n",
    "        # x = (x - mean) / std\n",
    "\n",
    "        x = self.sigmoid(x)\n",
    "        x = self.sigmoid_scaling(x)\n",
    "\n",
    "        return x"
   ]
  },
  {
   "cell_type": "code",
   "execution_count": 109,
   "id": "be6ae6a7-75c2-4711-975a-ade24cc37252",
   "metadata": {
    "tags": []
   },
   "outputs": [],
   "source": [
    "batch_size = 64\n",
    "sequence_length = L\n",
    "input_dim = 2*L\n",
    "output_dim = 1\n",
    "hidden_dim = 20\n",
    "num_layers = 4\n",
    "num_heads = 1\n",
    "\n",
    "model = CustomTransformer(input_dim, hidden_dim, num_layers, num_heads).to(device)"
   ]
  },
  {
   "cell_type": "code",
   "execution_count": 110,
   "id": "e4048f4b-76c3-4469-a5d3-684d9871d1f3",
   "metadata": {
    "tags": []
   },
   "outputs": [],
   "source": [
    "x, y = next(iter(train_loader))\n",
    "output = model(x)"
   ]
  },
  {
   "cell_type": "code",
   "execution_count": 113,
   "id": "eca40af0-061b-42ac-b327-f9cc15f1eab8",
   "metadata": {
    "tags": []
   },
   "outputs": [
    {
     "name": "stdout",
     "output_type": "stream",
     "text": [
      "Epoch 1/100, Loss: 1.9784260839223862\n",
      "Epoch 11/100, Loss: 1.4672189876437187\n",
      "Epoch 21/100, Loss: 1.1173520535230637\n",
      "Epoch 31/100, Loss: 0.8646952845156193\n",
      "Epoch 41/100, Loss: 0.6990292966365814\n",
      "Epoch 51/100, Loss: 0.6120735350996256\n",
      "Epoch 61/100, Loss: 0.5370362717658281\n",
      "Epoch 71/100, Loss: 0.5029670093208551\n",
      "Epoch 81/100, Loss: 0.47749051824212074\n",
      "Epoch 91/100, Loss: 0.4555497020483017\n"
     ]
    }
   ],
   "source": [
    "learning_rate = 0.001\n",
    "epochs = 100\n",
    "\n",
    "train_dataset = TensorDataset(X_train, y_train)\n",
    "train_loader = DataLoader(train_dataset, batch_size=batch_size, shuffle=True)\n",
    "\n",
    "criterion = nn.MSELoss()\n",
    "optimizer = optim.Adam(model.parameters(), lr=learning_rate)\n",
    "\n",
    "for epoch in range(epochs):\n",
    "    total_loss = 0\n",
    "    for batch_inputs, batch_targets in train_loader:\n",
    "        optimizer.zero_grad()\n",
    "        outputs = model(batch_inputs)\n",
    "        loss = criterion(outputs, batch_targets)\n",
    "        loss.backward()\n",
    "        optimizer.step()\n",
    "        total_loss += loss.item()\n",
    "    \n",
    "    if epoch % 10 == 0:\n",
    "        print(f\"Epoch {epoch+1}/{epochs}, Loss: {total_loss/len(train_loader)}\")"
   ]
  },
  {
   "cell_type": "code",
   "execution_count": 114,
   "id": "6eb09643-6ade-49a6-8d65-4ba26ac36eb3",
   "metadata": {
    "tags": []
   },
   "outputs": [
    {
     "data": {
      "text/plain": [
       "0.43474792036210574"
      ]
     },
     "execution_count": 114,
     "metadata": {},
     "output_type": "execute_result"
    },
    {
     "data": {
      "image/png": "[encoded data removed]",
      "text/plain": [
       "<Figure size 640x480 with 1 Axes>"
      ]
     },
     "metadata": {},
     "output_type": "display_data"
    }
   ],
   "source": [
    "pred, true = model(X_test.flatten(1)).flatten().detach().cpu().numpy(), y_test.flatten().detach().cpu().numpy()\n",
    "plt.scatter(pred, true)\n",
    "pearsonr(pred, true)[0]**2"
   ]
  },
  {
   "cell_type": "code",
   "execution_count": 60,
   "id": "d59dac7f-a9c1-4560-a5f2-8abffeb1584d",
   "metadata": {
    "tags": []
   },
   "outputs": [],
   "source": [
    "import torch\n",
    "import torch.nn as nn\n",
    "\n",
    "# Define the one-dimensional tensor\n",
    "x = torch.tensor([1.0, 2.0, 3.0, 4.0, 5.0])\n",
    "\n",
    "# Reshape the tensor to have shape (batch_size, num_features)\n",
    "x = x.view(1, -1)  # Here, we treat it as a batch of size 1 with multiple features\n",
    "\n",
    "# # Create a BatchNorm1d layer\n",
    "batch_norm = nn.BatchNorm1d(num_features=x.size(1))\n",
    "\n",
    "# # Set the BatchNorm1d layer to evaluation mode to avoid batch statistics update\n",
    "# batch_norm.eval()\n",
    "\n",
    "# # Apply the BatchNorm1d layer to Z-transform the tensor\n",
    "# z_transformed_x = batch_norm(x)\n",
    "\n",
    "# # Flatten the result back to a one-dimensional tensor if needed\n",
    "# z_transformed_x = z_transformed_x.view(-1)\n",
    "\n",
    "# print(\"Z-transformed x:\", z_transformed_x)\n"
   ]
  },
  {
   "cell_type": "code",
   "execution_count": 103,
   "id": "f5a0af4a-b1e7-4a30-97b3-5e754c4ada3e",
   "metadata": {
    "tags": []
   },
   "outputs": [],
   "source": [
    "# With Learnable Parameters\n",
    "m = nn.BatchNorm1d(100)\n",
    "# Without Learnable Parameters\n",
    "m = nn.BatchNorm1d(1, affine=False)\n",
    "input = torch.randn(200, 1)\n",
    "output = m(input)"
   ]
  },
  {
   "cell_type": "code",
   "execution_count": 104,
   "id": "2dc4d670-72f3-46e4-8b5f-a9525f8c564c",
   "metadata": {
    "tags": []
   },
   "outputs": [
    {
     "data": {
      "text/plain": [
       "torch.Size([200, 1])"
      ]
     },
     "execution_count": 104,
     "metadata": {},
     "output_type": "execute_result"
    }
   ],
   "source": [
    "input.shape"
   ]
  },
  {
   "cell_type": "code",
   "execution_count": 105,
   "id": "eb133066-b172-4771-bcb8-d8292ea48c48",
   "metadata": {
    "tags": []
   },
   "outputs": [
    {
     "data": {
      "text/plain": [
       "torch.Size([200, 1])"
      ]
     },
     "execution_count": 105,
     "metadata": {},
     "output_type": "execute_result"
    }
   ],
   "source": [
    "output.shape"
   ]
  },
  {
   "cell_type": "code",
   "execution_count": 106,
   "id": "5dd3ae17-1fa1-4168-9c10-ac9d04ba3cfb",
   "metadata": {
    "tags": []
   },
   "outputs": [
    {
     "data": {
      "text/plain": [
       "tensor(0.9601)"
      ]
     },
     "execution_count": 106,
     "metadata": {},
     "output_type": "execute_result"
    }
   ],
   "source": [
    "input.flatten().std()"
   ]
  },
  {
   "cell_type": "code",
   "execution_count": 107,
   "id": "430774ca-27c6-4f79-9786-599ee2f25af5",
   "metadata": {
    "tags": []
   },
   "outputs": [
    {
     "data": {
      "text/plain": [
       "tensor(1.0025)"
      ]
     },
     "execution_count": 107,
     "metadata": {},
     "output_type": "execute_result"
    }
   ],
   "source": [
    "output.flatten().std()"
   ]
  },
  {
   "cell_type": "code",
   "execution_count": null,
   "id": "33ad5e4c-d49b-47e3-b9aa-231d7f93a5fb",
   "metadata": {},
   "outputs": [],
   "source": []
  }
 ],
 "metadata": {
  "kernelspec": {
   "display_name": "PyTorch-2.0.1",
   "language": "python",
   "name": "pytorch-2.0.1"
  },
  "language_info": {
   "codemirror_mode": {
    "name": "ipython",
    "version": 3
   },
   "file_extension": ".py",
   "mimetype": "text/x-python",
   "name": "python",
   "nbconvert_exporter": "python",
   "pygments_lexer": "ipython3",
   "version": "3.10.11"
  }
 },
 "nbformat": 4,
 "nbformat_minor": 5
}
