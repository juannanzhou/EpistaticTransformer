{
 "cells": [
  {
   "cell_type": "code",
   "execution_count": 1,
   "id": "e09c8b8b-c771-40df-b815-72e91851a579",
   "metadata": {
    "tags": []
   },
   "outputs": [],
   "source": [
    "## Standard libraries\n",
    "import os\n",
    "import numpy as np\n",
    "import math\n",
    "import json\n",
    "from functools import partial\n",
    "\n",
    "import random as rd\n",
    "\n",
    "import pandas as pd\n",
    "import numpy as np\n",
    "import matplotlib.pyplot as plt\n",
    "import torch\n",
    "import GPUtil\n",
    "import torch\n",
    "import torch.nn as nn\n",
    "import sys\n",
    "sys.path.append('../model')\n",
    "from utils import amino_acid_to_number, tokenize\n",
    "\n",
    "device = \"cuda:0\""
   ]
  },
  {
   "cell_type": "code",
   "execution_count": 2,
   "id": "5903e96c-68a1-4f61-a46f-d9dbeb500d5e",
   "metadata": {
    "tags": []
   },
   "outputs": [
    {
     "name": "stdout",
     "output_type": "stream",
     "text": [
      "| ID | GPU  | MEM |\n",
      "-------------------\n",
      "|  0 |   0% |  2% |\n",
      "|  1 |   0% |  0% |\n",
      "|  2 |  99% | 33% |\n",
      "|  3 |  99% | 43% |\n",
      "|  4 | 100% | 36% |\n",
      "|  5 |  16% |  1% |\n",
      "|  6 |  90% | 56% |\n",
      "|  7 |  98% | 36% |\n"
     ]
    }
   ],
   "source": [
    "def sgpu():\n",
    "    GPUtil.showUtilization()\n",
    "\n",
    "sgpu()"
   ]
  },
  {
   "cell_type": "code",
   "execution_count": 3,
   "id": "fca42876-cbb0-432c-a868-6a4436d4857f",
   "metadata": {
    "tags": []
   },
   "outputs": [],
   "source": [
    "import pandas as pd\n",
    "import numpy as np\n",
    "import matplotlib.pyplot as plt\n",
    "import torch\n",
    "import GPUtil\n",
    "import torch"
   ]
  },
  {
   "cell_type": "code",
   "execution_count": 4,
   "id": "568d6d7b-ec7c-426f-95ec-14ea1640f5b5",
   "metadata": {
    "tags": []
   },
   "outputs": [],
   "source": [
    "amino_acid_to_number = {'A': 0,\n",
    "     'R': 1,\n",
    "     'N': 2,\n",
    "     'D': 3,\n",
    "     'C': 4,\n",
    "     'E': 5,\n",
    "     'Q': 6,\n",
    "     'G': 7,\n",
    "     'H': 8,\n",
    "     'I': 9,\n",
    "     'L': 10,\n",
    "     'K': 11,\n",
    "     'M': 12,\n",
    "     'F': 13,\n",
    "     'P': 14,\n",
    "     'S': 15,\n",
    "     'T': 16,\n",
    "     'W': 17,\n",
    "     'Y': 18,\n",
    "     'V': 19, \n",
    "     '_': 20                  \n",
    "       }\n",
    "\n",
    "def tokenize(seq):\n",
    "    numeric_sequence = [amino_acid_to_number[aa] for aa in seq]\n",
    "    return numeric_sequence"
   ]
  },
  {
   "cell_type": "code",
   "execution_count": 5,
   "id": "6a5d374d-9c74-4772-a361-1aaba536f172",
   "metadata": {
    "tags": []
   },
   "outputs": [],
   "source": [
    "# summary_files = pd.read_csv(\"../ProteinGym_substitutions/ProteinGym_reference_file_substitutions.csv\")\n",
    "\n",
    "# summary_files = summary_files.set_index(\"DMS_id\")\n",
    "\n",
    "# study_ids = [\"CAPSD_AAV2S_Sinai_substitutions_2021\", \"F7YBW8_MESOW_Aakre_2015\", \n",
    "#  \"GCN4_YEAST_Staller_induction_2018\", \"GFP_AEQVI_Sarkisyan_2016\", \"HIS7_YEAST_Pokusaeva_2019\"]\n",
    "\n",
    "# ID = \"HIS7_YEAST_Pokusaeva_2019\"\n",
    "\n",
    "# filename = summary_files.loc[ID].DMS_filename\n",
    "\n",
    "# datafile = pd.read_csv(\"../ProteinGym_substitutions/\" + filename)\n",
    "\n",
    "summary_files = pd.read_csv(\"../ProteinGym_substitutions/ProteinGym_reference_file_substitutions.csv\")\n",
    "\n",
    "summary_files = summary_files.set_index(\"DMS_id\")\n",
    "\n",
    "study_ids = [\"CAPSD_AAV2S_Sinai_substitutions_2021\", \"F7YBW8_MESOW_Aakre_2015\", \n",
    " \"GCN4_YEAST_Staller_induction_2018\", \"GFP_AEQVI_Sarkisyan_2016\", \"HIS7_YEAST_Pokusaeva_2019\"]\n",
    "\n",
    "filename = summary_files.loc[\"CAPSD_AAV2S_Sinai_substitutions_2021\"].DMS_filename\n",
    "\n",
    "datafile = pd.read_csv(\"../ProteinGym_substitutions/\" + filename)"
   ]
  },
  {
   "cell_type": "code",
   "execution_count": 6,
   "id": "c414c3a1-91fa-4fdf-90ec-ff41909e84a0",
   "metadata": {
    "tags": []
   },
   "outputs": [
    {
     "data": {
      "text/html": [
       "<div>\n",
       "<style scoped>\n",
       "    .dataframe tbody tr th:only-of-type {\n",
       "        vertical-align: middle;\n",
       "    }\n",
       "\n",
       "    .dataframe tbody tr th {\n",
       "        vertical-align: top;\n",
       "    }\n",
       "\n",
       "    .dataframe thead th {\n",
       "        text-align: right;\n",
       "    }\n",
       "</style>\n",
       "<table border=\"1\" class=\"dataframe\">\n",
       "  <thead>\n",
       "    <tr style=\"text-align: right;\">\n",
       "      <th></th>\n",
       "      <th>mutant</th>\n",
       "      <th>mutated_sequence</th>\n",
       "      <th>DMS_score</th>\n",
       "      <th>DMS_score_bin</th>\n",
       "    </tr>\n",
       "  </thead>\n",
       "  <tbody>\n",
       "    <tr>\n",
       "      <th>0</th>\n",
       "      <td>A572C</td>\n",
       "      <td>MAADGYLPDWLEDTLSEGIRQWWKLKPGPPPPKPAERHKDDSRGLV...</td>\n",
       "      <td>0.783106</td>\n",
       "      <td>1</td>\n",
       "    </tr>\n",
       "    <tr>\n",
       "      <th>1</th>\n",
       "      <td>A572C:E574A</td>\n",
       "      <td>MAADGYLPDWLEDTLSEGIRQWWKLKPGPPPPKPAERHKDDSRGLV...</td>\n",
       "      <td>-1.910004</td>\n",
       "      <td>0</td>\n",
       "    </tr>\n",
       "    <tr>\n",
       "      <th>2</th>\n",
       "      <td>A572C:E574A:Q584C:R585V</td>\n",
       "      <td>MAADGYLPDWLEDTLSEGIRQWWKLKPGPPPPKPAERHKDDSRGLV...</td>\n",
       "      <td>-4.135085</td>\n",
       "      <td>0</td>\n",
       "    </tr>\n",
       "    <tr>\n",
       "      <th>3</th>\n",
       "      <td>A572C:E574A:S578V:Q584C:R585P</td>\n",
       "      <td>MAADGYLPDWLEDTLSEGIRQWWKLKPGPPPPKPAERHKDDSRGLV...</td>\n",
       "      <td>-4.901771</td>\n",
       "      <td>0</td>\n",
       "    </tr>\n",
       "    <tr>\n",
       "      <th>4</th>\n",
       "      <td>A572C:E574A:T581S:N582G</td>\n",
       "      <td>MAADGYLPDWLEDTLSEGIRQWWKLKPGPPPPKPAERHKDDSRGLV...</td>\n",
       "      <td>-2.227975</td>\n",
       "      <td>0</td>\n",
       "    </tr>\n",
       "    <tr>\n",
       "      <th>...</th>\n",
       "      <td>...</td>\n",
       "      <td>...</td>\n",
       "      <td>...</td>\n",
       "      <td>...</td>\n",
       "    </tr>\n",
       "    <tr>\n",
       "      <th>42323</th>\n",
       "      <td>Y576W:V579Y:S580D:L583D:Q584E</td>\n",
       "      <td>MAADGYLPDWLEDTLSEGIRQWWKLKPGPPPPKPAERHKDDSRGLV...</td>\n",
       "      <td>0.424268</td>\n",
       "      <td>1</td>\n",
       "    </tr>\n",
       "    <tr>\n",
       "      <th>42324</th>\n",
       "      <td>Y576W:V579Y:S580D:N587D</td>\n",
       "      <td>MAADGYLPDWLEDTLSEGIRQWWKLKPGPPPPKPAERHKDDSRGLV...</td>\n",
       "      <td>1.175576</td>\n",
       "      <td>1</td>\n",
       "    </tr>\n",
       "    <tr>\n",
       "      <th>42325</th>\n",
       "      <td>Y576W:V579Y:T581D:R585V:N587D</td>\n",
       "      <td>MAADGYLPDWLEDTLSEGIRQWWKLKPGPPPPKPAERHKDDSRGLV...</td>\n",
       "      <td>0.847795</td>\n",
       "      <td>1</td>\n",
       "    </tr>\n",
       "    <tr>\n",
       "      <th>42326</th>\n",
       "      <td>Y576W:V579Y:T581E:N582I:L583E:R588A</td>\n",
       "      <td>MAADGYLPDWLEDTLSEGIRQWWKLKPGPPPPKPAERHKDDSRGLV...</td>\n",
       "      <td>0.751041</td>\n",
       "      <td>1</td>\n",
       "    </tr>\n",
       "    <tr>\n",
       "      <th>42327</th>\n",
       "      <td>Y576W:V579Y:T581E:R585Q:G586E:R588A</td>\n",
       "      <td>MAADGYLPDWLEDTLSEGIRQWWKLKPGPPPPKPAERHKDDSRGLV...</td>\n",
       "      <td>1.177617</td>\n",
       "      <td>1</td>\n",
       "    </tr>\n",
       "  </tbody>\n",
       "</table>\n",
       "<p>42328 rows × 4 columns</p>\n",
       "</div>"
      ],
      "text/plain": [
       "                                    mutant  \\\n",
       "0                                    A572C   \n",
       "1                              A572C:E574A   \n",
       "2                  A572C:E574A:Q584C:R585V   \n",
       "3            A572C:E574A:S578V:Q584C:R585P   \n",
       "4                  A572C:E574A:T581S:N582G   \n",
       "...                                    ...   \n",
       "42323        Y576W:V579Y:S580D:L583D:Q584E   \n",
       "42324              Y576W:V579Y:S580D:N587D   \n",
       "42325        Y576W:V579Y:T581D:R585V:N587D   \n",
       "42326  Y576W:V579Y:T581E:N582I:L583E:R588A   \n",
       "42327  Y576W:V579Y:T581E:R585Q:G586E:R588A   \n",
       "\n",
       "                                        mutated_sequence  DMS_score  \\\n",
       "0      MAADGYLPDWLEDTLSEGIRQWWKLKPGPPPPKPAERHKDDSRGLV...   0.783106   \n",
       "1      MAADGYLPDWLEDTLSEGIRQWWKLKPGPPPPKPAERHKDDSRGLV...  -1.910004   \n",
       "2      MAADGYLPDWLEDTLSEGIRQWWKLKPGPPPPKPAERHKDDSRGLV...  -4.135085   \n",
       "3      MAADGYLPDWLEDTLSEGIRQWWKLKPGPPPPKPAERHKDDSRGLV...  -4.901771   \n",
       "4      MAADGYLPDWLEDTLSEGIRQWWKLKPGPPPPKPAERHKDDSRGLV...  -2.227975   \n",
       "...                                                  ...        ...   \n",
       "42323  MAADGYLPDWLEDTLSEGIRQWWKLKPGPPPPKPAERHKDDSRGLV...   0.424268   \n",
       "42324  MAADGYLPDWLEDTLSEGIRQWWKLKPGPPPPKPAERHKDDSRGLV...   1.175576   \n",
       "42325  MAADGYLPDWLEDTLSEGIRQWWKLKPGPPPPKPAERHKDDSRGLV...   0.847795   \n",
       "42326  MAADGYLPDWLEDTLSEGIRQWWKLKPGPPPPKPAERHKDDSRGLV...   0.751041   \n",
       "42327  MAADGYLPDWLEDTLSEGIRQWWKLKPGPPPPKPAERHKDDSRGLV...   1.177617   \n",
       "\n",
       "       DMS_score_bin  \n",
       "0                  1  \n",
       "1                  0  \n",
       "2                  0  \n",
       "3                  0  \n",
       "4                  0  \n",
       "...              ...  \n",
       "42323              1  \n",
       "42324              1  \n",
       "42325              1  \n",
       "42326              1  \n",
       "42327              1  \n",
       "\n",
       "[42328 rows x 4 columns]"
      ]
     },
     "execution_count": 6,
     "metadata": {},
     "output_type": "execute_result"
    }
   ],
   "source": [
    "datafile"
   ]
  },
  {
   "cell_type": "code",
   "execution_count": 7,
   "id": "07410e6c-fd0e-4dd5-86e0-5eb10241f074",
   "metadata": {
    "tags": []
   },
   "outputs": [],
   "source": [
    "# # Pokusaeva 2019\n",
    "# path = \"../Data/HIS3InterspeciesEpistasis/Data/S5_scaled_info_v2.csv\"\n",
    "# datafile = pd.read_csv(path, sep='\\t')\n",
    "# new_column_names = {'aa_seq': 'mutated_sequence', 's_original': 'DMS_score'}\n",
    "# datafile.rename(columns=new_column_names, inplace=True)"
   ]
  },
  {
   "cell_type": "code",
   "execution_count": 8,
   "id": "4d2b178c-1337-4c0f-8021-414f66ea75d0",
   "metadata": {
    "tags": []
   },
   "outputs": [
    {
     "data": {
      "image/png": "[encoded data removed]",
      "text/plain": [
       "<Figure size 640x480 with 1 Axes>"
      ]
     },
     "metadata": {},
     "output_type": "display_data"
    },
    {
     "name": "stdout",
     "output_type": "stream",
     "text": [
      "number of mutants HD>5 = 11113\n"
     ]
    },
    {
     "data": {
      "image/png": "[encoded data removed]",
      "text/plain": [
       "<Figure size 640x480 with 1 Axes>"
      ]
     },
     "metadata": {},
     "output_type": "display_data"
    },
    {
     "data": {
      "image/png": "[encoded data removed]",
      "text/plain": [
       "<Figure size 640x480 with 1 Axes>"
      ]
     },
     "metadata": {},
     "output_type": "display_data"
    }
   ],
   "source": [
    "lens = np.array([len(seq) for seq in datafile.mutated_sequence])\n",
    "datafile['length'] = [len(seq) for seq in datafile.mutated_sequence]\n",
    "datafile.length.value_counts()\n",
    "\n",
    "n_mutants = np.array([mutant.count(\":\") for mutant in datafile.mutant]) + 1\n",
    "datafile['hd'] = n_mutants\n",
    "plt.hist(n_mutants, bins=20)\n",
    "plt.show()\n",
    "print(f\"number of mutants HD>5 = {np.sum(n_mutants > 5)}\")\n",
    "\n",
    "# Fitness vs. Hamming distance\n",
    "\n",
    "plt.scatter(datafile['hd'], datafile['DMS_score'])\n",
    "plt.show()\n",
    "\n",
    "plt.hist(datafile.DMS_score, bins=20)\n",
    "plt.show()"
   ]
  },
  {
   "cell_type": "code",
   "execution_count": 9,
   "id": "3989fcd8-3e80-40e0-91b7-4a469275cf33",
   "metadata": {
    "tags": []
   },
   "outputs": [
    {
     "data": {
      "text/html": [
       "<div>\n",
       "<style scoped>\n",
       "    .dataframe tbody tr th:only-of-type {\n",
       "        vertical-align: middle;\n",
       "    }\n",
       "\n",
       "    .dataframe tbody tr th {\n",
       "        vertical-align: top;\n",
       "    }\n",
       "\n",
       "    .dataframe thead th {\n",
       "        text-align: right;\n",
       "    }\n",
       "</style>\n",
       "<table border=\"1\" class=\"dataframe\">\n",
       "  <thead>\n",
       "    <tr style=\"text-align: right;\">\n",
       "      <th></th>\n",
       "      <th>mutant</th>\n",
       "      <th>mutated_sequence</th>\n",
       "      <th>DMS_score</th>\n",
       "      <th>DMS_score_bin</th>\n",
       "      <th>length</th>\n",
       "      <th>hd</th>\n",
       "    </tr>\n",
       "  </thead>\n",
       "  <tbody>\n",
       "    <tr>\n",
       "      <th>0</th>\n",
       "      <td>A572C</td>\n",
       "      <td>MAADGYLPDWLEDTLSEGIRQWWKLKPGPPPPKPAERHKDDSRGLV...</td>\n",
       "      <td>0.783106</td>\n",
       "      <td>1</td>\n",
       "      <td>735</td>\n",
       "      <td>1</td>\n",
       "    </tr>\n",
       "    <tr>\n",
       "      <th>1</th>\n",
       "      <td>A572C:E574A</td>\n",
       "      <td>MAADGYLPDWLEDTLSEGIRQWWKLKPGPPPPKPAERHKDDSRGLV...</td>\n",
       "      <td>-1.910004</td>\n",
       "      <td>0</td>\n",
       "      <td>735</td>\n",
       "      <td>2</td>\n",
       "    </tr>\n",
       "    <tr>\n",
       "      <th>2</th>\n",
       "      <td>A572C:E574A:Q584C:R585V</td>\n",
       "      <td>MAADGYLPDWLEDTLSEGIRQWWKLKPGPPPPKPAERHKDDSRGLV...</td>\n",
       "      <td>-4.135085</td>\n",
       "      <td>0</td>\n",
       "      <td>735</td>\n",
       "      <td>4</td>\n",
       "    </tr>\n",
       "    <tr>\n",
       "      <th>3</th>\n",
       "      <td>A572C:E574A:S578V:Q584C:R585P</td>\n",
       "      <td>MAADGYLPDWLEDTLSEGIRQWWKLKPGPPPPKPAERHKDDSRGLV...</td>\n",
       "      <td>-4.901771</td>\n",
       "      <td>0</td>\n",
       "      <td>735</td>\n",
       "      <td>5</td>\n",
       "    </tr>\n",
       "    <tr>\n",
       "      <th>4</th>\n",
       "      <td>A572C:E574A:T581S:N582G</td>\n",
       "      <td>MAADGYLPDWLEDTLSEGIRQWWKLKPGPPPPKPAERHKDDSRGLV...</td>\n",
       "      <td>-2.227975</td>\n",
       "      <td>0</td>\n",
       "      <td>735</td>\n",
       "      <td>4</td>\n",
       "    </tr>\n",
       "    <tr>\n",
       "      <th>...</th>\n",
       "      <td>...</td>\n",
       "      <td>...</td>\n",
       "      <td>...</td>\n",
       "      <td>...</td>\n",
       "      <td>...</td>\n",
       "      <td>...</td>\n",
       "    </tr>\n",
       "    <tr>\n",
       "      <th>42323</th>\n",
       "      <td>Y576W:V579Y:S580D:L583D:Q584E</td>\n",
       "      <td>MAADGYLPDWLEDTLSEGIRQWWKLKPGPPPPKPAERHKDDSRGLV...</td>\n",
       "      <td>0.424268</td>\n",
       "      <td>1</td>\n",
       "      <td>735</td>\n",
       "      <td>5</td>\n",
       "    </tr>\n",
       "    <tr>\n",
       "      <th>42324</th>\n",
       "      <td>Y576W:V579Y:S580D:N587D</td>\n",
       "      <td>MAADGYLPDWLEDTLSEGIRQWWKLKPGPPPPKPAERHKDDSRGLV...</td>\n",
       "      <td>1.175576</td>\n",
       "      <td>1</td>\n",
       "      <td>735</td>\n",
       "      <td>4</td>\n",
       "    </tr>\n",
       "    <tr>\n",
       "      <th>42325</th>\n",
       "      <td>Y576W:V579Y:T581D:R585V:N587D</td>\n",
       "      <td>MAADGYLPDWLEDTLSEGIRQWWKLKPGPPPPKPAERHKDDSRGLV...</td>\n",
       "      <td>0.847795</td>\n",
       "      <td>1</td>\n",
       "      <td>735</td>\n",
       "      <td>5</td>\n",
       "    </tr>\n",
       "    <tr>\n",
       "      <th>42326</th>\n",
       "      <td>Y576W:V579Y:T581E:N582I:L583E:R588A</td>\n",
       "      <td>MAADGYLPDWLEDTLSEGIRQWWKLKPGPPPPKPAERHKDDSRGLV...</td>\n",
       "      <td>0.751041</td>\n",
       "      <td>1</td>\n",
       "      <td>735</td>\n",
       "      <td>6</td>\n",
       "    </tr>\n",
       "    <tr>\n",
       "      <th>42327</th>\n",
       "      <td>Y576W:V579Y:T581E:R585Q:G586E:R588A</td>\n",
       "      <td>MAADGYLPDWLEDTLSEGIRQWWKLKPGPPPPKPAERHKDDSRGLV...</td>\n",
       "      <td>1.177617</td>\n",
       "      <td>1</td>\n",
       "      <td>735</td>\n",
       "      <td>6</td>\n",
       "    </tr>\n",
       "  </tbody>\n",
       "</table>\n",
       "<p>42328 rows × 6 columns</p>\n",
       "</div>"
      ],
      "text/plain": [
       "                                    mutant  \\\n",
       "0                                    A572C   \n",
       "1                              A572C:E574A   \n",
       "2                  A572C:E574A:Q584C:R585V   \n",
       "3            A572C:E574A:S578V:Q584C:R585P   \n",
       "4                  A572C:E574A:T581S:N582G   \n",
       "...                                    ...   \n",
       "42323        Y576W:V579Y:S580D:L583D:Q584E   \n",
       "42324              Y576W:V579Y:S580D:N587D   \n",
       "42325        Y576W:V579Y:T581D:R585V:N587D   \n",
       "42326  Y576W:V579Y:T581E:N582I:L583E:R588A   \n",
       "42327  Y576W:V579Y:T581E:R585Q:G586E:R588A   \n",
       "\n",
       "                                        mutated_sequence  DMS_score  \\\n",
       "0      MAADGYLPDWLEDTLSEGIRQWWKLKPGPPPPKPAERHKDDSRGLV...   0.783106   \n",
       "1      MAADGYLPDWLEDTLSEGIRQWWKLKPGPPPPKPAERHKDDSRGLV...  -1.910004   \n",
       "2      MAADGYLPDWLEDTLSEGIRQWWKLKPGPPPPKPAERHKDDSRGLV...  -4.135085   \n",
       "3      MAADGYLPDWLEDTLSEGIRQWWKLKPGPPPPKPAERHKDDSRGLV...  -4.901771   \n",
       "4      MAADGYLPDWLEDTLSEGIRQWWKLKPGPPPPKPAERHKDDSRGLV...  -2.227975   \n",
       "...                                                  ...        ...   \n",
       "42323  MAADGYLPDWLEDTLSEGIRQWWKLKPGPPPPKPAERHKDDSRGLV...   0.424268   \n",
       "42324  MAADGYLPDWLEDTLSEGIRQWWKLKPGPPPPKPAERHKDDSRGLV...   1.175576   \n",
       "42325  MAADGYLPDWLEDTLSEGIRQWWKLKPGPPPPKPAERHKDDSRGLV...   0.847795   \n",
       "42326  MAADGYLPDWLEDTLSEGIRQWWKLKPGPPPPKPAERHKDDSRGLV...   0.751041   \n",
       "42327  MAADGYLPDWLEDTLSEGIRQWWKLKPGPPPPKPAERHKDDSRGLV...   1.177617   \n",
       "\n",
       "       DMS_score_bin  length  hd  \n",
       "0                  1     735   1  \n",
       "1                  0     735   2  \n",
       "2                  0     735   4  \n",
       "3                  0     735   5  \n",
       "4                  0     735   4  \n",
       "...              ...     ...  ..  \n",
       "42323              1     735   5  \n",
       "42324              1     735   4  \n",
       "42325              1     735   5  \n",
       "42326              1     735   6  \n",
       "42327              1     735   6  \n",
       "\n",
       "[42328 rows x 6 columns]"
      ]
     },
     "execution_count": 9,
     "metadata": {},
     "output_type": "execute_result"
    }
   ],
   "source": [
    "datafile"
   ]
  },
  {
   "cell_type": "code",
   "execution_count": 10,
   "id": "672b513e-6be1-4800-8f31-c4a4ca5a0a7b",
   "metadata": {
    "tags": []
   },
   "outputs": [
    {
     "data": {
      "image/png": "[encoded data removed]",
      "text/plain": [
       "<Figure size 640x480 with 1 Axes>"
      ]
     },
     "metadata": {},
     "output_type": "display_data"
    },
    {
     "name": "stdout",
     "output_type": "stream",
     "text": [
      "torch.Size([42328, 28, 20])\n",
      "torch.Size([42328, 560])\n"
     ]
    },
    {
     "name": "stderr",
     "output_type": "stream",
     "text": [
      "/scratch/local/21025580/ipykernel_2786831/3371315416.py:18: UserWarning: Creating a tensor from a list of numpy.ndarrays is extremely slow. Please consider converting the list to a single numpy.ndarray with numpy.array() before converting to a tensor. (Triggered internally at /opt/conda/conda-bld/pytorch_1682343995026/work/torch/csrc/utils/tensor_new.cpp:245.)\n",
      "  seqs = seqs[:, sites_var].squeeze(1)\n"
     ]
    }
   ],
   "source": [
    "seqs_tokenized = [tokenize(seq) for seq in datafile.mutated_sequence]\n",
    "seqs = torch.tensor(seqs_tokenized)\n",
    "seqs_df = pd.DataFrame(seqs.cpu().numpy())\n",
    "L = len(seqs[0])\n",
    "AA_size = 20\n",
    "\n",
    "# Find variable sites\n",
    "\n",
    "counts = {i: seqs_df[i].value_counts() for i in range(seqs_df.shape[1])}\n",
    "\n",
    "n_aas = [len(counts[i]) for i in range(len(counts))]\n",
    "sites_var = np.where(np.array(n_aas) != 1)\n",
    "\n",
    "plt.plot(n_aas)\n",
    "plt.show()\n",
    "\n",
    "seqs = seqs.cpu()\n",
    "seqs = seqs[:, sites_var].squeeze(1)\n",
    "L = seqs.shape[1]\n",
    "\n",
    "from torch.nn.functional import one_hot\n",
    "seqs1h = one_hot(seqs)\n",
    "print(seqs1h.shape)\n",
    "\n",
    "seqs1hf = seqs1h.view(-1, L*(AA_size))\n",
    "print(seqs1hf.shape)\n",
    "\n",
    "phenotypes = torch.tensor(list(datafile.DMS_score)).float()\n",
    "phenotypes = phenotypes.unsqueeze(1)"
   ]
  },
  {
   "cell_type": "code",
   "execution_count": 11,
   "id": "b61d7004-fe2e-4559-afe7-582ebf06879a",
   "metadata": {
    "tags": []
   },
   "outputs": [],
   "source": [
    "import torch\n",
    "import torch.utils.data as data\n",
    "\n",
    "class ProtDataset(data.Dataset):\n",
    "    def __init__(self, feats, labels, train=True):    \n",
    "        self.train = train\n",
    "        self.feats = feats\n",
    "        self.labels = labels\n",
    "    \n",
    "    def __len__(self):\n",
    "        return len(self.feats)\n",
    "    \n",
    "    def __getitem__(self, idx):\n",
    "        \n",
    "        X = self.feats[idx]\n",
    "        y = self.labels[idx]\n",
    "\n",
    "        return X, y\n",
    "\n",
    "\n",
    "min_d = 7\n",
    "sub_list = list(np.where(datafile['hd'] < min_d)[0])\n",
    "comp_list = list(np.where(datafile['hd'] >= min_d)[0])\n",
    "\n",
    "num_train = len(sub_list)\n",
    "num_test = 1000\n",
    "\n",
    "train_list = np.random.choice(sub_list, num_train)\n",
    "test_list = np.random.choice(comp_list, num_test)"
   ]
  },
  {
   "cell_type": "code",
   "execution_count": 12,
   "id": "771352ba-e51f-4dfc-b757-0bc4129dad56",
   "metadata": {
    "tags": []
   },
   "outputs": [
    {
     "data": {
      "image/png": "[encoded data removed]",
      "text/plain": [
       "<Figure size 640x480 with 1 Axes>"
      ]
     },
     "metadata": {},
     "output_type": "display_data"
    }
   ],
   "source": [
    "plt.hist(phenotypes[train_list].flatten().numpy(), density=True, alpha=.5)\n",
    "plt.hist(phenotypes[test_list].flatten().numpy(), density=True, alpha=.5)\n",
    "plt.show()"
   ]
  },
  {
   "cell_type": "code",
   "execution_count": 14,
   "id": "a12b956f-7622-44d0-b05e-4c420c7368ea",
   "metadata": {
    "tags": []
   },
   "outputs": [
    {
     "data": {
      "text/plain": [
       "torch.Size([42328, 28])"
      ]
     },
     "execution_count": 14,
     "metadata": {},
     "output_type": "execute_result"
    }
   ],
   "source": [
    "seqs.shape"
   ]
  },
  {
   "cell_type": "markdown",
   "id": "0973e263-c868-4813-aeaa-f78d2b923408",
   "metadata": {
    "tags": []
   },
   "source": [
    "### Fit Linear model"
   ]
  },
  {
   "cell_type": "code",
   "execution_count": 13,
   "id": "b12c4363-4e88-4e75-96da-5c28c72a8ec1",
   "metadata": {
    "tags": []
   },
   "outputs": [
    {
     "data": {
      "text/plain": [
       "torch.Size([36611, 560])"
      ]
     },
     "execution_count": 13,
     "metadata": {},
     "output_type": "execute_result"
    }
   ],
   "source": [
    "X = seqs1hf.float().to(device)\n",
    "y = phenotypes.to(device)\n",
    "\n",
    "X_train, y_train = X[train_list], y[train_list]\n",
    "X_test, y_test = X[test_list], y[test_list]\n",
    "\n",
    "train_dataset = ProtDataset(X_train, y_train)\n",
    "train_loader = data.DataLoader(train_dataset,\n",
    "                               batch_size=1000,\n",
    "                               shuffle=True,\n",
    "                               drop_last=False)\n",
    "\n",
    "X_train.shape"
   ]
  },
  {
   "cell_type": "code",
   "execution_count": 33,
   "id": "8ff936fe-59fe-443b-81a0-ded68534c281",
   "metadata": {
    "tags": []
   },
   "outputs": [],
   "source": [
    "# # Define the linear regression model as provided\n",
    "# class LinearRegressionModel(nn.Module):\n",
    "#     @nn.compact\n",
    "#     def __call__(self, x, train:bool):\n",
    "#         batch_size = x.shape[0]        \n",
    "#         x = x.reshape(batch_size, -1)\n",
    "#         weights = self.param('weights', lambda key, shape: jax.random.normal(key, shape=shape), (L*AA_size,))\n",
    "#         bias = self.param('bias', lambda key, shape: jax.random.normal(key, shape=shape), ())\n",
    "#         scale = self.param('scale', lambda key, shape: jax.random.normal(key, shape=shape), ())\n",
    "#         x = jnp.dot(x, weights)\n",
    "#         x = x.reshape(-1, 1)\n",
    "#         x = nn.BatchNorm(use_running_average=not train)(x)\n",
    "#         x = x.reshape(-1)        \n",
    "\n",
    "#         # return linear_output\n",
    "#         return scale*nn.sigmoid(x) + bias\n",
    "\n",
    "# # Define a custom loss function (mean squared error)\n",
    "# def mse_loss(params, x, y):\n",
    "#     predictions, _ = model.apply(params, x, train=True, mutable=['batch_stats'])\n",
    "#     loss = jnp.mean((predictions - y) ** 2)\n",
    "#     return loss\n",
    "\n",
    "# # Create an instance of the model\n",
    "# model = LinearRegressionModel()"
   ]
  },
  {
   "cell_type": "code",
   "execution_count": 34,
   "id": "f7b53784-66d2-449e-b29f-d683f2940c1d",
   "metadata": {
    "tags": []
   },
   "outputs": [],
   "source": [
    "class LinearModel(nn.Module):\n",
    "    def __init__(self):\n",
    "        super(LinearModel, self).__init__()\n",
    "        self.fc = nn.Linear((AA_size)*L, 1)\n",
    "        self.sigmoid_norm = nn.BatchNorm1d(1, affine=False)                \n",
    "        self.sigmoid = nn.Sigmoid()\n",
    "        self.sigmoid_scale = nn.Linear(1, 1)        \n",
    "        \n",
    "    def forward(self, x):\n",
    "        x = self.fc(x)\n",
    "        # x = self.sigmoid_norm(x)\n",
    "        x = self.sigmoid(x)\n",
    "        x = self.sigmoid_scale(x)        \n",
    "            \n",
    "        return x"
   ]
  },
  {
   "cell_type": "code",
   "execution_count": 35,
   "id": "183070fe-d539-41f0-a205-bd8b5703bd2f",
   "metadata": {
    "tags": []
   },
   "outputs": [
    {
     "data": {
      "image/png": "[encoded data removed]",
      "text/plain": [
       "<Figure size 640x480 with 1 Axes>"
      ]
     },
     "metadata": {},
     "output_type": "display_data"
    }
   ],
   "source": [
    "x, y = next(iter(train_loader))\n",
    "model = LinearModel().cuda()\n",
    "output = model(x)\n",
    "\n",
    "plt.hist(output.detach().cpu().numpy())\n",
    "plt.show()"
   ]
  },
  {
   "cell_type": "code",
   "execution_count": 36,
   "id": "337ffb1a-8216-49a8-8264-4ecfe0c1f421",
   "metadata": {
    "tags": []
   },
   "outputs": [
    {
     "name": "stdout",
     "output_type": "stream",
     "text": [
      "Epoch 1/100, Loss: 9.8322402335502\n",
      "0.024941992416781286\n",
      "Epoch 11/100, Loss: 3.7727202531453727\n",
      "0.38010710994807434\n",
      "Epoch 21/100, Loss: 2.2568849711804777\n",
      "0.5595099926399878\n",
      "Epoch 31/100, Loss: 2.0578013175242655\n",
      "0.6024936311474861\n",
      "Epoch 41/100, Loss: 2.029458323040524\n",
      "0.6145698905367221\n",
      "Epoch 51/100, Loss: 2.02229808150111\n",
      "0.6202756559025564\n",
      "Epoch 61/100, Loss: 2.016182957468806\n",
      "0.6208457463554854\n",
      "Epoch 71/100, Loss: 2.0185898542404175\n",
      "0.6229301355208989\n",
      "Epoch 81/100, Loss: 2.0215456679060653\n",
      "0.6241046383363029\n",
      "Epoch 91/100, Loss: 2.0085599809079557\n",
      "0.6170233002618827\n"
     ]
    }
   ],
   "source": [
    "import torch.optim as optim\n",
    "import torch\n",
    "import torch.nn as nn\n",
    "\n",
    "\n",
    "from scipy.stats import pearsonr\n",
    "learning_rate = 0.01\n",
    "epochs = 100\n",
    "\n",
    "criterion = nn.MSELoss()\n",
    "optimizer = optim.Adam(model.parameters(), lr=learning_rate)\n",
    "\n",
    "for epoch in range(epochs):\n",
    "    total_loss = 0\n",
    "    for batch_inputs, batch_targets in train_loader:\n",
    "        model.train()\n",
    "        optimizer.zero_grad()\n",
    "        outputs = model(batch_inputs)\n",
    "        loss = criterion(outputs, batch_targets)\n",
    "        loss.backward()\n",
    "        optimizer.step()\n",
    "        total_loss += loss.item()\n",
    "    \n",
    "    if epoch % 10 == 0:\n",
    "        print(f\"Epoch {epoch+1}/{epochs}, Loss: {total_loss/len(train_loader)}\")\n",
    "        model.eval()\n",
    "        pred, true = model(X_test.flatten(1)).flatten().detach().cpu().numpy(), y_test.flatten().detach().cpu().numpy()\n",
    "        print(pearsonr(pred, true)[0]**2)"
   ]
  },
  {
   "cell_type": "code",
   "execution_count": 15,
   "id": "070f5368-5560-4413-b722-c4e4073c8cb8",
   "metadata": {
    "tags": []
   },
   "outputs": [
    {
     "data": {
      "text/plain": [
       "<matplotlib.collections.PathCollection at 0x150d7a34ed10>"
      ]
     },
     "execution_count": 15,
     "metadata": {},
     "output_type": "execute_result"
    },
    {
     "data": {
      "image/png": "[encoded data removed]",
      "text/plain": [
       "<Figure size 640x480 with 1 Axes>"
      ]
     },
     "metadata": {},
     "output_type": "display_data"
    }
   ],
   "source": [
    "pred, true = model(X_test.flatten(1)).flatten().detach().cpu().numpy(), y_test.flatten().detach().cpu().numpy()\n",
    "plt.scatter(pred, true)"
   ]
  },
  {
   "cell_type": "markdown",
   "id": "bdb8456a-e4e1-4502-8f13-7208968e6738",
   "metadata": {},
   "source": [
    "### Fit transformer"
   ]
  },
  {
   "cell_type": "code",
   "execution_count": 37,
   "id": "758919ee-e105-4ba0-bab8-5d34f836e2a9",
   "metadata": {
    "tags": []
   },
   "outputs": [],
   "source": [
    "# seqs = seqs + AA_size*torch.tensor(range(L))\n",
    "\n",
    "# X = seqs.to(device)\n",
    "# y = phenotypes.to(device)\n",
    "\n",
    "\n",
    "# train_list = np.random.choice(len(X), num_train)\n",
    "# comp_list = list(set(range(len(X))).difference(train_list))\n",
    "# test_list = np.random.choice(comp_list, num_test)\n",
    "\n",
    "# X_train, y_train = X[train_list], y[train_list]\n",
    "# X_test, y_test = X[test_list], y[test_list]\n",
    "\n",
    "# train_dataset = ProtDataset(X_train, y_train)\n",
    "# train_loader = data.DataLoader(train_dataset,\n",
    "#                                batch_size=1000,\n",
    "#                                shuffle=True,\n",
    "#                                drop_last=False)"
   ]
  },
  {
   "cell_type": "code",
   "execution_count": 11,
   "id": "2e464895-21ca-4319-8c40-0b958fc52dec",
   "metadata": {
    "tags": []
   },
   "outputs": [],
   "source": [
    "seqs = seqs + AA_size*torch.tensor(range(L))\n",
    "\n",
    "X = seqs.to(device)\n",
    "y = phenotypes.to(device)\n",
    "\n",
    "X_train, y_train = X[train_list], y[train_list]\n",
    "X_test, y_test = X[test_list], y[test_list]\n",
    "\n",
    "train_dataset = ProtDataset(X_train, y_train)\n",
    "train_loader = data.DataLoader(train_dataset,\n",
    "                               batch_size=1000,\n",
    "                               shuffle=True,\n",
    "                               drop_last=False)"
   ]
  },
  {
   "cell_type": "code",
   "execution_count": 56,
   "id": "2b687d7c-d7c1-4e81-b899-9d240bc3f12d",
   "metadata": {
    "tags": []
   },
   "outputs": [],
   "source": [
    "# This works!!\n",
    "import torch\n",
    "import torch.nn as nn\n",
    "import torch.optim as optim\n",
    "from torch.utils.data import DataLoader, TensorDataset\n",
    "import numpy as np\n",
    "\n",
    "\n",
    "import torch\n",
    "import torch.nn as nn\n",
    "\n",
    "class MultiHeadAttentionLayer(nn.Module):\n",
    "    def __init__(self, hidden_dim, num_heads, dropout):\n",
    "        super(MultiHeadAttentionLayer, self).__init__()\n",
    "        self.multihead_attn = nn.MultiheadAttention(hidden_dim, num_heads, dropout)\n",
    "        # self.multihead_attn = MultiheadAttention(hidden_dim, hidden_dim, num_heads)        \n",
    "        self.layer_norm = nn.LayerNorm(hidden_dim)\n",
    "        \n",
    "    def forward(self, x):\n",
    "        attn_output, _ = self.multihead_attn(x, x, x)\n",
    "        x = x + attn_output\n",
    "        # x = self.layer_norm(x + attn_output)\n",
    "        return x\n",
    "\n",
    "class CustomTransformer(nn.Module):\n",
    "    def __init__(self, input_dim, hidden_dim, num_layers, num_heads, dropout):\n",
    "        super(CustomTransformer, self).__init__()\n",
    "\n",
    "        self.embedding = nn.Embedding(input_dim, hidden_dim)\n",
    "        \n",
    "        self.transformer_layers = nn.ModuleList([\n",
    "            MultiHeadAttentionLayer(hidden_dim, num_heads, dropout) for _ in range(num_layers)\n",
    "        ])\n",
    "        # self.fc = nn.Linear(hidden_dim, 1)\n",
    "        self.fc = nn.Linear(hidden_dim*L, 1)        \n",
    "        self.sigmoid_norm = nn.BatchNorm1d(1, affine=False)        \n",
    "        self.sigmoid = nn.Sigmoid()\n",
    "        self.phi_scaling = nn.Linear(1, 1)\n",
    "        self.sigmoid_scaling = nn.Linear(1, 1)\n",
    "\n",
    "    def forward(self, x):\n",
    "\n",
    "        x = self.embedding(x)\n",
    "        x = x.permute(1, 0, 2)  # seq_len x batch x hidden_dim\n",
    "        \n",
    "        for layer in self.transformer_layers:\n",
    "            x = layer(x)\n",
    "            \n",
    "        # x = torch.mean(x, dim=0)  # batch x hidden_dim\n",
    "        x = x.permute(1, 0, 2)\n",
    "        x = x.flatten(1)\n",
    "        # print(x.shape)\n",
    "        x = self.fc(x)  # batch x 1 (scalar)\n",
    "        x = self.sigmoid_norm(x)\n",
    "#         mean = torch.mean(x)\n",
    "#         std = torch.std(x)\n",
    "#         x = (x - mean) / std\n",
    "        \n",
    "        # x = self.phi_scaling(x)\n",
    "        x = self.sigmoid(x)\n",
    "        x = self.sigmoid_scaling(x)\n",
    "\n",
    "        return x"
   ]
  },
  {
   "cell_type": "code",
   "execution_count": 64,
   "id": "26141155-0c6c-4945-91d3-f4eb7674bdcb",
   "metadata": {
    "tags": []
   },
   "outputs": [],
   "source": [
    "batch_size = 1000\n",
    "sequence_length = L\n",
    "input_dim = AA_size*L\n",
    "output_dim = 1\n",
    "hidden_dim = 128\n",
    "num_layers = 1\n",
    "num_heads = 4\n",
    "dropout = 0.3\n",
    "\n",
    "model = CustomTransformer(input_dim, hidden_dim, num_layers, num_heads, dropout).to(device)"
   ]
  },
  {
   "cell_type": "code",
   "execution_count": 65,
   "id": "687ab889-b577-48c9-bb7a-76302c199420",
   "metadata": {
    "tags": []
   },
   "outputs": [],
   "source": [
    "x, y = next(iter(train_loader))\n",
    "output = model(x)"
   ]
  },
  {
   "cell_type": "code",
   "execution_count": 66,
   "id": "7b272a1e-dba6-40d8-bf15-34f62b57a155",
   "metadata": {
    "tags": []
   },
   "outputs": [
    {
     "name": "stdout",
     "output_type": "stream",
     "text": [
      "Epoch 1/1000, Loss: 8.759671262792638\n",
      "0.4153721905287391\n",
      "Epoch 11/1000, Loss: 8.181390272604453\n",
      "0.6964863673649909\n",
      "Epoch 21/1000, Loss: 7.683006015983787\n",
      "0.7211659913421138\n",
      "Epoch 31/1000, Loss: 7.230927222483867\n",
      "0.7325200962961447\n",
      "Epoch 41/1000, Loss: 6.8014540543427335\n",
      "0.728630221183971\n",
      "Epoch 51/1000, Loss: 6.401387614172858\n",
      "0.7315948752100712\n",
      "Epoch 61/1000, Loss: 6.014876056361842\n",
      "0.7360724837626198\n",
      "Epoch 71/1000, Loss: 5.664282747217126\n",
      "0.7338660830141267\n",
      "Epoch 81/1000, Loss: 5.298930683651486\n",
      "0.7296137763260346\n",
      "Epoch 91/1000, Loss: 4.9717204635207715\n",
      "0.7276161086352673\n",
      "Epoch 101/1000, Loss: 4.647598305264035\n",
      "0.7256266590728206\n",
      "Epoch 111/1000, Loss: 4.3489008336453825\n",
      "0.7286679829516998\n",
      "Epoch 121/1000, Loss: 4.05682608887956\n",
      "0.7263045943848497\n",
      "Epoch 131/1000, Loss: 3.7755146155486234\n",
      "0.723828285837423\n",
      "Epoch 141/1000, Loss: 3.5150543032465755\n",
      "0.7260696850205531\n",
      "Epoch 151/1000, Loss: 3.267902979979644\n",
      "0.7246402672125442\n",
      "Epoch 161/1000, Loss: 3.0231162728490055\n",
      "0.7204499654885994\n",
      "Epoch 171/1000, Loss: 2.7955821462579675\n",
      "0.7114195405333902\n",
      "Epoch 181/1000, Loss: 2.5815384581282332\n",
      "0.7197507411421958\n",
      "Epoch 191/1000, Loss: 2.3779518088778935\n",
      "0.7121171522095257\n",
      "Epoch 201/1000, Loss: 2.1811521729907475\n",
      "0.7115397399959665\n",
      "Epoch 211/1000, Loss: 2.001881425445144\n",
      "0.7104987148786813\n",
      "Epoch 221/1000, Loss: 1.8284049452962101\n",
      "0.7090687512784805\n",
      "Epoch 231/1000, Loss: 1.6757330604501672\n",
      "0.704049019458176\n",
      "Epoch 241/1000, Loss: 1.5235820589838802\n",
      "0.7095274687151634\n",
      "Epoch 251/1000, Loss: 1.383020552428993\n",
      "0.7049300694465808\n",
      "Epoch 261/1000, Loss: 1.25739514505541\n",
      "0.7064453870668119\n",
      "Epoch 271/1000, Loss: 1.1382369141320925\n",
      "0.7057590955874815\n",
      "Epoch 281/1000, Loss: 1.0270947926753276\n",
      "0.7113239336590971\n",
      "Epoch 291/1000, Loss: 0.9257704728358501\n",
      "0.702073899733487\n",
      "Epoch 301/1000, Loss: 0.8315411338935027\n",
      "0.7084322995272848\n",
      "Epoch 311/1000, Loss: 0.7549725400434958\n",
      "0.705320859006487\n",
      "Epoch 321/1000, Loss: 0.6804405241399198\n",
      "0.694504523227029\n",
      "Epoch 331/1000, Loss: 0.611801943263492\n",
      "0.7004633491185404\n",
      "Epoch 341/1000, Loss: 0.5517773644344227\n",
      "0.6970271646919565\n",
      "Epoch 351/1000, Loss: 0.5048331916332245\n",
      "0.6952124268904909\n",
      "Epoch 361/1000, Loss: 0.4590677989495767\n",
      "0.6997844039484181\n",
      "Epoch 371/1000, Loss: 0.4232837928308023\n",
      "0.6984162150377152\n",
      "Epoch 381/1000, Loss: 0.39343560627988866\n",
      "0.6979769122239523\n",
      "Epoch 391/1000, Loss: 0.3628774978019096\n",
      "0.7035325310345095\n",
      "Epoch 401/1000, Loss: 0.3465629203899487\n",
      "0.7041768493414216\n",
      "Epoch 411/1000, Loss: 0.3330582412513527\n",
      "0.7036852443508838\n",
      "Epoch 421/1000, Loss: 0.3102289261044683\n",
      "0.6891346854251729\n",
      "Epoch 431/1000, Loss: 0.30384810550792796\n",
      "0.6915874846328619\n",
      "Epoch 441/1000, Loss: 0.29140832214742096\n",
      "0.7029530691546394\n",
      "Epoch 451/1000, Loss: 0.2845227267291095\n",
      "0.6950338475274355\n",
      "Epoch 461/1000, Loss: 0.27645069159365987\n",
      "0.6995539922925403\n",
      "Epoch 471/1000, Loss: 0.273257385234575\n",
      "0.6945829246293268\n",
      "Epoch 481/1000, Loss: 0.27392431610339396\n",
      "0.6878073338620936\n",
      "Epoch 491/1000, Loss: 0.2635168465408119\n",
      "0.7012046056541432\n",
      "Epoch 501/1000, Loss: 0.2644600944744574\n",
      "0.6975849905810944\n",
      "Epoch 511/1000, Loss: 0.2643812999532029\n",
      "0.6927406745995829\n",
      "Epoch 521/1000, Loss: 0.2574872511464196\n",
      "0.6837033688338294\n",
      "Epoch 531/1000, Loss: 0.25405387258207474\n",
      "0.69084707315492\n",
      "Epoch 541/1000, Loss: 0.2575694310504037\n",
      "0.6921387561091585\n",
      "Epoch 551/1000, Loss: 0.2514644700127679\n",
      "0.6912162603987348\n",
      "Epoch 561/1000, Loss: 0.25228584618181793\n",
      "0.7022852572230689\n",
      "Epoch 571/1000, Loss: 0.2501411562835848\n",
      "0.6888429758203436\n",
      "Epoch 581/1000, Loss: 0.24387821192676956\n",
      "0.6960494842329028\n",
      "Epoch 591/1000, Loss: 0.2425985690709707\n",
      "0.6931578747016481\n",
      "Epoch 601/1000, Loss: 0.237788820991645\n",
      "0.6820302838875059\n",
      "Epoch 611/1000, Loss: 0.23842031770461314\n",
      "0.6951060833429186\n",
      "Epoch 621/1000, Loss: 0.23638136241887067\n",
      "0.6849475948285979\n",
      "Epoch 631/1000, Loss: 0.23789707873318647\n",
      "0.6924137917958817\n",
      "Epoch 641/1000, Loss: 0.23787045639914436\n",
      "0.6911917229085167\n",
      "Epoch 651/1000, Loss: 0.24117530157437195\n",
      "0.6927577102096754\n",
      "Epoch 661/1000, Loss: 0.229962389614131\n",
      "0.6889069881904608\n",
      "Epoch 671/1000, Loss: 0.23750347060126228\n",
      "0.6939048171307209\n",
      "Epoch 681/1000, Loss: 0.2377617798141531\n",
      "0.6852992701633198\n",
      "Epoch 691/1000, Loss: 0.2287537157535553\n",
      "0.6889364637469754\n",
      "Epoch 701/1000, Loss: 0.23006408319279953\n",
      "0.6910330591708216\n",
      "Epoch 711/1000, Loss: 0.23002828456260063\n",
      "0.690099518303467\n",
      "Epoch 721/1000, Loss: 0.22395528289111885\n",
      "0.6875135649594977\n",
      "Epoch 731/1000, Loss: 0.2253989259133468\n",
      "0.6934837020221223\n",
      "Epoch 741/1000, Loss: 0.22692647737425728\n",
      "0.6940662946800258\n",
      "Epoch 751/1000, Loss: 0.2284283380250673\n",
      "0.6902032478223104\n",
      "Epoch 761/1000, Loss: 0.22798822739639799\n",
      "0.6875741477949744\n",
      "Epoch 771/1000, Loss: 0.22303700366535703\n",
      "0.6916161428557459\n",
      "Epoch 781/1000, Loss: 0.22168060976105766\n",
      "0.6893238685164582\n",
      "Epoch 791/1000, Loss: 0.21981972174064532\n",
      "0.6963624070734535\n",
      "Epoch 801/1000, Loss: 0.2224138995280137\n",
      "0.6882171170328274\n",
      "Epoch 811/1000, Loss: 0.22100687389438217\n",
      "0.684603762103043\n",
      "Epoch 821/1000, Loss: 0.21440640132169467\n",
      "0.6939460112163425\n",
      "Epoch 831/1000, Loss: 0.21770147334884954\n",
      "0.6845871599114238\n",
      "Epoch 841/1000, Loss: 0.2169969440311999\n",
      "0.693342679308977\n",
      "Epoch 851/1000, Loss: 0.21539238820204865\n",
      "0.6869253949914765\n",
      "Epoch 861/1000, Loss: 0.21528698101237015\n",
      "0.6858350239870136\n",
      "Epoch 871/1000, Loss: 0.21109852678066976\n",
      "0.6951179294746336\n",
      "Epoch 881/1000, Loss: 0.21430707461125142\n",
      "0.6855446829441872\n",
      "Epoch 891/1000, Loss: 0.2181310250952437\n",
      "0.6924917985586986\n",
      "Epoch 901/1000, Loss: 0.2135460996949995\n",
      "0.6922455725458775\n",
      "Epoch 911/1000, Loss: 0.20696932802329193\n",
      "0.6956142305225909\n",
      "Epoch 921/1000, Loss: 0.20942288314973986\n",
      "0.6834050373496242\n",
      "Epoch 931/1000, Loss: 0.20769591710051974\n",
      "0.6881129692035386\n",
      "Epoch 941/1000, Loss: 0.20859045354095665\n",
      "0.6919002237014984\n",
      "Epoch 951/1000, Loss: 0.20522552446739092\n",
      "0.6891389175715102\n",
      "Epoch 961/1000, Loss: 0.21384625459039533\n",
      "0.687884484136775\n",
      "Epoch 971/1000, Loss: 0.2092013661120389\n",
      "0.6927115415781804\n",
      "Epoch 981/1000, Loss: 0.20152632046390223\n",
      "0.691180086348383\n",
      "Epoch 991/1000, Loss: 0.20389303645572146\n",
      "0.6945743309345893\n"
     ]
    }
   ],
   "source": [
    "from scipy.stats import pearsonr\n",
    "learning_rate = 0.001\n",
    "epochs = 1000\n",
    "\n",
    "criterion = nn.MSELoss()\n",
    "optimizer = optim.Adam(model.parameters(), lr=learning_rate)\n",
    "\n",
    "for epoch in range(epochs):\n",
    "    model.train()\n",
    "    total_loss = 0\n",
    "    for batch_inputs, batch_targets in train_loader:\n",
    "        optimizer.zero_grad()\n",
    "        outputs = model(batch_inputs)\n",
    "        loss = criterion(outputs, batch_targets)\n",
    "        loss.backward()\n",
    "        optimizer.step()\n",
    "        total_loss += loss.item()\n",
    "    \n",
    "    if epoch % 10 == 0:\n",
    "        print(f\"Epoch {epoch+1}/{epochs}, Loss: {total_loss/len(train_loader)}\")\n",
    "        model.eval()\n",
    "        pred, true = model(X_test.flatten(1)).flatten().detach().cpu().numpy(), y_test.flatten().detach().cpu().numpy()\n",
    "        print(pearsonr(pred, true)[0]**2)"
   ]
  },
  {
   "cell_type": "code",
   "execution_count": 67,
   "id": "b6bc7de6-97b0-4066-a319-995e0e31781e",
   "metadata": {
    "tags": []
   },
   "outputs": [
    {
     "name": "stdout",
     "output_type": "stream",
     "text": [
      " Test R2 = 0.688692497836493\n"
     ]
    },
    {
     "data": {
      "image/png": "[encoded data removed]",
      "text/plain": [
       "<Figure size 640x480 with 1 Axes>"
      ]
     },
     "metadata": {},
     "output_type": "display_data"
    }
   ],
   "source": [
    "model.eval()\n",
    "\n",
    "pred, true = model(X_test.flatten(1)).flatten().detach().cpu().numpy(), y_test.flatten().detach().cpu().numpy()\n",
    "print(f' Test R2 = {pearsonr(pred, true)[0]**2}')\n",
    "plt.scatter(pred, true)\n",
    "plt.show()"
   ]
  },
  {
   "cell_type": "code",
   "execution_count": 68,
   "id": "182e1f53-1973-4a73-bb17-5d88b2c79ecb",
   "metadata": {
    "tags": []
   },
   "outputs": [],
   "source": [
    "batch_size = 1000\n",
    "sequence_length = L\n",
    "input_dim = AA_size*L\n",
    "output_dim = 1\n",
    "hidden_dim = 128\n",
    "num_layers = 6\n",
    "num_heads = 4\n",
    "dropout = 0.3\n",
    "\n",
    "model = CustomTransformer(input_dim, hidden_dim, num_layers, num_heads, dropout).to(device)"
   ]
  },
  {
   "cell_type": "code",
   "execution_count": 69,
   "id": "8292afa6-eb0d-4e70-8a75-3db77beabc03",
   "metadata": {
    "tags": []
   },
   "outputs": [],
   "source": [
    "x, y = next(iter(train_loader))\n",
    "output = model(x)"
   ]
  },
  {
   "cell_type": "code",
   "execution_count": 70,
   "id": "101856b9-ac01-4ac6-9226-b02103d9b3af",
   "metadata": {
    "tags": []
   },
   "outputs": [
    {
     "name": "stdout",
     "output_type": "stream",
     "text": [
      "Epoch 1/1000, Loss: 11.9718991356927\n",
      "0.4638747631840506\n",
      "Epoch 11/1000, Loss: 9.983882362778122\n",
      "0.7513525667210674\n",
      "Epoch 21/1000, Loss: 8.719082574586611\n",
      "0.7662722758984492\n",
      "Epoch 31/1000, Loss: 7.935006450962376\n",
      "0.7822042933755139\n",
      "Epoch 41/1000, Loss: 7.459245617325242\n",
      "0.785637511914741\n",
      "Epoch 51/1000, Loss: 7.1205887278994995\n",
      "0.7980858721358735\n",
      "Epoch 61/1000, Loss: 6.842918537758492\n",
      "0.7968086417205654\n",
      "Epoch 71/1000, Loss: 6.5552950678644955\n",
      "0.7869151092329981\n",
      "Epoch 81/1000, Loss: 6.258501954980798\n",
      "0.7887378899997284\n",
      "Epoch 91/1000, Loss: 5.951318354220004\n",
      "0.7957080259515488\n",
      "Epoch 101/1000, Loss: 5.635279694119015\n",
      "0.7948817521990719\n",
      "Epoch 111/1000, Loss: 5.316952885808171\n",
      "0.8043244117691738\n",
      "Epoch 121/1000, Loss: 5.004644316595954\n",
      "0.7943134215757777\n",
      "Epoch 131/1000, Loss: 4.684495964565793\n",
      "0.7946790276749585\n",
      "Epoch 141/1000, Loss: 4.382247783042289\n",
      "0.800531399361549\n",
      "Epoch 151/1000, Loss: 4.0866866562817545\n",
      "0.7927167528333373\n",
      "Epoch 161/1000, Loss: 3.805617416227186\n",
      "0.8000998321145824\n",
      "Epoch 171/1000, Loss: 3.5311629192249194\n",
      "0.8011190871298135\n",
      "Epoch 181/1000, Loss: 3.269774610931809\n",
      "0.7976681201983072\n",
      "Epoch 191/1000, Loss: 3.0201533098478577\n",
      "0.8016173120425486\n",
      "Epoch 201/1000, Loss: 2.780776326720779\n",
      "0.7997538313783624\n",
      "Epoch 211/1000, Loss: 2.5599222118790084\n",
      "0.8004281947457446\n",
      "Epoch 221/1000, Loss: 2.3491132162712716\n",
      "0.8010952509317739\n",
      "Epoch 231/1000, Loss: 2.1405368656725496\n",
      "0.7995620532224632\n",
      "Epoch 241/1000, Loss: 1.948674575702564\n",
      "0.8003820562016504\n",
      "Epoch 251/1000, Loss: 1.7730969931628253\n",
      "0.7974675466411729\n",
      "Epoch 261/1000, Loss: 1.6014929236592472\n",
      "0.7919655260339454\n",
      "Epoch 271/1000, Loss: 1.4449721381470964\n",
      "0.7991008912495003\n",
      "Epoch 281/1000, Loss: 1.2992913014179952\n",
      "0.7949827611480962\n",
      "Epoch 291/1000, Loss: 1.1648523678650726\n",
      "0.7972491144971287\n",
      "Epoch 301/1000, Loss: 1.0347010751028318\n",
      "0.7993593024273824\n",
      "Epoch 311/1000, Loss: 0.9166622113537144\n",
      "0.7954950630544558\n",
      "Epoch 321/1000, Loss: 0.8038308088843887\n",
      "0.7946808054515131\n",
      "Epoch 331/1000, Loss: 0.710740458320927\n",
      "0.7981227756068858\n",
      "Epoch 341/1000, Loss: 0.6205364417385411\n",
      "0.7974709857777993\n",
      "Epoch 351/1000, Loss: 0.5376580760285661\n",
      "0.785951259759234\n",
      "Epoch 361/1000, Loss: 0.4653935931824349\n",
      "0.7868098076184356\n",
      "Epoch 371/1000, Loss: 0.39974979532731547\n",
      "0.7900830372068233\n",
      "Epoch 381/1000, Loss: 0.34910425624331914\n",
      "0.7893127618387109\n",
      "Epoch 391/1000, Loss: 0.2973416596651077\n",
      "0.7875992558713173\n",
      "Epoch 401/1000, Loss: 0.2542636257571143\n",
      "0.7923305636395589\n",
      "Epoch 411/1000, Loss: 0.2244575788845887\n",
      "0.7875657437344828\n",
      "Epoch 421/1000, Loss: 0.1829215715060363\n",
      "0.7861436839522028\n",
      "Epoch 431/1000, Loss: 0.16150925389012774\n",
      "0.7853213454546871\n",
      "Epoch 441/1000, Loss: 0.14209019211498466\n",
      "0.7855883162111528\n",
      "Epoch 451/1000, Loss: 0.12673261520024892\n",
      "0.7806111188817405\n",
      "Epoch 461/1000, Loss: 0.10888893157243729\n",
      "0.7786518628927479\n",
      "Epoch 471/1000, Loss: 0.09281321655254106\n",
      "0.7760308984958151\n",
      "Epoch 481/1000, Loss: 0.09507569992864454\n",
      "0.7745665352969263\n",
      "Epoch 491/1000, Loss: 0.08578594814281205\n",
      "0.7797229896698257\n",
      "Epoch 501/1000, Loss: 0.07677653280867112\n",
      "0.7727928551364689\n",
      "Epoch 511/1000, Loss: 0.07511486445327063\n",
      "0.7714140806620032\n",
      "Epoch 521/1000, Loss: 0.0725987630115973\n",
      "0.7739629589548931\n",
      "Epoch 531/1000, Loss: 0.06431544682866819\n",
      "0.7799600123718007\n",
      "Epoch 541/1000, Loss: 0.06714663000122921\n",
      "0.77532988666434\n",
      "Epoch 551/1000, Loss: 0.07282304582563606\n",
      "0.7780122665644317\n",
      "Epoch 561/1000, Loss: 0.06509418745298644\n",
      "0.775864333836257\n",
      "Epoch 571/1000, Loss: 0.06013201388555604\n",
      "0.7778263618707892\n",
      "Epoch 581/1000, Loss: 0.0559423411818775\n",
      "0.770125463187026\n",
      "Epoch 591/1000, Loss: 0.0639386190151846\n",
      "0.7721292231629383\n",
      "Epoch 601/1000, Loss: 0.059152457359674816\n",
      "0.7647291122907067\n",
      "Epoch 611/1000, Loss: 0.05970179792996999\n",
      "0.7669620204405069\n",
      "Epoch 621/1000, Loss: 0.06341987163633914\n",
      "0.7723395879871516\n",
      "Epoch 631/1000, Loss: 0.05695209491091806\n",
      "0.7718683572950906\n",
      "Epoch 641/1000, Loss: 0.054072801829189866\n",
      "0.7734693923425267\n",
      "Epoch 651/1000, Loss: 0.06540699222603359\n",
      "0.7712923007167494\n",
      "Epoch 661/1000, Loss: 0.05769641455766317\n",
      "0.7564507796772728\n",
      "Epoch 671/1000, Loss: 0.05385164846036885\n",
      "0.7662370530599197\n",
      "Epoch 681/1000, Loss: 0.05765407633137058\n",
      "0.7530940861303411\n",
      "Epoch 691/1000, Loss: 0.04943397762002172\n",
      "0.761522841139114\n",
      "Epoch 701/1000, Loss: 0.050322538996870454\n",
      "0.7539795759467752\n",
      "Epoch 711/1000, Loss: 0.054049485438578834\n",
      "0.7677473311957681\n",
      "Epoch 721/1000, Loss: 0.05052264709327672\n",
      "0.7655261841586634\n",
      "Epoch 731/1000, Loss: 0.05099834390991443\n",
      "0.761623681017389\n",
      "Epoch 741/1000, Loss: 0.04969970237564396\n",
      "0.7568122932170531\n",
      "Epoch 751/1000, Loss: 0.05739037591863323\n",
      "0.7558318960501651\n",
      "Epoch 761/1000, Loss: 0.054242690572062054\n",
      "0.7542257767278\n",
      "Epoch 771/1000, Loss: 0.051049319775523364\n",
      "0.754302779385039\n",
      "Epoch 781/1000, Loss: 0.05057594562704499\n",
      "0.7570465167078276\n",
      "Epoch 791/1000, Loss: 0.04773775014925648\n",
      "0.7529127703505936\n",
      "Epoch 801/1000, Loss: 0.053449643524111926\n",
      "0.7630033222571053\n",
      "Epoch 811/1000, Loss: 0.05329378845321166\n",
      "0.7616441315148297\n",
      "Epoch 821/1000, Loss: 0.048713538292292004\n",
      "0.7537223547397479\n",
      "Epoch 831/1000, Loss: 0.04802400548313115\n",
      "0.7587020887964134\n",
      "Epoch 841/1000, Loss: 0.05761967538981824\n",
      "0.7612236876735543\n",
      "Epoch 851/1000, Loss: 0.04773528461118002\n",
      "0.7620532597754062\n",
      "Epoch 861/1000, Loss: 0.04384776406191491\n",
      "0.7629389529523575\n",
      "Epoch 871/1000, Loss: 0.048200955161371746\n",
      "0.7598209324734271\n",
      "Epoch 881/1000, Loss: 0.05082577849562104\n",
      "0.756026815597882\n",
      "Epoch 891/1000, Loss: 0.04819992969970446\n",
      "0.7567038202924445\n",
      "Epoch 901/1000, Loss: 0.04705096318109615\n",
      "0.7560219096267753\n",
      "Epoch 911/1000, Loss: 0.048344816811181406\n",
      "0.7469813466928045\n",
      "Epoch 921/1000, Loss: 0.05328903508347434\n",
      "0.7493283049706887\n",
      "Epoch 931/1000, Loss: 0.04433080473461667\n",
      "0.7505441481954169\n",
      "Epoch 941/1000, Loss: 0.04813536447850433\n",
      "0.746908173687761\n",
      "Epoch 951/1000, Loss: 0.05386014544480556\n",
      "0.7547394308168753\n",
      "Epoch 961/1000, Loss: 0.04590663273592253\n",
      "0.7383339910019673\n",
      "Epoch 971/1000, Loss: 0.052860299578389607\n",
      "0.7555840626076643\n",
      "Epoch 981/1000, Loss: 0.04830128226328541\n",
      "0.7482951094123351\n",
      "Epoch 991/1000, Loss: 0.05040185918679108\n",
      "0.7508377640387682\n"
     ]
    }
   ],
   "source": [
    "from scipy.stats import pearsonr\n",
    "learning_rate = 0.001\n",
    "epochs = 1000\n",
    "\n",
    "criterion = nn.MSELoss()\n",
    "optimizer = optim.Adam(model.parameters(), lr=learning_rate)\n",
    "\n",
    "for epoch in range(epochs):\n",
    "    model.train()\n",
    "    total_loss = 0\n",
    "    for batch_inputs, batch_targets in train_loader:\n",
    "        optimizer.zero_grad()\n",
    "        outputs = model(batch_inputs)\n",
    "        loss = criterion(outputs, batch_targets)\n",
    "        loss.backward()\n",
    "        optimizer.step()\n",
    "        total_loss += loss.item()\n",
    "    \n",
    "    if epoch % 10 == 0:\n",
    "        print(f\"Epoch {epoch+1}/{epochs}, Loss: {total_loss/len(train_loader)}\")\n",
    "        model.eval()\n",
    "        pred, true = model(X_test.flatten(1)).flatten().detach().cpu().numpy(), y_test.flatten().detach().cpu().numpy()\n",
    "        print(pearsonr(pred, true)[0]**2)"
   ]
  },
  {
   "cell_type": "code",
   "execution_count": 71,
   "id": "69c55684-9ece-479c-a3a2-0779242c2c69",
   "metadata": {
    "tags": []
   },
   "outputs": [
    {
     "name": "stdout",
     "output_type": "stream",
     "text": [
      " Test R2 = 0.748795161125505\n"
     ]
    },
    {
     "data": {
      "image/png": "[encoded data removed]",
      "text/plain": [
       "<Figure size 640x480 with 1 Axes>"
      ]
     },
     "metadata": {},
     "output_type": "display_data"
    }
   ],
   "source": [
    "model.eval()\n",
    "\n",
    "pred, true = model(X_test.flatten(1)).flatten().detach().cpu().numpy(), y_test.flatten().detach().cpu().numpy()\n",
    "print(f' Test R2 = {pearsonr(pred, true)[0]**2}')\n",
    "plt.scatter(pred, true)\n",
    "plt.show()"
   ]
  },
  {
   "cell_type": "code",
   "execution_count": null,
   "id": "85003de0-799d-4520-8bbc-84eef76fb1c5",
   "metadata": {},
   "outputs": [],
   "source": []
  }
 ],
 "metadata": {
  "kernelspec": {
   "display_name": "PyTorch-2.0.1",
   "language": "python",
   "name": "pytorch-2.0.1"
  },
  "language_info": {
   "codemirror_mode": {
    "name": "ipython",
    "version": 3
   },
   "file_extension": ".py",
   "mimetype": "text/x-python",
   "name": "python",
   "nbconvert_exporter": "python",
   "pygments_lexer": "ipython3",
   "version": "3.10.11"
  }
 },
 "nbformat": 4,
 "nbformat_minor": 5
}
